{
 "cells": [
  {
   "cell_type": "code",
   "execution_count": 1,
   "id": "9b7d1d83",
   "metadata": {
    "execution": {
     "iopub.execute_input": "2025-03-26T11:45:31.903675Z",
     "iopub.status.busy": "2025-03-26T11:45:31.903470Z",
     "iopub.status.idle": "2025-03-26T11:45:36.261709Z",
     "shell.execute_reply": "2025-03-26T11:45:36.260970Z"
    },
    "papermill": {
     "duration": 4.365169,
     "end_time": "2025-03-26T11:45:36.263215",
     "exception": false,
     "start_time": "2025-03-26T11:45:31.898046",
     "status": "completed"
    },
    "tags": []
   },
   "outputs": [],
   "source": [
    "import torch \n",
    "import torch.nn as nn\n",
    "import torch.nn.functional as F\n",
    "from torch.autograd import Variable\n",
    "from torch.utils.data import Dataset, DataLoader\n",
    "import os, pathlib, glob, random\n",
    "import numpy as np\n",
    "import matplotlib.pyplot as plt \n",
    "from sklearn.metrics import confusion_matrix\n",
    "import scipy\n",
    "from scipy import io"
   ]
  },
  {
   "cell_type": "code",
   "execution_count": 2,
   "id": "5c0f6b65",
   "metadata": {
    "execution": {
     "iopub.execute_input": "2025-03-26T11:45:36.273275Z",
     "iopub.status.busy": "2025-03-26T11:45:36.272924Z",
     "iopub.status.idle": "2025-03-26T11:45:36.328910Z",
     "shell.execute_reply": "2025-03-26T11:45:36.327733Z"
    },
    "papermill": {
     "duration": 0.062477,
     "end_time": "2025-03-26T11:45:36.330710",
     "exception": false,
     "start_time": "2025-03-26T11:45:36.268233",
     "status": "completed"
    },
    "tags": []
   },
   "outputs": [
    {
     "name": "stdout",
     "output_type": "stream",
     "text": [
      "cuda:0\n"
     ]
    }
   ],
   "source": [
    "device = torch.device('cuda:0' if torch.cuda.is_available() else 'cpu')\n",
    "print(device)"
   ]
  },
  {
   "cell_type": "code",
   "execution_count": 3,
   "id": "e5ff6418",
   "metadata": {
    "execution": {
     "iopub.execute_input": "2025-03-26T11:45:36.342483Z",
     "iopub.status.busy": "2025-03-26T11:45:36.342243Z",
     "iopub.status.idle": "2025-03-26T11:45:36.345848Z",
     "shell.execute_reply": "2025-03-26T11:45:36.344940Z"
    },
    "papermill": {
     "duration": 0.010522,
     "end_time": "2025-03-26T11:45:36.347785",
     "exception": false,
     "start_time": "2025-03-26T11:45:36.337263",
     "status": "completed"
    },
    "tags": []
   },
   "outputs": [],
   "source": [
    "batch_size = 32\n",
    "output_nodes = 2\n",
    "learning_rate = 0.003"
   ]
  },
  {
   "cell_type": "code",
   "execution_count": 4,
   "id": "836235a0",
   "metadata": {
    "execution": {
     "iopub.execute_input": "2025-03-26T11:45:36.362136Z",
     "iopub.status.busy": "2025-03-26T11:45:36.361866Z",
     "iopub.status.idle": "2025-03-26T11:45:41.430121Z",
     "shell.execute_reply": "2025-03-26T11:45:41.429090Z"
    },
    "papermill": {
     "duration": 5.075824,
     "end_time": "2025-03-26T11:45:41.431478",
     "exception": false,
     "start_time": "2025-03-26T11:45:36.355654",
     "status": "completed"
    },
    "tags": []
   },
   "outputs": [
    {
     "name": "stdout",
     "output_type": "stream",
     "text": [
      "Training samples: 195996\n",
      "Validation samples: 42004\n"
     ]
    }
   ],
   "source": [
    "import os\n",
    "import random\n",
    "import scipy.io\n",
    "import numpy as np\n",
    "from torch.utils.data import Dataset, DataLoader\n",
    "\n",
    "# Paths for both datasets\n",
    "train_data_paths = [\n",
    "    r\"/kaggle/input/jpd-df2-lfcc/LFCC_T1/train\",  # Language 1\n",
    "    r\"/kaggle/input/jpd-df2-lfcc-t2/LFCC/train\"   # Language 2\n",
    "]\n",
    "validation_data_paths = [\n",
    "    r\"/kaggle/input/jpd-df2-lfcc/LFCC_T1/val\",\n",
    "    r\"/kaggle/input/jpd-df2-lfcc-t2/LFCC/val\"\n",
    "]\n",
    "\n",
    "class MixedPtDataset(Dataset):\n",
    "    def __init__(self, directories):\n",
    "        \"\"\"Load features from multiple directories.\"\"\"\n",
    "        self.files = []\n",
    "        self.class_to_idx = {}\n",
    "\n",
    "        for directory in directories:\n",
    "            classes = sorted(entry.name for entry in os.scandir(directory) if entry.is_dir())\n",
    "            \n",
    "            # Assign class indices if not already assigned\n",
    "            for c in classes:\n",
    "                if c not in self.class_to_idx:\n",
    "                    self.class_to_idx[c] = len(self.class_to_idx)\n",
    "\n",
    "            for c in classes:\n",
    "                c_dir = os.path.join(directory, c)\n",
    "                c_files = [(os.path.join(c_dir, f), self.class_to_idx[c]) for f in os.listdir(c_dir)]\n",
    "                self.files.extend(c_files)\n",
    "\n",
    "        random.shuffle(self.files)\n",
    "\n",
    "    def __len__(self):\n",
    "        return len(self.files)\n",
    "\n",
    "    def __getitem__(self, idx):\n",
    "        filepath, label = self.files[idx]\n",
    "        try:\n",
    "            mat_vals = scipy.io.loadmat(filepath)\n",
    "            data = mat_vals['final'].T\n",
    "            max_len = 800\n",
    "            if max_len > data.shape[0]:\n",
    "                pad_width = max_len - data.shape[0]\n",
    "                data = np.pad(data, pad_width=((0, pad_width), (0, 0)), mode='constant')\n",
    "            else:\n",
    "                data = data[:max_len, :]\n",
    "        except Exception as e:\n",
    "            print(f\"Error loading file {filepath}: {str(e)}\")\n",
    "            return None\n",
    "        return data, label\n",
    "\n",
    "# Combine both datasets\n",
    "train_dataset = MixedPtDataset(train_data_paths)\n",
    "val_dataset = MixedPtDataset(validation_data_paths)\n",
    "\n",
    "class PtDataLoader(DataLoader):\n",
    "    def __init__(self, directories, batch_size, shuffle=True):\n",
    "        dataset = MixedPtDataset(directories)\n",
    "        super().__init__(dataset, batch_size=batch_size, shuffle=shuffle)\n",
    "\n",
    "# Load mixed datasets\n",
    "batch_size = 32\n",
    "train_dataloader = PtDataLoader(directories=train_data_paths, batch_size=batch_size)\n",
    "val_dataloader = PtDataLoader(directories=validation_data_paths, batch_size=batch_size)\n",
    "\n",
    "train_count = len(train_dataset)\n",
    "val_count = len(val_dataset)\n",
    "\n",
    "print(f\"Training samples: {train_count}\\nValidation samples: {val_count}\")\n"
   ]
  },
  {
   "cell_type": "code",
   "execution_count": 5,
   "id": "c38fed4e",
   "metadata": {
    "execution": {
     "iopub.execute_input": "2025-03-26T11:45:41.442839Z",
     "iopub.status.busy": "2025-03-26T11:45:41.442597Z",
     "iopub.status.idle": "2025-03-26T11:45:41.445321Z",
     "shell.execute_reply": "2025-03-26T11:45:41.444692Z"
    },
    "papermill": {
     "duration": 0.009431,
     "end_time": "2025-03-26T11:45:41.446511",
     "exception": false,
     "start_time": "2025-03-26T11:45:41.437080",
     "status": "completed"
    },
    "tags": []
   },
   "outputs": [],
   "source": [
    "# train_data_path = r\"/kaggle/input/jpd-df2-lfcc-t2/lfcc/train\"\n",
    "# # test_data_path =r\"/kaggle/input/t1-lfcc-mladdc/LFCC_T1/test\"\n",
    "# validation_data_path= r\"/kaggle/input/jpd-df2-lfcc-t2/lfcc/val\""
   ]
  },
  {
   "cell_type": "code",
   "execution_count": 6,
   "id": "c4323c3a",
   "metadata": {
    "execution": {
     "iopub.execute_input": "2025-03-26T11:45:41.455561Z",
     "iopub.status.busy": "2025-03-26T11:45:41.455332Z",
     "iopub.status.idle": "2025-03-26T11:45:41.458602Z",
     "shell.execute_reply": "2025-03-26T11:45:41.457818Z"
    },
    "papermill": {
     "duration": 0.00901,
     "end_time": "2025-03-26T11:45:41.459709",
     "exception": false,
     "start_time": "2025-03-26T11:45:41.450699",
     "status": "completed"
    },
    "tags": []
   },
   "outputs": [],
   "source": [
    "# class PtDataset(Dataset):\n",
    "#     def __init__(self, directory):\n",
    "#         self.directory = directory\n",
    "#         self.classes = sorted(entry.name for entry in os.scandir(directory) if entry.is_dir())\n",
    "#         self.class_to_idx = {c: i for i, c in enumerate(self.classes)}\n",
    "#         self.files = []\n",
    "#         for c in self.classes:\n",
    "#             c_dir = os.path.join(directory, c)\n",
    "#             c_files = [(os.path.join(c_dir, f), self.class_to_idx[c]) for f in os.listdir(c_dir)]\n",
    "#             self.files.extend(c_files)\n",
    "#         random.shuffle(self.files)\n",
    "        \n",
    "#     def __len__(self):\n",
    "#         return len(self.files)\n",
    "    \n",
    "#     def __getitem__(self, idx):\n",
    "#         filepath, label = self.files[idx]\n",
    "#         try:\n",
    "#             mat_vals = scipy.io.loadmat(filepath)\n",
    "#             data = mat_vals['final']\n",
    "#             data = data.T\n",
    "#             max_len=800\n",
    "#             if (max_len > data.shape[0]):\n",
    "#                 pad_width = max_len - data.shape[0]\n",
    "#                 data = np.pad(data, pad_width=((0, pad_width),(0,0)), mode='constant')\n",
    "#             else:\n",
    "#                 data = data[:max_len, :]\n",
    "#         except Exception as e:\n",
    "#             print(f\"Error loading file {filepath}: {str(e)}\")\n",
    "#             return None\n",
    "#         return data, label"
   ]
  },
  {
   "cell_type": "code",
   "execution_count": 7,
   "id": "a51aed1c",
   "metadata": {
    "execution": {
     "iopub.execute_input": "2025-03-26T11:45:41.468638Z",
     "iopub.status.busy": "2025-03-26T11:45:41.468435Z",
     "iopub.status.idle": "2025-03-26T11:45:41.470902Z",
     "shell.execute_reply": "2025-03-26T11:45:41.470348Z"
    },
    "papermill": {
     "duration": 0.008221,
     "end_time": "2025-03-26T11:45:41.472097",
     "exception": false,
     "start_time": "2025-03-26T11:45:41.463876",
     "status": "completed"
    },
    "tags": []
   },
   "outputs": [],
   "source": [
    "# train_dataset = PtDataset(train_data_path)\n",
    "# # test_dataset = PtDataset(test_data_path)\n",
    "# val_dataset = PtDataset(validation_data_path)"
   ]
  },
  {
   "cell_type": "code",
   "execution_count": 8,
   "id": "c7e1138b",
   "metadata": {
    "execution": {
     "iopub.execute_input": "2025-03-26T11:45:41.481026Z",
     "iopub.status.busy": "2025-03-26T11:45:41.480810Z",
     "iopub.status.idle": "2025-03-26T11:45:41.483632Z",
     "shell.execute_reply": "2025-03-26T11:45:41.482852Z"
    },
    "papermill": {
     "duration": 0.008479,
     "end_time": "2025-03-26T11:45:41.484728",
     "exception": false,
     "start_time": "2025-03-26T11:45:41.476249",
     "status": "completed"
    },
    "tags": []
   },
   "outputs": [],
   "source": [
    "# class PtDataLoader(DataLoader):\n",
    "#     def __init__(self, directory, batch_size, shuffle=True):\n",
    "#         dataset = PtDataset(directory)\n",
    "#         super().__init__(dataset, batch_size=batch_size, shuffle=shuffle)"
   ]
  },
  {
   "cell_type": "code",
   "execution_count": 9,
   "id": "5d14c2a8",
   "metadata": {
    "execution": {
     "iopub.execute_input": "2025-03-26T11:45:41.493761Z",
     "iopub.status.busy": "2025-03-26T11:45:41.493531Z",
     "iopub.status.idle": "2025-03-26T11:45:41.496381Z",
     "shell.execute_reply": "2025-03-26T11:45:41.495595Z"
    },
    "papermill": {
     "duration": 0.008574,
     "end_time": "2025-03-26T11:45:41.497510",
     "exception": false,
     "start_time": "2025-03-26T11:45:41.488936",
     "status": "completed"
    },
    "tags": []
   },
   "outputs": [],
   "source": [
    "# train_dataloader = PtDataLoader(directory=train_data_path, batch_size=batch_size)\n",
    "# # test_dataloader = PtDataLoader(directory=test_data_path, batch_size=batch_size)\n",
    "# val_dataloader = PtDataLoader(directory=validation_data_path, batch_size=batch_size)"
   ]
  },
  {
   "cell_type": "code",
   "execution_count": 10,
   "id": "87f8b57f",
   "metadata": {
    "execution": {
     "iopub.execute_input": "2025-03-26T11:45:41.506452Z",
     "iopub.status.busy": "2025-03-26T11:45:41.506236Z",
     "iopub.status.idle": "2025-03-26T11:45:41.509054Z",
     "shell.execute_reply": "2025-03-26T11:45:41.508289Z"
    },
    "papermill": {
     "duration": 0.008593,
     "end_time": "2025-03-26T11:45:41.510294",
     "exception": false,
     "start_time": "2025-03-26T11:45:41.501701",
     "status": "completed"
    },
    "tags": []
   },
   "outputs": [],
   "source": [
    "# train_count = len(train_dataset) \n",
    "# # test_count = len(test_dataset)\n",
    "# val_count = len(val_dataset)"
   ]
  },
  {
   "cell_type": "code",
   "execution_count": 11,
   "id": "fd2f3d74",
   "metadata": {
    "execution": {
     "iopub.execute_input": "2025-03-26T11:45:41.519220Z",
     "iopub.status.busy": "2025-03-26T11:45:41.518976Z",
     "iopub.status.idle": "2025-03-26T11:45:41.522986Z",
     "shell.execute_reply": "2025-03-26T11:45:41.522227Z"
    },
    "papermill": {
     "duration": 0.009818,
     "end_time": "2025-03-26T11:45:41.524245",
     "exception": false,
     "start_time": "2025-03-26T11:45:41.514427",
     "status": "completed"
    },
    "tags": []
   },
   "outputs": [
    {
     "name": "stdout",
     "output_type": "stream",
     "text": [
      "195996\n",
      "42004\n"
     ]
    }
   ],
   "source": [
    "print(train_count)\n",
    "# print(test_count)\n",
    "print(val_count)"
   ]
  },
  {
   "cell_type": "code",
   "execution_count": 12,
   "id": "d7563888",
   "metadata": {
    "execution": {
     "iopub.execute_input": "2025-03-26T11:45:41.533266Z",
     "iopub.status.busy": "2025-03-26T11:45:41.533014Z",
     "iopub.status.idle": "2025-03-26T11:45:41.536381Z",
     "shell.execute_reply": "2025-03-26T11:45:41.535607Z"
    },
    "papermill": {
     "duration": 0.009139,
     "end_time": "2025-03-26T11:45:41.537534",
     "exception": false,
     "start_time": "2025-03-26T11:45:41.528395",
     "status": "completed"
    },
    "tags": []
   },
   "outputs": [],
   "source": [
    "import torch\n",
    "from torch import nn\n",
    "from torch.nn import Parameter\n",
    "import torch.nn.functional as F"
   ]
  },
  {
   "cell_type": "code",
   "execution_count": 13,
   "id": "c4c3e3f0",
   "metadata": {
    "execution": {
     "iopub.execute_input": "2025-03-26T11:45:41.546531Z",
     "iopub.status.busy": "2025-03-26T11:45:41.546316Z",
     "iopub.status.idle": "2025-03-26T11:45:41.549454Z",
     "shell.execute_reply": "2025-03-26T11:45:41.548671Z"
    },
    "papermill": {
     "duration": 0.008917,
     "end_time": "2025-03-26T11:45:41.550658",
     "exception": false,
     "start_time": "2025-03-26T11:45:41.541741",
     "status": "completed"
    },
    "tags": []
   },
   "outputs": [],
   "source": [
    "# Define the parameters\n",
    "input_size = 20\n",
    "hidden_size = 256\n",
    "num_layers = 2\n",
    "num_classes = 2\n",
    "# drop_amount = 0.25  # You can choose an appropriate dropout rate"
   ]
  },
  {
   "cell_type": "code",
   "execution_count": 14,
   "id": "6eed782f",
   "metadata": {
    "execution": {
     "iopub.execute_input": "2025-03-26T11:45:41.559653Z",
     "iopub.status.busy": "2025-03-26T11:45:41.559461Z",
     "iopub.status.idle": "2025-03-26T11:45:41.562416Z",
     "shell.execute_reply": "2025-03-26T11:45:41.561816Z"
    },
    "papermill": {
     "duration": 0.008663,
     "end_time": "2025-03-26T11:45:41.563571",
     "exception": false,
     "start_time": "2025-03-26T11:45:41.554908",
     "status": "completed"
    },
    "tags": []
   },
   "outputs": [],
   "source": [
    "import torch\n",
    "import torch.nn as nn\n",
    "import torch.optim as optim"
   ]
  },
  {
   "cell_type": "code",
   "execution_count": 15,
   "id": "a954af26",
   "metadata": {
    "execution": {
     "iopub.execute_input": "2025-03-26T11:45:41.572796Z",
     "iopub.status.busy": "2025-03-26T11:45:41.572593Z",
     "iopub.status.idle": "2025-03-26T11:46:00.700393Z",
     "shell.execute_reply": "2025-03-26T11:46:00.699677Z"
    },
    "papermill": {
     "duration": 19.134145,
     "end_time": "2025-03-26T11:46:00.702011",
     "exception": false,
     "start_time": "2025-03-26T11:45:41.567866",
     "status": "completed"
    },
    "tags": []
   },
   "outputs": [],
   "source": [
    "import torch \n",
    "import torch.nn as nn\n",
    "import torch.nn.functional as F\n",
    "from torch.autograd import Variable\n",
    "from torch.utils.data import Dataset, DataLoader\n",
    "import os, pathlib, glob, random\n",
    "import numpy as np\n",
    "import matplotlib.pyplot as plt \n",
    "import seaborn as sns\n",
    "from sklearn.metrics import confusion_matrix\n",
    "from transformers import WhisperProcessor, WhisperForConditionalGeneration\n",
    "from datasets import load_dataset\n",
    "from transformers.models.whisper.modeling_whisper import WhisperModel, WhisperEncoder\n",
    "from transformers.models.whisper.configuration_whisper import WhisperConfig\n",
    "from typing import Optional, Tuple, Union\n",
    "import torch\n",
    "import librosa \n",
    "import matplotlib.pyplot as plt\n",
    "import numpy as np\n",
    "import os, glob, pickle\n",
    "import scipy.io as sio\n",
    "from tqdm import tqdm\n",
    "import multiprocessing as mp \n",
    "import torch.optim as optim"
   ]
  },
  {
   "cell_type": "code",
   "execution_count": 16,
   "id": "bafbb73d",
   "metadata": {
    "execution": {
     "iopub.execute_input": "2025-03-26T11:46:00.712386Z",
     "iopub.status.busy": "2025-03-26T11:46:00.711860Z",
     "iopub.status.idle": "2025-03-26T11:46:00.715316Z",
     "shell.execute_reply": "2025-03-26T11:46:00.714508Z"
    },
    "papermill": {
     "duration": 0.009888,
     "end_time": "2025-03-26T11:46:00.716691",
     "exception": false,
     "start_time": "2025-03-26T11:46:00.706803",
     "status": "completed"
    },
    "tags": []
   },
   "outputs": [],
   "source": [
    "# BiLSTM"
   ]
  },
  {
   "cell_type": "code",
   "execution_count": 17,
   "id": "f04e1717",
   "metadata": {
    "execution": {
     "iopub.execute_input": "2025-03-26T11:46:00.726256Z",
     "iopub.status.busy": "2025-03-26T11:46:00.725984Z",
     "iopub.status.idle": "2025-03-26T11:46:00.732139Z",
     "shell.execute_reply": "2025-03-26T11:46:00.731484Z"
    },
    "papermill": {
     "duration": 0.012071,
     "end_time": "2025-03-26T11:46:00.733267",
     "exception": false,
     "start_time": "2025-03-26T11:46:00.721196",
     "status": "completed"
    },
    "tags": []
   },
   "outputs": [],
   "source": [
    "drop_amount = 0.255\n",
    "\n",
    "class BiLSTMClassifier(nn.Module):\n",
    "    def __init__(self, input_size, hidden_size, num_layers, num_classes):\n",
    "        super(BiLSTMClassifier, self).__init__()\n",
    "        self.hidden_size = hidden_size\n",
    "        self.num_layers = num_layers\n",
    "        self.lstm = nn.LSTM(input_size, hidden_size, num_layers, batch_first=True, bidirectional=True)\n",
    "        self.dropout = nn.Dropout(p=drop_amount)\n",
    "        self.fc = nn.Linear(hidden_size*2, num_classes)\n",
    "\n",
    "    def forward(self, x):\n",
    "        h0 = torch.zeros(self.num_layers*2, x.size(0), self.hidden_size).to(device=x.device, dtype=torch.double)\n",
    "        c0 = torch.zeros(self.num_layers*2, x.size(0), self.hidden_size).to(device=x.device, dtype=torch.double)\n",
    "        out, _ = self.lstm(x, (h0, c0))\n",
    "        out = self.dropout(out)\n",
    "        # Extract the output of the last time step from both directions\n",
    "        last_hidden_state = torch.cat((out[:, -1, :self.hidden_size], out[:, 0, self.hidden_size:]), dim=1)\n",
    "        output = self.fc(last_hidden_state)\n",
    "        return output"
   ]
  },
  {
   "cell_type": "code",
   "execution_count": 18,
   "id": "63378664",
   "metadata": {
    "execution": {
     "iopub.execute_input": "2025-03-26T11:46:00.742880Z",
     "iopub.status.busy": "2025-03-26T11:46:00.742643Z",
     "iopub.status.idle": "2025-03-26T11:46:00.745675Z",
     "shell.execute_reply": "2025-03-26T11:46:00.745070Z"
    },
    "papermill": {
     "duration": 0.008938,
     "end_time": "2025-03-26T11:46:00.746746",
     "exception": false,
     "start_time": "2025-03-26T11:46:00.737808",
     "status": "completed"
    },
    "tags": []
   },
   "outputs": [],
   "source": [
    "batch_size = 32\n",
    "output_nodes = 2\n",
    "learning_rate = 0.003"
   ]
  },
  {
   "cell_type": "code",
   "execution_count": 19,
   "id": "1169d976",
   "metadata": {
    "execution": {
     "iopub.execute_input": "2025-03-26T11:46:00.756121Z",
     "iopub.status.busy": "2025-03-26T11:46:00.755887Z",
     "iopub.status.idle": "2025-03-26T11:46:01.080265Z",
     "shell.execute_reply": "2025-03-26T11:46:01.079346Z"
    },
    "papermill": {
     "duration": 0.330425,
     "end_time": "2025-03-26T11:46:01.081527",
     "exception": false,
     "start_time": "2025-03-26T11:46:00.751102",
     "status": "completed"
    },
    "tags": []
   },
   "outputs": [
    {
     "name": "stdout",
     "output_type": "stream",
     "text": [
      "BiLSTMClassifier(\n",
      "  (lstm): LSTM(20, 256, num_layers=2, batch_first=True, bidirectional=True)\n",
      "  (dropout): Dropout(p=0.255, inplace=False)\n",
      "  (fc): Linear(in_features=512, out_features=2, bias=True)\n",
      ")\n"
     ]
    }
   ],
   "source": [
    "model = BiLSTMClassifier(input_size, hidden_size, num_layers, num_classes)\n",
    "model.to(device, dtype=torch.double)\n",
    "loss_function = nn.CrossEntropyLoss()\n",
    "optimizer = optim.Adam(model.parameters(), lr=learning_rate)\n",
    "print(model)"
   ]
  },
  {
   "cell_type": "code",
   "execution_count": 20,
   "id": "fe895b80",
   "metadata": {
    "execution": {
     "iopub.execute_input": "2025-03-26T11:46:01.091491Z",
     "iopub.status.busy": "2025-03-26T11:46:01.091249Z",
     "iopub.status.idle": "2025-03-26T11:46:01.095345Z",
     "shell.execute_reply": "2025-03-26T11:46:01.094501Z"
    },
    "papermill": {
     "duration": 0.0104,
     "end_time": "2025-03-26T11:46:01.096579",
     "exception": false,
     "start_time": "2025-03-26T11:46:01.086179",
     "status": "completed"
    },
    "tags": []
   },
   "outputs": [
    {
     "name": "stdout",
     "output_type": "stream",
     "text": [
      "BiLSTMClassifier(\n",
      "  (lstm): LSTM(20, 256, num_layers=2, batch_first=True, bidirectional=True)\n",
      "  (dropout): Dropout(p=0.255, inplace=False)\n",
      "  (fc): Linear(in_features=512, out_features=2, bias=True)\n",
      ")\n"
     ]
    }
   ],
   "source": [
    "print(model)"
   ]
  },
  {
   "cell_type": "code",
   "execution_count": 21,
   "id": "49c797e2",
   "metadata": {
    "execution": {
     "iopub.execute_input": "2025-03-26T11:46:01.106417Z",
     "iopub.status.busy": "2025-03-26T11:46:01.106180Z",
     "iopub.status.idle": "2025-03-26T18:37:21.082528Z",
     "shell.execute_reply": "2025-03-26T18:37:21.081485Z"
    },
    "papermill": {
     "duration": 24679.982741,
     "end_time": "2025-03-26T18:37:21.083870",
     "exception": false,
     "start_time": "2025-03-26T11:46:01.101129",
     "status": "completed"
    },
    "tags": []
   },
   "outputs": [
    {
     "name": "stdout",
     "output_type": "stream",
     "text": [
      "\n",
      "Epoch 1/10 - Training...\n"
     ]
    },
    {
     "name": "stderr",
     "output_type": "stream",
     "text": [
      "Training Batches: 100%|██████████| 6125/6125 [49:43<00:00,  2.05it/s]\n"
     ]
    },
    {
     "name": "stdout",
     "output_type": "stream",
     "text": [
      "Epoch 1/10 - Validation...\n"
     ]
    },
    {
     "name": "stderr",
     "output_type": "stream",
     "text": [
      "Validation Batches: 100%|██████████| 1313/1313 [07:03<00:00,  3.10it/s]\n"
     ]
    },
    {
     "name": "stdout",
     "output_type": "stream",
     "text": [
      "Epoch: 1/10   Train Loss: 0.3023   Train Accuracy: 0.8546   Validation Accuracy: 0.9652\n",
      "\n",
      "Epoch 2/10 - Training...\n"
     ]
    },
    {
     "name": "stderr",
     "output_type": "stream",
     "text": [
      "Training Batches: 100%|██████████| 6125/6125 [34:03<00:00,  3.00it/s]\n"
     ]
    },
    {
     "name": "stdout",
     "output_type": "stream",
     "text": [
      "Epoch 2/10 - Validation...\n"
     ]
    },
    {
     "name": "stderr",
     "output_type": "stream",
     "text": [
      "Validation Batches: 100%|██████████| 1313/1313 [03:46<00:00,  5.79it/s]\n"
     ]
    },
    {
     "name": "stdout",
     "output_type": "stream",
     "text": [
      "Epoch: 2/10   Train Loss: 0.0937   Train Accuracy: 0.9668   Validation Accuracy: 0.9721\n",
      "\n",
      "Epoch 3/10 - Training...\n"
     ]
    },
    {
     "name": "stderr",
     "output_type": "stream",
     "text": [
      "Training Batches: 100%|██████████| 6125/6125 [34:39<00:00,  2.95it/s]\n"
     ]
    },
    {
     "name": "stdout",
     "output_type": "stream",
     "text": [
      "Epoch 3/10 - Validation...\n"
     ]
    },
    {
     "name": "stderr",
     "output_type": "stream",
     "text": [
      "Validation Batches: 100%|██████████| 1313/1313 [03:57<00:00,  5.52it/s]\n"
     ]
    },
    {
     "name": "stdout",
     "output_type": "stream",
     "text": [
      "Epoch: 3/10   Train Loss: 0.0787   Train Accuracy: 0.9728   Validation Accuracy: 0.9771\n",
      "\n",
      "Epoch 4/10 - Training...\n"
     ]
    },
    {
     "name": "stderr",
     "output_type": "stream",
     "text": [
      "Training Batches: 100%|██████████| 6125/6125 [35:27<00:00,  2.88it/s]\n"
     ]
    },
    {
     "name": "stdout",
     "output_type": "stream",
     "text": [
      "Epoch 4/10 - Validation...\n"
     ]
    },
    {
     "name": "stderr",
     "output_type": "stream",
     "text": [
      "Validation Batches: 100%|██████████| 1313/1313 [04:04<00:00,  5.38it/s]\n"
     ]
    },
    {
     "name": "stdout",
     "output_type": "stream",
     "text": [
      "Epoch: 4/10   Train Loss: 0.0695   Train Accuracy: 0.9757   Validation Accuracy: 0.9696\n",
      "\n",
      "Epoch 5/10 - Training...\n"
     ]
    },
    {
     "name": "stderr",
     "output_type": "stream",
     "text": [
      "Training Batches: 100%|██████████| 6125/6125 [35:54<00:00,  2.84it/s]\n"
     ]
    },
    {
     "name": "stdout",
     "output_type": "stream",
     "text": [
      "Epoch 5/10 - Validation...\n"
     ]
    },
    {
     "name": "stderr",
     "output_type": "stream",
     "text": [
      "Validation Batches: 100%|██████████| 1313/1313 [04:03<00:00,  5.39it/s]\n"
     ]
    },
    {
     "name": "stdout",
     "output_type": "stream",
     "text": [
      "Epoch: 5/10   Train Loss: 0.0653   Train Accuracy: 0.9773   Validation Accuracy: 0.9825\n",
      "\n",
      "Epoch 6/10 - Training...\n"
     ]
    },
    {
     "name": "stderr",
     "output_type": "stream",
     "text": [
      "Training Batches: 100%|██████████| 6125/6125 [35:48<00:00,  2.85it/s]\n"
     ]
    },
    {
     "name": "stdout",
     "output_type": "stream",
     "text": [
      "Epoch 6/10 - Validation...\n"
     ]
    },
    {
     "name": "stderr",
     "output_type": "stream",
     "text": [
      "Validation Batches: 100%|██████████| 1313/1313 [04:07<00:00,  5.30it/s]\n"
     ]
    },
    {
     "name": "stdout",
     "output_type": "stream",
     "text": [
      "Epoch: 6/10   Train Loss: 0.0608   Train Accuracy: 0.9787   Validation Accuracy: 0.9804\n",
      "\n",
      "Epoch 7/10 - Training...\n"
     ]
    },
    {
     "name": "stderr",
     "output_type": "stream",
     "text": [
      "Training Batches: 100%|██████████| 6125/6125 [35:44<00:00,  2.86it/s]\n"
     ]
    },
    {
     "name": "stdout",
     "output_type": "stream",
     "text": [
      "Epoch 7/10 - Validation...\n"
     ]
    },
    {
     "name": "stderr",
     "output_type": "stream",
     "text": [
      "Validation Batches: 100%|██████████| 1313/1313 [04:04<00:00,  5.38it/s]\n"
     ]
    },
    {
     "name": "stdout",
     "output_type": "stream",
     "text": [
      "Epoch: 7/10   Train Loss: 0.0547   Train Accuracy: 0.9812   Validation Accuracy: 0.9815\n",
      "\n",
      "Epoch 8/10 - Training...\n"
     ]
    },
    {
     "name": "stderr",
     "output_type": "stream",
     "text": [
      "Training Batches: 100%|██████████| 6125/6125 [35:38<00:00,  2.86it/s]\n"
     ]
    },
    {
     "name": "stdout",
     "output_type": "stream",
     "text": [
      "Epoch 8/10 - Validation...\n"
     ]
    },
    {
     "name": "stderr",
     "output_type": "stream",
     "text": [
      "Validation Batches: 100%|██████████| 1313/1313 [04:00<00:00,  5.46it/s]\n"
     ]
    },
    {
     "name": "stdout",
     "output_type": "stream",
     "text": [
      "Epoch: 8/10   Train Loss: 0.0522   Train Accuracy: 0.9819   Validation Accuracy: 0.9777\n",
      "\n",
      "Epoch 9/10 - Training...\n"
     ]
    },
    {
     "name": "stderr",
     "output_type": "stream",
     "text": [
      "Training Batches: 100%|██████████| 6125/6125 [35:38<00:00,  2.86it/s]\n"
     ]
    },
    {
     "name": "stdout",
     "output_type": "stream",
     "text": [
      "Epoch 9/10 - Validation...\n"
     ]
    },
    {
     "name": "stderr",
     "output_type": "stream",
     "text": [
      "Validation Batches: 100%|██████████| 1313/1313 [04:02<00:00,  5.42it/s]\n"
     ]
    },
    {
     "name": "stdout",
     "output_type": "stream",
     "text": [
      "Epoch: 9/10   Train Loss: 0.0524   Train Accuracy: 0.9821   Validation Accuracy: 0.9825\n",
      "\n",
      "Epoch 10/10 - Training...\n"
     ]
    },
    {
     "name": "stderr",
     "output_type": "stream",
     "text": [
      "Training Batches: 100%|██████████| 6125/6125 [35:31<00:00,  2.87it/s]\n"
     ]
    },
    {
     "name": "stdout",
     "output_type": "stream",
     "text": [
      "Epoch 10/10 - Validation...\n"
     ]
    },
    {
     "name": "stderr",
     "output_type": "stream",
     "text": [
      "Validation Batches: 100%|██████████| 1313/1313 [04:01<00:00,  5.43it/s]"
     ]
    },
    {
     "name": "stdout",
     "output_type": "stream",
     "text": [
      "Epoch: 10/10   Train Loss: 0.0494   Train Accuracy: 0.9833   Validation Accuracy: 0.9797\n",
      "\n",
      "Maximum Validation Accuracy: 0.9825492810208551\n",
      "Finished Training and Validation\n"
     ]
    },
    {
     "name": "stderr",
     "output_type": "stream",
     "text": [
      "\n"
     ]
    }
   ],
   "source": [
    "from tqdm import tqdm\n",
    "import torch\n",
    "from torch.autograd import Variable\n",
    "\n",
    "# Model training and testing\n",
    "n_total_steps = len(train_dataloader)\n",
    "train_accuracy_list = []\n",
    "train_loss_list = []\n",
    "val_accuracy_list = []\n",
    "max_acc = 0\n",
    "num_epochs = 10\n",
    "pred_labels = []\n",
    "act_labels = []\n",
    "\n",
    "for epoch in range(num_epochs):\n",
    "    \n",
    "    # Training phase\n",
    "    model.train()\n",
    "    train_accuracy = 0.0\n",
    "    train_loss = 0.0\n",
    "    \n",
    "    print(f\"\\nEpoch {epoch + 1}/{num_epochs} - Training...\")\n",
    "    \n",
    "    # Use tqdm for progress bar in training loop\n",
    "    for batch_idx, (images, labels) in enumerate(tqdm(train_dataloader, desc=\"Training Batches\")):\n",
    "        if torch.cuda.is_available():\n",
    "            images = Variable(images.cuda())\n",
    "            labels = Variable(labels.cuda())\n",
    "        \n",
    "        optimizer.zero_grad()\n",
    "        outputs = model(images)\n",
    "        loss = loss_function(outputs, labels)\n",
    "        loss.backward()\n",
    "        optimizer.step()\n",
    "\n",
    "        train_loss += loss.cpu().data * images.size(0)\n",
    "        _, prediction = torch.max(outputs.data, 1)\n",
    "        train_accuracy += int(torch.sum(prediction == labels.data))\n",
    "    \n",
    "    train_accuracy = train_accuracy / train_count\n",
    "    train_loss = train_loss / train_count\n",
    "    \n",
    "    train_accuracy_list.append(train_accuracy)\n",
    "    train_loss_list.append(train_loss)\n",
    "\n",
    "    # Validation phase\n",
    "    model.eval()\n",
    "    val_accuracy = 0.0\n",
    "    pred = []\n",
    "    lab = []\n",
    "    \n",
    "    print(f\"Epoch {epoch + 1}/{num_epochs} - Validation...\")\n",
    "    \n",
    "    # Use tqdm for progress bar in validation loop\n",
    "    for i, (images, labels) in enumerate(tqdm(val_dataloader, desc=\"Validation Batches\")):\n",
    "        if torch.cuda.is_available():\n",
    "            images = Variable(images.cuda())\n",
    "            labels = Variable(labels.cuda())\n",
    "        \n",
    "        outputs = model(images)\n",
    "        _, prediction = torch.max(outputs.data, 1)\n",
    "        val_accuracy += int(torch.sum(prediction == labels.data))\n",
    "        \n",
    "        pred.extend(prediction.tolist())\n",
    "        lab.extend(labels.tolist())\n",
    "    \n",
    "    val_accuracy = val_accuracy / val_count\n",
    "    val_accuracy_list.append(val_accuracy)\n",
    "    \n",
    "    # Save best model\n",
    "    if max_acc < val_accuracy:\n",
    "        max_acc = val_accuracy\n",
    "        pred_labels = pred\n",
    "        actual_labels = lab\n",
    "        torch.save(model, \"best_accuracy_model_BiLSTM.pth\")\n",
    "    \n",
    "    print(f'Epoch: {epoch + 1}/{num_epochs}   '\n",
    "          f'Train Loss: {train_loss:.4f}   '\n",
    "          f'Train Accuracy: {train_accuracy:.4f}   '\n",
    "          f'Validation Accuracy: {val_accuracy:.4f}')\n",
    "\n",
    "print('\\nMaximum Validation Accuracy:', max_acc)\n",
    "print('Finished Training and Validation')\n"
   ]
  },
  {
   "cell_type": "code",
   "execution_count": 22,
   "id": "d8dbd9f7",
   "metadata": {
    "execution": {
     "iopub.execute_input": "2025-03-26T18:37:28.251254Z",
     "iopub.status.busy": "2025-03-26T18:37:28.250915Z",
     "iopub.status.idle": "2025-03-26T18:37:28.254525Z",
     "shell.execute_reply": "2025-03-26T18:37:28.253717Z"
    },
    "papermill": {
     "duration": 3.601768,
     "end_time": "2025-03-26T18:37:28.255773",
     "exception": false,
     "start_time": "2025-03-26T18:37:24.654005",
     "status": "completed"
    },
    "tags": []
   },
   "outputs": [],
   "source": [
    "# # Load the best model\n",
    "# best_model = torch.load(\"best_accuracy_model_BiLSTM.pth\")\n",
    "\n",
    "# # Put the best_model in evaluation mode\n",
    "# best_model.eval()\n",
    "\n",
    "# # Initialize variables to store results\n",
    "# testing_accuracy = 0.0\n",
    "# pred_labels = []\n",
    "# act_labels = []\n",
    "\n",
    "# # Pass validation data through the best model\n",
    "# for i, (images, labels) in enumerate(test_dataloader):\n",
    "#     if torch.cuda.is_available():\n",
    "#         images = Variable(images.cuda())\n",
    "#         labels = Variable(labels.cuda())\n",
    "    \n",
    "#     outputs = best_model(images)\n",
    "#     _, prediction = torch.max(outputs.data, 1)\n",
    "    \n",
    "#     testing_accuracy += int(torch.sum(prediction == labels.data))\n",
    "    \n",
    "#     pred_labels.extend(prediction.tolist())\n",
    "#     act_labels.extend(labels.tolist())\n",
    "\n",
    "# # Calculate validation accuracy\n",
    "# testing_accuracy = testing_accuracy / len(test_dataloader.dataset)\n",
    "\n",
    "# # Print the validation accuracy\n",
    "# print(\"testing Accuracy:\", testing_accuracy)"
   ]
  },
  {
   "cell_type": "code",
   "execution_count": 23,
   "id": "40102d12",
   "metadata": {
    "execution": {
     "iopub.execute_input": "2025-03-26T18:37:35.488113Z",
     "iopub.status.busy": "2025-03-26T18:37:35.487761Z",
     "iopub.status.idle": "2025-03-26T18:37:35.491205Z",
     "shell.execute_reply": "2025-03-26T18:37:35.490404Z"
    },
    "papermill": {
     "duration": 3.704504,
     "end_time": "2025-03-26T18:37:35.492461",
     "exception": false,
     "start_time": "2025-03-26T18:37:31.787957",
     "status": "completed"
    },
    "tags": []
   },
   "outputs": [],
   "source": [
    "# # Calculate the confusion matrix\n",
    "# import seaborn as sns\n",
    "# conf_mat = confusion_matrix(act_labels, pred_labels)\n",
    "# # Plot confusion matrix heat map\n",
    "# sns.heatmap(conf_mat, cmap=\"flare\",annot=True, fmt = \"g\", \n",
    "#             cbar_kws={\"label\":\"color bar\"},\n",
    "#             xticklabels=train_dataset.classes,\n",
    "#             yticklabels=train_dataset.classes)\n",
    "# plt.xlabel(\"Predicted\")\n",
    "# plt.ylabel(\"Actual\")\n",
    "# plt.title(\"Confusion Matrix\")\n",
    "# plt.savefig(\"ConfusionMatrix_BiLSTM.png\")\n",
    "# plt.show()\n",
    "# from sklearn.metrics import f1_score\n",
    "# f1_score = f1_score(pred_labels, act_labels, average='macro')\n",
    "# print('F1 Score : ', f1_score)\n"
   ]
  },
  {
   "cell_type": "code",
   "execution_count": 24,
   "id": "22d8398d",
   "metadata": {
    "execution": {
     "iopub.execute_input": "2025-03-26T18:37:42.591341Z",
     "iopub.status.busy": "2025-03-26T18:37:42.590990Z",
     "iopub.status.idle": "2025-03-26T18:37:42.594527Z",
     "shell.execute_reply": "2025-03-26T18:37:42.593703Z"
    },
    "papermill": {
     "duration": 3.543589,
     "end_time": "2025-03-26T18:37:42.595830",
     "exception": false,
     "start_time": "2025-03-26T18:37:39.052241",
     "status": "completed"
    },
    "tags": []
   },
   "outputs": [],
   "source": [
    "# import numpy as np\n",
    "# import sklearn.metrics\n",
    "\n",
    "# \"\"\"\n",
    "# Python compute equal error rate (eer)\n",
    "# ONLY tested on binary classification\n",
    "\n",
    "# :param label: ground-truth label, should be a 1-d list or np.array, each element represents the ground-truth label of one sample\n",
    "# :param pred: model prediction, should be a 1-d list or np.array, each element represents the model prediction of one sample\n",
    "# :param positive_label: the class that is viewed as positive class when computing EER\n",
    "# :return: equal error rate (EER)\n",
    "# \"\"\"\n",
    "# def compute_eer(label, pred):\n",
    "#     # all fpr, tpr, fnr, fnr, threshold are lists (in the format of np.array)\n",
    "#     fpr, tpr, threshold = sklearn.metrics.roc_curve(label, pred)\n",
    "#     fnr = 1 - tpr\n",
    "\n",
    "#     # the threshold of fnr == fpr\n",
    "#     eer_threshold = threshold[np.nanargmin(np.absolute((fnr - fpr)))]\n",
    "\n",
    "#     # theoretically eer from fpr and eer from fnr should be identical but they can be slightly differ in reality\n",
    "#     eer_1 = fpr[np.nanargmin(np.absolute((fnr - fpr)))]\n",
    "#     eer_2 = fnr[np.nanargmin(np.absolute((fnr - fpr)))]\n",
    "\n",
    "#     # return the mean of eer from fpr and from fnr\n",
    "#     eer = (eer_1 + eer_2) / 2\n",
    "#     return eer\n",
    "\n",
    "# eer = compute_eer(act_labels, pred_labels)\n",
    "# print('The equal error rate is {:.3f}'.format(eer))"
   ]
  }
 ],
 "metadata": {
  "kaggle": {
   "accelerator": "gpu",
   "dataSources": [
    {
     "datasetId": 6961676,
     "sourceId": 11157532,
     "sourceType": "datasetVersion"
    },
    {
     "datasetId": 6960546,
     "sourceId": 11156044,
     "sourceType": "datasetVersion"
    }
   ],
   "dockerImageVersionId": 30919,
   "isGpuEnabled": true,
   "isInternetEnabled": true,
   "language": "python",
   "sourceType": "notebook"
  },
  "kernelspec": {
   "display_name": "Python 3",
   "language": "python",
   "name": "python3"
  },
  "language_info": {
   "codemirror_mode": {
    "name": "ipython",
    "version": 3
   },
   "file_extension": ".py",
   "mimetype": "text/x-python",
   "name": "python",
   "nbconvert_exporter": "python",
   "pygments_lexer": "ipython3",
   "version": "3.10.12"
  },
  "papermill": {
   "default_parameters": {},
   "duration": 24739.987272,
   "end_time": "2025-03-26T18:37:49.379941",
   "environment_variables": {},
   "exception": null,
   "input_path": "__notebook__.ipynb",
   "output_path": "__notebook__.ipynb",
   "parameters": {},
   "start_time": "2025-03-26T11:45:29.392669",
   "version": "2.4.0"
  }
 },
 "nbformat": 4,
 "nbformat_minor": 5
}
