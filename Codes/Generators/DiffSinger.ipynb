{
 "cells": [
  {
   "cell_type": "code",
   "execution_count": 1,
   "id": "a90b72d4",
   "metadata": {
    "execution": {
     "iopub.execute_input": "2025-06-26T19:39:25.991992Z",
     "iopub.status.busy": "2025-06-26T19:39:25.991756Z",
     "iopub.status.idle": "2025-06-26T19:39:26.002800Z",
     "shell.execute_reply": "2025-06-26T19:39:25.997598Z"
    },
    "papermill": {
     "duration": 0.025046,
     "end_time": "2025-06-26T19:39:26.005241",
     "exception": false,
     "start_time": "2025-06-26T19:39:25.980195",
     "status": "completed"
    },
    "tags": []
   },
   "outputs": [],
   "source": [
    "# https://chatgpt.com/share/68573b0a-0800-8001-91e2-8a5b1ab692eb"
   ]
  },
  {
   "cell_type": "code",
   "execution_count": 2,
   "id": "8fcfd1d8",
   "metadata": {
    "execution": {
     "iopub.execute_input": "2025-06-26T19:39:26.020912Z",
     "iopub.status.busy": "2025-06-26T19:39:26.020679Z",
     "iopub.status.idle": "2025-06-26T19:39:26.029501Z",
     "shell.execute_reply": "2025-06-26T19:39:26.025600Z"
    },
    "papermill": {
     "duration": 0.020689,
     "end_time": "2025-06-26T19:39:26.032334",
     "exception": false,
     "start_time": "2025-06-26T19:39:26.011645",
     "status": "completed"
    },
    "tags": []
   },
   "outputs": [],
   "source": [
    "# from gtts import gTTS\n",
    "# from pydub import AudioSegment\n",
    "# import os\n",
    "\n",
    "# inp = {\n",
    "#     'text': '小酒窝长睫毛AP是你最美的记号',\n",
    "#     'notes': 'C#4/Db4 | F#4/Gb4 | G#4/Ab4 | A#4/Bb4 F#4/Gb4 | F#4/Gb4 C#4/Db4 | C#4/Db4 | rest | C#4/Db4 | A#4/Bb4 | G#4/Ab4 | A#4/Bb4 | G#4/Ab4 | F4 | C#4/Db4',\n",
    "#     'notes_duration': '0.407140 | 0.376190 | 0.242180 | 0.509550 0.183420 | 0.315400 0.235020 | 0.361660 | 0.223070 | 0.377270 | 0.340550 | 0.299620 | 0.344510 | 0.283770 | 0.323390 | 0.360340',\n",
    "#     'input_type': 'word'\n",
    "# }\n",
    "\n",
    "# # Prepare durations\n",
    "# note_durations = inp['notes_duration'].replace('|', '').split()\n",
    "# durations_ms = [int(float(d) * 1000) for d in note_durations]\n",
    "\n",
    "# # Convert each Chinese character to speech and apply note duration\n",
    "# tts_outputs = []\n",
    "# text = inp['text']\n",
    "\n",
    "# for i, char in enumerate(text):\n",
    "#     tts = gTTS(char, lang='zh')\n",
    "#     tts.save(f\"char_{i}.mp3\")\n",
    "#     segment = AudioSegment.from_file(f\"char_{i}.mp3\")\n",
    "\n",
    "#     # Trim or pad the audio segment to match the note duration\n",
    "#     duration = durations_ms[i] if i < len(durations_ms) else 300\n",
    "#     segment = segment[:duration].set_frame_rate(22050)\n",
    "#     tts_outputs.append(segment)\n",
    "\n",
    "# # Combine all segments\n",
    "# final_audio = sum(tts_outputs)\n",
    "# final_audio.export(\"output.wav\", format=\"wav\")\n",
    "# print(\"Saved output.wav\")"
   ]
  },
  {
   "cell_type": "code",
   "execution_count": 3,
   "id": "d2a652a9",
   "metadata": {
    "collapsed": true,
    "execution": {
     "iopub.execute_input": "2025-06-26T19:39:26.047322Z",
     "iopub.status.busy": "2025-06-26T19:39:26.047128Z",
     "iopub.status.idle": "2025-06-26T19:39:31.379395Z",
     "shell.execute_reply": "2025-06-26T19:39:31.374762Z"
    },
    "jupyter": {
     "outputs_hidden": true
    },
    "papermill": {
     "duration": 5.344274,
     "end_time": "2025-06-26T19:39:31.382392",
     "exception": false,
     "start_time": "2025-06-26T19:39:26.038118",
     "status": "completed"
    },
    "tags": []
   },
   "outputs": [
    {
     "name": "stdout",
     "output_type": "stream",
     "text": [
      "Collecting gtts\r\n"
     ]
    },
    {
     "name": "stdout",
     "output_type": "stream",
     "text": [
      "  Downloading gTTS-2.5.4-py3-none-any.whl (29 kB)\r\n"
     ]
    },
    {
     "name": "stdout",
     "output_type": "stream",
     "text": [
      "Requirement already satisfied: click<8.2,>=7.1 in /usr/local/lib/python3.10/site-packages (from gtts) (8.1.8)\r\n",
      "Requirement already satisfied: requests<3,>=2.27 in /usr/local/lib/python3.10/site-packages (from gtts) (2.32.3)\r\n",
      "Requirement already satisfied: certifi>=2017.4.17 in /usr/local/lib/python3.10/site-packages (from requests<3,>=2.27->gtts) (2025.4.26)\r\n",
      "Requirement already satisfied: idna<4,>=2.5 in /usr/local/lib/python3.10/site-packages (from requests<3,>=2.27->gtts) (3.10)\r\n",
      "Requirement already satisfied: charset-normalizer<4,>=2 in /usr/local/lib/python3.10/site-packages (from requests<3,>=2.27->gtts) (3.4.2)\r\n",
      "Requirement already satisfied: urllib3<3,>=1.21.1 in /usr/local/lib/python3.10/site-packages (from requests<3,>=2.27->gtts) (2.4.0)\r\n"
     ]
    },
    {
     "name": "stdout",
     "output_type": "stream",
     "text": [
      "Installing collected packages: gtts\r\n"
     ]
    },
    {
     "name": "stdout",
     "output_type": "stream",
     "text": [
      "Successfully installed gtts-2.5.4\r\n",
      "\u001b[33mWARNING: Running pip as the 'root' user can result in broken permissions and conflicting behaviour with the system package manager. It is recommended to use a virtual environment instead: https://pip.pypa.io/warnings/venv\u001b[0m\u001b[33m\r\n",
      "\u001b[0m"
     ]
    },
    {
     "name": "stdout",
     "output_type": "stream",
     "text": [
      "\r\n",
      "\u001b[1m[\u001b[0m\u001b[34;49mnotice\u001b[0m\u001b[1;39;49m]\u001b[0m\u001b[39;49m A new release of pip is available: \u001b[0m\u001b[31;49m23.0.1\u001b[0m\u001b[39;49m -> \u001b[0m\u001b[32;49m25.1.1\u001b[0m\r\n",
      "\u001b[1m[\u001b[0m\u001b[34;49mnotice\u001b[0m\u001b[1;39;49m]\u001b[0m\u001b[39;49m To update, run: \u001b[0m\u001b[32;49mpip install --upgrade pip\u001b[0m\r\n"
     ]
    },
    {
     "name": "stdout",
     "output_type": "stream",
     "text": [
      "Note: you may need to restart the kernel to use updated packages.\n"
     ]
    }
   ],
   "source": [
    "pip install gtts"
   ]
  },
  {
   "cell_type": "code",
   "execution_count": 4,
   "id": "bf522eed",
   "metadata": {
    "_cell_guid": "b1076dfc-b9ad-4769-8c92-a6c4dae69d19",
    "_uuid": "8f2839f25d086af736a60e9eeb907d3b93b6e0e5",
    "execution": {
     "iopub.execute_input": "2025-06-26T19:39:31.399669Z",
     "iopub.status.busy": "2025-06-26T19:39:31.399446Z",
     "iopub.status.idle": "2025-06-26T19:39:37.017756Z",
     "shell.execute_reply": "2025-06-26T19:39:37.012741Z"
    },
    "papermill": {
     "duration": 5.63101,
     "end_time": "2025-06-26T19:39:37.020476",
     "exception": false,
     "start_time": "2025-06-26T19:39:31.389466",
     "status": "completed"
    },
    "tags": []
   },
   "outputs": [
    {
     "name": "stdout",
     "output_type": "stream",
     "text": [
      "Cloning into 'DiffSinger'...\r\n"
     ]
    },
    {
     "name": "stdout",
     "output_type": "stream",
     "text": [
      "remote: Enumerating objects: 767, done.\u001b[K\r\n",
      "remote: Counting objects:  50% (1/2)\u001b[K\r",
      "remote: Counting objects: 100% (2/2)\u001b[K\r",
      "remote: Counting objects: 100% (2/2), done.\u001b[K\r\n",
      "remote: Compressing objects:  50% (1/2)\u001b[K\r",
      "remote: Compressing objects: 100% (2/2)\u001b[K\r",
      "remote: Compressing objects: 100% (2/2), done.\u001b[K\r\n"
     ]
    },
    {
     "name": "stdout",
     "output_type": "stream",
     "text": [
      "Receiving objects:   0% (1/767)\r",
      "Receiving objects:   1% (8/767)\r",
      "Receiving objects:   2% (16/767)\r",
      "Receiving objects:   3% (24/767)\r",
      "Receiving objects:   4% (31/767)\r"
     ]
    },
    {
     "name": "stdout",
     "output_type": "stream",
     "text": [
      "Receiving objects:   5% (39/767)\r",
      "Receiving objects:   6% (47/767)\r",
      "Receiving objects:   7% (54/767)\r",
      "Receiving objects:   8% (62/767)\r",
      "Receiving objects:   9% (70/767)\r",
      "Receiving objects:  10% (77/767)\r"
     ]
    },
    {
     "name": "stdout",
     "output_type": "stream",
     "text": [
      "Receiving objects:  11% (85/767), 1.64 MiB | 3.08 MiB/s\r",
      "Receiving objects:  12% (93/767), 1.64 MiB | 3.08 MiB/s\r",
      "Receiving objects:  13% (100/767), 1.64 MiB | 3.08 MiB/s\r",
      "Receiving objects:  14% (108/767), 1.64 MiB | 3.08 MiB/s\r",
      "Receiving objects:  15% (116/767), 1.64 MiB | 3.08 MiB/s\r",
      "Receiving objects:  16% (123/767), 1.64 MiB | 3.08 MiB/s\r",
      "Receiving objects:  17% (131/767), 1.64 MiB | 3.08 MiB/s\r",
      "Receiving objects:  18% (139/767), 1.64 MiB | 3.08 MiB/s\r",
      "Receiving objects:  19% (146/767), 1.64 MiB | 3.08 MiB/s\r",
      "Receiving objects:  20% (154/767), 1.64 MiB | 3.08 MiB/s\r",
      "Receiving objects:  21% (162/767), 1.64 MiB | 3.08 MiB/s\r",
      "Receiving objects:  22% (169/767), 1.64 MiB | 3.08 MiB/s\r",
      "Receiving objects:  23% (177/767), 1.64 MiB | 3.08 MiB/s\r",
      "Receiving objects:  24% (185/767), 1.64 MiB | 3.08 MiB/s\r",
      "Receiving objects:  25% (192/767), 1.64 MiB | 3.08 MiB/s\r",
      "Receiving objects:  26% (200/767), 1.64 MiB | 3.08 MiB/s\r",
      "Receiving objects:  27% (208/767), 1.64 MiB | 3.08 MiB/s\r",
      "Receiving objects:  28% (215/767), 1.64 MiB | 3.08 MiB/s\r",
      "Receiving objects:  29% (223/767), 1.64 MiB | 3.08 MiB/s\r",
      "Receiving objects:  30% (231/767), 1.64 MiB | 3.08 MiB/s\r",
      "Receiving objects:  31% (238/767), 1.64 MiB | 3.08 MiB/s\r",
      "Receiving objects:  32% (246/767), 1.64 MiB | 3.08 MiB/s\r",
      "Receiving objects:  33% (254/767), 1.64 MiB | 3.08 MiB/s\r",
      "Receiving objects:  34% (261/767), 1.64 MiB | 3.08 MiB/s\r",
      "Receiving objects:  35% (269/767), 1.64 MiB | 3.08 MiB/s\r",
      "Receiving objects:  36% (277/767), 1.64 MiB | 3.08 MiB/s\r"
     ]
    },
    {
     "name": "stdout",
     "output_type": "stream",
     "text": [
      "Receiving objects:  37% (284/767), 1.64 MiB | 3.08 MiB/s\r"
     ]
    },
    {
     "name": "stdout",
     "output_type": "stream",
     "text": [
      "Receiving objects:  38% (292/767), 1.64 MiB | 3.08 MiB/s\r"
     ]
    },
    {
     "name": "stdout",
     "output_type": "stream",
     "text": [
      "Receiving objects:  38% (297/767), 11.97 MiB | 11.28 MiB/s\r"
     ]
    },
    {
     "name": "stdout",
     "output_type": "stream",
     "text": [
      "Receiving objects:  39% (300/767), 11.97 MiB | 11.28 MiB/s\r"
     ]
    },
    {
     "name": "stdout",
     "output_type": "stream",
     "text": [
      "Receiving objects:  40% (307/767), 11.97 MiB | 11.28 MiB/s\r"
     ]
    },
    {
     "name": "stdout",
     "output_type": "stream",
     "text": [
      "Receiving objects:  41% (315/767), 11.97 MiB | 11.28 MiB/s\r"
     ]
    },
    {
     "name": "stdout",
     "output_type": "stream",
     "text": [
      "Receiving objects:  42% (323/767), 20.78 MiB | 13.04 MiB/s\r"
     ]
    },
    {
     "name": "stdout",
     "output_type": "stream",
     "text": [
      "Receiving objects:  43% (330/767), 20.78 MiB | 13.04 MiB/s\r"
     ]
    },
    {
     "name": "stdout",
     "output_type": "stream",
     "text": [
      "Receiving objects:  44% (338/767), 28.91 MiB | 13.62 MiB/s\r"
     ]
    },
    {
     "name": "stdout",
     "output_type": "stream",
     "text": [
      "Receiving objects:  45% (346/767), 28.91 MiB | 13.62 MiB/s\r"
     ]
    },
    {
     "name": "stdout",
     "output_type": "stream",
     "text": [
      "Receiving objects:  46% (353/767), 37.71 MiB | 14.22 MiB/s\r"
     ]
    },
    {
     "name": "stdout",
     "output_type": "stream",
     "text": [
      "Receiving objects:  47% (361/767), 37.71 MiB | 14.22 MiB/s\r"
     ]
    },
    {
     "name": "stdout",
     "output_type": "stream",
     "text": [
      "Receiving objects:  48% (369/767), 37.71 MiB | 14.22 MiB/s\r"
     ]
    },
    {
     "name": "stdout",
     "output_type": "stream",
     "text": [
      "Receiving objects:  48% (374/767), 37.71 MiB | 14.22 MiB/s\r"
     ]
    },
    {
     "name": "stdout",
     "output_type": "stream",
     "text": [
      "Receiving objects:  49% (376/767), 37.71 MiB | 14.22 MiB/s\r"
     ]
    },
    {
     "name": "stdout",
     "output_type": "stream",
     "text": [
      "Receiving objects:  50% (384/767), 37.71 MiB | 14.22 MiB/s\r"
     ]
    },
    {
     "name": "stdout",
     "output_type": "stream",
     "text": [
      "Receiving objects:  51% (392/767), 46.82 MiB | 14.72 MiB/s\r"
     ]
    },
    {
     "name": "stdout",
     "output_type": "stream",
     "text": [
      "Receiving objects:  52% (399/767), 46.82 MiB | 14.72 MiB/s\r"
     ]
    },
    {
     "name": "stdout",
     "output_type": "stream",
     "text": [
      "Receiving objects:  53% (407/767), 46.82 MiB | 14.72 MiB/s\r"
     ]
    },
    {
     "name": "stdout",
     "output_type": "stream",
     "text": [
      "Receiving objects:  54% (415/767), 46.82 MiB | 14.72 MiB/s\r"
     ]
    },
    {
     "name": "stdout",
     "output_type": "stream",
     "text": [
      "Receiving objects:  55% (422/767), 46.82 MiB | 14.72 MiB/s\r"
     ]
    },
    {
     "name": "stdout",
     "output_type": "stream",
     "text": [
      "Receiving objects:  56% (430/767), 56.14 MiB | 15.13 MiB/s\r"
     ]
    },
    {
     "name": "stdout",
     "output_type": "stream",
     "text": [
      "Receiving objects:  57% (438/767), 56.14 MiB | 15.13 MiB/s\r"
     ]
    },
    {
     "name": "stdout",
     "output_type": "stream",
     "text": [
      "Receiving objects:  58% (445/767), 56.14 MiB | 15.13 MiB/s\r"
     ]
    },
    {
     "name": "stdout",
     "output_type": "stream",
     "text": [
      "Receiving objects:  58% (449/767), 56.14 MiB | 15.13 MiB/s\r"
     ]
    },
    {
     "name": "stdout",
     "output_type": "stream",
     "text": [
      "Receiving objects:  59% (453/767), 56.14 MiB | 15.13 MiB/s\r",
      "Receiving objects:  60% (461/767), 56.14 MiB | 15.13 MiB/s\r",
      "Receiving objects:  61% (468/767), 56.14 MiB | 15.13 MiB/s\r",
      "Receiving objects:  62% (476/767), 56.14 MiB | 15.13 MiB/s\r",
      "Receiving objects:  63% (484/767), 56.14 MiB | 15.13 MiB/s\r",
      "Receiving objects:  64% (491/767), 56.14 MiB | 15.13 MiB/s\r",
      "Receiving objects:  65% (499/767), 56.14 MiB | 15.13 MiB/s\r",
      "Receiving objects:  66% (507/767), 56.14 MiB | 15.13 MiB/s\r",
      "Receiving objects:  67% (514/767), 56.14 MiB | 15.13 MiB/s\r",
      "Receiving objects:  68% (522/767), 56.14 MiB | 15.13 MiB/s\r",
      "Receiving objects:  69% (530/767), 56.14 MiB | 15.13 MiB/s\r",
      "Receiving objects:  70% (537/767), 56.14 MiB | 15.13 MiB/s\r",
      "Receiving objects:  71% (545/767), 56.14 MiB | 15.13 MiB/s\r",
      "Receiving objects:  72% (553/767), 56.14 MiB | 15.13 MiB/s\r",
      "Receiving objects:  73% (560/767), 56.14 MiB | 15.13 MiB/s\r",
      "Receiving objects:  74% (568/767), 56.14 MiB | 15.13 MiB/s\r",
      "Receiving objects:  75% (576/767), 56.14 MiB | 15.13 MiB/s\r",
      "Receiving objects:  76% (583/767), 56.14 MiB | 15.13 MiB/s\r",
      "Receiving objects:  77% (591/767), 56.14 MiB | 15.13 MiB/s\r",
      "Receiving objects:  78% (599/767), 56.14 MiB | 15.13 MiB/s\r",
      "Receiving objects:  79% (606/767), 56.14 MiB | 15.13 MiB/s\r",
      "Receiving objects:  80% (614/767), 56.14 MiB | 15.13 MiB/s\r",
      "Receiving objects:  81% (622/767), 56.14 MiB | 15.13 MiB/s\r",
      "Receiving objects:  82% (629/767), 56.14 MiB | 15.13 MiB/s\r",
      "Receiving objects:  83% (637/767), 56.14 MiB | 15.13 MiB/s\r",
      "Receiving objects:  84% (645/767), 56.14 MiB | 15.13 MiB/s\r",
      "Receiving objects:  85% (652/767), 56.14 MiB | 15.13 MiB/s\r",
      "Receiving objects:  86% (660/767), 56.14 MiB | 15.13 MiB/s\r",
      "Receiving objects:  87% (668/767), 56.14 MiB | 15.13 MiB/s\r",
      "Receiving objects:  88% (675/767), 56.14 MiB | 15.13 MiB/s\r",
      "Receiving objects:  89% (683/767), 56.14 MiB | 15.13 MiB/s\r",
      "remote: Total 767 (delta 0), reused 0 (delta 0), pack-reused 765 (from 2)\u001b[K\r\n",
      "Receiving objects:  90% (691/767), 56.14 MiB | 15.13 MiB/s\r",
      "Receiving objects:  91% (698/767), 56.14 MiB | 15.13 MiB/s\r",
      "Receiving objects:  92% (706/767), 56.14 MiB | 15.13 MiB/s\r",
      "Receiving objects:  93% (714/767), 56.14 MiB | 15.13 MiB/s\r",
      "Receiving objects:  94% (721/767), 56.14 MiB | 15.13 MiB/s\r",
      "Receiving objects:  95% (729/767), 56.14 MiB | 15.13 MiB/s\r",
      "Receiving objects:  96% (737/767), 56.14 MiB | 15.13 MiB/s\r",
      "Receiving objects:  97% (744/767), 56.14 MiB | 15.13 MiB/s\r",
      "Receiving objects:  98% (752/767), 56.14 MiB | 15.13 MiB/s\r",
      "Receiving objects:  99% (760/767), 56.14 MiB | 15.13 MiB/s\r",
      "Receiving objects: 100% (767/767), 56.14 MiB | 15.13 MiB/s\r",
      "Receiving objects: 100% (767/767), 63.39 MiB | 15.51 MiB/s, done.\r\n",
      "Resolving deltas:   0% (0/290)\r",
      "Resolving deltas:   1% (3/290)\r",
      "Resolving deltas:   2% (6/290)\r",
      "Resolving deltas:   3% (9/290)\r",
      "Resolving deltas:   4% (12/290)\r",
      "Resolving deltas:   5% (15/290)\r",
      "Resolving deltas:   6% (18/290)\r",
      "Resolving deltas:   7% (21/290)\r",
      "Resolving deltas:   8% (24/290)\r",
      "Resolving deltas:   9% (27/290)\r",
      "Resolving deltas:  10% (29/290)\r",
      "Resolving deltas:  11% (32/290)\r",
      "Resolving deltas:  12% (37/290)\r",
      "Resolving deltas:  13% (39/290)\r",
      "Resolving deltas:  14% (41/290)\r",
      "Resolving deltas:  15% (44/290)\r",
      "Resolving deltas:  16% (47/290)\r",
      "Resolving deltas:  17% (50/290)\r",
      "Resolving deltas:  18% (53/290)\r",
      "Resolving deltas:  19% (56/290)\r",
      "Resolving deltas:  20% (59/290)\r",
      "Resolving deltas:  21% (61/290)\r",
      "Resolving deltas:  22% (66/290)\r",
      "Resolving deltas:  23% (67/290)\r",
      "Resolving deltas:  24% (71/290)\r",
      "Resolving deltas:  25% (73/290)\r",
      "Resolving deltas:  26% (76/290)\r",
      "Resolving deltas:  27% (79/290)\r",
      "Resolving deltas:  28% (82/290)\r",
      "Resolving deltas:  29% (85/290)\r",
      "Resolving deltas:  30% (87/290)\r",
      "Resolving deltas:  31% (90/290)\r",
      "Resolving deltas:  32% (93/290)\r",
      "Resolving deltas:  33% (96/290)\r",
      "Resolving deltas:  34% (99/290)\r",
      "Resolving deltas:  35% (102/290)\r",
      "Resolving deltas:  36% (105/290)\r",
      "Resolving deltas:  37% (108/290)\r",
      "Resolving deltas:  38% (111/290)\r",
      "Resolving deltas:  39% (115/290)\r",
      "Resolving deltas:  40% (116/290)\r",
      "Resolving deltas:  41% (121/290)\r",
      "Resolving deltas:  42% (122/290)\r",
      "Resolving deltas:  43% (125/290)\r",
      "Resolving deltas:  44% (128/290)\r",
      "Resolving deltas:  45% (131/290)\r",
      "Resolving deltas:  46% (134/290)\r",
      "Resolving deltas:  47% (137/290)\r",
      "Resolving deltas:  48% (140/290)\r",
      "Resolving deltas:  49% (144/290)\r",
      "Resolving deltas:  50% (145/290)\r",
      "Resolving deltas:  51% (148/290)\r",
      "Resolving deltas:  52% (152/290)\r",
      "Resolving deltas:  54% (157/290)\r",
      "Resolving deltas:  55% (161/290)\r",
      "Resolving deltas:  56% (165/290)\r",
      "Resolving deltas:  57% (166/290)\r",
      "Resolving deltas:  58% (170/290)\r",
      "Resolving deltas:  59% (172/290)\r",
      "Resolving deltas:  60% (174/290)\r",
      "Resolving deltas:  61% (177/290)\r",
      "Resolving deltas:  62% (180/290)\r",
      "Resolving deltas:  63% (183/290)\r",
      "Resolving deltas:  64% (187/290)\r",
      "Resolving deltas:  65% (189/290)\r",
      "Resolving deltas:  66% (192/290)\r",
      "Resolving deltas:  67% (195/290)\r",
      "Resolving deltas:  68% (198/290)\r",
      "Resolving deltas:  69% (201/290)\r",
      "Resolving deltas:  70% (203/290)\r",
      "Resolving deltas:  71% (208/290)\r",
      "Resolving deltas:  72% (209/290)\r",
      "Resolving deltas:  74% (215/290)\r",
      "Resolving deltas:  75% (218/290)\r",
      "Resolving deltas:  76% (221/290)\r",
      "Resolving deltas:  77% (224/290)\r",
      "Resolving deltas:  78% (227/290)\r",
      "Resolving deltas:  79% (230/290)\r",
      "Resolving deltas:  80% (232/290)\r",
      "Resolving deltas:  81% (236/290)\r",
      "Resolving deltas:  82% (240/290)\r",
      "Resolving deltas:  83% (241/290)\r",
      "Resolving deltas:  84% (244/290)\r",
      "Resolving deltas:  85% (247/290)\r",
      "Resolving deltas:  86% (250/290)\r",
      "Resolving deltas:  87% (254/290)\r",
      "Resolving deltas:  88% (256/290)\r",
      "Resolving deltas:  89% (259/290)\r",
      "Resolving deltas:  90% (261/290)\r",
      "Resolving deltas:  91% (265/290)\r",
      "Resolving deltas:  92% (267/290)\r",
      "Resolving deltas:  93% (270/290)\r",
      "Resolving deltas:  94% (275/290)\r",
      "Resolving deltas:  95% (276/290)\r",
      "Resolving deltas:  96% (279/290)\r",
      "Resolving deltas:  97% (282/290)\r",
      "Resolving deltas:  98% (285/290)\r",
      "Resolving deltas:  99% (288/290)\r",
      "Resolving deltas: 100% (290/290)\r",
      "Resolving deltas: 100% (290/290), done.\r\n"
     ]
    }
   ],
   "source": [
    "!git clone https://github.com/MoonInTheRiver/DiffSinger"
   ]
  },
  {
   "cell_type": "code",
   "execution_count": 5,
   "id": "fa879ab6",
   "metadata": {
    "execution": {
     "iopub.execute_input": "2025-06-26T19:39:37.041758Z",
     "iopub.status.busy": "2025-06-26T19:39:37.041472Z",
     "iopub.status.idle": "2025-06-26T19:39:37.053440Z",
     "shell.execute_reply": "2025-06-26T19:39:37.049750Z"
    },
    "papermill": {
     "duration": 0.027733,
     "end_time": "2025-06-26T19:39:37.057243",
     "exception": false,
     "start_time": "2025-06-26T19:39:37.029510",
     "status": "completed"
    },
    "tags": []
   },
   "outputs": [
    {
     "name": "stderr",
     "output_type": "stream",
     "text": [
      "/usr/local/lib/python3.10/site-packages/IPython/core/magics/osm.py:417: UserWarning: This is now an optional IPython functionality, setting dhist requires you to install the `pickleshare` library.\n",
      "  self.shell.db['dhist'] = compress_dhist(dhist)[-100:]\n"
     ]
    },
    {
     "name": "stdout",
     "output_type": "stream",
     "text": [
      "/kaggle/working/DiffSinger\n"
     ]
    }
   ],
   "source": [
    "cd DiffSinger"
   ]
  },
  {
   "cell_type": "code",
   "execution_count": 6,
   "id": "a6a42629",
   "metadata": {
    "collapsed": true,
    "execution": {
     "iopub.execute_input": "2025-06-26T19:39:37.076723Z",
     "iopub.status.busy": "2025-06-26T19:39:37.076493Z",
     "iopub.status.idle": "2025-06-26T19:39:38.719104Z",
     "shell.execute_reply": "2025-06-26T19:39:38.714097Z"
    },
    "jupyter": {
     "outputs_hidden": true
    },
    "papermill": {
     "duration": 1.656143,
     "end_time": "2025-06-26T19:39:38.721522",
     "exception": false,
     "start_time": "2025-06-26T19:39:37.065379",
     "status": "completed"
    },
    "tags": []
   },
   "outputs": [
    {
     "name": "stdout",
     "output_type": "stream",
     "text": [
      "Requirement already satisfied: matplotlib in /usr/local/lib/python3.10/site-packages (from -r requirements.txt (line 1)) (3.10.1)\r\n"
     ]
    },
    {
     "name": "stdout",
     "output_type": "stream",
     "text": [
      "Collecting librosa==0.8.0\r\n"
     ]
    },
    {
     "name": "stdout",
     "output_type": "stream",
     "text": [
      "  Downloading librosa-0.8.0.tar.gz (183 kB)\r\n",
      "\u001b[?25l     \u001b[90m━━━━━━━━━━━━━━━━━━━━━━━━━━━━━━━━━━━━━━━━\u001b[0m \u001b[32m0.0/183.9 kB\u001b[0m \u001b[31m?\u001b[0m eta \u001b[36m-:--:--\u001b[0m"
     ]
    },
    {
     "name": "stdout",
     "output_type": "stream",
     "text": [
      "\r",
      "\u001b[2K     \u001b[90m━━━━━━━━━━━━━━━━━━━━━━━━━━━━━━━━━━━━━━━\u001b[0m \u001b[32m183.9/183.9 kB\u001b[0m \u001b[31m6.4 MB/s\u001b[0m eta \u001b[36m0:00:00\u001b[0m\r\n",
      "\u001b[?25h"
     ]
    },
    {
     "name": "stdout",
     "output_type": "stream",
     "text": [
      "  Preparing metadata (setup.py) ... \u001b[?25l-"
     ]
    },
    {
     "name": "stdout",
     "output_type": "stream",
     "text": [
      "\b \bdone\r\n",
      "\u001b[?25hRequirement already satisfied: tqdm in /usr/local/lib/python3.10/site-packages (from -r requirements.txt (line 3)) (4.67.1)\r\n",
      "Requirement already satisfied: pandas in /usr/local/lib/python3.10/site-packages (from -r requirements.txt (line 4)) (2.2.3)\r\n"
     ]
    },
    {
     "name": "stdout",
     "output_type": "stream",
     "text": [
      "\u001b[31mERROR: Ignored the following versions that require a different python version: 0.52.0 Requires-Python >=3.6,<3.9; 0.52.0rc3 Requires-Python >=3.6,<3.9; 0.53.0 Requires-Python >=3.6,<3.10; 0.53.0rc1.post1 Requires-Python >=3.6,<3.10; 0.53.0rc2 Requires-Python >=3.6,<3.10; 0.53.0rc3 Requires-Python >=3.6,<3.10; 0.53.1 Requires-Python >=3.6,<3.10; 0.54.0 Requires-Python >=3.7,<3.10; 0.54.0rc2 Requires-Python >=3.7,<3.10; 0.54.0rc3 Requires-Python >=3.7,<3.10; 0.54.1 Requires-Python >=3.7,<3.10\u001b[0m\u001b[31m\r\n",
      "\u001b[0m\u001b[31mERROR: Could not find a version that satisfies the requirement numba==0.53.1 (from versions: 0.1, 0.2, 0.3, 0.5.0, 0.6.0, 0.7.0, 0.7.1, 0.7.2, 0.8.0, 0.8.1, 0.9.0, 0.10.0, 0.10.1, 0.11.0, 0.12.0, 0.12.1, 0.12.2, 0.13.0, 0.13.2, 0.13.3, 0.13.4, 0.14.0, 0.15.1, 0.16.0, 0.17.0, 0.18.1, 0.18.2, 0.19.1, 0.19.2, 0.20.0, 0.21.0, 0.22.0, 0.22.1, 0.23.0, 0.23.1, 0.24.0, 0.25.0, 0.26.0, 0.27.0, 0.28.1, 0.29.0, 0.30.0, 0.30.1, 0.31.0, 0.32.0, 0.33.0, 0.34.0, 0.35.0, 0.36.1, 0.36.2, 0.37.0, 0.38.0, 0.38.1, 0.39.0, 0.40.0, 0.40.1, 0.41.0, 0.42.0, 0.42.1, 0.43.0, 0.43.1, 0.44.0, 0.44.1, 0.45.0, 0.45.1, 0.46.0, 0.47.0, 0.48.0, 0.49.0, 0.49.1rc1, 0.49.1, 0.50.0rc1, 0.50.0, 0.50.1, 0.51.0rc1, 0.51.0, 0.51.1, 0.51.2, 0.52.0rc2, 0.55.0rc1, 0.55.0, 0.55.1, 0.55.2, 0.56.0rc1, 0.56.0, 0.56.2, 0.56.3, 0.56.4, 0.57.0rc1, 0.57.0, 0.57.1rc1, 0.57.1, 0.58.0rc1, 0.58.0rc2, 0.58.0, 0.58.1, 0.59.0rc1, 0.59.0, 0.59.1, 0.60.0rc1, 0.60.0, 0.61.0rc1, 0.61.0rc2, 0.61.0, 0.61.1rc1, 0.61.2)\u001b[0m\u001b[31m\r\n",
      "\u001b[0m\u001b[31mERROR: No matching distribution found for numba==0.53.1\u001b[0m\u001b[31m\r\n",
      "\u001b[0m\r\n",
      "\u001b[1m[\u001b[0m\u001b[34;49mnotice\u001b[0m\u001b[1;39;49m]\u001b[0m\u001b[39;49m A new release of pip is available: \u001b[0m\u001b[31;49m23.0.1\u001b[0m\u001b[39;49m -> \u001b[0m\u001b[32;49m25.1.1\u001b[0m\r\n",
      "\u001b[1m[\u001b[0m\u001b[34;49mnotice\u001b[0m\u001b[1;39;49m]\u001b[0m\u001b[39;49m To update, run: \u001b[0m\u001b[32;49mpip install --upgrade pip\u001b[0m\r\n"
     ]
    }
   ],
   "source": [
    "!pip install -r requirements.txt"
   ]
  },
  {
   "cell_type": "code",
   "execution_count": 7,
   "id": "f0602785",
   "metadata": {
    "execution": {
     "iopub.execute_input": "2025-06-26T19:39:38.743300Z",
     "iopub.status.busy": "2025-06-26T19:39:38.743040Z",
     "iopub.status.idle": "2025-06-26T19:39:43.160728Z",
     "shell.execute_reply": "2025-06-26T19:39:43.154760Z"
    },
    "papermill": {
     "duration": 4.433299,
     "end_time": "2025-06-26T19:39:43.163518",
     "exception": false,
     "start_time": "2025-06-26T19:39:38.730219",
     "status": "completed"
    },
    "tags": []
   },
   "outputs": [],
   "source": [
    "!cp -r /kaggle/input/0228-opencpop-ds100-rel/0228_opencpop_ds100_rel /kaggle/working/DiffSinger/checkpoints"
   ]
  },
  {
   "cell_type": "code",
   "execution_count": 8,
   "id": "078c4009",
   "metadata": {
    "execution": {
     "iopub.execute_input": "2025-06-26T19:39:43.184748Z",
     "iopub.status.busy": "2025-06-26T19:39:43.184491Z",
     "iopub.status.idle": "2025-06-26T19:39:43.196298Z",
     "shell.execute_reply": "2025-06-26T19:39:43.191934Z"
    },
    "papermill": {
     "duration": 0.026803,
     "end_time": "2025-06-26T19:39:43.199177",
     "exception": false,
     "start_time": "2025-06-26T19:39:43.172374",
     "status": "completed"
    },
    "tags": []
   },
   "outputs": [
    {
     "name": "stdout",
     "output_type": "stream",
     "text": [
      "✅ Patched pqmf.py to use numpy.kaiser\n"
     ]
    }
   ],
   "source": [
    "file_path = '/kaggle/working/DiffSinger/modules/parallel_wavegan/layers/pqmf.py'\n",
    "\n",
    "with open(file_path, 'r') as f:\n",
    "    code = f.read()\n",
    "\n",
    "# Replace import statement\n",
    "code = code.replace('from scipy.signal import kaiser', 'from numpy import kaiser')\n",
    "\n",
    "with open(file_path, 'w') as f:\n",
    "    f.write(code)\n",
    "\n",
    "print(\"✅ Patched pqmf.py to use numpy.kaiser\")"
   ]
  },
  {
   "cell_type": "code",
   "execution_count": 9,
   "id": "b5fc1400",
   "metadata": {
    "collapsed": true,
    "execution": {
     "iopub.execute_input": "2025-06-26T19:39:43.219512Z",
     "iopub.status.busy": "2025-06-26T19:39:43.219300Z",
     "iopub.status.idle": "2025-06-26T19:39:47.172987Z",
     "shell.execute_reply": "2025-06-26T19:39:47.169300Z"
    },
    "jupyter": {
     "outputs_hidden": true
    },
    "papermill": {
     "duration": 3.969632,
     "end_time": "2025-06-26T19:39:47.177304",
     "exception": false,
     "start_time": "2025-06-26T19:39:43.207672",
     "status": "completed"
    },
    "tags": []
   },
   "outputs": [
    {
     "name": "stdout",
     "output_type": "stream",
     "text": [
      "Collecting pypinyin\r\n"
     ]
    },
    {
     "name": "stdout",
     "output_type": "stream",
     "text": [
      "  Downloading pypinyin-0.54.0-py2.py3-none-any.whl (837 kB)\r\n",
      "\u001b[?25l     \u001b[90m━━━━━━━━━━━━━━━━━━━━━━━━━━━━━━━━━━━━━━━━\u001b[0m \u001b[32m0.0/837.0 kB\u001b[0m \u001b[31m?\u001b[0m eta \u001b[36m-:--:--\u001b[0m\r",
      "\u001b[2K     \u001b[91m━━━━━━━━━━━━━━━━━━━\u001b[0m\u001b[91m╸\u001b[0m\u001b[90m━━━━━━━━━━━━━━━━━━\u001b[0m \u001b[32m430.1/837.0 kB\u001b[0m \u001b[31m13.0 MB/s\u001b[0m eta \u001b[36m0:00:01\u001b[0m"
     ]
    },
    {
     "name": "stdout",
     "output_type": "stream",
     "text": [
      "\r",
      "\u001b[2K     \u001b[91m━━━━━━━━━━━━━━━━━━━━━━━━━━━━━━━━━━━━━\u001b[0m\u001b[91m╸\u001b[0m \u001b[32m829.4/837.0 kB\u001b[0m \u001b[31m15.9 MB/s\u001b[0m eta \u001b[36m0:00:01\u001b[0m\r",
      "\u001b[2K     \u001b[90m━━━━━━━━━━━━━━━━━━━━━━━━━━━━━━━━━━━━━━\u001b[0m \u001b[32m837.0/837.0 kB\u001b[0m \u001b[31m11.7 MB/s\u001b[0m eta \u001b[36m0:00:00\u001b[0m\r\n",
      "\u001b[?25h"
     ]
    },
    {
     "name": "stdout",
     "output_type": "stream",
     "text": [
      "Installing collected packages: pypinyin\r\n"
     ]
    },
    {
     "name": "stdout",
     "output_type": "stream",
     "text": [
      "Successfully installed pypinyin-0.54.0\r\n",
      "\u001b[33mWARNING: Running pip as the 'root' user can result in broken permissions and conflicting behaviour with the system package manager. It is recommended to use a virtual environment instead: https://pip.pypa.io/warnings/venv\u001b[0m\u001b[33m\r\n",
      "\u001b[0m\r\n",
      "\u001b[1m[\u001b[0m\u001b[34;49mnotice\u001b[0m\u001b[1;39;49m]\u001b[0m\u001b[39;49m A new release of pip is available: \u001b[0m\u001b[31;49m23.0.1\u001b[0m\u001b[39;49m -> \u001b[0m\u001b[32;49m25.1.1\u001b[0m\r\n",
      "\u001b[1m[\u001b[0m\u001b[34;49mnotice\u001b[0m\u001b[1;39;49m]\u001b[0m\u001b[39;49m To update, run: \u001b[0m\u001b[32;49mpip install --upgrade pip\u001b[0m\r\n"
     ]
    }
   ],
   "source": [
    "!pip install pypinyin"
   ]
  },
  {
   "cell_type": "code",
   "execution_count": 10,
   "id": "f3e35e2d",
   "metadata": {
    "collapsed": true,
    "execution": {
     "iopub.execute_input": "2025-06-26T19:39:47.200771Z",
     "iopub.status.busy": "2025-06-26T19:39:47.200508Z",
     "iopub.status.idle": "2025-06-26T19:39:55.535488Z",
     "shell.execute_reply": "2025-06-26T19:39:55.530938Z"
    },
    "jupyter": {
     "outputs_hidden": true
    },
    "papermill": {
     "duration": 8.351292,
     "end_time": "2025-06-26T19:39:55.538608",
     "exception": false,
     "start_time": "2025-06-26T19:39:47.187316",
     "status": "completed"
    },
    "tags": []
   },
   "outputs": [
    {
     "name": "stdout",
     "output_type": "stream",
     "text": [
      "Collecting pycwt\r\n"
     ]
    },
    {
     "name": "stdout",
     "output_type": "stream",
     "text": [
      "  Downloading pycwt-0.4.0b0-py3-none-any.whl (753 kB)\r\n",
      "\u001b[?25l     \u001b[90m━━━━━━━━━━━━━━━━━━━━━━━━━━━━━━━━━━━━━━━━\u001b[0m \u001b[32m0.0/753.5 kB\u001b[0m \u001b[31m?\u001b[0m eta \u001b[36m-:--:--\u001b[0m\r",
      "\u001b[2K     \u001b[91m━━━━━━━━━━━━━━━━\u001b[0m\u001b[91m╸\u001b[0m\u001b[90m━━━━━━━━━━━━━━━━━━━━━━\u001b[0m \u001b[32m327.7/753.5 kB\u001b[0m \u001b[31m9.6 MB/s\u001b[0m eta \u001b[36m0:00:01\u001b[0m"
     ]
    },
    {
     "name": "stdout",
     "output_type": "stream",
     "text": [
      "\r",
      "\u001b[2K     \u001b[91m━━━━━━━━━━━━━━━━━━━━━━━━━━━━━━━━━━━━━\u001b[0m\u001b[91m╸\u001b[0m \u001b[32m747.5/753.5 kB\u001b[0m \u001b[31m12.9 MB/s\u001b[0m eta \u001b[36m0:00:01\u001b[0m\r",
      "\u001b[2K     \u001b[90m━━━━━━━━━━━━━━━━━━━━━━━━━━━━━━━━━━━━━━\u001b[0m \u001b[32m753.5/753.5 kB\u001b[0m \u001b[31m10.2 MB/s\u001b[0m eta \u001b[36m0:00:00\u001b[0m\r\n",
      "\u001b[?25hRequirement already satisfied: matplotlib<4,>=3.7 in /usr/local/lib/python3.10/site-packages (from pycwt) (3.10.1)\r\n",
      "Requirement already satisfied: tqdm<5,>=4.65 in /usr/local/lib/python3.10/site-packages (from pycwt) (4.67.1)\r\n",
      "Requirement already satisfied: scipy<2,>=1.10 in /usr/local/lib/python3.10/site-packages (from pycwt) (1.15.2)\r\n"
     ]
    },
    {
     "name": "stdout",
     "output_type": "stream",
     "text": [
      "Collecting numpy<2,>=1.24\r\n",
      "  Downloading numpy-1.26.4-cp310-cp310-manylinux_2_17_x86_64.manylinux2014_x86_64.whl (18.2 MB)\r\n",
      "\u001b[?25l     \u001b[90m━━━━━━━━━━━━━━━━━━━━━━━━━━━━━━━━━━━━━━━━\u001b[0m \u001b[32m0.0/18.2 MB\u001b[0m \u001b[31m?\u001b[0m eta \u001b[36m-:--:--\u001b[0m\r",
      "\u001b[2K     \u001b[91m━\u001b[0m\u001b[91m╸\u001b[0m\u001b[90m━━━━━━━━━━━━━━━━━━━━━━━━━━━━━━━━━━━━━━\u001b[0m \u001b[32m0.9/18.2 MB\u001b[0m \u001b[31m25.7 MB/s\u001b[0m eta \u001b[36m0:00:01\u001b[0m"
     ]
    },
    {
     "name": "stdout",
     "output_type": "stream",
     "text": [
      "\r",
      "\u001b[2K     \u001b[91m━━━━\u001b[0m\u001b[90m╺\u001b[0m\u001b[90m━━━━━━━━━━━━━━━━━━━━━━━━━━━━━━━━━━━\u001b[0m \u001b[32m2.0/18.2 MB\u001b[0m \u001b[31m29.9 MB/s\u001b[0m eta \u001b[36m0:00:01\u001b[0m"
     ]
    },
    {
     "name": "stdout",
     "output_type": "stream",
     "text": [
      "\r",
      "\u001b[2K     \u001b[91m━━━━━━━━\u001b[0m\u001b[90m╺\u001b[0m\u001b[90m━━━━━━━━━━━━━━━━━━━━━━━━━━━━━━━\u001b[0m \u001b[32m3.8/18.2 MB\u001b[0m \u001b[31m36.5 MB/s\u001b[0m eta \u001b[36m0:00:01\u001b[0m"
     ]
    },
    {
     "name": "stdout",
     "output_type": "stream",
     "text": [
      "\r",
      "\u001b[2K     \u001b[91m━━━━━━━━━━━━━\u001b[0m\u001b[91m╸\u001b[0m\u001b[90m━━━━━━━━━━━━━━━━━━━━━━━━━━\u001b[0m \u001b[32m6.4/18.2 MB\u001b[0m \u001b[31m46.1 MB/s\u001b[0m eta \u001b[36m0:00:01\u001b[0m\r",
      "\u001b[2K     \u001b[91m━━━━━━━━━━━━━━━━━━━━━━\u001b[0m\u001b[91m╸\u001b[0m\u001b[90m━━━━━━━━━━━━━━━━━\u001b[0m \u001b[32m10.4/18.2 MB\u001b[0m \u001b[31m61.1 MB/s\u001b[0m eta \u001b[36m0:00:01\u001b[0m"
     ]
    },
    {
     "name": "stdout",
     "output_type": "stream",
     "text": [
      "\r",
      "\u001b[2K     \u001b[91m━━━━━━━━━━━━━━━━━━━━━━━━━━━━━━━━━━\u001b[0m\u001b[90m╺\u001b[0m\u001b[90m━━━━\u001b[0m \u001b[32m16.0/18.2 MB\u001b[0m \u001b[31m133.2 MB/s\u001b[0m eta \u001b[36m0:00:01\u001b[0m"
     ]
    },
    {
     "name": "stdout",
     "output_type": "stream",
     "text": [
      "\r",
      "\u001b[2K     \u001b[91m━━━━━━━━━━━━━━━━━━━━━━━━━━━━━━━━━━━━━━\u001b[0m\u001b[91m╸\u001b[0m \u001b[32m18.2/18.2 MB\u001b[0m \u001b[31m150.8 MB/s\u001b[0m eta \u001b[36m0:00:01\u001b[0m\r",
      "\u001b[2K     \u001b[91m━━━━━━━━━━━━━━━━━━━━━━━━━━━━━━━━━━━━━━\u001b[0m\u001b[91m╸\u001b[0m \u001b[32m18.2/18.2 MB\u001b[0m \u001b[31m150.8 MB/s\u001b[0m eta \u001b[36m0:00:01\u001b[0m"
     ]
    },
    {
     "name": "stdout",
     "output_type": "stream",
     "text": [
      "\r",
      "\u001b[2K     \u001b[91m━━━━━━━━━━━━━━━━━━━━━━━━━━━━━━━━━━━━━━\u001b[0m\u001b[91m╸\u001b[0m \u001b[32m18.2/18.2 MB\u001b[0m \u001b[31m150.8 MB/s\u001b[0m eta \u001b[36m0:00:01\u001b[0m\r",
      "\u001b[2K     \u001b[90m━━━━━━━━━━━━━━━━━━━━━━━━━━━━━━━━━━━━━━━━\u001b[0m \u001b[32m18.2/18.2 MB\u001b[0m \u001b[31m56.9 MB/s\u001b[0m eta \u001b[36m0:00:00\u001b[0m\r\n",
      "\u001b[?25h"
     ]
    },
    {
     "name": "stdout",
     "output_type": "stream",
     "text": [
      "Requirement already satisfied: pyparsing>=2.3.1 in /usr/local/lib/python3.10/site-packages (from matplotlib<4,>=3.7->pycwt) (3.2.3)\r\n",
      "Requirement already satisfied: pillow>=8 in /usr/local/lib/python3.10/site-packages (from matplotlib<4,>=3.7->pycwt) (11.2.1)\r\n",
      "Requirement already satisfied: python-dateutil>=2.7 in /usr/local/lib/python3.10/site-packages (from matplotlib<4,>=3.7->pycwt) (2.9.0.post0)\r\n",
      "Requirement already satisfied: kiwisolver>=1.3.1 in /usr/local/lib/python3.10/site-packages (from matplotlib<4,>=3.7->pycwt) (1.4.8)\r\n",
      "Requirement already satisfied: packaging>=20.0 in /usr/local/lib/python3.10/site-packages (from matplotlib<4,>=3.7->pycwt) (25.0)\r\n",
      "Requirement already satisfied: cycler>=0.10 in /usr/local/lib/python3.10/site-packages (from matplotlib<4,>=3.7->pycwt) (0.12.1)\r\n",
      "Requirement already satisfied: fonttools>=4.22.0 in /usr/local/lib/python3.10/site-packages (from matplotlib<4,>=3.7->pycwt) (4.57.0)\r\n",
      "Requirement already satisfied: contourpy>=1.0.1 in /usr/local/lib/python3.10/site-packages (from matplotlib<4,>=3.7->pycwt) (1.3.2)\r\n"
     ]
    },
    {
     "name": "stdout",
     "output_type": "stream",
     "text": [
      "Requirement already satisfied: six>=1.5 in /usr/local/lib/python3.10/site-packages (from python-dateutil>=2.7->matplotlib<4,>=3.7->pycwt) (1.17.0)\r\n"
     ]
    },
    {
     "name": "stdout",
     "output_type": "stream",
     "text": [
      "Installing collected packages: numpy, pycwt\r\n",
      "  Attempting uninstall: numpy\r\n",
      "    Found existing installation: numpy 2.0.2\r\n"
     ]
    },
    {
     "name": "stdout",
     "output_type": "stream",
     "text": [
      "    Uninstalling numpy-2.0.2:\r\n"
     ]
    },
    {
     "name": "stdout",
     "output_type": "stream",
     "text": [
      "      Successfully uninstalled numpy-2.0.2\r\n"
     ]
    },
    {
     "name": "stdout",
     "output_type": "stream",
     "text": [
      "Successfully installed numpy-1.26.4 pycwt-0.4.0b0\r\n",
      "\u001b[33mWARNING: Running pip as the 'root' user can result in broken permissions and conflicting behaviour with the system package manager. It is recommended to use a virtual environment instead: https://pip.pypa.io/warnings/venv\u001b[0m\u001b[33m\r\n",
      "\u001b[0m\r\n",
      "\u001b[1m[\u001b[0m\u001b[34;49mnotice\u001b[0m\u001b[1;39;49m]\u001b[0m\u001b[39;49m A new release of pip is available: \u001b[0m\u001b[31;49m23.0.1\u001b[0m\u001b[39;49m -> \u001b[0m\u001b[32;49m25.1.1\u001b[0m\r\n",
      "\u001b[1m[\u001b[0m\u001b[34;49mnotice\u001b[0m\u001b[1;39;49m]\u001b[0m\u001b[39;49m To update, run: \u001b[0m\u001b[32;49mpip install --upgrade pip\u001b[0m\r\n"
     ]
    }
   ],
   "source": [
    "!pip install pycwt"
   ]
  },
  {
   "cell_type": "code",
   "execution_count": 11,
   "id": "c5010aab",
   "metadata": {
    "collapsed": true,
    "execution": {
     "iopub.execute_input": "2025-06-26T19:39:55.561855Z",
     "iopub.status.busy": "2025-06-26T19:39:55.561585Z",
     "iopub.status.idle": "2025-06-26T19:39:59.884833Z",
     "shell.execute_reply": "2025-06-26T19:39:59.879067Z"
    },
    "jupyter": {
     "outputs_hidden": true
    },
    "papermill": {
     "duration": 4.338885,
     "end_time": "2025-06-26T19:39:59.887638",
     "exception": false,
     "start_time": "2025-06-26T19:39:55.548753",
     "status": "completed"
    },
    "tags": []
   },
   "outputs": [
    {
     "name": "stdout",
     "output_type": "stream",
     "text": [
      "Collecting praat-parselmouth\r\n"
     ]
    },
    {
     "name": "stdout",
     "output_type": "stream",
     "text": [
      "  Downloading praat_parselmouth-0.4.6-cp310-cp310-manylinux_2_12_x86_64.manylinux2010_x86_64.whl (10.7 MB)\r\n",
      "\u001b[?25l     \u001b[90m━━━━━━━━━━━━━━━━━━━━━━━━━━━━━━━━━━━━━━━━\u001b[0m \u001b[32m0.0/10.7 MB\u001b[0m \u001b[31m?\u001b[0m eta \u001b[36m-:--:--\u001b[0m\r",
      "\u001b[2K     \u001b[91m━━\u001b[0m\u001b[90m╺\u001b[0m\u001b[90m━━━━━━━━━━━━━━━━━━━━━━━━━━━━━━━━━━━━━\u001b[0m \u001b[32m0.6/10.7 MB\u001b[0m \u001b[31m16.6 MB/s\u001b[0m eta \u001b[36m0:00:01\u001b[0m"
     ]
    },
    {
     "name": "stdout",
     "output_type": "stream",
     "text": [
      "\r",
      "\u001b[2K     \u001b[91m━━━━━\u001b[0m\u001b[91m╸\u001b[0m\u001b[90m━━━━━━━━━━━━━━━━━━━━━━━━━━━━━━━━━━\u001b[0m \u001b[32m1.5/10.7 MB\u001b[0m \u001b[31m22.6 MB/s\u001b[0m eta \u001b[36m0:00:01\u001b[0m"
     ]
    },
    {
     "name": "stdout",
     "output_type": "stream",
     "text": [
      "\r",
      "\u001b[2K     \u001b[91m━━━━━━━━━━━\u001b[0m\u001b[90m╺\u001b[0m\u001b[90m━━━━━━━━━━━━━━━━━━━━━━━━━━━━\u001b[0m \u001b[32m3.0/10.7 MB\u001b[0m \u001b[31m28.9 MB/s\u001b[0m eta \u001b[36m0:00:01\u001b[0m\r",
      "\u001b[2K     \u001b[91m━━━━━━━━━━━━━━━━━━\u001b[0m\u001b[91m╸\u001b[0m\u001b[90m━━━━━━━━━━━━━━━━━━━━━\u001b[0m \u001b[32m5.0/10.7 MB\u001b[0m \u001b[31m36.5 MB/s\u001b[0m eta \u001b[36m0:00:01\u001b[0m"
     ]
    },
    {
     "name": "stdout",
     "output_type": "stream",
     "text": [
      "\r",
      "\u001b[2K     \u001b[91m━━━━━━━━━━━━━━━━━━━━━━━━━━━━━━\u001b[0m\u001b[90m╺\u001b[0m\u001b[90m━━━━━━━━━\u001b[0m \u001b[32m8.2/10.7 MB\u001b[0m \u001b[31m47.1 MB/s\u001b[0m eta \u001b[36m0:00:01\u001b[0m"
     ]
    },
    {
     "name": "stdout",
     "output_type": "stream",
     "text": [
      "\r",
      "\u001b[2K     \u001b[91m━━━━━━━━━━━━━━━━━━━━━━━━━━━━━━━━━━━━━━━\u001b[0m\u001b[91m╸\u001b[0m \u001b[32m10.7/10.7 MB\u001b[0m \u001b[31m62.3 MB/s\u001b[0m eta \u001b[36m0:00:01\u001b[0m\r",
      "\u001b[2K     \u001b[91m━━━━━━━━━━━━━━━━━━━━━━━━━━━━━━━━━━━━━━━\u001b[0m\u001b[91m╸\u001b[0m \u001b[32m10.7/10.7 MB\u001b[0m \u001b[31m62.3 MB/s\u001b[0m eta \u001b[36m0:00:01\u001b[0m"
     ]
    },
    {
     "name": "stdout",
     "output_type": "stream",
     "text": [
      "\r",
      "\u001b[2K     \u001b[90m━━━━━━━━━━━━━━━━━━━━━━━━━━━━━━━━━━━━━━━━\u001b[0m \u001b[32m10.7/10.7 MB\u001b[0m \u001b[31m45.1 MB/s\u001b[0m eta \u001b[36m0:00:00\u001b[0m\r\n",
      "\u001b[?25hRequirement already satisfied: numpy>=1.7.0 in /usr/local/lib/python3.10/site-packages (from praat-parselmouth) (1.26.4)\r\n"
     ]
    },
    {
     "name": "stdout",
     "output_type": "stream",
     "text": [
      "Installing collected packages: praat-parselmouth\r\n"
     ]
    },
    {
     "name": "stdout",
     "output_type": "stream",
     "text": [
      "Successfully installed praat-parselmouth-0.4.6\r\n",
      "\u001b[33mWARNING: Running pip as the 'root' user can result in broken permissions and conflicting behaviour with the system package manager. It is recommended to use a virtual environment instead: https://pip.pypa.io/warnings/venv\u001b[0m\u001b[33m\r\n",
      "\u001b[0m"
     ]
    },
    {
     "name": "stdout",
     "output_type": "stream",
     "text": [
      "\r\n",
      "\u001b[1m[\u001b[0m\u001b[34;49mnotice\u001b[0m\u001b[1;39;49m]\u001b[0m\u001b[39;49m A new release of pip is available: \u001b[0m\u001b[31;49m23.0.1\u001b[0m\u001b[39;49m -> \u001b[0m\u001b[32;49m25.1.1\u001b[0m\r\n",
      "\u001b[1m[\u001b[0m\u001b[34;49mnotice\u001b[0m\u001b[1;39;49m]\u001b[0m\u001b[39;49m To update, run: \u001b[0m\u001b[32;49mpip install --upgrade pip\u001b[0m\r\n"
     ]
    }
   ],
   "source": [
    "!pip install praat-parselmouth"
   ]
  },
  {
   "cell_type": "code",
   "execution_count": 12,
   "id": "3032cdd2",
   "metadata": {
    "collapsed": true,
    "execution": {
     "iopub.execute_input": "2025-06-26T19:40:00.043231Z",
     "iopub.status.busy": "2025-06-26T19:40:00.042903Z",
     "iopub.status.idle": "2025-06-26T19:40:07.298197Z",
     "shell.execute_reply": "2025-06-26T19:40:07.293377Z"
    },
    "jupyter": {
     "outputs_hidden": true
    },
    "papermill": {
     "duration": 7.367296,
     "end_time": "2025-06-26T19:40:07.301516",
     "exception": false,
     "start_time": "2025-06-26T19:39:59.934220",
     "status": "completed"
    },
    "tags": []
   },
   "outputs": [
    {
     "name": "stdout",
     "output_type": "stream",
     "text": [
      "Collecting webrtcvad\r\n"
     ]
    },
    {
     "name": "stdout",
     "output_type": "stream",
     "text": [
      "  Downloading webrtcvad-2.0.10.tar.gz (66 kB)\r\n",
      "\u001b[?25l     \u001b[90m━━━━━━━━━━━━━━━━━━━━━━━━━━━━━━━━━━━━━━━━\u001b[0m \u001b[32m0.0/66.2 kB\u001b[0m \u001b[31m?\u001b[0m eta \u001b[36m-:--:--\u001b[0m"
     ]
    },
    {
     "name": "stdout",
     "output_type": "stream",
     "text": [
      "\r",
      "\u001b[2K     \u001b[90m━━━━━━━━━━━━━━━━━━━━━━━━━━━━━━━━━━━━━━━━\u001b[0m \u001b[32m66.2/66.2 kB\u001b[0m \u001b[31m2.8 MB/s\u001b[0m eta \u001b[36m0:00:00\u001b[0m\r\n",
      "\u001b[?25h"
     ]
    },
    {
     "name": "stdout",
     "output_type": "stream",
     "text": [
      "  Preparing metadata (setup.py) ... \u001b[?25l-"
     ]
    },
    {
     "name": "stdout",
     "output_type": "stream",
     "text": [
      "\b \b\\\b \bdone\r\n",
      "\u001b[?25hBuilding wheels for collected packages: webrtcvad\r\n"
     ]
    },
    {
     "name": "stdout",
     "output_type": "stream",
     "text": [
      "  Building wheel for webrtcvad (setup.py) ... \u001b[?25l-"
     ]
    },
    {
     "name": "stdout",
     "output_type": "stream",
     "text": [
      "\b \b\\"
     ]
    },
    {
     "name": "stdout",
     "output_type": "stream",
     "text": [
      "\b \b|"
     ]
    },
    {
     "name": "stdout",
     "output_type": "stream",
     "text": [
      "\b \b/"
     ]
    },
    {
     "name": "stdout",
     "output_type": "stream",
     "text": [
      "\b \b-"
     ]
    },
    {
     "name": "stdout",
     "output_type": "stream",
     "text": [
      "\b \b\\"
     ]
    },
    {
     "name": "stdout",
     "output_type": "stream",
     "text": [
      "\b \b|"
     ]
    },
    {
     "name": "stdout",
     "output_type": "stream",
     "text": [
      "\b \b/"
     ]
    },
    {
     "name": "stdout",
     "output_type": "stream",
     "text": [
      "\b \b-"
     ]
    },
    {
     "name": "stdout",
     "output_type": "stream",
     "text": [
      "\b \b\\"
     ]
    },
    {
     "name": "stdout",
     "output_type": "stream",
     "text": [
      "\b \b|"
     ]
    },
    {
     "name": "stdout",
     "output_type": "stream",
     "text": [
      "\b \b/"
     ]
    },
    {
     "name": "stdout",
     "output_type": "stream",
     "text": [
      "\b \b-"
     ]
    },
    {
     "name": "stdout",
     "output_type": "stream",
     "text": [
      "\b \bdone\r\n",
      "\u001b[?25h  Created wheel for webrtcvad: filename=webrtcvad-2.0.10-cp310-cp310-linux_x86_64.whl size=82864 sha256=7ccc3103c25bb917c9143a9900e24684f404204608c1f2d1ec7e794520b2c71c\r\n",
      "  Stored in directory: /root/.cache/pip/wheels/2a/2b/84/ac7bacfe8c68a87c1ee3dd3c66818a54c71599abf308e8eb35\r\n",
      "Successfully built webrtcvad\r\n"
     ]
    },
    {
     "name": "stdout",
     "output_type": "stream",
     "text": [
      "Installing collected packages: webrtcvad\r\n"
     ]
    },
    {
     "name": "stdout",
     "output_type": "stream",
     "text": [
      "Successfully installed webrtcvad-2.0.10\r\n",
      "\u001b[33mWARNING: Running pip as the 'root' user can result in broken permissions and conflicting behaviour with the system package manager. It is recommended to use a virtual environment instead: https://pip.pypa.io/warnings/venv\u001b[0m\u001b[33m\r\n",
      "\u001b[0m\r\n",
      "\u001b[1m[\u001b[0m\u001b[34;49mnotice\u001b[0m\u001b[1;39;49m]\u001b[0m\u001b[39;49m A new release of pip is available: \u001b[0m\u001b[31;49m23.0.1\u001b[0m\u001b[39;49m -> \u001b[0m\u001b[32;49m25.1.1\u001b[0m\r\n",
      "\u001b[1m[\u001b[0m\u001b[34;49mnotice\u001b[0m\u001b[1;39;49m]\u001b[0m\u001b[39;49m To update, run: \u001b[0m\u001b[32;49mpip install --upgrade pip\u001b[0m\r\n"
     ]
    }
   ],
   "source": [
    "!pip install webrtcvad"
   ]
  },
  {
   "cell_type": "code",
   "execution_count": 13,
   "id": "ce56c369",
   "metadata": {
    "collapsed": true,
    "execution": {
     "iopub.execute_input": "2025-06-26T19:40:07.328509Z",
     "iopub.status.busy": "2025-06-26T19:40:07.328249Z",
     "iopub.status.idle": "2025-06-26T19:40:11.506654Z",
     "shell.execute_reply": "2025-06-26T19:40:11.502726Z"
    },
    "jupyter": {
     "outputs_hidden": true
    },
    "papermill": {
     "duration": 4.197408,
     "end_time": "2025-06-26T19:40:11.511015",
     "exception": false,
     "start_time": "2025-06-26T19:40:07.313607",
     "status": "completed"
    },
    "tags": []
   },
   "outputs": [
    {
     "name": "stdout",
     "output_type": "stream",
     "text": [
      "Collecting pyloudnorm\r\n"
     ]
    },
    {
     "name": "stdout",
     "output_type": "stream",
     "text": [
      "  Downloading pyloudnorm-0.1.1-py3-none-any.whl (9.6 kB)\r\n"
     ]
    },
    {
     "name": "stdout",
     "output_type": "stream",
     "text": [
      "Collecting future>=0.16.0\r\n",
      "  Downloading future-1.0.0-py3-none-any.whl (491 kB)\r\n",
      "\u001b[?25l     \u001b[90m━━━━━━━━━━━━━━━━━━━━━━━━━━━━━━━━━━━━━━━━\u001b[0m \u001b[32m0.0/491.3 kB\u001b[0m \u001b[31m?\u001b[0m eta \u001b[36m-:--:--\u001b[0m"
     ]
    },
    {
     "name": "stdout",
     "output_type": "stream",
     "text": [
      "\r",
      "\u001b[2K     \u001b[91m━━━━━━━━━━━━━━━━━━━━━━━━━━━━━━━━━━\u001b[0m\u001b[90m╺\u001b[0m\u001b[90m━━━\u001b[0m \u001b[32m440.3/491.3 kB\u001b[0m \u001b[31m13.3 MB/s\u001b[0m eta \u001b[36m0:00:01\u001b[0m\r",
      "\u001b[2K     \u001b[90m━━━━━━━━━━━━━━━━━━━━━━━━━━━━━━━━━━━━━━━\u001b[0m \u001b[32m491.3/491.3 kB\u001b[0m \u001b[31m8.7 MB/s\u001b[0m eta \u001b[36m0:00:00\u001b[0m\r\n",
      "\u001b[?25hRequirement already satisfied: numpy>=1.14.2 in /usr/local/lib/python3.10/site-packages (from pyloudnorm) (1.26.4)\r\n",
      "Requirement already satisfied: scipy>=1.0.1 in /usr/local/lib/python3.10/site-packages (from pyloudnorm) (1.15.2)\r\n"
     ]
    },
    {
     "name": "stdout",
     "output_type": "stream",
     "text": [
      "Installing collected packages: future, pyloudnorm\r\n"
     ]
    },
    {
     "name": "stdout",
     "output_type": "stream",
     "text": [
      "Successfully installed future-1.0.0 pyloudnorm-0.1.1\r\n",
      "\u001b[33mWARNING: Running pip as the 'root' user can result in broken permissions and conflicting behaviour with the system package manager. It is recommended to use a virtual environment instead: https://pip.pypa.io/warnings/venv\u001b[0m\u001b[33m\r\n",
      "\u001b[0m\r\n",
      "\u001b[1m[\u001b[0m\u001b[34;49mnotice\u001b[0m\u001b[1;39;49m]\u001b[0m\u001b[39;49m A new release of pip is available: \u001b[0m\u001b[31;49m23.0.1\u001b[0m\u001b[39;49m -> \u001b[0m\u001b[32;49m25.1.1\u001b[0m\r\n",
      "\u001b[1m[\u001b[0m\u001b[34;49mnotice\u001b[0m\u001b[1;39;49m]\u001b[0m\u001b[39;49m To update, run: \u001b[0m\u001b[32;49mpip install --upgrade pip\u001b[0m\r\n"
     ]
    }
   ],
   "source": [
    "!pip install pyloudnorm"
   ]
  },
  {
   "cell_type": "code",
   "execution_count": 14,
   "id": "ad025af4",
   "metadata": {
    "execution": {
     "iopub.execute_input": "2025-06-26T19:40:11.542014Z",
     "iopub.status.busy": "2025-06-26T19:40:11.541702Z",
     "iopub.status.idle": "2025-06-26T19:40:11.553370Z",
     "shell.execute_reply": "2025-06-26T19:40:11.547500Z"
    },
    "papermill": {
     "duration": 0.031524,
     "end_time": "2025-06-26T19:40:11.556220",
     "exception": false,
     "start_time": "2025-06-26T19:40:11.524696",
     "status": "completed"
    },
    "tags": []
   },
   "outputs": [],
   "source": [
    "# !pip install --upgrade pip"
   ]
  },
  {
   "cell_type": "code",
   "execution_count": 15,
   "id": "66fc9d30",
   "metadata": {
    "collapsed": true,
    "execution": {
     "iopub.execute_input": "2025-06-26T19:40:11.586652Z",
     "iopub.status.busy": "2025-06-26T19:40:11.586398Z",
     "iopub.status.idle": "2025-06-26T19:40:39.226121Z",
     "shell.execute_reply": "2025-06-26T19:40:39.220068Z"
    },
    "jupyter": {
     "outputs_hidden": true
    },
    "papermill": {
     "duration": 27.65924,
     "end_time": "2025-06-26T19:40:39.229000",
     "exception": false,
     "start_time": "2025-06-26T19:40:11.569760",
     "status": "completed"
    },
    "tags": []
   },
   "outputs": [
    {
     "name": "stdout",
     "output_type": "stream",
     "text": [
      "Collecting librosa\r\n"
     ]
    },
    {
     "name": "stdout",
     "output_type": "stream",
     "text": [
      "  Downloading librosa-0.11.0-py3-none-any.whl (260 kB)\r\n",
      "\u001b[?25l     \u001b[90m━━━━━━━━━━━━━━━━━━━━━━━━━━━━━━━━━━━━━━━━\u001b[0m \u001b[32m0.0/260.7 kB\u001b[0m \u001b[31m?\u001b[0m eta \u001b[36m-:--:--\u001b[0m"
     ]
    },
    {
     "name": "stdout",
     "output_type": "stream",
     "text": [
      "\r",
      "\u001b[2K     \u001b[90m━━━━━━━━━━━━━━━━━━━━━━━━━━━━━━━━━━━━━━━\u001b[0m \u001b[32m260.7/260.7 kB\u001b[0m \u001b[31m8.2 MB/s\u001b[0m eta \u001b[36m0:00:00\u001b[0m\r\n",
      "\u001b[?25hRequirement already satisfied: numpy>=1.22.3 in /usr/local/lib/python3.10/site-packages (from librosa) (1.26.4)\r\n",
      "Requirement already satisfied: typing_extensions>=4.1.1 in /usr/local/lib/python3.10/site-packages (from librosa) (4.13.2)\r\n",
      "Requirement already satisfied: decorator>=4.3.0 in /usr/local/lib/python3.10/site-packages (from librosa) (5.2.1)\r\n"
     ]
    },
    {
     "name": "stdout",
     "output_type": "stream",
     "text": [
      "Collecting lazy_loader>=0.1\r\n",
      "  Downloading lazy_loader-0.4-py3-none-any.whl (12 kB)\r\n"
     ]
    },
    {
     "name": "stdout",
     "output_type": "stream",
     "text": [
      "Collecting numba>=0.51.0\r\n",
      "  Downloading numba-0.61.2-cp310-cp310-manylinux2014_x86_64.manylinux_2_17_x86_64.whl (3.8 MB)\r\n",
      "\u001b[?25l     \u001b[90m━━━━━━━━━━━━━━━━━━━━━━━━━━━━━━━━━━━━━━━━\u001b[0m \u001b[32m0.0/3.8 MB\u001b[0m \u001b[31m?\u001b[0m eta \u001b[36m-:--:--\u001b[0m"
     ]
    },
    {
     "name": "stdout",
     "output_type": "stream",
     "text": [
      "\r",
      "\u001b[2K     \u001b[91m━━━━━━━━━\u001b[0m\u001b[91m╸\u001b[0m\u001b[90m━━━━━━━━━━━━━━━━━━━━━━━━━━━━━━\u001b[0m \u001b[32m0.9/3.8 MB\u001b[0m \u001b[31m28.0 MB/s\u001b[0m eta \u001b[36m0:00:01\u001b[0m"
     ]
    },
    {
     "name": "stdout",
     "output_type": "stream",
     "text": [
      "\r",
      "\u001b[2K     \u001b[91m━━━━━━━━━━━━━━━━━━━━━━\u001b[0m\u001b[90m╺\u001b[0m\u001b[90m━━━━━━━━━━━━━━━━━\u001b[0m \u001b[32m2.2/3.8 MB\u001b[0m \u001b[31m31.8 MB/s\u001b[0m eta \u001b[36m0:00:01\u001b[0m\r",
      "\u001b[2K     \u001b[91m━━━━━━━━━━━━━━━━━━━━━━━━━━━━━━━━━━━━━━━\u001b[0m\u001b[91m╸\u001b[0m \u001b[32m3.8/3.8 MB\u001b[0m \u001b[31m37.2 MB/s\u001b[0m eta \u001b[36m0:00:01\u001b[0m"
     ]
    },
    {
     "name": "stdout",
     "output_type": "stream",
     "text": [
      "\r",
      "\u001b[2K     \u001b[90m━━━━━━━━━━━━━━━━━━━━━━━━━━━━━━━━━━━━━━━━\u001b[0m \u001b[32m3.8/3.8 MB\u001b[0m \u001b[31m28.4 MB/s\u001b[0m eta \u001b[36m0:00:00\u001b[0m\r\n",
      "\u001b[?25hRequirement already satisfied: scipy>=1.6.0 in /usr/local/lib/python3.10/site-packages (from librosa) (1.15.2)\r\n"
     ]
    },
    {
     "name": "stdout",
     "output_type": "stream",
     "text": [
      "Collecting soundfile>=0.12.1\r\n",
      "  Downloading soundfile-0.13.1-py2.py3-none-manylinux_2_28_x86_64.whl (1.3 MB)\r\n",
      "\u001b[?25l     \u001b[90m━━━━━━━━━━━━━━━━━━━━━━━━━━━━━━━━━━━━━━━━\u001b[0m \u001b[32m0.0/1.3 MB\u001b[0m \u001b[31m?\u001b[0m eta \u001b[36m-:--:--\u001b[0m"
     ]
    },
    {
     "name": "stdout",
     "output_type": "stream",
     "text": [
      "\r",
      "\u001b[2K     \u001b[91m━━━━━━━━━━━━━━━━━━━━━━━━━━━━━━━━━━━━━━━\u001b[0m\u001b[91m╸\u001b[0m \u001b[32m1.3/1.3 MB\u001b[0m \u001b[31m68.0 MB/s\u001b[0m eta \u001b[36m0:00:01\u001b[0m\r",
      "\u001b[2K     \u001b[90m━━━━━━━━━━━━━━━━━━━━━━━━━━━━━━━━━━━━━━━━\u001b[0m \u001b[32m1.3/1.3 MB\u001b[0m \u001b[31m32.9 MB/s\u001b[0m eta \u001b[36m0:00:00\u001b[0m\r\n",
      "\u001b[?25h"
     ]
    },
    {
     "name": "stdout",
     "output_type": "stream",
     "text": [
      "Collecting audioread>=2.1.9\r\n",
      "  Downloading audioread-3.0.1-py3-none-any.whl (23 kB)\r\n",
      "Requirement already satisfied: scikit-learn>=1.1.0 in /usr/local/lib/python3.10/site-packages (from librosa) (1.6.1)\r\n"
     ]
    },
    {
     "name": "stdout",
     "output_type": "stream",
     "text": [
      "Collecting pooch>=1.1\r\n",
      "  Downloading pooch-1.8.2-py3-none-any.whl (64 kB)\r\n",
      "\u001b[?25l     \u001b[90m━━━━━━━━━━━━━━━━━━━━━━━━━━━━━━━━━━━━━━━━\u001b[0m \u001b[32m0.0/64.6 kB\u001b[0m \u001b[31m?\u001b[0m eta \u001b[36m-:--:--\u001b[0m\r",
      "\u001b[2K     \u001b[90m━━━━━━━━━━━━━━━━━━━━━━━━━━━━━━━━━━━━━━━━\u001b[0m \u001b[32m64.6/64.6 kB\u001b[0m \u001b[31m6.7 MB/s\u001b[0m eta \u001b[36m0:00:00\u001b[0m\r\n",
      "\u001b[?25hRequirement already satisfied: msgpack>=1.0 in /usr/local/lib/python3.10/site-packages (from librosa) (1.1.0)\r\n",
      "Requirement already satisfied: joblib>=1.0 in /usr/local/lib/python3.10/site-packages (from librosa) (1.5.0)\r\n"
     ]
    },
    {
     "name": "stdout",
     "output_type": "stream",
     "text": [
      "Collecting soxr>=0.3.2\r\n",
      "  Downloading soxr-0.5.0.post1-cp310-cp310-manylinux_2_17_x86_64.manylinux2014_x86_64.whl (252 kB)\r\n",
      "\u001b[?25l     \u001b[90m━━━━━━━━━━━━━━━━━━━━━━━━━━━━━━━━━━━━━━━━\u001b[0m \u001b[32m0.0/252.8 kB\u001b[0m \u001b[31m?\u001b[0m eta \u001b[36m-:--:--\u001b[0m\r",
      "\u001b[2K     \u001b[90m━━━━━━━━━━━━━━━━━━━━━━━━━━━━━━━━━━━━━━\u001b[0m \u001b[32m252.8/252.8 kB\u001b[0m \u001b[31m20.6 MB/s\u001b[0m eta \u001b[36m0:00:00\u001b[0m\r\n",
      "\u001b[?25hRequirement already satisfied: packaging in /usr/local/lib/python3.10/site-packages (from lazy_loader>=0.1->librosa) (25.0)\r\n"
     ]
    },
    {
     "name": "stdout",
     "output_type": "stream",
     "text": [
      "Collecting llvmlite<0.45,>=0.44.0dev0\r\n",
      "  Downloading llvmlite-0.44.0-cp310-cp310-manylinux_2_17_x86_64.manylinux2014_x86_64.whl (42.4 MB)\r\n",
      "\u001b[?25l     \u001b[90m━━━━━━━━━━━━━━━━━━━━━━━━━━━━━━━━━━━━━━━━\u001b[0m \u001b[32m0.0/42.4 MB\u001b[0m \u001b[31m?\u001b[0m eta \u001b[36m-:--:--\u001b[0m"
     ]
    },
    {
     "name": "stdout",
     "output_type": "stream",
     "text": [
      "\r",
      "\u001b[2K     \u001b[91m━━\u001b[0m\u001b[91m╸\u001b[0m\u001b[90m━━━━━━━━━━━━━━━━━━━━━━━━━━━━━━━━━━━━━\u001b[0m \u001b[32m3.0/42.4 MB\u001b[0m \u001b[31m90.2 MB/s\u001b[0m eta \u001b[36m0:00:01\u001b[0m"
     ]
    },
    {
     "name": "stdout",
     "output_type": "stream",
     "text": [
      "\r",
      "\u001b[2K     \u001b[91m━━━━━━\u001b[0m\u001b[91m╸\u001b[0m\u001b[90m━━━━━━━━━━━━━━━━━━━━━━━━━━━━━━━━━\u001b[0m \u001b[32m7.1/42.4 MB\u001b[0m \u001b[31m103.1 MB/s\u001b[0m eta \u001b[36m0:00:01\u001b[0m"
     ]
    },
    {
     "name": "stdout",
     "output_type": "stream",
     "text": [
      "\r",
      "\u001b[2K     \u001b[91m━━━━━━━━━━\u001b[0m\u001b[90m╺\u001b[0m\u001b[90m━━━━━━━━━━━━━━━━━━━━━━━━━━━━\u001b[0m \u001b[32m11.3/42.4 MB\u001b[0m \u001b[31m113.6 MB/s\u001b[0m eta \u001b[36m0:00:01\u001b[0m\r",
      "\u001b[2K     \u001b[91m━━━━━━━━━━━━━━━\u001b[0m\u001b[91m╸\u001b[0m\u001b[90m━━━━━━━━━━━━━━━━━━━━━━━\u001b[0m \u001b[32m17.0/42.4 MB\u001b[0m \u001b[31m142.3 MB/s\u001b[0m eta \u001b[36m0:00:01\u001b[0m"
     ]
    },
    {
     "name": "stdout",
     "output_type": "stream",
     "text": [
      "\r",
      "\u001b[2K     \u001b[91m━━━━━━━━━━━━━━━━━━━━\u001b[0m\u001b[91m╸\u001b[0m\u001b[90m━━━━━━━━━━━━━━━━━━\u001b[0m \u001b[32m22.7/42.4 MB\u001b[0m \u001b[31m164.5 MB/s\u001b[0m eta \u001b[36m0:00:01\u001b[0m"
     ]
    },
    {
     "name": "stdout",
     "output_type": "stream",
     "text": [
      "\r",
      "\u001b[2K     \u001b[91m━━━━━━━━━━━━━━━━━━━━━━━━━━\u001b[0m\u001b[90m╺\u001b[0m\u001b[90m━━━━━━━━━━━━\u001b[0m \u001b[32m28.7/42.4 MB\u001b[0m \u001b[31m169.2 MB/s\u001b[0m eta \u001b[36m0:00:01\u001b[0m\r",
      "\u001b[2K     \u001b[91m━━━━━━━━━━━━━━━━━━━━━━━━━━━━━━━\u001b[0m\u001b[90m╺\u001b[0m\u001b[90m━━━━━━━\u001b[0m \u001b[32m33.8/42.4 MB\u001b[0m \u001b[31m160.6 MB/s\u001b[0m eta \u001b[36m0:00:01\u001b[0m"
     ]
    },
    {
     "name": "stdout",
     "output_type": "stream",
     "text": [
      "\r",
      "\u001b[2K     \u001b[91m━━━━━━━━━━━━━━━━━━━━━━━━━━━━━━━━━━\u001b[0m\u001b[91m╸\u001b[0m\u001b[90m━━━━\u001b[0m \u001b[32m37.9/42.4 MB\u001b[0m \u001b[31m138.7 MB/s\u001b[0m eta \u001b[36m0:00:01\u001b[0m"
     ]
    },
    {
     "name": "stdout",
     "output_type": "stream",
     "text": [
      "\r",
      "\u001b[2K     \u001b[91m━━━━━━━━━━━━━━━━━━━━━━━━━━━━━━━━━━━━━\u001b[0m\u001b[90m╺\u001b[0m\u001b[90m━\u001b[0m \u001b[32m40.4/42.4 MB\u001b[0m \u001b[31m106.2 MB/s\u001b[0m eta \u001b[36m0:00:01\u001b[0m"
     ]
    },
    {
     "name": "stdout",
     "output_type": "stream",
     "text": [
      "\r",
      "\u001b[2K     \u001b[91m━━━━━━━━━━━━━━━━━━━━━━━━━━━━━━━━━━━━━━\u001b[0m\u001b[91m╸\u001b[0m \u001b[32m42.4/42.4 MB\u001b[0m \u001b[31m104.9 MB/s\u001b[0m eta \u001b[36m0:00:01\u001b[0m\r",
      "\u001b[2K     \u001b[91m━━━━━━━━━━━━━━━━━━━━━━━━━━━━━━━━━━━━━━\u001b[0m\u001b[91m╸\u001b[0m \u001b[32m42.4/42.4 MB\u001b[0m \u001b[31m104.9 MB/s\u001b[0m eta \u001b[36m0:00:01\u001b[0m"
     ]
    },
    {
     "name": "stdout",
     "output_type": "stream",
     "text": [
      "\r",
      "\u001b[2K     \u001b[91m━━━━━━━━━━━━━━━━━━━━━━━━━━━━━━━━━━━━━━\u001b[0m\u001b[91m╸\u001b[0m \u001b[32m42.4/42.4 MB\u001b[0m \u001b[31m104.9 MB/s\u001b[0m eta \u001b[36m0:00:01\u001b[0m"
     ]
    },
    {
     "name": "stdout",
     "output_type": "stream",
     "text": [
      "\r",
      "\u001b[2K     \u001b[91m━━━━━━━━━━━━━━━━━━━━━━━━━━━━━━━━━━━━━━\u001b[0m\u001b[91m╸\u001b[0m \u001b[32m42.4/42.4 MB\u001b[0m \u001b[31m104.9 MB/s\u001b[0m eta \u001b[36m0:00:01\u001b[0m\r",
      "\u001b[2K     \u001b[91m━━━━━━━━━━━━━━━━━━━━━━━━━━━━━━━━━━━━━━\u001b[0m\u001b[91m╸\u001b[0m \u001b[32m42.4/42.4 MB\u001b[0m \u001b[31m104.9 MB/s\u001b[0m eta \u001b[36m0:00:01\u001b[0m"
     ]
    },
    {
     "name": "stdout",
     "output_type": "stream",
     "text": [
      "\r",
      "\u001b[2K     \u001b[91m━━━━━━━━━━━━━━━━━━━━━━━━━━━━━━━━━━━━━━\u001b[0m\u001b[91m╸\u001b[0m \u001b[32m42.4/42.4 MB\u001b[0m \u001b[31m104.9 MB/s\u001b[0m eta \u001b[36m0:00:01\u001b[0m"
     ]
    },
    {
     "name": "stdout",
     "output_type": "stream",
     "text": [
      "\r",
      "\u001b[2K     \u001b[91m━━━━━━━━━━━━━━━━━━━━━━━━━━━━━━━━━━━━━━\u001b[0m\u001b[91m╸\u001b[0m \u001b[32m42.4/42.4 MB\u001b[0m \u001b[31m104.9 MB/s\u001b[0m eta \u001b[36m0:00:01\u001b[0m\r",
      "\u001b[2K     \u001b[91m━━━━━━━━━━━━━━━━━━━━━━━━━━━━━━━━━━━━━━\u001b[0m\u001b[91m╸\u001b[0m \u001b[32m42.4/42.4 MB\u001b[0m \u001b[31m104.9 MB/s\u001b[0m eta \u001b[36m0:00:01\u001b[0m"
     ]
    },
    {
     "name": "stdout",
     "output_type": "stream",
     "text": [
      "\r",
      "\u001b[2K     \u001b[91m━━━━━━━━━━━━━━━━━━━━━━━━━━━━━━━━━━━━━━\u001b[0m\u001b[91m╸\u001b[0m \u001b[32m42.4/42.4 MB\u001b[0m \u001b[31m104.9 MB/s\u001b[0m eta \u001b[36m0:00:01\u001b[0m"
     ]
    },
    {
     "name": "stdout",
     "output_type": "stream",
     "text": [
      "\r",
      "\u001b[2K     \u001b[91m━━━━━━━━━━━━━━━━━━━━━━━━━━━━━━━━━━━━━━\u001b[0m\u001b[91m╸\u001b[0m \u001b[32m42.4/42.4 MB\u001b[0m \u001b[31m104.9 MB/s\u001b[0m eta \u001b[36m0:00:01\u001b[0m\r",
      "\u001b[2K     \u001b[91m━━━━━━━━━━━━━━━━━━━━━━━━━━━━━━━━━━━━━━\u001b[0m\u001b[91m╸\u001b[0m \u001b[32m42.4/42.4 MB\u001b[0m \u001b[31m104.9 MB/s\u001b[0m eta \u001b[36m0:00:01\u001b[0m"
     ]
    },
    {
     "name": "stdout",
     "output_type": "stream",
     "text": [
      "\r",
      "\u001b[2K     \u001b[91m━━━━━━━━━━━━━━━━━━━━━━━━━━━━━━━━━━━━━━\u001b[0m\u001b[91m╸\u001b[0m \u001b[32m42.4/42.4 MB\u001b[0m \u001b[31m104.9 MB/s\u001b[0m eta \u001b[36m0:00:01\u001b[0m"
     ]
    },
    {
     "name": "stdout",
     "output_type": "stream",
     "text": [
      "\r",
      "\u001b[2K     \u001b[91m━━━━━━━━━━━━━━━━━━━━━━━━━━━━━━━━━━━━━━\u001b[0m\u001b[91m╸\u001b[0m \u001b[32m42.4/42.4 MB\u001b[0m \u001b[31m104.9 MB/s\u001b[0m eta \u001b[36m0:00:01\u001b[0m\r",
      "\u001b[2K     \u001b[91m━━━━━━━━━━━━━━━━━━━━━━━━━━━━━━━━━━━━━━\u001b[0m\u001b[91m╸\u001b[0m \u001b[32m42.4/42.4 MB\u001b[0m \u001b[31m104.9 MB/s\u001b[0m eta \u001b[36m0:00:01\u001b[0m"
     ]
    },
    {
     "name": "stdout",
     "output_type": "stream",
     "text": [
      "\r",
      "\u001b[2K     \u001b[91m━━━━━━━━━━━━━━━━━━━━━━━━━━━━━━━━━━━━━━\u001b[0m\u001b[91m╸\u001b[0m \u001b[32m42.4/42.4 MB\u001b[0m \u001b[31m104.9 MB/s\u001b[0m eta \u001b[36m0:00:01\u001b[0m"
     ]
    },
    {
     "name": "stdout",
     "output_type": "stream",
     "text": [
      "\r",
      "\u001b[2K     \u001b[91m━━━━━━━━━━━━━━━━━━━━━━━━━━━━━━━━━━━━━━\u001b[0m\u001b[91m╸\u001b[0m \u001b[32m42.4/42.4 MB\u001b[0m \u001b[31m104.9 MB/s\u001b[0m eta \u001b[36m0:00:01\u001b[0m\r",
      "\u001b[2K     \u001b[91m━━━━━━━━━━━━━━━━━━━━━━━━━━━━━━━━━━━━━━\u001b[0m\u001b[91m╸\u001b[0m \u001b[32m42.4/42.4 MB\u001b[0m \u001b[31m104.9 MB/s\u001b[0m eta \u001b[36m0:00:01\u001b[0m"
     ]
    },
    {
     "name": "stdout",
     "output_type": "stream",
     "text": [
      "\r",
      "\u001b[2K     \u001b[91m━━━━━━━━━━━━━━━━━━━━━━━━━━━━━━━━━━━━━━\u001b[0m\u001b[91m╸\u001b[0m \u001b[32m42.4/42.4 MB\u001b[0m \u001b[31m104.9 MB/s\u001b[0m eta \u001b[36m0:00:01\u001b[0m"
     ]
    },
    {
     "name": "stdout",
     "output_type": "stream",
     "text": [
      "\r",
      "\u001b[2K     \u001b[91m━━━━━━━━━━━━━━━━━━━━━━━━━━━━━━━━━━━━━━\u001b[0m\u001b[91m╸\u001b[0m \u001b[32m42.4/42.4 MB\u001b[0m \u001b[31m104.9 MB/s\u001b[0m eta \u001b[36m0:00:01\u001b[0m\r",
      "\u001b[2K     \u001b[91m━━━━━━━━━━━━━━━━━━━━━━━━━━━━━━━━━━━━━━\u001b[0m\u001b[91m╸\u001b[0m \u001b[32m42.4/42.4 MB\u001b[0m \u001b[31m104.9 MB/s\u001b[0m eta \u001b[36m0:00:01\u001b[0m"
     ]
    },
    {
     "name": "stdout",
     "output_type": "stream",
     "text": [
      "\r",
      "\u001b[2K     \u001b[91m━━━━━━━━━━━━━━━━━━━━━━━━━━━━━━━━━━━━━━\u001b[0m\u001b[91m╸\u001b[0m \u001b[32m42.4/42.4 MB\u001b[0m \u001b[31m104.9 MB/s\u001b[0m eta \u001b[36m0:00:01\u001b[0m"
     ]
    },
    {
     "name": "stdout",
     "output_type": "stream",
     "text": [
      "\r",
      "\u001b[2K     \u001b[91m━━━━━━━━━━━━━━━━━━━━━━━━━━━━━━━━━━━━━━\u001b[0m\u001b[91m╸\u001b[0m \u001b[32m42.4/42.4 MB\u001b[0m \u001b[31m104.9 MB/s\u001b[0m eta \u001b[36m0:00:01\u001b[0m\r",
      "\u001b[2K     \u001b[91m━━━━━━━━━━━━━━━━━━━━━━━━━━━━━━━━━━━━━━\u001b[0m\u001b[91m╸\u001b[0m \u001b[32m42.4/42.4 MB\u001b[0m \u001b[31m104.9 MB/s\u001b[0m eta \u001b[36m0:00:01\u001b[0m"
     ]
    },
    {
     "name": "stdout",
     "output_type": "stream",
     "text": [
      "\r",
      "\u001b[2K     \u001b[90m━━━━━━━━━━━━━━━━━━━━━━━━━━━━━━━━━━━━━━━━\u001b[0m \u001b[32m42.4/42.4 MB\u001b[0m \u001b[31m11.0 MB/s\u001b[0m eta \u001b[36m0:00:00\u001b[0m\r\n",
      "\u001b[?25h"
     ]
    },
    {
     "name": "stdout",
     "output_type": "stream",
     "text": [
      "Requirement already satisfied: requests>=2.19.0 in /usr/local/lib/python3.10/site-packages (from pooch>=1.1->librosa) (2.32.3)\r\n",
      "Requirement already satisfied: platformdirs>=2.5.0 in /usr/local/lib/python3.10/site-packages (from pooch>=1.1->librosa) (4.3.8)\r\n"
     ]
    },
    {
     "name": "stdout",
     "output_type": "stream",
     "text": [
      "Requirement already satisfied: threadpoolctl>=3.1.0 in /usr/local/lib/python3.10/site-packages (from scikit-learn>=1.1.0->librosa) (3.6.0)\r\n"
     ]
    },
    {
     "name": "stdout",
     "output_type": "stream",
     "text": [
      "Requirement already satisfied: cffi>=1.0 in /usr/local/lib/python3.10/site-packages (from soundfile>=0.12.1->librosa) (1.17.1)\r\n"
     ]
    },
    {
     "name": "stdout",
     "output_type": "stream",
     "text": [
      "Requirement already satisfied: pycparser in /usr/local/lib/python3.10/site-packages (from cffi>=1.0->soundfile>=0.12.1->librosa) (2.22)\r\n",
      "Requirement already satisfied: idna<4,>=2.5 in /usr/local/lib/python3.10/site-packages (from requests>=2.19.0->pooch>=1.1->librosa) (3.10)\r\n",
      "Requirement already satisfied: certifi>=2017.4.17 in /usr/local/lib/python3.10/site-packages (from requests>=2.19.0->pooch>=1.1->librosa) (2025.4.26)\r\n",
      "Requirement already satisfied: urllib3<3,>=1.21.1 in /usr/local/lib/python3.10/site-packages (from requests>=2.19.0->pooch>=1.1->librosa) (2.4.0)\r\n",
      "Requirement already satisfied: charset-normalizer<4,>=2 in /usr/local/lib/python3.10/site-packages (from requests>=2.19.0->pooch>=1.1->librosa) (3.4.2)\r\n"
     ]
    },
    {
     "name": "stdout",
     "output_type": "stream",
     "text": [
      "Installing collected packages: soxr, llvmlite, lazy_loader, audioread, soundfile, pooch, numba, librosa\r\n"
     ]
    },
    {
     "name": "stdout",
     "output_type": "stream",
     "text": [
      "Successfully installed audioread-3.0.1 lazy_loader-0.4 librosa-0.11.0 llvmlite-0.44.0 numba-0.61.2 pooch-1.8.2 soundfile-0.13.1 soxr-0.5.0.post1\r\n",
      "\u001b[33mWARNING: Running pip as the 'root' user can result in broken permissions and conflicting behaviour with the system package manager. It is recommended to use a virtual environment instead: https://pip.pypa.io/warnings/venv\u001b[0m\u001b[33m\r\n",
      "\u001b[0m"
     ]
    },
    {
     "name": "stdout",
     "output_type": "stream",
     "text": [
      "\r\n",
      "\u001b[1m[\u001b[0m\u001b[34;49mnotice\u001b[0m\u001b[1;39;49m]\u001b[0m\u001b[39;49m A new release of pip is available: \u001b[0m\u001b[31;49m23.0.1\u001b[0m\u001b[39;49m -> \u001b[0m\u001b[32;49m25.1.1\u001b[0m\r\n",
      "\u001b[1m[\u001b[0m\u001b[34;49mnotice\u001b[0m\u001b[1;39;49m]\u001b[0m\u001b[39;49m To update, run: \u001b[0m\u001b[32;49mpip install --upgrade pip\u001b[0m\r\n"
     ]
    },
    {
     "name": "stdout",
     "output_type": "stream",
     "text": [
      "Collecting scikit-image\r\n"
     ]
    },
    {
     "name": "stdout",
     "output_type": "stream",
     "text": [
      "  Downloading scikit_image-0.25.2-cp310-cp310-manylinux_2_17_x86_64.manylinux2014_x86_64.whl (14.8 MB)\r\n",
      "\u001b[?25l     \u001b[90m━━━━━━━━━━━━━━━━━━━━━━━━━━━━━━━━━━━━━━━━\u001b[0m \u001b[32m0.0/14.8 MB\u001b[0m \u001b[31m?\u001b[0m eta \u001b[36m-:--:--\u001b[0m"
     ]
    },
    {
     "name": "stdout",
     "output_type": "stream",
     "text": [
      "\r",
      "\u001b[2K     \u001b[91m━\u001b[0m\u001b[91m╸\u001b[0m\u001b[90m━━━━━━━━━━━━━━━━━━━━━━━━━━━━━━━━━━━━━━\u001b[0m \u001b[32m0.6/14.8 MB\u001b[0m \u001b[31m18.3 MB/s\u001b[0m eta \u001b[36m0:00:01\u001b[0m\r",
      "\u001b[2K     \u001b[91m━━━━\u001b[0m\u001b[91m╸\u001b[0m\u001b[90m━━━━━━━━━━━━━━━━━━━━━━━━━━━━━━━━━━━\u001b[0m \u001b[32m1.7/14.8 MB\u001b[0m \u001b[31m24.7 MB/s\u001b[0m eta \u001b[36m0:00:01\u001b[0m"
     ]
    },
    {
     "name": "stdout",
     "output_type": "stream",
     "text": [
      "\r",
      "\u001b[2K     \u001b[91m━━━━━━━\u001b[0m\u001b[90m╺\u001b[0m\u001b[90m━━━━━━━━━━━━━━━━━━━━━━━━━━━━━━━━\u001b[0m \u001b[32m2.7/14.8 MB\u001b[0m \u001b[31m26.5 MB/s\u001b[0m eta \u001b[36m0:00:01\u001b[0m"
     ]
    },
    {
     "name": "stdout",
     "output_type": "stream",
     "text": [
      "\r",
      "\u001b[2K     \u001b[91m━━━━━━━━━━━━━\u001b[0m\u001b[90m╺\u001b[0m\u001b[90m━━━━━━━━━━━━━━━━━━━━━━━━━━\u001b[0m \u001b[32m4.8/14.8 MB\u001b[0m \u001b[31m35.0 MB/s\u001b[0m eta \u001b[36m0:00:01\u001b[0m\r",
      "\u001b[2K     \u001b[91m━━━━━━━━━━━━━━━━━━━━━\u001b[0m\u001b[90m╺\u001b[0m\u001b[90m━━━━━━━━━━━━━━━━━━\u001b[0m \u001b[32m7.8/14.8 MB\u001b[0m \u001b[31m44.9 MB/s\u001b[0m eta \u001b[36m0:00:01\u001b[0m"
     ]
    },
    {
     "name": "stdout",
     "output_type": "stream",
     "text": [
      "\r",
      "\u001b[2K     \u001b[91m━━━━━━━━━━━━━━━━━━━━━━━━━━━━━\u001b[0m\u001b[90m╺\u001b[0m\u001b[90m━━━━━━━━━━\u001b[0m \u001b[32m10.8/14.8 MB\u001b[0m \u001b[31m59.9 MB/s\u001b[0m eta \u001b[36m0:00:01\u001b[0m"
     ]
    },
    {
     "name": "stdout",
     "output_type": "stream",
     "text": [
      "\r",
      "\u001b[2K     \u001b[91m━━━━━━━━━━━━━━━━━━━━━━━━━━━━━━━━━━━━━━━\u001b[0m\u001b[91m╸\u001b[0m \u001b[32m14.8/14.8 MB\u001b[0m \u001b[31m95.9 MB/s\u001b[0m eta \u001b[36m0:00:01\u001b[0m"
     ]
    },
    {
     "name": "stdout",
     "output_type": "stream",
     "text": [
      "\r",
      "\u001b[2K     \u001b[91m━━━━━━━━━━━━━━━━━━━━━━━━━━━━━━━━━━━━━━━\u001b[0m\u001b[91m╸\u001b[0m \u001b[32m14.8/14.8 MB\u001b[0m \u001b[31m95.9 MB/s\u001b[0m eta \u001b[36m0:00:01\u001b[0m"
     ]
    },
    {
     "name": "stdout",
     "output_type": "stream",
     "text": [
      "\r",
      "\u001b[2K     \u001b[91m━━━━━━━━━━━━━━━━━━━━━━━━━━━━━━━━━━━━━━━\u001b[0m\u001b[91m╸\u001b[0m \u001b[32m14.8/14.8 MB\u001b[0m \u001b[31m95.9 MB/s\u001b[0m eta \u001b[36m0:00:01\u001b[0m"
     ]
    },
    {
     "name": "stdout",
     "output_type": "stream",
     "text": [
      "\r",
      "\u001b[2K     \u001b[91m━━━━━━━━━━━━━━━━━━━━━━━━━━━━━━━━━━━━━━━\u001b[0m\u001b[91m╸\u001b[0m \u001b[32m14.8/14.8 MB\u001b[0m \u001b[31m95.9 MB/s\u001b[0m eta \u001b[36m0:00:01\u001b[0m\r",
      "\u001b[2K     \u001b[91m━━━━━━━━━━━━━━━━━━━━━━━━━━━━━━━━━━━━━━━\u001b[0m\u001b[91m╸\u001b[0m \u001b[32m14.8/14.8 MB\u001b[0m \u001b[31m95.9 MB/s\u001b[0m eta \u001b[36m0:00:01\u001b[0m"
     ]
    },
    {
     "name": "stdout",
     "output_type": "stream",
     "text": [
      "\r",
      "\u001b[2K     \u001b[91m━━━━━━━━━━━━━━━━━━━━━━━━━━━━━━━━━━━━━━━\u001b[0m\u001b[91m╸\u001b[0m \u001b[32m14.8/14.8 MB\u001b[0m \u001b[31m95.9 MB/s\u001b[0m eta \u001b[36m0:00:01\u001b[0m"
     ]
    },
    {
     "name": "stdout",
     "output_type": "stream",
     "text": [
      "\r",
      "\u001b[2K     \u001b[91m━━━━━━━━━━━━━━━━━━━━━━━━━━━━━━━━━━━━━━━\u001b[0m\u001b[91m╸\u001b[0m \u001b[32m14.8/14.8 MB\u001b[0m \u001b[31m95.9 MB/s\u001b[0m eta \u001b[36m0:00:01\u001b[0m\r",
      "\u001b[2K     \u001b[91m━━━━━━━━━━━━━━━━━━━━━━━━━━━━━━━━━━━━━━━\u001b[0m\u001b[91m╸\u001b[0m \u001b[32m14.8/14.8 MB\u001b[0m \u001b[31m95.9 MB/s\u001b[0m eta \u001b[36m0:00:01\u001b[0m"
     ]
    },
    {
     "name": "stdout",
     "output_type": "stream",
     "text": [
      "\r",
      "\u001b[2K     \u001b[91m━━━━━━━━━━━━━━━━━━━━━━━━━━━━━━━━━━━━━━━\u001b[0m\u001b[91m╸\u001b[0m \u001b[32m14.8/14.8 MB\u001b[0m \u001b[31m95.9 MB/s\u001b[0m eta \u001b[36m0:00:01\u001b[0m"
     ]
    },
    {
     "name": "stdout",
     "output_type": "stream",
     "text": [
      "\r",
      "\u001b[2K     \u001b[91m━━━━━━━━━━━━━━━━━━━━━━━━━━━━━━━━━━━━━━━\u001b[0m\u001b[91m╸\u001b[0m \u001b[32m14.8/14.8 MB\u001b[0m \u001b[31m95.9 MB/s\u001b[0m eta \u001b[36m0:00:01\u001b[0m\r",
      "\u001b[2K     \u001b[91m━━━━━━━━━━━━━━━━━━━━━━━━━━━━━━━━━━━━━━━\u001b[0m\u001b[91m╸\u001b[0m \u001b[32m14.8/14.8 MB\u001b[0m \u001b[31m95.9 MB/s\u001b[0m eta \u001b[36m0:00:01\u001b[0m"
     ]
    },
    {
     "name": "stdout",
     "output_type": "stream",
     "text": [
      "\r",
      "\u001b[2K     \u001b[90m━━━━━━━━━━━━━━━━━━━━━━━━━━━━━━━━━━━━━━━━\u001b[0m \u001b[32m14.8/14.8 MB\u001b[0m \u001b[31m17.6 MB/s\u001b[0m eta \u001b[36m0:00:00\u001b[0m\r\n",
      "\u001b[?25h"
     ]
    },
    {
     "name": "stdout",
     "output_type": "stream",
     "text": [
      "Collecting imageio!=2.35.0,>=2.33\r\n",
      "  Downloading imageio-2.37.0-py3-none-any.whl (315 kB)\r\n",
      "\u001b[?25l     \u001b[90m━━━━━━━━━━━━━━━━━━━━━━━━━━━━━━━━━━━━━━━━\u001b[0m \u001b[32m0.0/315.8 kB\u001b[0m \u001b[31m?\u001b[0m eta \u001b[36m-:--:--\u001b[0m"
     ]
    },
    {
     "name": "stdout",
     "output_type": "stream",
     "text": [
      "\r",
      "\u001b[2K     \u001b[90m━━━━━━━━━━━━━━━━━━━━━━━━━━━━━━━━━━━━━━\u001b[0m \u001b[32m315.8/315.8 kB\u001b[0m \u001b[31m23.1 MB/s\u001b[0m eta \u001b[36m0:00:00\u001b[0m\r\n",
      "\u001b[?25hRequirement already satisfied: pillow>=10.1 in /usr/local/lib/python3.10/site-packages (from scikit-image) (11.2.1)\r\n",
      "Requirement already satisfied: lazy-loader>=0.4 in /usr/local/lib/python3.10/site-packages (from scikit-image) (0.4)\r\n",
      "Requirement already satisfied: networkx>=3.0 in /usr/local/lib/python3.10/site-packages (from scikit-image) (3.4.2)\r\n",
      "Requirement already satisfied: scipy>=1.11.4 in /usr/local/lib/python3.10/site-packages (from scikit-image) (1.15.2)\r\n",
      "Requirement already satisfied: packaging>=21 in /usr/local/lib/python3.10/site-packages (from scikit-image) (25.0)\r\n",
      "Requirement already satisfied: numpy>=1.24 in /usr/local/lib/python3.10/site-packages (from scikit-image) (1.26.4)\r\n"
     ]
    },
    {
     "name": "stdout",
     "output_type": "stream",
     "text": [
      "Collecting tifffile>=2022.8.12\r\n"
     ]
    },
    {
     "name": "stdout",
     "output_type": "stream",
     "text": [
      "  Downloading tifffile-2025.5.10-py3-none-any.whl (226 kB)\r\n",
      "\u001b[?25l     \u001b[90m━━━━━━━━━━━━━━━━━━━━━━━━━━━━━━━━━━━━━━━━\u001b[0m \u001b[32m0.0/226.5 kB\u001b[0m \u001b[31m?\u001b[0m eta \u001b[36m-:--:--\u001b[0m\r",
      "\u001b[2K     \u001b[90m━━━━━━━━━━━━━━━━━━━━━━━━━━━━━━━━━━━━━━\u001b[0m \u001b[32m226.5/226.5 kB\u001b[0m \u001b[31m19.0 MB/s\u001b[0m eta \u001b[36m0:00:00\u001b[0m\r\n",
      "\u001b[?25h"
     ]
    },
    {
     "name": "stdout",
     "output_type": "stream",
     "text": [
      "Installing collected packages: tifffile, imageio, scikit-image\r\n"
     ]
    },
    {
     "name": "stdout",
     "output_type": "stream",
     "text": [
      "Successfully installed imageio-2.37.0 scikit-image-0.25.2 tifffile-2025.5.10\r\n",
      "\u001b[33mWARNING: Running pip as the 'root' user can result in broken permissions and conflicting behaviour with the system package manager. It is recommended to use a virtual environment instead: https://pip.pypa.io/warnings/venv\u001b[0m\u001b[33m\r\n",
      "\u001b[0m\r\n",
      "\u001b[1m[\u001b[0m\u001b[34;49mnotice\u001b[0m\u001b[1;39;49m]\u001b[0m\u001b[39;49m A new release of pip is available: \u001b[0m\u001b[31;49m23.0.1\u001b[0m\u001b[39;49m -> \u001b[0m\u001b[32;49m25.1.1\u001b[0m\r\n",
      "\u001b[1m[\u001b[0m\u001b[34;49mnotice\u001b[0m\u001b[1;39;49m]\u001b[0m\u001b[39;49m To update, run: \u001b[0m\u001b[32;49mpip install --upgrade pip\u001b[0m\r\n"
     ]
    },
    {
     "name": "stdout",
     "output_type": "stream",
     "text": [
      "Collecting pytorch_lightning\r\n"
     ]
    },
    {
     "name": "stdout",
     "output_type": "stream",
     "text": [
      "  Downloading pytorch_lightning-2.5.2-py3-none-any.whl (825 kB)\r\n",
      "\u001b[?25l     \u001b[90m━━━━━━━━━━━━━━━━━━━━━━━━━━━━━━━━━━━━━━━━\u001b[0m \u001b[32m0.0/825.4 kB\u001b[0m \u001b[31m?\u001b[0m eta \u001b[36m-:--:--\u001b[0m"
     ]
    },
    {
     "name": "stdout",
     "output_type": "stream",
     "text": [
      "\r",
      "\u001b[2K     \u001b[91m━━━━━━━━━━━━━\u001b[0m\u001b[91m╸\u001b[0m\u001b[90m━━━━━━━━━━━━━━━━━━━━━━━━━\u001b[0m \u001b[32m286.7/825.4 kB\u001b[0m \u001b[31m8.6 MB/s\u001b[0m eta \u001b[36m0:00:01\u001b[0m\r",
      "\u001b[2K     \u001b[91m━━━━━━━━━━━━━━━━━━━━━━━━━━━━━━━━━━━━━\u001b[0m\u001b[91m╸\u001b[0m \u001b[32m819.2/825.4 kB\u001b[0m \u001b[31m12.0 MB/s\u001b[0m eta \u001b[36m0:00:01\u001b[0m"
     ]
    },
    {
     "name": "stdout",
     "output_type": "stream",
     "text": [
      "\r",
      "\u001b[2K     \u001b[90m━━━━━━━━━━━━━━━━━━━━━━━━━━━━━━━━━━━━━━━\u001b[0m \u001b[32m825.4/825.4 kB\u001b[0m \u001b[31m9.3 MB/s\u001b[0m eta \u001b[36m0:00:00\u001b[0m\r\n",
      "\u001b[?25h"
     ]
    },
    {
     "name": "stdout",
     "output_type": "stream",
     "text": [
      "Requirement already satisfied: tqdm>=4.57.0 in /usr/local/lib/python3.10/site-packages (from pytorch_lightning) (4.67.1)\r\n",
      "Requirement already satisfied: fsspec[http]>=2022.5.0 in /usr/local/lib/python3.10/site-packages (from pytorch_lightning) (2025.3.2)\r\n",
      "Requirement already satisfied: PyYAML>=5.4 in /usr/local/lib/python3.10/site-packages (from pytorch_lightning) (6.0.2)\r\n",
      "Requirement already satisfied: packaging>=20.0 in /usr/local/lib/python3.10/site-packages (from pytorch_lightning) (25.0)\r\n"
     ]
    },
    {
     "name": "stdout",
     "output_type": "stream",
     "text": [
      "Collecting lightning-utilities>=0.10.0\r\n",
      "  Downloading lightning_utilities-0.14.3-py3-none-any.whl (28 kB)\r\n"
     ]
    },
    {
     "name": "stdout",
     "output_type": "stream",
     "text": [
      "Collecting torchmetrics>=0.7.0\r\n",
      "  Downloading torchmetrics-1.7.3-py3-none-any.whl (962 kB)\r\n",
      "\u001b[?25l     \u001b[90m━━━━━━━━━━━━━━━━━━━━━━━━━━━━━━━━━━━━━━━━\u001b[0m \u001b[32m0.0/962.6 kB\u001b[0m \u001b[31m?\u001b[0m eta \u001b[36m-:--:--\u001b[0m"
     ]
    },
    {
     "name": "stdout",
     "output_type": "stream",
     "text": [
      "\r",
      "\u001b[2K     \u001b[91m━━━━━━━━━━━━━━━━━━━━━━━━━━━━━\u001b[0m\u001b[91m╸\u001b[0m\u001b[90m━━━━━━━━\u001b[0m \u001b[32m747.5/962.6 kB\u001b[0m \u001b[31m22.1 MB/s\u001b[0m eta \u001b[36m0:00:01\u001b[0m"
     ]
    },
    {
     "name": "stdout",
     "output_type": "stream",
     "text": [
      "\r",
      "\u001b[2K     \u001b[91m━━━━━━━━━━━━━━━━━━━━━━━━━━━━━━━━━━━━━\u001b[0m\u001b[91m╸\u001b[0m \u001b[32m962.6/962.6 kB\u001b[0m \u001b[31m22.8 MB/s\u001b[0m eta \u001b[36m0:00:01\u001b[0m\r",
      "\u001b[2K     \u001b[90m━━━━━━━━━━━━━━━━━━━━━━━━━━━━━━━━━━━━━━\u001b[0m \u001b[32m962.6/962.6 kB\u001b[0m \u001b[31m12.5 MB/s\u001b[0m eta \u001b[36m0:00:00\u001b[0m\r\n",
      "\u001b[?25hRequirement already satisfied: typing-extensions>=4.4.0 in /usr/local/lib/python3.10/site-packages (from pytorch_lightning) (4.13.2)\r\n",
      "Requirement already satisfied: torch>=2.1.0 in /usr/local/lib/python3.10/site-packages (from pytorch_lightning) (2.6.0)\r\n"
     ]
    },
    {
     "name": "stdout",
     "output_type": "stream",
     "text": [
      "Collecting aiohttp!=4.0.0a0,!=4.0.0a1\r\n",
      "  Downloading aiohttp-3.12.13-cp310-cp310-manylinux_2_17_x86_64.manylinux2014_x86_64.whl (1.6 MB)\r\n",
      "\u001b[?25l     \u001b[90m━━━━━━━━━━━━━━━━━━━━━━━━━━━━━━━━━━━━━━━━\u001b[0m \u001b[32m0.0/1.6 MB\u001b[0m \u001b[31m?\u001b[0m eta \u001b[36m-:--:--\u001b[0m"
     ]
    },
    {
     "name": "stdout",
     "output_type": "stream",
     "text": [
      "\r",
      "\u001b[2K     \u001b[91m━━━━━━━━━━━━━━━━━━━━━━━━━━\u001b[0m\u001b[90m╺\u001b[0m\u001b[90m━━━━━━━━━━━━━\u001b[0m \u001b[32m1.1/1.6 MB\u001b[0m \u001b[31m32.4 MB/s\u001b[0m eta \u001b[36m0:00:01\u001b[0m\r",
      "\u001b[2K     \u001b[91m━━━━━━━━━━━━━━━━━━━━━━━━━━━━━━━━━━━━━━━\u001b[0m\u001b[91m╸\u001b[0m \u001b[32m1.6/1.6 MB\u001b[0m \u001b[31m34.2 MB/s\u001b[0m eta \u001b[36m0:00:01\u001b[0m\r",
      "\u001b[2K     \u001b[90m━━━━━━━━━━━━━━━━━━━━━━━━━━━━━━━━━━━━━━━━\u001b[0m \u001b[32m1.6/1.6 MB\u001b[0m \u001b[31m23.2 MB/s\u001b[0m eta \u001b[36m0:00:00\u001b[0m\r\n",
      "\u001b[?25h"
     ]
    },
    {
     "name": "stdout",
     "output_type": "stream",
     "text": [
      "Requirement already satisfied: setuptools in /usr/local/lib/python3.10/site-packages (from lightning-utilities>=0.10.0->pytorch_lightning) (80.3.1)\r\n"
     ]
    },
    {
     "name": "stdout",
     "output_type": "stream",
     "text": [
      "Requirement already satisfied: networkx in /usr/local/lib/python3.10/site-packages (from torch>=2.1.0->pytorch_lightning) (3.4.2)\r\n",
      "Requirement already satisfied: nvidia-curand-cu12==10.3.5.147 in /usr/local/lib/python3.10/site-packages (from torch>=2.1.0->pytorch_lightning) (10.3.5.147)\r\n",
      "Requirement already satisfied: jinja2 in /usr/local/lib/python3.10/site-packages (from torch>=2.1.0->pytorch_lightning) (3.1.6)\r\n",
      "Requirement already satisfied: nvidia-cudnn-cu12==9.1.0.70 in /usr/local/lib/python3.10/site-packages (from torch>=2.1.0->pytorch_lightning) (9.1.0.70)\r\n",
      "Requirement already satisfied: triton==3.2.0 in /usr/local/lib/python3.10/site-packages (from torch>=2.1.0->pytorch_lightning) (3.2.0)\r\n",
      "Requirement already satisfied: nvidia-cublas-cu12==12.4.5.8 in /usr/local/lib/python3.10/site-packages (from torch>=2.1.0->pytorch_lightning) (12.4.5.8)\r\n",
      "Requirement already satisfied: nvidia-cuda-cupti-cu12==12.4.127 in /usr/local/lib/python3.10/site-packages (from torch>=2.1.0->pytorch_lightning) (12.4.127)\r\n",
      "Requirement already satisfied: nvidia-nvjitlink-cu12==12.4.127 in /usr/local/lib/python3.10/site-packages (from torch>=2.1.0->pytorch_lightning) (12.4.127)\r\n",
      "Requirement already satisfied: nvidia-cusolver-cu12==11.6.1.9 in /usr/local/lib/python3.10/site-packages (from torch>=2.1.0->pytorch_lightning) (11.6.1.9)\r\n",
      "Requirement already satisfied: sympy==1.13.1 in /usr/local/lib/python3.10/site-packages (from torch>=2.1.0->pytorch_lightning) (1.13.1)\r\n",
      "Requirement already satisfied: nvidia-nccl-cu12==2.21.5 in /usr/local/lib/python3.10/site-packages (from torch>=2.1.0->pytorch_lightning) (2.21.5)\r\n",
      "Requirement already satisfied: nvidia-cusparse-cu12==12.3.1.170 in /usr/local/lib/python3.10/site-packages (from torch>=2.1.0->pytorch_lightning) (12.3.1.170)\r\n",
      "Requirement already satisfied: nvidia-cuda-nvrtc-cu12==12.4.127 in /usr/local/lib/python3.10/site-packages (from torch>=2.1.0->pytorch_lightning) (12.4.127)\r\n",
      "Requirement already satisfied: nvidia-cuda-runtime-cu12==12.4.127 in /usr/local/lib/python3.10/site-packages (from torch>=2.1.0->pytorch_lightning) (12.4.127)\r\n",
      "Requirement already satisfied: nvidia-cusparselt-cu12==0.6.2 in /usr/local/lib/python3.10/site-packages (from torch>=2.1.0->pytorch_lightning) (0.6.2)\r\n",
      "Requirement already satisfied: nvidia-nvtx-cu12==12.4.127 in /usr/local/lib/python3.10/site-packages (from torch>=2.1.0->pytorch_lightning) (12.4.127)\r\n",
      "Requirement already satisfied: nvidia-cufft-cu12==11.2.1.3 in /usr/local/lib/python3.10/site-packages (from torch>=2.1.0->pytorch_lightning) (11.2.1.3)\r\n",
      "Requirement already satisfied: filelock in /usr/local/lib/python3.10/site-packages (from torch>=2.1.0->pytorch_lightning) (3.18.0)\r\n"
     ]
    },
    {
     "name": "stdout",
     "output_type": "stream",
     "text": [
      "Requirement already satisfied: mpmath<1.4,>=1.1.0 in /usr/local/lib/python3.10/site-packages (from sympy==1.13.1->torch>=2.1.0->pytorch_lightning) (1.3.0)\r\n"
     ]
    },
    {
     "name": "stdout",
     "output_type": "stream",
     "text": [
      "Requirement already satisfied: numpy>1.20.0 in /usr/local/lib/python3.10/site-packages (from torchmetrics>=0.7.0->pytorch_lightning) (1.26.4)\r\n"
     ]
    },
    {
     "name": "stdout",
     "output_type": "stream",
     "text": [
      "Collecting aiosignal>=1.1.2\r\n"
     ]
    },
    {
     "name": "stdout",
     "output_type": "stream",
     "text": [
      "  Downloading aiosignal-1.3.2-py2.py3-none-any.whl (7.6 kB)\r\n",
      "Collecting async-timeout<6.0,>=4.0\r\n"
     ]
    },
    {
     "name": "stdout",
     "output_type": "stream",
     "text": [
      "  Downloading async_timeout-5.0.1-py3-none-any.whl (6.2 kB)\r\n"
     ]
    },
    {
     "name": "stdout",
     "output_type": "stream",
     "text": [
      "Collecting frozenlist>=1.1.1\r\n"
     ]
    },
    {
     "name": "stdout",
     "output_type": "stream",
     "text": [
      "  Downloading frozenlist-1.7.0-cp310-cp310-manylinux_2_5_x86_64.manylinux1_x86_64.manylinux_2_17_x86_64.manylinux2014_x86_64.whl (222 kB)\r\n",
      "\u001b[?25l     \u001b[90m━━━━━━━━━━━━━━━━━━━━━━━━━━━━━━━━━━━━━━━━\u001b[0m \u001b[32m0.0/222.9 kB\u001b[0m \u001b[31m?\u001b[0m eta \u001b[36m-:--:--\u001b[0m\r",
      "\u001b[2K     \u001b[90m━━━━━━━━━━━━━━━━━━━━━━━━━━━━━━━━━━━━━━\u001b[0m \u001b[32m222.9/222.9 kB\u001b[0m \u001b[31m17.5 MB/s\u001b[0m eta \u001b[36m0:00:00\u001b[0m\r\n",
      "\u001b[?25h"
     ]
    },
    {
     "name": "stdout",
     "output_type": "stream",
     "text": [
      "Collecting multidict<7.0,>=4.5\r\n",
      "  Downloading multidict-6.5.1-cp310-cp310-manylinux2014_x86_64.manylinux_2_17_x86_64.manylinux_2_28_x86_64.whl (247 kB)\r\n",
      "\u001b[?25l     \u001b[90m━━━━━━━━━━━━━━━━━━━━━━━━━━━━━━━━━━━━━━━━\u001b[0m \u001b[32m0.0/247.8 kB\u001b[0m \u001b[31m?\u001b[0m eta \u001b[36m-:--:--\u001b[0m"
     ]
    },
    {
     "name": "stdout",
     "output_type": "stream",
     "text": [
      "\r",
      "\u001b[2K     \u001b[90m━━━━━━━━━━━━━━━━━━━━━━━━━━━━━━━━━━━━━━\u001b[0m \u001b[32m247.8/247.8 kB\u001b[0m \u001b[31m14.3 MB/s\u001b[0m eta \u001b[36m0:00:00\u001b[0m\r\n",
      "\u001b[?25h"
     ]
    },
    {
     "name": "stdout",
     "output_type": "stream",
     "text": [
      "Collecting propcache>=0.2.0\r\n",
      "  Downloading propcache-0.3.2-cp310-cp310-manylinux_2_17_x86_64.manylinux2014_x86_64.whl (198 kB)\r\n",
      "\u001b[?25l     \u001b[90m━━━━━━━━━━━━━━━━━━━━━━━━━━━━━━━━━━━━━━━━\u001b[0m \u001b[32m0.0/198.3 kB\u001b[0m \u001b[31m?\u001b[0m eta \u001b[36m-:--:--\u001b[0m"
     ]
    },
    {
     "name": "stdout",
     "output_type": "stream",
     "text": [
      "\r",
      "\u001b[2K     \u001b[90m━━━━━━━━━━━━━━━━━━━━━━━━━━━━━━━━━━━━━━\u001b[0m \u001b[32m198.3/198.3 kB\u001b[0m \u001b[31m15.6 MB/s\u001b[0m eta \u001b[36m0:00:00\u001b[0m\r\n",
      "\u001b[?25h"
     ]
    },
    {
     "name": "stdout",
     "output_type": "stream",
     "text": [
      "Collecting yarl<2.0,>=1.17.0\r\n",
      "  Downloading yarl-1.20.1-cp310-cp310-manylinux_2_17_x86_64.manylinux2014_x86_64.whl (326 kB)\r\n",
      "\u001b[?25l     \u001b[90m━━━━━━━━━━━━━━━━━━━━━━━━━━━━━━━━━━━━━━━━\u001b[0m \u001b[32m0.0/326.1 kB\u001b[0m \u001b[31m?\u001b[0m eta \u001b[36m-:--:--\u001b[0m\r",
      "\u001b[2K     \u001b[90m━━━━━━━━━━━━━━━━━━━━━━━━━━━━━━━━━━━━━━\u001b[0m \u001b[32m326.1/326.1 kB\u001b[0m \u001b[31m18.0 MB/s\u001b[0m eta \u001b[36m0:00:00\u001b[0m\r\n",
      "\u001b[?25hRequirement already satisfied: attrs>=17.3.0 in /usr/local/lib/python3.10/site-packages (from aiohttp!=4.0.0a0,!=4.0.0a1->fsspec[http]>=2022.5.0->pytorch_lightning) (25.3.0)\r\n"
     ]
    },
    {
     "name": "stdout",
     "output_type": "stream",
     "text": [
      "Collecting aiohappyeyeballs>=2.5.0\r\n"
     ]
    },
    {
     "name": "stdout",
     "output_type": "stream",
     "text": [
      "  Downloading aiohappyeyeballs-2.6.1-py3-none-any.whl (15 kB)\r\n",
      "Requirement already satisfied: MarkupSafe>=2.0 in /usr/local/lib/python3.10/site-packages (from jinja2->torch>=2.1.0->pytorch_lightning) (3.0.2)\r\n"
     ]
    },
    {
     "name": "stdout",
     "output_type": "stream",
     "text": [
      "Requirement already satisfied: idna>=2.0 in /usr/local/lib/python3.10/site-packages (from yarl<2.0,>=1.17.0->aiohttp!=4.0.0a0,!=4.0.0a1->fsspec[http]>=2022.5.0->pytorch_lightning) (3.10)\r\n"
     ]
    },
    {
     "name": "stdout",
     "output_type": "stream",
     "text": [
      "Installing collected packages: propcache, multidict, lightning-utilities, frozenlist, async-timeout, aiohappyeyeballs, yarl, aiosignal, aiohttp, torchmetrics, pytorch_lightning\r\n"
     ]
    },
    {
     "name": "stdout",
     "output_type": "stream",
     "text": [
      "Successfully installed aiohappyeyeballs-2.6.1 aiohttp-3.12.13 aiosignal-1.3.2 async-timeout-5.0.1 frozenlist-1.7.0 lightning-utilities-0.14.3 multidict-6.5.1 propcache-0.3.2 pytorch_lightning-2.5.2 torchmetrics-1.7.3 yarl-1.20.1\r\n",
      "\u001b[33mWARNING: Running pip as the 'root' user can result in broken permissions and conflicting behaviour with the system package manager. It is recommended to use a virtual environment instead: https://pip.pypa.io/warnings/venv\u001b[0m\u001b[33m\r\n",
      "\u001b[0m\r\n",
      "\u001b[1m[\u001b[0m\u001b[34;49mnotice\u001b[0m\u001b[1;39;49m]\u001b[0m\u001b[39;49m A new release of pip is available: \u001b[0m\u001b[31;49m23.0.1\u001b[0m\u001b[39;49m -> \u001b[0m\u001b[32;49m25.1.1\u001b[0m\r\n",
      "\u001b[1m[\u001b[0m\u001b[34;49mnotice\u001b[0m\u001b[1;39;49m]\u001b[0m\u001b[39;49m To update, run: \u001b[0m\u001b[32;49mpip install --upgrade pip\u001b[0m\r\n"
     ]
    }
   ],
   "source": [
    "!pip install librosa\n",
    "!pip install scikit-image\n",
    "!pip install pytorch_lightning"
   ]
  },
  {
   "cell_type": "code",
   "execution_count": 16,
   "id": "80f17ff4",
   "metadata": {
    "execution": {
     "iopub.execute_input": "2025-06-26T19:40:39.266491Z",
     "iopub.status.busy": "2025-06-26T19:40:39.266182Z",
     "iopub.status.idle": "2025-06-26T19:41:29.396756Z",
     "shell.execute_reply": "2025-06-26T19:41:29.392036Z"
    },
    "papermill": {
     "duration": 50.1543,
     "end_time": "2025-06-26T19:41:29.400298",
     "exception": false,
     "start_time": "2025-06-26T19:40:39.245998",
     "status": "completed"
    },
    "tags": []
   },
   "outputs": [],
   "source": [
    "import torch\n",
    "# from inference.tts.fs import FastSpeechInfer\n",
    "# from modules.tts.fs2_orig import FastSpeech2Orig\n",
    "from inference.svs.base_svs_infer import BaseSVSInfer\n",
    "from utils import load_ckpt\n",
    "from utils.hparams import hparams\n",
    "from usr.diff.shallow_diffusion_tts import GaussianDiffusion\n",
    "from usr.diffsinger_task import DIFF_DECODERS\n",
    "from modules.fastspeech.pe import PitchExtractor\n",
    "import utils"
   ]
  },
  {
   "cell_type": "code",
   "execution_count": 17,
   "id": "2f06845e",
   "metadata": {
    "execution": {
     "iopub.execute_input": "2025-06-26T19:41:29.440761Z",
     "iopub.status.busy": "2025-06-26T19:41:29.440244Z",
     "iopub.status.idle": "2025-06-26T19:41:29.455530Z",
     "shell.execute_reply": "2025-06-26T19:41:29.450819Z"
    },
    "papermill": {
     "duration": 0.038915,
     "end_time": "2025-06-26T19:41:29.457863",
     "exception": false,
     "start_time": "2025-06-26T19:41:29.418948",
     "status": "completed"
    },
    "tags": []
   },
   "outputs": [],
   "source": [
    "class DiffSingerE2EInfer(BaseSVSInfer):\n",
    "    def build_model(self):\n",
    "        model = GaussianDiffusion(\n",
    "            phone_encoder=self.ph_encoder,\n",
    "            out_dims=hparams['audio_num_mel_bins'],\n",
    "            denoise_fn=DIFF_DECODERS[hparams['diff_decoder_type']](hparams),\n",
    "            timesteps=hparams['timesteps'],\n",
    "            K_step=hparams['K_step'],\n",
    "            loss_type=hparams['diff_loss_type'],\n",
    "            spec_min=hparams['spec_min'],\n",
    "            spec_max=hparams['spec_max'],\n",
    "        )\n",
    "        model.eval()\n",
    "        load_ckpt(model, hparams['work_dir'], 'model')\n",
    "\n",
    "        if hparams.get('pe_enable') is not None and hparams['pe_enable']:\n",
    "            self.pe = PitchExtractor().to(self.device)\n",
    "            utils.load_ckpt(self.pe, hparams['pe_ckpt'], 'model', strict=True)\n",
    "            self.pe.eval()\n",
    "        return model\n",
    "\n",
    "    def forward_model(self, inp):\n",
    "        sample = self.input_to_batch(inp)\n",
    "        txt_tokens = sample['txt_tokens']  # [B, T_t]\n",
    "        spk_id = sample.get('spk_ids')\n",
    "        with torch.no_grad():\n",
    "            output = self.model(txt_tokens, spk_id=spk_id, ref_mels=None, infer=True,\n",
    "                                pitch_midi=sample['pitch_midi'], midi_dur=sample['midi_dur'],\n",
    "                                is_slur=sample['is_slur'])\n",
    "            mel_out = output['mel_out']  # [B, T, 80]\n",
    "            if hparams.get('pe_enable') is not None and hparams['pe_enable']:\n",
    "                f0_pred = self.pe(mel_out)['f0_denorm_pred']  # pe predict from Pred mel\n",
    "            else:\n",
    "                f0_pred = output['f0_denorm']\n",
    "            wav_out = self.run_vocoder(mel_out, f0=f0_pred)\n",
    "        wav_out = wav_out.cpu().numpy()\n",
    "        return wav_out[0]\n"
   ]
  },
  {
   "cell_type": "code",
   "execution_count": 18,
   "id": "e86e49c1",
   "metadata": {
    "collapsed": true,
    "execution": {
     "iopub.execute_input": "2025-06-26T19:41:29.496891Z",
     "iopub.status.busy": "2025-06-26T19:41:29.496619Z",
     "iopub.status.idle": "2025-06-26T19:41:29.593149Z",
     "shell.execute_reply": "2025-06-26T19:41:29.588791Z"
    },
    "jupyter": {
     "outputs_hidden": true
    },
    "papermill": {
     "duration": 0.120323,
     "end_time": "2025-06-26T19:41:29.595951",
     "exception": false,
     "start_time": "2025-06-26T19:41:29.475628",
     "status": "completed"
    },
    "tags": []
   },
   "outputs": [
    {
     "name": "stdout",
     "output_type": "stream",
     "text": [
      "| Hparams chains:  ['configs/config_base.yaml', 'configs/tts/base.yaml', 'configs/tts/fs2.yaml', 'configs/tts/base_zh.yaml', 'configs/singing/base.yaml', 'usr/configs/base.yaml', 'usr/configs/popcs_ds_beta6.yaml', 'usr/configs/midi/cascade/opencs/opencpop_statis.yaml', 'usr/configs/midi/e2e/opencpop/ds100_adj_rel.yaml']\n",
      "| Hparams: \n",
      "\u001b[;33;mK_step\u001b[0m: 100, \u001b[;33;maccumulate_grad_batches\u001b[0m: 1, \u001b[;33;maudio_num_mel_bins\u001b[0m: 80, \u001b[;33;maudio_sample_rate\u001b[0m: 24000, \u001b[;33;mbase_config\u001b[0m: ['usr/configs/popcs_ds_beta6.yaml', 'usr/configs/midi/cascade/opencs/opencpop_statis.yaml'], \n",
      "\u001b[;33;mbinarization_args\u001b[0m: {'shuffle': False, 'with_align': True, 'with_f0': True, 'with_f0cwt': True, 'with_spk_embed': False, 'with_txt': True, 'with_wav': True}, \u001b[;33;mbinarizer_cls\u001b[0m: data_gen.singing.binarize.OpencpopBinarizer, \u001b[;33;mbinary_data_dir\u001b[0m: data/binary/opencpop-midi-dp, \u001b[;33;mcheck_val_every_n_epoch\u001b[0m: 10, \u001b[;33;mclip_grad_norm\u001b[0m: 1, \n",
      "\u001b[;33;mcontent_cond_steps\u001b[0m: [], \u001b[;33;mcwt_add_f0_loss\u001b[0m: False, \u001b[;33;mcwt_hidden_size\u001b[0m: 128, \u001b[;33;mcwt_layers\u001b[0m: 2, \u001b[;33;mcwt_loss\u001b[0m: l1, \n",
      "\u001b[;33;mcwt_std_scale\u001b[0m: 0.8, \u001b[;33;mdatasets\u001b[0m: ['popcs'], \u001b[;33;mdebug\u001b[0m: False, \u001b[;33;mdec_ffn_kernel_size\u001b[0m: 9, \u001b[;33;mdec_layers\u001b[0m: 4, \n",
      "\u001b[;33;mdecay_steps\u001b[0m: 50000, \u001b[;33;mdecoder_type\u001b[0m: fft, \u001b[;33;mdict_dir\u001b[0m: , \u001b[;33;mdiff_decoder_type\u001b[0m: wavenet, \u001b[;33;mdiff_loss_type\u001b[0m: l1, \n",
      "\u001b[;33;mdilation_cycle_length\u001b[0m: 4, \u001b[;33;mdropout\u001b[0m: 0.1, \u001b[;33;mds_workers\u001b[0m: 4, \u001b[;33;mdur_enc_hidden_stride_kernel\u001b[0m: ['0,2,3', '0,2,3', '0,1,3'], \u001b[;33;mdur_loss\u001b[0m: mse, \n",
      "\u001b[;33;mdur_predictor_kernel\u001b[0m: 3, \u001b[;33;mdur_predictor_layers\u001b[0m: 5, \u001b[;33;menc_ffn_kernel_size\u001b[0m: 9, \u001b[;33;menc_layers\u001b[0m: 4, \u001b[;33;mencoder_K\u001b[0m: 8, \n",
      "\u001b[;33;mencoder_type\u001b[0m: fft, \u001b[;33;mendless_ds\u001b[0m: True, \u001b[;33;mffn_act\u001b[0m: gelu, \u001b[;33;mffn_padding\u001b[0m: SAME, \u001b[;33;mfft_size\u001b[0m: 512, \n",
      "\u001b[;33;mfmax\u001b[0m: 12000, \u001b[;33;mfmin\u001b[0m: 30, \u001b[;33;mfs2_ckpt\u001b[0m: , \u001b[;33;mgaussian_start\u001b[0m: True, \u001b[;33;mgen_dir_name\u001b[0m: , \n",
      "\u001b[;33;mgen_tgt_spk_id\u001b[0m: -1, \u001b[;33;mhidden_size\u001b[0m: 256, \u001b[;33;mhop_size\u001b[0m: 128, \u001b[;33;minfer\u001b[0m: False, \u001b[;33;mkeep_bins\u001b[0m: 80, \n",
      "\u001b[;33;mlambda_commit\u001b[0m: 0.25, \u001b[;33;mlambda_energy\u001b[0m: 0.0, \u001b[;33;mlambda_f0\u001b[0m: 0.0, \u001b[;33;mlambda_ph_dur\u001b[0m: 1.0, \u001b[;33;mlambda_sent_dur\u001b[0m: 1.0, \n",
      "\u001b[;33;mlambda_uv\u001b[0m: 0.0, \u001b[;33;mlambda_word_dur\u001b[0m: 1.0, \u001b[;33;mload_ckpt\u001b[0m: , \u001b[;33;mlog_interval\u001b[0m: 100, \u001b[;33;mloud_norm\u001b[0m: False, \n",
      "\u001b[;33;mlr\u001b[0m: 0.001, \u001b[;33;mmax_beta\u001b[0m: 0.06, \u001b[;33;mmax_epochs\u001b[0m: 1000, \u001b[;33;mmax_eval_sentences\u001b[0m: 1, \u001b[;33;mmax_eval_tokens\u001b[0m: 60000, \n",
      "\u001b[;33;mmax_frames\u001b[0m: 8000, \u001b[;33;mmax_input_tokens\u001b[0m: 1550, \u001b[;33;mmax_sentences\u001b[0m: 48, \u001b[;33;mmax_tokens\u001b[0m: 40000, \u001b[;33;mmax_updates\u001b[0m: 160000, \n",
      "\u001b[;33;mmel_loss\u001b[0m: ssim:0.5|l1:0.5, \u001b[;33;mmel_vmax\u001b[0m: 1.5, \u001b[;33;mmel_vmin\u001b[0m: -6.0, \u001b[;33;mmin_level_db\u001b[0m: -120, \u001b[;33;mnorm_type\u001b[0m: gn, \n",
      "\u001b[;33;mnum_ckpt_keep\u001b[0m: 3, \u001b[;33;mnum_heads\u001b[0m: 2, \u001b[;33;mnum_sanity_val_steps\u001b[0m: 1, \u001b[;33;mnum_spk\u001b[0m: 1, \u001b[;33;mnum_test_samples\u001b[0m: 0, \n",
      "\u001b[;33;mnum_valid_plots\u001b[0m: 10, \u001b[;33;moptimizer_adam_beta1\u001b[0m: 0.9, \u001b[;33;moptimizer_adam_beta2\u001b[0m: 0.98, \u001b[;33;mout_wav_norm\u001b[0m: False, \u001b[;33;mpe_ckpt\u001b[0m: checkpoints/0102_xiaoma_pe, \n",
      "\u001b[;33;mpe_enable\u001b[0m: True, \u001b[;33;mpitch_ar\u001b[0m: False, \u001b[;33;mpitch_enc_hidden_stride_kernel\u001b[0m: ['0,2,5', '0,2,5', '0,2,5'], \u001b[;33;mpitch_extractor\u001b[0m: parselmouth, \u001b[;33;mpitch_loss\u001b[0m: l1, \n",
      "\u001b[;33;mpitch_norm\u001b[0m: log, \u001b[;33;mpitch_type\u001b[0m: frame, \u001b[;33;mpre_align_args\u001b[0m: {'allow_no_txt': False, 'denoise': False, 'forced_align': 'mfa', 'txt_processor': 'zh_g2pM', 'use_sox': True, 'use_tone': False}, \u001b[;33;mpre_align_cls\u001b[0m: data_gen.singing.pre_align.SingingPreAlign, \u001b[;33;mpredictor_dropout\u001b[0m: 0.5, \n",
      "\u001b[;33;mpredictor_grad\u001b[0m: 0.1, \u001b[;33;mpredictor_hidden\u001b[0m: -1, \u001b[;33;mpredictor_kernel\u001b[0m: 5, \u001b[;33;mpredictor_layers\u001b[0m: 5, \u001b[;33;mprenet_dropout\u001b[0m: 0.5, \n",
      "\u001b[;33;mprenet_hidden_size\u001b[0m: 256, \u001b[;33;mpretrain_fs_ckpt\u001b[0m: , \u001b[;33;mprocessed_data_dir\u001b[0m: data/processed/popcs, \u001b[;33;mprofile_infer\u001b[0m: False, \u001b[;33;mraw_data_dir\u001b[0m: data/raw/popcs, \n",
      "\u001b[;33;mref_norm_layer\u001b[0m: bn, \u001b[;33;mrel_pos\u001b[0m: True, \u001b[;33;mreset_phone_dict\u001b[0m: True, \u001b[;33;mresidual_channels\u001b[0m: 256, \u001b[;33;mresidual_layers\u001b[0m: 20, \n",
      "\u001b[;33;msave_best\u001b[0m: False, \u001b[;33;msave_ckpt\u001b[0m: True, \u001b[;33;msave_codes\u001b[0m: ['configs', 'modules', 'tasks', 'utils', 'usr'], \u001b[;33;msave_f0\u001b[0m: True, \u001b[;33;msave_gt\u001b[0m: False, \n",
      "\u001b[;33;mschedule_type\u001b[0m: linear, \u001b[;33;mseed\u001b[0m: 1234, \u001b[;33;msort_by_len\u001b[0m: True, \u001b[;33;mspec_max\u001b[0m: [-0.79453, -0.81116, -0.61631, -0.30679, -0.13863, -0.050652, -0.11563, -0.10679, -0.091068, -0.062174, -0.075302, -0.072217, -0.063815, -0.073299, 0.007361, -0.072508, -0.050234, -0.16534, -0.26928, -0.20782, -0.20823, -0.11702, -0.070128, -0.065868, -0.012675, 0.0015121, -0.089902, -0.21392, -0.23789, -0.28922, -0.30405, -0.23029, -0.22088, -0.21542, -0.29367, -0.30137, -0.38281, -0.4359, -0.28681, -0.46855, -0.57485, -0.47022, -0.54266, -0.44848, -0.6412, -0.687, -0.6486, -0.76436, -0.49971, -0.71068, -0.69724, -0.61487, -0.55843, -0.69773, -0.57502, -0.70919, -0.82431, -0.84213, -0.90431, -0.8284, -0.77945, -0.82758, -0.87699, -1.0532, -1.0766, -1.1198, -1.0185, -0.98983, -1.0001, -1.0756, -1.0024, -1.0304, -1.0579, -1.0188, -1.05, -1.0842, -1.0923, -1.1223, -1.2381, -1.6467], \u001b[;33;mspec_min\u001b[0m: [-6.0, -6.0, -6.0, -6.0, -6.0, -6.0, -6.0, -6.0, -6.0, -6.0, -6.0, -6.0, -6.0, -6.0, -6.0, -6.0, -6.0, -6.0, -6.0, -6.0, -6.0, -6.0, -6.0, -6.0, -6.0, -6.0, -6.0, -6.0, -6.0, -6.0, -6.0, -6.0, -6.0, -6.0, -6.0, -6.0, -6.0, -6.0, -6.0, -6.0, -6.0, -6.0, -6.0, -6.0, -6.0, -6.0, -6.0, -6.0, -6.0, -6.0, -6.0, -6.0, -6.0, -6.0, -6.0, -6.0, -6.0, -6.0, -6.0, -6.0, -6.0, -6.0, -6.0, -6.0, -6.0, -6.0, -6.0, -6.0, -6.0, -6.0, -6.0, -6.0, -6.0, -6.0, -6.0, -6.0, -6.0, -6.0, -6.0, -6.0], \n",
      "\u001b[;33;mspk_cond_steps\u001b[0m: [], \u001b[;33;mstop_token_weight\u001b[0m: 5.0, \u001b[;33;mtask_cls\u001b[0m: usr.diffsinger_task.DiffSingerMIDITask, \u001b[;33;mtest_ids\u001b[0m: [], \u001b[;33;mtest_input_dir\u001b[0m: , \n",
      "\u001b[;33;mtest_num\u001b[0m: 0, \u001b[;33;mtest_prefixes\u001b[0m: ['popcs-说散就散', 'popcs-隐形的翅膀'], \u001b[;33;mtest_set_name\u001b[0m: test, \u001b[;33;mtimesteps\u001b[0m: 100, \u001b[;33;mtrain_set_name\u001b[0m: train, \n",
      "\u001b[;33;muse_denoise\u001b[0m: False, \u001b[;33;muse_energy_embed\u001b[0m: False, \u001b[;33;muse_gt_dur\u001b[0m: False, \u001b[;33;muse_gt_f0\u001b[0m: False, \u001b[;33;muse_midi\u001b[0m: True, \n",
      "\u001b[;33;muse_nsf\u001b[0m: True, \u001b[;33;muse_pitch_embed\u001b[0m: False, \u001b[;33;muse_pos_embed\u001b[0m: True, \u001b[;33;muse_spk_embed\u001b[0m: False, \u001b[;33;muse_spk_id\u001b[0m: False, \n",
      "\u001b[;33;muse_split_spk_id\u001b[0m: False, \u001b[;33;muse_uv\u001b[0m: True, \u001b[;33;muse_var_enc\u001b[0m: False, \u001b[;33;mval_check_interval\u001b[0m: 2000, \u001b[;33;mvalid_num\u001b[0m: 0, \n",
      "\u001b[;33;mvalid_set_name\u001b[0m: valid, \u001b[;33;mvalidate\u001b[0m: False, \u001b[;33;mvocoder\u001b[0m: vocoders.hifigan.HifiGAN, \u001b[;33;mvocoder_ckpt\u001b[0m: checkpoints/0109_hifigan_bigpopcs_hop128, \u001b[;33;mwarmup_updates\u001b[0m: 2000, \n",
      "\u001b[;33;mwav2spec_eps\u001b[0m: 1e-6, \u001b[;33;mweight_decay\u001b[0m: 0, \u001b[;33;mwin_size\u001b[0m: 512, \u001b[;33;mwork_dir\u001b[0m: checkpoints/0228_opencpop_ds100_rel, \n"
     ]
    },
    {
     "data": {
      "text/plain": [
       "{'binary_data_dir': 'data/binary/opencpop-midi-dp',\n",
       " 'work_dir': 'checkpoints/0228_opencpop_ds100_rel',\n",
       " 'infer': False,\n",
       " 'seed': 1234,\n",
       " 'debug': False,\n",
       " 'save_codes': ['configs', 'modules', 'tasks', 'utils', 'usr'],\n",
       " 'ds_workers': 4,\n",
       " 'test_num': 0,\n",
       " 'valid_num': 0,\n",
       " 'endless_ds': True,\n",
       " 'sort_by_len': True,\n",
       " 'load_ckpt': '',\n",
       " 'save_ckpt': True,\n",
       " 'save_best': False,\n",
       " 'num_ckpt_keep': 3,\n",
       " 'clip_grad_norm': 1,\n",
       " 'accumulate_grad_batches': 1,\n",
       " 'log_interval': 100,\n",
       " 'num_sanity_val_steps': 1,\n",
       " 'check_val_every_n_epoch': 10,\n",
       " 'val_check_interval': 2000,\n",
       " 'max_epochs': 1000,\n",
       " 'max_updates': 160000,\n",
       " 'max_tokens': 40000,\n",
       " 'max_sentences': 48,\n",
       " 'max_eval_tokens': 60000,\n",
       " 'max_eval_sentences': 1,\n",
       " 'test_input_dir': '',\n",
       " 'base_config': ['usr/configs/popcs_ds_beta6.yaml',\n",
       "  'usr/configs/midi/cascade/opencs/opencpop_statis.yaml'],\n",
       " 'task_cls': 'usr.diffsinger_task.DiffSingerMIDITask',\n",
       " 'raw_data_dir': 'data/raw/popcs',\n",
       " 'processed_data_dir': 'data/processed/popcs',\n",
       " 'dict_dir': '',\n",
       " 'pre_align_cls': 'data_gen.singing.pre_align.SingingPreAlign',\n",
       " 'binarizer_cls': 'data_gen.singing.binarize.OpencpopBinarizer',\n",
       " 'pre_align_args': {'allow_no_txt': False,\n",
       "  'denoise': False,\n",
       "  'forced_align': 'mfa',\n",
       "  'txt_processor': 'zh_g2pM',\n",
       "  'use_sox': True,\n",
       "  'use_tone': False},\n",
       " 'binarization_args': {'shuffle': False,\n",
       "  'with_align': True,\n",
       "  'with_f0': True,\n",
       "  'with_f0cwt': True,\n",
       "  'with_spk_embed': False,\n",
       "  'with_txt': True,\n",
       "  'with_wav': True},\n",
       " 'loud_norm': False,\n",
       " 'reset_phone_dict': True,\n",
       " 'max_frames': 8000,\n",
       " 'max_input_tokens': 1550,\n",
       " 'audio_num_mel_bins': 80,\n",
       " 'audio_sample_rate': 24000,\n",
       " 'hop_size': 128,\n",
       " 'win_size': 512,\n",
       " 'fmin': 30,\n",
       " 'fmax': 12000,\n",
       " 'fft_size': 512,\n",
       " 'min_level_db': -120,\n",
       " 'num_spk': 1,\n",
       " 'mel_vmin': -6.0,\n",
       " 'mel_vmax': 1.5,\n",
       " 'dropout': 0.1,\n",
       " 'enc_layers': 4,\n",
       " 'dec_layers': 4,\n",
       " 'hidden_size': 256,\n",
       " 'num_heads': 2,\n",
       " 'prenet_dropout': 0.5,\n",
       " 'prenet_hidden_size': 256,\n",
       " 'stop_token_weight': 5.0,\n",
       " 'enc_ffn_kernel_size': 9,\n",
       " 'dec_ffn_kernel_size': 9,\n",
       " 'ffn_act': 'gelu',\n",
       " 'ffn_padding': 'SAME',\n",
       " 'lr': 0.001,\n",
       " 'warmup_updates': 2000,\n",
       " 'optimizer_adam_beta1': 0.9,\n",
       " 'optimizer_adam_beta2': 0.98,\n",
       " 'weight_decay': 0,\n",
       " 'train_set_name': 'train',\n",
       " 'valid_set_name': 'valid',\n",
       " 'test_set_name': 'test',\n",
       " 'vocoder': 'vocoders.hifigan.HifiGAN',\n",
       " 'vocoder_ckpt': 'checkpoints/0109_hifigan_bigpopcs_hop128',\n",
       " 'profile_infer': False,\n",
       " 'out_wav_norm': False,\n",
       " 'save_gt': False,\n",
       " 'save_f0': True,\n",
       " 'gen_dir_name': '',\n",
       " 'use_denoise': False,\n",
       " 'encoder_type': 'fft',\n",
       " 'encoder_K': 8,\n",
       " 'decoder_type': 'fft',\n",
       " 'use_pos_embed': True,\n",
       " 'predictor_hidden': -1,\n",
       " 'predictor_kernel': 5,\n",
       " 'predictor_layers': 5,\n",
       " 'dur_predictor_kernel': 3,\n",
       " 'dur_predictor_layers': 5,\n",
       " 'predictor_dropout': 0.5,\n",
       " 'use_pitch_embed': False,\n",
       " 'pitch_type': 'frame',\n",
       " 'use_uv': True,\n",
       " 'cwt_hidden_size': 128,\n",
       " 'cwt_layers': 2,\n",
       " 'cwt_loss': 'l1',\n",
       " 'cwt_add_f0_loss': False,\n",
       " 'cwt_std_scale': 0.8,\n",
       " 'pitch_ar': False,\n",
       " 'pitch_loss': 'l1',\n",
       " 'pitch_norm': 'log',\n",
       " 'use_energy_embed': False,\n",
       " 'use_spk_id': False,\n",
       " 'use_split_spk_id': False,\n",
       " 'use_spk_embed': False,\n",
       " 'use_var_enc': False,\n",
       " 'lambda_commit': 0.25,\n",
       " 'ref_norm_layer': 'bn',\n",
       " 'pitch_enc_hidden_stride_kernel': ['0,2,5', '0,2,5', '0,2,5'],\n",
       " 'dur_enc_hidden_stride_kernel': ['0,2,3', '0,2,3', '0,1,3'],\n",
       " 'mel_loss': 'ssim:0.5|l1:0.5',\n",
       " 'lambda_f0': 0.0,\n",
       " 'lambda_uv': 0.0,\n",
       " 'lambda_energy': 0.0,\n",
       " 'lambda_ph_dur': 1.0,\n",
       " 'lambda_sent_dur': 1.0,\n",
       " 'lambda_word_dur': 1.0,\n",
       " 'predictor_grad': 0.1,\n",
       " 'pretrain_fs_ckpt': '',\n",
       " 'num_valid_plots': 10,\n",
       " 'num_test_samples': 0,\n",
       " 'test_ids': [],\n",
       " 'use_gt_dur': False,\n",
       " 'use_gt_f0': False,\n",
       " 'dur_loss': 'mse',\n",
       " 'norm_type': 'gn',\n",
       " 'datasets': ['popcs'],\n",
       " 'test_prefixes': ['popcs-说散就散', 'popcs-隐形的翅膀'],\n",
       " 'timesteps': 100,\n",
       " 'dilation_cycle_length': 4,\n",
       " 'residual_layers': 20,\n",
       " 'residual_channels': 256,\n",
       " 'decay_steps': 50000,\n",
       " 'keep_bins': 80,\n",
       " 'spec_min': [-6.0,\n",
       "  -6.0,\n",
       "  -6.0,\n",
       "  -6.0,\n",
       "  -6.0,\n",
       "  -6.0,\n",
       "  -6.0,\n",
       "  -6.0,\n",
       "  -6.0,\n",
       "  -6.0,\n",
       "  -6.0,\n",
       "  -6.0,\n",
       "  -6.0,\n",
       "  -6.0,\n",
       "  -6.0,\n",
       "  -6.0,\n",
       "  -6.0,\n",
       "  -6.0,\n",
       "  -6.0,\n",
       "  -6.0,\n",
       "  -6.0,\n",
       "  -6.0,\n",
       "  -6.0,\n",
       "  -6.0,\n",
       "  -6.0,\n",
       "  -6.0,\n",
       "  -6.0,\n",
       "  -6.0,\n",
       "  -6.0,\n",
       "  -6.0,\n",
       "  -6.0,\n",
       "  -6.0,\n",
       "  -6.0,\n",
       "  -6.0,\n",
       "  -6.0,\n",
       "  -6.0,\n",
       "  -6.0,\n",
       "  -6.0,\n",
       "  -6.0,\n",
       "  -6.0,\n",
       "  -6.0,\n",
       "  -6.0,\n",
       "  -6.0,\n",
       "  -6.0,\n",
       "  -6.0,\n",
       "  -6.0,\n",
       "  -6.0,\n",
       "  -6.0,\n",
       "  -6.0,\n",
       "  -6.0,\n",
       "  -6.0,\n",
       "  -6.0,\n",
       "  -6.0,\n",
       "  -6.0,\n",
       "  -6.0,\n",
       "  -6.0,\n",
       "  -6.0,\n",
       "  -6.0,\n",
       "  -6.0,\n",
       "  -6.0,\n",
       "  -6.0,\n",
       "  -6.0,\n",
       "  -6.0,\n",
       "  -6.0,\n",
       "  -6.0,\n",
       "  -6.0,\n",
       "  -6.0,\n",
       "  -6.0,\n",
       "  -6.0,\n",
       "  -6.0,\n",
       "  -6.0,\n",
       "  -6.0,\n",
       "  -6.0,\n",
       "  -6.0,\n",
       "  -6.0,\n",
       "  -6.0,\n",
       "  -6.0,\n",
       "  -6.0,\n",
       "  -6.0,\n",
       "  -6.0],\n",
       " 'spec_max': [-0.79453,\n",
       "  -0.81116,\n",
       "  -0.61631,\n",
       "  -0.30679,\n",
       "  -0.13863,\n",
       "  -0.050652,\n",
       "  -0.11563,\n",
       "  -0.10679,\n",
       "  -0.091068,\n",
       "  -0.062174,\n",
       "  -0.075302,\n",
       "  -0.072217,\n",
       "  -0.063815,\n",
       "  -0.073299,\n",
       "  0.007361,\n",
       "  -0.072508,\n",
       "  -0.050234,\n",
       "  -0.16534,\n",
       "  -0.26928,\n",
       "  -0.20782,\n",
       "  -0.20823,\n",
       "  -0.11702,\n",
       "  -0.070128,\n",
       "  -0.065868,\n",
       "  -0.012675,\n",
       "  0.0015121,\n",
       "  -0.089902,\n",
       "  -0.21392,\n",
       "  -0.23789,\n",
       "  -0.28922,\n",
       "  -0.30405,\n",
       "  -0.23029,\n",
       "  -0.22088,\n",
       "  -0.21542,\n",
       "  -0.29367,\n",
       "  -0.30137,\n",
       "  -0.38281,\n",
       "  -0.4359,\n",
       "  -0.28681,\n",
       "  -0.46855,\n",
       "  -0.57485,\n",
       "  -0.47022,\n",
       "  -0.54266,\n",
       "  -0.44848,\n",
       "  -0.6412,\n",
       "  -0.687,\n",
       "  -0.6486,\n",
       "  -0.76436,\n",
       "  -0.49971,\n",
       "  -0.71068,\n",
       "  -0.69724,\n",
       "  -0.61487,\n",
       "  -0.55843,\n",
       "  -0.69773,\n",
       "  -0.57502,\n",
       "  -0.70919,\n",
       "  -0.82431,\n",
       "  -0.84213,\n",
       "  -0.90431,\n",
       "  -0.8284,\n",
       "  -0.77945,\n",
       "  -0.82758,\n",
       "  -0.87699,\n",
       "  -1.0532,\n",
       "  -1.0766,\n",
       "  -1.1198,\n",
       "  -1.0185,\n",
       "  -0.98983,\n",
       "  -1.0001,\n",
       "  -1.0756,\n",
       "  -1.0024,\n",
       "  -1.0304,\n",
       "  -1.0579,\n",
       "  -1.0188,\n",
       "  -1.05,\n",
       "  -1.0842,\n",
       "  -1.0923,\n",
       "  -1.1223,\n",
       "  -1.2381,\n",
       "  -1.6467],\n",
       " 'content_cond_steps': [],\n",
       " 'spk_cond_steps': [],\n",
       " 'fs2_ckpt': '',\n",
       " 'gen_tgt_spk_id': -1,\n",
       " 'pitch_extractor': 'parselmouth',\n",
       " 'K_step': 100,\n",
       " 'diff_loss_type': 'l1',\n",
       " 'diff_decoder_type': 'wavenet',\n",
       " 'schedule_type': 'linear',\n",
       " 'max_beta': 0.06,\n",
       " 'use_nsf': True,\n",
       " 'wav2spec_eps': '1e-6',\n",
       " 'use_midi': True,\n",
       " 'gaussian_start': True,\n",
       " 'rel_pos': True,\n",
       " 'pe_enable': True,\n",
       " 'pe_ckpt': 'checkpoints/0102_xiaoma_pe',\n",
       " 'validate': False,\n",
       " 'exp_name': '0228_opencpop_ds100_rel'}"
      ]
     },
     "execution_count": 18,
     "metadata": {},
     "output_type": "execute_result"
    }
   ],
   "source": [
    "from utils.hparams import set_hparams\n",
    "\n",
    "# Set these paths correctly as per your project\n",
    "CONFIG_PATH = 'usr/configs/midi/e2e/opencpop/ds100_adj_rel.yaml'\n",
    "EXP_NAME = '0228_opencpop_ds100_rel'\n",
    "\n",
    "set_hparams(config=CONFIG_PATH, exp_name=EXP_NAME, print_hparams=True)\n"
   ]
  },
  {
   "cell_type": "code",
   "execution_count": 19,
   "id": "6e5557bc",
   "metadata": {
    "execution": {
     "iopub.execute_input": "2025-06-26T19:41:29.634799Z",
     "iopub.status.busy": "2025-06-26T19:41:29.634554Z",
     "iopub.status.idle": "2025-06-26T19:41:36.085812Z",
     "shell.execute_reply": "2025-06-26T19:41:36.080775Z"
    },
    "papermill": {
     "duration": 6.474682,
     "end_time": "2025-06-26T19:41:36.088347",
     "exception": false,
     "start_time": "2025-06-26T19:41:29.613665",
     "status": "completed"
    },
    "tags": []
   },
   "outputs": [],
   "source": [
    "!cp -r /kaggle/input/0109-hifigan-bigpopcs-hop128 /kaggle/working/DiffSinger/checkpoints"
   ]
  },
  {
   "cell_type": "code",
   "execution_count": 20,
   "id": "fc84bc89",
   "metadata": {
    "execution": {
     "iopub.execute_input": "2025-06-26T19:41:36.126159Z",
     "iopub.status.busy": "2025-06-26T19:41:36.125836Z",
     "iopub.status.idle": "2025-06-26T19:41:36.529480Z",
     "shell.execute_reply": "2025-06-26T19:41:36.524528Z"
    },
    "papermill": {
     "duration": 0.426464,
     "end_time": "2025-06-26T19:41:36.532193",
     "exception": false,
     "start_time": "2025-06-26T19:41:36.105729",
     "status": "completed"
    },
    "tags": []
   },
   "outputs": [],
   "source": [
    "!cp -r /kaggle/input/0102-xiaoma-pe /kaggle/working/DiffSinger/checkpoints"
   ]
  },
  {
   "cell_type": "code",
   "execution_count": 21,
   "id": "e8882a49",
   "metadata": {
    "execution": {
     "iopub.execute_input": "2025-06-26T19:41:36.569912Z",
     "iopub.status.busy": "2025-06-26T19:41:36.569617Z",
     "iopub.status.idle": "2025-06-26T19:41:36.718274Z",
     "shell.execute_reply": "2025-06-26T19:41:36.713623Z"
    },
    "papermill": {
     "duration": 0.171591,
     "end_time": "2025-06-26T19:41:36.721056",
     "exception": false,
     "start_time": "2025-06-26T19:41:36.549465",
     "status": "completed"
    },
    "tags": []
   },
   "outputs": [],
   "source": [
    "mv /kaggle/working/DiffSinger/checkpoints/0102-xiaoma-pe /kaggle/working/DiffSinger/checkpoints/0102_xiaoma_pe"
   ]
  },
  {
   "cell_type": "code",
   "execution_count": 22,
   "id": "ee468d3b",
   "metadata": {
    "execution": {
     "iopub.execute_input": "2025-06-26T19:41:36.759210Z",
     "iopub.status.busy": "2025-06-26T19:41:36.758889Z",
     "iopub.status.idle": "2025-06-26T19:41:36.904184Z",
     "shell.execute_reply": "2025-06-26T19:41:36.899482Z"
    },
    "papermill": {
     "duration": 0.170277,
     "end_time": "2025-06-26T19:41:36.908395",
     "exception": false,
     "start_time": "2025-06-26T19:41:36.738118",
     "status": "completed"
    },
    "tags": []
   },
   "outputs": [],
   "source": [
    "mv /kaggle/working/DiffSinger/checkpoints/0109-hifigan-bigpopcs-hop128 /kaggle/working/DiffSinger/checkpoints/0109_hifigan_bigpopcs_hop128"
   ]
  },
  {
   "cell_type": "code",
   "execution_count": 23,
   "id": "ee12741a",
   "metadata": {
    "execution": {
     "iopub.execute_input": "2025-06-26T19:41:36.946117Z",
     "iopub.status.busy": "2025-06-26T19:41:36.945844Z",
     "iopub.status.idle": "2025-06-26T19:41:37.088594Z",
     "shell.execute_reply": "2025-06-26T19:41:37.084006Z"
    },
    "papermill": {
     "duration": 0.165676,
     "end_time": "2025-06-26T19:41:37.091388",
     "exception": false,
     "start_time": "2025-06-26T19:41:36.925712",
     "status": "completed"
    },
    "tags": []
   },
   "outputs": [],
   "source": [
    "!export MY_DS_EXP_NAME=0228_opencpop_ds100_rel"
   ]
  },
  {
   "cell_type": "code",
   "execution_count": 24,
   "id": "ae7e7738",
   "metadata": {
    "execution": {
     "iopub.execute_input": "2025-06-26T19:41:37.128696Z",
     "iopub.status.busy": "2025-06-26T19:41:37.128435Z",
     "iopub.status.idle": "2025-06-26T19:41:37.138474Z",
     "shell.execute_reply": "2025-06-26T19:41:37.133581Z"
    },
    "papermill": {
     "duration": 0.033039,
     "end_time": "2025-06-26T19:41:37.141103",
     "exception": false,
     "start_time": "2025-06-26T19:41:37.108064",
     "status": "completed"
    },
    "tags": []
   },
   "outputs": [],
   "source": [
    "# inp = {\n",
    "#     'text': '小酒窝长睫毛AP是你最美的记号',\n",
    "#     'notes': 'C#4/Db4 | F#4/Gb4 | G#4/Ab4 | A#4/Bb4 F#4/Gb4 | F#4/Gb4 C#4/Db4 | C#4/Db4 | rest | C#4/Db4 | A#4/Bb4 | G#4/Ab4 | A#4/Bb4 | G#4/Ab4 | F4 | C#4/Db4',\n",
    "#     'notes_duration': '0.407140 | 0.376190 | 0.242180 | 0.509550 0.183420 | 0.315400 0.235020 | 0.361660 | 0.223070 | 0.377270 | 0.340550 | 0.299620 | 0.344510 | 0.283770 | 0.323390 | 0.360340',\n",
    "#     'input_type': 'word'\n",
    "# }  # user input: Chinese characters\n",
    "\n",
    "# DiffSingerE2EInfer.example_run(inp)\n"
   ]
  },
  {
   "cell_type": "code",
   "execution_count": 25,
   "id": "8c6a8b16",
   "metadata": {
    "execution": {
     "iopub.execute_input": "2025-06-26T19:41:37.176971Z",
     "iopub.status.busy": "2025-06-26T19:41:37.176758Z",
     "iopub.status.idle": "2025-06-26T19:41:37.189464Z",
     "shell.execute_reply": "2025-06-26T19:41:37.185443Z"
    },
    "papermill": {
     "duration": 0.03473,
     "end_time": "2025-06-26T19:41:37.192110",
     "exception": false,
     "start_time": "2025-06-26T19:41:37.157380",
     "status": "completed"
    },
    "tags": []
   },
   "outputs": [
    {
     "data": {
      "text/plain": [
       "'/kaggle/working/DiffSinger'"
      ]
     },
     "execution_count": 25,
     "metadata": {},
     "output_type": "execute_result"
    }
   ],
   "source": [
    "pwd"
   ]
  },
  {
   "cell_type": "code",
   "execution_count": 26,
   "id": "3cf49bc3",
   "metadata": {
    "execution": {
     "iopub.execute_input": "2025-06-26T19:41:37.227956Z",
     "iopub.status.busy": "2025-06-26T19:41:37.227745Z",
     "iopub.status.idle": "2025-06-26T19:41:37.238278Z",
     "shell.execute_reply": "2025-06-26T19:41:37.234272Z"
    },
    "papermill": {
     "duration": 0.033211,
     "end_time": "2025-06-26T19:41:37.241576",
     "exception": false,
     "start_time": "2025-06-26T19:41:37.208365",
     "status": "completed"
    },
    "tags": []
   },
   "outputs": [
    {
     "name": "stdout",
     "output_type": "stream",
     "text": [
      "✅ Patched\n"
     ]
    }
   ],
   "source": [
    "file_path = '/kaggle/working/DiffSinger/checkpoints/0228_opencpop_ds100_rel/config.yaml'\n",
    "\n",
    "with open(file_path, 'r') as f:\n",
    "    code = f.read()\n",
    "\n",
    "# Replace import statement\n",
    "code = code.replace('0109-hifigan-bigpopcs-hop128', '0109_hifigan_bigpopcs_hop128')\n",
    "\n",
    "with open(file_path, 'w') as f:\n",
    "    f.write(code)\n",
    "\n",
    "print(\"✅ Patched\")"
   ]
  },
  {
   "cell_type": "code",
   "execution_count": 27,
   "id": "dd0cf2af",
   "metadata": {
    "execution": {
     "iopub.execute_input": "2025-06-26T19:41:37.277777Z",
     "iopub.status.busy": "2025-06-26T19:41:37.277549Z",
     "iopub.status.idle": "2025-06-26T19:41:37.288936Z",
     "shell.execute_reply": "2025-06-26T19:41:37.284690Z"
    },
    "papermill": {
     "duration": 0.033407,
     "end_time": "2025-06-26T19:41:37.291204",
     "exception": false,
     "start_time": "2025-06-26T19:41:37.257797",
     "status": "completed"
    },
    "tags": []
   },
   "outputs": [
    {
     "name": "stdout",
     "output_type": "stream",
     "text": [
      "✅ Patched\n"
     ]
    }
   ],
   "source": [
    "file_path = '/kaggle/working/DiffSinger/checkpoints/0228_opencpop_ds100_rel/config.yaml'\n",
    "\n",
    "with open(file_path, 'r') as f:\n",
    "    code = f.read()\n",
    "\n",
    "# Replace import statement\n",
    "code = code.replace('0102-xiaoma-pe', '0102_xiaoma_pe')\n",
    "\n",
    "with open(file_path, 'w') as f:\n",
    "    f.write(code)\n",
    "\n",
    "print(\"✅ Patched\")"
   ]
  },
  {
   "cell_type": "code",
   "execution_count": 28,
   "id": "6438fea5",
   "metadata": {
    "execution": {
     "iopub.execute_input": "2025-06-26T19:41:37.327651Z",
     "iopub.status.busy": "2025-06-26T19:41:37.327439Z",
     "iopub.status.idle": "2025-06-26T19:41:37.339366Z",
     "shell.execute_reply": "2025-06-26T19:41:37.335425Z"
    },
    "papermill": {
     "duration": 0.035243,
     "end_time": "2025-06-26T19:41:37.342830",
     "exception": false,
     "start_time": "2025-06-26T19:41:37.307587",
     "status": "completed"
    },
    "tags": []
   },
   "outputs": [
    {
     "data": {
      "text/plain": [
       "'/kaggle/working/DiffSinger'"
      ]
     },
     "execution_count": 28,
     "metadata": {},
     "output_type": "execute_result"
    }
   ],
   "source": [
    "pwd"
   ]
  },
  {
   "cell_type": "code",
   "execution_count": 29,
   "id": "22e55c50",
   "metadata": {
    "execution": {
     "iopub.execute_input": "2025-06-26T19:41:37.379389Z",
     "iopub.status.busy": "2025-06-26T19:41:37.379141Z",
     "iopub.status.idle": "2025-06-26T19:41:37.388454Z",
     "shell.execute_reply": "2025-06-26T19:41:37.384468Z"
    },
    "papermill": {
     "duration": 0.031771,
     "end_time": "2025-06-26T19:41:37.391045",
     "exception": false,
     "start_time": "2025-06-26T19:41:37.359274",
     "status": "completed"
    },
    "tags": []
   },
   "outputs": [
    {
     "name": "stdout",
     "output_type": "stream",
     "text": [
      "/kaggle/working/DiffSinger/checkpoints\n"
     ]
    }
   ],
   "source": [
    "cd checkpoints"
   ]
  },
  {
   "cell_type": "code",
   "execution_count": 30,
   "id": "7fa44cd9",
   "metadata": {
    "execution": {
     "iopub.execute_input": "2025-06-26T19:41:37.427717Z",
     "iopub.status.busy": "2025-06-26T19:41:37.427476Z",
     "iopub.status.idle": "2025-06-26T19:41:37.576000Z",
     "shell.execute_reply": "2025-06-26T19:41:37.571224Z"
    },
    "papermill": {
     "duration": 0.170893,
     "end_time": "2025-06-26T19:41:37.578522",
     "exception": false,
     "start_time": "2025-06-26T19:41:37.407629",
     "status": "completed"
    },
    "tags": []
   },
   "outputs": [
    {
     "name": "stdout",
     "output_type": "stream",
     "text": [
      "\u001b[0m\u001b[01;34m0102_xiaoma_pe\u001b[0m/  \u001b[01;34m0109_hifigan_bigpopcs_hop128\u001b[0m/  \u001b[01;34m0228_opencpop_ds100_rel\u001b[0m/\r\n"
     ]
    }
   ],
   "source": [
    "ls"
   ]
  },
  {
   "cell_type": "code",
   "execution_count": 31,
   "id": "d839d131",
   "metadata": {
    "execution": {
     "iopub.execute_input": "2025-06-26T19:41:37.617798Z",
     "iopub.status.busy": "2025-06-26T19:41:37.617549Z",
     "iopub.status.idle": "2025-06-26T19:41:37.627371Z",
     "shell.execute_reply": "2025-06-26T19:41:37.623312Z"
    },
    "papermill": {
     "duration": 0.033596,
     "end_time": "2025-06-26T19:41:37.630168",
     "exception": false,
     "start_time": "2025-06-26T19:41:37.596572",
     "status": "completed"
    },
    "tags": []
   },
   "outputs": [
    {
     "name": "stdout",
     "output_type": "stream",
     "text": [
      "/kaggle/working/DiffSinger\n"
     ]
    }
   ],
   "source": [
    "cd .."
   ]
  },
  {
   "cell_type": "code",
   "execution_count": 32,
   "id": "3dc58119",
   "metadata": {
    "execution": {
     "iopub.execute_input": "2025-06-26T19:41:37.669057Z",
     "iopub.status.busy": "2025-06-26T19:41:37.668800Z",
     "iopub.status.idle": "2025-06-26T19:41:37.677501Z",
     "shell.execute_reply": "2025-06-26T19:41:37.673166Z"
    },
    "papermill": {
     "duration": 0.032427,
     "end_time": "2025-06-26T19:41:37.680009",
     "exception": false,
     "start_time": "2025-06-26T19:41:37.647582",
     "status": "completed"
    },
    "tags": []
   },
   "outputs": [
    {
     "name": "stdout",
     "output_type": "stream",
     "text": [
      "Hi\n"
     ]
    }
   ],
   "source": [
    "print('Hi')"
   ]
  },
  {
   "cell_type": "code",
   "execution_count": 33,
   "id": "595ea8ca",
   "metadata": {
    "execution": {
     "iopub.execute_input": "2025-06-26T19:41:37.718230Z",
     "iopub.status.busy": "2025-06-26T19:41:37.717985Z",
     "iopub.status.idle": "2025-06-26T20:04:19.578651Z",
     "shell.execute_reply": "2025-06-26T20:04:19.572426Z"
    },
    "papermill": {
     "duration": 1362.027057,
     "end_time": "2025-06-26T20:04:19.724777",
     "exception": false,
     "start_time": "2025-06-26T19:41:37.697720",
     "status": "completed"
    },
    "tags": []
   },
   "outputs": [
    {
     "name": "stdout",
     "output_type": "stream",
     "text": [
      "| load 'model' from 'checkpoints/0228_opencpop_ds100_rel/model_ckpt_steps_160000.ckpt'.\n"
     ]
    },
    {
     "name": "stdout",
     "output_type": "stream",
     "text": [
      "| load 'model' from 'checkpoints/0102_xiaoma_pe/model_ckpt_steps_60000.ckpt'.\n"
     ]
    },
    {
     "name": "stdout",
     "output_type": "stream",
     "text": [
      "| load HifiGAN:  checkpoints/0109_hifigan_bigpopcs_hop128/model_ckpt_steps_280000.ckpt\n"
     ]
    },
    {
     "name": "stdout",
     "output_type": "stream",
     "text": [
      "Removing weight norm...\n"
     ]
    },
    {
     "name": "stdout",
     "output_type": "stream",
     "text": [
      "Pass word-notes check.\n",
      "396 396 396\n",
      "Pass word-notes check.\n"
     ]
    },
    {
     "name": "stdout",
     "output_type": "stream",
     "text": [
      "===> gaussion start.\n"
     ]
    },
    {
     "name": "stderr",
     "output_type": "stream",
     "text": [
      "\r",
      "sample time step:   0%|          | 0/100 [00:00<?, ?it/s]"
     ]
    },
    {
     "name": "stderr",
     "output_type": "stream",
     "text": [
      "\r",
      "sample time step:   1%|          | 1/100 [00:00<01:01,  1.61it/s]"
     ]
    },
    {
     "name": "stderr",
     "output_type": "stream",
     "text": [
      "\r",
      "sample time step:   2%|▏         | 2/100 [00:01<00:56,  1.72it/s]"
     ]
    },
    {
     "name": "stderr",
     "output_type": "stream",
     "text": [
      "\r",
      "sample time step:   3%|▎         | 3/100 [00:01<00:54,  1.78it/s]"
     ]
    },
    {
     "name": "stderr",
     "output_type": "stream",
     "text": [
      "\r",
      "sample time step:   4%|▍         | 4/100 [00:02<00:55,  1.74it/s]"
     ]
    },
    {
     "name": "stderr",
     "output_type": "stream",
     "text": [
      "\r",
      "sample time step:   5%|▌         | 5/100 [00:02<00:55,  1.72it/s]"
     ]
    },
    {
     "name": "stderr",
     "output_type": "stream",
     "text": [
      "\r",
      "sample time step:   6%|▌         | 6/100 [00:03<00:54,  1.74it/s]"
     ]
    },
    {
     "name": "stderr",
     "output_type": "stream",
     "text": [
      "\r",
      "sample time step:   7%|▋         | 7/100 [00:03<00:52,  1.78it/s]"
     ]
    },
    {
     "name": "stderr",
     "output_type": "stream",
     "text": [
      "\r",
      "sample time step:   8%|▊         | 8/100 [00:04<00:51,  1.78it/s]"
     ]
    },
    {
     "name": "stderr",
     "output_type": "stream",
     "text": [
      "\r",
      "sample time step:   9%|▉         | 9/100 [00:05<00:50,  1.81it/s]"
     ]
    },
    {
     "name": "stderr",
     "output_type": "stream",
     "text": [
      "\r",
      "sample time step:  10%|█         | 10/100 [00:05<00:48,  1.84it/s]"
     ]
    },
    {
     "name": "stderr",
     "output_type": "stream",
     "text": [
      "\r",
      "sample time step:  11%|█         | 11/100 [00:06<00:48,  1.85it/s]"
     ]
    },
    {
     "name": "stderr",
     "output_type": "stream",
     "text": [
      "\r",
      "sample time step:  12%|█▏        | 12/100 [00:06<00:46,  1.88it/s]"
     ]
    },
    {
     "name": "stderr",
     "output_type": "stream",
     "text": [
      "\r",
      "sample time step:  13%|█▎        | 13/100 [00:07<00:45,  1.93it/s]"
     ]
    },
    {
     "name": "stderr",
     "output_type": "stream",
     "text": [
      "\r",
      "sample time step:  14%|█▍        | 14/100 [00:07<00:45,  1.89it/s]"
     ]
    },
    {
     "name": "stderr",
     "output_type": "stream",
     "text": [
      "\r",
      "sample time step:  15%|█▌        | 15/100 [00:08<00:44,  1.91it/s]"
     ]
    },
    {
     "name": "stderr",
     "output_type": "stream",
     "text": [
      "\r",
      "sample time step:  16%|█▌        | 16/100 [00:08<00:43,  1.94it/s]"
     ]
    },
    {
     "name": "stderr",
     "output_type": "stream",
     "text": [
      "\r",
      "sample time step:  17%|█▋        | 17/100 [00:09<00:43,  1.91it/s]"
     ]
    },
    {
     "name": "stderr",
     "output_type": "stream",
     "text": [
      "\r",
      "sample time step:  18%|█▊        | 18/100 [00:09<00:43,  1.90it/s]"
     ]
    },
    {
     "name": "stderr",
     "output_type": "stream",
     "text": [
      "\r",
      "sample time step:  19%|█▉        | 19/100 [00:10<00:42,  1.89it/s]"
     ]
    },
    {
     "name": "stderr",
     "output_type": "stream",
     "text": [
      "\r",
      "sample time step:  20%|██        | 20/100 [00:10<00:42,  1.90it/s]"
     ]
    },
    {
     "name": "stderr",
     "output_type": "stream",
     "text": [
      "\r",
      "sample time step:  21%|██        | 21/100 [00:11<00:40,  1.96it/s]"
     ]
    },
    {
     "name": "stderr",
     "output_type": "stream",
     "text": [
      "\r",
      "sample time step:  22%|██▏       | 22/100 [00:11<00:39,  1.97it/s]"
     ]
    },
    {
     "name": "stderr",
     "output_type": "stream",
     "text": [
      "\r",
      "sample time step:  23%|██▎       | 23/100 [00:12<00:38,  2.00it/s]"
     ]
    },
    {
     "name": "stderr",
     "output_type": "stream",
     "text": [
      "\r",
      "sample time step:  24%|██▍       | 24/100 [00:12<00:37,  2.01it/s]"
     ]
    },
    {
     "name": "stderr",
     "output_type": "stream",
     "text": [
      "\r",
      "sample time step:  25%|██▌       | 25/100 [00:13<00:36,  2.04it/s]"
     ]
    },
    {
     "name": "stderr",
     "output_type": "stream",
     "text": [
      "\r",
      "sample time step:  26%|██▌       | 26/100 [00:13<00:35,  2.07it/s]"
     ]
    },
    {
     "name": "stderr",
     "output_type": "stream",
     "text": [
      "\r",
      "sample time step:  27%|██▋       | 27/100 [00:14<00:34,  2.09it/s]"
     ]
    },
    {
     "name": "stderr",
     "output_type": "stream",
     "text": [
      "\r",
      "sample time step:  28%|██▊       | 28/100 [00:14<00:35,  2.02it/s]"
     ]
    },
    {
     "name": "stderr",
     "output_type": "stream",
     "text": [
      "\r",
      "sample time step:  29%|██▉       | 29/100 [00:15<00:36,  1.97it/s]"
     ]
    },
    {
     "name": "stderr",
     "output_type": "stream",
     "text": [
      "\r",
      "sample time step:  30%|███       | 30/100 [00:15<00:36,  1.89it/s]"
     ]
    },
    {
     "name": "stderr",
     "output_type": "stream",
     "text": [
      "\r",
      "sample time step:  31%|███       | 31/100 [00:16<00:37,  1.83it/s]"
     ]
    },
    {
     "name": "stderr",
     "output_type": "stream",
     "text": [
      "\r",
      "sample time step:  32%|███▏      | 32/100 [00:16<00:36,  1.85it/s]"
     ]
    },
    {
     "name": "stderr",
     "output_type": "stream",
     "text": [
      "\r",
      "sample time step:  33%|███▎      | 33/100 [00:17<00:37,  1.81it/s]"
     ]
    },
    {
     "name": "stderr",
     "output_type": "stream",
     "text": [
      "\r",
      "sample time step:  34%|███▍      | 34/100 [00:18<00:35,  1.84it/s]"
     ]
    },
    {
     "name": "stderr",
     "output_type": "stream",
     "text": [
      "\r",
      "sample time step:  35%|███▌      | 35/100 [00:18<00:33,  1.91it/s]"
     ]
    },
    {
     "name": "stderr",
     "output_type": "stream",
     "text": [
      "\r",
      "sample time step:  36%|███▌      | 36/100 [00:18<00:32,  1.98it/s]"
     ]
    },
    {
     "name": "stderr",
     "output_type": "stream",
     "text": [
      "\r",
      "sample time step:  37%|███▋      | 37/100 [00:19<00:30,  2.04it/s]"
     ]
    },
    {
     "name": "stderr",
     "output_type": "stream",
     "text": [
      "\r",
      "sample time step:  38%|███▊      | 38/100 [00:19<00:30,  2.05it/s]"
     ]
    },
    {
     "name": "stderr",
     "output_type": "stream",
     "text": [
      "\r",
      "sample time step:  39%|███▉      | 39/100 [00:20<00:29,  2.05it/s]"
     ]
    },
    {
     "name": "stderr",
     "output_type": "stream",
     "text": [
      "\r",
      "sample time step:  40%|████      | 40/100 [00:20<00:28,  2.09it/s]"
     ]
    },
    {
     "name": "stderr",
     "output_type": "stream",
     "text": [
      "\r",
      "sample time step:  41%|████      | 41/100 [00:21<00:28,  2.06it/s]"
     ]
    },
    {
     "name": "stderr",
     "output_type": "stream",
     "text": [
      "\r",
      "sample time step:  42%|████▏     | 42/100 [00:21<00:28,  2.04it/s]"
     ]
    },
    {
     "name": "stderr",
     "output_type": "stream",
     "text": [
      "\r",
      "sample time step:  43%|████▎     | 43/100 [00:22<00:28,  1.98it/s]"
     ]
    },
    {
     "name": "stderr",
     "output_type": "stream",
     "text": [
      "\r",
      "sample time step:  44%|████▍     | 44/100 [00:22<00:28,  1.97it/s]"
     ]
    },
    {
     "name": "stderr",
     "output_type": "stream",
     "text": [
      "\r",
      "sample time step:  45%|████▌     | 45/100 [00:23<00:28,  1.91it/s]"
     ]
    },
    {
     "name": "stderr",
     "output_type": "stream",
     "text": [
      "\r",
      "sample time step:  46%|████▌     | 46/100 [00:24<00:28,  1.89it/s]"
     ]
    },
    {
     "name": "stderr",
     "output_type": "stream",
     "text": [
      "\r",
      "sample time step:  47%|████▋     | 47/100 [00:24<00:27,  1.91it/s]"
     ]
    },
    {
     "name": "stderr",
     "output_type": "stream",
     "text": [
      "\r",
      "sample time step:  48%|████▊     | 48/100 [00:25<00:26,  1.93it/s]"
     ]
    },
    {
     "name": "stderr",
     "output_type": "stream",
     "text": [
      "\r",
      "sample time step:  49%|████▉     | 49/100 [00:25<00:26,  1.92it/s]"
     ]
    },
    {
     "name": "stderr",
     "output_type": "stream",
     "text": [
      "\r",
      "sample time step:  50%|█████     | 50/100 [00:26<00:25,  1.97it/s]"
     ]
    },
    {
     "name": "stderr",
     "output_type": "stream",
     "text": [
      "\r",
      "sample time step:  51%|█████     | 51/100 [00:26<00:24,  2.02it/s]"
     ]
    },
    {
     "name": "stderr",
     "output_type": "stream",
     "text": [
      "\r",
      "sample time step:  52%|█████▏    | 52/100 [00:26<00:23,  2.06it/s]"
     ]
    },
    {
     "name": "stderr",
     "output_type": "stream",
     "text": [
      "\r",
      "sample time step:  53%|█████▎    | 53/100 [00:27<00:22,  2.05it/s]"
     ]
    },
    {
     "name": "stderr",
     "output_type": "stream",
     "text": [
      "\r",
      "sample time step:  54%|█████▍    | 54/100 [00:27<00:22,  2.02it/s]"
     ]
    },
    {
     "name": "stderr",
     "output_type": "stream",
     "text": [
      "\r",
      "sample time step:  55%|█████▌    | 55/100 [00:28<00:23,  1.92it/s]"
     ]
    },
    {
     "name": "stderr",
     "output_type": "stream",
     "text": [
      "\r",
      "sample time step:  56%|█████▌    | 56/100 [00:29<00:23,  1.87it/s]"
     ]
    },
    {
     "name": "stderr",
     "output_type": "stream",
     "text": [
      "\r",
      "sample time step:  57%|█████▋    | 57/100 [00:29<00:23,  1.85it/s]"
     ]
    },
    {
     "name": "stderr",
     "output_type": "stream",
     "text": [
      "\r",
      "sample time step:  58%|█████▊    | 58/100 [00:30<00:22,  1.83it/s]"
     ]
    },
    {
     "name": "stderr",
     "output_type": "stream",
     "text": [
      "\r",
      "sample time step:  59%|█████▉    | 59/100 [00:30<00:22,  1.82it/s]"
     ]
    },
    {
     "name": "stderr",
     "output_type": "stream",
     "text": [
      "\r",
      "sample time step:  60%|██████    | 60/100 [00:31<00:21,  1.83it/s]"
     ]
    },
    {
     "name": "stderr",
     "output_type": "stream",
     "text": [
      "\r",
      "sample time step:  61%|██████    | 61/100 [00:31<00:21,  1.81it/s]"
     ]
    },
    {
     "name": "stderr",
     "output_type": "stream",
     "text": [
      "\r",
      "sample time step:  62%|██████▏   | 62/100 [00:32<00:20,  1.82it/s]"
     ]
    },
    {
     "name": "stderr",
     "output_type": "stream",
     "text": [
      "\r",
      "sample time step:  63%|██████▎   | 63/100 [00:32<00:20,  1.84it/s]"
     ]
    },
    {
     "name": "stderr",
     "output_type": "stream",
     "text": [
      "\r",
      "sample time step:  64%|██████▍   | 64/100 [00:33<00:18,  1.93it/s]"
     ]
    },
    {
     "name": "stderr",
     "output_type": "stream",
     "text": [
      "\r",
      "sample time step:  65%|██████▌   | 65/100 [00:33<00:17,  2.00it/s]"
     ]
    },
    {
     "name": "stderr",
     "output_type": "stream",
     "text": [
      "\r",
      "sample time step:  66%|██████▌   | 66/100 [00:34<00:16,  2.02it/s]"
     ]
    },
    {
     "name": "stderr",
     "output_type": "stream",
     "text": [
      "\r",
      "sample time step:  67%|██████▋   | 67/100 [00:34<00:16,  2.05it/s]"
     ]
    },
    {
     "name": "stderr",
     "output_type": "stream",
     "text": [
      "\r",
      "sample time step:  68%|██████▊   | 68/100 [00:35<00:16,  1.96it/s]"
     ]
    },
    {
     "name": "stderr",
     "output_type": "stream",
     "text": [
      "\r",
      "sample time step:  69%|██████▉   | 69/100 [00:35<00:16,  1.93it/s]"
     ]
    },
    {
     "name": "stderr",
     "output_type": "stream",
     "text": [
      "\r",
      "sample time step:  70%|███████   | 70/100 [00:36<00:15,  1.94it/s]"
     ]
    },
    {
     "name": "stderr",
     "output_type": "stream",
     "text": [
      "\r",
      "sample time step:  71%|███████   | 71/100 [00:37<00:15,  1.92it/s]"
     ]
    },
    {
     "name": "stderr",
     "output_type": "stream",
     "text": [
      "\r",
      "sample time step:  72%|███████▏  | 72/100 [00:37<00:15,  1.86it/s]"
     ]
    },
    {
     "name": "stderr",
     "output_type": "stream",
     "text": [
      "\r",
      "sample time step:  73%|███████▎  | 73/100 [00:38<00:14,  1.91it/s]"
     ]
    },
    {
     "name": "stderr",
     "output_type": "stream",
     "text": [
      "\r",
      "sample time step:  74%|███████▍  | 74/100 [00:38<00:13,  1.95it/s]"
     ]
    },
    {
     "name": "stderr",
     "output_type": "stream",
     "text": [
      "\r",
      "sample time step:  75%|███████▌  | 75/100 [00:39<00:13,  1.83it/s]"
     ]
    },
    {
     "name": "stderr",
     "output_type": "stream",
     "text": [
      "\r",
      "sample time step:  76%|███████▌  | 76/100 [00:39<00:12,  1.85it/s]"
     ]
    },
    {
     "name": "stderr",
     "output_type": "stream",
     "text": [
      "\r",
      "sample time step:  77%|███████▋  | 77/100 [00:40<00:12,  1.86it/s]"
     ]
    },
    {
     "name": "stderr",
     "output_type": "stream",
     "text": [
      "\r",
      "sample time step:  78%|███████▊  | 78/100 [00:40<00:11,  1.86it/s]"
     ]
    },
    {
     "name": "stderr",
     "output_type": "stream",
     "text": [
      "\r",
      "sample time step:  79%|███████▉  | 79/100 [00:41<00:11,  1.87it/s]"
     ]
    },
    {
     "name": "stderr",
     "output_type": "stream",
     "text": [
      "\r",
      "sample time step:  80%|████████  | 80/100 [00:41<00:10,  1.88it/s]"
     ]
    },
    {
     "name": "stderr",
     "output_type": "stream",
     "text": [
      "\r",
      "sample time step:  81%|████████  | 81/100 [00:42<00:09,  1.91it/s]"
     ]
    },
    {
     "name": "stderr",
     "output_type": "stream",
     "text": [
      "\r",
      "sample time step:  82%|████████▏ | 82/100 [00:42<00:09,  1.94it/s]"
     ]
    },
    {
     "name": "stderr",
     "output_type": "stream",
     "text": [
      "\r",
      "sample time step:  83%|████████▎ | 83/100 [00:43<00:08,  1.96it/s]"
     ]
    },
    {
     "name": "stderr",
     "output_type": "stream",
     "text": [
      "\r",
      "sample time step:  84%|████████▍ | 84/100 [00:43<00:08,  1.92it/s]"
     ]
    },
    {
     "name": "stderr",
     "output_type": "stream",
     "text": [
      "\r",
      "sample time step:  85%|████████▌ | 85/100 [00:44<00:07,  1.92it/s]"
     ]
    },
    {
     "name": "stderr",
     "output_type": "stream",
     "text": [
      "\r",
      "sample time step:  86%|████████▌ | 86/100 [00:44<00:07,  1.97it/s]"
     ]
    },
    {
     "name": "stderr",
     "output_type": "stream",
     "text": [
      "\r",
      "sample time step:  87%|████████▋ | 87/100 [00:45<00:06,  1.97it/s]"
     ]
    },
    {
     "name": "stderr",
     "output_type": "stream",
     "text": [
      "\r",
      "sample time step:  88%|████████▊ | 88/100 [00:45<00:06,  1.98it/s]"
     ]
    },
    {
     "name": "stderr",
     "output_type": "stream",
     "text": [
      "\r",
      "sample time step:  89%|████████▉ | 89/100 [00:46<00:05,  1.92it/s]"
     ]
    },
    {
     "name": "stderr",
     "output_type": "stream",
     "text": [
      "\r",
      "sample time step:  90%|█████████ | 90/100 [00:47<00:05,  1.88it/s]"
     ]
    },
    {
     "name": "stderr",
     "output_type": "stream",
     "text": [
      "\r",
      "sample time step:  91%|█████████ | 91/100 [00:47<00:04,  1.84it/s]"
     ]
    },
    {
     "name": "stderr",
     "output_type": "stream",
     "text": [
      "\r",
      "sample time step:  92%|█████████▏| 92/100 [00:48<00:04,  1.82it/s]"
     ]
    },
    {
     "name": "stderr",
     "output_type": "stream",
     "text": [
      "\r",
      "sample time step:  93%|█████████▎| 93/100 [00:48<00:03,  1.85it/s]"
     ]
    },
    {
     "name": "stderr",
     "output_type": "stream",
     "text": [
      "\r",
      "sample time step:  94%|█████████▍| 94/100 [00:49<00:03,  1.88it/s]"
     ]
    },
    {
     "name": "stderr",
     "output_type": "stream",
     "text": [
      "\r",
      "sample time step:  95%|█████████▌| 95/100 [00:49<00:02,  1.94it/s]"
     ]
    },
    {
     "name": "stderr",
     "output_type": "stream",
     "text": [
      "\r",
      "sample time step:  96%|█████████▌| 96/100 [00:50<00:02,  1.86it/s]"
     ]
    },
    {
     "name": "stderr",
     "output_type": "stream",
     "text": [
      "\r",
      "sample time step:  97%|█████████▋| 97/100 [00:50<00:01,  1.83it/s]"
     ]
    },
    {
     "name": "stderr",
     "output_type": "stream",
     "text": [
      "\r",
      "sample time step:  98%|█████████▊| 98/100 [00:51<00:01,  1.82it/s]"
     ]
    },
    {
     "name": "stderr",
     "output_type": "stream",
     "text": [
      "\r",
      "sample time step:  99%|█████████▉| 99/100 [00:51<00:00,  1.82it/s]"
     ]
    },
    {
     "name": "stderr",
     "output_type": "stream",
     "text": [
      "\r",
      "sample time step: 100%|██████████| 100/100 [00:52<00:00,  1.82it/s]"
     ]
    },
    {
     "name": "stderr",
     "output_type": "stream",
     "text": [
      "\r",
      "sample time step: 100%|██████████| 100/100 [00:52<00:00,  1.91it/s]"
     ]
    },
    {
     "name": "stderr",
     "output_type": "stream",
     "text": [
      "\n"
     ]
    },
    {
     "name": "stdout",
     "output_type": "stream",
     "text": [
      "✅ Generated: zh_15.wav\n"
     ]
    },
    {
     "name": "stdout",
     "output_type": "stream",
     "text": [
      "Pass word-notes check.\n",
      "288 288 288\n",
      "Pass word-notes check.\n"
     ]
    },
    {
     "name": "stdout",
     "output_type": "stream",
     "text": [
      "===> gaussion start.\n"
     ]
    },
    {
     "name": "stderr",
     "output_type": "stream",
     "text": [
      "\r",
      "sample time step:   0%|          | 0/100 [00:00<?, ?it/s]"
     ]
    },
    {
     "name": "stderr",
     "output_type": "stream",
     "text": [
      "\r",
      "sample time step:   1%|          | 1/100 [00:00<00:37,  2.64it/s]"
     ]
    },
    {
     "name": "stderr",
     "output_type": "stream",
     "text": [
      "\r",
      "sample time step:   2%|▏         | 2/100 [00:00<00:37,  2.62it/s]"
     ]
    },
    {
     "name": "stderr",
     "output_type": "stream",
     "text": [
      "\r",
      "sample time step:   3%|▎         | 3/100 [00:01<00:37,  2.61it/s]"
     ]
    },
    {
     "name": "stderr",
     "output_type": "stream",
     "text": [
      "\r",
      "sample time step:   4%|▍         | 4/100 [00:01<00:36,  2.62it/s]"
     ]
    },
    {
     "name": "stderr",
     "output_type": "stream",
     "text": [
      "\r",
      "sample time step:   5%|▌         | 5/100 [00:01<00:34,  2.75it/s]"
     ]
    },
    {
     "name": "stderr",
     "output_type": "stream",
     "text": [
      "\r",
      "sample time step:   6%|▌         | 6/100 [00:02<00:33,  2.84it/s]"
     ]
    },
    {
     "name": "stderr",
     "output_type": "stream",
     "text": [
      "\r",
      "sample time step:   7%|▋         | 7/100 [00:02<00:32,  2.87it/s]"
     ]
    },
    {
     "name": "stderr",
     "output_type": "stream",
     "text": [
      "\r",
      "sample time step:   8%|▊         | 8/100 [00:02<00:31,  2.90it/s]"
     ]
    },
    {
     "name": "stderr",
     "output_type": "stream",
     "text": [
      "\r",
      "sample time step:   9%|▉         | 9/100 [00:03<00:31,  2.88it/s]"
     ]
    },
    {
     "name": "stderr",
     "output_type": "stream",
     "text": [
      "\r",
      "sample time step:  10%|█         | 10/100 [00:03<00:31,  2.88it/s]"
     ]
    },
    {
     "name": "stderr",
     "output_type": "stream",
     "text": [
      "\r",
      "sample time step:  11%|█         | 11/100 [00:03<00:31,  2.80it/s]"
     ]
    },
    {
     "name": "stderr",
     "output_type": "stream",
     "text": [
      "\r",
      "sample time step:  12%|█▏        | 12/100 [00:04<00:32,  2.74it/s]"
     ]
    },
    {
     "name": "stderr",
     "output_type": "stream",
     "text": [
      "\r",
      "sample time step:  13%|█▎        | 13/100 [00:04<00:31,  2.78it/s]"
     ]
    },
    {
     "name": "stderr",
     "output_type": "stream",
     "text": [
      "\r",
      "sample time step:  14%|█▍        | 14/100 [00:05<00:30,  2.78it/s]"
     ]
    },
    {
     "name": "stderr",
     "output_type": "stream",
     "text": [
      "\r",
      "sample time step:  15%|█▌        | 15/100 [00:05<00:30,  2.77it/s]"
     ]
    },
    {
     "name": "stderr",
     "output_type": "stream",
     "text": [
      "\r",
      "sample time step:  16%|█▌        | 16/100 [00:05<00:31,  2.66it/s]"
     ]
    },
    {
     "name": "stderr",
     "output_type": "stream",
     "text": [
      "\r",
      "sample time step:  17%|█▋        | 17/100 [00:06<00:31,  2.60it/s]"
     ]
    },
    {
     "name": "stderr",
     "output_type": "stream",
     "text": [
      "\r",
      "sample time step:  18%|█▊        | 18/100 [00:06<00:31,  2.63it/s]"
     ]
    },
    {
     "name": "stderr",
     "output_type": "stream",
     "text": [
      "\r",
      "sample time step:  19%|█▉        | 19/100 [00:06<00:31,  2.60it/s]"
     ]
    },
    {
     "name": "stderr",
     "output_type": "stream",
     "text": [
      "\r",
      "sample time step:  20%|██        | 20/100 [00:07<00:31,  2.58it/s]"
     ]
    },
    {
     "name": "stderr",
     "output_type": "stream",
     "text": [
      "\r",
      "sample time step:  21%|██        | 21/100 [00:07<00:30,  2.55it/s]"
     ]
    },
    {
     "name": "stderr",
     "output_type": "stream",
     "text": [
      "\r",
      "sample time step:  22%|██▏       | 22/100 [00:08<00:30,  2.60it/s]"
     ]
    },
    {
     "name": "stderr",
     "output_type": "stream",
     "text": [
      "\r",
      "sample time step:  23%|██▎       | 23/100 [00:08<00:28,  2.71it/s]"
     ]
    },
    {
     "name": "stderr",
     "output_type": "stream",
     "text": [
      "\r",
      "sample time step:  24%|██▍       | 24/100 [00:08<00:27,  2.77it/s]"
     ]
    },
    {
     "name": "stderr",
     "output_type": "stream",
     "text": [
      "\r",
      "sample time step:  25%|██▌       | 25/100 [00:09<00:27,  2.70it/s]"
     ]
    },
    {
     "name": "stderr",
     "output_type": "stream",
     "text": [
      "\r",
      "sample time step:  26%|██▌       | 26/100 [00:09<00:28,  2.57it/s]"
     ]
    },
    {
     "name": "stderr",
     "output_type": "stream",
     "text": [
      "\r",
      "sample time step:  27%|██▋       | 27/100 [00:10<00:28,  2.60it/s]"
     ]
    },
    {
     "name": "stderr",
     "output_type": "stream",
     "text": [
      "\r",
      "sample time step:  28%|██▊       | 28/100 [00:10<00:28,  2.53it/s]"
     ]
    },
    {
     "name": "stderr",
     "output_type": "stream",
     "text": [
      "\r",
      "sample time step:  29%|██▉       | 29/100 [00:10<00:27,  2.56it/s]"
     ]
    },
    {
     "name": "stderr",
     "output_type": "stream",
     "text": [
      "\r",
      "sample time step:  30%|███       | 30/100 [00:11<00:26,  2.61it/s]"
     ]
    },
    {
     "name": "stderr",
     "output_type": "stream",
     "text": [
      "\r",
      "sample time step:  31%|███       | 31/100 [00:11<00:25,  2.69it/s]"
     ]
    },
    {
     "name": "stderr",
     "output_type": "stream",
     "text": [
      "\r",
      "sample time step:  32%|███▏      | 32/100 [00:11<00:24,  2.76it/s]"
     ]
    },
    {
     "name": "stderr",
     "output_type": "stream",
     "text": [
      "\r",
      "sample time step:  33%|███▎      | 33/100 [00:12<00:23,  2.82it/s]"
     ]
    },
    {
     "name": "stderr",
     "output_type": "stream",
     "text": [
      "\r",
      "sample time step:  34%|███▍      | 34/100 [00:12<00:23,  2.85it/s]"
     ]
    },
    {
     "name": "stderr",
     "output_type": "stream",
     "text": [
      "\r",
      "sample time step:  35%|███▌      | 35/100 [00:12<00:23,  2.78it/s]"
     ]
    },
    {
     "name": "stderr",
     "output_type": "stream",
     "text": [
      "\r",
      "sample time step:  36%|███▌      | 36/100 [00:13<00:23,  2.72it/s]"
     ]
    },
    {
     "name": "stderr",
     "output_type": "stream",
     "text": [
      "\r",
      "sample time step:  37%|███▋      | 37/100 [00:13<00:23,  2.67it/s]"
     ]
    },
    {
     "name": "stderr",
     "output_type": "stream",
     "text": [
      "\r",
      "sample time step:  38%|███▊      | 38/100 [00:14<00:23,  2.64it/s]"
     ]
    },
    {
     "name": "stderr",
     "output_type": "stream",
     "text": [
      "\r",
      "sample time step:  39%|███▉      | 39/100 [00:14<00:23,  2.60it/s]"
     ]
    },
    {
     "name": "stderr",
     "output_type": "stream",
     "text": [
      "\r",
      "sample time step:  40%|████      | 40/100 [00:14<00:23,  2.55it/s]"
     ]
    },
    {
     "name": "stderr",
     "output_type": "stream",
     "text": [
      "\r",
      "sample time step:  41%|████      | 41/100 [00:15<00:23,  2.52it/s]"
     ]
    },
    {
     "name": "stderr",
     "output_type": "stream",
     "text": [
      "\r",
      "sample time step:  42%|████▏     | 42/100 [00:15<00:22,  2.62it/s]"
     ]
    },
    {
     "name": "stderr",
     "output_type": "stream",
     "text": [
      "\r",
      "sample time step:  43%|████▎     | 43/100 [00:16<00:21,  2.70it/s]"
     ]
    },
    {
     "name": "stderr",
     "output_type": "stream",
     "text": [
      "\r",
      "sample time step:  44%|████▍     | 44/100 [00:16<00:20,  2.75it/s]"
     ]
    },
    {
     "name": "stderr",
     "output_type": "stream",
     "text": [
      "\r",
      "sample time step:  45%|████▌     | 45/100 [00:16<00:20,  2.74it/s]"
     ]
    },
    {
     "name": "stderr",
     "output_type": "stream",
     "text": [
      "\r",
      "sample time step:  46%|████▌     | 46/100 [00:17<00:20,  2.70it/s]"
     ]
    },
    {
     "name": "stderr",
     "output_type": "stream",
     "text": [
      "\r",
      "sample time step:  47%|████▋     | 47/100 [00:17<00:20,  2.63it/s]"
     ]
    },
    {
     "name": "stderr",
     "output_type": "stream",
     "text": [
      "\r",
      "sample time step:  48%|████▊     | 48/100 [00:17<00:19,  2.69it/s]"
     ]
    },
    {
     "name": "stderr",
     "output_type": "stream",
     "text": [
      "\r",
      "sample time step:  49%|████▉     | 49/100 [00:18<00:18,  2.76it/s]"
     ]
    },
    {
     "name": "stderr",
     "output_type": "stream",
     "text": [
      "\r",
      "sample time step:  50%|█████     | 50/100 [00:18<00:17,  2.80it/s]"
     ]
    },
    {
     "name": "stderr",
     "output_type": "stream",
     "text": [
      "\r",
      "sample time step:  51%|█████     | 51/100 [00:18<00:17,  2.86it/s]"
     ]
    },
    {
     "name": "stderr",
     "output_type": "stream",
     "text": [
      "\r",
      "sample time step:  52%|█████▏    | 52/100 [00:19<00:16,  2.91it/s]"
     ]
    },
    {
     "name": "stderr",
     "output_type": "stream",
     "text": [
      "\r",
      "sample time step:  53%|█████▎    | 53/100 [00:19<00:16,  2.92it/s]"
     ]
    },
    {
     "name": "stderr",
     "output_type": "stream",
     "text": [
      "\r",
      "sample time step:  54%|█████▍    | 54/100 [00:19<00:15,  2.95it/s]"
     ]
    },
    {
     "name": "stderr",
     "output_type": "stream",
     "text": [
      "\r",
      "sample time step:  55%|█████▌    | 55/100 [00:20<00:15,  2.89it/s]"
     ]
    },
    {
     "name": "stderr",
     "output_type": "stream",
     "text": [
      "\r",
      "sample time step:  56%|█████▌    | 56/100 [00:20<00:15,  2.80it/s]"
     ]
    },
    {
     "name": "stderr",
     "output_type": "stream",
     "text": [
      "\r",
      "sample time step:  57%|█████▋    | 57/100 [00:21<00:15,  2.69it/s]"
     ]
    },
    {
     "name": "stderr",
     "output_type": "stream",
     "text": [
      "\r",
      "sample time step:  58%|█████▊    | 58/100 [00:21<00:16,  2.62it/s]"
     ]
    },
    {
     "name": "stderr",
     "output_type": "stream",
     "text": [
      "\r",
      "sample time step:  59%|█████▉    | 59/100 [00:21<00:15,  2.61it/s]"
     ]
    },
    {
     "name": "stderr",
     "output_type": "stream",
     "text": [
      "\r",
      "sample time step:  60%|██████    | 60/100 [00:22<00:15,  2.59it/s]"
     ]
    },
    {
     "name": "stderr",
     "output_type": "stream",
     "text": [
      "\r",
      "sample time step:  61%|██████    | 61/100 [00:22<00:15,  2.58it/s]"
     ]
    },
    {
     "name": "stderr",
     "output_type": "stream",
     "text": [
      "\r",
      "sample time step:  62%|██████▏   | 62/100 [00:22<00:14,  2.64it/s]"
     ]
    },
    {
     "name": "stderr",
     "output_type": "stream",
     "text": [
      "\r",
      "sample time step:  63%|██████▎   | 63/100 [00:23<00:14,  2.60it/s]"
     ]
    },
    {
     "name": "stderr",
     "output_type": "stream",
     "text": [
      "\r",
      "sample time step:  64%|██████▍   | 64/100 [00:23<00:13,  2.60it/s]"
     ]
    },
    {
     "name": "stderr",
     "output_type": "stream",
     "text": [
      "\r",
      "sample time step:  65%|██████▌   | 65/100 [00:24<00:13,  2.63it/s]"
     ]
    },
    {
     "name": "stderr",
     "output_type": "stream",
     "text": [
      "\r",
      "sample time step:  66%|██████▌   | 66/100 [00:24<00:12,  2.72it/s]"
     ]
    },
    {
     "name": "stderr",
     "output_type": "stream",
     "text": [
      "\r",
      "sample time step:  67%|██████▋   | 67/100 [00:24<00:11,  2.78it/s]"
     ]
    },
    {
     "name": "stderr",
     "output_type": "stream",
     "text": [
      "\r",
      "sample time step:  68%|██████▊   | 68/100 [00:25<00:11,  2.88it/s]"
     ]
    },
    {
     "name": "stderr",
     "output_type": "stream",
     "text": [
      "\r",
      "sample time step:  69%|██████▉   | 69/100 [00:25<00:10,  2.83it/s]"
     ]
    },
    {
     "name": "stderr",
     "output_type": "stream",
     "text": [
      "\r",
      "sample time step:  70%|███████   | 70/100 [00:25<00:10,  2.88it/s]"
     ]
    },
    {
     "name": "stderr",
     "output_type": "stream",
     "text": [
      "\r",
      "sample time step:  71%|███████   | 71/100 [00:26<00:09,  2.94it/s]"
     ]
    },
    {
     "name": "stderr",
     "output_type": "stream",
     "text": [
      "\r",
      "sample time step:  72%|███████▏  | 72/100 [00:26<00:09,  2.95it/s]"
     ]
    },
    {
     "name": "stderr",
     "output_type": "stream",
     "text": [
      "\r",
      "sample time step:  73%|███████▎  | 73/100 [00:26<00:09,  2.95it/s]"
     ]
    },
    {
     "name": "stderr",
     "output_type": "stream",
     "text": [
      "\r",
      "sample time step:  74%|███████▍  | 74/100 [00:27<00:09,  2.84it/s]"
     ]
    },
    {
     "name": "stderr",
     "output_type": "stream",
     "text": [
      "\r",
      "sample time step:  75%|███████▌  | 75/100 [00:27<00:09,  2.76it/s]"
     ]
    },
    {
     "name": "stderr",
     "output_type": "stream",
     "text": [
      "\r",
      "sample time step:  76%|███████▌  | 76/100 [00:27<00:09,  2.65it/s]"
     ]
    },
    {
     "name": "stderr",
     "output_type": "stream",
     "text": [
      "\r",
      "sample time step:  77%|███████▋  | 77/100 [00:28<00:08,  2.59it/s]"
     ]
    },
    {
     "name": "stderr",
     "output_type": "stream",
     "text": [
      "\r",
      "sample time step:  78%|███████▊  | 78/100 [00:28<00:08,  2.55it/s]"
     ]
    },
    {
     "name": "stderr",
     "output_type": "stream",
     "text": [
      "\r",
      "sample time step:  79%|███████▉  | 79/100 [00:29<00:08,  2.53it/s]"
     ]
    },
    {
     "name": "stderr",
     "output_type": "stream",
     "text": [
      "\r",
      "sample time step:  80%|████████  | 80/100 [00:29<00:07,  2.51it/s]"
     ]
    },
    {
     "name": "stderr",
     "output_type": "stream",
     "text": [
      "\r",
      "sample time step:  81%|████████  | 81/100 [00:30<00:07,  2.48it/s]"
     ]
    },
    {
     "name": "stderr",
     "output_type": "stream",
     "text": [
      "\r",
      "sample time step:  82%|████████▏ | 82/100 [00:30<00:07,  2.48it/s]"
     ]
    },
    {
     "name": "stderr",
     "output_type": "stream",
     "text": [
      "\r",
      "sample time step:  83%|████████▎ | 83/100 [00:30<00:06,  2.48it/s]"
     ]
    },
    {
     "name": "stderr",
     "output_type": "stream",
     "text": [
      "\r",
      "sample time step:  84%|████████▍ | 84/100 [00:31<00:06,  2.50it/s]"
     ]
    },
    {
     "name": "stderr",
     "output_type": "stream",
     "text": [
      "\r",
      "sample time step:  85%|████████▌ | 85/100 [00:31<00:05,  2.50it/s]"
     ]
    },
    {
     "name": "stderr",
     "output_type": "stream",
     "text": [
      "\r",
      "sample time step:  86%|████████▌ | 86/100 [00:32<00:05,  2.51it/s]"
     ]
    },
    {
     "name": "stderr",
     "output_type": "stream",
     "text": [
      "\r",
      "sample time step:  87%|████████▋ | 87/100 [00:32<00:05,  2.52it/s]"
     ]
    },
    {
     "name": "stderr",
     "output_type": "stream",
     "text": [
      "\r",
      "sample time step:  88%|████████▊ | 88/100 [00:32<00:04,  2.59it/s]"
     ]
    },
    {
     "name": "stderr",
     "output_type": "stream",
     "text": [
      "\r",
      "sample time step:  89%|████████▉ | 89/100 [00:33<00:04,  2.69it/s]"
     ]
    },
    {
     "name": "stderr",
     "output_type": "stream",
     "text": [
      "\r",
      "sample time step:  90%|█████████ | 90/100 [00:33<00:03,  2.79it/s]"
     ]
    },
    {
     "name": "stderr",
     "output_type": "stream",
     "text": [
      "\r",
      "sample time step:  91%|█████████ | 91/100 [00:33<00:03,  2.70it/s]"
     ]
    },
    {
     "name": "stderr",
     "output_type": "stream",
     "text": [
      "\r",
      "sample time step:  92%|█████████▏| 92/100 [00:34<00:02,  2.78it/s]"
     ]
    },
    {
     "name": "stderr",
     "output_type": "stream",
     "text": [
      "\r",
      "sample time step:  93%|█████████▎| 93/100 [00:34<00:02,  2.74it/s]"
     ]
    },
    {
     "name": "stderr",
     "output_type": "stream",
     "text": [
      "\r",
      "sample time step:  94%|█████████▍| 94/100 [00:34<00:02,  2.70it/s]"
     ]
    },
    {
     "name": "stderr",
     "output_type": "stream",
     "text": [
      "\r",
      "sample time step:  95%|█████████▌| 95/100 [00:35<00:01,  2.67it/s]"
     ]
    },
    {
     "name": "stderr",
     "output_type": "stream",
     "text": [
      "\r",
      "sample time step:  96%|█████████▌| 96/100 [00:35<00:01,  2.66it/s]"
     ]
    },
    {
     "name": "stderr",
     "output_type": "stream",
     "text": [
      "\r",
      "sample time step:  97%|█████████▋| 97/100 [00:36<00:01,  2.60it/s]"
     ]
    },
    {
     "name": "stderr",
     "output_type": "stream",
     "text": [
      "\r",
      "sample time step:  98%|█████████▊| 98/100 [00:36<00:00,  2.58it/s]"
     ]
    },
    {
     "name": "stderr",
     "output_type": "stream",
     "text": [
      "\r",
      "sample time step:  99%|█████████▉| 99/100 [00:36<00:00,  2.54it/s]"
     ]
    },
    {
     "name": "stderr",
     "output_type": "stream",
     "text": [
      "\r",
      "sample time step: 100%|██████████| 100/100 [00:37<00:00,  2.56it/s]"
     ]
    },
    {
     "name": "stderr",
     "output_type": "stream",
     "text": [
      "\r",
      "sample time step: 100%|██████████| 100/100 [00:37<00:00,  2.68it/s]"
     ]
    },
    {
     "name": "stderr",
     "output_type": "stream",
     "text": [
      "\n"
     ]
    },
    {
     "name": "stdout",
     "output_type": "stream",
     "text": [
      "✅ Generated: zh_12.wav\n"
     ]
    },
    {
     "name": "stdout",
     "output_type": "stream",
     "text": [
      "Pass word-notes check.\n",
      "178 178 178\n",
      "Pass word-notes check.\n"
     ]
    },
    {
     "name": "stdout",
     "output_type": "stream",
     "text": [
      "===> gaussion start.\n"
     ]
    },
    {
     "name": "stderr",
     "output_type": "stream",
     "text": [
      "\r",
      "sample time step:   0%|          | 0/100 [00:00<?, ?it/s]"
     ]
    },
    {
     "name": "stderr",
     "output_type": "stream",
     "text": [
      "\r",
      "sample time step:   1%|          | 1/100 [00:00<00:26,  3.70it/s]"
     ]
    },
    {
     "name": "stderr",
     "output_type": "stream",
     "text": [
      "\r",
      "sample time step:   2%|▏         | 2/100 [00:00<00:28,  3.49it/s]"
     ]
    },
    {
     "name": "stderr",
     "output_type": "stream",
     "text": [
      "\r",
      "sample time step:   3%|▎         | 3/100 [00:00<00:28,  3.46it/s]"
     ]
    },
    {
     "name": "stderr",
     "output_type": "stream",
     "text": [
      "\r",
      "sample time step:   4%|▍         | 4/100 [00:01<00:27,  3.46it/s]"
     ]
    },
    {
     "name": "stderr",
     "output_type": "stream",
     "text": [
      "\r",
      "sample time step:   5%|▌         | 5/100 [00:01<00:26,  3.63it/s]"
     ]
    },
    {
     "name": "stderr",
     "output_type": "stream",
     "text": [
      "\r",
      "sample time step:   6%|▌         | 6/100 [00:01<00:25,  3.72it/s]"
     ]
    },
    {
     "name": "stderr",
     "output_type": "stream",
     "text": [
      "\r",
      "sample time step:   7%|▋         | 7/100 [00:01<00:24,  3.78it/s]"
     ]
    },
    {
     "name": "stderr",
     "output_type": "stream",
     "text": [
      "\r",
      "sample time step:   8%|▊         | 8/100 [00:02<00:24,  3.76it/s]"
     ]
    },
    {
     "name": "stderr",
     "output_type": "stream",
     "text": [
      "\r",
      "sample time step:   9%|▉         | 9/100 [00:02<00:23,  3.79it/s]"
     ]
    },
    {
     "name": "stderr",
     "output_type": "stream",
     "text": [
      "\r",
      "sample time step:  10%|█         | 10/100 [00:02<00:23,  3.80it/s]"
     ]
    },
    {
     "name": "stderr",
     "output_type": "stream",
     "text": [
      "\r",
      "sample time step:  11%|█         | 11/100 [00:02<00:24,  3.66it/s]"
     ]
    },
    {
     "name": "stderr",
     "output_type": "stream",
     "text": [
      "\r",
      "sample time step:  12%|█▏        | 12/100 [00:03<00:23,  3.68it/s]"
     ]
    },
    {
     "name": "stderr",
     "output_type": "stream",
     "text": [
      "\r",
      "sample time step:  13%|█▎        | 13/100 [00:03<00:23,  3.73it/s]"
     ]
    },
    {
     "name": "stderr",
     "output_type": "stream",
     "text": [
      "\r",
      "sample time step:  14%|█▍        | 14/100 [00:03<00:24,  3.54it/s]"
     ]
    },
    {
     "name": "stderr",
     "output_type": "stream",
     "text": [
      "\r",
      "sample time step:  15%|█▌        | 15/100 [00:04<00:24,  3.49it/s]"
     ]
    },
    {
     "name": "stderr",
     "output_type": "stream",
     "text": [
      "\r",
      "sample time step:  16%|█▌        | 16/100 [00:04<00:24,  3.37it/s]"
     ]
    },
    {
     "name": "stderr",
     "output_type": "stream",
     "text": [
      "\r",
      "sample time step:  17%|█▋        | 17/100 [00:04<00:24,  3.36it/s]"
     ]
    },
    {
     "name": "stderr",
     "output_type": "stream",
     "text": [
      "\r",
      "sample time step:  18%|█▊        | 18/100 [00:05<00:24,  3.35it/s]"
     ]
    },
    {
     "name": "stderr",
     "output_type": "stream",
     "text": [
      "\r",
      "sample time step:  19%|█▉        | 19/100 [00:05<00:23,  3.43it/s]"
     ]
    },
    {
     "name": "stderr",
     "output_type": "stream",
     "text": [
      "\r",
      "sample time step:  20%|██        | 20/100 [00:05<00:22,  3.55it/s]"
     ]
    },
    {
     "name": "stderr",
     "output_type": "stream",
     "text": [
      "\r",
      "sample time step:  21%|██        | 21/100 [00:05<00:21,  3.65it/s]"
     ]
    },
    {
     "name": "stderr",
     "output_type": "stream",
     "text": [
      "\r",
      "sample time step:  22%|██▏       | 22/100 [00:06<00:21,  3.69it/s]"
     ]
    },
    {
     "name": "stderr",
     "output_type": "stream",
     "text": [
      "\r",
      "sample time step:  23%|██▎       | 23/100 [00:06<00:21,  3.58it/s]"
     ]
    },
    {
     "name": "stderr",
     "output_type": "stream",
     "text": [
      "\r",
      "sample time step:  24%|██▍       | 24/100 [00:06<00:22,  3.45it/s]"
     ]
    },
    {
     "name": "stderr",
     "output_type": "stream",
     "text": [
      "\r",
      "sample time step:  25%|██▌       | 25/100 [00:07<00:22,  3.39it/s]"
     ]
    },
    {
     "name": "stderr",
     "output_type": "stream",
     "text": [
      "\r",
      "sample time step:  26%|██▌       | 26/100 [00:07<00:21,  3.46it/s]"
     ]
    },
    {
     "name": "stderr",
     "output_type": "stream",
     "text": [
      "\r",
      "sample time step:  27%|██▋       | 27/100 [00:07<00:20,  3.55it/s]"
     ]
    },
    {
     "name": "stderr",
     "output_type": "stream",
     "text": [
      "\r",
      "sample time step:  28%|██▊       | 28/100 [00:07<00:20,  3.50it/s]"
     ]
    },
    {
     "name": "stderr",
     "output_type": "stream",
     "text": [
      "\r",
      "sample time step:  29%|██▉       | 29/100 [00:08<00:20,  3.50it/s]"
     ]
    },
    {
     "name": "stderr",
     "output_type": "stream",
     "text": [
      "\r",
      "sample time step:  30%|███       | 30/100 [00:08<00:20,  3.50it/s]"
     ]
    },
    {
     "name": "stderr",
     "output_type": "stream",
     "text": [
      "\r",
      "sample time step:  31%|███       | 31/100 [00:08<00:19,  3.58it/s]"
     ]
    },
    {
     "name": "stderr",
     "output_type": "stream",
     "text": [
      "\r",
      "sample time step:  32%|███▏      | 32/100 [00:08<00:18,  3.64it/s]"
     ]
    },
    {
     "name": "stderr",
     "output_type": "stream",
     "text": [
      "\r",
      "sample time step:  33%|███▎      | 33/100 [00:09<00:18,  3.69it/s]"
     ]
    },
    {
     "name": "stderr",
     "output_type": "stream",
     "text": [
      "\r",
      "sample time step:  34%|███▍      | 34/100 [00:09<00:17,  3.76it/s]"
     ]
    },
    {
     "name": "stderr",
     "output_type": "stream",
     "text": [
      "\r",
      "sample time step:  35%|███▌      | 35/100 [00:09<00:17,  3.75it/s]"
     ]
    },
    {
     "name": "stderr",
     "output_type": "stream",
     "text": [
      "\r",
      "sample time step:  36%|███▌      | 36/100 [00:10<00:17,  3.61it/s]"
     ]
    },
    {
     "name": "stderr",
     "output_type": "stream",
     "text": [
      "\r",
      "sample time step:  37%|███▋      | 37/100 [00:10<00:17,  3.63it/s]"
     ]
    },
    {
     "name": "stderr",
     "output_type": "stream",
     "text": [
      "\r",
      "sample time step:  38%|███▊      | 38/100 [00:10<00:17,  3.54it/s]"
     ]
    },
    {
     "name": "stderr",
     "output_type": "stream",
     "text": [
      "\r",
      "sample time step:  39%|███▉      | 39/100 [00:10<00:17,  3.50it/s]"
     ]
    },
    {
     "name": "stderr",
     "output_type": "stream",
     "text": [
      "\r",
      "sample time step:  40%|████      | 40/100 [00:11<00:17,  3.38it/s]"
     ]
    },
    {
     "name": "stderr",
     "output_type": "stream",
     "text": [
      "\r",
      "sample time step:  41%|████      | 41/100 [00:11<00:17,  3.38it/s]"
     ]
    },
    {
     "name": "stderr",
     "output_type": "stream",
     "text": [
      "\r",
      "sample time step:  42%|████▏     | 42/100 [00:11<00:16,  3.41it/s]"
     ]
    },
    {
     "name": "stderr",
     "output_type": "stream",
     "text": [
      "\r",
      "sample time step:  43%|████▎     | 43/100 [00:12<00:16,  3.50it/s]"
     ]
    },
    {
     "name": "stderr",
     "output_type": "stream",
     "text": [
      "\r",
      "sample time step:  44%|████▍     | 44/100 [00:12<00:15,  3.60it/s]"
     ]
    },
    {
     "name": "stderr",
     "output_type": "stream",
     "text": [
      "\r",
      "sample time step:  45%|████▌     | 45/100 [00:12<00:14,  3.67it/s]"
     ]
    },
    {
     "name": "stderr",
     "output_type": "stream",
     "text": [
      "\r",
      "sample time step:  46%|████▌     | 46/100 [00:12<00:14,  3.69it/s]"
     ]
    },
    {
     "name": "stderr",
     "output_type": "stream",
     "text": [
      "\r",
      "sample time step:  47%|████▋     | 47/100 [00:13<00:14,  3.72it/s]"
     ]
    },
    {
     "name": "stderr",
     "output_type": "stream",
     "text": [
      "\r",
      "sample time step:  48%|████▊     | 48/100 [00:13<00:13,  3.80it/s]"
     ]
    },
    {
     "name": "stderr",
     "output_type": "stream",
     "text": [
      "\r",
      "sample time step:  49%|████▉     | 49/100 [00:13<00:13,  3.82it/s]"
     ]
    },
    {
     "name": "stderr",
     "output_type": "stream",
     "text": [
      "\r",
      "sample time step:  50%|█████     | 50/100 [00:13<00:13,  3.70it/s]"
     ]
    },
    {
     "name": "stderr",
     "output_type": "stream",
     "text": [
      "\r",
      "sample time step:  51%|█████     | 51/100 [00:14<00:13,  3.57it/s]"
     ]
    },
    {
     "name": "stderr",
     "output_type": "stream",
     "text": [
      "\r",
      "sample time step:  52%|█████▏    | 52/100 [00:14<00:13,  3.51it/s]"
     ]
    },
    {
     "name": "stderr",
     "output_type": "stream",
     "text": [
      "\r",
      "sample time step:  53%|█████▎    | 53/100 [00:14<00:13,  3.51it/s]"
     ]
    },
    {
     "name": "stderr",
     "output_type": "stream",
     "text": [
      "\r",
      "sample time step:  54%|█████▍    | 54/100 [00:15<00:12,  3.61it/s]"
     ]
    },
    {
     "name": "stderr",
     "output_type": "stream",
     "text": [
      "\r",
      "sample time step:  55%|█████▌    | 55/100 [00:15<00:12,  3.53it/s]"
     ]
    },
    {
     "name": "stderr",
     "output_type": "stream",
     "text": [
      "\r",
      "sample time step:  56%|█████▌    | 56/100 [00:15<00:12,  3.51it/s]"
     ]
    },
    {
     "name": "stderr",
     "output_type": "stream",
     "text": [
      "\r",
      "sample time step:  57%|█████▋    | 57/100 [00:15<00:12,  3.46it/s]"
     ]
    },
    {
     "name": "stderr",
     "output_type": "stream",
     "text": [
      "\r",
      "sample time step:  58%|█████▊    | 58/100 [00:16<00:11,  3.56it/s]"
     ]
    },
    {
     "name": "stderr",
     "output_type": "stream",
     "text": [
      "\r",
      "sample time step:  59%|█████▉    | 59/100 [00:16<00:11,  3.59it/s]"
     ]
    },
    {
     "name": "stderr",
     "output_type": "stream",
     "text": [
      "\r",
      "sample time step:  60%|██████    | 60/100 [00:16<00:11,  3.40it/s]"
     ]
    },
    {
     "name": "stderr",
     "output_type": "stream",
     "text": [
      "\r",
      "sample time step:  61%|██████    | 61/100 [00:17<00:11,  3.39it/s]"
     ]
    },
    {
     "name": "stderr",
     "output_type": "stream",
     "text": [
      "\r",
      "sample time step:  62%|██████▏   | 62/100 [00:17<00:11,  3.39it/s]"
     ]
    },
    {
     "name": "stderr",
     "output_type": "stream",
     "text": [
      "\r",
      "sample time step:  63%|██████▎   | 63/100 [00:17<00:10,  3.38it/s]"
     ]
    },
    {
     "name": "stderr",
     "output_type": "stream",
     "text": [
      "\r",
      "sample time step:  64%|██████▍   | 64/100 [00:18<00:10,  3.38it/s]"
     ]
    },
    {
     "name": "stderr",
     "output_type": "stream",
     "text": [
      "\r",
      "sample time step:  65%|██████▌   | 65/100 [00:18<00:10,  3.41it/s]"
     ]
    },
    {
     "name": "stderr",
     "output_type": "stream",
     "text": [
      "\r",
      "sample time step:  66%|██████▌   | 66/100 [00:18<00:09,  3.56it/s]"
     ]
    },
    {
     "name": "stderr",
     "output_type": "stream",
     "text": [
      "\r",
      "sample time step:  67%|██████▋   | 67/100 [00:18<00:09,  3.66it/s]"
     ]
    },
    {
     "name": "stderr",
     "output_type": "stream",
     "text": [
      "\r",
      "sample time step:  68%|██████▊   | 68/100 [00:19<00:08,  3.73it/s]"
     ]
    },
    {
     "name": "stderr",
     "output_type": "stream",
     "text": [
      "\r",
      "sample time step:  69%|██████▉   | 69/100 [00:19<00:08,  3.77it/s]"
     ]
    },
    {
     "name": "stderr",
     "output_type": "stream",
     "text": [
      "\r",
      "sample time step:  70%|███████   | 70/100 [00:19<00:07,  3.82it/s]"
     ]
    },
    {
     "name": "stderr",
     "output_type": "stream",
     "text": [
      "\r",
      "sample time step:  71%|███████   | 71/100 [00:19<00:07,  3.84it/s]"
     ]
    },
    {
     "name": "stderr",
     "output_type": "stream",
     "text": [
      "\r",
      "sample time step:  72%|███████▏  | 72/100 [00:20<00:07,  3.85it/s]"
     ]
    },
    {
     "name": "stderr",
     "output_type": "stream",
     "text": [
      "\r",
      "sample time step:  73%|███████▎  | 73/100 [00:20<00:06,  3.89it/s]"
     ]
    },
    {
     "name": "stderr",
     "output_type": "stream",
     "text": [
      "\r",
      "sample time step:  74%|███████▍  | 74/100 [00:20<00:06,  3.91it/s]"
     ]
    },
    {
     "name": "stderr",
     "output_type": "stream",
     "text": [
      "\r",
      "sample time step:  75%|███████▌  | 75/100 [00:20<00:06,  3.91it/s]"
     ]
    },
    {
     "name": "stderr",
     "output_type": "stream",
     "text": [
      "\r",
      "sample time step:  76%|███████▌  | 76/100 [00:21<00:06,  3.90it/s]"
     ]
    },
    {
     "name": "stderr",
     "output_type": "stream",
     "text": [
      "\r",
      "sample time step:  77%|███████▋  | 77/100 [00:21<00:06,  3.76it/s]"
     ]
    },
    {
     "name": "stderr",
     "output_type": "stream",
     "text": [
      "\r",
      "sample time step:  78%|███████▊  | 78/100 [00:21<00:06,  3.62it/s]"
     ]
    },
    {
     "name": "stderr",
     "output_type": "stream",
     "text": [
      "\r",
      "sample time step:  79%|███████▉  | 79/100 [00:22<00:05,  3.53it/s]"
     ]
    },
    {
     "name": "stderr",
     "output_type": "stream",
     "text": [
      "\r",
      "sample time step:  80%|████████  | 80/100 [00:22<00:05,  3.42it/s]"
     ]
    },
    {
     "name": "stderr",
     "output_type": "stream",
     "text": [
      "\r",
      "sample time step:  81%|████████  | 81/100 [00:22<00:05,  3.41it/s]"
     ]
    },
    {
     "name": "stderr",
     "output_type": "stream",
     "text": [
      "\r",
      "sample time step:  82%|████████▏ | 82/100 [00:22<00:05,  3.34it/s]"
     ]
    },
    {
     "name": "stderr",
     "output_type": "stream",
     "text": [
      "\r",
      "sample time step:  83%|████████▎ | 83/100 [00:23<00:05,  3.34it/s]"
     ]
    },
    {
     "name": "stderr",
     "output_type": "stream",
     "text": [
      "\r",
      "sample time step:  84%|████████▍ | 84/100 [00:23<00:04,  3.30it/s]"
     ]
    },
    {
     "name": "stderr",
     "output_type": "stream",
     "text": [
      "\r",
      "sample time step:  85%|████████▌ | 85/100 [00:23<00:04,  3.35it/s]"
     ]
    },
    {
     "name": "stderr",
     "output_type": "stream",
     "text": [
      "\r",
      "sample time step:  86%|████████▌ | 86/100 [00:24<00:04,  3.28it/s]"
     ]
    },
    {
     "name": "stderr",
     "output_type": "stream",
     "text": [
      "\r",
      "sample time step:  87%|████████▋ | 87/100 [00:24<00:03,  3.32it/s]"
     ]
    },
    {
     "name": "stderr",
     "output_type": "stream",
     "text": [
      "\r",
      "sample time step:  88%|████████▊ | 88/100 [00:24<00:03,  3.34it/s]"
     ]
    },
    {
     "name": "stderr",
     "output_type": "stream",
     "text": [
      "\r",
      "sample time step:  89%|████████▉ | 89/100 [00:25<00:03,  3.39it/s]"
     ]
    },
    {
     "name": "stderr",
     "output_type": "stream",
     "text": [
      "\r",
      "sample time step:  90%|█████████ | 90/100 [00:25<00:02,  3.52it/s]"
     ]
    },
    {
     "name": "stderr",
     "output_type": "stream",
     "text": [
      "\r",
      "sample time step:  91%|█████████ | 91/100 [00:25<00:02,  3.59it/s]"
     ]
    },
    {
     "name": "stderr",
     "output_type": "stream",
     "text": [
      "\r",
      "sample time step:  92%|█████████▏| 92/100 [00:25<00:02,  3.64it/s]"
     ]
    },
    {
     "name": "stderr",
     "output_type": "stream",
     "text": [
      "\r",
      "sample time step:  93%|█████████▎| 93/100 [00:26<00:01,  3.71it/s]"
     ]
    },
    {
     "name": "stderr",
     "output_type": "stream",
     "text": [
      "\r",
      "sample time step:  94%|█████████▍| 94/100 [00:26<00:01,  3.77it/s]"
     ]
    },
    {
     "name": "stderr",
     "output_type": "stream",
     "text": [
      "\r",
      "sample time step:  95%|█████████▌| 95/100 [00:26<00:01,  3.71it/s]"
     ]
    },
    {
     "name": "stderr",
     "output_type": "stream",
     "text": [
      "\r",
      "sample time step:  96%|█████████▌| 96/100 [00:26<00:01,  3.71it/s]"
     ]
    },
    {
     "name": "stderr",
     "output_type": "stream",
     "text": [
      "\r",
      "sample time step:  97%|█████████▋| 97/100 [00:27<00:00,  3.71it/s]"
     ]
    },
    {
     "name": "stderr",
     "output_type": "stream",
     "text": [
      "\r",
      "sample time step:  98%|█████████▊| 98/100 [00:27<00:00,  3.77it/s]"
     ]
    },
    {
     "name": "stderr",
     "output_type": "stream",
     "text": [
      "\r",
      "sample time step:  99%|█████████▉| 99/100 [00:27<00:00,  3.81it/s]"
     ]
    },
    {
     "name": "stderr",
     "output_type": "stream",
     "text": [
      "\r",
      "sample time step: 100%|██████████| 100/100 [00:27<00:00,  3.84it/s]"
     ]
    },
    {
     "name": "stderr",
     "output_type": "stream",
     "text": [
      "\r",
      "sample time step: 100%|██████████| 100/100 [00:27<00:00,  3.58it/s]"
     ]
    },
    {
     "name": "stderr",
     "output_type": "stream",
     "text": [
      "\n"
     ]
    },
    {
     "name": "stdout",
     "output_type": "stream",
     "text": [
      "✅ Generated: zh_7.wav\n"
     ]
    },
    {
     "name": "stdout",
     "output_type": "stream",
     "text": [
      "Pass word-notes check.\n",
      "482 482 482\n",
      "Pass word-notes check.\n"
     ]
    },
    {
     "name": "stdout",
     "output_type": "stream",
     "text": [
      "===> gaussion start.\n"
     ]
    },
    {
     "name": "stderr",
     "output_type": "stream",
     "text": [
      "\r",
      "sample time step:   0%|          | 0/100 [00:00<?, ?it/s]"
     ]
    },
    {
     "name": "stderr",
     "output_type": "stream",
     "text": [
      "\r",
      "sample time step:   1%|          | 1/100 [00:00<01:05,  1.51it/s]"
     ]
    },
    {
     "name": "stderr",
     "output_type": "stream",
     "text": [
      "\r",
      "sample time step:   2%|▏         | 2/100 [00:01<00:57,  1.69it/s]"
     ]
    },
    {
     "name": "stderr",
     "output_type": "stream",
     "text": [
      "\r",
      "sample time step:   3%|▎         | 3/100 [00:01<00:55,  1.75it/s]"
     ]
    },
    {
     "name": "stderr",
     "output_type": "stream",
     "text": [
      "\r",
      "sample time step:   4%|▍         | 4/100 [00:02<00:55,  1.74it/s]"
     ]
    },
    {
     "name": "stderr",
     "output_type": "stream",
     "text": [
      "\r",
      "sample time step:   5%|▌         | 5/100 [00:02<00:54,  1.74it/s]"
     ]
    },
    {
     "name": "stderr",
     "output_type": "stream",
     "text": [
      "\r",
      "sample time step:   6%|▌         | 6/100 [00:03<00:53,  1.76it/s]"
     ]
    },
    {
     "name": "stderr",
     "output_type": "stream",
     "text": [
      "\r",
      "sample time step:   7%|▋         | 7/100 [00:04<00:55,  1.68it/s]"
     ]
    },
    {
     "name": "stderr",
     "output_type": "stream",
     "text": [
      "\r",
      "sample time step:   8%|▊         | 8/100 [00:04<00:56,  1.62it/s]"
     ]
    },
    {
     "name": "stderr",
     "output_type": "stream",
     "text": [
      "\r",
      "sample time step:   9%|▉         | 9/100 [00:05<00:58,  1.56it/s]"
     ]
    },
    {
     "name": "stderr",
     "output_type": "stream",
     "text": [
      "\r",
      "sample time step:  10%|█         | 10/100 [00:06<00:55,  1.61it/s]"
     ]
    },
    {
     "name": "stderr",
     "output_type": "stream",
     "text": [
      "\r",
      "sample time step:  11%|█         | 11/100 [00:06<00:54,  1.62it/s]"
     ]
    },
    {
     "name": "stderr",
     "output_type": "stream",
     "text": [
      "\r",
      "sample time step:  12%|█▏        | 12/100 [00:07<00:54,  1.62it/s]"
     ]
    },
    {
     "name": "stderr",
     "output_type": "stream",
     "text": [
      "\r",
      "sample time step:  13%|█▎        | 13/100 [00:07<00:52,  1.67it/s]"
     ]
    },
    {
     "name": "stderr",
     "output_type": "stream",
     "text": [
      "\r",
      "sample time step:  14%|█▍        | 14/100 [00:08<00:50,  1.70it/s]"
     ]
    },
    {
     "name": "stderr",
     "output_type": "stream",
     "text": [
      "\r",
      "sample time step:  15%|█▌        | 15/100 [00:08<00:49,  1.72it/s]"
     ]
    },
    {
     "name": "stderr",
     "output_type": "stream",
     "text": [
      "\r",
      "sample time step:  16%|█▌        | 16/100 [00:09<00:48,  1.74it/s]"
     ]
    },
    {
     "name": "stderr",
     "output_type": "stream",
     "text": [
      "\r",
      "sample time step:  17%|█▋        | 17/100 [00:10<00:49,  1.68it/s]"
     ]
    },
    {
     "name": "stderr",
     "output_type": "stream",
     "text": [
      "\r",
      "sample time step:  18%|█▊        | 18/100 [00:10<00:50,  1.62it/s]"
     ]
    },
    {
     "name": "stderr",
     "output_type": "stream",
     "text": [
      "\r",
      "sample time step:  19%|█▉        | 19/100 [00:11<00:50,  1.61it/s]"
     ]
    },
    {
     "name": "stderr",
     "output_type": "stream",
     "text": [
      "\r",
      "sample time step:  20%|██        | 20/100 [00:12<00:51,  1.56it/s]"
     ]
    },
    {
     "name": "stderr",
     "output_type": "stream",
     "text": [
      "\r",
      "sample time step:  21%|██        | 21/100 [00:12<00:50,  1.58it/s]"
     ]
    },
    {
     "name": "stderr",
     "output_type": "stream",
     "text": [
      "\r",
      "sample time step:  22%|██▏       | 22/100 [00:13<00:49,  1.58it/s]"
     ]
    },
    {
     "name": "stderr",
     "output_type": "stream",
     "text": [
      "\r",
      "sample time step:  23%|██▎       | 23/100 [00:14<00:48,  1.58it/s]"
     ]
    },
    {
     "name": "stderr",
     "output_type": "stream",
     "text": [
      "\r",
      "sample time step:  24%|██▍       | 24/100 [00:14<00:48,  1.56it/s]"
     ]
    },
    {
     "name": "stderr",
     "output_type": "stream",
     "text": [
      "\r",
      "sample time step:  25%|██▌       | 25/100 [00:15<00:46,  1.61it/s]"
     ]
    },
    {
     "name": "stderr",
     "output_type": "stream",
     "text": [
      "\r",
      "sample time step:  26%|██▌       | 26/100 [00:15<00:46,  1.57it/s]"
     ]
    },
    {
     "name": "stderr",
     "output_type": "stream",
     "text": [
      "\r",
      "sample time step:  27%|██▋       | 27/100 [00:16<00:46,  1.57it/s]"
     ]
    },
    {
     "name": "stderr",
     "output_type": "stream",
     "text": [
      "\r",
      "sample time step:  28%|██▊       | 28/100 [00:17<00:46,  1.54it/s]"
     ]
    },
    {
     "name": "stderr",
     "output_type": "stream",
     "text": [
      "\r",
      "sample time step:  29%|██▉       | 29/100 [00:17<00:47,  1.50it/s]"
     ]
    },
    {
     "name": "stderr",
     "output_type": "stream",
     "text": [
      "\r",
      "sample time step:  30%|███       | 30/100 [00:18<00:45,  1.54it/s]"
     ]
    },
    {
     "name": "stderr",
     "output_type": "stream",
     "text": [
      "\r",
      "sample time step:  31%|███       | 31/100 [00:19<00:44,  1.57it/s]"
     ]
    },
    {
     "name": "stderr",
     "output_type": "stream",
     "text": [
      "\r",
      "sample time step:  32%|███▏      | 32/100 [00:19<00:41,  1.62it/s]"
     ]
    },
    {
     "name": "stderr",
     "output_type": "stream",
     "text": [
      "\r",
      "sample time step:  33%|███▎      | 33/100 [00:20<00:42,  1.59it/s]"
     ]
    },
    {
     "name": "stderr",
     "output_type": "stream",
     "text": [
      "\r",
      "sample time step:  34%|███▍      | 34/100 [00:21<00:42,  1.55it/s]"
     ]
    },
    {
     "name": "stderr",
     "output_type": "stream",
     "text": [
      "\r",
      "sample time step:  35%|███▌      | 35/100 [00:21<00:40,  1.62it/s]"
     ]
    },
    {
     "name": "stderr",
     "output_type": "stream",
     "text": [
      "\r",
      "sample time step:  36%|███▌      | 36/100 [00:22<00:40,  1.58it/s]"
     ]
    },
    {
     "name": "stderr",
     "output_type": "stream",
     "text": [
      "\r",
      "sample time step:  37%|███▋      | 37/100 [00:22<00:39,  1.59it/s]"
     ]
    },
    {
     "name": "stderr",
     "output_type": "stream",
     "text": [
      "\r",
      "sample time step:  38%|███▊      | 38/100 [00:23<00:39,  1.58it/s]"
     ]
    },
    {
     "name": "stderr",
     "output_type": "stream",
     "text": [
      "\r",
      "sample time step:  39%|███▉      | 39/100 [00:24<00:38,  1.57it/s]"
     ]
    },
    {
     "name": "stderr",
     "output_type": "stream",
     "text": [
      "\r",
      "sample time step:  40%|████      | 40/100 [00:24<00:38,  1.58it/s]"
     ]
    },
    {
     "name": "stderr",
     "output_type": "stream",
     "text": [
      "\r",
      "sample time step:  41%|████      | 41/100 [00:25<00:38,  1.53it/s]"
     ]
    },
    {
     "name": "stderr",
     "output_type": "stream",
     "text": [
      "\r",
      "sample time step:  42%|████▏     | 42/100 [00:26<00:36,  1.60it/s]"
     ]
    },
    {
     "name": "stderr",
     "output_type": "stream",
     "text": [
      "\r",
      "sample time step:  43%|████▎     | 43/100 [00:26<00:36,  1.55it/s]"
     ]
    },
    {
     "name": "stderr",
     "output_type": "stream",
     "text": [
      "\r",
      "sample time step:  44%|████▍     | 44/100 [00:27<00:35,  1.59it/s]"
     ]
    },
    {
     "name": "stderr",
     "output_type": "stream",
     "text": [
      "\r",
      "sample time step:  45%|████▌     | 45/100 [00:28<00:35,  1.56it/s]"
     ]
    },
    {
     "name": "stderr",
     "output_type": "stream",
     "text": [
      "\r",
      "sample time step:  46%|████▌     | 46/100 [00:28<00:33,  1.60it/s]"
     ]
    },
    {
     "name": "stderr",
     "output_type": "stream",
     "text": [
      "\r",
      "sample time step:  47%|████▋     | 47/100 [00:29<00:33,  1.60it/s]"
     ]
    },
    {
     "name": "stderr",
     "output_type": "stream",
     "text": [
      "\r",
      "sample time step:  48%|████▊     | 48/100 [00:29<00:33,  1.54it/s]"
     ]
    },
    {
     "name": "stderr",
     "output_type": "stream",
     "text": [
      "\r",
      "sample time step:  49%|████▉     | 49/100 [00:30<00:33,  1.54it/s]"
     ]
    },
    {
     "name": "stderr",
     "output_type": "stream",
     "text": [
      "\r",
      "sample time step:  50%|█████     | 50/100 [00:31<00:32,  1.55it/s]"
     ]
    },
    {
     "name": "stderr",
     "output_type": "stream",
     "text": [
      "\r",
      "sample time step:  51%|█████     | 51/100 [00:31<00:31,  1.56it/s]"
     ]
    },
    {
     "name": "stderr",
     "output_type": "stream",
     "text": [
      "\r",
      "sample time step:  52%|█████▏    | 52/100 [00:32<00:30,  1.58it/s]"
     ]
    },
    {
     "name": "stderr",
     "output_type": "stream",
     "text": [
      "\r",
      "sample time step:  53%|█████▎    | 53/100 [00:33<00:29,  1.60it/s]"
     ]
    },
    {
     "name": "stderr",
     "output_type": "stream",
     "text": [
      "\r",
      "sample time step:  54%|█████▍    | 54/100 [00:33<00:27,  1.65it/s]"
     ]
    },
    {
     "name": "stderr",
     "output_type": "stream",
     "text": [
      "\r",
      "sample time step:  55%|█████▌    | 55/100 [00:34<00:26,  1.72it/s]"
     ]
    },
    {
     "name": "stderr",
     "output_type": "stream",
     "text": [
      "\r",
      "sample time step:  56%|█████▌    | 56/100 [00:34<00:25,  1.74it/s]"
     ]
    },
    {
     "name": "stderr",
     "output_type": "stream",
     "text": [
      "\r",
      "sample time step:  57%|█████▋    | 57/100 [00:35<00:25,  1.66it/s]"
     ]
    },
    {
     "name": "stderr",
     "output_type": "stream",
     "text": [
      "\r",
      "sample time step:  58%|█████▊    | 58/100 [00:36<00:25,  1.63it/s]"
     ]
    },
    {
     "name": "stderr",
     "output_type": "stream",
     "text": [
      "\r",
      "sample time step:  59%|█████▉    | 59/100 [00:36<00:26,  1.56it/s]"
     ]
    },
    {
     "name": "stderr",
     "output_type": "stream",
     "text": [
      "\r",
      "sample time step:  60%|██████    | 60/100 [00:37<00:25,  1.55it/s]"
     ]
    },
    {
     "name": "stderr",
     "output_type": "stream",
     "text": [
      "\r",
      "sample time step:  61%|██████    | 61/100 [00:38<00:25,  1.54it/s]"
     ]
    },
    {
     "name": "stderr",
     "output_type": "stream",
     "text": [
      "\r",
      "sample time step:  62%|██████▏   | 62/100 [00:38<00:24,  1.58it/s]"
     ]
    },
    {
     "name": "stderr",
     "output_type": "stream",
     "text": [
      "\r",
      "sample time step:  63%|██████▎   | 63/100 [00:39<00:24,  1.54it/s]"
     ]
    },
    {
     "name": "stderr",
     "output_type": "stream",
     "text": [
      "\r",
      "sample time step:  64%|██████▍   | 64/100 [00:39<00:22,  1.59it/s]"
     ]
    },
    {
     "name": "stderr",
     "output_type": "stream",
     "text": [
      "\r",
      "sample time step:  65%|██████▌   | 65/100 [00:40<00:20,  1.69it/s]"
     ]
    },
    {
     "name": "stderr",
     "output_type": "stream",
     "text": [
      "\r",
      "sample time step:  66%|██████▌   | 66/100 [00:41<00:19,  1.72it/s]"
     ]
    },
    {
     "name": "stderr",
     "output_type": "stream",
     "text": [
      "\r",
      "sample time step:  67%|██████▋   | 67/100 [00:41<00:19,  1.73it/s]"
     ]
    },
    {
     "name": "stderr",
     "output_type": "stream",
     "text": [
      "\r",
      "sample time step:  68%|██████▊   | 68/100 [00:42<00:18,  1.75it/s]"
     ]
    },
    {
     "name": "stderr",
     "output_type": "stream",
     "text": [
      "\r",
      "sample time step:  69%|██████▉   | 69/100 [00:42<00:18,  1.67it/s]"
     ]
    },
    {
     "name": "stderr",
     "output_type": "stream",
     "text": [
      "\r",
      "sample time step:  70%|███████   | 70/100 [00:43<00:18,  1.63it/s]"
     ]
    },
    {
     "name": "stderr",
     "output_type": "stream",
     "text": [
      "\r",
      "sample time step:  71%|███████   | 71/100 [00:44<00:17,  1.65it/s]"
     ]
    },
    {
     "name": "stderr",
     "output_type": "stream",
     "text": [
      "\r",
      "sample time step:  72%|███████▏  | 72/100 [00:44<00:17,  1.61it/s]"
     ]
    },
    {
     "name": "stderr",
     "output_type": "stream",
     "text": [
      "\r",
      "sample time step:  73%|███████▎  | 73/100 [00:45<00:16,  1.66it/s]"
     ]
    },
    {
     "name": "stderr",
     "output_type": "stream",
     "text": [
      "\r",
      "sample time step:  74%|███████▍  | 74/100 [00:45<00:15,  1.63it/s]"
     ]
    },
    {
     "name": "stderr",
     "output_type": "stream",
     "text": [
      "\r",
      "sample time step:  75%|███████▌  | 75/100 [00:46<00:15,  1.64it/s]"
     ]
    },
    {
     "name": "stderr",
     "output_type": "stream",
     "text": [
      "\r",
      "sample time step:  76%|███████▌  | 76/100 [00:47<00:14,  1.64it/s]"
     ]
    },
    {
     "name": "stderr",
     "output_type": "stream",
     "text": [
      "\r",
      "sample time step:  77%|███████▋  | 77/100 [00:47<00:14,  1.62it/s]"
     ]
    },
    {
     "name": "stderr",
     "output_type": "stream",
     "text": [
      "\r",
      "sample time step:  78%|███████▊  | 78/100 [00:48<00:13,  1.59it/s]"
     ]
    },
    {
     "name": "stderr",
     "output_type": "stream",
     "text": [
      "\r",
      "sample time step:  79%|███████▉  | 79/100 [00:49<00:13,  1.57it/s]"
     ]
    },
    {
     "name": "stderr",
     "output_type": "stream",
     "text": [
      "\r",
      "sample time step:  80%|████████  | 80/100 [00:49<00:13,  1.53it/s]"
     ]
    },
    {
     "name": "stderr",
     "output_type": "stream",
     "text": [
      "\r",
      "sample time step:  81%|████████  | 81/100 [00:50<00:12,  1.54it/s]"
     ]
    },
    {
     "name": "stderr",
     "output_type": "stream",
     "text": [
      "\r",
      "sample time step:  82%|████████▏ | 82/100 [00:51<00:11,  1.54it/s]"
     ]
    },
    {
     "name": "stderr",
     "output_type": "stream",
     "text": [
      "\r",
      "sample time step:  83%|████████▎ | 83/100 [00:51<00:10,  1.58it/s]"
     ]
    },
    {
     "name": "stderr",
     "output_type": "stream",
     "text": [
      "\r",
      "sample time step:  84%|████████▍ | 84/100 [00:52<00:10,  1.55it/s]"
     ]
    },
    {
     "name": "stderr",
     "output_type": "stream",
     "text": [
      "\r",
      "sample time step:  85%|████████▌ | 85/100 [00:52<00:09,  1.57it/s]"
     ]
    },
    {
     "name": "stderr",
     "output_type": "stream",
     "text": [
      "\r",
      "sample time step:  86%|████████▌ | 86/100 [00:53<00:08,  1.64it/s]"
     ]
    },
    {
     "name": "stderr",
     "output_type": "stream",
     "text": [
      "\r",
      "sample time step:  87%|████████▋ | 87/100 [00:54<00:07,  1.63it/s]"
     ]
    },
    {
     "name": "stderr",
     "output_type": "stream",
     "text": [
      "\r",
      "sample time step:  88%|████████▊ | 88/100 [00:54<00:07,  1.71it/s]"
     ]
    },
    {
     "name": "stderr",
     "output_type": "stream",
     "text": [
      "\r",
      "sample time step:  89%|████████▉ | 89/100 [00:55<00:06,  1.72it/s]"
     ]
    },
    {
     "name": "stderr",
     "output_type": "stream",
     "text": [
      "\r",
      "sample time step:  90%|█████████ | 90/100 [00:55<00:05,  1.67it/s]"
     ]
    },
    {
     "name": "stderr",
     "output_type": "stream",
     "text": [
      "\r",
      "sample time step:  91%|█████████ | 91/100 [00:56<00:05,  1.61it/s]"
     ]
    },
    {
     "name": "stderr",
     "output_type": "stream",
     "text": [
      "\r",
      "sample time step:  92%|█████████▏| 92/100 [00:57<00:04,  1.68it/s]"
     ]
    },
    {
     "name": "stderr",
     "output_type": "stream",
     "text": [
      "\r",
      "sample time step:  93%|█████████▎| 93/100 [00:57<00:04,  1.63it/s]"
     ]
    },
    {
     "name": "stderr",
     "output_type": "stream",
     "text": [
      "\r",
      "sample time step:  94%|█████████▍| 94/100 [00:58<00:03,  1.60it/s]"
     ]
    },
    {
     "name": "stderr",
     "output_type": "stream",
     "text": [
      "\r",
      "sample time step:  95%|█████████▌| 95/100 [00:58<00:03,  1.60it/s]"
     ]
    },
    {
     "name": "stderr",
     "output_type": "stream",
     "text": [
      "\r",
      "sample time step:  96%|█████████▌| 96/100 [00:59<00:02,  1.57it/s]"
     ]
    },
    {
     "name": "stderr",
     "output_type": "stream",
     "text": [
      "\r",
      "sample time step:  97%|█████████▋| 97/100 [01:00<00:01,  1.62it/s]"
     ]
    },
    {
     "name": "stderr",
     "output_type": "stream",
     "text": [
      "\r",
      "sample time step:  98%|█████████▊| 98/100 [01:00<00:01,  1.67it/s]"
     ]
    },
    {
     "name": "stderr",
     "output_type": "stream",
     "text": [
      "\r",
      "sample time step:  99%|█████████▉| 99/100 [01:01<00:00,  1.66it/s]"
     ]
    },
    {
     "name": "stderr",
     "output_type": "stream",
     "text": [
      "\r",
      "sample time step: 100%|██████████| 100/100 [01:02<00:00,  1.62it/s]"
     ]
    },
    {
     "name": "stderr",
     "output_type": "stream",
     "text": [
      "\r",
      "sample time step: 100%|██████████| 100/100 [01:02<00:00,  1.61it/s]"
     ]
    },
    {
     "name": "stderr",
     "output_type": "stream",
     "text": [
      "\n"
     ]
    },
    {
     "name": "stdout",
     "output_type": "stream",
     "text": [
      "✅ Generated: zh_10.wav\n"
     ]
    },
    {
     "name": "stdout",
     "output_type": "stream",
     "text": [
      "Pass word-notes check.\n",
      "325 325 325\n",
      "Pass word-notes check.\n"
     ]
    },
    {
     "name": "stdout",
     "output_type": "stream",
     "text": [
      "===> gaussion start.\n"
     ]
    },
    {
     "name": "stderr",
     "output_type": "stream",
     "text": [
      "\r",
      "sample time step:   0%|          | 0/100 [00:00<?, ?it/s]"
     ]
    },
    {
     "name": "stderr",
     "output_type": "stream",
     "text": [
      "\r",
      "sample time step:   1%|          | 1/100 [00:00<00:35,  2.76it/s]"
     ]
    },
    {
     "name": "stderr",
     "output_type": "stream",
     "text": [
      "\r",
      "sample time step:   2%|▏         | 2/100 [00:00<00:36,  2.69it/s]"
     ]
    },
    {
     "name": "stderr",
     "output_type": "stream",
     "text": [
      "\r",
      "sample time step:   3%|▎         | 3/100 [00:01<00:37,  2.56it/s]"
     ]
    },
    {
     "name": "stderr",
     "output_type": "stream",
     "text": [
      "\r",
      "sample time step:   4%|▍         | 4/100 [00:01<00:39,  2.41it/s]"
     ]
    },
    {
     "name": "stderr",
     "output_type": "stream",
     "text": [
      "\r",
      "sample time step:   5%|▌         | 5/100 [00:02<00:39,  2.40it/s]"
     ]
    },
    {
     "name": "stderr",
     "output_type": "stream",
     "text": [
      "\r",
      "sample time step:   6%|▌         | 6/100 [00:02<00:39,  2.37it/s]"
     ]
    },
    {
     "name": "stderr",
     "output_type": "stream",
     "text": [
      "\r",
      "sample time step:   7%|▋         | 7/100 [00:02<00:40,  2.32it/s]"
     ]
    },
    {
     "name": "stderr",
     "output_type": "stream",
     "text": [
      "\r",
      "sample time step:   8%|▊         | 8/100 [00:03<00:40,  2.29it/s]"
     ]
    },
    {
     "name": "stderr",
     "output_type": "stream",
     "text": [
      "\r",
      "sample time step:   9%|▉         | 9/100 [00:03<00:40,  2.25it/s]"
     ]
    },
    {
     "name": "stderr",
     "output_type": "stream",
     "text": [
      "\r",
      "sample time step:  10%|█         | 10/100 [00:04<00:40,  2.23it/s]"
     ]
    },
    {
     "name": "stderr",
     "output_type": "stream",
     "text": [
      "\r",
      "sample time step:  11%|█         | 11/100 [00:04<00:39,  2.24it/s]"
     ]
    },
    {
     "name": "stderr",
     "output_type": "stream",
     "text": [
      "\r",
      "sample time step:  12%|█▏        | 12/100 [00:05<00:38,  2.26it/s]"
     ]
    },
    {
     "name": "stderr",
     "output_type": "stream",
     "text": [
      "\r",
      "sample time step:  13%|█▎        | 13/100 [00:05<00:38,  2.25it/s]"
     ]
    },
    {
     "name": "stderr",
     "output_type": "stream",
     "text": [
      "\r",
      "sample time step:  14%|█▍        | 14/100 [00:06<00:37,  2.26it/s]"
     ]
    },
    {
     "name": "stderr",
     "output_type": "stream",
     "text": [
      "\r",
      "sample time step:  15%|█▌        | 15/100 [00:06<00:37,  2.28it/s]"
     ]
    },
    {
     "name": "stderr",
     "output_type": "stream",
     "text": [
      "\r",
      "sample time step:  16%|█▌        | 16/100 [00:06<00:37,  2.26it/s]"
     ]
    },
    {
     "name": "stderr",
     "output_type": "stream",
     "text": [
      "\r",
      "sample time step:  17%|█▋        | 17/100 [00:07<00:35,  2.34it/s]"
     ]
    },
    {
     "name": "stderr",
     "output_type": "stream",
     "text": [
      "\r",
      "sample time step:  18%|█▊        | 18/100 [00:07<00:34,  2.41it/s]"
     ]
    },
    {
     "name": "stderr",
     "output_type": "stream",
     "text": [
      "\r",
      "sample time step:  19%|█▉        | 19/100 [00:08<00:34,  2.33it/s]"
     ]
    },
    {
     "name": "stderr",
     "output_type": "stream",
     "text": [
      "\r",
      "sample time step:  20%|██        | 20/100 [00:08<00:32,  2.43it/s]"
     ]
    },
    {
     "name": "stderr",
     "output_type": "stream",
     "text": [
      "\r",
      "sample time step:  21%|██        | 21/100 [00:08<00:33,  2.36it/s]"
     ]
    },
    {
     "name": "stderr",
     "output_type": "stream",
     "text": [
      "\r",
      "sample time step:  22%|██▏       | 22/100 [00:09<00:32,  2.37it/s]"
     ]
    },
    {
     "name": "stderr",
     "output_type": "stream",
     "text": [
      "\r",
      "sample time step:  23%|██▎       | 23/100 [00:09<00:32,  2.40it/s]"
     ]
    },
    {
     "name": "stderr",
     "output_type": "stream",
     "text": [
      "\r",
      "sample time step:  24%|██▍       | 24/100 [00:10<00:31,  2.43it/s]"
     ]
    },
    {
     "name": "stderr",
     "output_type": "stream",
     "text": [
      "\r",
      "sample time step:  25%|██▌       | 25/100 [00:10<00:31,  2.37it/s]"
     ]
    },
    {
     "name": "stderr",
     "output_type": "stream",
     "text": [
      "\r",
      "sample time step:  26%|██▌       | 26/100 [00:11<00:31,  2.34it/s]"
     ]
    },
    {
     "name": "stderr",
     "output_type": "stream",
     "text": [
      "\r",
      "sample time step:  27%|██▋       | 27/100 [00:11<00:31,  2.35it/s]"
     ]
    },
    {
     "name": "stderr",
     "output_type": "stream",
     "text": [
      "\r",
      "sample time step:  28%|██▊       | 28/100 [00:11<00:30,  2.36it/s]"
     ]
    },
    {
     "name": "stderr",
     "output_type": "stream",
     "text": [
      "\r",
      "sample time step:  29%|██▉       | 29/100 [00:12<00:30,  2.33it/s]"
     ]
    },
    {
     "name": "stderr",
     "output_type": "stream",
     "text": [
      "\r",
      "sample time step:  30%|███       | 30/100 [00:12<00:29,  2.40it/s]"
     ]
    },
    {
     "name": "stderr",
     "output_type": "stream",
     "text": [
      "\r",
      "sample time step:  31%|███       | 31/100 [00:13<00:27,  2.49it/s]"
     ]
    },
    {
     "name": "stderr",
     "output_type": "stream",
     "text": [
      "\r",
      "sample time step:  32%|███▏      | 32/100 [00:13<00:26,  2.52it/s]"
     ]
    },
    {
     "name": "stderr",
     "output_type": "stream",
     "text": [
      "\r",
      "sample time step:  33%|███▎      | 33/100 [00:13<00:26,  2.53it/s]"
     ]
    },
    {
     "name": "stderr",
     "output_type": "stream",
     "text": [
      "\r",
      "sample time step:  34%|███▍      | 34/100 [00:14<00:25,  2.61it/s]"
     ]
    },
    {
     "name": "stderr",
     "output_type": "stream",
     "text": [
      "\r",
      "sample time step:  35%|███▌      | 35/100 [00:14<00:24,  2.67it/s]"
     ]
    },
    {
     "name": "stderr",
     "output_type": "stream",
     "text": [
      "\r",
      "sample time step:  36%|███▌      | 36/100 [00:15<00:25,  2.51it/s]"
     ]
    },
    {
     "name": "stderr",
     "output_type": "stream",
     "text": [
      "\r",
      "sample time step:  37%|███▋      | 37/100 [00:15<00:24,  2.53it/s]"
     ]
    },
    {
     "name": "stderr",
     "output_type": "stream",
     "text": [
      "\r",
      "sample time step:  38%|███▊      | 38/100 [00:15<00:24,  2.50it/s]"
     ]
    },
    {
     "name": "stderr",
     "output_type": "stream",
     "text": [
      "\r",
      "sample time step:  39%|███▉      | 39/100 [00:16<00:24,  2.44it/s]"
     ]
    },
    {
     "name": "stderr",
     "output_type": "stream",
     "text": [
      "\r",
      "sample time step:  40%|████      | 40/100 [00:16<00:23,  2.54it/s]"
     ]
    },
    {
     "name": "stderr",
     "output_type": "stream",
     "text": [
      "\r",
      "sample time step:  41%|████      | 41/100 [00:17<00:23,  2.50it/s]"
     ]
    },
    {
     "name": "stderr",
     "output_type": "stream",
     "text": [
      "\r",
      "sample time step:  42%|████▏     | 42/100 [00:17<00:23,  2.47it/s]"
     ]
    },
    {
     "name": "stderr",
     "output_type": "stream",
     "text": [
      "\r",
      "sample time step:  43%|████▎     | 43/100 [00:17<00:23,  2.44it/s]"
     ]
    },
    {
     "name": "stderr",
     "output_type": "stream",
     "text": [
      "\r",
      "sample time step:  44%|████▍     | 44/100 [00:18<00:23,  2.38it/s]"
     ]
    },
    {
     "name": "stderr",
     "output_type": "stream",
     "text": [
      "\r",
      "sample time step:  45%|████▌     | 45/100 [00:18<00:23,  2.36it/s]"
     ]
    },
    {
     "name": "stderr",
     "output_type": "stream",
     "text": [
      "\r",
      "sample time step:  46%|████▌     | 46/100 [00:19<00:21,  2.48it/s]"
     ]
    },
    {
     "name": "stderr",
     "output_type": "stream",
     "text": [
      "\r",
      "sample time step:  47%|████▋     | 47/100 [00:19<00:21,  2.46it/s]"
     ]
    },
    {
     "name": "stderr",
     "output_type": "stream",
     "text": [
      "\r",
      "sample time step:  48%|████▊     | 48/100 [00:19<00:21,  2.46it/s]"
     ]
    },
    {
     "name": "stderr",
     "output_type": "stream",
     "text": [
      "\r",
      "sample time step:  49%|████▉     | 49/100 [00:20<00:20,  2.48it/s]"
     ]
    },
    {
     "name": "stderr",
     "output_type": "stream",
     "text": [
      "\r",
      "sample time step:  50%|█████     | 50/100 [00:20<00:19,  2.53it/s]"
     ]
    },
    {
     "name": "stderr",
     "output_type": "stream",
     "text": [
      "\r",
      "sample time step:  51%|█████     | 51/100 [00:21<00:18,  2.60it/s]"
     ]
    },
    {
     "name": "stderr",
     "output_type": "stream",
     "text": [
      "\r",
      "sample time step:  52%|█████▏    | 52/100 [00:21<00:18,  2.59it/s]"
     ]
    },
    {
     "name": "stderr",
     "output_type": "stream",
     "text": [
      "\r",
      "sample time step:  53%|█████▎    | 53/100 [00:21<00:19,  2.47it/s]"
     ]
    },
    {
     "name": "stderr",
     "output_type": "stream",
     "text": [
      "\r",
      "sample time step:  54%|█████▍    | 54/100 [00:22<00:18,  2.51it/s]"
     ]
    },
    {
     "name": "stderr",
     "output_type": "stream",
     "text": [
      "\r",
      "sample time step:  55%|█████▌    | 55/100 [00:22<00:18,  2.49it/s]"
     ]
    },
    {
     "name": "stderr",
     "output_type": "stream",
     "text": [
      "\r",
      "sample time step:  56%|█████▌    | 56/100 [00:23<00:18,  2.40it/s]"
     ]
    },
    {
     "name": "stderr",
     "output_type": "stream",
     "text": [
      "\r",
      "sample time step:  57%|█████▋    | 57/100 [00:23<00:18,  2.32it/s]"
     ]
    },
    {
     "name": "stderr",
     "output_type": "stream",
     "text": [
      "\r",
      "sample time step:  58%|█████▊    | 58/100 [00:24<00:18,  2.33it/s]"
     ]
    },
    {
     "name": "stderr",
     "output_type": "stream",
     "text": [
      "\r",
      "sample time step:  59%|█████▉    | 59/100 [00:24<00:17,  2.41it/s]"
     ]
    },
    {
     "name": "stderr",
     "output_type": "stream",
     "text": [
      "\r",
      "sample time step:  60%|██████    | 60/100 [00:24<00:16,  2.47it/s]"
     ]
    },
    {
     "name": "stderr",
     "output_type": "stream",
     "text": [
      "\r",
      "sample time step:  61%|██████    | 61/100 [00:25<00:15,  2.48it/s]"
     ]
    },
    {
     "name": "stderr",
     "output_type": "stream",
     "text": [
      "\r",
      "sample time step:  62%|██████▏   | 62/100 [00:25<00:15,  2.47it/s]"
     ]
    },
    {
     "name": "stderr",
     "output_type": "stream",
     "text": [
      "\r",
      "sample time step:  63%|██████▎   | 63/100 [00:26<00:15,  2.45it/s]"
     ]
    },
    {
     "name": "stderr",
     "output_type": "stream",
     "text": [
      "\r",
      "sample time step:  64%|██████▍   | 64/100 [00:26<00:14,  2.40it/s]"
     ]
    },
    {
     "name": "stderr",
     "output_type": "stream",
     "text": [
      "\r",
      "sample time step:  65%|██████▌   | 65/100 [00:26<00:14,  2.43it/s]"
     ]
    },
    {
     "name": "stderr",
     "output_type": "stream",
     "text": [
      "\r",
      "sample time step:  66%|██████▌   | 66/100 [00:27<00:14,  2.39it/s]"
     ]
    },
    {
     "name": "stderr",
     "output_type": "stream",
     "text": [
      "\r",
      "sample time step:  67%|██████▋   | 67/100 [00:27<00:13,  2.41it/s]"
     ]
    },
    {
     "name": "stderr",
     "output_type": "stream",
     "text": [
      "\r",
      "sample time step:  68%|██████▊   | 68/100 [00:28<00:13,  2.35it/s]"
     ]
    },
    {
     "name": "stderr",
     "output_type": "stream",
     "text": [
      "\r",
      "sample time step:  69%|██████▉   | 69/100 [00:28<00:13,  2.33it/s]"
     ]
    },
    {
     "name": "stderr",
     "output_type": "stream",
     "text": [
      "\r",
      "sample time step:  70%|███████   | 70/100 [00:29<00:13,  2.30it/s]"
     ]
    },
    {
     "name": "stderr",
     "output_type": "stream",
     "text": [
      "\r",
      "sample time step:  71%|███████   | 71/100 [00:29<00:12,  2.29it/s]"
     ]
    },
    {
     "name": "stderr",
     "output_type": "stream",
     "text": [
      "\r",
      "sample time step:  72%|███████▏  | 72/100 [00:29<00:12,  2.29it/s]"
     ]
    },
    {
     "name": "stderr",
     "output_type": "stream",
     "text": [
      "\r",
      "sample time step:  73%|███████▎  | 73/100 [00:30<00:11,  2.34it/s]"
     ]
    },
    {
     "name": "stderr",
     "output_type": "stream",
     "text": [
      "\r",
      "sample time step:  74%|███████▍  | 74/100 [00:30<00:11,  2.33it/s]"
     ]
    },
    {
     "name": "stderr",
     "output_type": "stream",
     "text": [
      "\r",
      "sample time step:  75%|███████▌  | 75/100 [00:31<00:10,  2.37it/s]"
     ]
    },
    {
     "name": "stderr",
     "output_type": "stream",
     "text": [
      "\r",
      "sample time step:  76%|███████▌  | 76/100 [00:31<00:09,  2.43it/s]"
     ]
    },
    {
     "name": "stderr",
     "output_type": "stream",
     "text": [
      "\r",
      "sample time step:  77%|███████▋  | 77/100 [00:31<00:09,  2.48it/s]"
     ]
    },
    {
     "name": "stderr",
     "output_type": "stream",
     "text": [
      "\r",
      "sample time step:  78%|███████▊  | 78/100 [00:32<00:08,  2.50it/s]"
     ]
    },
    {
     "name": "stderr",
     "output_type": "stream",
     "text": [
      "\r",
      "sample time step:  79%|███████▉  | 79/100 [00:32<00:08,  2.58it/s]"
     ]
    },
    {
     "name": "stderr",
     "output_type": "stream",
     "text": [
      "\r",
      "sample time step:  80%|████████  | 80/100 [00:33<00:07,  2.50it/s]"
     ]
    },
    {
     "name": "stderr",
     "output_type": "stream",
     "text": [
      "\r",
      "sample time step:  81%|████████  | 81/100 [00:33<00:07,  2.42it/s]"
     ]
    },
    {
     "name": "stderr",
     "output_type": "stream",
     "text": [
      "\r",
      "sample time step:  82%|████████▏ | 82/100 [00:33<00:07,  2.45it/s]"
     ]
    },
    {
     "name": "stderr",
     "output_type": "stream",
     "text": [
      "\r",
      "sample time step:  83%|████████▎ | 83/100 [00:34<00:06,  2.48it/s]"
     ]
    },
    {
     "name": "stderr",
     "output_type": "stream",
     "text": [
      "\r",
      "sample time step:  84%|████████▍ | 84/100 [00:34<00:06,  2.47it/s]"
     ]
    },
    {
     "name": "stderr",
     "output_type": "stream",
     "text": [
      "\r",
      "sample time step:  85%|████████▌ | 85/100 [00:35<00:06,  2.44it/s]"
     ]
    },
    {
     "name": "stderr",
     "output_type": "stream",
     "text": [
      "\r",
      "sample time step:  86%|████████▌ | 86/100 [00:35<00:05,  2.52it/s]"
     ]
    },
    {
     "name": "stderr",
     "output_type": "stream",
     "text": [
      "\r",
      "sample time step:  87%|████████▋ | 87/100 [00:35<00:05,  2.48it/s]"
     ]
    },
    {
     "name": "stderr",
     "output_type": "stream",
     "text": [
      "\r",
      "sample time step:  88%|████████▊ | 88/100 [00:36<00:04,  2.43it/s]"
     ]
    },
    {
     "name": "stderr",
     "output_type": "stream",
     "text": [
      "\r",
      "sample time step:  89%|████████▉ | 89/100 [00:36<00:04,  2.34it/s]"
     ]
    },
    {
     "name": "stderr",
     "output_type": "stream",
     "text": [
      "\r",
      "sample time step:  90%|█████████ | 90/100 [00:37<00:04,  2.33it/s]"
     ]
    },
    {
     "name": "stderr",
     "output_type": "stream",
     "text": [
      "\r",
      "sample time step:  91%|█████████ | 91/100 [00:37<00:03,  2.41it/s]"
     ]
    },
    {
     "name": "stderr",
     "output_type": "stream",
     "text": [
      "\r",
      "sample time step:  92%|█████████▏| 92/100 [00:38<00:03,  2.44it/s]"
     ]
    },
    {
     "name": "stderr",
     "output_type": "stream",
     "text": [
      "\r",
      "sample time step:  93%|█████████▎| 93/100 [00:38<00:02,  2.52it/s]"
     ]
    },
    {
     "name": "stderr",
     "output_type": "stream",
     "text": [
      "\r",
      "sample time step:  94%|█████████▍| 94/100 [00:38<00:02,  2.58it/s]"
     ]
    },
    {
     "name": "stderr",
     "output_type": "stream",
     "text": [
      "\r",
      "sample time step:  95%|█████████▌| 95/100 [00:39<00:01,  2.62it/s]"
     ]
    },
    {
     "name": "stderr",
     "output_type": "stream",
     "text": [
      "\r",
      "sample time step:  96%|█████████▌| 96/100 [00:39<00:01,  2.64it/s]"
     ]
    },
    {
     "name": "stderr",
     "output_type": "stream",
     "text": [
      "\r",
      "sample time step:  97%|█████████▋| 97/100 [00:39<00:01,  2.66it/s]"
     ]
    },
    {
     "name": "stderr",
     "output_type": "stream",
     "text": [
      "\r",
      "sample time step:  98%|█████████▊| 98/100 [00:40<00:00,  2.62it/s]"
     ]
    },
    {
     "name": "stderr",
     "output_type": "stream",
     "text": [
      "\r",
      "sample time step:  99%|█████████▉| 99/100 [00:40<00:00,  2.55it/s]"
     ]
    },
    {
     "name": "stderr",
     "output_type": "stream",
     "text": [
      "\r",
      "sample time step: 100%|██████████| 100/100 [00:41<00:00,  2.49it/s]"
     ]
    },
    {
     "name": "stderr",
     "output_type": "stream",
     "text": [
      "\r",
      "sample time step: 100%|██████████| 100/100 [00:41<00:00,  2.43it/s]"
     ]
    },
    {
     "name": "stderr",
     "output_type": "stream",
     "text": [
      "\n"
     ]
    },
    {
     "name": "stdout",
     "output_type": "stream",
     "text": [
      "✅ Generated: zh_16.wav\n"
     ]
    },
    {
     "name": "stdout",
     "output_type": "stream",
     "text": [
      "Pass word-notes check.\n",
      "349 349 349\n",
      "Pass word-notes check.\n"
     ]
    },
    {
     "name": "stdout",
     "output_type": "stream",
     "text": [
      "===> gaussion start.\n"
     ]
    },
    {
     "name": "stderr",
     "output_type": "stream",
     "text": [
      "\r",
      "sample time step:   0%|          | 0/100 [00:00<?, ?it/s]"
     ]
    },
    {
     "name": "stderr",
     "output_type": "stream",
     "text": [
      "\r",
      "sample time step:   1%|          | 1/100 [00:00<00:48,  2.06it/s]"
     ]
    },
    {
     "name": "stderr",
     "output_type": "stream",
     "text": [
      "\r",
      "sample time step:   2%|▏         | 2/100 [00:00<00:47,  2.07it/s]"
     ]
    },
    {
     "name": "stderr",
     "output_type": "stream",
     "text": [
      "\r",
      "sample time step:   3%|▎         | 3/100 [00:01<00:46,  2.09it/s]"
     ]
    },
    {
     "name": "stderr",
     "output_type": "stream",
     "text": [
      "\r",
      "sample time step:   4%|▍         | 4/100 [00:01<00:46,  2.06it/s]"
     ]
    },
    {
     "name": "stderr",
     "output_type": "stream",
     "text": [
      "\r",
      "sample time step:   5%|▌         | 5/100 [00:02<00:45,  2.10it/s]"
     ]
    },
    {
     "name": "stderr",
     "output_type": "stream",
     "text": [
      "\r",
      "sample time step:   6%|▌         | 6/100 [00:02<00:42,  2.19it/s]"
     ]
    },
    {
     "name": "stderr",
     "output_type": "stream",
     "text": [
      "\r",
      "sample time step:   7%|▋         | 7/100 [00:03<00:42,  2.17it/s]"
     ]
    },
    {
     "name": "stderr",
     "output_type": "stream",
     "text": [
      "\r",
      "sample time step:   8%|▊         | 8/100 [00:03<00:41,  2.22it/s]"
     ]
    },
    {
     "name": "stderr",
     "output_type": "stream",
     "text": [
      "\r",
      "sample time step:   9%|▉         | 9/100 [00:04<00:39,  2.30it/s]"
     ]
    },
    {
     "name": "stderr",
     "output_type": "stream",
     "text": [
      "\r",
      "sample time step:  10%|█         | 10/100 [00:04<00:37,  2.38it/s]"
     ]
    },
    {
     "name": "stderr",
     "output_type": "stream",
     "text": [
      "\r",
      "sample time step:  11%|█         | 11/100 [00:04<00:36,  2.43it/s]"
     ]
    },
    {
     "name": "stderr",
     "output_type": "stream",
     "text": [
      "\r",
      "sample time step:  12%|█▏        | 12/100 [00:05<00:35,  2.46it/s]"
     ]
    },
    {
     "name": "stderr",
     "output_type": "stream",
     "text": [
      "\r",
      "sample time step:  13%|█▎        | 13/100 [00:05<00:35,  2.48it/s]"
     ]
    },
    {
     "name": "stderr",
     "output_type": "stream",
     "text": [
      "\r",
      "sample time step:  14%|█▍        | 14/100 [00:06<00:34,  2.49it/s]"
     ]
    },
    {
     "name": "stderr",
     "output_type": "stream",
     "text": [
      "\r",
      "sample time step:  15%|█▌        | 15/100 [00:06<00:35,  2.42it/s]"
     ]
    },
    {
     "name": "stderr",
     "output_type": "stream",
     "text": [
      "\r",
      "sample time step:  16%|█▌        | 16/100 [00:06<00:35,  2.39it/s]"
     ]
    },
    {
     "name": "stderr",
     "output_type": "stream",
     "text": [
      "\r",
      "sample time step:  17%|█▋        | 17/100 [00:07<00:36,  2.29it/s]"
     ]
    },
    {
     "name": "stderr",
     "output_type": "stream",
     "text": [
      "\r",
      "sample time step:  18%|█▊        | 18/100 [00:07<00:36,  2.26it/s]"
     ]
    },
    {
     "name": "stderr",
     "output_type": "stream",
     "text": [
      "\r",
      "sample time step:  19%|█▉        | 19/100 [00:08<00:36,  2.23it/s]"
     ]
    },
    {
     "name": "stderr",
     "output_type": "stream",
     "text": [
      "\r",
      "sample time step:  20%|██        | 20/100 [00:08<00:36,  2.18it/s]"
     ]
    },
    {
     "name": "stderr",
     "output_type": "stream",
     "text": [
      "\r",
      "sample time step:  21%|██        | 21/100 [00:09<00:36,  2.16it/s]"
     ]
    },
    {
     "name": "stderr",
     "output_type": "stream",
     "text": [
      "\r",
      "sample time step:  22%|██▏       | 22/100 [00:09<00:35,  2.17it/s]"
     ]
    },
    {
     "name": "stderr",
     "output_type": "stream",
     "text": [
      "\r",
      "sample time step:  23%|██▎       | 23/100 [00:10<00:34,  2.22it/s]"
     ]
    },
    {
     "name": "stderr",
     "output_type": "stream",
     "text": [
      "\r",
      "sample time step:  24%|██▍       | 24/100 [00:10<00:34,  2.22it/s]"
     ]
    },
    {
     "name": "stderr",
     "output_type": "stream",
     "text": [
      "\r",
      "sample time step:  25%|██▌       | 25/100 [00:11<00:33,  2.27it/s]"
     ]
    },
    {
     "name": "stderr",
     "output_type": "stream",
     "text": [
      "\r",
      "sample time step:  26%|██▌       | 26/100 [00:11<00:31,  2.33it/s]"
     ]
    },
    {
     "name": "stderr",
     "output_type": "stream",
     "text": [
      "\r",
      "sample time step:  27%|██▋       | 27/100 [00:11<00:32,  2.25it/s]"
     ]
    },
    {
     "name": "stderr",
     "output_type": "stream",
     "text": [
      "\r",
      "sample time step:  28%|██▊       | 28/100 [00:12<00:30,  2.33it/s]"
     ]
    },
    {
     "name": "stderr",
     "output_type": "stream",
     "text": [
      "\r",
      "sample time step:  29%|██▉       | 29/100 [00:12<00:29,  2.38it/s]"
     ]
    },
    {
     "name": "stderr",
     "output_type": "stream",
     "text": [
      "\r",
      "sample time step:  30%|███       | 30/100 [00:13<00:29,  2.39it/s]"
     ]
    },
    {
     "name": "stderr",
     "output_type": "stream",
     "text": [
      "\r",
      "sample time step:  31%|███       | 31/100 [00:13<00:29,  2.34it/s]"
     ]
    },
    {
     "name": "stderr",
     "output_type": "stream",
     "text": [
      "\r",
      "sample time step:  32%|███▏      | 32/100 [00:14<00:30,  2.23it/s]"
     ]
    },
    {
     "name": "stderr",
     "output_type": "stream",
     "text": [
      "\r",
      "sample time step:  33%|███▎      | 33/100 [00:14<00:29,  2.29it/s]"
     ]
    },
    {
     "name": "stderr",
     "output_type": "stream",
     "text": [
      "\r",
      "sample time step:  34%|███▍      | 34/100 [00:14<00:29,  2.26it/s]"
     ]
    },
    {
     "name": "stderr",
     "output_type": "stream",
     "text": [
      "\r",
      "sample time step:  35%|███▌      | 35/100 [00:15<00:29,  2.24it/s]"
     ]
    },
    {
     "name": "stderr",
     "output_type": "stream",
     "text": [
      "\r",
      "sample time step:  36%|███▌      | 36/100 [00:15<00:27,  2.33it/s]"
     ]
    },
    {
     "name": "stderr",
     "output_type": "stream",
     "text": [
      "\r",
      "sample time step:  37%|███▋      | 37/100 [00:16<00:27,  2.28it/s]"
     ]
    },
    {
     "name": "stderr",
     "output_type": "stream",
     "text": [
      "\r",
      "sample time step:  38%|███▊      | 38/100 [00:16<00:27,  2.22it/s]"
     ]
    },
    {
     "name": "stderr",
     "output_type": "stream",
     "text": [
      "\r",
      "sample time step:  39%|███▉      | 39/100 [00:17<00:27,  2.21it/s]"
     ]
    },
    {
     "name": "stderr",
     "output_type": "stream",
     "text": [
      "\r",
      "sample time step:  40%|████      | 40/100 [00:17<00:26,  2.26it/s]"
     ]
    },
    {
     "name": "stderr",
     "output_type": "stream",
     "text": [
      "\r",
      "sample time step:  41%|████      | 41/100 [00:18<00:26,  2.25it/s]"
     ]
    },
    {
     "name": "stderr",
     "output_type": "stream",
     "text": [
      "\r",
      "sample time step:  42%|████▏     | 42/100 [00:18<00:25,  2.30it/s]"
     ]
    },
    {
     "name": "stderr",
     "output_type": "stream",
     "text": [
      "\r",
      "sample time step:  43%|████▎     | 43/100 [00:18<00:24,  2.35it/s]"
     ]
    },
    {
     "name": "stderr",
     "output_type": "stream",
     "text": [
      "\r",
      "sample time step:  44%|████▍     | 44/100 [00:19<00:23,  2.34it/s]"
     ]
    },
    {
     "name": "stderr",
     "output_type": "stream",
     "text": [
      "\r",
      "sample time step:  45%|████▌     | 45/100 [00:19<00:23,  2.33it/s]"
     ]
    },
    {
     "name": "stderr",
     "output_type": "stream",
     "text": [
      "\r",
      "sample time step:  46%|████▌     | 46/100 [00:20<00:23,  2.29it/s]"
     ]
    },
    {
     "name": "stderr",
     "output_type": "stream",
     "text": [
      "\r",
      "sample time step:  47%|████▋     | 47/100 [00:20<00:23,  2.25it/s]"
     ]
    },
    {
     "name": "stderr",
     "output_type": "stream",
     "text": [
      "\r",
      "sample time step:  48%|████▊     | 48/100 [00:21<00:22,  2.28it/s]"
     ]
    },
    {
     "name": "stderr",
     "output_type": "stream",
     "text": [
      "\r",
      "sample time step:  49%|████▉     | 49/100 [00:21<00:22,  2.25it/s]"
     ]
    },
    {
     "name": "stderr",
     "output_type": "stream",
     "text": [
      "\r",
      "sample time step:  50%|█████     | 50/100 [00:22<00:22,  2.22it/s]"
     ]
    },
    {
     "name": "stderr",
     "output_type": "stream",
     "text": [
      "\r",
      "sample time step:  51%|█████     | 51/100 [00:22<00:21,  2.27it/s]"
     ]
    },
    {
     "name": "stderr",
     "output_type": "stream",
     "text": [
      "\r",
      "sample time step:  52%|█████▏    | 52/100 [00:22<00:20,  2.36it/s]"
     ]
    },
    {
     "name": "stderr",
     "output_type": "stream",
     "text": [
      "\r",
      "sample time step:  53%|█████▎    | 53/100 [00:23<00:19,  2.40it/s]"
     ]
    },
    {
     "name": "stderr",
     "output_type": "stream",
     "text": [
      "\r",
      "sample time step:  54%|█████▍    | 54/100 [00:23<00:19,  2.38it/s]"
     ]
    },
    {
     "name": "stderr",
     "output_type": "stream",
     "text": [
      "\r",
      "sample time step:  55%|█████▌    | 55/100 [00:24<00:19,  2.29it/s]"
     ]
    },
    {
     "name": "stderr",
     "output_type": "stream",
     "text": [
      "\r",
      "sample time step:  56%|█████▌    | 56/100 [00:24<00:19,  2.22it/s]"
     ]
    },
    {
     "name": "stderr",
     "output_type": "stream",
     "text": [
      "\r",
      "sample time step:  57%|█████▋    | 57/100 [00:24<00:18,  2.29it/s]"
     ]
    },
    {
     "name": "stderr",
     "output_type": "stream",
     "text": [
      "\r",
      "sample time step:  58%|█████▊    | 58/100 [00:25<00:18,  2.26it/s]"
     ]
    },
    {
     "name": "stderr",
     "output_type": "stream",
     "text": [
      "\r",
      "sample time step:  59%|█████▉    | 59/100 [00:25<00:18,  2.23it/s]"
     ]
    },
    {
     "name": "stderr",
     "output_type": "stream",
     "text": [
      "\r",
      "sample time step:  60%|██████    | 60/100 [00:26<00:18,  2.22it/s]"
     ]
    },
    {
     "name": "stderr",
     "output_type": "stream",
     "text": [
      "\r",
      "sample time step:  61%|██████    | 61/100 [00:26<00:17,  2.21it/s]"
     ]
    },
    {
     "name": "stderr",
     "output_type": "stream",
     "text": [
      "\r",
      "sample time step:  62%|██████▏   | 62/100 [00:27<00:17,  2.19it/s]"
     ]
    },
    {
     "name": "stderr",
     "output_type": "stream",
     "text": [
      "\r",
      "sample time step:  63%|██████▎   | 63/100 [00:27<00:16,  2.22it/s]"
     ]
    },
    {
     "name": "stderr",
     "output_type": "stream",
     "text": [
      "\r",
      "sample time step:  64%|██████▍   | 64/100 [00:28<00:16,  2.25it/s]"
     ]
    },
    {
     "name": "stderr",
     "output_type": "stream",
     "text": [
      "\r",
      "sample time step:  65%|██████▌   | 65/100 [00:28<00:15,  2.23it/s]"
     ]
    },
    {
     "name": "stderr",
     "output_type": "stream",
     "text": [
      "\r",
      "sample time step:  66%|██████▌   | 66/100 [00:29<00:15,  2.26it/s]"
     ]
    },
    {
     "name": "stderr",
     "output_type": "stream",
     "text": [
      "\r",
      "sample time step:  67%|██████▋   | 67/100 [00:29<00:14,  2.35it/s]"
     ]
    },
    {
     "name": "stderr",
     "output_type": "stream",
     "text": [
      "\r",
      "sample time step:  68%|██████▊   | 68/100 [00:29<00:13,  2.40it/s]"
     ]
    },
    {
     "name": "stderr",
     "output_type": "stream",
     "text": [
      "\r",
      "sample time step:  69%|██████▉   | 69/100 [00:30<00:13,  2.33it/s]"
     ]
    },
    {
     "name": "stderr",
     "output_type": "stream",
     "text": [
      "\r",
      "sample time step:  70%|███████   | 70/100 [00:30<00:13,  2.28it/s]"
     ]
    },
    {
     "name": "stderr",
     "output_type": "stream",
     "text": [
      "\r",
      "sample time step:  71%|███████   | 71/100 [00:31<00:12,  2.23it/s]"
     ]
    },
    {
     "name": "stderr",
     "output_type": "stream",
     "text": [
      "\r",
      "sample time step:  72%|███████▏  | 72/100 [00:31<00:12,  2.16it/s]"
     ]
    },
    {
     "name": "stderr",
     "output_type": "stream",
     "text": [
      "\r",
      "sample time step:  73%|███████▎  | 73/100 [00:32<00:12,  2.17it/s]"
     ]
    },
    {
     "name": "stderr",
     "output_type": "stream",
     "text": [
      "\r",
      "sample time step:  74%|███████▍  | 74/100 [00:32<00:11,  2.23it/s]"
     ]
    },
    {
     "name": "stderr",
     "output_type": "stream",
     "text": [
      "\r",
      "sample time step:  75%|███████▌  | 75/100 [00:33<00:11,  2.20it/s]"
     ]
    },
    {
     "name": "stderr",
     "output_type": "stream",
     "text": [
      "\r",
      "sample time step:  76%|███████▌  | 76/100 [00:33<00:10,  2.19it/s]"
     ]
    },
    {
     "name": "stderr",
     "output_type": "stream",
     "text": [
      "\r",
      "sample time step:  77%|███████▋  | 77/100 [00:33<00:10,  2.25it/s]"
     ]
    },
    {
     "name": "stderr",
     "output_type": "stream",
     "text": [
      "\r",
      "sample time step:  78%|███████▊  | 78/100 [00:34<00:09,  2.26it/s]"
     ]
    },
    {
     "name": "stderr",
     "output_type": "stream",
     "text": [
      "\r",
      "sample time step:  79%|███████▉  | 79/100 [00:34<00:09,  2.28it/s]"
     ]
    },
    {
     "name": "stderr",
     "output_type": "stream",
     "text": [
      "\r",
      "sample time step:  80%|████████  | 80/100 [00:35<00:08,  2.24it/s]"
     ]
    },
    {
     "name": "stderr",
     "output_type": "stream",
     "text": [
      "\r",
      "sample time step:  81%|████████  | 81/100 [00:35<00:08,  2.29it/s]"
     ]
    },
    {
     "name": "stderr",
     "output_type": "stream",
     "text": [
      "\r",
      "sample time step:  82%|████████▏ | 82/100 [00:36<00:07,  2.34it/s]"
     ]
    },
    {
     "name": "stderr",
     "output_type": "stream",
     "text": [
      "\r",
      "sample time step:  83%|████████▎ | 83/100 [00:36<00:07,  2.41it/s]"
     ]
    },
    {
     "name": "stderr",
     "output_type": "stream",
     "text": [
      "\r",
      "sample time step:  84%|████████▍ | 84/100 [00:36<00:06,  2.44it/s]"
     ]
    },
    {
     "name": "stderr",
     "output_type": "stream",
     "text": [
      "\r",
      "sample time step:  85%|████████▌ | 85/100 [00:37<00:06,  2.48it/s]"
     ]
    },
    {
     "name": "stderr",
     "output_type": "stream",
     "text": [
      "\r",
      "sample time step:  86%|████████▌ | 86/100 [00:37<00:05,  2.51it/s]"
     ]
    },
    {
     "name": "stderr",
     "output_type": "stream",
     "text": [
      "\r",
      "sample time step:  87%|████████▋ | 87/100 [00:38<00:05,  2.51it/s]"
     ]
    },
    {
     "name": "stderr",
     "output_type": "stream",
     "text": [
      "\r",
      "sample time step:  88%|████████▊ | 88/100 [00:38<00:04,  2.54it/s]"
     ]
    },
    {
     "name": "stderr",
     "output_type": "stream",
     "text": [
      "\r",
      "sample time step:  89%|████████▉ | 89/100 [00:38<00:04,  2.46it/s]"
     ]
    },
    {
     "name": "stderr",
     "output_type": "stream",
     "text": [
      "\r",
      "sample time step:  90%|█████████ | 90/100 [00:39<00:04,  2.34it/s]"
     ]
    },
    {
     "name": "stderr",
     "output_type": "stream",
     "text": [
      "\r",
      "sample time step:  91%|█████████ | 91/100 [00:39<00:03,  2.27it/s]"
     ]
    },
    {
     "name": "stderr",
     "output_type": "stream",
     "text": [
      "\r",
      "sample time step:  92%|█████████▏| 92/100 [00:40<00:03,  2.24it/s]"
     ]
    },
    {
     "name": "stderr",
     "output_type": "stream",
     "text": [
      "\r",
      "sample time step:  93%|█████████▎| 93/100 [00:40<00:03,  2.22it/s]"
     ]
    },
    {
     "name": "stderr",
     "output_type": "stream",
     "text": [
      "\r",
      "sample time step:  94%|█████████▍| 94/100 [00:41<00:02,  2.19it/s]"
     ]
    },
    {
     "name": "stderr",
     "output_type": "stream",
     "text": [
      "\r",
      "sample time step:  95%|█████████▌| 95/100 [00:41<00:02,  2.20it/s]"
     ]
    },
    {
     "name": "stderr",
     "output_type": "stream",
     "text": [
      "\r",
      "sample time step:  96%|█████████▌| 96/100 [00:42<00:01,  2.20it/s]"
     ]
    },
    {
     "name": "stderr",
     "output_type": "stream",
     "text": [
      "\r",
      "sample time step:  97%|█████████▋| 97/100 [00:42<00:01,  2.24it/s]"
     ]
    },
    {
     "name": "stderr",
     "output_type": "stream",
     "text": [
      "\r",
      "sample time step:  98%|█████████▊| 98/100 [00:42<00:00,  2.32it/s]"
     ]
    },
    {
     "name": "stderr",
     "output_type": "stream",
     "text": [
      "\r",
      "sample time step:  99%|█████████▉| 99/100 [00:43<00:00,  2.38it/s]"
     ]
    },
    {
     "name": "stderr",
     "output_type": "stream",
     "text": [
      "\r",
      "sample time step: 100%|██████████| 100/100 [00:43<00:00,  2.44it/s]"
     ]
    },
    {
     "name": "stderr",
     "output_type": "stream",
     "text": [
      "\r",
      "sample time step: 100%|██████████| 100/100 [00:43<00:00,  2.29it/s]"
     ]
    },
    {
     "name": "stderr",
     "output_type": "stream",
     "text": [
      "\n"
     ]
    },
    {
     "name": "stdout",
     "output_type": "stream",
     "text": [
      "✅ Generated: zh_9.wav\n"
     ]
    },
    {
     "name": "stdout",
     "output_type": "stream",
     "text": [
      "Pass word-notes check.\n",
      "273 273 273\n",
      "Pass word-notes check.\n"
     ]
    },
    {
     "name": "stdout",
     "output_type": "stream",
     "text": [
      "===> gaussion start.\n"
     ]
    },
    {
     "name": "stderr",
     "output_type": "stream",
     "text": [
      "\r",
      "sample time step:   0%|          | 0/100 [00:00<?, ?it/s]"
     ]
    },
    {
     "name": "stderr",
     "output_type": "stream",
     "text": [
      "\r",
      "sample time step:   1%|          | 1/100 [00:00<00:35,  2.78it/s]"
     ]
    },
    {
     "name": "stderr",
     "output_type": "stream",
     "text": [
      "\r",
      "sample time step:   2%|▏         | 2/100 [00:00<00:35,  2.74it/s]"
     ]
    },
    {
     "name": "stderr",
     "output_type": "stream",
     "text": [
      "\r",
      "sample time step:   3%|▎         | 3/100 [00:01<00:33,  2.88it/s]"
     ]
    },
    {
     "name": "stderr",
     "output_type": "stream",
     "text": [
      "\r",
      "sample time step:   4%|▍         | 4/100 [00:01<00:33,  2.88it/s]"
     ]
    },
    {
     "name": "stderr",
     "output_type": "stream",
     "text": [
      "\r",
      "sample time step:   5%|▌         | 5/100 [00:01<00:31,  2.98it/s]"
     ]
    },
    {
     "name": "stderr",
     "output_type": "stream",
     "text": [
      "\r",
      "sample time step:   6%|▌         | 6/100 [00:02<00:32,  2.87it/s]"
     ]
    },
    {
     "name": "stderr",
     "output_type": "stream",
     "text": [
      "\r",
      "sample time step:   7%|▋         | 7/100 [00:02<00:32,  2.85it/s]"
     ]
    },
    {
     "name": "stderr",
     "output_type": "stream",
     "text": [
      "\r",
      "sample time step:   8%|▊         | 8/100 [00:02<00:33,  2.72it/s]"
     ]
    },
    {
     "name": "stderr",
     "output_type": "stream",
     "text": [
      "\r",
      "sample time step:   9%|▉         | 9/100 [00:03<00:34,  2.65it/s]"
     ]
    },
    {
     "name": "stderr",
     "output_type": "stream",
     "text": [
      "\r",
      "sample time step:  10%|█         | 10/100 [00:03<00:34,  2.64it/s]"
     ]
    },
    {
     "name": "stderr",
     "output_type": "stream",
     "text": [
      "\r",
      "sample time step:  11%|█         | 11/100 [00:03<00:33,  2.68it/s]"
     ]
    },
    {
     "name": "stderr",
     "output_type": "stream",
     "text": [
      "\r",
      "sample time step:  12%|█▏        | 12/100 [00:04<00:33,  2.66it/s]"
     ]
    },
    {
     "name": "stderr",
     "output_type": "stream",
     "text": [
      "\r",
      "sample time step:  13%|█▎        | 13/100 [00:04<00:33,  2.62it/s]"
     ]
    },
    {
     "name": "stderr",
     "output_type": "stream",
     "text": [
      "\r",
      "sample time step:  14%|█▍        | 14/100 [00:05<00:33,  2.57it/s]"
     ]
    },
    {
     "name": "stderr",
     "output_type": "stream",
     "text": [
      "\r",
      "sample time step:  15%|█▌        | 15/100 [00:05<00:32,  2.59it/s]"
     ]
    },
    {
     "name": "stderr",
     "output_type": "stream",
     "text": [
      "\r",
      "sample time step:  16%|█▌        | 16/100 [00:05<00:31,  2.65it/s]"
     ]
    },
    {
     "name": "stderr",
     "output_type": "stream",
     "text": [
      "\r",
      "sample time step:  17%|█▋        | 17/100 [00:06<00:31,  2.64it/s]"
     ]
    },
    {
     "name": "stderr",
     "output_type": "stream",
     "text": [
      "\r",
      "sample time step:  18%|█▊        | 18/100 [00:06<00:31,  2.64it/s]"
     ]
    },
    {
     "name": "stderr",
     "output_type": "stream",
     "text": [
      "\r",
      "sample time step:  19%|█▉        | 19/100 [00:06<00:29,  2.76it/s]"
     ]
    },
    {
     "name": "stderr",
     "output_type": "stream",
     "text": [
      "\r",
      "sample time step:  20%|██        | 20/100 [00:07<00:28,  2.85it/s]"
     ]
    },
    {
     "name": "stderr",
     "output_type": "stream",
     "text": [
      "\r",
      "sample time step:  21%|██        | 21/100 [00:07<00:27,  2.83it/s]"
     ]
    },
    {
     "name": "stderr",
     "output_type": "stream",
     "text": [
      "\r",
      "sample time step:  22%|██▏       | 22/100 [00:07<00:26,  2.92it/s]"
     ]
    },
    {
     "name": "stderr",
     "output_type": "stream",
     "text": [
      "\r",
      "sample time step:  23%|██▎       | 23/100 [00:08<00:25,  2.98it/s]"
     ]
    },
    {
     "name": "stderr",
     "output_type": "stream",
     "text": [
      "\r",
      "sample time step:  24%|██▍       | 24/100 [00:08<00:25,  3.01it/s]"
     ]
    },
    {
     "name": "stderr",
     "output_type": "stream",
     "text": [
      "\r",
      "sample time step:  25%|██▌       | 25/100 [00:09<00:25,  2.90it/s]"
     ]
    },
    {
     "name": "stderr",
     "output_type": "stream",
     "text": [
      "\r",
      "sample time step:  26%|██▌       | 26/100 [00:09<00:25,  2.90it/s]"
     ]
    },
    {
     "name": "stderr",
     "output_type": "stream",
     "text": [
      "\r",
      "sample time step:  27%|██▋       | 27/100 [00:09<00:25,  2.87it/s]"
     ]
    },
    {
     "name": "stderr",
     "output_type": "stream",
     "text": [
      "\r",
      "sample time step:  28%|██▊       | 28/100 [00:10<00:25,  2.79it/s]"
     ]
    },
    {
     "name": "stderr",
     "output_type": "stream",
     "text": [
      "\r",
      "sample time step:  29%|██▉       | 29/100 [00:10<00:26,  2.70it/s]"
     ]
    },
    {
     "name": "stderr",
     "output_type": "stream",
     "text": [
      "\r",
      "sample time step:  30%|███       | 30/100 [00:10<00:26,  2.68it/s]"
     ]
    },
    {
     "name": "stderr",
     "output_type": "stream",
     "text": [
      "\r",
      "sample time step:  31%|███       | 31/100 [00:11<00:24,  2.80it/s]"
     ]
    },
    {
     "name": "stderr",
     "output_type": "stream",
     "text": [
      "\r",
      "sample time step:  32%|███▏      | 32/100 [00:11<00:24,  2.78it/s]"
     ]
    },
    {
     "name": "stderr",
     "output_type": "stream",
     "text": [
      "\r",
      "sample time step:  33%|███▎      | 33/100 [00:11<00:24,  2.73it/s]"
     ]
    },
    {
     "name": "stderr",
     "output_type": "stream",
     "text": [
      "\r",
      "sample time step:  34%|███▍      | 34/100 [00:12<00:23,  2.79it/s]"
     ]
    },
    {
     "name": "stderr",
     "output_type": "stream",
     "text": [
      "\r",
      "sample time step:  35%|███▌      | 35/100 [00:12<00:23,  2.71it/s]"
     ]
    },
    {
     "name": "stderr",
     "output_type": "stream",
     "text": [
      "\r",
      "sample time step:  36%|███▌      | 36/100 [00:13<00:23,  2.68it/s]"
     ]
    },
    {
     "name": "stderr",
     "output_type": "stream",
     "text": [
      "\r",
      "sample time step:  37%|███▋      | 37/100 [00:13<00:22,  2.77it/s]"
     ]
    },
    {
     "name": "stderr",
     "output_type": "stream",
     "text": [
      "\r",
      "sample time step:  38%|███▊      | 38/100 [00:13<00:21,  2.82it/s]"
     ]
    },
    {
     "name": "stderr",
     "output_type": "stream",
     "text": [
      "\r",
      "sample time step:  39%|███▉      | 39/100 [00:14<00:20,  2.92it/s]"
     ]
    },
    {
     "name": "stderr",
     "output_type": "stream",
     "text": [
      "\r",
      "sample time step:  40%|████      | 40/100 [00:14<00:20,  2.98it/s]"
     ]
    },
    {
     "name": "stderr",
     "output_type": "stream",
     "text": [
      "\r",
      "sample time step:  41%|████      | 41/100 [00:14<00:19,  3.03it/s]"
     ]
    },
    {
     "name": "stderr",
     "output_type": "stream",
     "text": [
      "\r",
      "sample time step:  42%|████▏     | 42/100 [00:15<00:19,  3.02it/s]"
     ]
    },
    {
     "name": "stderr",
     "output_type": "stream",
     "text": [
      "\r",
      "sample time step:  43%|████▎     | 43/100 [00:15<00:18,  3.06it/s]"
     ]
    },
    {
     "name": "stderr",
     "output_type": "stream",
     "text": [
      "\r",
      "sample time step:  44%|████▍     | 44/100 [00:15<00:18,  2.96it/s]"
     ]
    },
    {
     "name": "stderr",
     "output_type": "stream",
     "text": [
      "\r",
      "sample time step:  45%|████▌     | 45/100 [00:16<00:19,  2.87it/s]"
     ]
    },
    {
     "name": "stderr",
     "output_type": "stream",
     "text": [
      "\r",
      "sample time step:  46%|████▌     | 46/100 [00:16<00:18,  2.89it/s]"
     ]
    },
    {
     "name": "stderr",
     "output_type": "stream",
     "text": [
      "\r",
      "sample time step:  47%|████▋     | 47/100 [00:16<00:18,  2.85it/s]"
     ]
    },
    {
     "name": "stderr",
     "output_type": "stream",
     "text": [
      "\r",
      "sample time step:  48%|████▊     | 48/100 [00:17<00:18,  2.82it/s]"
     ]
    },
    {
     "name": "stderr",
     "output_type": "stream",
     "text": [
      "\r",
      "sample time step:  49%|████▉     | 49/100 [00:17<00:18,  2.79it/s]"
     ]
    },
    {
     "name": "stderr",
     "output_type": "stream",
     "text": [
      "\r",
      "sample time step:  50%|█████     | 50/100 [00:17<00:18,  2.70it/s]"
     ]
    },
    {
     "name": "stderr",
     "output_type": "stream",
     "text": [
      "\r",
      "sample time step:  51%|█████     | 51/100 [00:18<00:18,  2.63it/s]"
     ]
    },
    {
     "name": "stderr",
     "output_type": "stream",
     "text": [
      "\r",
      "sample time step:  52%|█████▏    | 52/100 [00:18<00:17,  2.74it/s]"
     ]
    },
    {
     "name": "stderr",
     "output_type": "stream",
     "text": [
      "\r",
      "sample time step:  53%|█████▎    | 53/100 [00:19<00:17,  2.69it/s]"
     ]
    },
    {
     "name": "stderr",
     "output_type": "stream",
     "text": [
      "\r",
      "sample time step:  54%|█████▍    | 54/100 [00:19<00:17,  2.67it/s]"
     ]
    },
    {
     "name": "stderr",
     "output_type": "stream",
     "text": [
      "\r",
      "sample time step:  55%|█████▌    | 55/100 [00:19<00:16,  2.71it/s]"
     ]
    },
    {
     "name": "stderr",
     "output_type": "stream",
     "text": [
      "\r",
      "sample time step:  56%|█████▌    | 56/100 [00:20<00:15,  2.83it/s]"
     ]
    },
    {
     "name": "stderr",
     "output_type": "stream",
     "text": [
      "\r",
      "sample time step:  57%|█████▋    | 57/100 [00:20<00:14,  2.88it/s]"
     ]
    },
    {
     "name": "stderr",
     "output_type": "stream",
     "text": [
      "\r",
      "sample time step:  58%|█████▊    | 58/100 [00:20<00:14,  2.95it/s]"
     ]
    },
    {
     "name": "stderr",
     "output_type": "stream",
     "text": [
      "\r",
      "sample time step:  59%|█████▉    | 59/100 [00:21<00:13,  2.99it/s]"
     ]
    },
    {
     "name": "stderr",
     "output_type": "stream",
     "text": [
      "\r",
      "sample time step:  60%|██████    | 60/100 [00:21<00:13,  3.03it/s]"
     ]
    },
    {
     "name": "stderr",
     "output_type": "stream",
     "text": [
      "\r",
      "sample time step:  61%|██████    | 61/100 [00:21<00:12,  3.06it/s]"
     ]
    },
    {
     "name": "stderr",
     "output_type": "stream",
     "text": [
      "\r",
      "sample time step:  62%|██████▏   | 62/100 [00:22<00:12,  3.07it/s]"
     ]
    },
    {
     "name": "stderr",
     "output_type": "stream",
     "text": [
      "\r",
      "sample time step:  63%|██████▎   | 63/100 [00:22<00:12,  3.04it/s]"
     ]
    },
    {
     "name": "stderr",
     "output_type": "stream",
     "text": [
      "\r",
      "sample time step:  64%|██████▍   | 64/100 [00:22<00:12,  2.92it/s]"
     ]
    },
    {
     "name": "stderr",
     "output_type": "stream",
     "text": [
      "\r",
      "sample time step:  65%|██████▌   | 65/100 [00:23<00:11,  2.96it/s]"
     ]
    },
    {
     "name": "stderr",
     "output_type": "stream",
     "text": [
      "\r",
      "sample time step:  66%|██████▌   | 66/100 [00:23<00:11,  2.89it/s]"
     ]
    },
    {
     "name": "stderr",
     "output_type": "stream",
     "text": [
      "\r",
      "sample time step:  67%|██████▋   | 67/100 [00:23<00:11,  2.89it/s]"
     ]
    },
    {
     "name": "stderr",
     "output_type": "stream",
     "text": [
      "\r",
      "sample time step:  68%|██████▊   | 68/100 [00:24<00:11,  2.83it/s]"
     ]
    },
    {
     "name": "stderr",
     "output_type": "stream",
     "text": [
      "\r",
      "sample time step:  69%|██████▉   | 69/100 [00:24<00:10,  2.89it/s]"
     ]
    },
    {
     "name": "stderr",
     "output_type": "stream",
     "text": [
      "\r",
      "sample time step:  70%|███████   | 70/100 [00:24<00:10,  2.95it/s]"
     ]
    },
    {
     "name": "stderr",
     "output_type": "stream",
     "text": [
      "\r",
      "sample time step:  71%|███████   | 71/100 [00:25<00:10,  2.88it/s]"
     ]
    },
    {
     "name": "stderr",
     "output_type": "stream",
     "text": [
      "\r",
      "sample time step:  72%|███████▏  | 72/100 [00:25<00:10,  2.77it/s]"
     ]
    },
    {
     "name": "stderr",
     "output_type": "stream",
     "text": [
      "\r",
      "sample time step:  73%|███████▎  | 73/100 [00:25<00:10,  2.66it/s]"
     ]
    },
    {
     "name": "stderr",
     "output_type": "stream",
     "text": [
      "\r",
      "sample time step:  74%|███████▍  | 74/100 [00:26<00:09,  2.66it/s]"
     ]
    },
    {
     "name": "stderr",
     "output_type": "stream",
     "text": [
      "\r",
      "sample time step:  75%|███████▌  | 75/100 [00:26<00:09,  2.64it/s]"
     ]
    },
    {
     "name": "stderr",
     "output_type": "stream",
     "text": [
      "\r",
      "sample time step:  76%|███████▌  | 76/100 [00:27<00:09,  2.63it/s]"
     ]
    },
    {
     "name": "stderr",
     "output_type": "stream",
     "text": [
      "\r",
      "sample time step:  77%|███████▋  | 77/100 [00:27<00:08,  2.73it/s]"
     ]
    },
    {
     "name": "stderr",
     "output_type": "stream",
     "text": [
      "\r",
      "sample time step:  78%|███████▊  | 78/100 [00:27<00:07,  2.85it/s]"
     ]
    },
    {
     "name": "stderr",
     "output_type": "stream",
     "text": [
      "\r",
      "sample time step:  79%|███████▉  | 79/100 [00:28<00:07,  2.92it/s]"
     ]
    },
    {
     "name": "stderr",
     "output_type": "stream",
     "text": [
      "\r",
      "sample time step:  80%|████████  | 80/100 [00:28<00:07,  2.82it/s]"
     ]
    },
    {
     "name": "stderr",
     "output_type": "stream",
     "text": [
      "\r",
      "sample time step:  81%|████████  | 81/100 [00:28<00:06,  2.76it/s]"
     ]
    },
    {
     "name": "stderr",
     "output_type": "stream",
     "text": [
      "\r",
      "sample time step:  82%|████████▏ | 82/100 [00:29<00:06,  2.70it/s]"
     ]
    },
    {
     "name": "stderr",
     "output_type": "stream",
     "text": [
      "\r",
      "sample time step:  83%|████████▎ | 83/100 [00:29<00:06,  2.65it/s]"
     ]
    },
    {
     "name": "stderr",
     "output_type": "stream",
     "text": [
      "\r",
      "sample time step:  84%|████████▍ | 84/100 [00:29<00:05,  2.68it/s]"
     ]
    },
    {
     "name": "stderr",
     "output_type": "stream",
     "text": [
      "\r",
      "sample time step:  85%|████████▌ | 85/100 [00:30<00:05,  2.68it/s]"
     ]
    },
    {
     "name": "stderr",
     "output_type": "stream",
     "text": [
      "\r",
      "sample time step:  86%|████████▌ | 86/100 [00:30<00:05,  2.68it/s]"
     ]
    },
    {
     "name": "stderr",
     "output_type": "stream",
     "text": [
      "\r",
      "sample time step:  87%|████████▋ | 87/100 [00:31<00:04,  2.69it/s]"
     ]
    },
    {
     "name": "stderr",
     "output_type": "stream",
     "text": [
      "\r",
      "sample time step:  88%|████████▊ | 88/100 [00:31<00:04,  2.69it/s]"
     ]
    },
    {
     "name": "stderr",
     "output_type": "stream",
     "text": [
      "\r",
      "sample time step:  89%|████████▉ | 89/100 [00:31<00:03,  2.77it/s]"
     ]
    },
    {
     "name": "stderr",
     "output_type": "stream",
     "text": [
      "\r",
      "sample time step:  90%|█████████ | 90/100 [00:32<00:03,  2.75it/s]"
     ]
    },
    {
     "name": "stderr",
     "output_type": "stream",
     "text": [
      "\r",
      "sample time step:  91%|█████████ | 91/100 [00:32<00:03,  2.69it/s]"
     ]
    },
    {
     "name": "stderr",
     "output_type": "stream",
     "text": [
      "\r",
      "sample time step:  92%|█████████▏| 92/100 [00:32<00:02,  2.68it/s]"
     ]
    },
    {
     "name": "stderr",
     "output_type": "stream",
     "text": [
      "\r",
      "sample time step:  93%|█████████▎| 93/100 [00:33<00:02,  2.67it/s]"
     ]
    },
    {
     "name": "stderr",
     "output_type": "stream",
     "text": [
      "\r",
      "sample time step:  94%|█████████▍| 94/100 [00:33<00:02,  2.76it/s]"
     ]
    },
    {
     "name": "stderr",
     "output_type": "stream",
     "text": [
      "\r",
      "sample time step:  95%|█████████▌| 95/100 [00:34<00:01,  2.76it/s]"
     ]
    },
    {
     "name": "stderr",
     "output_type": "stream",
     "text": [
      "\r",
      "sample time step:  96%|█████████▌| 96/100 [00:34<00:01,  2.75it/s]"
     ]
    },
    {
     "name": "stderr",
     "output_type": "stream",
     "text": [
      "\r",
      "sample time step:  97%|█████████▋| 97/100 [00:34<00:01,  2.68it/s]"
     ]
    },
    {
     "name": "stderr",
     "output_type": "stream",
     "text": [
      "\r",
      "sample time step:  98%|█████████▊| 98/100 [00:35<00:00,  2.78it/s]"
     ]
    },
    {
     "name": "stderr",
     "output_type": "stream",
     "text": [
      "\r",
      "sample time step:  99%|█████████▉| 99/100 [00:35<00:00,  2.84it/s]"
     ]
    },
    {
     "name": "stderr",
     "output_type": "stream",
     "text": [
      "\r",
      "sample time step: 100%|██████████| 100/100 [00:35<00:00,  2.92it/s]"
     ]
    },
    {
     "name": "stderr",
     "output_type": "stream",
     "text": [
      "\r",
      "sample time step: 100%|██████████| 100/100 [00:35<00:00,  2.80it/s]"
     ]
    },
    {
     "name": "stderr",
     "output_type": "stream",
     "text": [
      "\n"
     ]
    },
    {
     "name": "stdout",
     "output_type": "stream",
     "text": [
      "✅ Generated: zh_19.wav\n"
     ]
    },
    {
     "name": "stdout",
     "output_type": "stream",
     "text": [
      "Pass word-notes check.\n",
      "232 232 232\n",
      "Pass word-notes check.\n"
     ]
    },
    {
     "name": "stdout",
     "output_type": "stream",
     "text": [
      "===> gaussion start.\n"
     ]
    },
    {
     "name": "stderr",
     "output_type": "stream",
     "text": [
      "\r",
      "sample time step:   0%|          | 0/100 [00:00<?, ?it/s]"
     ]
    },
    {
     "name": "stderr",
     "output_type": "stream",
     "text": [
      "\r",
      "sample time step:   1%|          | 1/100 [00:00<00:34,  2.86it/s]"
     ]
    },
    {
     "name": "stderr",
     "output_type": "stream",
     "text": [
      "\r",
      "sample time step:   2%|▏         | 2/100 [00:00<00:31,  3.12it/s]"
     ]
    },
    {
     "name": "stderr",
     "output_type": "stream",
     "text": [
      "\r",
      "sample time step:   3%|▎         | 3/100 [00:00<00:32,  3.00it/s]"
     ]
    },
    {
     "name": "stderr",
     "output_type": "stream",
     "text": [
      "\r",
      "sample time step:   4%|▍         | 4/100 [00:01<00:32,  3.00it/s]"
     ]
    },
    {
     "name": "stderr",
     "output_type": "stream",
     "text": [
      "\r",
      "sample time step:   5%|▌         | 5/100 [00:01<00:32,  2.94it/s]"
     ]
    },
    {
     "name": "stderr",
     "output_type": "stream",
     "text": [
      "\r",
      "sample time step:   6%|▌         | 6/100 [00:01<00:31,  3.02it/s]"
     ]
    },
    {
     "name": "stderr",
     "output_type": "stream",
     "text": [
      "\r",
      "sample time step:   7%|▋         | 7/100 [00:02<00:29,  3.10it/s]"
     ]
    },
    {
     "name": "stderr",
     "output_type": "stream",
     "text": [
      "\r",
      "sample time step:   8%|▊         | 8/100 [00:02<00:30,  3.05it/s]"
     ]
    },
    {
     "name": "stderr",
     "output_type": "stream",
     "text": [
      "\r",
      "sample time step:   9%|▉         | 9/100 [00:02<00:30,  3.03it/s]"
     ]
    },
    {
     "name": "stderr",
     "output_type": "stream",
     "text": [
      "\r",
      "sample time step:  10%|█         | 10/100 [00:03<00:29,  3.03it/s]"
     ]
    },
    {
     "name": "stderr",
     "output_type": "stream",
     "text": [
      "\r",
      "sample time step:  11%|█         | 11/100 [00:03<00:29,  3.00it/s]"
     ]
    },
    {
     "name": "stderr",
     "output_type": "stream",
     "text": [
      "\r",
      "sample time step:  12%|█▏        | 12/100 [00:03<00:29,  3.00it/s]"
     ]
    },
    {
     "name": "stderr",
     "output_type": "stream",
     "text": [
      "\r",
      "sample time step:  13%|█▎        | 13/100 [00:04<00:27,  3.12it/s]"
     ]
    },
    {
     "name": "stderr",
     "output_type": "stream",
     "text": [
      "\r",
      "sample time step:  14%|█▍        | 14/100 [00:04<00:27,  3.15it/s]"
     ]
    },
    {
     "name": "stderr",
     "output_type": "stream",
     "text": [
      "\r",
      "sample time step:  15%|█▌        | 15/100 [00:04<00:26,  3.26it/s]"
     ]
    },
    {
     "name": "stderr",
     "output_type": "stream",
     "text": [
      "\r",
      "sample time step:  16%|█▌        | 16/100 [00:05<00:25,  3.31it/s]"
     ]
    },
    {
     "name": "stderr",
     "output_type": "stream",
     "text": [
      "\r",
      "sample time step:  17%|█▋        | 17/100 [00:05<00:24,  3.37it/s]"
     ]
    },
    {
     "name": "stderr",
     "output_type": "stream",
     "text": [
      "\r",
      "sample time step:  18%|█▊        | 18/100 [00:05<00:24,  3.37it/s]"
     ]
    },
    {
     "name": "stderr",
     "output_type": "stream",
     "text": [
      "\r",
      "sample time step:  19%|█▉        | 19/100 [00:06<00:23,  3.39it/s]"
     ]
    },
    {
     "name": "stderr",
     "output_type": "stream",
     "text": [
      "\r",
      "sample time step:  20%|██        | 20/100 [00:06<00:23,  3.41it/s]"
     ]
    },
    {
     "name": "stderr",
     "output_type": "stream",
     "text": [
      "\r",
      "sample time step:  21%|██        | 21/100 [00:06<00:23,  3.41it/s]"
     ]
    },
    {
     "name": "stderr",
     "output_type": "stream",
     "text": [
      "\r",
      "sample time step:  22%|██▏       | 22/100 [00:06<00:23,  3.38it/s]"
     ]
    },
    {
     "name": "stderr",
     "output_type": "stream",
     "text": [
      "\r",
      "sample time step:  23%|██▎       | 23/100 [00:07<00:24,  3.21it/s]"
     ]
    },
    {
     "name": "stderr",
     "output_type": "stream",
     "text": [
      "\r",
      "sample time step:  24%|██▍       | 24/100 [00:07<00:24,  3.10it/s]"
     ]
    },
    {
     "name": "stderr",
     "output_type": "stream",
     "text": [
      "\r",
      "sample time step:  25%|██▌       | 25/100 [00:07<00:24,  3.06it/s]"
     ]
    },
    {
     "name": "stderr",
     "output_type": "stream",
     "text": [
      "\r",
      "sample time step:  26%|██▌       | 26/100 [00:08<00:23,  3.10it/s]"
     ]
    },
    {
     "name": "stderr",
     "output_type": "stream",
     "text": [
      "\r",
      "sample time step:  27%|██▋       | 27/100 [00:08<00:24,  3.00it/s]"
     ]
    },
    {
     "name": "stderr",
     "output_type": "stream",
     "text": [
      "\r",
      "sample time step:  28%|██▊       | 28/100 [00:08<00:24,  2.99it/s]"
     ]
    },
    {
     "name": "stderr",
     "output_type": "stream",
     "text": [
      "\r",
      "sample time step:  29%|██▉       | 29/100 [00:09<00:23,  2.96it/s]"
     ]
    },
    {
     "name": "stderr",
     "output_type": "stream",
     "text": [
      "\r",
      "sample time step:  30%|███       | 30/100 [00:09<00:23,  2.92it/s]"
     ]
    },
    {
     "name": "stderr",
     "output_type": "stream",
     "text": [
      "\r",
      "sample time step:  31%|███       | 31/100 [00:10<00:23,  2.88it/s]"
     ]
    },
    {
     "name": "stderr",
     "output_type": "stream",
     "text": [
      "\r",
      "sample time step:  32%|███▏      | 32/100 [00:10<00:23,  2.92it/s]"
     ]
    },
    {
     "name": "stderr",
     "output_type": "stream",
     "text": [
      "\r",
      "sample time step:  33%|███▎      | 33/100 [00:10<00:22,  2.96it/s]"
     ]
    },
    {
     "name": "stderr",
     "output_type": "stream",
     "text": [
      "\r",
      "sample time step:  34%|███▍      | 34/100 [00:10<00:22,  2.99it/s]"
     ]
    },
    {
     "name": "stderr",
     "output_type": "stream",
     "text": [
      "\r",
      "sample time step:  35%|███▌      | 35/100 [00:11<00:20,  3.12it/s]"
     ]
    },
    {
     "name": "stderr",
     "output_type": "stream",
     "text": [
      "\r",
      "sample time step:  36%|███▌      | 36/100 [00:11<00:20,  3.17it/s]"
     ]
    },
    {
     "name": "stderr",
     "output_type": "stream",
     "text": [
      "\r",
      "sample time step:  37%|███▋      | 37/100 [00:11<00:19,  3.25it/s]"
     ]
    },
    {
     "name": "stderr",
     "output_type": "stream",
     "text": [
      "\r",
      "sample time step:  38%|███▊      | 38/100 [00:12<00:18,  3.28it/s]"
     ]
    },
    {
     "name": "stderr",
     "output_type": "stream",
     "text": [
      "\r",
      "sample time step:  39%|███▉      | 39/100 [00:12<00:18,  3.31it/s]"
     ]
    },
    {
     "name": "stderr",
     "output_type": "stream",
     "text": [
      "\r",
      "sample time step:  40%|████      | 40/100 [00:12<00:18,  3.17it/s]"
     ]
    },
    {
     "name": "stderr",
     "output_type": "stream",
     "text": [
      "\r",
      "sample time step:  41%|████      | 41/100 [00:13<00:19,  3.11it/s]"
     ]
    },
    {
     "name": "stderr",
     "output_type": "stream",
     "text": [
      "\r",
      "sample time step:  42%|████▏     | 42/100 [00:13<00:18,  3.06it/s]"
     ]
    },
    {
     "name": "stderr",
     "output_type": "stream",
     "text": [
      "\r",
      "sample time step:  43%|████▎     | 43/100 [00:13<00:18,  3.03it/s]"
     ]
    },
    {
     "name": "stderr",
     "output_type": "stream",
     "text": [
      "\r",
      "sample time step:  44%|████▍     | 44/100 [00:14<00:18,  2.99it/s]"
     ]
    },
    {
     "name": "stderr",
     "output_type": "stream",
     "text": [
      "\r",
      "sample time step:  45%|████▌     | 45/100 [00:14<00:18,  2.99it/s]"
     ]
    },
    {
     "name": "stderr",
     "output_type": "stream",
     "text": [
      "\r",
      "sample time step:  46%|████▌     | 46/100 [00:14<00:18,  2.98it/s]"
     ]
    },
    {
     "name": "stderr",
     "output_type": "stream",
     "text": [
      "\r",
      "sample time step:  47%|████▋     | 47/100 [00:15<00:18,  2.94it/s]"
     ]
    },
    {
     "name": "stderr",
     "output_type": "stream",
     "text": [
      "\r",
      "sample time step:  48%|████▊     | 48/100 [00:15<00:17,  2.96it/s]"
     ]
    },
    {
     "name": "stderr",
     "output_type": "stream",
     "text": [
      "\r",
      "sample time step:  49%|████▉     | 49/100 [00:15<00:17,  2.95it/s]"
     ]
    },
    {
     "name": "stderr",
     "output_type": "stream",
     "text": [
      "\r",
      "sample time step:  50%|█████     | 50/100 [00:16<00:17,  2.94it/s]"
     ]
    },
    {
     "name": "stderr",
     "output_type": "stream",
     "text": [
      "\r",
      "sample time step:  51%|█████     | 51/100 [00:16<00:16,  2.90it/s]"
     ]
    },
    {
     "name": "stderr",
     "output_type": "stream",
     "text": [
      "\r",
      "sample time step:  52%|█████▏    | 52/100 [00:16<00:16,  2.95it/s]"
     ]
    },
    {
     "name": "stderr",
     "output_type": "stream",
     "text": [
      "\r",
      "sample time step:  53%|█████▎    | 53/100 [00:17<00:15,  3.08it/s]"
     ]
    },
    {
     "name": "stderr",
     "output_type": "stream",
     "text": [
      "\r",
      "sample time step:  54%|█████▍    | 54/100 [00:17<00:14,  3.16it/s]"
     ]
    },
    {
     "name": "stderr",
     "output_type": "stream",
     "text": [
      "\r",
      "sample time step:  55%|█████▌    | 55/100 [00:17<00:14,  3.21it/s]"
     ]
    },
    {
     "name": "stderr",
     "output_type": "stream",
     "text": [
      "\r",
      "sample time step:  56%|█████▌    | 56/100 [00:18<00:13,  3.16it/s]"
     ]
    },
    {
     "name": "stderr",
     "output_type": "stream",
     "text": [
      "\r",
      "sample time step:  57%|█████▋    | 57/100 [00:18<00:13,  3.20it/s]"
     ]
    },
    {
     "name": "stderr",
     "output_type": "stream",
     "text": [
      "\r",
      "sample time step:  58%|█████▊    | 58/100 [00:18<00:12,  3.25it/s]"
     ]
    },
    {
     "name": "stderr",
     "output_type": "stream",
     "text": [
      "\r",
      "sample time step:  59%|█████▉    | 59/100 [00:19<00:12,  3.31it/s]"
     ]
    },
    {
     "name": "stderr",
     "output_type": "stream",
     "text": [
      "\r",
      "sample time step:  60%|██████    | 60/100 [00:19<00:11,  3.34it/s]"
     ]
    },
    {
     "name": "stderr",
     "output_type": "stream",
     "text": [
      "\r",
      "sample time step:  61%|██████    | 61/100 [00:19<00:11,  3.33it/s]"
     ]
    },
    {
     "name": "stderr",
     "output_type": "stream",
     "text": [
      "\r",
      "sample time step:  62%|██████▏   | 62/100 [00:19<00:11,  3.35it/s]"
     ]
    },
    {
     "name": "stderr",
     "output_type": "stream",
     "text": [
      "\r",
      "sample time step:  63%|██████▎   | 63/100 [00:20<00:11,  3.30it/s]"
     ]
    },
    {
     "name": "stderr",
     "output_type": "stream",
     "text": [
      "\r",
      "sample time step:  64%|██████▍   | 64/100 [00:20<00:11,  3.17it/s]"
     ]
    },
    {
     "name": "stderr",
     "output_type": "stream",
     "text": [
      "\r",
      "sample time step:  65%|██████▌   | 65/100 [00:20<00:11,  3.08it/s]"
     ]
    },
    {
     "name": "stderr",
     "output_type": "stream",
     "text": [
      "\r",
      "sample time step:  66%|██████▌   | 66/100 [00:21<00:10,  3.09it/s]"
     ]
    },
    {
     "name": "stderr",
     "output_type": "stream",
     "text": [
      "\r",
      "sample time step:  67%|██████▋   | 67/100 [00:21<00:10,  3.17it/s]"
     ]
    },
    {
     "name": "stderr",
     "output_type": "stream",
     "text": [
      "\r",
      "sample time step:  68%|██████▊   | 68/100 [00:21<00:10,  3.10it/s]"
     ]
    },
    {
     "name": "stderr",
     "output_type": "stream",
     "text": [
      "\r",
      "sample time step:  69%|██████▉   | 69/100 [00:22<00:10,  2.93it/s]"
     ]
    },
    {
     "name": "stderr",
     "output_type": "stream",
     "text": [
      "\r",
      "sample time step:  70%|███████   | 70/100 [00:22<00:10,  2.90it/s]"
     ]
    },
    {
     "name": "stderr",
     "output_type": "stream",
     "text": [
      "\r",
      "sample time step:  71%|███████   | 71/100 [00:22<00:10,  2.87it/s]"
     ]
    },
    {
     "name": "stderr",
     "output_type": "stream",
     "text": [
      "\r",
      "sample time step:  72%|███████▏  | 72/100 [00:23<00:09,  2.86it/s]"
     ]
    },
    {
     "name": "stderr",
     "output_type": "stream",
     "text": [
      "\r",
      "sample time step:  73%|███████▎  | 73/100 [00:23<00:09,  2.84it/s]"
     ]
    },
    {
     "name": "stderr",
     "output_type": "stream",
     "text": [
      "\r",
      "sample time step:  74%|███████▍  | 74/100 [00:23<00:08,  2.90it/s]"
     ]
    },
    {
     "name": "stderr",
     "output_type": "stream",
     "text": [
      "\r",
      "sample time step:  75%|███████▌  | 75/100 [00:24<00:08,  3.02it/s]"
     ]
    },
    {
     "name": "stderr",
     "output_type": "stream",
     "text": [
      "\r",
      "sample time step:  76%|███████▌  | 76/100 [00:24<00:07,  3.13it/s]"
     ]
    },
    {
     "name": "stderr",
     "output_type": "stream",
     "text": [
      "\r",
      "sample time step:  77%|███████▋  | 77/100 [00:24<00:07,  3.25it/s]"
     ]
    },
    {
     "name": "stderr",
     "output_type": "stream",
     "text": [
      "\r",
      "sample time step:  78%|███████▊  | 78/100 [00:25<00:06,  3.31it/s]"
     ]
    },
    {
     "name": "stderr",
     "output_type": "stream",
     "text": [
      "\r",
      "sample time step:  79%|███████▉  | 79/100 [00:25<00:06,  3.36it/s]"
     ]
    },
    {
     "name": "stderr",
     "output_type": "stream",
     "text": [
      "\r",
      "sample time step:  80%|████████  | 80/100 [00:25<00:05,  3.39it/s]"
     ]
    },
    {
     "name": "stderr",
     "output_type": "stream",
     "text": [
      "\r",
      "sample time step:  81%|████████  | 81/100 [00:26<00:05,  3.42it/s]"
     ]
    },
    {
     "name": "stderr",
     "output_type": "stream",
     "text": [
      "\r",
      "sample time step:  82%|████████▏ | 82/100 [00:26<00:05,  3.46it/s]"
     ]
    },
    {
     "name": "stderr",
     "output_type": "stream",
     "text": [
      "\r",
      "sample time step:  83%|████████▎ | 83/100 [00:26<00:04,  3.47it/s]"
     ]
    },
    {
     "name": "stderr",
     "output_type": "stream",
     "text": [
      "\r",
      "sample time step:  84%|████████▍ | 84/100 [00:26<00:04,  3.38it/s]"
     ]
    },
    {
     "name": "stderr",
     "output_type": "stream",
     "text": [
      "\r",
      "sample time step:  85%|████████▌ | 85/100 [00:27<00:04,  3.37it/s]"
     ]
    },
    {
     "name": "stderr",
     "output_type": "stream",
     "text": [
      "\r",
      "sample time step:  86%|████████▌ | 86/100 [00:27<00:04,  3.36it/s]"
     ]
    },
    {
     "name": "stderr",
     "output_type": "stream",
     "text": [
      "\r",
      "sample time step:  87%|████████▋ | 87/100 [00:27<00:03,  3.38it/s]"
     ]
    },
    {
     "name": "stderr",
     "output_type": "stream",
     "text": [
      "\r",
      "sample time step:  88%|████████▊ | 88/100 [00:28<00:03,  3.29it/s]"
     ]
    },
    {
     "name": "stderr",
     "output_type": "stream",
     "text": [
      "\r",
      "sample time step:  89%|████████▉ | 89/100 [00:28<00:03,  3.30it/s]"
     ]
    },
    {
     "name": "stderr",
     "output_type": "stream",
     "text": [
      "\r",
      "sample time step:  90%|█████████ | 90/100 [00:28<00:03,  3.24it/s]"
     ]
    },
    {
     "name": "stderr",
     "output_type": "stream",
     "text": [
      "\r",
      "sample time step:  91%|█████████ | 91/100 [00:29<00:02,  3.10it/s]"
     ]
    },
    {
     "name": "stderr",
     "output_type": "stream",
     "text": [
      "\r",
      "sample time step:  92%|█████████▏| 92/100 [00:29<00:02,  3.01it/s]"
     ]
    },
    {
     "name": "stderr",
     "output_type": "stream",
     "text": [
      "\r",
      "sample time step:  93%|█████████▎| 93/100 [00:29<00:02,  2.94it/s]"
     ]
    },
    {
     "name": "stderr",
     "output_type": "stream",
     "text": [
      "\r",
      "sample time step:  94%|█████████▍| 94/100 [00:30<00:02,  2.96it/s]"
     ]
    },
    {
     "name": "stderr",
     "output_type": "stream",
     "text": [
      "\r",
      "sample time step:  95%|█████████▌| 95/100 [00:30<00:01,  2.94it/s]"
     ]
    },
    {
     "name": "stderr",
     "output_type": "stream",
     "text": [
      "\r",
      "sample time step:  96%|█████████▌| 96/100 [00:30<00:01,  2.96it/s]"
     ]
    },
    {
     "name": "stderr",
     "output_type": "stream",
     "text": [
      "\r",
      "sample time step:  97%|█████████▋| 97/100 [00:31<00:01,  2.99it/s]"
     ]
    },
    {
     "name": "stderr",
     "output_type": "stream",
     "text": [
      "\r",
      "sample time step:  98%|█████████▊| 98/100 [00:31<00:00,  3.11it/s]"
     ]
    },
    {
     "name": "stderr",
     "output_type": "stream",
     "text": [
      "\r",
      "sample time step:  99%|█████████▉| 99/100 [00:31<00:00,  3.15it/s]"
     ]
    },
    {
     "name": "stderr",
     "output_type": "stream",
     "text": [
      "\r",
      "sample time step: 100%|██████████| 100/100 [00:32<00:00,  3.15it/s]"
     ]
    },
    {
     "name": "stderr",
     "output_type": "stream",
     "text": [
      "\r",
      "sample time step: 100%|██████████| 100/100 [00:32<00:00,  3.12it/s]"
     ]
    },
    {
     "name": "stderr",
     "output_type": "stream",
     "text": [
      "\n"
     ]
    },
    {
     "name": "stdout",
     "output_type": "stream",
     "text": [
      "✅ Generated: zh_4.wav\n"
     ]
    },
    {
     "name": "stdout",
     "output_type": "stream",
     "text": [
      "Pass word-notes check.\n",
      "270 270 270\n",
      "Pass word-notes check.\n"
     ]
    },
    {
     "name": "stdout",
     "output_type": "stream",
     "text": [
      "===> gaussion start.\n"
     ]
    },
    {
     "name": "stderr",
     "output_type": "stream",
     "text": [
      "\r",
      "sample time step:   0%|          | 0/100 [00:00<?, ?it/s]"
     ]
    },
    {
     "name": "stderr",
     "output_type": "stream",
     "text": [
      "\r",
      "sample time step:   1%|          | 1/100 [00:00<00:36,  2.69it/s]"
     ]
    },
    {
     "name": "stderr",
     "output_type": "stream",
     "text": [
      "\r",
      "sample time step:   2%|▏         | 2/100 [00:00<00:36,  2.69it/s]"
     ]
    },
    {
     "name": "stderr",
     "output_type": "stream",
     "text": [
      "\r",
      "sample time step:   3%|▎         | 3/100 [00:01<00:36,  2.63it/s]"
     ]
    },
    {
     "name": "stderr",
     "output_type": "stream",
     "text": [
      "\r",
      "sample time step:   4%|▍         | 4/100 [00:01<00:36,  2.66it/s]"
     ]
    },
    {
     "name": "stderr",
     "output_type": "stream",
     "text": [
      "\r",
      "sample time step:   5%|▌         | 5/100 [00:01<00:35,  2.68it/s]"
     ]
    },
    {
     "name": "stderr",
     "output_type": "stream",
     "text": [
      "\r",
      "sample time step:   6%|▌         | 6/100 [00:02<00:35,  2.67it/s]"
     ]
    },
    {
     "name": "stderr",
     "output_type": "stream",
     "text": [
      "\r",
      "sample time step:   7%|▋         | 7/100 [00:02<00:34,  2.66it/s]"
     ]
    },
    {
     "name": "stderr",
     "output_type": "stream",
     "text": [
      "\r",
      "sample time step:   8%|▊         | 8/100 [00:03<00:34,  2.66it/s]"
     ]
    },
    {
     "name": "stderr",
     "output_type": "stream",
     "text": [
      "\r",
      "sample time step:   9%|▉         | 9/100 [00:03<00:33,  2.70it/s]"
     ]
    },
    {
     "name": "stderr",
     "output_type": "stream",
     "text": [
      "\r",
      "sample time step:  10%|█         | 10/100 [00:03<00:33,  2.69it/s]"
     ]
    },
    {
     "name": "stderr",
     "output_type": "stream",
     "text": [
      "\r",
      "sample time step:  11%|█         | 11/100 [00:04<00:33,  2.65it/s]"
     ]
    },
    {
     "name": "stderr",
     "output_type": "stream",
     "text": [
      "\r",
      "sample time step:  12%|█▏        | 12/100 [00:04<00:33,  2.61it/s]"
     ]
    },
    {
     "name": "stderr",
     "output_type": "stream",
     "text": [
      "\r",
      "sample time step:  13%|█▎        | 13/100 [00:04<00:32,  2.66it/s]"
     ]
    },
    {
     "name": "stderr",
     "output_type": "stream",
     "text": [
      "\r",
      "sample time step:  14%|█▍        | 14/100 [00:05<00:32,  2.68it/s]"
     ]
    },
    {
     "name": "stderr",
     "output_type": "stream",
     "text": [
      "\r",
      "sample time step:  15%|█▌        | 15/100 [00:05<00:31,  2.70it/s]"
     ]
    },
    {
     "name": "stderr",
     "output_type": "stream",
     "text": [
      "\r",
      "sample time step:  16%|█▌        | 16/100 [00:05<00:30,  2.80it/s]"
     ]
    },
    {
     "name": "stderr",
     "output_type": "stream",
     "text": [
      "\r",
      "sample time step:  17%|█▋        | 17/100 [00:06<00:28,  2.88it/s]"
     ]
    },
    {
     "name": "stderr",
     "output_type": "stream",
     "text": [
      "\r",
      "sample time step:  18%|█▊        | 18/100 [00:06<00:27,  2.93it/s]"
     ]
    },
    {
     "name": "stderr",
     "output_type": "stream",
     "text": [
      "\r",
      "sample time step:  19%|█▉        | 19/100 [00:06<00:27,  2.90it/s]"
     ]
    },
    {
     "name": "stderr",
     "output_type": "stream",
     "text": [
      "\r",
      "sample time step:  20%|██        | 20/100 [00:07<00:27,  2.87it/s]"
     ]
    },
    {
     "name": "stderr",
     "output_type": "stream",
     "text": [
      "\r",
      "sample time step:  21%|██        | 21/100 [00:07<00:28,  2.79it/s]"
     ]
    },
    {
     "name": "stderr",
     "output_type": "stream",
     "text": [
      "\r",
      "sample time step:  22%|██▏       | 22/100 [00:08<00:28,  2.72it/s]"
     ]
    },
    {
     "name": "stderr",
     "output_type": "stream",
     "text": [
      "\r",
      "sample time step:  23%|██▎       | 23/100 [00:08<00:27,  2.77it/s]"
     ]
    },
    {
     "name": "stderr",
     "output_type": "stream",
     "text": [
      "\r",
      "sample time step:  24%|██▍       | 24/100 [00:08<00:27,  2.80it/s]"
     ]
    },
    {
     "name": "stderr",
     "output_type": "stream",
     "text": [
      "\r",
      "sample time step:  25%|██▌       | 25/100 [00:09<00:27,  2.73it/s]"
     ]
    },
    {
     "name": "stderr",
     "output_type": "stream",
     "text": [
      "\r",
      "sample time step:  26%|██▌       | 26/100 [00:09<00:27,  2.71it/s]"
     ]
    },
    {
     "name": "stderr",
     "output_type": "stream",
     "text": [
      "\r",
      "sample time step:  27%|██▋       | 27/100 [00:09<00:27,  2.68it/s]"
     ]
    },
    {
     "name": "stderr",
     "output_type": "stream",
     "text": [
      "\r",
      "sample time step:  28%|██▊       | 28/100 [00:10<00:27,  2.66it/s]"
     ]
    },
    {
     "name": "stderr",
     "output_type": "stream",
     "text": [
      "\r",
      "sample time step:  29%|██▉       | 29/100 [00:10<00:27,  2.62it/s]"
     ]
    },
    {
     "name": "stderr",
     "output_type": "stream",
     "text": [
      "\r",
      "sample time step:  30%|███       | 30/100 [00:11<00:26,  2.63it/s]"
     ]
    },
    {
     "name": "stderr",
     "output_type": "stream",
     "text": [
      "\r",
      "sample time step:  31%|███       | 31/100 [00:11<00:26,  2.64it/s]"
     ]
    },
    {
     "name": "stderr",
     "output_type": "stream",
     "text": [
      "\r",
      "sample time step:  32%|███▏      | 32/100 [00:11<00:25,  2.67it/s]"
     ]
    },
    {
     "name": "stderr",
     "output_type": "stream",
     "text": [
      "\r",
      "sample time step:  33%|███▎      | 33/100 [00:12<00:24,  2.70it/s]"
     ]
    },
    {
     "name": "stderr",
     "output_type": "stream",
     "text": [
      "\r",
      "sample time step:  34%|███▍      | 34/100 [00:12<00:23,  2.82it/s]"
     ]
    },
    {
     "name": "stderr",
     "output_type": "stream",
     "text": [
      "\r",
      "sample time step:  35%|███▌      | 35/100 [00:12<00:23,  2.77it/s]"
     ]
    },
    {
     "name": "stderr",
     "output_type": "stream",
     "text": [
      "\r",
      "sample time step:  36%|███▌      | 36/100 [00:13<00:23,  2.73it/s]"
     ]
    },
    {
     "name": "stderr",
     "output_type": "stream",
     "text": [
      "\r",
      "sample time step:  37%|███▋      | 37/100 [00:13<00:22,  2.81it/s]"
     ]
    },
    {
     "name": "stderr",
     "output_type": "stream",
     "text": [
      "\r",
      "sample time step:  38%|███▊      | 38/100 [00:13<00:22,  2.79it/s]"
     ]
    },
    {
     "name": "stderr",
     "output_type": "stream",
     "text": [
      "\r",
      "sample time step:  39%|███▉      | 39/100 [00:14<00:22,  2.76it/s]"
     ]
    },
    {
     "name": "stderr",
     "output_type": "stream",
     "text": [
      "\r",
      "sample time step:  40%|████      | 40/100 [00:14<00:22,  2.72it/s]"
     ]
    },
    {
     "name": "stderr",
     "output_type": "stream",
     "text": [
      "\r",
      "sample time step:  41%|████      | 41/100 [00:15<00:21,  2.69it/s]"
     ]
    },
    {
     "name": "stderr",
     "output_type": "stream",
     "text": [
      "\r",
      "sample time step:  42%|████▏     | 42/100 [00:15<00:22,  2.62it/s]"
     ]
    },
    {
     "name": "stderr",
     "output_type": "stream",
     "text": [
      "\r",
      "sample time step:  43%|████▎     | 43/100 [00:15<00:21,  2.65it/s]"
     ]
    },
    {
     "name": "stderr",
     "output_type": "stream",
     "text": [
      "\r",
      "sample time step:  44%|████▍     | 44/100 [00:16<00:20,  2.70it/s]"
     ]
    },
    {
     "name": "stderr",
     "output_type": "stream",
     "text": [
      "\r",
      "sample time step:  45%|████▌     | 45/100 [00:16<00:19,  2.81it/s]"
     ]
    },
    {
     "name": "stderr",
     "output_type": "stream",
     "text": [
      "\r",
      "sample time step:  46%|████▌     | 46/100 [00:16<00:18,  2.91it/s]"
     ]
    },
    {
     "name": "stderr",
     "output_type": "stream",
     "text": [
      "\r",
      "sample time step:  47%|████▋     | 47/100 [00:17<00:17,  2.97it/s]"
     ]
    },
    {
     "name": "stderr",
     "output_type": "stream",
     "text": [
      "\r",
      "sample time step:  48%|████▊     | 48/100 [00:17<00:17,  3.04it/s]"
     ]
    },
    {
     "name": "stderr",
     "output_type": "stream",
     "text": [
      "\r",
      "sample time step:  49%|████▉     | 49/100 [00:17<00:16,  3.07it/s]"
     ]
    },
    {
     "name": "stderr",
     "output_type": "stream",
     "text": [
      "\r",
      "sample time step:  50%|█████     | 50/100 [00:18<00:16,  3.09it/s]"
     ]
    },
    {
     "name": "stderr",
     "output_type": "stream",
     "text": [
      "\r",
      "sample time step:  51%|█████     | 51/100 [00:18<00:15,  3.10it/s]"
     ]
    },
    {
     "name": "stderr",
     "output_type": "stream",
     "text": [
      "\r",
      "sample time step:  52%|█████▏    | 52/100 [00:18<00:16,  2.98it/s]"
     ]
    },
    {
     "name": "stderr",
     "output_type": "stream",
     "text": [
      "\r",
      "sample time step:  53%|█████▎    | 53/100 [00:19<00:16,  2.85it/s]"
     ]
    },
    {
     "name": "stderr",
     "output_type": "stream",
     "text": [
      "\r",
      "sample time step:  54%|█████▍    | 54/100 [00:19<00:16,  2.77it/s]"
     ]
    },
    {
     "name": "stderr",
     "output_type": "stream",
     "text": [
      "\r",
      "sample time step:  55%|█████▌    | 55/100 [00:19<00:15,  2.83it/s]"
     ]
    },
    {
     "name": "stderr",
     "output_type": "stream",
     "text": [
      "\r",
      "sample time step:  56%|█████▌    | 56/100 [00:20<00:16,  2.69it/s]"
     ]
    },
    {
     "name": "stderr",
     "output_type": "stream",
     "text": [
      "\r",
      "sample time step:  57%|█████▋    | 57/100 [00:20<00:16,  2.67it/s]"
     ]
    },
    {
     "name": "stderr",
     "output_type": "stream",
     "text": [
      "\r",
      "sample time step:  58%|█████▊    | 58/100 [00:21<00:15,  2.66it/s]"
     ]
    },
    {
     "name": "stderr",
     "output_type": "stream",
     "text": [
      "\r",
      "sample time step:  59%|█████▉    | 59/100 [00:21<00:15,  2.64it/s]"
     ]
    },
    {
     "name": "stderr",
     "output_type": "stream",
     "text": [
      "\r",
      "sample time step:  60%|██████    | 60/100 [00:21<00:14,  2.77it/s]"
     ]
    },
    {
     "name": "stderr",
     "output_type": "stream",
     "text": [
      "\r",
      "sample time step:  61%|██████    | 61/100 [00:22<00:14,  2.74it/s]"
     ]
    },
    {
     "name": "stderr",
     "output_type": "stream",
     "text": [
      "\r",
      "sample time step:  62%|██████▏   | 62/100 [00:22<00:13,  2.73it/s]"
     ]
    },
    {
     "name": "stderr",
     "output_type": "stream",
     "text": [
      "\r",
      "sample time step:  63%|██████▎   | 63/100 [00:22<00:13,  2.80it/s]"
     ]
    },
    {
     "name": "stderr",
     "output_type": "stream",
     "text": [
      "\r",
      "sample time step:  64%|██████▍   | 64/100 [00:23<00:12,  2.86it/s]"
     ]
    },
    {
     "name": "stderr",
     "output_type": "stream",
     "text": [
      "\r",
      "sample time step:  65%|██████▌   | 65/100 [00:23<00:11,  2.95it/s]"
     ]
    },
    {
     "name": "stderr",
     "output_type": "stream",
     "text": [
      "\r",
      "sample time step:  66%|██████▌   | 66/100 [00:23<00:11,  3.02it/s]"
     ]
    },
    {
     "name": "stderr",
     "output_type": "stream",
     "text": [
      "\r",
      "sample time step:  67%|██████▋   | 67/100 [00:24<00:10,  3.03it/s]"
     ]
    },
    {
     "name": "stderr",
     "output_type": "stream",
     "text": [
      "\r",
      "sample time step:  68%|██████▊   | 68/100 [00:24<00:10,  3.07it/s]"
     ]
    },
    {
     "name": "stderr",
     "output_type": "stream",
     "text": [
      "\r",
      "sample time step:  69%|██████▉   | 69/100 [00:24<00:09,  3.11it/s]"
     ]
    },
    {
     "name": "stderr",
     "output_type": "stream",
     "text": [
      "\r",
      "sample time step:  70%|███████   | 70/100 [00:25<00:09,  3.11it/s]"
     ]
    },
    {
     "name": "stderr",
     "output_type": "stream",
     "text": [
      "\r",
      "sample time step:  71%|███████   | 71/100 [00:25<00:09,  3.13it/s]"
     ]
    },
    {
     "name": "stderr",
     "output_type": "stream",
     "text": [
      "\r",
      "sample time step:  72%|███████▏  | 72/100 [00:25<00:08,  3.14it/s]"
     ]
    },
    {
     "name": "stderr",
     "output_type": "stream",
     "text": [
      "\r",
      "sample time step:  73%|███████▎  | 73/100 [00:26<00:08,  3.12it/s]"
     ]
    },
    {
     "name": "stderr",
     "output_type": "stream",
     "text": [
      "\r",
      "sample time step:  74%|███████▍  | 74/100 [00:26<00:08,  2.96it/s]"
     ]
    },
    {
     "name": "stderr",
     "output_type": "stream",
     "text": [
      "\r",
      "sample time step:  75%|███████▌  | 75/100 [00:26<00:08,  2.85it/s]"
     ]
    },
    {
     "name": "stderr",
     "output_type": "stream",
     "text": [
      "\r",
      "sample time step:  76%|███████▌  | 76/100 [00:27<00:08,  2.75it/s]"
     ]
    },
    {
     "name": "stderr",
     "output_type": "stream",
     "text": [
      "\r",
      "sample time step:  77%|███████▋  | 77/100 [00:27<00:08,  2.73it/s]"
     ]
    },
    {
     "name": "stderr",
     "output_type": "stream",
     "text": [
      "\r",
      "sample time step:  78%|███████▊  | 78/100 [00:27<00:07,  2.75it/s]"
     ]
    },
    {
     "name": "stderr",
     "output_type": "stream",
     "text": [
      "\r",
      "sample time step:  79%|███████▉  | 79/100 [00:28<00:07,  2.68it/s]"
     ]
    },
    {
     "name": "stderr",
     "output_type": "stream",
     "text": [
      "\r",
      "sample time step:  80%|████████  | 80/100 [00:28<00:07,  2.81it/s]"
     ]
    },
    {
     "name": "stderr",
     "output_type": "stream",
     "text": [
      "\r",
      "sample time step:  81%|████████  | 81/100 [00:29<00:06,  2.78it/s]"
     ]
    },
    {
     "name": "stderr",
     "output_type": "stream",
     "text": [
      "\r",
      "sample time step:  82%|████████▏ | 82/100 [00:29<00:06,  2.75it/s]"
     ]
    },
    {
     "name": "stderr",
     "output_type": "stream",
     "text": [
      "\r",
      "sample time step:  83%|████████▎ | 83/100 [00:29<00:06,  2.71it/s]"
     ]
    },
    {
     "name": "stderr",
     "output_type": "stream",
     "text": [
      "\r",
      "sample time step:  84%|████████▍ | 84/100 [00:30<00:05,  2.67it/s]"
     ]
    },
    {
     "name": "stderr",
     "output_type": "stream",
     "text": [
      "\r",
      "sample time step:  85%|████████▌ | 85/100 [00:30<00:05,  2.67it/s]"
     ]
    },
    {
     "name": "stderr",
     "output_type": "stream",
     "text": [
      "\r",
      "sample time step:  86%|████████▌ | 86/100 [00:30<00:05,  2.61it/s]"
     ]
    },
    {
     "name": "stderr",
     "output_type": "stream",
     "text": [
      "\r",
      "sample time step:  87%|████████▋ | 87/100 [00:31<00:04,  2.62it/s]"
     ]
    },
    {
     "name": "stderr",
     "output_type": "stream",
     "text": [
      "\r",
      "sample time step:  88%|████████▊ | 88/100 [00:31<00:04,  2.74it/s]"
     ]
    },
    {
     "name": "stderr",
     "output_type": "stream",
     "text": [
      "\r",
      "sample time step:  89%|████████▉ | 89/100 [00:31<00:03,  2.84it/s]"
     ]
    },
    {
     "name": "stderr",
     "output_type": "stream",
     "text": [
      "\r",
      "sample time step:  90%|█████████ | 90/100 [00:32<00:03,  2.93it/s]"
     ]
    },
    {
     "name": "stderr",
     "output_type": "stream",
     "text": [
      "\r",
      "sample time step:  91%|█████████ | 91/100 [00:32<00:03,  2.99it/s]"
     ]
    },
    {
     "name": "stderr",
     "output_type": "stream",
     "text": [
      "\r",
      "sample time step:  92%|█████████▏| 92/100 [00:32<00:02,  2.96it/s]"
     ]
    },
    {
     "name": "stderr",
     "output_type": "stream",
     "text": [
      "\r",
      "sample time step:  93%|█████████▎| 93/100 [00:33<00:02,  2.89it/s]"
     ]
    },
    {
     "name": "stderr",
     "output_type": "stream",
     "text": [
      "\r",
      "sample time step:  94%|█████████▍| 94/100 [00:33<00:02,  2.82it/s]"
     ]
    },
    {
     "name": "stderr",
     "output_type": "stream",
     "text": [
      "\r",
      "sample time step:  95%|█████████▌| 95/100 [00:34<00:01,  2.77it/s]"
     ]
    },
    {
     "name": "stderr",
     "output_type": "stream",
     "text": [
      "\r",
      "sample time step:  96%|█████████▌| 96/100 [00:34<00:01,  2.73it/s]"
     ]
    },
    {
     "name": "stderr",
     "output_type": "stream",
     "text": [
      "\r",
      "sample time step:  97%|█████████▋| 97/100 [00:34<00:01,  2.79it/s]"
     ]
    },
    {
     "name": "stderr",
     "output_type": "stream",
     "text": [
      "\r",
      "sample time step:  98%|█████████▊| 98/100 [00:35<00:00,  2.70it/s]"
     ]
    },
    {
     "name": "stderr",
     "output_type": "stream",
     "text": [
      "\r",
      "sample time step:  99%|█████████▉| 99/100 [00:35<00:00,  2.65it/s]"
     ]
    },
    {
     "name": "stderr",
     "output_type": "stream",
     "text": [
      "\r",
      "sample time step: 100%|██████████| 100/100 [00:35<00:00,  2.67it/s]"
     ]
    },
    {
     "name": "stderr",
     "output_type": "stream",
     "text": [
      "\r",
      "sample time step: 100%|██████████| 100/100 [00:35<00:00,  2.78it/s]"
     ]
    },
    {
     "name": "stderr",
     "output_type": "stream",
     "text": [
      "\n"
     ]
    },
    {
     "name": "stdout",
     "output_type": "stream",
     "text": [
      "✅ Generated: zh_11.wav\n"
     ]
    },
    {
     "name": "stdout",
     "output_type": "stream",
     "text": [
      "Pass word-notes check.\n",
      "332 332 332\n",
      "Pass word-notes check.\n"
     ]
    },
    {
     "name": "stdout",
     "output_type": "stream",
     "text": [
      "===> gaussion start.\n"
     ]
    },
    {
     "name": "stderr",
     "output_type": "stream",
     "text": [
      "\r",
      "sample time step:   0%|          | 0/100 [00:00<?, ?it/s]"
     ]
    },
    {
     "name": "stderr",
     "output_type": "stream",
     "text": [
      "\r",
      "sample time step:   1%|          | 1/100 [00:00<00:46,  2.13it/s]"
     ]
    },
    {
     "name": "stderr",
     "output_type": "stream",
     "text": [
      "\r",
      "sample time step:   2%|▏         | 2/100 [00:00<00:46,  2.12it/s]"
     ]
    },
    {
     "name": "stderr",
     "output_type": "stream",
     "text": [
      "\r",
      "sample time step:   3%|▎         | 3/100 [00:01<00:44,  2.17it/s]"
     ]
    },
    {
     "name": "stderr",
     "output_type": "stream",
     "text": [
      "\r",
      "sample time step:   4%|▍         | 4/100 [00:01<00:43,  2.22it/s]"
     ]
    },
    {
     "name": "stderr",
     "output_type": "stream",
     "text": [
      "\r",
      "sample time step:   5%|▌         | 5/100 [00:02<00:43,  2.20it/s]"
     ]
    },
    {
     "name": "stderr",
     "output_type": "stream",
     "text": [
      "\r",
      "sample time step:   6%|▌         | 6/100 [00:02<00:42,  2.19it/s]"
     ]
    },
    {
     "name": "stderr",
     "output_type": "stream",
     "text": [
      "\r",
      "sample time step:   7%|▋         | 7/100 [00:03<00:43,  2.13it/s]"
     ]
    },
    {
     "name": "stderr",
     "output_type": "stream",
     "text": [
      "\r",
      "sample time step:   8%|▊         | 8/100 [00:03<00:42,  2.18it/s]"
     ]
    },
    {
     "name": "stderr",
     "output_type": "stream",
     "text": [
      "\r",
      "sample time step:   9%|▉         | 9/100 [00:04<00:40,  2.23it/s]"
     ]
    },
    {
     "name": "stderr",
     "output_type": "stream",
     "text": [
      "\r",
      "sample time step:  10%|█         | 10/100 [00:04<00:39,  2.27it/s]"
     ]
    },
    {
     "name": "stderr",
     "output_type": "stream",
     "text": [
      "\r",
      "sample time step:  11%|█         | 11/100 [00:04<00:38,  2.29it/s]"
     ]
    },
    {
     "name": "stderr",
     "output_type": "stream",
     "text": [
      "\r",
      "sample time step:  12%|█▏        | 12/100 [00:05<00:40,  2.17it/s]"
     ]
    },
    {
     "name": "stderr",
     "output_type": "stream",
     "text": [
      "\r",
      "sample time step:  13%|█▎        | 13/100 [00:05<00:41,  2.10it/s]"
     ]
    },
    {
     "name": "stderr",
     "output_type": "stream",
     "text": [
      "\r",
      "sample time step:  14%|█▍        | 14/100 [00:06<00:41,  2.06it/s]"
     ]
    },
    {
     "name": "stderr",
     "output_type": "stream",
     "text": [
      "\r",
      "sample time step:  15%|█▌        | 15/100 [00:06<00:40,  2.10it/s]"
     ]
    },
    {
     "name": "stderr",
     "output_type": "stream",
     "text": [
      "\r",
      "sample time step:  16%|█▌        | 16/100 [00:07<00:39,  2.14it/s]"
     ]
    },
    {
     "name": "stderr",
     "output_type": "stream",
     "text": [
      "\r",
      "sample time step:  17%|█▋        | 17/100 [00:07<00:38,  2.14it/s]"
     ]
    },
    {
     "name": "stderr",
     "output_type": "stream",
     "text": [
      "\r",
      "sample time step:  18%|█▊        | 18/100 [00:08<00:37,  2.17it/s]"
     ]
    },
    {
     "name": "stderr",
     "output_type": "stream",
     "text": [
      "\r",
      "sample time step:  19%|█▉        | 19/100 [00:08<00:37,  2.17it/s]"
     ]
    },
    {
     "name": "stderr",
     "output_type": "stream",
     "text": [
      "\r",
      "sample time step:  20%|██        | 20/100 [00:09<00:36,  2.17it/s]"
     ]
    },
    {
     "name": "stderr",
     "output_type": "stream",
     "text": [
      "\r",
      "sample time step:  21%|██        | 21/100 [00:09<00:37,  2.12it/s]"
     ]
    },
    {
     "name": "stderr",
     "output_type": "stream",
     "text": [
      "\r",
      "sample time step:  22%|██▏       | 22/100 [00:10<00:36,  2.13it/s]"
     ]
    },
    {
     "name": "stderr",
     "output_type": "stream",
     "text": [
      "\r",
      "sample time step:  23%|██▎       | 23/100 [00:10<00:35,  2.18it/s]"
     ]
    },
    {
     "name": "stderr",
     "output_type": "stream",
     "text": [
      "\r",
      "sample time step:  24%|██▍       | 24/100 [00:11<00:34,  2.18it/s]"
     ]
    },
    {
     "name": "stderr",
     "output_type": "stream",
     "text": [
      "\r",
      "sample time step:  25%|██▌       | 25/100 [00:11<00:33,  2.21it/s]"
     ]
    },
    {
     "name": "stderr",
     "output_type": "stream",
     "text": [
      "\r",
      "sample time step:  26%|██▌       | 26/100 [00:12<00:34,  2.13it/s]"
     ]
    },
    {
     "name": "stderr",
     "output_type": "stream",
     "text": [
      "\r",
      "sample time step:  27%|██▋       | 27/100 [00:12<00:35,  2.06it/s]"
     ]
    },
    {
     "name": "stderr",
     "output_type": "stream",
     "text": [
      "\r",
      "sample time step:  28%|██▊       | 28/100 [00:13<00:35,  2.03it/s]"
     ]
    },
    {
     "name": "stderr",
     "output_type": "stream",
     "text": [
      "\r",
      "sample time step:  29%|██▉       | 29/100 [00:13<00:35,  1.98it/s]"
     ]
    },
    {
     "name": "stderr",
     "output_type": "stream",
     "text": [
      "\r",
      "sample time step:  30%|███       | 30/100 [00:14<00:35,  1.96it/s]"
     ]
    },
    {
     "name": "stderr",
     "output_type": "stream",
     "text": [
      "\r",
      "sample time step:  31%|███       | 31/100 [00:14<00:35,  1.96it/s]"
     ]
    },
    {
     "name": "stderr",
     "output_type": "stream",
     "text": [
      "\r",
      "sample time step:  32%|███▏      | 32/100 [00:15<00:34,  1.96it/s]"
     ]
    },
    {
     "name": "stderr",
     "output_type": "stream",
     "text": [
      "\r",
      "sample time step:  33%|███▎      | 33/100 [00:15<00:34,  1.96it/s]"
     ]
    },
    {
     "name": "stderr",
     "output_type": "stream",
     "text": [
      "\r",
      "sample time step:  34%|███▍      | 34/100 [00:16<00:33,  1.96it/s]"
     ]
    },
    {
     "name": "stderr",
     "output_type": "stream",
     "text": [
      "\r",
      "sample time step:  35%|███▌      | 35/100 [00:16<00:32,  1.98it/s]"
     ]
    },
    {
     "name": "stderr",
     "output_type": "stream",
     "text": [
      "\r",
      "sample time step:  36%|███▌      | 36/100 [00:17<00:32,  1.99it/s]"
     ]
    },
    {
     "name": "stderr",
     "output_type": "stream",
     "text": [
      "\r",
      "sample time step:  37%|███▋      | 37/100 [00:17<00:31,  1.99it/s]"
     ]
    },
    {
     "name": "stderr",
     "output_type": "stream",
     "text": [
      "\r",
      "sample time step:  38%|███▊      | 38/100 [00:18<00:31,  1.99it/s]"
     ]
    },
    {
     "name": "stderr",
     "output_type": "stream",
     "text": [
      "\r",
      "sample time step:  39%|███▉      | 39/100 [00:18<00:30,  1.99it/s]"
     ]
    },
    {
     "name": "stderr",
     "output_type": "stream",
     "text": [
      "\r",
      "sample time step:  40%|████      | 40/100 [00:19<00:30,  1.99it/s]"
     ]
    },
    {
     "name": "stderr",
     "output_type": "stream",
     "text": [
      "\r",
      "sample time step:  41%|████      | 41/100 [00:19<00:29,  1.97it/s]"
     ]
    },
    {
     "name": "stderr",
     "output_type": "stream",
     "text": [
      "\r",
      "sample time step:  42%|████▏     | 42/100 [00:20<00:29,  1.97it/s]"
     ]
    },
    {
     "name": "stderr",
     "output_type": "stream",
     "text": [
      "\r",
      "sample time step:  43%|████▎     | 43/100 [00:20<00:28,  1.97it/s]"
     ]
    },
    {
     "name": "stderr",
     "output_type": "stream",
     "text": [
      "\r",
      "sample time step:  44%|████▍     | 44/100 [00:21<00:28,  1.95it/s]"
     ]
    },
    {
     "name": "stderr",
     "output_type": "stream",
     "text": [
      "\r",
      "sample time step:  45%|████▌     | 45/100 [00:21<00:28,  1.96it/s]"
     ]
    },
    {
     "name": "stderr",
     "output_type": "stream",
     "text": [
      "\r",
      "sample time step:  46%|████▌     | 46/100 [00:22<00:27,  1.97it/s]"
     ]
    },
    {
     "name": "stderr",
     "output_type": "stream",
     "text": [
      "\r",
      "sample time step:  47%|████▋     | 47/100 [00:22<00:26,  1.97it/s]"
     ]
    },
    {
     "name": "stderr",
     "output_type": "stream",
     "text": [
      "\r",
      "sample time step:  48%|████▊     | 48/100 [00:23<00:25,  2.02it/s]"
     ]
    },
    {
     "name": "stderr",
     "output_type": "stream",
     "text": [
      "\r",
      "sample time step:  49%|████▉     | 49/100 [00:23<00:24,  2.09it/s]"
     ]
    },
    {
     "name": "stderr",
     "output_type": "stream",
     "text": [
      "\r",
      "sample time step:  50%|█████     | 50/100 [00:24<00:23,  2.13it/s]"
     ]
    },
    {
     "name": "stderr",
     "output_type": "stream",
     "text": [
      "\r",
      "sample time step:  51%|█████     | 51/100 [00:24<00:22,  2.19it/s]"
     ]
    },
    {
     "name": "stderr",
     "output_type": "stream",
     "text": [
      "\r",
      "sample time step:  52%|█████▏    | 52/100 [00:24<00:21,  2.20it/s]"
     ]
    },
    {
     "name": "stderr",
     "output_type": "stream",
     "text": [
      "\r",
      "sample time step:  53%|█████▎    | 53/100 [00:25<00:22,  2.13it/s]"
     ]
    },
    {
     "name": "stderr",
     "output_type": "stream",
     "text": [
      "\r",
      "sample time step:  54%|█████▍    | 54/100 [00:25<00:22,  2.06it/s]"
     ]
    },
    {
     "name": "stderr",
     "output_type": "stream",
     "text": [
      "\r",
      "sample time step:  55%|█████▌    | 55/100 [00:26<00:21,  2.09it/s]"
     ]
    },
    {
     "name": "stderr",
     "output_type": "stream",
     "text": [
      "\r",
      "sample time step:  56%|█████▌    | 56/100 [00:26<00:21,  2.08it/s]"
     ]
    },
    {
     "name": "stderr",
     "output_type": "stream",
     "text": [
      "\r",
      "sample time step:  57%|█████▋    | 57/100 [00:27<00:21,  2.04it/s]"
     ]
    },
    {
     "name": "stderr",
     "output_type": "stream",
     "text": [
      "\r",
      "sample time step:  58%|█████▊    | 58/100 [00:27<00:20,  2.03it/s]"
     ]
    },
    {
     "name": "stderr",
     "output_type": "stream",
     "text": [
      "\r",
      "sample time step:  59%|█████▉    | 59/100 [00:28<00:20,  1.98it/s]"
     ]
    },
    {
     "name": "stderr",
     "output_type": "stream",
     "text": [
      "\r",
      "sample time step:  60%|██████    | 60/100 [00:29<00:20,  1.96it/s]"
     ]
    },
    {
     "name": "stderr",
     "output_type": "stream",
     "text": [
      "\r",
      "sample time step:  61%|██████    | 61/100 [00:29<00:19,  1.96it/s]"
     ]
    },
    {
     "name": "stderr",
     "output_type": "stream",
     "text": [
      "\r",
      "sample time step:  62%|██████▏   | 62/100 [00:30<00:19,  1.99it/s]"
     ]
    },
    {
     "name": "stderr",
     "output_type": "stream",
     "text": [
      "\r",
      "sample time step:  63%|██████▎   | 63/100 [00:30<00:18,  2.04it/s]"
     ]
    },
    {
     "name": "stderr",
     "output_type": "stream",
     "text": [
      "\r",
      "sample time step:  64%|██████▍   | 64/100 [00:30<00:17,  2.06it/s]"
     ]
    },
    {
     "name": "stderr",
     "output_type": "stream",
     "text": [
      "\r",
      "sample time step:  65%|██████▌   | 65/100 [00:31<00:16,  2.11it/s]"
     ]
    },
    {
     "name": "stderr",
     "output_type": "stream",
     "text": [
      "\r",
      "sample time step:  66%|██████▌   | 66/100 [00:31<00:15,  2.20it/s]"
     ]
    },
    {
     "name": "stderr",
     "output_type": "stream",
     "text": [
      "\r",
      "sample time step:  67%|██████▋   | 67/100 [00:32<00:14,  2.21it/s]"
     ]
    },
    {
     "name": "stderr",
     "output_type": "stream",
     "text": [
      "\r",
      "sample time step:  68%|██████▊   | 68/100 [00:32<00:14,  2.14it/s]"
     ]
    },
    {
     "name": "stderr",
     "output_type": "stream",
     "text": [
      "\r",
      "sample time step:  69%|██████▉   | 69/100 [00:33<00:14,  2.10it/s]"
     ]
    },
    {
     "name": "stderr",
     "output_type": "stream",
     "text": [
      "\r",
      "sample time step:  70%|███████   | 70/100 [00:33<00:14,  2.09it/s]"
     ]
    },
    {
     "name": "stderr",
     "output_type": "stream",
     "text": [
      "\r",
      "sample time step:  71%|███████   | 71/100 [00:34<00:13,  2.10it/s]"
     ]
    },
    {
     "name": "stderr",
     "output_type": "stream",
     "text": [
      "\r",
      "sample time step:  72%|███████▏  | 72/100 [00:34<00:13,  2.12it/s]"
     ]
    },
    {
     "name": "stderr",
     "output_type": "stream",
     "text": [
      "\r",
      "sample time step:  73%|███████▎  | 73/100 [00:35<00:12,  2.15it/s]"
     ]
    },
    {
     "name": "stderr",
     "output_type": "stream",
     "text": [
      "\r",
      "sample time step:  74%|███████▍  | 74/100 [00:35<00:12,  2.11it/s]"
     ]
    },
    {
     "name": "stderr",
     "output_type": "stream",
     "text": [
      "\r",
      "sample time step:  75%|███████▌  | 75/100 [00:36<00:12,  2.06it/s]"
     ]
    },
    {
     "name": "stderr",
     "output_type": "stream",
     "text": [
      "\r",
      "sample time step:  76%|███████▌  | 76/100 [00:36<00:11,  2.07it/s]"
     ]
    },
    {
     "name": "stderr",
     "output_type": "stream",
     "text": [
      "\r",
      "sample time step:  77%|███████▋  | 77/100 [00:37<00:11,  2.07it/s]"
     ]
    },
    {
     "name": "stderr",
     "output_type": "stream",
     "text": [
      "\r",
      "sample time step:  78%|███████▊  | 78/100 [00:37<00:10,  2.08it/s]"
     ]
    },
    {
     "name": "stderr",
     "output_type": "stream",
     "text": [
      "\r",
      "sample time step:  79%|███████▉  | 79/100 [00:37<00:09,  2.15it/s]"
     ]
    },
    {
     "name": "stderr",
     "output_type": "stream",
     "text": [
      "\r",
      "sample time step:  80%|████████  | 80/100 [00:38<00:09,  2.20it/s]"
     ]
    },
    {
     "name": "stderr",
     "output_type": "stream",
     "text": [
      "\r",
      "sample time step:  81%|████████  | 81/100 [00:38<00:08,  2.24it/s]"
     ]
    },
    {
     "name": "stderr",
     "output_type": "stream",
     "text": [
      "\r",
      "sample time step:  82%|████████▏ | 82/100 [00:39<00:08,  2.22it/s]"
     ]
    },
    {
     "name": "stderr",
     "output_type": "stream",
     "text": [
      "\r",
      "sample time step:  83%|████████▎ | 83/100 [00:39<00:07,  2.23it/s]"
     ]
    },
    {
     "name": "stderr",
     "output_type": "stream",
     "text": [
      "\r",
      "sample time step:  84%|████████▍ | 84/100 [00:40<00:07,  2.19it/s]"
     ]
    },
    {
     "name": "stderr",
     "output_type": "stream",
     "text": [
      "\r",
      "sample time step:  85%|████████▌ | 85/100 [00:40<00:07,  2.14it/s]"
     ]
    },
    {
     "name": "stderr",
     "output_type": "stream",
     "text": [
      "\r",
      "sample time step:  86%|████████▌ | 86/100 [00:41<00:06,  2.11it/s]"
     ]
    },
    {
     "name": "stderr",
     "output_type": "stream",
     "text": [
      "\r",
      "sample time step:  87%|████████▋ | 87/100 [00:41<00:06,  2.08it/s]"
     ]
    },
    {
     "name": "stderr",
     "output_type": "stream",
     "text": [
      "\r",
      "sample time step:  88%|████████▊ | 88/100 [00:42<00:05,  2.07it/s]"
     ]
    },
    {
     "name": "stderr",
     "output_type": "stream",
     "text": [
      "\r",
      "sample time step:  89%|████████▉ | 89/100 [00:42<00:05,  2.09it/s]"
     ]
    },
    {
     "name": "stderr",
     "output_type": "stream",
     "text": [
      "\r",
      "sample time step:  90%|█████████ | 90/100 [00:43<00:04,  2.09it/s]"
     ]
    },
    {
     "name": "stderr",
     "output_type": "stream",
     "text": [
      "\r",
      "sample time step:  91%|█████████ | 91/100 [00:43<00:04,  2.06it/s]"
     ]
    },
    {
     "name": "stderr",
     "output_type": "stream",
     "text": [
      "\r",
      "sample time step:  92%|█████████▏| 92/100 [00:44<00:03,  2.04it/s]"
     ]
    },
    {
     "name": "stderr",
     "output_type": "stream",
     "text": [
      "\r",
      "sample time step:  93%|█████████▎| 93/100 [00:44<00:03,  2.02it/s]"
     ]
    },
    {
     "name": "stderr",
     "output_type": "stream",
     "text": [
      "\r",
      "sample time step:  94%|█████████▍| 94/100 [00:45<00:02,  2.01it/s]"
     ]
    },
    {
     "name": "stderr",
     "output_type": "stream",
     "text": [
      "\r",
      "sample time step:  95%|█████████▌| 95/100 [00:45<00:02,  2.07it/s]"
     ]
    },
    {
     "name": "stderr",
     "output_type": "stream",
     "text": [
      "\r",
      "sample time step:  96%|█████████▌| 96/100 [00:46<00:01,  2.11it/s]"
     ]
    },
    {
     "name": "stderr",
     "output_type": "stream",
     "text": [
      "\r",
      "sample time step:  97%|█████████▋| 97/100 [00:46<00:01,  2.14it/s]"
     ]
    },
    {
     "name": "stderr",
     "output_type": "stream",
     "text": [
      "\r",
      "sample time step:  98%|█████████▊| 98/100 [00:46<00:00,  2.14it/s]"
     ]
    },
    {
     "name": "stderr",
     "output_type": "stream",
     "text": [
      "\r",
      "sample time step:  99%|█████████▉| 99/100 [00:47<00:00,  2.10it/s]"
     ]
    },
    {
     "name": "stderr",
     "output_type": "stream",
     "text": [
      "\r",
      "sample time step: 100%|██████████| 100/100 [00:47<00:00,  2.14it/s]"
     ]
    },
    {
     "name": "stderr",
     "output_type": "stream",
     "text": [
      "\r",
      "sample time step: 100%|██████████| 100/100 [00:47<00:00,  2.09it/s]"
     ]
    },
    {
     "name": "stderr",
     "output_type": "stream",
     "text": [
      "\n"
     ]
    },
    {
     "name": "stdout",
     "output_type": "stream",
     "text": [
      "✅ Generated: zh_5.wav\n"
     ]
    },
    {
     "name": "stdout",
     "output_type": "stream",
     "text": [
      "Pass word-notes check.\n",
      "275 275 275\n",
      "Pass word-notes check.\n"
     ]
    },
    {
     "name": "stdout",
     "output_type": "stream",
     "text": [
      "===> gaussion start.\n"
     ]
    },
    {
     "name": "stderr",
     "output_type": "stream",
     "text": [
      "\r",
      "sample time step:   0%|          | 0/100 [00:00<?, ?it/s]"
     ]
    },
    {
     "name": "stderr",
     "output_type": "stream",
     "text": [
      "\r",
      "sample time step:   1%|          | 1/100 [00:00<00:32,  3.01it/s]"
     ]
    },
    {
     "name": "stderr",
     "output_type": "stream",
     "text": [
      "\r",
      "sample time step:   2%|▏         | 2/100 [00:00<00:32,  3.05it/s]"
     ]
    },
    {
     "name": "stderr",
     "output_type": "stream",
     "text": [
      "\r",
      "sample time step:   3%|▎         | 3/100 [00:01<00:34,  2.80it/s]"
     ]
    },
    {
     "name": "stderr",
     "output_type": "stream",
     "text": [
      "\r",
      "sample time step:   4%|▍         | 4/100 [00:01<00:34,  2.76it/s]"
     ]
    },
    {
     "name": "stderr",
     "output_type": "stream",
     "text": [
      "\r",
      "sample time step:   5%|▌         | 5/100 [00:01<00:35,  2.70it/s]"
     ]
    },
    {
     "name": "stderr",
     "output_type": "stream",
     "text": [
      "\r",
      "sample time step:   6%|▌         | 6/100 [00:02<00:35,  2.66it/s]"
     ]
    },
    {
     "name": "stderr",
     "output_type": "stream",
     "text": [
      "\r",
      "sample time step:   7%|▋         | 7/100 [00:02<00:35,  2.65it/s]"
     ]
    },
    {
     "name": "stderr",
     "output_type": "stream",
     "text": [
      "\r",
      "sample time step:   8%|▊         | 8/100 [00:02<00:35,  2.60it/s]"
     ]
    },
    {
     "name": "stderr",
     "output_type": "stream",
     "text": [
      "\r",
      "sample time step:   9%|▉         | 9/100 [00:03<00:33,  2.74it/s]"
     ]
    },
    {
     "name": "stderr",
     "output_type": "stream",
     "text": [
      "\r",
      "sample time step:  10%|█         | 10/100 [00:03<00:31,  2.86it/s]"
     ]
    },
    {
     "name": "stderr",
     "output_type": "stream",
     "text": [
      "\r",
      "sample time step:  11%|█         | 11/100 [00:03<00:30,  2.90it/s]"
     ]
    },
    {
     "name": "stderr",
     "output_type": "stream",
     "text": [
      "\r",
      "sample time step:  12%|█▏        | 12/100 [00:04<00:29,  2.96it/s]"
     ]
    },
    {
     "name": "stderr",
     "output_type": "stream",
     "text": [
      "\r",
      "sample time step:  13%|█▎        | 13/100 [00:04<00:29,  2.97it/s]"
     ]
    },
    {
     "name": "stderr",
     "output_type": "stream",
     "text": [
      "\r",
      "sample time step:  14%|█▍        | 14/100 [00:04<00:28,  3.00it/s]"
     ]
    },
    {
     "name": "stderr",
     "output_type": "stream",
     "text": [
      "\r",
      "sample time step:  15%|█▌        | 15/100 [00:05<00:28,  3.01it/s]"
     ]
    },
    {
     "name": "stderr",
     "output_type": "stream",
     "text": [
      "\r",
      "sample time step:  16%|█▌        | 16/100 [00:05<00:27,  3.06it/s]"
     ]
    },
    {
     "name": "stderr",
     "output_type": "stream",
     "text": [
      "\r",
      "sample time step:  17%|█▋        | 17/100 [00:05<00:27,  3.03it/s]"
     ]
    },
    {
     "name": "stderr",
     "output_type": "stream",
     "text": [
      "\r",
      "sample time step:  18%|█▊        | 18/100 [00:06<00:26,  3.05it/s]"
     ]
    },
    {
     "name": "stderr",
     "output_type": "stream",
     "text": [
      "\r",
      "sample time step:  19%|█▉        | 19/100 [00:06<00:26,  3.01it/s]"
     ]
    },
    {
     "name": "stderr",
     "output_type": "stream",
     "text": [
      "\r",
      "sample time step:  20%|██        | 20/100 [00:06<00:26,  2.98it/s]"
     ]
    },
    {
     "name": "stderr",
     "output_type": "stream",
     "text": [
      "\r",
      "sample time step:  21%|██        | 21/100 [00:07<00:26,  2.95it/s]"
     ]
    },
    {
     "name": "stderr",
     "output_type": "stream",
     "text": [
      "\r",
      "sample time step:  22%|██▏       | 22/100 [00:07<00:25,  3.01it/s]"
     ]
    },
    {
     "name": "stderr",
     "output_type": "stream",
     "text": [
      "\r",
      "sample time step:  23%|██▎       | 23/100 [00:07<00:26,  2.85it/s]"
     ]
    },
    {
     "name": "stderr",
     "output_type": "stream",
     "text": [
      "\r",
      "sample time step:  24%|██▍       | 24/100 [00:08<00:27,  2.74it/s]"
     ]
    },
    {
     "name": "stderr",
     "output_type": "stream",
     "text": [
      "\r",
      "sample time step:  25%|██▌       | 25/100 [00:08<00:27,  2.71it/s]"
     ]
    },
    {
     "name": "stderr",
     "output_type": "stream",
     "text": [
      "\r",
      "sample time step:  26%|██▌       | 26/100 [00:09<00:27,  2.65it/s]"
     ]
    },
    {
     "name": "stderr",
     "output_type": "stream",
     "text": [
      "\r",
      "sample time step:  27%|██▋       | 27/100 [00:09<00:27,  2.67it/s]"
     ]
    },
    {
     "name": "stderr",
     "output_type": "stream",
     "text": [
      "\r",
      "sample time step:  28%|██▊       | 28/100 [00:09<00:27,  2.62it/s]"
     ]
    },
    {
     "name": "stderr",
     "output_type": "stream",
     "text": [
      "\r",
      "sample time step:  29%|██▉       | 29/100 [00:10<00:26,  2.65it/s]"
     ]
    },
    {
     "name": "stderr",
     "output_type": "stream",
     "text": [
      "\r",
      "sample time step:  30%|███       | 30/100 [00:10<00:25,  2.73it/s]"
     ]
    },
    {
     "name": "stderr",
     "output_type": "stream",
     "text": [
      "\r",
      "sample time step:  31%|███       | 31/100 [00:10<00:24,  2.82it/s]"
     ]
    },
    {
     "name": "stderr",
     "output_type": "stream",
     "text": [
      "\r",
      "sample time step:  32%|███▏      | 32/100 [00:11<00:23,  2.89it/s]"
     ]
    },
    {
     "name": "stderr",
     "output_type": "stream",
     "text": [
      "\r",
      "sample time step:  33%|███▎      | 33/100 [00:11<00:23,  2.86it/s]"
     ]
    },
    {
     "name": "stderr",
     "output_type": "stream",
     "text": [
      "\r",
      "sample time step:  34%|███▍      | 34/100 [00:12<00:23,  2.78it/s]"
     ]
    },
    {
     "name": "stderr",
     "output_type": "stream",
     "text": [
      "\r",
      "sample time step:  35%|███▌      | 35/100 [00:12<00:23,  2.74it/s]"
     ]
    },
    {
     "name": "stderr",
     "output_type": "stream",
     "text": [
      "\r",
      "sample time step:  36%|███▌      | 36/100 [00:12<00:23,  2.71it/s]"
     ]
    },
    {
     "name": "stderr",
     "output_type": "stream",
     "text": [
      "\r",
      "sample time step:  37%|███▋      | 37/100 [00:13<00:23,  2.73it/s]"
     ]
    },
    {
     "name": "stderr",
     "output_type": "stream",
     "text": [
      "\r",
      "sample time step:  38%|███▊      | 38/100 [00:13<00:21,  2.84it/s]"
     ]
    },
    {
     "name": "stderr",
     "output_type": "stream",
     "text": [
      "\r",
      "sample time step:  39%|███▉      | 39/100 [00:13<00:21,  2.87it/s]"
     ]
    },
    {
     "name": "stderr",
     "output_type": "stream",
     "text": [
      "\r",
      "sample time step:  40%|████      | 40/100 [00:14<00:20,  2.88it/s]"
     ]
    },
    {
     "name": "stderr",
     "output_type": "stream",
     "text": [
      "\r",
      "sample time step:  41%|████      | 41/100 [00:14<00:21,  2.80it/s]"
     ]
    },
    {
     "name": "stderr",
     "output_type": "stream",
     "text": [
      "\r",
      "sample time step:  42%|████▏     | 42/100 [00:14<00:21,  2.72it/s]"
     ]
    },
    {
     "name": "stderr",
     "output_type": "stream",
     "text": [
      "\r",
      "sample time step:  43%|████▎     | 43/100 [00:15<00:21,  2.67it/s]"
     ]
    },
    {
     "name": "stderr",
     "output_type": "stream",
     "text": [
      "\r",
      "sample time step:  44%|████▍     | 44/100 [00:15<00:20,  2.73it/s]"
     ]
    },
    {
     "name": "stderr",
     "output_type": "stream",
     "text": [
      "\r",
      "sample time step:  45%|████▌     | 45/100 [00:16<00:20,  2.69it/s]"
     ]
    },
    {
     "name": "stderr",
     "output_type": "stream",
     "text": [
      "\r",
      "sample time step:  46%|████▌     | 46/100 [00:16<00:20,  2.58it/s]"
     ]
    },
    {
     "name": "stderr",
     "output_type": "stream",
     "text": [
      "\r",
      "sample time step:  47%|████▋     | 47/100 [00:16<00:20,  2.57it/s]"
     ]
    },
    {
     "name": "stderr",
     "output_type": "stream",
     "text": [
      "\r",
      "sample time step:  48%|████▊     | 48/100 [00:17<00:19,  2.67it/s]"
     ]
    },
    {
     "name": "stderr",
     "output_type": "stream",
     "text": [
      "\r",
      "sample time step:  49%|████▉     | 49/100 [00:17<00:19,  2.68it/s]"
     ]
    },
    {
     "name": "stderr",
     "output_type": "stream",
     "text": [
      "\r",
      "sample time step:  50%|█████     | 50/100 [00:17<00:18,  2.67it/s]"
     ]
    },
    {
     "name": "stderr",
     "output_type": "stream",
     "text": [
      "\r",
      "sample time step:  51%|█████     | 51/100 [00:18<00:17,  2.76it/s]"
     ]
    },
    {
     "name": "stderr",
     "output_type": "stream",
     "text": [
      "\r",
      "sample time step:  52%|█████▏    | 52/100 [00:18<00:16,  2.85it/s]"
     ]
    },
    {
     "name": "stderr",
     "output_type": "stream",
     "text": [
      "\r",
      "sample time step:  53%|█████▎    | 53/100 [00:18<00:16,  2.90it/s]"
     ]
    },
    {
     "name": "stderr",
     "output_type": "stream",
     "text": [
      "\r",
      "sample time step:  54%|█████▍    | 54/100 [00:19<00:15,  2.97it/s]"
     ]
    },
    {
     "name": "stderr",
     "output_type": "stream",
     "text": [
      "\r",
      "sample time step:  55%|█████▌    | 55/100 [00:19<00:14,  3.03it/s]"
     ]
    },
    {
     "name": "stderr",
     "output_type": "stream",
     "text": [
      "\r",
      "sample time step:  56%|█████▌    | 56/100 [00:19<00:14,  3.06it/s]"
     ]
    },
    {
     "name": "stderr",
     "output_type": "stream",
     "text": [
      "\r",
      "sample time step:  57%|█████▋    | 57/100 [00:20<00:14,  3.04it/s]"
     ]
    },
    {
     "name": "stderr",
     "output_type": "stream",
     "text": [
      "\r",
      "sample time step:  58%|█████▊    | 58/100 [00:20<00:13,  3.06it/s]"
     ]
    },
    {
     "name": "stderr",
     "output_type": "stream",
     "text": [
      "\r",
      "sample time step:  59%|█████▉    | 59/100 [00:20<00:13,  2.95it/s]"
     ]
    },
    {
     "name": "stderr",
     "output_type": "stream",
     "text": [
      "\r",
      "sample time step:  60%|██████    | 60/100 [00:21<00:13,  2.86it/s]"
     ]
    },
    {
     "name": "stderr",
     "output_type": "stream",
     "text": [
      "\r",
      "sample time step:  61%|██████    | 61/100 [00:21<00:13,  2.84it/s]"
     ]
    },
    {
     "name": "stderr",
     "output_type": "stream",
     "text": [
      "\r",
      "sample time step:  62%|██████▏   | 62/100 [00:22<00:13,  2.79it/s]"
     ]
    },
    {
     "name": "stderr",
     "output_type": "stream",
     "text": [
      "\r",
      "sample time step:  63%|██████▎   | 63/100 [00:22<00:12,  2.87it/s]"
     ]
    },
    {
     "name": "stderr",
     "output_type": "stream",
     "text": [
      "\r",
      "sample time step:  64%|██████▍   | 64/100 [00:22<00:12,  2.83it/s]"
     ]
    },
    {
     "name": "stderr",
     "output_type": "stream",
     "text": [
      "\r",
      "sample time step:  65%|██████▌   | 65/100 [00:23<00:12,  2.78it/s]"
     ]
    },
    {
     "name": "stderr",
     "output_type": "stream",
     "text": [
      "\r",
      "sample time step:  66%|██████▌   | 66/100 [00:23<00:12,  2.71it/s]"
     ]
    },
    {
     "name": "stderr",
     "output_type": "stream",
     "text": [
      "\r",
      "sample time step:  67%|██████▋   | 67/100 [00:23<00:12,  2.68it/s]"
     ]
    },
    {
     "name": "stderr",
     "output_type": "stream",
     "text": [
      "\r",
      "sample time step:  68%|██████▊   | 68/100 [00:24<00:12,  2.64it/s]"
     ]
    },
    {
     "name": "stderr",
     "output_type": "stream",
     "text": [
      "\r",
      "sample time step:  69%|██████▉   | 69/100 [00:24<00:11,  2.64it/s]"
     ]
    },
    {
     "name": "stderr",
     "output_type": "stream",
     "text": [
      "\r",
      "sample time step:  70%|███████   | 70/100 [00:24<00:11,  2.63it/s]"
     ]
    },
    {
     "name": "stderr",
     "output_type": "stream",
     "text": [
      "\r",
      "sample time step:  71%|███████   | 71/100 [00:25<00:11,  2.63it/s]"
     ]
    },
    {
     "name": "stderr",
     "output_type": "stream",
     "text": [
      "\r",
      "sample time step:  72%|███████▏  | 72/100 [00:25<00:10,  2.64it/s]"
     ]
    },
    {
     "name": "stderr",
     "output_type": "stream",
     "text": [
      "\r",
      "sample time step:  73%|███████▎  | 73/100 [00:26<00:09,  2.76it/s]"
     ]
    },
    {
     "name": "stderr",
     "output_type": "stream",
     "text": [
      "\r",
      "sample time step:  74%|███████▍  | 74/100 [00:26<00:09,  2.80it/s]"
     ]
    },
    {
     "name": "stderr",
     "output_type": "stream",
     "text": [
      "\r",
      "sample time step:  75%|███████▌  | 75/100 [00:26<00:08,  2.83it/s]"
     ]
    },
    {
     "name": "stderr",
     "output_type": "stream",
     "text": [
      "\r",
      "sample time step:  76%|███████▌  | 76/100 [00:27<00:08,  2.88it/s]"
     ]
    },
    {
     "name": "stderr",
     "output_type": "stream",
     "text": [
      "\r",
      "sample time step:  77%|███████▋  | 77/100 [00:27<00:08,  2.81it/s]"
     ]
    },
    {
     "name": "stderr",
     "output_type": "stream",
     "text": [
      "\r",
      "sample time step:  78%|███████▊  | 78/100 [00:27<00:08,  2.73it/s]"
     ]
    },
    {
     "name": "stderr",
     "output_type": "stream",
     "text": [
      "\r",
      "sample time step:  79%|███████▉  | 79/100 [00:28<00:07,  2.78it/s]"
     ]
    },
    {
     "name": "stderr",
     "output_type": "stream",
     "text": [
      "\r",
      "sample time step:  80%|████████  | 80/100 [00:28<00:07,  2.78it/s]"
     ]
    },
    {
     "name": "stderr",
     "output_type": "stream",
     "text": [
      "\r",
      "sample time step:  81%|████████  | 81/100 [00:28<00:06,  2.77it/s]"
     ]
    },
    {
     "name": "stderr",
     "output_type": "stream",
     "text": [
      "\r",
      "sample time step:  82%|████████▏ | 82/100 [00:29<00:06,  2.79it/s]"
     ]
    },
    {
     "name": "stderr",
     "output_type": "stream",
     "text": [
      "\r",
      "sample time step:  83%|████████▎ | 83/100 [00:29<00:06,  2.78it/s]"
     ]
    },
    {
     "name": "stderr",
     "output_type": "stream",
     "text": [
      "\r",
      "sample time step:  84%|████████▍ | 84/100 [00:30<00:05,  2.78it/s]"
     ]
    },
    {
     "name": "stderr",
     "output_type": "stream",
     "text": [
      "\r",
      "sample time step:  85%|████████▌ | 85/100 [00:30<00:05,  2.85it/s]"
     ]
    },
    {
     "name": "stderr",
     "output_type": "stream",
     "text": [
      "\r",
      "sample time step:  86%|████████▌ | 86/100 [00:30<00:04,  2.92it/s]"
     ]
    },
    {
     "name": "stderr",
     "output_type": "stream",
     "text": [
      "\r",
      "sample time step:  87%|████████▋ | 87/100 [00:31<00:04,  2.84it/s]"
     ]
    },
    {
     "name": "stderr",
     "output_type": "stream",
     "text": [
      "\r",
      "sample time step:  88%|████████▊ | 88/100 [00:31<00:04,  2.78it/s]"
     ]
    },
    {
     "name": "stderr",
     "output_type": "stream",
     "text": [
      "\r",
      "sample time step:  89%|████████▉ | 89/100 [00:31<00:03,  2.76it/s]"
     ]
    },
    {
     "name": "stderr",
     "output_type": "stream",
     "text": [
      "\r",
      "sample time step:  90%|█████████ | 90/100 [00:32<00:03,  2.84it/s]"
     ]
    },
    {
     "name": "stderr",
     "output_type": "stream",
     "text": [
      "\r",
      "sample time step:  91%|█████████ | 91/100 [00:32<00:03,  2.80it/s]"
     ]
    },
    {
     "name": "stderr",
     "output_type": "stream",
     "text": [
      "\r",
      "sample time step:  92%|█████████▏| 92/100 [00:32<00:02,  2.77it/s]"
     ]
    },
    {
     "name": "stderr",
     "output_type": "stream",
     "text": [
      "\r",
      "sample time step:  93%|█████████▎| 93/100 [00:33<00:02,  2.81it/s]"
     ]
    },
    {
     "name": "stderr",
     "output_type": "stream",
     "text": [
      "\r",
      "sample time step:  94%|█████████▍| 94/100 [00:33<00:02,  2.90it/s]"
     ]
    },
    {
     "name": "stderr",
     "output_type": "stream",
     "text": [
      "\r",
      "sample time step:  95%|█████████▌| 95/100 [00:33<00:01,  2.84it/s]"
     ]
    },
    {
     "name": "stderr",
     "output_type": "stream",
     "text": [
      "\r",
      "sample time step:  96%|█████████▌| 96/100 [00:34<00:01,  2.76it/s]"
     ]
    },
    {
     "name": "stderr",
     "output_type": "stream",
     "text": [
      "\r",
      "sample time step:  97%|█████████▋| 97/100 [00:34<00:01,  2.73it/s]"
     ]
    },
    {
     "name": "stderr",
     "output_type": "stream",
     "text": [
      "\r",
      "sample time step:  98%|█████████▊| 98/100 [00:34<00:00,  2.77it/s]"
     ]
    },
    {
     "name": "stderr",
     "output_type": "stream",
     "text": [
      "\r",
      "sample time step:  99%|█████████▉| 99/100 [00:35<00:00,  2.76it/s]"
     ]
    },
    {
     "name": "stderr",
     "output_type": "stream",
     "text": [
      "\r",
      "sample time step: 100%|██████████| 100/100 [00:35<00:00,  2.74it/s]"
     ]
    },
    {
     "name": "stderr",
     "output_type": "stream",
     "text": [
      "\r",
      "sample time step: 100%|██████████| 100/100 [00:35<00:00,  2.80it/s]"
     ]
    },
    {
     "name": "stderr",
     "output_type": "stream",
     "text": [
      "\n"
     ]
    },
    {
     "name": "stdout",
     "output_type": "stream",
     "text": [
      "✅ Generated: zh_23.wav\n"
     ]
    },
    {
     "name": "stdout",
     "output_type": "stream",
     "text": [
      "Pass word-notes check.\n",
      "305 305 305\n",
      "Pass word-notes check.\n"
     ]
    },
    {
     "name": "stdout",
     "output_type": "stream",
     "text": [
      "===> gaussion start.\n"
     ]
    },
    {
     "name": "stderr",
     "output_type": "stream",
     "text": [
      "\r",
      "sample time step:   0%|          | 0/100 [00:00<?, ?it/s]"
     ]
    },
    {
     "name": "stderr",
     "output_type": "stream",
     "text": [
      "\r",
      "sample time step:   1%|          | 1/100 [00:00<00:38,  2.54it/s]"
     ]
    },
    {
     "name": "stderr",
     "output_type": "stream",
     "text": [
      "\r",
      "sample time step:   2%|▏         | 2/100 [00:00<00:42,  2.33it/s]"
     ]
    },
    {
     "name": "stderr",
     "output_type": "stream",
     "text": [
      "\r",
      "sample time step:   3%|▎         | 3/100 [00:01<00:41,  2.33it/s]"
     ]
    },
    {
     "name": "stderr",
     "output_type": "stream",
     "text": [
      "\r",
      "sample time step:   4%|▍         | 4/100 [00:01<00:42,  2.29it/s]"
     ]
    },
    {
     "name": "stderr",
     "output_type": "stream",
     "text": [
      "\r",
      "sample time step:   5%|▌         | 5/100 [00:02<00:40,  2.32it/s]"
     ]
    },
    {
     "name": "stderr",
     "output_type": "stream",
     "text": [
      "\r",
      "sample time step:   6%|▌         | 6/100 [00:02<00:38,  2.42it/s]"
     ]
    },
    {
     "name": "stderr",
     "output_type": "stream",
     "text": [
      "\r",
      "sample time step:   7%|▋         | 7/100 [00:02<00:36,  2.51it/s]"
     ]
    },
    {
     "name": "stderr",
     "output_type": "stream",
     "text": [
      "\r",
      "sample time step:   8%|▊         | 8/100 [00:03<00:35,  2.57it/s]"
     ]
    },
    {
     "name": "stderr",
     "output_type": "stream",
     "text": [
      "\r",
      "sample time step:   9%|▉         | 9/100 [00:03<00:35,  2.58it/s]"
     ]
    },
    {
     "name": "stderr",
     "output_type": "stream",
     "text": [
      "\r",
      "sample time step:  10%|█         | 10/100 [00:04<00:35,  2.52it/s]"
     ]
    },
    {
     "name": "stderr",
     "output_type": "stream",
     "text": [
      "\r",
      "sample time step:  11%|█         | 11/100 [00:04<00:36,  2.42it/s]"
     ]
    },
    {
     "name": "stderr",
     "output_type": "stream",
     "text": [
      "\r",
      "sample time step:  12%|█▏        | 12/100 [00:04<00:37,  2.32it/s]"
     ]
    },
    {
     "name": "stderr",
     "output_type": "stream",
     "text": [
      "\r",
      "sample time step:  13%|█▎        | 13/100 [00:05<00:36,  2.38it/s]"
     ]
    },
    {
     "name": "stderr",
     "output_type": "stream",
     "text": [
      "\r",
      "sample time step:  14%|█▍        | 14/100 [00:05<00:36,  2.38it/s]"
     ]
    },
    {
     "name": "stderr",
     "output_type": "stream",
     "text": [
      "\r",
      "sample time step:  15%|█▌        | 15/100 [00:06<00:36,  2.35it/s]"
     ]
    },
    {
     "name": "stderr",
     "output_type": "stream",
     "text": [
      "\r",
      "sample time step:  16%|█▌        | 16/100 [00:06<00:35,  2.37it/s]"
     ]
    },
    {
     "name": "stderr",
     "output_type": "stream",
     "text": [
      "\r",
      "sample time step:  17%|█▋        | 17/100 [00:07<00:34,  2.38it/s]"
     ]
    },
    {
     "name": "stderr",
     "output_type": "stream",
     "text": [
      "\r",
      "sample time step:  18%|█▊        | 18/100 [00:07<00:34,  2.39it/s]"
     ]
    },
    {
     "name": "stderr",
     "output_type": "stream",
     "text": [
      "\r",
      "sample time step:  19%|█▉        | 19/100 [00:07<00:33,  2.38it/s]"
     ]
    },
    {
     "name": "stderr",
     "output_type": "stream",
     "text": [
      "\r",
      "sample time step:  20%|██        | 20/100 [00:08<00:33,  2.42it/s]"
     ]
    },
    {
     "name": "stderr",
     "output_type": "stream",
     "text": [
      "\r",
      "sample time step:  21%|██        | 21/100 [00:08<00:31,  2.50it/s]"
     ]
    },
    {
     "name": "stderr",
     "output_type": "stream",
     "text": [
      "\r",
      "sample time step:  22%|██▏       | 22/100 [00:09<00:30,  2.54it/s]"
     ]
    },
    {
     "name": "stderr",
     "output_type": "stream",
     "text": [
      "\r",
      "sample time step:  23%|██▎       | 23/100 [00:09<00:29,  2.58it/s]"
     ]
    },
    {
     "name": "stderr",
     "output_type": "stream",
     "text": [
      "\r",
      "sample time step:  24%|██▍       | 24/100 [00:09<00:29,  2.61it/s]"
     ]
    },
    {
     "name": "stderr",
     "output_type": "stream",
     "text": [
      "\r",
      "sample time step:  25%|██▌       | 25/100 [00:10<00:29,  2.58it/s]"
     ]
    },
    {
     "name": "stderr",
     "output_type": "stream",
     "text": [
      "\r",
      "sample time step:  26%|██▌       | 26/100 [00:10<00:28,  2.60it/s]"
     ]
    },
    {
     "name": "stderr",
     "output_type": "stream",
     "text": [
      "\r",
      "sample time step:  27%|██▋       | 27/100 [00:11<00:29,  2.50it/s]"
     ]
    },
    {
     "name": "stderr",
     "output_type": "stream",
     "text": [
      "\r",
      "sample time step:  28%|██▊       | 28/100 [00:11<00:29,  2.43it/s]"
     ]
    },
    {
     "name": "stderr",
     "output_type": "stream",
     "text": [
      "\r",
      "sample time step:  29%|██▉       | 29/100 [00:11<00:29,  2.40it/s]"
     ]
    },
    {
     "name": "stderr",
     "output_type": "stream",
     "text": [
      "\r",
      "sample time step:  30%|███       | 30/100 [00:12<00:29,  2.37it/s]"
     ]
    },
    {
     "name": "stderr",
     "output_type": "stream",
     "text": [
      "\r",
      "sample time step:  31%|███       | 31/100 [00:12<00:28,  2.45it/s]"
     ]
    },
    {
     "name": "stderr",
     "output_type": "stream",
     "text": [
      "\r",
      "sample time step:  32%|███▏      | 32/100 [00:13<00:28,  2.40it/s]"
     ]
    },
    {
     "name": "stderr",
     "output_type": "stream",
     "text": [
      "\r",
      "sample time step:  33%|███▎      | 33/100 [00:13<00:28,  2.36it/s]"
     ]
    },
    {
     "name": "stderr",
     "output_type": "stream",
     "text": [
      "\r",
      "sample time step:  34%|███▍      | 34/100 [00:13<00:26,  2.45it/s]"
     ]
    },
    {
     "name": "stderr",
     "output_type": "stream",
     "text": [
      "\r",
      "sample time step:  35%|███▌      | 35/100 [00:14<00:26,  2.42it/s]"
     ]
    },
    {
     "name": "stderr",
     "output_type": "stream",
     "text": [
      "\r",
      "sample time step:  36%|███▌      | 36/100 [00:14<00:26,  2.40it/s]"
     ]
    },
    {
     "name": "stderr",
     "output_type": "stream",
     "text": [
      "\r",
      "sample time step:  37%|███▋      | 37/100 [00:15<00:25,  2.45it/s]"
     ]
    },
    {
     "name": "stderr",
     "output_type": "stream",
     "text": [
      "\r",
      "sample time step:  38%|███▊      | 38/100 [00:15<00:24,  2.53it/s]"
     ]
    },
    {
     "name": "stderr",
     "output_type": "stream",
     "text": [
      "\r",
      "sample time step:  39%|███▉      | 39/100 [00:15<00:24,  2.54it/s]"
     ]
    },
    {
     "name": "stderr",
     "output_type": "stream",
     "text": [
      "\r",
      "sample time step:  40%|████      | 40/100 [00:16<00:23,  2.59it/s]"
     ]
    },
    {
     "name": "stderr",
     "output_type": "stream",
     "text": [
      "\r",
      "sample time step:  41%|████      | 41/100 [00:16<00:23,  2.52it/s]"
     ]
    },
    {
     "name": "stderr",
     "output_type": "stream",
     "text": [
      "\r",
      "sample time step:  42%|████▏     | 42/100 [00:17<00:22,  2.52it/s]"
     ]
    },
    {
     "name": "stderr",
     "output_type": "stream",
     "text": [
      "\r",
      "sample time step:  43%|████▎     | 43/100 [00:17<00:23,  2.42it/s]"
     ]
    },
    {
     "name": "stderr",
     "output_type": "stream",
     "text": [
      "\r",
      "sample time step:  44%|████▍     | 44/100 [00:18<00:23,  2.38it/s]"
     ]
    },
    {
     "name": "stderr",
     "output_type": "stream",
     "text": [
      "\r",
      "sample time step:  45%|████▌     | 45/100 [00:18<00:22,  2.42it/s]"
     ]
    },
    {
     "name": "stderr",
     "output_type": "stream",
     "text": [
      "\r",
      "sample time step:  46%|████▌     | 46/100 [00:18<00:21,  2.48it/s]"
     ]
    },
    {
     "name": "stderr",
     "output_type": "stream",
     "text": [
      "\r",
      "sample time step:  47%|████▋     | 47/100 [00:19<00:22,  2.40it/s]"
     ]
    },
    {
     "name": "stderr",
     "output_type": "stream",
     "text": [
      "\r",
      "sample time step:  48%|████▊     | 48/100 [00:19<00:22,  2.33it/s]"
     ]
    },
    {
     "name": "stderr",
     "output_type": "stream",
     "text": [
      "\r",
      "sample time step:  49%|████▉     | 49/100 [00:20<00:21,  2.35it/s]"
     ]
    },
    {
     "name": "stderr",
     "output_type": "stream",
     "text": [
      "\r",
      "sample time step:  50%|█████     | 50/100 [00:20<00:21,  2.31it/s]"
     ]
    },
    {
     "name": "stderr",
     "output_type": "stream",
     "text": [
      "\r",
      "sample time step:  51%|█████     | 51/100 [00:20<00:21,  2.29it/s]"
     ]
    },
    {
     "name": "stderr",
     "output_type": "stream",
     "text": [
      "\r",
      "sample time step:  52%|█████▏    | 52/100 [00:21<00:21,  2.26it/s]"
     ]
    },
    {
     "name": "stderr",
     "output_type": "stream",
     "text": [
      "\r",
      "sample time step:  53%|█████▎    | 53/100 [00:21<00:20,  2.28it/s]"
     ]
    },
    {
     "name": "stderr",
     "output_type": "stream",
     "text": [
      "\r",
      "sample time step:  54%|█████▍    | 54/100 [00:22<00:19,  2.38it/s]"
     ]
    },
    {
     "name": "stderr",
     "output_type": "stream",
     "text": [
      "\r",
      "sample time step:  55%|█████▌    | 55/100 [00:22<00:18,  2.48it/s]"
     ]
    },
    {
     "name": "stderr",
     "output_type": "stream",
     "text": [
      "\r",
      "sample time step:  56%|█████▌    | 56/100 [00:23<00:17,  2.51it/s]"
     ]
    },
    {
     "name": "stderr",
     "output_type": "stream",
     "text": [
      "\r",
      "sample time step:  57%|█████▋    | 57/100 [00:23<00:17,  2.49it/s]"
     ]
    },
    {
     "name": "stderr",
     "output_type": "stream",
     "text": [
      "\r",
      "sample time step:  58%|█████▊    | 58/100 [00:23<00:17,  2.44it/s]"
     ]
    },
    {
     "name": "stderr",
     "output_type": "stream",
     "text": [
      "\r",
      "sample time step:  59%|█████▉    | 59/100 [00:24<00:17,  2.39it/s]"
     ]
    },
    {
     "name": "stderr",
     "output_type": "stream",
     "text": [
      "\r",
      "sample time step:  60%|██████    | 60/100 [00:24<00:16,  2.47it/s]"
     ]
    },
    {
     "name": "stderr",
     "output_type": "stream",
     "text": [
      "\r",
      "sample time step:  61%|██████    | 61/100 [00:25<00:15,  2.46it/s]"
     ]
    },
    {
     "name": "stderr",
     "output_type": "stream",
     "text": [
      "\r",
      "sample time step:  62%|██████▏   | 62/100 [00:25<00:14,  2.53it/s]"
     ]
    },
    {
     "name": "stderr",
     "output_type": "stream",
     "text": [
      "\r",
      "sample time step:  63%|██████▎   | 63/100 [00:25<00:14,  2.57it/s]"
     ]
    },
    {
     "name": "stderr",
     "output_type": "stream",
     "text": [
      "\r",
      "sample time step:  64%|██████▍   | 64/100 [00:26<00:14,  2.48it/s]"
     ]
    },
    {
     "name": "stderr",
     "output_type": "stream",
     "text": [
      "\r",
      "sample time step:  65%|██████▌   | 65/100 [00:26<00:14,  2.39it/s]"
     ]
    },
    {
     "name": "stderr",
     "output_type": "stream",
     "text": [
      "\r",
      "sample time step:  66%|██████▌   | 66/100 [00:27<00:14,  2.31it/s]"
     ]
    },
    {
     "name": "stderr",
     "output_type": "stream",
     "text": [
      "\r",
      "sample time step:  67%|██████▋   | 67/100 [00:27<00:14,  2.26it/s]"
     ]
    },
    {
     "name": "stderr",
     "output_type": "stream",
     "text": [
      "\r",
      "sample time step:  68%|██████▊   | 68/100 [00:28<00:14,  2.25it/s]"
     ]
    },
    {
     "name": "stderr",
     "output_type": "stream",
     "text": [
      "\r",
      "sample time step:  69%|██████▉   | 69/100 [00:28<00:13,  2.26it/s]"
     ]
    },
    {
     "name": "stderr",
     "output_type": "stream",
     "text": [
      "\r",
      "sample time step:  70%|███████   | 70/100 [00:28<00:12,  2.33it/s]"
     ]
    },
    {
     "name": "stderr",
     "output_type": "stream",
     "text": [
      "\r",
      "sample time step:  71%|███████   | 71/100 [00:29<00:11,  2.43it/s]"
     ]
    },
    {
     "name": "stderr",
     "output_type": "stream",
     "text": [
      "\r",
      "sample time step:  72%|███████▏  | 72/100 [00:29<00:11,  2.48it/s]"
     ]
    },
    {
     "name": "stderr",
     "output_type": "stream",
     "text": [
      "\r",
      "sample time step:  73%|███████▎  | 73/100 [00:30<00:10,  2.49it/s]"
     ]
    },
    {
     "name": "stderr",
     "output_type": "stream",
     "text": [
      "\r",
      "sample time step:  74%|███████▍  | 74/100 [00:30<00:10,  2.42it/s]"
     ]
    },
    {
     "name": "stderr",
     "output_type": "stream",
     "text": [
      "\r",
      "sample time step:  75%|███████▌  | 75/100 [00:30<00:10,  2.38it/s]"
     ]
    },
    {
     "name": "stderr",
     "output_type": "stream",
     "text": [
      "\r",
      "sample time step:  76%|███████▌  | 76/100 [00:31<00:09,  2.45it/s]"
     ]
    },
    {
     "name": "stderr",
     "output_type": "stream",
     "text": [
      "\r",
      "sample time step:  77%|███████▋  | 77/100 [00:31<00:09,  2.53it/s]"
     ]
    },
    {
     "name": "stderr",
     "output_type": "stream",
     "text": [
      "\r",
      "sample time step:  78%|███████▊  | 78/100 [00:32<00:08,  2.59it/s]"
     ]
    },
    {
     "name": "stderr",
     "output_type": "stream",
     "text": [
      "\r",
      "sample time step:  79%|███████▉  | 79/100 [00:32<00:07,  2.64it/s]"
     ]
    },
    {
     "name": "stderr",
     "output_type": "stream",
     "text": [
      "\r",
      "sample time step:  80%|████████  | 80/100 [00:32<00:07,  2.67it/s]"
     ]
    },
    {
     "name": "stderr",
     "output_type": "stream",
     "text": [
      "\r",
      "sample time step:  81%|████████  | 81/100 [00:33<00:07,  2.67it/s]"
     ]
    },
    {
     "name": "stderr",
     "output_type": "stream",
     "text": [
      "\r",
      "sample time step:  82%|████████▏ | 82/100 [00:33<00:06,  2.70it/s]"
     ]
    },
    {
     "name": "stderr",
     "output_type": "stream",
     "text": [
      "\r",
      "sample time step:  83%|████████▎ | 83/100 [00:33<00:06,  2.57it/s]"
     ]
    },
    {
     "name": "stderr",
     "output_type": "stream",
     "text": [
      "\r",
      "sample time step:  84%|████████▍ | 84/100 [00:34<00:06,  2.51it/s]"
     ]
    },
    {
     "name": "stderr",
     "output_type": "stream",
     "text": [
      "\r",
      "sample time step:  85%|████████▌ | 85/100 [00:34<00:06,  2.40it/s]"
     ]
    },
    {
     "name": "stderr",
     "output_type": "stream",
     "text": [
      "\r",
      "sample time step:  86%|████████▌ | 86/100 [00:35<00:05,  2.38it/s]"
     ]
    },
    {
     "name": "stderr",
     "output_type": "stream",
     "text": [
      "\r",
      "sample time step:  87%|████████▋ | 87/100 [00:35<00:05,  2.37it/s]"
     ]
    },
    {
     "name": "stderr",
     "output_type": "stream",
     "text": [
      "\r",
      "sample time step:  88%|████████▊ | 88/100 [00:36<00:05,  2.36it/s]"
     ]
    },
    {
     "name": "stderr",
     "output_type": "stream",
     "text": [
      "\r",
      "sample time step:  89%|████████▉ | 89/100 [00:36<00:04,  2.43it/s]"
     ]
    },
    {
     "name": "stderr",
     "output_type": "stream",
     "text": [
      "\r",
      "sample time step:  90%|█████████ | 90/100 [00:36<00:04,  2.38it/s]"
     ]
    },
    {
     "name": "stderr",
     "output_type": "stream",
     "text": [
      "\r",
      "sample time step:  91%|█████████ | 91/100 [00:37<00:03,  2.36it/s]"
     ]
    },
    {
     "name": "stderr",
     "output_type": "stream",
     "text": [
      "\r",
      "sample time step:  92%|█████████▏| 92/100 [00:37<00:03,  2.39it/s]"
     ]
    },
    {
     "name": "stderr",
     "output_type": "stream",
     "text": [
      "\r",
      "sample time step:  93%|█████████▎| 93/100 [00:38<00:02,  2.44it/s]"
     ]
    },
    {
     "name": "stderr",
     "output_type": "stream",
     "text": [
      "\r",
      "sample time step:  94%|█████████▍| 94/100 [00:38<00:02,  2.53it/s]"
     ]
    },
    {
     "name": "stderr",
     "output_type": "stream",
     "text": [
      "\r",
      "sample time step:  95%|█████████▌| 95/100 [00:38<00:01,  2.59it/s]"
     ]
    },
    {
     "name": "stderr",
     "output_type": "stream",
     "text": [
      "\r",
      "sample time step:  96%|█████████▌| 96/100 [00:39<00:01,  2.59it/s]"
     ]
    },
    {
     "name": "stderr",
     "output_type": "stream",
     "text": [
      "\r",
      "sample time step:  97%|█████████▋| 97/100 [00:39<00:01,  2.61it/s]"
     ]
    },
    {
     "name": "stderr",
     "output_type": "stream",
     "text": [
      "\r",
      "sample time step:  98%|█████████▊| 98/100 [00:40<00:00,  2.62it/s]"
     ]
    },
    {
     "name": "stderr",
     "output_type": "stream",
     "text": [
      "\r",
      "sample time step:  99%|█████████▉| 99/100 [00:40<00:00,  2.57it/s]"
     ]
    },
    {
     "name": "stderr",
     "output_type": "stream",
     "text": [
      "\r",
      "sample time step: 100%|██████████| 100/100 [00:40<00:00,  2.49it/s]"
     ]
    },
    {
     "name": "stderr",
     "output_type": "stream",
     "text": [
      "\r",
      "sample time step: 100%|██████████| 100/100 [00:40<00:00,  2.45it/s]"
     ]
    },
    {
     "name": "stderr",
     "output_type": "stream",
     "text": [
      "\n"
     ]
    },
    {
     "name": "stdout",
     "output_type": "stream",
     "text": [
      "✅ Generated: zh_14.wav\n"
     ]
    },
    {
     "name": "stdout",
     "output_type": "stream",
     "text": [
      "Pass word-notes check.\n",
      "234 234 234\n",
      "Pass word-notes check.\n"
     ]
    },
    {
     "name": "stdout",
     "output_type": "stream",
     "text": [
      "===> gaussion start.\n"
     ]
    },
    {
     "name": "stderr",
     "output_type": "stream",
     "text": [
      "\r",
      "sample time step:   0%|          | 0/100 [00:00<?, ?it/s]"
     ]
    },
    {
     "name": "stderr",
     "output_type": "stream",
     "text": [
      "\r",
      "sample time step:   1%|          | 1/100 [00:00<00:35,  2.82it/s]"
     ]
    },
    {
     "name": "stderr",
     "output_type": "stream",
     "text": [
      "\r",
      "sample time step:   2%|▏         | 2/100 [00:00<00:33,  2.93it/s]"
     ]
    },
    {
     "name": "stderr",
     "output_type": "stream",
     "text": [
      "\r",
      "sample time step:   3%|▎         | 3/100 [00:00<00:31,  3.05it/s]"
     ]
    },
    {
     "name": "stderr",
     "output_type": "stream",
     "text": [
      "\r",
      "sample time step:   4%|▍         | 4/100 [00:01<00:32,  2.95it/s]"
     ]
    },
    {
     "name": "stderr",
     "output_type": "stream",
     "text": [
      "\r",
      "sample time step:   5%|▌         | 5/100 [00:01<00:32,  2.91it/s]"
     ]
    },
    {
     "name": "stderr",
     "output_type": "stream",
     "text": [
      "\r",
      "sample time step:   6%|▌         | 6/100 [00:02<00:32,  2.88it/s]"
     ]
    },
    {
     "name": "stderr",
     "output_type": "stream",
     "text": [
      "\r",
      "sample time step:   7%|▋         | 7/100 [00:02<00:32,  2.90it/s]"
     ]
    },
    {
     "name": "stderr",
     "output_type": "stream",
     "text": [
      "\r",
      "sample time step:   8%|▊         | 8/100 [00:02<00:30,  2.97it/s]"
     ]
    },
    {
     "name": "stderr",
     "output_type": "stream",
     "text": [
      "\r",
      "sample time step:   9%|▉         | 9/100 [00:03<00:31,  2.93it/s]"
     ]
    },
    {
     "name": "stderr",
     "output_type": "stream",
     "text": [
      "\r",
      "sample time step:  10%|█         | 10/100 [00:03<00:30,  2.96it/s]"
     ]
    },
    {
     "name": "stderr",
     "output_type": "stream",
     "text": [
      "\r",
      "sample time step:  11%|█         | 11/100 [00:03<00:28,  3.09it/s]"
     ]
    },
    {
     "name": "stderr",
     "output_type": "stream",
     "text": [
      "\r",
      "sample time step:  12%|█▏        | 12/100 [00:04<00:28,  3.08it/s]"
     ]
    },
    {
     "name": "stderr",
     "output_type": "stream",
     "text": [
      "\r",
      "sample time step:  13%|█▎        | 13/100 [00:04<00:28,  3.04it/s]"
     ]
    },
    {
     "name": "stderr",
     "output_type": "stream",
     "text": [
      "\r",
      "sample time step:  14%|█▍        | 14/100 [00:04<00:28,  3.02it/s]"
     ]
    },
    {
     "name": "stderr",
     "output_type": "stream",
     "text": [
      "\r",
      "sample time step:  15%|█▌        | 15/100 [00:05<00:28,  3.01it/s]"
     ]
    },
    {
     "name": "stderr",
     "output_type": "stream",
     "text": [
      "\r",
      "sample time step:  16%|█▌        | 16/100 [00:05<00:27,  3.00it/s]"
     ]
    },
    {
     "name": "stderr",
     "output_type": "stream",
     "text": [
      "\r",
      "sample time step:  17%|█▋        | 17/100 [00:05<00:27,  3.02it/s]"
     ]
    },
    {
     "name": "stderr",
     "output_type": "stream",
     "text": [
      "\r",
      "sample time step:  18%|█▊        | 18/100 [00:05<00:26,  3.13it/s]"
     ]
    },
    {
     "name": "stderr",
     "output_type": "stream",
     "text": [
      "\r",
      "sample time step:  19%|█▉        | 19/100 [00:06<00:26,  3.07it/s]"
     ]
    },
    {
     "name": "stderr",
     "output_type": "stream",
     "text": [
      "\r",
      "sample time step:  20%|██        | 20/100 [00:06<00:25,  3.12it/s]"
     ]
    },
    {
     "name": "stderr",
     "output_type": "stream",
     "text": [
      "\r",
      "sample time step:  21%|██        | 21/100 [00:06<00:24,  3.18it/s]"
     ]
    },
    {
     "name": "stderr",
     "output_type": "stream",
     "text": [
      "\r",
      "sample time step:  22%|██▏       | 22/100 [00:07<00:25,  3.08it/s]"
     ]
    },
    {
     "name": "stderr",
     "output_type": "stream",
     "text": [
      "\r",
      "sample time step:  23%|██▎       | 23/100 [00:07<00:25,  3.01it/s]"
     ]
    },
    {
     "name": "stderr",
     "output_type": "stream",
     "text": [
      "\r",
      "sample time step:  24%|██▍       | 24/100 [00:07<00:25,  2.95it/s]"
     ]
    },
    {
     "name": "stderr",
     "output_type": "stream",
     "text": [
      "\r",
      "sample time step:  25%|██▌       | 25/100 [00:08<00:25,  2.92it/s]"
     ]
    },
    {
     "name": "stderr",
     "output_type": "stream",
     "text": [
      "\r",
      "sample time step:  26%|██▌       | 26/100 [00:08<00:25,  2.94it/s]"
     ]
    },
    {
     "name": "stderr",
     "output_type": "stream",
     "text": [
      "\r",
      "sample time step:  27%|██▋       | 27/100 [00:09<00:24,  2.94it/s]"
     ]
    },
    {
     "name": "stderr",
     "output_type": "stream",
     "text": [
      "\r",
      "sample time step:  28%|██▊       | 28/100 [00:09<00:24,  2.91it/s]"
     ]
    },
    {
     "name": "stderr",
     "output_type": "stream",
     "text": [
      "\r",
      "sample time step:  29%|██▉       | 29/100 [00:09<00:24,  2.95it/s]"
     ]
    },
    {
     "name": "stderr",
     "output_type": "stream",
     "text": [
      "\r",
      "sample time step:  30%|███       | 30/100 [00:09<00:22,  3.07it/s]"
     ]
    },
    {
     "name": "stderr",
     "output_type": "stream",
     "text": [
      "\r",
      "sample time step:  31%|███       | 31/100 [00:10<00:22,  3.02it/s]"
     ]
    },
    {
     "name": "stderr",
     "output_type": "stream",
     "text": [
      "\r",
      "sample time step:  32%|███▏      | 32/100 [00:10<00:22,  3.01it/s]"
     ]
    },
    {
     "name": "stderr",
     "output_type": "stream",
     "text": [
      "\r",
      "sample time step:  33%|███▎      | 33/100 [00:11<00:22,  2.93it/s]"
     ]
    },
    {
     "name": "stderr",
     "output_type": "stream",
     "text": [
      "\r",
      "sample time step:  34%|███▍      | 34/100 [00:11<00:22,  2.93it/s]"
     ]
    },
    {
     "name": "stderr",
     "output_type": "stream",
     "text": [
      "\r",
      "sample time step:  35%|███▌      | 35/100 [00:11<00:22,  2.92it/s]"
     ]
    },
    {
     "name": "stderr",
     "output_type": "stream",
     "text": [
      "\r",
      "sample time step:  36%|███▌      | 36/100 [00:12<00:21,  2.93it/s]"
     ]
    },
    {
     "name": "stderr",
     "output_type": "stream",
     "text": [
      "\r",
      "sample time step:  37%|███▋      | 37/100 [00:12<00:21,  2.92it/s]"
     ]
    },
    {
     "name": "stderr",
     "output_type": "stream",
     "text": [
      "\r",
      "sample time step:  38%|███▊      | 38/100 [00:12<00:20,  3.00it/s]"
     ]
    },
    {
     "name": "stderr",
     "output_type": "stream",
     "text": [
      "\r",
      "sample time step:  39%|███▉      | 39/100 [00:13<00:19,  3.06it/s]"
     ]
    },
    {
     "name": "stderr",
     "output_type": "stream",
     "text": [
      "\r",
      "sample time step:  40%|████      | 40/100 [00:13<00:19,  3.03it/s]"
     ]
    },
    {
     "name": "stderr",
     "output_type": "stream",
     "text": [
      "\r",
      "sample time step:  41%|████      | 41/100 [00:13<00:19,  3.02it/s]"
     ]
    },
    {
     "name": "stderr",
     "output_type": "stream",
     "text": [
      "\r",
      "sample time step:  42%|████▏     | 42/100 [00:14<00:19,  3.04it/s]"
     ]
    },
    {
     "name": "stderr",
     "output_type": "stream",
     "text": [
      "\r",
      "sample time step:  43%|████▎     | 43/100 [00:14<00:19,  2.97it/s]"
     ]
    },
    {
     "name": "stderr",
     "output_type": "stream",
     "text": [
      "\r",
      "sample time step:  44%|████▍     | 44/100 [00:14<00:19,  2.94it/s]"
     ]
    },
    {
     "name": "stderr",
     "output_type": "stream",
     "text": [
      "\r",
      "sample time step:  45%|████▌     | 45/100 [00:15<00:18,  2.99it/s]"
     ]
    },
    {
     "name": "stderr",
     "output_type": "stream",
     "text": [
      "\r",
      "sample time step:  46%|████▌     | 46/100 [00:15<00:17,  3.01it/s]"
     ]
    },
    {
     "name": "stderr",
     "output_type": "stream",
     "text": [
      "\r",
      "sample time step:  47%|████▋     | 47/100 [00:15<00:16,  3.13it/s]"
     ]
    },
    {
     "name": "stderr",
     "output_type": "stream",
     "text": [
      "\r",
      "sample time step:  48%|████▊     | 48/100 [00:15<00:16,  3.21it/s]"
     ]
    },
    {
     "name": "stderr",
     "output_type": "stream",
     "text": [
      "\r",
      "sample time step:  49%|████▉     | 49/100 [00:16<00:16,  3.17it/s]"
     ]
    },
    {
     "name": "stderr",
     "output_type": "stream",
     "text": [
      "\r",
      "sample time step:  50%|█████     | 50/100 [00:16<00:16,  3.07it/s]"
     ]
    },
    {
     "name": "stderr",
     "output_type": "stream",
     "text": [
      "\r",
      "sample time step:  51%|█████     | 51/100 [00:16<00:16,  3.01it/s]"
     ]
    },
    {
     "name": "stderr",
     "output_type": "stream",
     "text": [
      "\r",
      "sample time step:  52%|█████▏    | 52/100 [00:17<00:15,  3.04it/s]"
     ]
    },
    {
     "name": "stderr",
     "output_type": "stream",
     "text": [
      "\r",
      "sample time step:  53%|█████▎    | 53/100 [00:17<00:15,  3.10it/s]"
     ]
    },
    {
     "name": "stderr",
     "output_type": "stream",
     "text": [
      "\r",
      "sample time step:  54%|█████▍    | 54/100 [00:17<00:14,  3.09it/s]"
     ]
    },
    {
     "name": "stderr",
     "output_type": "stream",
     "text": [
      "\r",
      "sample time step:  55%|█████▌    | 55/100 [00:18<00:14,  3.04it/s]"
     ]
    },
    {
     "name": "stderr",
     "output_type": "stream",
     "text": [
      "\r",
      "sample time step:  56%|█████▌    | 56/100 [00:18<00:14,  3.02it/s]"
     ]
    },
    {
     "name": "stderr",
     "output_type": "stream",
     "text": [
      "\r",
      "sample time step:  57%|█████▋    | 57/100 [00:18<00:13,  3.13it/s]"
     ]
    },
    {
     "name": "stderr",
     "output_type": "stream",
     "text": [
      "\r",
      "sample time step:  58%|█████▊    | 58/100 [00:19<00:13,  3.20it/s]"
     ]
    },
    {
     "name": "stderr",
     "output_type": "stream",
     "text": [
      "\r",
      "sample time step:  59%|█████▉    | 59/100 [00:19<00:12,  3.28it/s]"
     ]
    },
    {
     "name": "stderr",
     "output_type": "stream",
     "text": [
      "\r",
      "sample time step:  60%|██████    | 60/100 [00:19<00:12,  3.33it/s]"
     ]
    },
    {
     "name": "stderr",
     "output_type": "stream",
     "text": [
      "\r",
      "sample time step:  61%|██████    | 61/100 [00:20<00:12,  3.22it/s]"
     ]
    },
    {
     "name": "stderr",
     "output_type": "stream",
     "text": [
      "\r",
      "sample time step:  62%|██████▏   | 62/100 [00:20<00:11,  3.18it/s]"
     ]
    },
    {
     "name": "stderr",
     "output_type": "stream",
     "text": [
      "\r",
      "sample time step:  63%|██████▎   | 63/100 [00:20<00:12,  3.01it/s]"
     ]
    },
    {
     "name": "stderr",
     "output_type": "stream",
     "text": [
      "\r",
      "sample time step:  64%|██████▍   | 64/100 [00:21<00:12,  2.97it/s]"
     ]
    },
    {
     "name": "stderr",
     "output_type": "stream",
     "text": [
      "\r",
      "sample time step:  65%|██████▌   | 65/100 [00:21<00:11,  2.92it/s]"
     ]
    },
    {
     "name": "stderr",
     "output_type": "stream",
     "text": [
      "\r",
      "sample time step:  66%|██████▌   | 66/100 [00:21<00:11,  3.05it/s]"
     ]
    },
    {
     "name": "stderr",
     "output_type": "stream",
     "text": [
      "\r",
      "sample time step:  67%|██████▋   | 67/100 [00:22<00:10,  3.15it/s]"
     ]
    },
    {
     "name": "stderr",
     "output_type": "stream",
     "text": [
      "\r",
      "sample time step:  68%|██████▊   | 68/100 [00:22<00:09,  3.23it/s]"
     ]
    },
    {
     "name": "stderr",
     "output_type": "stream",
     "text": [
      "\r",
      "sample time step:  69%|██████▉   | 69/100 [00:22<00:09,  3.29it/s]"
     ]
    },
    {
     "name": "stderr",
     "output_type": "stream",
     "text": [
      "\r",
      "sample time step:  70%|███████   | 70/100 [00:22<00:09,  3.28it/s]"
     ]
    },
    {
     "name": "stderr",
     "output_type": "stream",
     "text": [
      "\r",
      "sample time step:  71%|███████   | 71/100 [00:23<00:08,  3.30it/s]"
     ]
    },
    {
     "name": "stderr",
     "output_type": "stream",
     "text": [
      "\r",
      "sample time step:  72%|███████▏  | 72/100 [00:23<00:08,  3.33it/s]"
     ]
    },
    {
     "name": "stderr",
     "output_type": "stream",
     "text": [
      "\r",
      "sample time step:  73%|███████▎  | 73/100 [00:23<00:08,  3.23it/s]"
     ]
    },
    {
     "name": "stderr",
     "output_type": "stream",
     "text": [
      "\r",
      "sample time step:  74%|███████▍  | 74/100 [00:24<00:08,  3.13it/s]"
     ]
    },
    {
     "name": "stderr",
     "output_type": "stream",
     "text": [
      "\r",
      "sample time step:  75%|███████▌  | 75/100 [00:24<00:08,  3.05it/s]"
     ]
    },
    {
     "name": "stderr",
     "output_type": "stream",
     "text": [
      "\r",
      "sample time step:  76%|███████▌  | 76/100 [00:24<00:07,  3.12it/s]"
     ]
    },
    {
     "name": "stderr",
     "output_type": "stream",
     "text": [
      "\r",
      "sample time step:  77%|███████▋  | 77/100 [00:25<00:07,  3.14it/s]"
     ]
    },
    {
     "name": "stderr",
     "output_type": "stream",
     "text": [
      "\r",
      "sample time step:  78%|███████▊  | 78/100 [00:25<00:07,  3.12it/s]"
     ]
    },
    {
     "name": "stderr",
     "output_type": "stream",
     "text": [
      "\r",
      "sample time step:  79%|███████▉  | 79/100 [00:25<00:06,  3.08it/s]"
     ]
    },
    {
     "name": "stderr",
     "output_type": "stream",
     "text": [
      "\r",
      "sample time step:  80%|████████  | 80/100 [00:26<00:06,  3.10it/s]"
     ]
    },
    {
     "name": "stderr",
     "output_type": "stream",
     "text": [
      "\r",
      "sample time step:  81%|████████  | 81/100 [00:26<00:06,  3.08it/s]"
     ]
    },
    {
     "name": "stderr",
     "output_type": "stream",
     "text": [
      "\r",
      "sample time step:  82%|████████▏ | 82/100 [00:26<00:05,  3.01it/s]"
     ]
    },
    {
     "name": "stderr",
     "output_type": "stream",
     "text": [
      "\r",
      "sample time step:  83%|████████▎ | 83/100 [00:27<00:05,  2.97it/s]"
     ]
    },
    {
     "name": "stderr",
     "output_type": "stream",
     "text": [
      "\r",
      "sample time step:  84%|████████▍ | 84/100 [00:27<00:05,  2.94it/s]"
     ]
    },
    {
     "name": "stderr",
     "output_type": "stream",
     "text": [
      "\r",
      "sample time step:  85%|████████▌ | 85/100 [00:27<00:05,  2.93it/s]"
     ]
    },
    {
     "name": "stderr",
     "output_type": "stream",
     "text": [
      "\r",
      "sample time step:  86%|████████▌ | 86/100 [00:28<00:04,  2.88it/s]"
     ]
    },
    {
     "name": "stderr",
     "output_type": "stream",
     "text": [
      "\r",
      "sample time step:  87%|████████▋ | 87/100 [00:28<00:04,  3.01it/s]"
     ]
    },
    {
     "name": "stderr",
     "output_type": "stream",
     "text": [
      "\r",
      "sample time step:  88%|████████▊ | 88/100 [00:28<00:03,  3.12it/s]"
     ]
    },
    {
     "name": "stderr",
     "output_type": "stream",
     "text": [
      "\r",
      "sample time step:  89%|████████▉ | 89/100 [00:29<00:03,  3.21it/s]"
     ]
    },
    {
     "name": "stderr",
     "output_type": "stream",
     "text": [
      "\r",
      "sample time step:  90%|█████████ | 90/100 [00:29<00:03,  3.25it/s]"
     ]
    },
    {
     "name": "stderr",
     "output_type": "stream",
     "text": [
      "\r",
      "sample time step:  91%|█████████ | 91/100 [00:29<00:02,  3.30it/s]"
     ]
    },
    {
     "name": "stderr",
     "output_type": "stream",
     "text": [
      "\r",
      "sample time step:  92%|█████████▏| 92/100 [00:30<00:02,  3.35it/s]"
     ]
    },
    {
     "name": "stderr",
     "output_type": "stream",
     "text": [
      "\r",
      "sample time step:  93%|█████████▎| 93/100 [00:30<00:02,  3.36it/s]"
     ]
    },
    {
     "name": "stderr",
     "output_type": "stream",
     "text": [
      "\r",
      "sample time step:  94%|█████████▍| 94/100 [00:30<00:01,  3.41it/s]"
     ]
    },
    {
     "name": "stderr",
     "output_type": "stream",
     "text": [
      "\r",
      "sample time step:  95%|█████████▌| 95/100 [00:30<00:01,  3.41it/s]"
     ]
    },
    {
     "name": "stderr",
     "output_type": "stream",
     "text": [
      "\r",
      "sample time step:  96%|█████████▌| 96/100 [00:31<00:01,  3.34it/s]"
     ]
    },
    {
     "name": "stderr",
     "output_type": "stream",
     "text": [
      "\r",
      "sample time step:  97%|█████████▋| 97/100 [00:31<00:00,  3.20it/s]"
     ]
    },
    {
     "name": "stderr",
     "output_type": "stream",
     "text": [
      "\r",
      "sample time step:  98%|█████████▊| 98/100 [00:31<00:00,  3.14it/s]"
     ]
    },
    {
     "name": "stderr",
     "output_type": "stream",
     "text": [
      "\r",
      "sample time step:  99%|█████████▉| 99/100 [00:32<00:00,  3.07it/s]"
     ]
    },
    {
     "name": "stderr",
     "output_type": "stream",
     "text": [
      "\r",
      "sample time step: 100%|██████████| 100/100 [00:32<00:00,  3.14it/s]"
     ]
    },
    {
     "name": "stderr",
     "output_type": "stream",
     "text": [
      "\r",
      "sample time step: 100%|██████████| 100/100 [00:32<00:00,  3.07it/s]"
     ]
    },
    {
     "name": "stderr",
     "output_type": "stream",
     "text": [
      "\n"
     ]
    },
    {
     "name": "stdout",
     "output_type": "stream",
     "text": [
      "✅ Generated: zh_1.wav\n"
     ]
    },
    {
     "name": "stdout",
     "output_type": "stream",
     "text": [
      "Pass word-notes check.\n",
      "137 137 137\n",
      "Pass word-notes check.\n"
     ]
    },
    {
     "name": "stdout",
     "output_type": "stream",
     "text": [
      "===> gaussion start.\n"
     ]
    },
    {
     "name": "stderr",
     "output_type": "stream",
     "text": [
      "\r",
      "sample time step:   0%|          | 0/100 [00:00<?, ?it/s]"
     ]
    },
    {
     "name": "stderr",
     "output_type": "stream",
     "text": [
      "\r",
      "sample time step:   1%|          | 1/100 [00:00<00:25,  3.85it/s]"
     ]
    },
    {
     "name": "stderr",
     "output_type": "stream",
     "text": [
      "\r",
      "sample time step:   2%|▏         | 2/100 [00:00<00:24,  4.07it/s]"
     ]
    },
    {
     "name": "stderr",
     "output_type": "stream",
     "text": [
      "\r",
      "sample time step:   3%|▎         | 3/100 [00:00<00:23,  4.16it/s]"
     ]
    },
    {
     "name": "stderr",
     "output_type": "stream",
     "text": [
      "\r",
      "sample time step:   4%|▍         | 4/100 [00:00<00:22,  4.24it/s]"
     ]
    },
    {
     "name": "stderr",
     "output_type": "stream",
     "text": [
      "\r",
      "sample time step:   5%|▌         | 5/100 [00:01<00:22,  4.26it/s]"
     ]
    },
    {
     "name": "stderr",
     "output_type": "stream",
     "text": [
      "\r",
      "sample time step:   6%|▌         | 6/100 [00:01<00:21,  4.28it/s]"
     ]
    },
    {
     "name": "stderr",
     "output_type": "stream",
     "text": [
      "\r",
      "sample time step:   7%|▋         | 7/100 [00:01<00:21,  4.27it/s]"
     ]
    },
    {
     "name": "stderr",
     "output_type": "stream",
     "text": [
      "\r",
      "sample time step:   8%|▊         | 8/100 [00:01<00:21,  4.28it/s]"
     ]
    },
    {
     "name": "stderr",
     "output_type": "stream",
     "text": [
      "\r",
      "sample time step:   9%|▉         | 9/100 [00:02<00:21,  4.25it/s]"
     ]
    },
    {
     "name": "stderr",
     "output_type": "stream",
     "text": [
      "\r",
      "sample time step:  10%|█         | 10/100 [00:02<00:21,  4.25it/s]"
     ]
    },
    {
     "name": "stderr",
     "output_type": "stream",
     "text": [
      "\r",
      "sample time step:  11%|█         | 11/100 [00:02<00:20,  4.26it/s]"
     ]
    },
    {
     "name": "stderr",
     "output_type": "stream",
     "text": [
      "\r",
      "sample time step:  12%|█▏        | 12/100 [00:02<00:21,  4.14it/s]"
     ]
    },
    {
     "name": "stderr",
     "output_type": "stream",
     "text": [
      "\r",
      "sample time step:  13%|█▎        | 13/100 [00:03<00:21,  4.11it/s]"
     ]
    },
    {
     "name": "stderr",
     "output_type": "stream",
     "text": [
      "\r",
      "sample time step:  14%|█▍        | 14/100 [00:03<00:21,  3.94it/s]"
     ]
    },
    {
     "name": "stderr",
     "output_type": "stream",
     "text": [
      "\r",
      "sample time step:  15%|█▌        | 15/100 [00:03<00:22,  3.86it/s]"
     ]
    },
    {
     "name": "stderr",
     "output_type": "stream",
     "text": [
      "\r",
      "sample time step:  16%|█▌        | 16/100 [00:03<00:22,  3.79it/s]"
     ]
    },
    {
     "name": "stderr",
     "output_type": "stream",
     "text": [
      "\r",
      "sample time step:  17%|█▋        | 17/100 [00:04<00:21,  3.79it/s]"
     ]
    },
    {
     "name": "stderr",
     "output_type": "stream",
     "text": [
      "\r",
      "sample time step:  18%|█▊        | 18/100 [00:04<00:21,  3.81it/s]"
     ]
    },
    {
     "name": "stderr",
     "output_type": "stream",
     "text": [
      "\r",
      "sample time step:  19%|█▉        | 19/100 [00:04<00:21,  3.75it/s]"
     ]
    },
    {
     "name": "stderr",
     "output_type": "stream",
     "text": [
      "\r",
      "sample time step:  20%|██        | 20/100 [00:04<00:21,  3.78it/s]"
     ]
    },
    {
     "name": "stderr",
     "output_type": "stream",
     "text": [
      "\r",
      "sample time step:  21%|██        | 21/100 [00:05<00:20,  3.78it/s]"
     ]
    },
    {
     "name": "stderr",
     "output_type": "stream",
     "text": [
      "\r",
      "sample time step:  22%|██▏       | 22/100 [00:05<00:20,  3.85it/s]"
     ]
    },
    {
     "name": "stderr",
     "output_type": "stream",
     "text": [
      "\r",
      "sample time step:  23%|██▎       | 23/100 [00:05<00:19,  3.95it/s]"
     ]
    },
    {
     "name": "stderr",
     "output_type": "stream",
     "text": [
      "\r",
      "sample time step:  24%|██▍       | 24/100 [00:05<00:18,  4.05it/s]"
     ]
    },
    {
     "name": "stderr",
     "output_type": "stream",
     "text": [
      "\r",
      "sample time step:  25%|██▌       | 25/100 [00:06<00:18,  4.13it/s]"
     ]
    },
    {
     "name": "stderr",
     "output_type": "stream",
     "text": [
      "\r",
      "sample time step:  26%|██▌       | 26/100 [00:06<00:17,  4.19it/s]"
     ]
    },
    {
     "name": "stderr",
     "output_type": "stream",
     "text": [
      "\r",
      "sample time step:  27%|██▋       | 27/100 [00:06<00:17,  4.22it/s]"
     ]
    },
    {
     "name": "stderr",
     "output_type": "stream",
     "text": [
      "\r",
      "sample time step:  28%|██▊       | 28/100 [00:06<00:16,  4.27it/s]"
     ]
    },
    {
     "name": "stderr",
     "output_type": "stream",
     "text": [
      "\r",
      "sample time step:  29%|██▉       | 29/100 [00:07<00:16,  4.29it/s]"
     ]
    },
    {
     "name": "stderr",
     "output_type": "stream",
     "text": [
      "\r",
      "sample time step:  30%|███       | 30/100 [00:07<00:16,  4.31it/s]"
     ]
    },
    {
     "name": "stderr",
     "output_type": "stream",
     "text": [
      "\r",
      "sample time step:  31%|███       | 31/100 [00:07<00:16,  4.28it/s]"
     ]
    },
    {
     "name": "stderr",
     "output_type": "stream",
     "text": [
      "\r",
      "sample time step:  32%|███▏      | 32/100 [00:07<00:15,  4.33it/s]"
     ]
    },
    {
     "name": "stderr",
     "output_type": "stream",
     "text": [
      "\r",
      "sample time step:  33%|███▎      | 33/100 [00:08<00:15,  4.34it/s]"
     ]
    },
    {
     "name": "stderr",
     "output_type": "stream",
     "text": [
      "\r",
      "sample time step:  34%|███▍      | 34/100 [00:08<00:15,  4.33it/s]"
     ]
    },
    {
     "name": "stderr",
     "output_type": "stream",
     "text": [
      "\r",
      "sample time step:  35%|███▌      | 35/100 [00:08<00:14,  4.35it/s]"
     ]
    },
    {
     "name": "stderr",
     "output_type": "stream",
     "text": [
      "\r",
      "sample time step:  36%|███▌      | 36/100 [00:08<00:14,  4.35it/s]"
     ]
    },
    {
     "name": "stderr",
     "output_type": "stream",
     "text": [
      "\r",
      "sample time step:  37%|███▋      | 37/100 [00:08<00:14,  4.33it/s]"
     ]
    },
    {
     "name": "stderr",
     "output_type": "stream",
     "text": [
      "\r",
      "sample time step:  38%|███▊      | 38/100 [00:09<00:14,  4.21it/s]"
     ]
    },
    {
     "name": "stderr",
     "output_type": "stream",
     "text": [
      "\r",
      "sample time step:  39%|███▉      | 39/100 [00:09<00:14,  4.24it/s]"
     ]
    },
    {
     "name": "stderr",
     "output_type": "stream",
     "text": [
      "\r",
      "sample time step:  40%|████      | 40/100 [00:09<00:14,  4.25it/s]"
     ]
    },
    {
     "name": "stderr",
     "output_type": "stream",
     "text": [
      "\r",
      "sample time step:  41%|████      | 41/100 [00:09<00:14,  4.06it/s]"
     ]
    },
    {
     "name": "stderr",
     "output_type": "stream",
     "text": [
      "\r",
      "sample time step:  42%|████▏     | 42/100 [00:10<00:14,  3.97it/s]"
     ]
    },
    {
     "name": "stderr",
     "output_type": "stream",
     "text": [
      "\r",
      "sample time step:  43%|████▎     | 43/100 [00:10<00:14,  3.90it/s]"
     ]
    },
    {
     "name": "stderr",
     "output_type": "stream",
     "text": [
      "\r",
      "sample time step:  44%|████▍     | 44/100 [00:10<00:14,  3.85it/s]"
     ]
    },
    {
     "name": "stderr",
     "output_type": "stream",
     "text": [
      "\r",
      "sample time step:  45%|████▌     | 45/100 [00:11<00:14,  3.79it/s]"
     ]
    },
    {
     "name": "stderr",
     "output_type": "stream",
     "text": [
      "\r",
      "sample time step:  46%|████▌     | 46/100 [00:11<00:14,  3.77it/s]"
     ]
    },
    {
     "name": "stderr",
     "output_type": "stream",
     "text": [
      "\r",
      "sample time step:  47%|████▋     | 47/100 [00:11<00:14,  3.72it/s]"
     ]
    },
    {
     "name": "stderr",
     "output_type": "stream",
     "text": [
      "\r",
      "sample time step:  48%|████▊     | 48/100 [00:11<00:13,  3.77it/s]"
     ]
    },
    {
     "name": "stderr",
     "output_type": "stream",
     "text": [
      "\r",
      "sample time step:  49%|████▉     | 49/100 [00:12<00:13,  3.76it/s]"
     ]
    },
    {
     "name": "stderr",
     "output_type": "stream",
     "text": [
      "\r",
      "sample time step:  50%|█████     | 50/100 [00:12<00:13,  3.82it/s]"
     ]
    },
    {
     "name": "stderr",
     "output_type": "stream",
     "text": [
      "\r",
      "sample time step:  51%|█████     | 51/100 [00:12<00:12,  3.85it/s]"
     ]
    },
    {
     "name": "stderr",
     "output_type": "stream",
     "text": [
      "\r",
      "sample time step:  52%|█████▏    | 52/100 [00:12<00:12,  3.86it/s]"
     ]
    },
    {
     "name": "stderr",
     "output_type": "stream",
     "text": [
      "\r",
      "sample time step:  53%|█████▎    | 53/100 [00:13<00:11,  4.03it/s]"
     ]
    },
    {
     "name": "stderr",
     "output_type": "stream",
     "text": [
      "\r",
      "sample time step:  54%|█████▍    | 54/100 [00:13<00:11,  4.13it/s]"
     ]
    },
    {
     "name": "stderr",
     "output_type": "stream",
     "text": [
      "\r",
      "sample time step:  55%|█████▌    | 55/100 [00:13<00:10,  4.19it/s]"
     ]
    },
    {
     "name": "stderr",
     "output_type": "stream",
     "text": [
      "\r",
      "sample time step:  56%|█████▌    | 56/100 [00:13<00:10,  4.26it/s]"
     ]
    },
    {
     "name": "stderr",
     "output_type": "stream",
     "text": [
      "\r",
      "sample time step:  57%|█████▋    | 57/100 [00:13<00:10,  4.29it/s]"
     ]
    },
    {
     "name": "stderr",
     "output_type": "stream",
     "text": [
      "\r",
      "sample time step:  58%|█████▊    | 58/100 [00:14<00:09,  4.30it/s]"
     ]
    },
    {
     "name": "stderr",
     "output_type": "stream",
     "text": [
      "\r",
      "sample time step:  59%|█████▉    | 59/100 [00:14<00:09,  4.34it/s]"
     ]
    },
    {
     "name": "stderr",
     "output_type": "stream",
     "text": [
      "\r",
      "sample time step:  60%|██████    | 60/100 [00:14<00:09,  4.35it/s]"
     ]
    },
    {
     "name": "stderr",
     "output_type": "stream",
     "text": [
      "\r",
      "sample time step:  61%|██████    | 61/100 [00:14<00:08,  4.38it/s]"
     ]
    },
    {
     "name": "stderr",
     "output_type": "stream",
     "text": [
      "\r",
      "sample time step:  62%|██████▏   | 62/100 [00:15<00:08,  4.41it/s]"
     ]
    },
    {
     "name": "stderr",
     "output_type": "stream",
     "text": [
      "\r",
      "sample time step:  63%|██████▎   | 63/100 [00:15<00:08,  4.42it/s]"
     ]
    },
    {
     "name": "stderr",
     "output_type": "stream",
     "text": [
      "\r",
      "sample time step:  64%|██████▍   | 64/100 [00:15<00:08,  4.39it/s]"
     ]
    },
    {
     "name": "stderr",
     "output_type": "stream",
     "text": [
      "\r",
      "sample time step:  65%|██████▌   | 65/100 [00:15<00:08,  4.22it/s]"
     ]
    },
    {
     "name": "stderr",
     "output_type": "stream",
     "text": [
      "\r",
      "sample time step:  66%|██████▌   | 66/100 [00:16<00:07,  4.25it/s]"
     ]
    },
    {
     "name": "stderr",
     "output_type": "stream",
     "text": [
      "\r",
      "sample time step:  67%|██████▋   | 67/100 [00:16<00:07,  4.14it/s]"
     ]
    },
    {
     "name": "stderr",
     "output_type": "stream",
     "text": [
      "\r",
      "sample time step:  68%|██████▊   | 68/100 [00:16<00:07,  4.09it/s]"
     ]
    },
    {
     "name": "stderr",
     "output_type": "stream",
     "text": [
      "\r",
      "sample time step:  69%|██████▉   | 69/100 [00:16<00:07,  3.97it/s]"
     ]
    },
    {
     "name": "stderr",
     "output_type": "stream",
     "text": [
      "\r",
      "sample time step:  70%|███████   | 70/100 [00:17<00:07,  3.99it/s]"
     ]
    },
    {
     "name": "stderr",
     "output_type": "stream",
     "text": [
      "\r",
      "sample time step:  71%|███████   | 71/100 [00:17<00:07,  3.98it/s]"
     ]
    },
    {
     "name": "stderr",
     "output_type": "stream",
     "text": [
      "\r",
      "sample time step:  72%|███████▏  | 72/100 [00:17<00:07,  3.89it/s]"
     ]
    },
    {
     "name": "stderr",
     "output_type": "stream",
     "text": [
      "\r",
      "sample time step:  73%|███████▎  | 73/100 [00:17<00:06,  3.94it/s]"
     ]
    },
    {
     "name": "stderr",
     "output_type": "stream",
     "text": [
      "\r",
      "sample time step:  74%|███████▍  | 74/100 [00:18<00:06,  3.95it/s]"
     ]
    },
    {
     "name": "stderr",
     "output_type": "stream",
     "text": [
      "\r",
      "sample time step:  75%|███████▌  | 75/100 [00:18<00:06,  3.87it/s]"
     ]
    },
    {
     "name": "stderr",
     "output_type": "stream",
     "text": [
      "\r",
      "sample time step:  76%|███████▌  | 76/100 [00:18<00:06,  3.89it/s]"
     ]
    },
    {
     "name": "stderr",
     "output_type": "stream",
     "text": [
      "\r",
      "sample time step:  77%|███████▋  | 77/100 [00:18<00:06,  3.83it/s]"
     ]
    },
    {
     "name": "stderr",
     "output_type": "stream",
     "text": [
      "\r",
      "sample time step:  78%|███████▊  | 78/100 [00:19<00:05,  3.89it/s]"
     ]
    },
    {
     "name": "stderr",
     "output_type": "stream",
     "text": [
      "\r",
      "sample time step:  79%|███████▉  | 79/100 [00:19<00:05,  3.90it/s]"
     ]
    },
    {
     "name": "stderr",
     "output_type": "stream",
     "text": [
      "\r",
      "sample time step:  80%|████████  | 80/100 [00:19<00:05,  3.93it/s]"
     ]
    },
    {
     "name": "stderr",
     "output_type": "stream",
     "text": [
      "\r",
      "sample time step:  81%|████████  | 81/100 [00:19<00:04,  3.94it/s]"
     ]
    },
    {
     "name": "stderr",
     "output_type": "stream",
     "text": [
      "\r",
      "sample time step:  82%|████████▏ | 82/100 [00:20<00:04,  3.84it/s]"
     ]
    },
    {
     "name": "stderr",
     "output_type": "stream",
     "text": [
      "\r",
      "sample time step:  83%|████████▎ | 83/100 [00:20<00:04,  3.97it/s]"
     ]
    },
    {
     "name": "stderr",
     "output_type": "stream",
     "text": [
      "\r",
      "sample time step:  84%|████████▍ | 84/100 [00:20<00:03,  4.08it/s]"
     ]
    },
    {
     "name": "stderr",
     "output_type": "stream",
     "text": [
      "\r",
      "sample time step:  85%|████████▌ | 85/100 [00:20<00:03,  4.18it/s]"
     ]
    },
    {
     "name": "stderr",
     "output_type": "stream",
     "text": [
      "\r",
      "sample time step:  86%|████████▌ | 86/100 [00:21<00:03,  4.25it/s]"
     ]
    },
    {
     "name": "stderr",
     "output_type": "stream",
     "text": [
      "\r",
      "sample time step:  87%|████████▋ | 87/100 [00:21<00:03,  4.32it/s]"
     ]
    },
    {
     "name": "stderr",
     "output_type": "stream",
     "text": [
      "\r",
      "sample time step:  88%|████████▊ | 88/100 [00:21<00:02,  4.36it/s]"
     ]
    },
    {
     "name": "stderr",
     "output_type": "stream",
     "text": [
      "\r",
      "sample time step:  89%|████████▉ | 89/100 [00:21<00:02,  4.37it/s]"
     ]
    },
    {
     "name": "stderr",
     "output_type": "stream",
     "text": [
      "\r",
      "sample time step:  90%|█████████ | 90/100 [00:22<00:02,  4.38it/s]"
     ]
    },
    {
     "name": "stderr",
     "output_type": "stream",
     "text": [
      "\r",
      "sample time step:  91%|█████████ | 91/100 [00:22<00:02,  4.25it/s]"
     ]
    },
    {
     "name": "stderr",
     "output_type": "stream",
     "text": [
      "\r",
      "sample time step:  92%|█████████▏| 92/100 [00:22<00:01,  4.28it/s]"
     ]
    },
    {
     "name": "stderr",
     "output_type": "stream",
     "text": [
      "\r",
      "sample time step:  93%|█████████▎| 93/100 [00:22<00:01,  4.16it/s]"
     ]
    },
    {
     "name": "stderr",
     "output_type": "stream",
     "text": [
      "\r",
      "sample time step:  94%|█████████▍| 94/100 [00:23<00:01,  3.98it/s]"
     ]
    },
    {
     "name": "stderr",
     "output_type": "stream",
     "text": [
      "\r",
      "sample time step:  95%|█████████▌| 95/100 [00:23<00:01,  3.91it/s]"
     ]
    },
    {
     "name": "stderr",
     "output_type": "stream",
     "text": [
      "\r",
      "sample time step:  96%|█████████▌| 96/100 [00:23<00:01,  3.96it/s]"
     ]
    },
    {
     "name": "stderr",
     "output_type": "stream",
     "text": [
      "\r",
      "sample time step:  97%|█████████▋| 97/100 [00:23<00:00,  3.95it/s]"
     ]
    },
    {
     "name": "stderr",
     "output_type": "stream",
     "text": [
      "\r",
      "sample time step:  98%|█████████▊| 98/100 [00:24<00:00,  4.04it/s]"
     ]
    },
    {
     "name": "stderr",
     "output_type": "stream",
     "text": [
      "\r",
      "sample time step:  99%|█████████▉| 99/100 [00:24<00:00,  4.04it/s]"
     ]
    },
    {
     "name": "stderr",
     "output_type": "stream",
     "text": [
      "\r",
      "sample time step: 100%|██████████| 100/100 [00:24<00:00,  4.00it/s]"
     ]
    },
    {
     "name": "stderr",
     "output_type": "stream",
     "text": [
      "\r",
      "sample time step: 100%|██████████| 100/100 [00:24<00:00,  4.08it/s]"
     ]
    },
    {
     "name": "stderr",
     "output_type": "stream",
     "text": [
      "\n"
     ]
    },
    {
     "name": "stdout",
     "output_type": "stream",
     "text": [
      "✅ Generated: zh_20.wav\n"
     ]
    },
    {
     "name": "stdout",
     "output_type": "stream",
     "text": [
      "Pass word-notes check.\n",
      "293 293 293\n",
      "Pass word-notes check.\n"
     ]
    },
    {
     "name": "stdout",
     "output_type": "stream",
     "text": [
      "===> gaussion start.\n"
     ]
    },
    {
     "name": "stderr",
     "output_type": "stream",
     "text": [
      "\r",
      "sample time step:   0%|          | 0/100 [00:00<?, ?it/s]"
     ]
    },
    {
     "name": "stderr",
     "output_type": "stream",
     "text": [
      "\r",
      "sample time step:   1%|          | 1/100 [00:00<00:47,  2.09it/s]"
     ]
    },
    {
     "name": "stderr",
     "output_type": "stream",
     "text": [
      "\r",
      "sample time step:   2%|▏         | 2/100 [00:00<00:44,  2.21it/s]"
     ]
    },
    {
     "name": "stderr",
     "output_type": "stream",
     "text": [
      "\r",
      "sample time step:   3%|▎         | 3/100 [00:01<00:43,  2.23it/s]"
     ]
    },
    {
     "name": "stderr",
     "output_type": "stream",
     "text": [
      "\r",
      "sample time step:   4%|▍         | 4/100 [00:01<00:42,  2.28it/s]"
     ]
    },
    {
     "name": "stderr",
     "output_type": "stream",
     "text": [
      "\r",
      "sample time step:   5%|▌         | 5/100 [00:02<00:40,  2.36it/s]"
     ]
    },
    {
     "name": "stderr",
     "output_type": "stream",
     "text": [
      "\r",
      "sample time step:   6%|▌         | 6/100 [00:02<00:40,  2.35it/s]"
     ]
    },
    {
     "name": "stderr",
     "output_type": "stream",
     "text": [
      "\r",
      "sample time step:   7%|▋         | 7/100 [00:03<00:39,  2.36it/s]"
     ]
    },
    {
     "name": "stderr",
     "output_type": "stream",
     "text": [
      "\r",
      "sample time step:   8%|▊         | 8/100 [00:03<00:38,  2.38it/s]"
     ]
    },
    {
     "name": "stderr",
     "output_type": "stream",
     "text": [
      "\r",
      "sample time step:   9%|▉         | 9/100 [00:03<00:37,  2.42it/s]"
     ]
    },
    {
     "name": "stderr",
     "output_type": "stream",
     "text": [
      "\r",
      "sample time step:  10%|█         | 10/100 [00:04<00:38,  2.35it/s]"
     ]
    },
    {
     "name": "stderr",
     "output_type": "stream",
     "text": [
      "\r",
      "sample time step:  11%|█         | 11/100 [00:04<00:37,  2.35it/s]"
     ]
    },
    {
     "name": "stderr",
     "output_type": "stream",
     "text": [
      "\r",
      "sample time step:  12%|█▏        | 12/100 [00:05<00:37,  2.35it/s]"
     ]
    },
    {
     "name": "stderr",
     "output_type": "stream",
     "text": [
      "\r",
      "sample time step:  13%|█▎        | 13/100 [00:05<00:35,  2.42it/s]"
     ]
    },
    {
     "name": "stderr",
     "output_type": "stream",
     "text": [
      "\r",
      "sample time step:  14%|█▍        | 14/100 [00:05<00:35,  2.41it/s]"
     ]
    },
    {
     "name": "stderr",
     "output_type": "stream",
     "text": [
      "\r",
      "sample time step:  15%|█▌        | 15/100 [00:06<00:34,  2.45it/s]"
     ]
    },
    {
     "name": "stderr",
     "output_type": "stream",
     "text": [
      "\r",
      "sample time step:  16%|█▌        | 16/100 [00:06<00:34,  2.42it/s]"
     ]
    },
    {
     "name": "stderr",
     "output_type": "stream",
     "text": [
      "\r",
      "sample time step:  17%|█▋        | 17/100 [00:07<00:34,  2.40it/s]"
     ]
    },
    {
     "name": "stderr",
     "output_type": "stream",
     "text": [
      "\r",
      "sample time step:  18%|█▊        | 18/100 [00:07<00:34,  2.38it/s]"
     ]
    },
    {
     "name": "stderr",
     "output_type": "stream",
     "text": [
      "\r",
      "sample time step:  19%|█▉        | 19/100 [00:07<00:33,  2.44it/s]"
     ]
    },
    {
     "name": "stderr",
     "output_type": "stream",
     "text": [
      "\r",
      "sample time step:  20%|██        | 20/100 [00:08<00:33,  2.36it/s]"
     ]
    },
    {
     "name": "stderr",
     "output_type": "stream",
     "text": [
      "\r",
      "sample time step:  21%|██        | 21/100 [00:08<00:33,  2.35it/s]"
     ]
    },
    {
     "name": "stderr",
     "output_type": "stream",
     "text": [
      "\r",
      "sample time step:  22%|██▏       | 22/100 [00:09<00:32,  2.42it/s]"
     ]
    },
    {
     "name": "stderr",
     "output_type": "stream",
     "text": [
      "\r",
      "sample time step:  23%|██▎       | 23/100 [00:09<00:32,  2.36it/s]"
     ]
    },
    {
     "name": "stderr",
     "output_type": "stream",
     "text": [
      "\r",
      "sample time step:  24%|██▍       | 24/100 [00:10<00:32,  2.36it/s]"
     ]
    },
    {
     "name": "stderr",
     "output_type": "stream",
     "text": [
      "\r",
      "sample time step:  25%|██▌       | 25/100 [00:10<00:31,  2.35it/s]"
     ]
    },
    {
     "name": "stderr",
     "output_type": "stream",
     "text": [
      "\r",
      "sample time step:  26%|██▌       | 26/100 [00:10<00:31,  2.35it/s]"
     ]
    },
    {
     "name": "stderr",
     "output_type": "stream",
     "text": [
      "\r",
      "sample time step:  27%|██▋       | 27/100 [00:11<00:32,  2.27it/s]"
     ]
    },
    {
     "name": "stderr",
     "output_type": "stream",
     "text": [
      "\r",
      "sample time step:  28%|██▊       | 28/100 [00:11<00:30,  2.36it/s]"
     ]
    },
    {
     "name": "stderr",
     "output_type": "stream",
     "text": [
      "\r",
      "sample time step:  29%|██▉       | 29/100 [00:12<00:28,  2.45it/s]"
     ]
    },
    {
     "name": "stderr",
     "output_type": "stream",
     "text": [
      "\r",
      "sample time step:  30%|███       | 30/100 [00:12<00:27,  2.51it/s]"
     ]
    },
    {
     "name": "stderr",
     "output_type": "stream",
     "text": [
      "\r",
      "sample time step:  31%|███       | 31/100 [00:13<00:28,  2.43it/s]"
     ]
    },
    {
     "name": "stderr",
     "output_type": "stream",
     "text": [
      "\r",
      "sample time step:  32%|███▏      | 32/100 [00:13<00:27,  2.47it/s]"
     ]
    },
    {
     "name": "stderr",
     "output_type": "stream",
     "text": [
      "\r",
      "sample time step:  33%|███▎      | 33/100 [00:13<00:27,  2.39it/s]"
     ]
    },
    {
     "name": "stderr",
     "output_type": "stream",
     "text": [
      "\r",
      "sample time step:  34%|███▍      | 34/100 [00:14<00:27,  2.36it/s]"
     ]
    },
    {
     "name": "stderr",
     "output_type": "stream",
     "text": [
      "\r",
      "sample time step:  35%|███▌      | 35/100 [00:14<00:27,  2.40it/s]"
     ]
    },
    {
     "name": "stderr",
     "output_type": "stream",
     "text": [
      "\r",
      "sample time step:  36%|███▌      | 36/100 [00:15<00:25,  2.49it/s]"
     ]
    },
    {
     "name": "stderr",
     "output_type": "stream",
     "text": [
      "\r",
      "sample time step:  37%|███▋      | 37/100 [00:15<00:24,  2.56it/s]"
     ]
    },
    {
     "name": "stderr",
     "output_type": "stream",
     "text": [
      "\r",
      "sample time step:  38%|███▊      | 38/100 [00:15<00:25,  2.47it/s]"
     ]
    },
    {
     "name": "stderr",
     "output_type": "stream",
     "text": [
      "\r",
      "sample time step:  39%|███▉      | 39/100 [00:16<00:25,  2.39it/s]"
     ]
    },
    {
     "name": "stderr",
     "output_type": "stream",
     "text": [
      "\r",
      "sample time step:  40%|████      | 40/100 [00:16<00:25,  2.37it/s]"
     ]
    },
    {
     "name": "stderr",
     "output_type": "stream",
     "text": [
      "\r",
      "sample time step:  41%|████      | 41/100 [00:17<00:25,  2.31it/s]"
     ]
    },
    {
     "name": "stderr",
     "output_type": "stream",
     "text": [
      "\r",
      "sample time step:  42%|████▏     | 42/100 [00:17<00:25,  2.32it/s]"
     ]
    },
    {
     "name": "stderr",
     "output_type": "stream",
     "text": [
      "\r",
      "sample time step:  43%|████▎     | 43/100 [00:18<00:24,  2.35it/s]"
     ]
    },
    {
     "name": "stderr",
     "output_type": "stream",
     "text": [
      "\r",
      "sample time step:  44%|████▍     | 44/100 [00:18<00:23,  2.41it/s]"
     ]
    },
    {
     "name": "stderr",
     "output_type": "stream",
     "text": [
      "\r",
      "sample time step:  45%|████▌     | 45/100 [00:18<00:22,  2.45it/s]"
     ]
    },
    {
     "name": "stderr",
     "output_type": "stream",
     "text": [
      "\r",
      "sample time step:  46%|████▌     | 46/100 [00:19<00:21,  2.51it/s]"
     ]
    },
    {
     "name": "stderr",
     "output_type": "stream",
     "text": [
      "\r",
      "sample time step:  47%|████▋     | 47/100 [00:19<00:21,  2.46it/s]"
     ]
    },
    {
     "name": "stderr",
     "output_type": "stream",
     "text": [
      "\r",
      "sample time step:  48%|████▊     | 48/100 [00:20<00:20,  2.49it/s]"
     ]
    },
    {
     "name": "stderr",
     "output_type": "stream",
     "text": [
      "\r",
      "sample time step:  49%|████▉     | 49/100 [00:20<00:20,  2.43it/s]"
     ]
    },
    {
     "name": "stderr",
     "output_type": "stream",
     "text": [
      "\r",
      "sample time step:  50%|█████     | 50/100 [00:20<00:20,  2.41it/s]"
     ]
    },
    {
     "name": "stderr",
     "output_type": "stream",
     "text": [
      "\r",
      "sample time step:  51%|█████     | 51/100 [00:21<00:20,  2.39it/s]"
     ]
    },
    {
     "name": "stderr",
     "output_type": "stream",
     "text": [
      "\r",
      "sample time step:  52%|█████▏    | 52/100 [00:21<00:19,  2.43it/s]"
     ]
    },
    {
     "name": "stderr",
     "output_type": "stream",
     "text": [
      "\r",
      "sample time step:  53%|█████▎    | 53/100 [00:22<00:18,  2.52it/s]"
     ]
    },
    {
     "name": "stderr",
     "output_type": "stream",
     "text": [
      "\r",
      "sample time step:  54%|█████▍    | 54/100 [00:22<00:17,  2.57it/s]"
     ]
    },
    {
     "name": "stderr",
     "output_type": "stream",
     "text": [
      "\r",
      "sample time step:  55%|█████▌    | 55/100 [00:22<00:17,  2.57it/s]"
     ]
    },
    {
     "name": "stderr",
     "output_type": "stream",
     "text": [
      "\r",
      "sample time step:  56%|█████▌    | 56/100 [00:23<00:17,  2.47it/s]"
     ]
    },
    {
     "name": "stderr",
     "output_type": "stream",
     "text": [
      "\r",
      "sample time step:  57%|█████▋    | 57/100 [00:23<00:18,  2.37it/s]"
     ]
    },
    {
     "name": "stderr",
     "output_type": "stream",
     "text": [
      "\r",
      "sample time step:  58%|█████▊    | 58/100 [00:24<00:17,  2.35it/s]"
     ]
    },
    {
     "name": "stderr",
     "output_type": "stream",
     "text": [
      "\r",
      "sample time step:  59%|█████▉    | 59/100 [00:24<00:17,  2.39it/s]"
     ]
    },
    {
     "name": "stderr",
     "output_type": "stream",
     "text": [
      "\r",
      "sample time step:  60%|██████    | 60/100 [00:25<00:17,  2.31it/s]"
     ]
    },
    {
     "name": "stderr",
     "output_type": "stream",
     "text": [
      "\r",
      "sample time step:  61%|██████    | 61/100 [00:25<00:16,  2.38it/s]"
     ]
    },
    {
     "name": "stderr",
     "output_type": "stream",
     "text": [
      "\r",
      "sample time step:  62%|██████▏   | 62/100 [00:25<00:15,  2.46it/s]"
     ]
    },
    {
     "name": "stderr",
     "output_type": "stream",
     "text": [
      "\r",
      "sample time step:  63%|██████▎   | 63/100 [00:26<00:15,  2.45it/s]"
     ]
    },
    {
     "name": "stderr",
     "output_type": "stream",
     "text": [
      "\r",
      "sample time step:  64%|██████▍   | 64/100 [00:26<00:15,  2.36it/s]"
     ]
    },
    {
     "name": "stderr",
     "output_type": "stream",
     "text": [
      "\r",
      "sample time step:  65%|██████▌   | 65/100 [00:27<00:15,  2.30it/s]"
     ]
    },
    {
     "name": "stderr",
     "output_type": "stream",
     "text": [
      "\r",
      "sample time step:  66%|██████▌   | 66/100 [00:27<00:14,  2.29it/s]"
     ]
    },
    {
     "name": "stderr",
     "output_type": "stream",
     "text": [
      "\r",
      "sample time step:  67%|██████▋   | 67/100 [00:28<00:14,  2.30it/s]"
     ]
    },
    {
     "name": "stderr",
     "output_type": "stream",
     "text": [
      "\r",
      "sample time step:  68%|██████▊   | 68/100 [00:28<00:13,  2.35it/s]"
     ]
    },
    {
     "name": "stderr",
     "output_type": "stream",
     "text": [
      "\r",
      "sample time step:  69%|██████▉   | 69/100 [00:28<00:12,  2.42it/s]"
     ]
    },
    {
     "name": "stderr",
     "output_type": "stream",
     "text": [
      "\r",
      "sample time step:  70%|███████   | 70/100 [00:29<00:12,  2.41it/s]"
     ]
    },
    {
     "name": "stderr",
     "output_type": "stream",
     "text": [
      "\r",
      "sample time step:  71%|███████   | 71/100 [00:29<00:12,  2.40it/s]"
     ]
    },
    {
     "name": "stderr",
     "output_type": "stream",
     "text": [
      "\r",
      "sample time step:  72%|███████▏  | 72/100 [00:30<00:11,  2.37it/s]"
     ]
    },
    {
     "name": "stderr",
     "output_type": "stream",
     "text": [
      "\r",
      "sample time step:  73%|███████▎  | 73/100 [00:30<00:11,  2.36it/s]"
     ]
    },
    {
     "name": "stderr",
     "output_type": "stream",
     "text": [
      "\r",
      "sample time step:  74%|███████▍  | 74/100 [00:30<00:11,  2.34it/s]"
     ]
    },
    {
     "name": "stderr",
     "output_type": "stream",
     "text": [
      "\r",
      "sample time step:  75%|███████▌  | 75/100 [00:31<00:10,  2.33it/s]"
     ]
    },
    {
     "name": "stderr",
     "output_type": "stream",
     "text": [
      "\r",
      "sample time step:  76%|███████▌  | 76/100 [00:31<00:09,  2.40it/s]"
     ]
    },
    {
     "name": "stderr",
     "output_type": "stream",
     "text": [
      "\r",
      "sample time step:  77%|███████▋  | 77/100 [00:32<00:09,  2.40it/s]"
     ]
    },
    {
     "name": "stderr",
     "output_type": "stream",
     "text": [
      "\r",
      "sample time step:  78%|███████▊  | 78/100 [00:32<00:09,  2.37it/s]"
     ]
    },
    {
     "name": "stderr",
     "output_type": "stream",
     "text": [
      "\r",
      "sample time step:  79%|███████▉  | 79/100 [00:33<00:08,  2.34it/s]"
     ]
    },
    {
     "name": "stderr",
     "output_type": "stream",
     "text": [
      "\r",
      "sample time step:  80%|████████  | 80/100 [00:33<00:08,  2.33it/s]"
     ]
    },
    {
     "name": "stderr",
     "output_type": "stream",
     "text": [
      "\r",
      "sample time step:  81%|████████  | 81/100 [00:33<00:07,  2.40it/s]"
     ]
    },
    {
     "name": "stderr",
     "output_type": "stream",
     "text": [
      "\r",
      "sample time step:  82%|████████▏ | 82/100 [00:34<00:07,  2.40it/s]"
     ]
    },
    {
     "name": "stderr",
     "output_type": "stream",
     "text": [
      "\r",
      "sample time step:  83%|████████▎ | 83/100 [00:34<00:07,  2.32it/s]"
     ]
    },
    {
     "name": "stderr",
     "output_type": "stream",
     "text": [
      "\r",
      "sample time step:  84%|████████▍ | 84/100 [00:35<00:06,  2.39it/s]"
     ]
    },
    {
     "name": "stderr",
     "output_type": "stream",
     "text": [
      "\r",
      "sample time step:  85%|████████▌ | 85/100 [00:35<00:06,  2.46it/s]"
     ]
    },
    {
     "name": "stderr",
     "output_type": "stream",
     "text": [
      "\r",
      "sample time step:  86%|████████▌ | 86/100 [00:35<00:05,  2.46it/s]"
     ]
    },
    {
     "name": "stderr",
     "output_type": "stream",
     "text": [
      "\r",
      "sample time step:  87%|████████▋ | 87/100 [00:36<00:05,  2.42it/s]"
     ]
    },
    {
     "name": "stderr",
     "output_type": "stream",
     "text": [
      "\r",
      "sample time step:  88%|████████▊ | 88/100 [00:36<00:05,  2.33it/s]"
     ]
    },
    {
     "name": "stderr",
     "output_type": "stream",
     "text": [
      "\r",
      "sample time step:  89%|████████▉ | 89/100 [00:37<00:04,  2.28it/s]"
     ]
    },
    {
     "name": "stderr",
     "output_type": "stream",
     "text": [
      "\r",
      "sample time step:  90%|█████████ | 90/100 [00:37<00:04,  2.33it/s]"
     ]
    },
    {
     "name": "stderr",
     "output_type": "stream",
     "text": [
      "\r",
      "sample time step:  91%|█████████ | 91/100 [00:38<00:03,  2.30it/s]"
     ]
    },
    {
     "name": "stderr",
     "output_type": "stream",
     "text": [
      "\r",
      "sample time step:  92%|█████████▏| 92/100 [00:38<00:03,  2.29it/s]"
     ]
    },
    {
     "name": "stderr",
     "output_type": "stream",
     "text": [
      "\r",
      "sample time step:  93%|█████████▎| 93/100 [00:39<00:03,  2.30it/s]"
     ]
    },
    {
     "name": "stderr",
     "output_type": "stream",
     "text": [
      "\r",
      "sample time step:  94%|█████████▍| 94/100 [00:39<00:02,  2.38it/s]"
     ]
    },
    {
     "name": "stderr",
     "output_type": "stream",
     "text": [
      "\r",
      "sample time step:  95%|█████████▌| 95/100 [00:39<00:02,  2.36it/s]"
     ]
    },
    {
     "name": "stderr",
     "output_type": "stream",
     "text": [
      "\r",
      "sample time step:  96%|█████████▌| 96/100 [00:40<00:01,  2.28it/s]"
     ]
    },
    {
     "name": "stderr",
     "output_type": "stream",
     "text": [
      "\r",
      "sample time step:  97%|█████████▋| 97/100 [00:40<00:01,  2.35it/s]"
     ]
    },
    {
     "name": "stderr",
     "output_type": "stream",
     "text": [
      "\r",
      "sample time step:  98%|█████████▊| 98/100 [00:41<00:00,  2.34it/s]"
     ]
    },
    {
     "name": "stderr",
     "output_type": "stream",
     "text": [
      "\r",
      "sample time step:  99%|█████████▉| 99/100 [00:41<00:00,  2.33it/s]"
     ]
    },
    {
     "name": "stderr",
     "output_type": "stream",
     "text": [
      "\r",
      "sample time step: 100%|██████████| 100/100 [00:41<00:00,  2.42it/s]"
     ]
    },
    {
     "name": "stderr",
     "output_type": "stream",
     "text": [
      "\r",
      "sample time step: 100%|██████████| 100/100 [00:41<00:00,  2.38it/s]"
     ]
    },
    {
     "name": "stderr",
     "output_type": "stream",
     "text": [
      "\n"
     ]
    },
    {
     "name": "stdout",
     "output_type": "stream",
     "text": [
      "✅ Generated: zh_24.wav\n"
     ]
    },
    {
     "name": "stdout",
     "output_type": "stream",
     "text": [
      "Pass word-notes check.\n",
      "343 343 343\n",
      "Pass word-notes check.\n"
     ]
    },
    {
     "name": "stdout",
     "output_type": "stream",
     "text": [
      "===> gaussion start.\n"
     ]
    },
    {
     "name": "stderr",
     "output_type": "stream",
     "text": [
      "\r",
      "sample time step:   0%|          | 0/100 [00:00<?, ?it/s]"
     ]
    },
    {
     "name": "stderr",
     "output_type": "stream",
     "text": [
      "\r",
      "sample time step:   1%|          | 1/100 [00:00<00:55,  1.80it/s]"
     ]
    },
    {
     "name": "stderr",
     "output_type": "stream",
     "text": [
      "\r",
      "sample time step:   2%|▏         | 2/100 [00:01<00:51,  1.90it/s]"
     ]
    },
    {
     "name": "stderr",
     "output_type": "stream",
     "text": [
      "\r",
      "sample time step:   3%|▎         | 3/100 [00:01<00:50,  1.93it/s]"
     ]
    },
    {
     "name": "stderr",
     "output_type": "stream",
     "text": [
      "\r",
      "sample time step:   4%|▍         | 4/100 [00:02<00:49,  1.94it/s]"
     ]
    },
    {
     "name": "stderr",
     "output_type": "stream",
     "text": [
      "\r",
      "sample time step:   5%|▌         | 5/100 [00:02<00:48,  1.96it/s]"
     ]
    },
    {
     "name": "stderr",
     "output_type": "stream",
     "text": [
      "\r",
      "sample time step:   6%|▌         | 6/100 [00:03<00:47,  1.96it/s]"
     ]
    },
    {
     "name": "stderr",
     "output_type": "stream",
     "text": [
      "\r",
      "sample time step:   7%|▋         | 7/100 [00:03<00:47,  1.96it/s]"
     ]
    },
    {
     "name": "stderr",
     "output_type": "stream",
     "text": [
      "\r",
      "sample time step:   8%|▊         | 8/100 [00:04<00:45,  2.01it/s]"
     ]
    },
    {
     "name": "stderr",
     "output_type": "stream",
     "text": [
      "\r",
      "sample time step:   9%|▉         | 9/100 [00:04<00:43,  2.10it/s]"
     ]
    },
    {
     "name": "stderr",
     "output_type": "stream",
     "text": [
      "\r",
      "sample time step:  10%|█         | 10/100 [00:04<00:41,  2.17it/s]"
     ]
    },
    {
     "name": "stderr",
     "output_type": "stream",
     "text": [
      "\r",
      "sample time step:  11%|█         | 11/100 [00:05<00:40,  2.22it/s]"
     ]
    },
    {
     "name": "stderr",
     "output_type": "stream",
     "text": [
      "\r",
      "sample time step:  12%|█▏        | 12/100 [00:05<00:38,  2.26it/s]"
     ]
    },
    {
     "name": "stderr",
     "output_type": "stream",
     "text": [
      "\r",
      "sample time step:  13%|█▎        | 13/100 [00:06<00:37,  2.30it/s]"
     ]
    },
    {
     "name": "stderr",
     "output_type": "stream",
     "text": [
      "\r",
      "sample time step:  14%|█▍        | 14/100 [00:06<00:36,  2.33it/s]"
     ]
    },
    {
     "name": "stderr",
     "output_type": "stream",
     "text": [
      "\r",
      "sample time step:  15%|█▌        | 15/100 [00:07<00:36,  2.33it/s]"
     ]
    },
    {
     "name": "stderr",
     "output_type": "stream",
     "text": [
      "\r",
      "sample time step:  16%|█▌        | 16/100 [00:07<00:35,  2.34it/s]"
     ]
    },
    {
     "name": "stderr",
     "output_type": "stream",
     "text": [
      "\r",
      "sample time step:  17%|█▋        | 17/100 [00:07<00:35,  2.36it/s]"
     ]
    },
    {
     "name": "stderr",
     "output_type": "stream",
     "text": [
      "\r",
      "sample time step:  18%|█▊        | 18/100 [00:08<00:35,  2.32it/s]"
     ]
    },
    {
     "name": "stderr",
     "output_type": "stream",
     "text": [
      "\r",
      "sample time step:  19%|█▉        | 19/100 [00:08<00:36,  2.24it/s]"
     ]
    },
    {
     "name": "stderr",
     "output_type": "stream",
     "text": [
      "\r",
      "sample time step:  20%|██        | 20/100 [00:09<00:36,  2.16it/s]"
     ]
    },
    {
     "name": "stderr",
     "output_type": "stream",
     "text": [
      "\r",
      "sample time step:  21%|██        | 21/100 [00:09<00:37,  2.11it/s]"
     ]
    },
    {
     "name": "stderr",
     "output_type": "stream",
     "text": [
      "\r",
      "sample time step:  22%|██▏       | 22/100 [00:10<00:37,  2.07it/s]"
     ]
    },
    {
     "name": "stderr",
     "output_type": "stream",
     "text": [
      "\r",
      "sample time step:  23%|██▎       | 23/100 [00:10<00:36,  2.09it/s]"
     ]
    },
    {
     "name": "stderr",
     "output_type": "stream",
     "text": [
      "\r",
      "sample time step:  24%|██▍       | 24/100 [00:11<00:36,  2.08it/s]"
     ]
    },
    {
     "name": "stderr",
     "output_type": "stream",
     "text": [
      "\r",
      "sample time step:  25%|██▌       | 25/100 [00:11<00:34,  2.15it/s]"
     ]
    },
    {
     "name": "stderr",
     "output_type": "stream",
     "text": [
      "\r",
      "sample time step:  26%|██▌       | 26/100 [00:12<00:33,  2.21it/s]"
     ]
    },
    {
     "name": "stderr",
     "output_type": "stream",
     "text": [
      "\r",
      "sample time step:  27%|██▋       | 27/100 [00:12<00:32,  2.26it/s]"
     ]
    },
    {
     "name": "stderr",
     "output_type": "stream",
     "text": [
      "\r",
      "sample time step:  28%|██▊       | 28/100 [00:12<00:31,  2.29it/s]"
     ]
    },
    {
     "name": "stderr",
     "output_type": "stream",
     "text": [
      "\r",
      "sample time step:  29%|██▉       | 29/100 [00:13<00:30,  2.31it/s]"
     ]
    },
    {
     "name": "stderr",
     "output_type": "stream",
     "text": [
      "\r",
      "sample time step:  30%|███       | 30/100 [00:13<00:30,  2.32it/s]"
     ]
    },
    {
     "name": "stderr",
     "output_type": "stream",
     "text": [
      "\r",
      "sample time step:  31%|███       | 31/100 [00:14<00:29,  2.32it/s]"
     ]
    },
    {
     "name": "stderr",
     "output_type": "stream",
     "text": [
      "\r",
      "sample time step:  32%|███▏      | 32/100 [00:14<00:29,  2.31it/s]"
     ]
    },
    {
     "name": "stderr",
     "output_type": "stream",
     "text": [
      "\r",
      "sample time step:  33%|███▎      | 33/100 [00:15<00:28,  2.32it/s]"
     ]
    },
    {
     "name": "stderr",
     "output_type": "stream",
     "text": [
      "\r",
      "sample time step:  34%|███▍      | 34/100 [00:15<00:30,  2.17it/s]"
     ]
    },
    {
     "name": "stderr",
     "output_type": "stream",
     "text": [
      "\r",
      "sample time step:  35%|███▌      | 35/100 [00:16<00:30,  2.12it/s]"
     ]
    },
    {
     "name": "stderr",
     "output_type": "stream",
     "text": [
      "\r",
      "sample time step:  36%|███▌      | 36/100 [00:16<00:30,  2.07it/s]"
     ]
    },
    {
     "name": "stderr",
     "output_type": "stream",
     "text": [
      "\r",
      "sample time step:  37%|███▋      | 37/100 [00:17<00:30,  2.06it/s]"
     ]
    },
    {
     "name": "stderr",
     "output_type": "stream",
     "text": [
      "\r",
      "sample time step:  38%|███▊      | 38/100 [00:17<00:29,  2.07it/s]"
     ]
    },
    {
     "name": "stderr",
     "output_type": "stream",
     "text": [
      "\r",
      "sample time step:  39%|███▉      | 39/100 [00:18<00:28,  2.12it/s]"
     ]
    },
    {
     "name": "stderr",
     "output_type": "stream",
     "text": [
      "\r",
      "sample time step:  40%|████      | 40/100 [00:18<00:28,  2.08it/s]"
     ]
    },
    {
     "name": "stderr",
     "output_type": "stream",
     "text": [
      "\r",
      "sample time step:  41%|████      | 41/100 [00:18<00:27,  2.15it/s]"
     ]
    },
    {
     "name": "stderr",
     "output_type": "stream",
     "text": [
      "\r",
      "sample time step:  42%|████▏     | 42/100 [00:19<00:26,  2.20it/s]"
     ]
    },
    {
     "name": "stderr",
     "output_type": "stream",
     "text": [
      "\r",
      "sample time step:  43%|████▎     | 43/100 [00:19<00:25,  2.19it/s]"
     ]
    },
    {
     "name": "stderr",
     "output_type": "stream",
     "text": [
      "\r",
      "sample time step:  44%|████▍     | 44/100 [00:20<00:25,  2.19it/s]"
     ]
    },
    {
     "name": "stderr",
     "output_type": "stream",
     "text": [
      "\r",
      "sample time step:  45%|████▌     | 45/100 [00:20<00:24,  2.23it/s]"
     ]
    },
    {
     "name": "stderr",
     "output_type": "stream",
     "text": [
      "\r",
      "sample time step:  46%|████▌     | 46/100 [00:21<00:24,  2.25it/s]"
     ]
    },
    {
     "name": "stderr",
     "output_type": "stream",
     "text": [
      "\r",
      "sample time step:  47%|████▋     | 47/100 [00:21<00:23,  2.23it/s]"
     ]
    },
    {
     "name": "stderr",
     "output_type": "stream",
     "text": [
      "\r",
      "sample time step:  48%|████▊     | 48/100 [00:22<00:24,  2.13it/s]"
     ]
    },
    {
     "name": "stderr",
     "output_type": "stream",
     "text": [
      "\r",
      "sample time step:  49%|████▉     | 49/100 [00:22<00:24,  2.08it/s]"
     ]
    },
    {
     "name": "stderr",
     "output_type": "stream",
     "text": [
      "\r",
      "sample time step:  50%|█████     | 50/100 [00:23<00:24,  2.04it/s]"
     ]
    },
    {
     "name": "stderr",
     "output_type": "stream",
     "text": [
      "\r",
      "sample time step:  51%|█████     | 51/100 [00:23<00:24,  2.01it/s]"
     ]
    },
    {
     "name": "stderr",
     "output_type": "stream",
     "text": [
      "\r",
      "sample time step:  52%|█████▏    | 52/100 [00:24<00:24,  1.99it/s]"
     ]
    },
    {
     "name": "stderr",
     "output_type": "stream",
     "text": [
      "\r",
      "sample time step:  53%|█████▎    | 53/100 [00:24<00:23,  1.98it/s]"
     ]
    },
    {
     "name": "stderr",
     "output_type": "stream",
     "text": [
      "\r",
      "sample time step:  54%|█████▍    | 54/100 [00:25<00:22,  2.04it/s]"
     ]
    },
    {
     "name": "stderr",
     "output_type": "stream",
     "text": [
      "\r",
      "sample time step:  55%|█████▌    | 55/100 [00:25<00:22,  2.03it/s]"
     ]
    },
    {
     "name": "stderr",
     "output_type": "stream",
     "text": [
      "\r",
      "sample time step:  56%|█████▌    | 56/100 [00:26<00:21,  2.05it/s]"
     ]
    },
    {
     "name": "stderr",
     "output_type": "stream",
     "text": [
      "\r",
      "sample time step:  57%|█████▋    | 57/100 [00:26<00:20,  2.12it/s]"
     ]
    },
    {
     "name": "stderr",
     "output_type": "stream",
     "text": [
      "\r",
      "sample time step:  58%|█████▊    | 58/100 [00:27<00:19,  2.19it/s]"
     ]
    },
    {
     "name": "stderr",
     "output_type": "stream",
     "text": [
      "\r",
      "sample time step:  59%|█████▉    | 59/100 [00:27<00:18,  2.22it/s]"
     ]
    },
    {
     "name": "stderr",
     "output_type": "stream",
     "text": [
      "\r",
      "sample time step:  60%|██████    | 60/100 [00:27<00:18,  2.22it/s]"
     ]
    },
    {
     "name": "stderr",
     "output_type": "stream",
     "text": [
      "\r",
      "sample time step:  61%|██████    | 61/100 [00:28<00:18,  2.15it/s]"
     ]
    },
    {
     "name": "stderr",
     "output_type": "stream",
     "text": [
      "\r",
      "sample time step:  62%|██████▏   | 62/100 [00:28<00:18,  2.09it/s]"
     ]
    },
    {
     "name": "stderr",
     "output_type": "stream",
     "text": [
      "\r",
      "sample time step:  63%|██████▎   | 63/100 [00:29<00:18,  2.05it/s]"
     ]
    },
    {
     "name": "stderr",
     "output_type": "stream",
     "text": [
      "\r",
      "sample time step:  64%|██████▍   | 64/100 [00:29<00:17,  2.04it/s]"
     ]
    },
    {
     "name": "stderr",
     "output_type": "stream",
     "text": [
      "\r",
      "sample time step:  65%|██████▌   | 65/100 [00:30<00:17,  2.02it/s]"
     ]
    },
    {
     "name": "stderr",
     "output_type": "stream",
     "text": [
      "\r",
      "sample time step:  66%|██████▌   | 66/100 [00:30<00:16,  2.09it/s]"
     ]
    },
    {
     "name": "stderr",
     "output_type": "stream",
     "text": [
      "\r",
      "sample time step:  67%|██████▋   | 67/100 [00:31<00:15,  2.08it/s]"
     ]
    },
    {
     "name": "stderr",
     "output_type": "stream",
     "text": [
      "\r",
      "sample time step:  68%|██████▊   | 68/100 [00:31<00:15,  2.09it/s]"
     ]
    },
    {
     "name": "stderr",
     "output_type": "stream",
     "text": [
      "\r",
      "sample time step:  69%|██████▉   | 69/100 [00:32<00:15,  2.04it/s]"
     ]
    },
    {
     "name": "stderr",
     "output_type": "stream",
     "text": [
      "\r",
      "sample time step:  70%|███████   | 70/100 [00:32<00:15,  1.92it/s]"
     ]
    },
    {
     "name": "stderr",
     "output_type": "stream",
     "text": [
      "\r",
      "sample time step:  71%|███████   | 71/100 [00:33<00:15,  1.91it/s]"
     ]
    },
    {
     "name": "stderr",
     "output_type": "stream",
     "text": [
      "\r",
      "sample time step:  72%|███████▏  | 72/100 [00:33<00:14,  1.94it/s]"
     ]
    },
    {
     "name": "stderr",
     "output_type": "stream",
     "text": [
      "\r",
      "sample time step:  73%|███████▎  | 73/100 [00:34<00:13,  1.98it/s]"
     ]
    },
    {
     "name": "stderr",
     "output_type": "stream",
     "text": [
      "\r",
      "sample time step:  74%|███████▍  | 74/100 [00:34<00:13,  1.94it/s]"
     ]
    },
    {
     "name": "stderr",
     "output_type": "stream",
     "text": [
      "\r",
      "sample time step:  75%|███████▌  | 75/100 [00:35<00:13,  1.91it/s]"
     ]
    },
    {
     "name": "stderr",
     "output_type": "stream",
     "text": [
      "\r",
      "sample time step:  76%|███████▌  | 76/100 [00:36<00:12,  1.85it/s]"
     ]
    },
    {
     "name": "stderr",
     "output_type": "stream",
     "text": [
      "\r",
      "sample time step:  77%|███████▋  | 77/100 [00:36<00:12,  1.91it/s]"
     ]
    },
    {
     "name": "stderr",
     "output_type": "stream",
     "text": [
      "\r",
      "sample time step:  78%|███████▊  | 78/100 [00:37<00:11,  1.91it/s]"
     ]
    },
    {
     "name": "stderr",
     "output_type": "stream",
     "text": [
      "\r",
      "sample time step:  79%|███████▉  | 79/100 [00:37<00:10,  1.95it/s]"
     ]
    },
    {
     "name": "stderr",
     "output_type": "stream",
     "text": [
      "\r",
      "sample time step:  80%|████████  | 80/100 [00:38<00:09,  2.02it/s]"
     ]
    },
    {
     "name": "stderr",
     "output_type": "stream",
     "text": [
      "\r",
      "sample time step:  81%|████████  | 81/100 [00:38<00:09,  2.06it/s]"
     ]
    },
    {
     "name": "stderr",
     "output_type": "stream",
     "text": [
      "\r",
      "sample time step:  82%|████████▏ | 82/100 [00:39<00:08,  2.04it/s]"
     ]
    },
    {
     "name": "stderr",
     "output_type": "stream",
     "text": [
      "\r",
      "sample time step:  83%|████████▎ | 83/100 [00:39<00:08,  1.98it/s]"
     ]
    },
    {
     "name": "stderr",
     "output_type": "stream",
     "text": [
      "\r",
      "sample time step:  84%|████████▍ | 84/100 [00:40<00:08,  1.99it/s]"
     ]
    },
    {
     "name": "stderr",
     "output_type": "stream",
     "text": [
      "\r",
      "sample time step:  85%|████████▌ | 85/100 [00:40<00:07,  1.96it/s]"
     ]
    },
    {
     "name": "stderr",
     "output_type": "stream",
     "text": [
      "\r",
      "sample time step:  86%|████████▌ | 86/100 [00:41<00:07,  1.93it/s]"
     ]
    },
    {
     "name": "stderr",
     "output_type": "stream",
     "text": [
      "\r",
      "sample time step:  87%|████████▋ | 87/100 [00:41<00:06,  1.92it/s]"
     ]
    },
    {
     "name": "stderr",
     "output_type": "stream",
     "text": [
      "\r",
      "sample time step:  88%|████████▊ | 88/100 [00:42<00:06,  1.91it/s]"
     ]
    },
    {
     "name": "stderr",
     "output_type": "stream",
     "text": [
      "\r",
      "sample time step:  89%|████████▉ | 89/100 [00:42<00:05,  1.94it/s]"
     ]
    },
    {
     "name": "stderr",
     "output_type": "stream",
     "text": [
      "\r",
      "sample time step:  90%|█████████ | 90/100 [00:43<00:05,  1.95it/s]"
     ]
    },
    {
     "name": "stderr",
     "output_type": "stream",
     "text": [
      "\r",
      "sample time step:  91%|█████████ | 91/100 [00:43<00:04,  1.95it/s]"
     ]
    },
    {
     "name": "stderr",
     "output_type": "stream",
     "text": [
      "\r",
      "sample time step:  92%|█████████▏| 92/100 [00:44<00:04,  1.90it/s]"
     ]
    },
    {
     "name": "stderr",
     "output_type": "stream",
     "text": [
      "\r",
      "sample time step:  93%|█████████▎| 93/100 [00:44<00:03,  1.90it/s]"
     ]
    },
    {
     "name": "stderr",
     "output_type": "stream",
     "text": [
      "\r",
      "sample time step:  94%|█████████▍| 94/100 [00:45<00:03,  1.98it/s]"
     ]
    },
    {
     "name": "stderr",
     "output_type": "stream",
     "text": [
      "\r",
      "sample time step:  95%|█████████▌| 95/100 [00:45<00:02,  2.06it/s]"
     ]
    },
    {
     "name": "stderr",
     "output_type": "stream",
     "text": [
      "\r",
      "sample time step:  96%|█████████▌| 96/100 [00:46<00:01,  2.09it/s]"
     ]
    },
    {
     "name": "stderr",
     "output_type": "stream",
     "text": [
      "\r",
      "sample time step:  97%|█████████▋| 97/100 [00:46<00:01,  2.06it/s]"
     ]
    },
    {
     "name": "stderr",
     "output_type": "stream",
     "text": [
      "\r",
      "sample time step:  98%|█████████▊| 98/100 [00:47<00:00,  2.01it/s]"
     ]
    },
    {
     "name": "stderr",
     "output_type": "stream",
     "text": [
      "\r",
      "sample time step:  99%|█████████▉| 99/100 [00:47<00:00,  1.98it/s]"
     ]
    },
    {
     "name": "stderr",
     "output_type": "stream",
     "text": [
      "\r",
      "sample time step: 100%|██████████| 100/100 [00:48<00:00,  1.96it/s]"
     ]
    },
    {
     "name": "stderr",
     "output_type": "stream",
     "text": [
      "\r",
      "sample time step: 100%|██████████| 100/100 [00:48<00:00,  2.07it/s]"
     ]
    },
    {
     "name": "stderr",
     "output_type": "stream",
     "text": [
      "\n"
     ]
    },
    {
     "name": "stdout",
     "output_type": "stream",
     "text": [
      "✅ Generated: zh_13.wav\n"
     ]
    },
    {
     "name": "stdout",
     "output_type": "stream",
     "text": [
      "Pass word-notes check.\n",
      "217 217 217\n",
      "Pass word-notes check.\n"
     ]
    },
    {
     "name": "stdout",
     "output_type": "stream",
     "text": [
      "===> gaussion start.\n"
     ]
    },
    {
     "name": "stderr",
     "output_type": "stream",
     "text": [
      "\r",
      "sample time step:   0%|          | 0/100 [00:00<?, ?it/s]"
     ]
    },
    {
     "name": "stderr",
     "output_type": "stream",
     "text": [
      "\r",
      "sample time step:   1%|          | 1/100 [00:00<00:33,  2.93it/s]"
     ]
    },
    {
     "name": "stderr",
     "output_type": "stream",
     "text": [
      "\r",
      "sample time step:   2%|▏         | 2/100 [00:00<00:34,  2.84it/s]"
     ]
    },
    {
     "name": "stderr",
     "output_type": "stream",
     "text": [
      "\r",
      "sample time step:   3%|▎         | 3/100 [00:01<00:34,  2.82it/s]"
     ]
    },
    {
     "name": "stderr",
     "output_type": "stream",
     "text": [
      "\r",
      "sample time step:   4%|▍         | 4/100 [00:01<00:33,  2.90it/s]"
     ]
    },
    {
     "name": "stderr",
     "output_type": "stream",
     "text": [
      "\r",
      "sample time step:   5%|▌         | 5/100 [00:01<00:32,  2.94it/s]"
     ]
    },
    {
     "name": "stderr",
     "output_type": "stream",
     "text": [
      "\r",
      "sample time step:   6%|▌         | 6/100 [00:02<00:31,  2.96it/s]"
     ]
    },
    {
     "name": "stderr",
     "output_type": "stream",
     "text": [
      "\r",
      "sample time step:   7%|▋         | 7/100 [00:02<00:31,  2.99it/s]"
     ]
    },
    {
     "name": "stderr",
     "output_type": "stream",
     "text": [
      "\r",
      "sample time step:   8%|▊         | 8/100 [00:02<00:30,  3.00it/s]"
     ]
    },
    {
     "name": "stderr",
     "output_type": "stream",
     "text": [
      "\r",
      "sample time step:   9%|▉         | 9/100 [00:03<00:30,  3.01it/s]"
     ]
    },
    {
     "name": "stderr",
     "output_type": "stream",
     "text": [
      "\r",
      "sample time step:  10%|█         | 10/100 [00:03<00:30,  2.94it/s]"
     ]
    },
    {
     "name": "stderr",
     "output_type": "stream",
     "text": [
      "\r",
      "sample time step:  11%|█         | 11/100 [00:03<00:30,  2.96it/s]"
     ]
    },
    {
     "name": "stderr",
     "output_type": "stream",
     "text": [
      "\r",
      "sample time step:  12%|█▏        | 12/100 [00:04<00:29,  2.97it/s]"
     ]
    },
    {
     "name": "stderr",
     "output_type": "stream",
     "text": [
      "\r",
      "sample time step:  13%|█▎        | 13/100 [00:04<00:29,  2.98it/s]"
     ]
    },
    {
     "name": "stderr",
     "output_type": "stream",
     "text": [
      "\r",
      "sample time step:  14%|█▍        | 14/100 [00:04<00:29,  2.88it/s]"
     ]
    },
    {
     "name": "stderr",
     "output_type": "stream",
     "text": [
      "\r",
      "sample time step:  15%|█▌        | 15/100 [00:05<00:29,  2.89it/s]"
     ]
    },
    {
     "name": "stderr",
     "output_type": "stream",
     "text": [
      "\r",
      "sample time step:  16%|█▌        | 16/100 [00:05<00:29,  2.89it/s]"
     ]
    },
    {
     "name": "stderr",
     "output_type": "stream",
     "text": [
      "\r",
      "sample time step:  17%|█▋        | 17/100 [00:05<00:28,  2.91it/s]"
     ]
    },
    {
     "name": "stderr",
     "output_type": "stream",
     "text": [
      "\r",
      "sample time step:  18%|█▊        | 18/100 [00:06<00:28,  2.89it/s]"
     ]
    },
    {
     "name": "stderr",
     "output_type": "stream",
     "text": [
      "\r",
      "sample time step:  19%|█▉        | 19/100 [00:06<00:28,  2.89it/s]"
     ]
    },
    {
     "name": "stderr",
     "output_type": "stream",
     "text": [
      "\r",
      "sample time step:  20%|██        | 20/100 [00:06<00:26,  2.97it/s]"
     ]
    },
    {
     "name": "stderr",
     "output_type": "stream",
     "text": [
      "\r",
      "sample time step:  21%|██        | 21/100 [00:07<00:25,  3.14it/s]"
     ]
    },
    {
     "name": "stderr",
     "output_type": "stream",
     "text": [
      "\r",
      "sample time step:  22%|██▏       | 22/100 [00:07<00:24,  3.15it/s]"
     ]
    },
    {
     "name": "stderr",
     "output_type": "stream",
     "text": [
      "\r",
      "sample time step:  23%|██▎       | 23/100 [00:07<00:24,  3.18it/s]"
     ]
    },
    {
     "name": "stderr",
     "output_type": "stream",
     "text": [
      "\r",
      "sample time step:  24%|██▍       | 24/100 [00:07<00:23,  3.29it/s]"
     ]
    },
    {
     "name": "stderr",
     "output_type": "stream",
     "text": [
      "\r",
      "sample time step:  25%|██▌       | 25/100 [00:08<00:22,  3.37it/s]"
     ]
    },
    {
     "name": "stderr",
     "output_type": "stream",
     "text": [
      "\r",
      "sample time step:  26%|██▌       | 26/100 [00:08<00:21,  3.41it/s]"
     ]
    },
    {
     "name": "stderr",
     "output_type": "stream",
     "text": [
      "\r",
      "sample time step:  27%|██▋       | 27/100 [00:08<00:21,  3.45it/s]"
     ]
    },
    {
     "name": "stderr",
     "output_type": "stream",
     "text": [
      "\r",
      "sample time step:  28%|██▊       | 28/100 [00:09<00:21,  3.31it/s]"
     ]
    },
    {
     "name": "stderr",
     "output_type": "stream",
     "text": [
      "\r",
      "sample time step:  29%|██▉       | 29/100 [00:09<00:21,  3.29it/s]"
     ]
    },
    {
     "name": "stderr",
     "output_type": "stream",
     "text": [
      "\r",
      "sample time step:  30%|███       | 30/100 [00:09<00:21,  3.32it/s]"
     ]
    },
    {
     "name": "stderr",
     "output_type": "stream",
     "text": [
      "\r",
      "sample time step:  31%|███       | 31/100 [00:10<00:21,  3.18it/s]"
     ]
    },
    {
     "name": "stderr",
     "output_type": "stream",
     "text": [
      "\r",
      "sample time step:  32%|███▏      | 32/100 [00:10<00:21,  3.12it/s]"
     ]
    },
    {
     "name": "stderr",
     "output_type": "stream",
     "text": [
      "\r",
      "sample time step:  33%|███▎      | 33/100 [00:10<00:20,  3.21it/s]"
     ]
    },
    {
     "name": "stderr",
     "output_type": "stream",
     "text": [
      "\r",
      "sample time step:  34%|███▍      | 34/100 [00:11<00:19,  3.31it/s]"
     ]
    },
    {
     "name": "stderr",
     "output_type": "stream",
     "text": [
      "\r",
      "sample time step:  35%|███▌      | 35/100 [00:11<00:20,  3.19it/s]"
     ]
    },
    {
     "name": "stderr",
     "output_type": "stream",
     "text": [
      "\r",
      "sample time step:  36%|███▌      | 36/100 [00:11<00:20,  3.06it/s]"
     ]
    },
    {
     "name": "stderr",
     "output_type": "stream",
     "text": [
      "\r",
      "sample time step:  37%|███▋      | 37/100 [00:12<00:20,  3.03it/s]"
     ]
    },
    {
     "name": "stderr",
     "output_type": "stream",
     "text": [
      "\r",
      "sample time step:  38%|███▊      | 38/100 [00:12<00:21,  2.90it/s]"
     ]
    },
    {
     "name": "stderr",
     "output_type": "stream",
     "text": [
      "\r",
      "sample time step:  39%|███▉      | 39/100 [00:12<00:21,  2.88it/s]"
     ]
    },
    {
     "name": "stderr",
     "output_type": "stream",
     "text": [
      "\r",
      "sample time step:  40%|████      | 40/100 [00:13<00:20,  2.91it/s]"
     ]
    },
    {
     "name": "stderr",
     "output_type": "stream",
     "text": [
      "\r",
      "sample time step:  41%|████      | 41/100 [00:13<00:20,  2.89it/s]"
     ]
    },
    {
     "name": "stderr",
     "output_type": "stream",
     "text": [
      "\r",
      "sample time step:  42%|████▏     | 42/100 [00:13<00:19,  2.94it/s]"
     ]
    },
    {
     "name": "stderr",
     "output_type": "stream",
     "text": [
      "\r",
      "sample time step:  43%|████▎     | 43/100 [00:14<00:18,  3.09it/s]"
     ]
    },
    {
     "name": "stderr",
     "output_type": "stream",
     "text": [
      "\r",
      "sample time step:  44%|████▍     | 44/100 [00:14<00:17,  3.15it/s]"
     ]
    },
    {
     "name": "stderr",
     "output_type": "stream",
     "text": [
      "\r",
      "sample time step:  45%|████▌     | 45/100 [00:14<00:16,  3.30it/s]"
     ]
    },
    {
     "name": "stderr",
     "output_type": "stream",
     "text": [
      "\r",
      "sample time step:  46%|████▌     | 46/100 [00:14<00:16,  3.33it/s]"
     ]
    },
    {
     "name": "stderr",
     "output_type": "stream",
     "text": [
      "\r",
      "sample time step:  47%|████▋     | 47/100 [00:15<00:15,  3.32it/s]"
     ]
    },
    {
     "name": "stderr",
     "output_type": "stream",
     "text": [
      "\r",
      "sample time step:  48%|████▊     | 48/100 [00:15<00:15,  3.36it/s]"
     ]
    },
    {
     "name": "stderr",
     "output_type": "stream",
     "text": [
      "\r",
      "sample time step:  49%|████▉     | 49/100 [00:15<00:15,  3.30it/s]"
     ]
    },
    {
     "name": "stderr",
     "output_type": "stream",
     "text": [
      "\r",
      "sample time step:  50%|█████     | 50/100 [00:16<00:14,  3.40it/s]"
     ]
    },
    {
     "name": "stderr",
     "output_type": "stream",
     "text": [
      "\r",
      "sample time step:  51%|█████     | 51/100 [00:16<00:14,  3.27it/s]"
     ]
    },
    {
     "name": "stderr",
     "output_type": "stream",
     "text": [
      "\r",
      "sample time step:  52%|█████▏    | 52/100 [00:16<00:14,  3.22it/s]"
     ]
    },
    {
     "name": "stderr",
     "output_type": "stream",
     "text": [
      "\r",
      "sample time step:  53%|█████▎    | 53/100 [00:17<00:14,  3.24it/s]"
     ]
    },
    {
     "name": "stderr",
     "output_type": "stream",
     "text": [
      "\r",
      "sample time step:  54%|█████▍    | 54/100 [00:17<00:14,  3.22it/s]"
     ]
    },
    {
     "name": "stderr",
     "output_type": "stream",
     "text": [
      "\r",
      "sample time step:  55%|█████▌    | 55/100 [00:17<00:13,  3.34it/s]"
     ]
    },
    {
     "name": "stderr",
     "output_type": "stream",
     "text": [
      "\r",
      "sample time step:  56%|█████▌    | 56/100 [00:17<00:13,  3.38it/s]"
     ]
    },
    {
     "name": "stderr",
     "output_type": "stream",
     "text": [
      "\r",
      "sample time step:  57%|█████▋    | 57/100 [00:18<00:12,  3.44it/s]"
     ]
    },
    {
     "name": "stderr",
     "output_type": "stream",
     "text": [
      "\r",
      "sample time step:  58%|█████▊    | 58/100 [00:18<00:12,  3.48it/s]"
     ]
    },
    {
     "name": "stderr",
     "output_type": "stream",
     "text": [
      "\r",
      "sample time step:  59%|█████▉    | 59/100 [00:18<00:11,  3.42it/s]"
     ]
    },
    {
     "name": "stderr",
     "output_type": "stream",
     "text": [
      "\r",
      "sample time step:  60%|██████    | 60/100 [00:19<00:12,  3.29it/s]"
     ]
    },
    {
     "name": "stderr",
     "output_type": "stream",
     "text": [
      "\r",
      "sample time step:  61%|██████    | 61/100 [00:19<00:12,  3.16it/s]"
     ]
    },
    {
     "name": "stderr",
     "output_type": "stream",
     "text": [
      "\r",
      "sample time step:  62%|██████▏   | 62/100 [00:19<00:12,  3.03it/s]"
     ]
    },
    {
     "name": "stderr",
     "output_type": "stream",
     "text": [
      "\r",
      "sample time step:  63%|██████▎   | 63/100 [00:20<00:12,  3.04it/s]"
     ]
    },
    {
     "name": "stderr",
     "output_type": "stream",
     "text": [
      "\r",
      "sample time step:  64%|██████▍   | 64/100 [00:20<00:11,  3.13it/s]"
     ]
    },
    {
     "name": "stderr",
     "output_type": "stream",
     "text": [
      "\r",
      "sample time step:  65%|██████▌   | 65/100 [00:20<00:11,  3.16it/s]"
     ]
    },
    {
     "name": "stderr",
     "output_type": "stream",
     "text": [
      "\r",
      "sample time step:  66%|██████▌   | 66/100 [00:21<00:10,  3.20it/s]"
     ]
    },
    {
     "name": "stderr",
     "output_type": "stream",
     "text": [
      "\r",
      "sample time step:  67%|██████▋   | 67/100 [00:21<00:10,  3.28it/s]"
     ]
    },
    {
     "name": "stderr",
     "output_type": "stream",
     "text": [
      "\r",
      "sample time step:  68%|██████▊   | 68/100 [00:21<00:09,  3.41it/s]"
     ]
    },
    {
     "name": "stderr",
     "output_type": "stream",
     "text": [
      "\r",
      "sample time step:  69%|██████▉   | 69/100 [00:21<00:08,  3.51it/s]"
     ]
    },
    {
     "name": "stderr",
     "output_type": "stream",
     "text": [
      "\r",
      "sample time step:  70%|███████   | 70/100 [00:22<00:08,  3.51it/s]"
     ]
    },
    {
     "name": "stderr",
     "output_type": "stream",
     "text": [
      "\r",
      "sample time step:  71%|███████   | 71/100 [00:22<00:08,  3.50it/s]"
     ]
    },
    {
     "name": "stderr",
     "output_type": "stream",
     "text": [
      "\r",
      "sample time step:  72%|███████▏  | 72/100 [00:22<00:08,  3.46it/s]"
     ]
    },
    {
     "name": "stderr",
     "output_type": "stream",
     "text": [
      "\r",
      "sample time step:  73%|███████▎  | 73/100 [00:23<00:07,  3.39it/s]"
     ]
    },
    {
     "name": "stderr",
     "output_type": "stream",
     "text": [
      "\r",
      "sample time step:  74%|███████▍  | 74/100 [00:23<00:07,  3.28it/s]"
     ]
    },
    {
     "name": "stderr",
     "output_type": "stream",
     "text": [
      "\r",
      "sample time step:  75%|███████▌  | 75/100 [00:23<00:07,  3.35it/s]"
     ]
    },
    {
     "name": "stderr",
     "output_type": "stream",
     "text": [
      "\r",
      "sample time step:  76%|███████▌  | 76/100 [00:23<00:07,  3.41it/s]"
     ]
    },
    {
     "name": "stderr",
     "output_type": "stream",
     "text": [
      "\r",
      "sample time step:  77%|███████▋  | 77/100 [00:24<00:06,  3.37it/s]"
     ]
    },
    {
     "name": "stderr",
     "output_type": "stream",
     "text": [
      "\r",
      "sample time step:  78%|███████▊  | 78/100 [00:24<00:06,  3.45it/s]"
     ]
    },
    {
     "name": "stderr",
     "output_type": "stream",
     "text": [
      "\r",
      "sample time step:  79%|███████▉  | 79/100 [00:24<00:06,  3.42it/s]"
     ]
    },
    {
     "name": "stderr",
     "output_type": "stream",
     "text": [
      "\r",
      "sample time step:  80%|████████  | 80/100 [00:25<00:05,  3.47it/s]"
     ]
    },
    {
     "name": "stderr",
     "output_type": "stream",
     "text": [
      "\r",
      "sample time step:  81%|████████  | 81/100 [00:25<00:05,  3.47it/s]"
     ]
    },
    {
     "name": "stderr",
     "output_type": "stream",
     "text": [
      "\r",
      "sample time step:  82%|████████▏ | 82/100 [00:25<00:05,  3.33it/s]"
     ]
    },
    {
     "name": "stderr",
     "output_type": "stream",
     "text": [
      "\r",
      "sample time step:  83%|████████▎ | 83/100 [00:26<00:05,  3.32it/s]"
     ]
    },
    {
     "name": "stderr",
     "output_type": "stream",
     "text": [
      "\r",
      "sample time step:  84%|████████▍ | 84/100 [00:26<00:04,  3.21it/s]"
     ]
    },
    {
     "name": "stderr",
     "output_type": "stream",
     "text": [
      "\r",
      "sample time step:  85%|████████▌ | 85/100 [00:26<00:04,  3.13it/s]"
     ]
    },
    {
     "name": "stderr",
     "output_type": "stream",
     "text": [
      "\r",
      "sample time step:  86%|████████▌ | 86/100 [00:27<00:04,  3.01it/s]"
     ]
    },
    {
     "name": "stderr",
     "output_type": "stream",
     "text": [
      "\r",
      "sample time step:  87%|████████▋ | 87/100 [00:27<00:04,  3.02it/s]"
     ]
    },
    {
     "name": "stderr",
     "output_type": "stream",
     "text": [
      "\r",
      "sample time step:  88%|████████▊ | 88/100 [00:27<00:03,  3.16it/s]"
     ]
    },
    {
     "name": "stderr",
     "output_type": "stream",
     "text": [
      "\r",
      "sample time step:  89%|████████▉ | 89/100 [00:28<00:03,  3.16it/s]"
     ]
    },
    {
     "name": "stderr",
     "output_type": "stream",
     "text": [
      "\r",
      "sample time step:  90%|█████████ | 90/100 [00:28<00:03,  3.14it/s]"
     ]
    },
    {
     "name": "stderr",
     "output_type": "stream",
     "text": [
      "\r",
      "sample time step:  91%|█████████ | 91/100 [00:28<00:02,  3.14it/s]"
     ]
    },
    {
     "name": "stderr",
     "output_type": "stream",
     "text": [
      "\r",
      "sample time step:  92%|█████████▏| 92/100 [00:28<00:02,  3.26it/s]"
     ]
    },
    {
     "name": "stderr",
     "output_type": "stream",
     "text": [
      "\r",
      "sample time step:  93%|█████████▎| 93/100 [00:29<00:02,  3.20it/s]"
     ]
    },
    {
     "name": "stderr",
     "output_type": "stream",
     "text": [
      "\r",
      "sample time step:  94%|█████████▍| 94/100 [00:29<00:01,  3.16it/s]"
     ]
    },
    {
     "name": "stderr",
     "output_type": "stream",
     "text": [
      "\r",
      "sample time step:  95%|█████████▌| 95/100 [00:29<00:01,  3.19it/s]"
     ]
    },
    {
     "name": "stderr",
     "output_type": "stream",
     "text": [
      "\r",
      "sample time step:  96%|█████████▌| 96/100 [00:30<00:01,  3.29it/s]"
     ]
    },
    {
     "name": "stderr",
     "output_type": "stream",
     "text": [
      "\r",
      "sample time step:  97%|█████████▋| 97/100 [00:30<00:00,  3.30it/s]"
     ]
    },
    {
     "name": "stderr",
     "output_type": "stream",
     "text": [
      "\r",
      "sample time step:  98%|█████████▊| 98/100 [00:30<00:00,  3.38it/s]"
     ]
    },
    {
     "name": "stderr",
     "output_type": "stream",
     "text": [
      "\r",
      "sample time step:  99%|█████████▉| 99/100 [00:31<00:00,  3.46it/s]"
     ]
    },
    {
     "name": "stderr",
     "output_type": "stream",
     "text": [
      "\r",
      "sample time step: 100%|██████████| 100/100 [00:31<00:00,  3.49it/s]"
     ]
    },
    {
     "name": "stderr",
     "output_type": "stream",
     "text": [
      "\r",
      "sample time step: 100%|██████████| 100/100 [00:31<00:00,  3.19it/s]"
     ]
    },
    {
     "name": "stderr",
     "output_type": "stream",
     "text": [
      "\n"
     ]
    },
    {
     "name": "stdout",
     "output_type": "stream",
     "text": [
      "✅ Generated: zh_3.wav\n"
     ]
    },
    {
     "name": "stdout",
     "output_type": "stream",
     "text": [
      "Pass word-notes check.\n",
      "399 399 399\n",
      "Pass word-notes check.\n"
     ]
    },
    {
     "name": "stdout",
     "output_type": "stream",
     "text": [
      "===> gaussion start.\n"
     ]
    },
    {
     "name": "stderr",
     "output_type": "stream",
     "text": [
      "\r",
      "sample time step:   0%|          | 0/100 [00:00<?, ?it/s]"
     ]
    },
    {
     "name": "stderr",
     "output_type": "stream",
     "text": [
      "\r",
      "sample time step:   1%|          | 1/100 [00:00<00:52,  1.87it/s]"
     ]
    },
    {
     "name": "stderr",
     "output_type": "stream",
     "text": [
      "\r",
      "sample time step:   2%|▏         | 2/100 [00:01<00:51,  1.92it/s]"
     ]
    },
    {
     "name": "stderr",
     "output_type": "stream",
     "text": [
      "\r",
      "sample time step:   3%|▎         | 3/100 [00:01<00:50,  1.92it/s]"
     ]
    },
    {
     "name": "stderr",
     "output_type": "stream",
     "text": [
      "\r",
      "sample time step:   4%|▍         | 4/100 [00:02<00:49,  1.92it/s]"
     ]
    },
    {
     "name": "stderr",
     "output_type": "stream",
     "text": [
      "\r",
      "sample time step:   5%|▌         | 5/100 [00:02<00:52,  1.82it/s]"
     ]
    },
    {
     "name": "stderr",
     "output_type": "stream",
     "text": [
      "\r",
      "sample time step:   6%|▌         | 6/100 [00:03<00:52,  1.80it/s]"
     ]
    },
    {
     "name": "stderr",
     "output_type": "stream",
     "text": [
      "\r",
      "sample time step:   7%|▋         | 7/100 [00:03<00:52,  1.78it/s]"
     ]
    },
    {
     "name": "stderr",
     "output_type": "stream",
     "text": [
      "\r",
      "sample time step:   8%|▊         | 8/100 [00:04<00:53,  1.73it/s]"
     ]
    },
    {
     "name": "stderr",
     "output_type": "stream",
     "text": [
      "\r",
      "sample time step:   9%|▉         | 9/100 [00:05<00:52,  1.73it/s]"
     ]
    },
    {
     "name": "stderr",
     "output_type": "stream",
     "text": [
      "\r",
      "sample time step:  10%|█         | 10/100 [00:05<00:53,  1.69it/s]"
     ]
    },
    {
     "name": "stderr",
     "output_type": "stream",
     "text": [
      "\r",
      "sample time step:  11%|█         | 11/100 [00:06<00:54,  1.64it/s]"
     ]
    },
    {
     "name": "stderr",
     "output_type": "stream",
     "text": [
      "\r",
      "sample time step:  12%|█▏        | 12/100 [00:06<00:51,  1.71it/s]"
     ]
    },
    {
     "name": "stderr",
     "output_type": "stream",
     "text": [
      "\r",
      "sample time step:  13%|█▎        | 13/100 [00:07<00:51,  1.69it/s]"
     ]
    },
    {
     "name": "stderr",
     "output_type": "stream",
     "text": [
      "\r",
      "sample time step:  14%|█▍        | 14/100 [00:07<00:48,  1.76it/s]"
     ]
    },
    {
     "name": "stderr",
     "output_type": "stream",
     "text": [
      "\r",
      "sample time step:  15%|█▌        | 15/100 [00:08<00:46,  1.81it/s]"
     ]
    },
    {
     "name": "stderr",
     "output_type": "stream",
     "text": [
      "\r",
      "sample time step:  16%|█▌        | 16/100 [00:09<00:47,  1.76it/s]"
     ]
    },
    {
     "name": "stderr",
     "output_type": "stream",
     "text": [
      "\r",
      "sample time step:  17%|█▋        | 17/100 [00:09<00:48,  1.73it/s]"
     ]
    },
    {
     "name": "stderr",
     "output_type": "stream",
     "text": [
      "\r",
      "sample time step:  18%|█▊        | 18/100 [00:10<00:48,  1.70it/s]"
     ]
    },
    {
     "name": "stderr",
     "output_type": "stream",
     "text": [
      "\r",
      "sample time step:  19%|█▉        | 19/100 [00:10<00:48,  1.68it/s]"
     ]
    },
    {
     "name": "stderr",
     "output_type": "stream",
     "text": [
      "\r",
      "sample time step:  20%|██        | 20/100 [00:11<00:47,  1.67it/s]"
     ]
    },
    {
     "name": "stderr",
     "output_type": "stream",
     "text": [
      "\r",
      "sample time step:  21%|██        | 21/100 [00:12<00:48,  1.64it/s]"
     ]
    },
    {
     "name": "stderr",
     "output_type": "stream",
     "text": [
      "\r",
      "sample time step:  22%|██▏       | 22/100 [00:12<00:48,  1.62it/s]"
     ]
    },
    {
     "name": "stderr",
     "output_type": "stream",
     "text": [
      "\r",
      "sample time step:  23%|██▎       | 23/100 [00:13<00:47,  1.64it/s]"
     ]
    },
    {
     "name": "stderr",
     "output_type": "stream",
     "text": [
      "\r",
      "sample time step:  24%|██▍       | 24/100 [00:13<00:45,  1.67it/s]"
     ]
    },
    {
     "name": "stderr",
     "output_type": "stream",
     "text": [
      "\r",
      "sample time step:  25%|██▌       | 25/100 [00:14<00:44,  1.70it/s]"
     ]
    },
    {
     "name": "stderr",
     "output_type": "stream",
     "text": [
      "\r",
      "sample time step:  26%|██▌       | 26/100 [00:15<00:43,  1.70it/s]"
     ]
    },
    {
     "name": "stderr",
     "output_type": "stream",
     "text": [
      "\r",
      "sample time step:  27%|██▋       | 27/100 [00:15<00:41,  1.76it/s]"
     ]
    },
    {
     "name": "stderr",
     "output_type": "stream",
     "text": [
      "\r",
      "sample time step:  28%|██▊       | 28/100 [00:16<00:40,  1.79it/s]"
     ]
    },
    {
     "name": "stderr",
     "output_type": "stream",
     "text": [
      "\r",
      "sample time step:  29%|██▉       | 29/100 [00:16<00:41,  1.71it/s]"
     ]
    },
    {
     "name": "stderr",
     "output_type": "stream",
     "text": [
      "\r",
      "sample time step:  30%|███       | 30/100 [00:17<00:41,  1.70it/s]"
     ]
    },
    {
     "name": "stderr",
     "output_type": "stream",
     "text": [
      "\r",
      "sample time step:  31%|███       | 31/100 [00:17<00:40,  1.71it/s]"
     ]
    },
    {
     "name": "stderr",
     "output_type": "stream",
     "text": [
      "\r",
      "sample time step:  32%|███▏      | 32/100 [00:18<00:40,  1.69it/s]"
     ]
    },
    {
     "name": "stderr",
     "output_type": "stream",
     "text": [
      "\r",
      "sample time step:  33%|███▎      | 33/100 [00:19<00:38,  1.74it/s]"
     ]
    },
    {
     "name": "stderr",
     "output_type": "stream",
     "text": [
      "\r",
      "sample time step:  34%|███▍      | 34/100 [00:19<00:36,  1.79it/s]"
     ]
    },
    {
     "name": "stderr",
     "output_type": "stream",
     "text": [
      "\r",
      "sample time step:  35%|███▌      | 35/100 [00:20<00:35,  1.82it/s]"
     ]
    },
    {
     "name": "stderr",
     "output_type": "stream",
     "text": [
      "\r",
      "sample time step:  36%|███▌      | 36/100 [00:20<00:35,  1.78it/s]"
     ]
    },
    {
     "name": "stderr",
     "output_type": "stream",
     "text": [
      "\r",
      "sample time step:  37%|███▋      | 37/100 [00:21<00:35,  1.79it/s]"
     ]
    },
    {
     "name": "stderr",
     "output_type": "stream",
     "text": [
      "\r",
      "sample time step:  38%|███▊      | 38/100 [00:21<00:35,  1.75it/s]"
     ]
    },
    {
     "name": "stderr",
     "output_type": "stream",
     "text": [
      "\r",
      "sample time step:  39%|███▉      | 39/100 [00:22<00:36,  1.66it/s]"
     ]
    },
    {
     "name": "stderr",
     "output_type": "stream",
     "text": [
      "\r",
      "sample time step:  40%|████      | 40/100 [00:23<00:36,  1.64it/s]"
     ]
    },
    {
     "name": "stderr",
     "output_type": "stream",
     "text": [
      "\r",
      "sample time step:  41%|████      | 41/100 [00:23<00:34,  1.70it/s]"
     ]
    },
    {
     "name": "stderr",
     "output_type": "stream",
     "text": [
      "\r",
      "sample time step:  42%|████▏     | 42/100 [00:24<00:34,  1.69it/s]"
     ]
    },
    {
     "name": "stderr",
     "output_type": "stream",
     "text": [
      "\r",
      "sample time step:  43%|████▎     | 43/100 [00:24<00:33,  1.68it/s]"
     ]
    },
    {
     "name": "stderr",
     "output_type": "stream",
     "text": [
      "\r",
      "sample time step:  44%|████▍     | 44/100 [00:25<00:32,  1.73it/s]"
     ]
    },
    {
     "name": "stderr",
     "output_type": "stream",
     "text": [
      "\r",
      "sample time step:  45%|████▌     | 45/100 [00:25<00:30,  1.78it/s]"
     ]
    },
    {
     "name": "stderr",
     "output_type": "stream",
     "text": [
      "\r",
      "sample time step:  46%|████▌     | 46/100 [00:26<00:29,  1.84it/s]"
     ]
    },
    {
     "name": "stderr",
     "output_type": "stream",
     "text": [
      "\r",
      "sample time step:  47%|████▋     | 47/100 [00:27<00:28,  1.85it/s]"
     ]
    },
    {
     "name": "stderr",
     "output_type": "stream",
     "text": [
      "\r",
      "sample time step:  48%|████▊     | 48/100 [00:27<00:27,  1.89it/s]"
     ]
    },
    {
     "name": "stderr",
     "output_type": "stream",
     "text": [
      "\r",
      "sample time step:  49%|████▉     | 49/100 [00:28<00:27,  1.83it/s]"
     ]
    },
    {
     "name": "stderr",
     "output_type": "stream",
     "text": [
      "\r",
      "sample time step:  50%|█████     | 50/100 [00:28<00:27,  1.79it/s]"
     ]
    },
    {
     "name": "stderr",
     "output_type": "stream",
     "text": [
      "\r",
      "sample time step:  51%|█████     | 51/100 [00:29<00:27,  1.80it/s]"
     ]
    },
    {
     "name": "stderr",
     "output_type": "stream",
     "text": [
      "\r",
      "sample time step:  52%|█████▏    | 52/100 [00:29<00:27,  1.76it/s]"
     ]
    },
    {
     "name": "stderr",
     "output_type": "stream",
     "text": [
      "\r",
      "sample time step:  53%|█████▎    | 53/100 [00:30<00:26,  1.75it/s]"
     ]
    },
    {
     "name": "stderr",
     "output_type": "stream",
     "text": [
      "\r",
      "sample time step:  54%|█████▍    | 54/100 [00:31<00:26,  1.72it/s]"
     ]
    },
    {
     "name": "stderr",
     "output_type": "stream",
     "text": [
      "\r",
      "sample time step:  55%|█████▌    | 55/100 [00:31<00:26,  1.69it/s]"
     ]
    },
    {
     "name": "stderr",
     "output_type": "stream",
     "text": [
      "\r",
      "sample time step:  56%|█████▌    | 56/100 [00:32<00:25,  1.75it/s]"
     ]
    },
    {
     "name": "stderr",
     "output_type": "stream",
     "text": [
      "\r",
      "sample time step:  57%|█████▋    | 57/100 [00:32<00:24,  1.76it/s]"
     ]
    },
    {
     "name": "stderr",
     "output_type": "stream",
     "text": [
      "\r",
      "sample time step:  58%|█████▊    | 58/100 [00:33<00:23,  1.76it/s]"
     ]
    },
    {
     "name": "stderr",
     "output_type": "stream",
     "text": [
      "\r",
      "sample time step:  59%|█████▉    | 59/100 [00:33<00:22,  1.80it/s]"
     ]
    },
    {
     "name": "stderr",
     "output_type": "stream",
     "text": [
      "\r",
      "sample time step:  60%|██████    | 60/100 [00:34<00:21,  1.85it/s]"
     ]
    },
    {
     "name": "stderr",
     "output_type": "stream",
     "text": [
      "\r",
      "sample time step:  61%|██████    | 61/100 [00:34<00:20,  1.89it/s]"
     ]
    },
    {
     "name": "stderr",
     "output_type": "stream",
     "text": [
      "\r",
      "sample time step:  62%|██████▏   | 62/100 [00:35<00:20,  1.86it/s]"
     ]
    },
    {
     "name": "stderr",
     "output_type": "stream",
     "text": [
      "\r",
      "sample time step:  63%|██████▎   | 63/100 [00:35<00:20,  1.80it/s]"
     ]
    },
    {
     "name": "stderr",
     "output_type": "stream",
     "text": [
      "\r",
      "sample time step:  64%|██████▍   | 64/100 [00:36<00:19,  1.81it/s]"
     ]
    },
    {
     "name": "stderr",
     "output_type": "stream",
     "text": [
      "\r",
      "sample time step:  65%|██████▌   | 65/100 [00:37<00:19,  1.76it/s]"
     ]
    },
    {
     "name": "stderr",
     "output_type": "stream",
     "text": [
      "\r",
      "sample time step:  66%|██████▌   | 66/100 [00:37<00:20,  1.68it/s]"
     ]
    },
    {
     "name": "stderr",
     "output_type": "stream",
     "text": [
      "\r",
      "sample time step:  67%|██████▋   | 67/100 [00:38<00:19,  1.67it/s]"
     ]
    },
    {
     "name": "stderr",
     "output_type": "stream",
     "text": [
      "\r",
      "sample time step:  68%|██████▊   | 68/100 [00:39<00:19,  1.67it/s]"
     ]
    },
    {
     "name": "stderr",
     "output_type": "stream",
     "text": [
      "\r",
      "sample time step:  69%|██████▉   | 69/100 [00:39<00:17,  1.74it/s]"
     ]
    },
    {
     "name": "stderr",
     "output_type": "stream",
     "text": [
      "\r",
      "sample time step:  70%|███████   | 70/100 [00:40<00:16,  1.80it/s]"
     ]
    },
    {
     "name": "stderr",
     "output_type": "stream",
     "text": [
      "\r",
      "sample time step:  71%|███████   | 71/100 [00:40<00:15,  1.85it/s]"
     ]
    },
    {
     "name": "stderr",
     "output_type": "stream",
     "text": [
      "\r",
      "sample time step:  72%|███████▏  | 72/100 [00:41<00:15,  1.81it/s]"
     ]
    },
    {
     "name": "stderr",
     "output_type": "stream",
     "text": [
      "\r",
      "sample time step:  73%|███████▎  | 73/100 [00:41<00:14,  1.86it/s]"
     ]
    },
    {
     "name": "stderr",
     "output_type": "stream",
     "text": [
      "\r",
      "sample time step:  74%|███████▍  | 74/100 [00:42<00:13,  1.88it/s]"
     ]
    },
    {
     "name": "stderr",
     "output_type": "stream",
     "text": [
      "\r",
      "sample time step:  75%|███████▌  | 75/100 [00:42<00:13,  1.85it/s]"
     ]
    },
    {
     "name": "stderr",
     "output_type": "stream",
     "text": [
      "\r",
      "sample time step:  76%|███████▌  | 76/100 [00:43<00:13,  1.78it/s]"
     ]
    },
    {
     "name": "stderr",
     "output_type": "stream",
     "text": [
      "\r",
      "sample time step:  77%|███████▋  | 77/100 [00:43<00:13,  1.75it/s]"
     ]
    },
    {
     "name": "stderr",
     "output_type": "stream",
     "text": [
      "\r",
      "sample time step:  78%|███████▊  | 78/100 [00:44<00:12,  1.71it/s]"
     ]
    },
    {
     "name": "stderr",
     "output_type": "stream",
     "text": [
      "\r",
      "sample time step:  79%|███████▉  | 79/100 [00:45<00:12,  1.70it/s]"
     ]
    },
    {
     "name": "stderr",
     "output_type": "stream",
     "text": [
      "\r",
      "sample time step:  80%|████████  | 80/100 [00:45<00:11,  1.77it/s]"
     ]
    },
    {
     "name": "stderr",
     "output_type": "stream",
     "text": [
      "\r",
      "sample time step:  81%|████████  | 81/100 [00:46<00:10,  1.80it/s]"
     ]
    },
    {
     "name": "stderr",
     "output_type": "stream",
     "text": [
      "\r",
      "sample time step:  82%|████████▏ | 82/100 [00:46<00:09,  1.86it/s]"
     ]
    },
    {
     "name": "stderr",
     "output_type": "stream",
     "text": [
      "\r",
      "sample time step:  83%|████████▎ | 83/100 [00:47<00:09,  1.85it/s]"
     ]
    },
    {
     "name": "stderr",
     "output_type": "stream",
     "text": [
      "\r",
      "sample time step:  84%|████████▍ | 84/100 [00:47<00:08,  1.88it/s]"
     ]
    },
    {
     "name": "stderr",
     "output_type": "stream",
     "text": [
      "\r",
      "sample time step:  85%|████████▌ | 85/100 [00:48<00:07,  1.89it/s]"
     ]
    },
    {
     "name": "stderr",
     "output_type": "stream",
     "text": [
      "\r",
      "sample time step:  86%|████████▌ | 86/100 [00:48<00:07,  1.90it/s]"
     ]
    },
    {
     "name": "stderr",
     "output_type": "stream",
     "text": [
      "\r",
      "sample time step:  87%|████████▋ | 87/100 [00:49<00:06,  1.91it/s]"
     ]
    },
    {
     "name": "stderr",
     "output_type": "stream",
     "text": [
      "\r",
      "sample time step:  88%|████████▊ | 88/100 [00:49<00:06,  1.87it/s]"
     ]
    },
    {
     "name": "stderr",
     "output_type": "stream",
     "text": [
      "\r",
      "sample time step:  89%|████████▉ | 89/100 [00:50<00:06,  1.75it/s]"
     ]
    },
    {
     "name": "stderr",
     "output_type": "stream",
     "text": [
      "\r",
      "sample time step:  90%|█████████ | 90/100 [00:51<00:05,  1.70it/s]"
     ]
    },
    {
     "name": "stderr",
     "output_type": "stream",
     "text": [
      "\r",
      "sample time step:  91%|█████████ | 91/100 [00:51<00:05,  1.67it/s]"
     ]
    },
    {
     "name": "stderr",
     "output_type": "stream",
     "text": [
      "\r",
      "sample time step:  92%|█████████▏| 92/100 [00:52<00:04,  1.65it/s]"
     ]
    },
    {
     "name": "stderr",
     "output_type": "stream",
     "text": [
      "\r",
      "sample time step:  93%|█████████▎| 93/100 [00:52<00:04,  1.64it/s]"
     ]
    },
    {
     "name": "stderr",
     "output_type": "stream",
     "text": [
      "\r",
      "sample time step:  94%|█████████▍| 94/100 [00:53<00:03,  1.65it/s]"
     ]
    },
    {
     "name": "stderr",
     "output_type": "stream",
     "text": [
      "\r",
      "sample time step:  95%|█████████▌| 95/100 [00:54<00:03,  1.65it/s]"
     ]
    },
    {
     "name": "stderr",
     "output_type": "stream",
     "text": [
      "\r",
      "sample time step:  96%|█████████▌| 96/100 [00:54<00:02,  1.66it/s]"
     ]
    },
    {
     "name": "stderr",
     "output_type": "stream",
     "text": [
      "\r",
      "sample time step:  97%|█████████▋| 97/100 [00:55<00:01,  1.70it/s]"
     ]
    },
    {
     "name": "stderr",
     "output_type": "stream",
     "text": [
      "\r",
      "sample time step:  98%|█████████▊| 98/100 [00:55<00:01,  1.76it/s]"
     ]
    },
    {
     "name": "stderr",
     "output_type": "stream",
     "text": [
      "\r",
      "sample time step:  99%|█████████▉| 99/100 [00:56<00:00,  1.79it/s]"
     ]
    },
    {
     "name": "stderr",
     "output_type": "stream",
     "text": [
      "\r",
      "sample time step: 100%|██████████| 100/100 [00:57<00:00,  1.73it/s]"
     ]
    },
    {
     "name": "stderr",
     "output_type": "stream",
     "text": [
      "\r",
      "sample time step: 100%|██████████| 100/100 [00:57<00:00,  1.75it/s]"
     ]
    },
    {
     "name": "stderr",
     "output_type": "stream",
     "text": [
      "\n"
     ]
    },
    {
     "name": "stdout",
     "output_type": "stream",
     "text": [
      "✅ Generated: zh_8.wav\n"
     ]
    },
    {
     "name": "stdout",
     "output_type": "stream",
     "text": [
      "Pass word-notes check.\n",
      "222 222 222\n",
      "Pass word-notes check.\n"
     ]
    },
    {
     "name": "stdout",
     "output_type": "stream",
     "text": [
      "===> gaussion start.\n"
     ]
    },
    {
     "name": "stderr",
     "output_type": "stream",
     "text": [
      "\r",
      "sample time step:   0%|          | 0/100 [00:00<?, ?it/s]"
     ]
    },
    {
     "name": "stderr",
     "output_type": "stream",
     "text": [
      "\r",
      "sample time step:   1%|          | 1/100 [00:00<00:30,  3.30it/s]"
     ]
    },
    {
     "name": "stderr",
     "output_type": "stream",
     "text": [
      "\r",
      "sample time step:   2%|▏         | 2/100 [00:00<00:32,  2.97it/s]"
     ]
    },
    {
     "name": "stderr",
     "output_type": "stream",
     "text": [
      "\r",
      "sample time step:   3%|▎         | 3/100 [00:01<00:32,  2.97it/s]"
     ]
    },
    {
     "name": "stderr",
     "output_type": "stream",
     "text": [
      "\r",
      "sample time step:   4%|▍         | 4/100 [00:01<00:32,  2.98it/s]"
     ]
    },
    {
     "name": "stderr",
     "output_type": "stream",
     "text": [
      "\r",
      "sample time step:   5%|▌         | 5/100 [00:01<00:32,  2.97it/s]"
     ]
    },
    {
     "name": "stderr",
     "output_type": "stream",
     "text": [
      "\r",
      "sample time step:   6%|▌         | 6/100 [00:02<00:31,  2.95it/s]"
     ]
    },
    {
     "name": "stderr",
     "output_type": "stream",
     "text": [
      "\r",
      "sample time step:   7%|▋         | 7/100 [00:02<00:31,  2.98it/s]"
     ]
    },
    {
     "name": "stderr",
     "output_type": "stream",
     "text": [
      "\r",
      "sample time step:   8%|▊         | 8/100 [00:02<00:31,  2.96it/s]"
     ]
    },
    {
     "name": "stderr",
     "output_type": "stream",
     "text": [
      "\r",
      "sample time step:   9%|▉         | 9/100 [00:02<00:29,  3.07it/s]"
     ]
    },
    {
     "name": "stderr",
     "output_type": "stream",
     "text": [
      "\r",
      "sample time step:  10%|█         | 10/100 [00:03<00:28,  3.14it/s]"
     ]
    },
    {
     "name": "stderr",
     "output_type": "stream",
     "text": [
      "\r",
      "sample time step:  11%|█         | 11/100 [00:03<00:28,  3.14it/s]"
     ]
    },
    {
     "name": "stderr",
     "output_type": "stream",
     "text": [
      "\r",
      "sample time step:  12%|█▏        | 12/100 [00:03<00:28,  3.14it/s]"
     ]
    },
    {
     "name": "stderr",
     "output_type": "stream",
     "text": [
      "\r",
      "sample time step:  13%|█▎        | 13/100 [00:04<00:27,  3.15it/s]"
     ]
    },
    {
     "name": "stderr",
     "output_type": "stream",
     "text": [
      "\r",
      "sample time step:  14%|█▍        | 14/100 [00:04<00:26,  3.25it/s]"
     ]
    },
    {
     "name": "stderr",
     "output_type": "stream",
     "text": [
      "\r",
      "sample time step:  15%|█▌        | 15/100 [00:04<00:25,  3.35it/s]"
     ]
    },
    {
     "name": "stderr",
     "output_type": "stream",
     "text": [
      "\r",
      "sample time step:  16%|█▌        | 16/100 [00:05<00:25,  3.30it/s]"
     ]
    },
    {
     "name": "stderr",
     "output_type": "stream",
     "text": [
      "\r",
      "sample time step:  17%|█▋        | 17/100 [00:05<00:25,  3.24it/s]"
     ]
    },
    {
     "name": "stderr",
     "output_type": "stream",
     "text": [
      "\r",
      "sample time step:  18%|█▊        | 18/100 [00:05<00:25,  3.16it/s]"
     ]
    },
    {
     "name": "stderr",
     "output_type": "stream",
     "text": [
      "\r",
      "sample time step:  19%|█▉        | 19/100 [00:06<00:25,  3.13it/s]"
     ]
    },
    {
     "name": "stderr",
     "output_type": "stream",
     "text": [
      "\r",
      "sample time step:  20%|██        | 20/100 [00:06<00:26,  2.98it/s]"
     ]
    },
    {
     "name": "stderr",
     "output_type": "stream",
     "text": [
      "\r",
      "sample time step:  21%|██        | 21/100 [00:06<00:25,  3.04it/s]"
     ]
    },
    {
     "name": "stderr",
     "output_type": "stream",
     "text": [
      "\r",
      "sample time step:  22%|██▏       | 22/100 [00:07<00:25,  3.02it/s]"
     ]
    },
    {
     "name": "stderr",
     "output_type": "stream",
     "text": [
      "\r",
      "sample time step:  23%|██▎       | 23/100 [00:07<00:25,  3.02it/s]"
     ]
    },
    {
     "name": "stderr",
     "output_type": "stream",
     "text": [
      "\r",
      "sample time step:  24%|██▍       | 24/100 [00:07<00:25,  3.02it/s]"
     ]
    },
    {
     "name": "stderr",
     "output_type": "stream",
     "text": [
      "\r",
      "sample time step:  25%|██▌       | 25/100 [00:08<00:24,  3.01it/s]"
     ]
    },
    {
     "name": "stderr",
     "output_type": "stream",
     "text": [
      "\r",
      "sample time step:  26%|██▌       | 26/100 [00:08<00:24,  3.00it/s]"
     ]
    },
    {
     "name": "stderr",
     "output_type": "stream",
     "text": [
      "\r",
      "sample time step:  27%|██▋       | 27/100 [00:08<00:24,  3.01it/s]"
     ]
    },
    {
     "name": "stderr",
     "output_type": "stream",
     "text": [
      "\r",
      "sample time step:  28%|██▊       | 28/100 [00:09<00:23,  3.08it/s]"
     ]
    },
    {
     "name": "stderr",
     "output_type": "stream",
     "text": [
      "\r",
      "sample time step:  29%|██▉       | 29/100 [00:09<00:22,  3.13it/s]"
     ]
    },
    {
     "name": "stderr",
     "output_type": "stream",
     "text": [
      "\r",
      "sample time step:  30%|███       | 30/100 [00:09<00:22,  3.09it/s]"
     ]
    },
    {
     "name": "stderr",
     "output_type": "stream",
     "text": [
      "\r",
      "sample time step:  31%|███       | 31/100 [00:10<00:22,  3.10it/s]"
     ]
    },
    {
     "name": "stderr",
     "output_type": "stream",
     "text": [
      "\r",
      "sample time step:  32%|███▏      | 32/100 [00:10<00:21,  3.09it/s]"
     ]
    },
    {
     "name": "stderr",
     "output_type": "stream",
     "text": [
      "\r",
      "sample time step:  33%|███▎      | 33/100 [00:10<00:20,  3.24it/s]"
     ]
    },
    {
     "name": "stderr",
     "output_type": "stream",
     "text": [
      "\r",
      "sample time step:  34%|███▍      | 34/100 [00:10<00:20,  3.23it/s]"
     ]
    },
    {
     "name": "stderr",
     "output_type": "stream",
     "text": [
      "\r",
      "sample time step:  35%|███▌      | 35/100 [00:11<00:20,  3.20it/s]"
     ]
    },
    {
     "name": "stderr",
     "output_type": "stream",
     "text": [
      "\r",
      "sample time step:  36%|███▌      | 36/100 [00:11<00:20,  3.16it/s]"
     ]
    },
    {
     "name": "stderr",
     "output_type": "stream",
     "text": [
      "\r",
      "sample time step:  37%|███▋      | 37/100 [00:11<00:19,  3.17it/s]"
     ]
    },
    {
     "name": "stderr",
     "output_type": "stream",
     "text": [
      "\r",
      "sample time step:  38%|███▊      | 38/100 [00:12<00:19,  3.25it/s]"
     ]
    },
    {
     "name": "stderr",
     "output_type": "stream",
     "text": [
      "\r",
      "sample time step:  39%|███▉      | 39/100 [00:12<00:18,  3.32it/s]"
     ]
    },
    {
     "name": "stderr",
     "output_type": "stream",
     "text": [
      "\r",
      "sample time step:  40%|████      | 40/100 [00:12<00:17,  3.40it/s]"
     ]
    },
    {
     "name": "stderr",
     "output_type": "stream",
     "text": [
      "\r",
      "sample time step:  41%|████      | 41/100 [00:13<00:17,  3.43it/s]"
     ]
    },
    {
     "name": "stderr",
     "output_type": "stream",
     "text": [
      "\r",
      "sample time step:  42%|████▏     | 42/100 [00:13<00:16,  3.43it/s]"
     ]
    },
    {
     "name": "stderr",
     "output_type": "stream",
     "text": [
      "\r",
      "sample time step:  43%|████▎     | 43/100 [00:13<00:16,  3.45it/s]"
     ]
    },
    {
     "name": "stderr",
     "output_type": "stream",
     "text": [
      "\r",
      "sample time step:  44%|████▍     | 44/100 [00:13<00:16,  3.44it/s]"
     ]
    },
    {
     "name": "stderr",
     "output_type": "stream",
     "text": [
      "\r",
      "sample time step:  45%|████▌     | 45/100 [00:14<00:17,  3.21it/s]"
     ]
    },
    {
     "name": "stderr",
     "output_type": "stream",
     "text": [
      "\r",
      "sample time step:  46%|████▌     | 46/100 [00:14<00:17,  3.12it/s]"
     ]
    },
    {
     "name": "stderr",
     "output_type": "stream",
     "text": [
      "\r",
      "sample time step:  47%|████▋     | 47/100 [00:14<00:17,  3.11it/s]"
     ]
    },
    {
     "name": "stderr",
     "output_type": "stream",
     "text": [
      "\r",
      "sample time step:  48%|████▊     | 48/100 [00:15<00:16,  3.09it/s]"
     ]
    },
    {
     "name": "stderr",
     "output_type": "stream",
     "text": [
      "\r",
      "sample time step:  49%|████▉     | 49/100 [00:15<00:16,  3.13it/s]"
     ]
    },
    {
     "name": "stderr",
     "output_type": "stream",
     "text": [
      "\r",
      "sample time step:  50%|█████     | 50/100 [00:15<00:15,  3.20it/s]"
     ]
    },
    {
     "name": "stderr",
     "output_type": "stream",
     "text": [
      "\r",
      "sample time step:  51%|█████     | 51/100 [00:16<00:15,  3.26it/s]"
     ]
    },
    {
     "name": "stderr",
     "output_type": "stream",
     "text": [
      "\r",
      "sample time step:  52%|█████▏    | 52/100 [00:16<00:14,  3.34it/s]"
     ]
    },
    {
     "name": "stderr",
     "output_type": "stream",
     "text": [
      "\r",
      "sample time step:  53%|█████▎    | 53/100 [00:16<00:13,  3.44it/s]"
     ]
    },
    {
     "name": "stderr",
     "output_type": "stream",
     "text": [
      "\r",
      "sample time step:  54%|█████▍    | 54/100 [00:17<00:13,  3.33it/s]"
     ]
    },
    {
     "name": "stderr",
     "output_type": "stream",
     "text": [
      "\r",
      "sample time step:  55%|█████▌    | 55/100 [00:17<00:14,  3.21it/s]"
     ]
    },
    {
     "name": "stderr",
     "output_type": "stream",
     "text": [
      "\r",
      "sample time step:  56%|█████▌    | 56/100 [00:17<00:14,  3.09it/s]"
     ]
    },
    {
     "name": "stderr",
     "output_type": "stream",
     "text": [
      "\r",
      "sample time step:  57%|█████▋    | 57/100 [00:18<00:13,  3.18it/s]"
     ]
    },
    {
     "name": "stderr",
     "output_type": "stream",
     "text": [
      "\r",
      "sample time step:  58%|█████▊    | 58/100 [00:18<00:13,  3.18it/s]"
     ]
    },
    {
     "name": "stderr",
     "output_type": "stream",
     "text": [
      "\r",
      "sample time step:  59%|█████▉    | 59/100 [00:18<00:12,  3.16it/s]"
     ]
    },
    {
     "name": "stderr",
     "output_type": "stream",
     "text": [
      "\r",
      "sample time step:  60%|██████    | 60/100 [00:18<00:12,  3.16it/s]"
     ]
    },
    {
     "name": "stderr",
     "output_type": "stream",
     "text": [
      "\r",
      "sample time step:  61%|██████    | 61/100 [00:19<00:12,  3.19it/s]"
     ]
    },
    {
     "name": "stderr",
     "output_type": "stream",
     "text": [
      "\r",
      "sample time step:  62%|██████▏   | 62/100 [00:19<00:11,  3.30it/s]"
     ]
    },
    {
     "name": "stderr",
     "output_type": "stream",
     "text": [
      "\r",
      "sample time step:  63%|██████▎   | 63/100 [00:19<00:11,  3.26it/s]"
     ]
    },
    {
     "name": "stderr",
     "output_type": "stream",
     "text": [
      "\r",
      "sample time step:  64%|██████▍   | 64/100 [00:20<00:11,  3.27it/s]"
     ]
    },
    {
     "name": "stderr",
     "output_type": "stream",
     "text": [
      "\r",
      "sample time step:  65%|██████▌   | 65/100 [00:20<00:11,  3.16it/s]"
     ]
    },
    {
     "name": "stderr",
     "output_type": "stream",
     "text": [
      "\r",
      "sample time step:  66%|██████▌   | 66/100 [00:20<00:10,  3.12it/s]"
     ]
    },
    {
     "name": "stderr",
     "output_type": "stream",
     "text": [
      "\r",
      "sample time step:  67%|██████▋   | 67/100 [00:21<00:10,  3.03it/s]"
     ]
    },
    {
     "name": "stderr",
     "output_type": "stream",
     "text": [
      "\r",
      "sample time step:  68%|██████▊   | 68/100 [00:21<00:10,  3.08it/s]"
     ]
    },
    {
     "name": "stderr",
     "output_type": "stream",
     "text": [
      "\r",
      "sample time step:  69%|██████▉   | 69/100 [00:21<00:10,  3.00it/s]"
     ]
    },
    {
     "name": "stderr",
     "output_type": "stream",
     "text": [
      "\r",
      "sample time step:  70%|███████   | 70/100 [00:22<00:09,  3.00it/s]"
     ]
    },
    {
     "name": "stderr",
     "output_type": "stream",
     "text": [
      "\r",
      "sample time step:  71%|███████   | 71/100 [00:22<00:09,  3.05it/s]"
     ]
    },
    {
     "name": "stderr",
     "output_type": "stream",
     "text": [
      "\r",
      "sample time step:  72%|███████▏  | 72/100 [00:22<00:08,  3.19it/s]"
     ]
    },
    {
     "name": "stderr",
     "output_type": "stream",
     "text": [
      "\r",
      "sample time step:  73%|███████▎  | 73/100 [00:23<00:08,  3.21it/s]"
     ]
    },
    {
     "name": "stderr",
     "output_type": "stream",
     "text": [
      "\r",
      "sample time step:  74%|███████▍  | 74/100 [00:23<00:07,  3.29it/s]"
     ]
    },
    {
     "name": "stderr",
     "output_type": "stream",
     "text": [
      "\r",
      "sample time step:  75%|███████▌  | 75/100 [00:23<00:07,  3.33it/s]"
     ]
    },
    {
     "name": "stderr",
     "output_type": "stream",
     "text": [
      "\r",
      "sample time step:  76%|███████▌  | 76/100 [00:23<00:07,  3.40it/s]"
     ]
    },
    {
     "name": "stderr",
     "output_type": "stream",
     "text": [
      "\r",
      "sample time step:  77%|███████▋  | 77/100 [00:24<00:06,  3.43it/s]"
     ]
    },
    {
     "name": "stderr",
     "output_type": "stream",
     "text": [
      "\r",
      "sample time step:  78%|███████▊  | 78/100 [00:24<00:06,  3.30it/s]"
     ]
    },
    {
     "name": "stderr",
     "output_type": "stream",
     "text": [
      "\r",
      "sample time step:  79%|███████▉  | 79/100 [00:24<00:06,  3.19it/s]"
     ]
    },
    {
     "name": "stderr",
     "output_type": "stream",
     "text": [
      "\r",
      "sample time step:  80%|████████  | 80/100 [00:25<00:06,  3.11it/s]"
     ]
    },
    {
     "name": "stderr",
     "output_type": "stream",
     "text": [
      "\r",
      "sample time step:  81%|████████  | 81/100 [00:25<00:05,  3.18it/s]"
     ]
    },
    {
     "name": "stderr",
     "output_type": "stream",
     "text": [
      "\r",
      "sample time step:  82%|████████▏ | 82/100 [00:25<00:05,  3.21it/s]"
     ]
    },
    {
     "name": "stderr",
     "output_type": "stream",
     "text": [
      "\r",
      "sample time step:  83%|████████▎ | 83/100 [00:26<00:05,  3.17it/s]"
     ]
    },
    {
     "name": "stderr",
     "output_type": "stream",
     "text": [
      "\r",
      "sample time step:  84%|████████▍ | 84/100 [00:26<00:05,  3.12it/s]"
     ]
    },
    {
     "name": "stderr",
     "output_type": "stream",
     "text": [
      "\r",
      "sample time step:  85%|████████▌ | 85/100 [00:26<00:04,  3.24it/s]"
     ]
    },
    {
     "name": "stderr",
     "output_type": "stream",
     "text": [
      "\r",
      "sample time step:  86%|████████▌ | 86/100 [00:27<00:04,  3.12it/s]"
     ]
    },
    {
     "name": "stderr",
     "output_type": "stream",
     "text": [
      "\r",
      "sample time step:  87%|████████▋ | 87/100 [00:27<00:04,  3.09it/s]"
     ]
    },
    {
     "name": "stderr",
     "output_type": "stream",
     "text": [
      "\r",
      "sample time step:  88%|████████▊ | 88/100 [00:27<00:03,  3.05it/s]"
     ]
    },
    {
     "name": "stderr",
     "output_type": "stream",
     "text": [
      "\r",
      "sample time step:  89%|████████▉ | 89/100 [00:28<00:03,  3.11it/s]"
     ]
    },
    {
     "name": "stderr",
     "output_type": "stream",
     "text": [
      "\r",
      "sample time step:  90%|█████████ | 90/100 [00:28<00:03,  3.12it/s]"
     ]
    },
    {
     "name": "stderr",
     "output_type": "stream",
     "text": [
      "\r",
      "sample time step:  91%|█████████ | 91/100 [00:28<00:02,  3.12it/s]"
     ]
    },
    {
     "name": "stderr",
     "output_type": "stream",
     "text": [
      "\r",
      "sample time step:  92%|█████████▏| 92/100 [00:29<00:02,  3.10it/s]"
     ]
    },
    {
     "name": "stderr",
     "output_type": "stream",
     "text": [
      "\r",
      "sample time step:  93%|█████████▎| 93/100 [00:29<00:02,  3.19it/s]"
     ]
    },
    {
     "name": "stderr",
     "output_type": "stream",
     "text": [
      "\r",
      "sample time step:  94%|█████████▍| 94/100 [00:29<00:01,  3.21it/s]"
     ]
    },
    {
     "name": "stderr",
     "output_type": "stream",
     "text": [
      "\r",
      "sample time step:  95%|█████████▌| 95/100 [00:29<00:01,  3.31it/s]"
     ]
    },
    {
     "name": "stderr",
     "output_type": "stream",
     "text": [
      "\r",
      "sample time step:  96%|█████████▌| 96/100 [00:30<00:01,  3.36it/s]"
     ]
    },
    {
     "name": "stderr",
     "output_type": "stream",
     "text": [
      "\r",
      "sample time step:  97%|█████████▋| 97/100 [00:30<00:00,  3.41it/s]"
     ]
    },
    {
     "name": "stderr",
     "output_type": "stream",
     "text": [
      "\r",
      "sample time step:  98%|█████████▊| 98/100 [00:30<00:00,  3.44it/s]"
     ]
    },
    {
     "name": "stderr",
     "output_type": "stream",
     "text": [
      "\r",
      "sample time step:  99%|█████████▉| 99/100 [00:31<00:00,  3.46it/s]"
     ]
    },
    {
     "name": "stderr",
     "output_type": "stream",
     "text": [
      "\r",
      "sample time step: 100%|██████████| 100/100 [00:31<00:00,  3.47it/s]"
     ]
    },
    {
     "name": "stderr",
     "output_type": "stream",
     "text": [
      "\r",
      "sample time step: 100%|██████████| 100/100 [00:31<00:00,  3.18it/s]"
     ]
    },
    {
     "name": "stderr",
     "output_type": "stream",
     "text": [
      "\n"
     ]
    },
    {
     "name": "stdout",
     "output_type": "stream",
     "text": [
      "✅ Generated: zh_21.wav\n"
     ]
    },
    {
     "name": "stdout",
     "output_type": "stream",
     "text": [
      "Pass word-notes check.\n",
      "180 180 180\n",
      "Pass word-notes check.\n"
     ]
    },
    {
     "name": "stdout",
     "output_type": "stream",
     "text": [
      "===> gaussion start.\n"
     ]
    },
    {
     "name": "stderr",
     "output_type": "stream",
     "text": [
      "\r",
      "sample time step:   0%|          | 0/100 [00:00<?, ?it/s]"
     ]
    },
    {
     "name": "stderr",
     "output_type": "stream",
     "text": [
      "\r",
      "sample time step:   1%|          | 1/100 [00:00<00:28,  3.50it/s]"
     ]
    },
    {
     "name": "stderr",
     "output_type": "stream",
     "text": [
      "\r",
      "sample time step:   2%|▏         | 2/100 [00:00<00:27,  3.55it/s]"
     ]
    },
    {
     "name": "stderr",
     "output_type": "stream",
     "text": [
      "\r",
      "sample time step:   3%|▎         | 3/100 [00:00<00:27,  3.55it/s]"
     ]
    },
    {
     "name": "stderr",
     "output_type": "stream",
     "text": [
      "\r",
      "sample time step:   4%|▍         | 4/100 [00:01<00:27,  3.52it/s]"
     ]
    },
    {
     "name": "stderr",
     "output_type": "stream",
     "text": [
      "\r",
      "sample time step:   5%|▌         | 5/100 [00:01<00:27,  3.41it/s]"
     ]
    },
    {
     "name": "stderr",
     "output_type": "stream",
     "text": [
      "\r",
      "sample time step:   6%|▌         | 6/100 [00:01<00:28,  3.32it/s]"
     ]
    },
    {
     "name": "stderr",
     "output_type": "stream",
     "text": [
      "\r",
      "sample time step:   7%|▋         | 7/100 [00:02<00:28,  3.26it/s]"
     ]
    },
    {
     "name": "stderr",
     "output_type": "stream",
     "text": [
      "\r",
      "sample time step:   8%|▊         | 8/100 [00:02<00:28,  3.26it/s]"
     ]
    },
    {
     "name": "stderr",
     "output_type": "stream",
     "text": [
      "\r",
      "sample time step:   9%|▉         | 9/100 [00:02<00:26,  3.42it/s]"
     ]
    },
    {
     "name": "stderr",
     "output_type": "stream",
     "text": [
      "\r",
      "sample time step:  10%|█         | 10/100 [00:02<00:27,  3.33it/s]"
     ]
    },
    {
     "name": "stderr",
     "output_type": "stream",
     "text": [
      "\r",
      "sample time step:  11%|█         | 11/100 [00:03<00:26,  3.31it/s]"
     ]
    },
    {
     "name": "stderr",
     "output_type": "stream",
     "text": [
      "\r",
      "sample time step:  12%|█▏        | 12/100 [00:03<00:27,  3.21it/s]"
     ]
    },
    {
     "name": "stderr",
     "output_type": "stream",
     "text": [
      "\r",
      "sample time step:  13%|█▎        | 13/100 [00:03<00:26,  3.34it/s]"
     ]
    },
    {
     "name": "stderr",
     "output_type": "stream",
     "text": [
      "\r",
      "sample time step:  14%|█▍        | 14/100 [00:04<00:24,  3.46it/s]"
     ]
    },
    {
     "name": "stderr",
     "output_type": "stream",
     "text": [
      "\r",
      "sample time step:  15%|█▌        | 15/100 [00:04<00:23,  3.56it/s]"
     ]
    },
    {
     "name": "stderr",
     "output_type": "stream",
     "text": [
      "\r",
      "sample time step:  16%|█▌        | 16/100 [00:04<00:23,  3.62it/s]"
     ]
    },
    {
     "name": "stderr",
     "output_type": "stream",
     "text": [
      "\r",
      "sample time step:  17%|█▋        | 17/100 [00:04<00:22,  3.63it/s]"
     ]
    },
    {
     "name": "stderr",
     "output_type": "stream",
     "text": [
      "\r",
      "sample time step:  18%|█▊        | 18/100 [00:05<00:22,  3.70it/s]"
     ]
    },
    {
     "name": "stderr",
     "output_type": "stream",
     "text": [
      "\r",
      "sample time step:  19%|█▉        | 19/100 [00:05<00:21,  3.69it/s]"
     ]
    },
    {
     "name": "stderr",
     "output_type": "stream",
     "text": [
      "\r",
      "sample time step:  20%|██        | 20/100 [00:05<00:21,  3.73it/s]"
     ]
    },
    {
     "name": "stderr",
     "output_type": "stream",
     "text": [
      "\r",
      "sample time step:  21%|██        | 21/100 [00:05<00:21,  3.74it/s]"
     ]
    },
    {
     "name": "stderr",
     "output_type": "stream",
     "text": [
      "\r",
      "sample time step:  22%|██▏       | 22/100 [00:06<00:21,  3.71it/s]"
     ]
    },
    {
     "name": "stderr",
     "output_type": "stream",
     "text": [
      "\r",
      "sample time step:  23%|██▎       | 23/100 [00:06<00:21,  3.64it/s]"
     ]
    },
    {
     "name": "stderr",
     "output_type": "stream",
     "text": [
      "\r",
      "sample time step:  24%|██▍       | 24/100 [00:06<00:21,  3.60it/s]"
     ]
    },
    {
     "name": "stderr",
     "output_type": "stream",
     "text": [
      "\r",
      "sample time step:  25%|██▌       | 25/100 [00:07<00:20,  3.62it/s]"
     ]
    },
    {
     "name": "stderr",
     "output_type": "stream",
     "text": [
      "\r",
      "sample time step:  26%|██▌       | 26/100 [00:07<00:21,  3.47it/s]"
     ]
    },
    {
     "name": "stderr",
     "output_type": "stream",
     "text": [
      "\r",
      "sample time step:  27%|██▋       | 27/100 [00:07<00:21,  3.45it/s]"
     ]
    },
    {
     "name": "stderr",
     "output_type": "stream",
     "text": [
      "\r",
      "sample time step:  28%|██▊       | 28/100 [00:08<00:21,  3.40it/s]"
     ]
    },
    {
     "name": "stderr",
     "output_type": "stream",
     "text": [
      "\r",
      "sample time step:  29%|██▉       | 29/100 [00:08<00:20,  3.52it/s]"
     ]
    },
    {
     "name": "stderr",
     "output_type": "stream",
     "text": [
      "\r",
      "sample time step:  30%|███       | 30/100 [00:08<00:19,  3.57it/s]"
     ]
    },
    {
     "name": "stderr",
     "output_type": "stream",
     "text": [
      "\r",
      "sample time step:  31%|███       | 31/100 [00:08<00:19,  3.57it/s]"
     ]
    },
    {
     "name": "stderr",
     "output_type": "stream",
     "text": [
      "\r",
      "sample time step:  32%|███▏      | 32/100 [00:09<00:20,  3.39it/s]"
     ]
    },
    {
     "name": "stderr",
     "output_type": "stream",
     "text": [
      "\r",
      "sample time step:  33%|███▎      | 33/100 [00:09<00:20,  3.34it/s]"
     ]
    },
    {
     "name": "stderr",
     "output_type": "stream",
     "text": [
      "\r",
      "sample time step:  34%|███▍      | 34/100 [00:09<00:20,  3.23it/s]"
     ]
    },
    {
     "name": "stderr",
     "output_type": "stream",
     "text": [
      "\r",
      "sample time step:  35%|███▌      | 35/100 [00:10<00:19,  3.26it/s]"
     ]
    },
    {
     "name": "stderr",
     "output_type": "stream",
     "text": [
      "\r",
      "sample time step:  36%|███▌      | 36/100 [00:10<00:19,  3.26it/s]"
     ]
    },
    {
     "name": "stderr",
     "output_type": "stream",
     "text": [
      "\r",
      "sample time step:  37%|███▋      | 37/100 [00:10<00:19,  3.30it/s]"
     ]
    },
    {
     "name": "stderr",
     "output_type": "stream",
     "text": [
      "\r",
      "sample time step:  38%|███▊      | 38/100 [00:11<00:18,  3.30it/s]"
     ]
    },
    {
     "name": "stderr",
     "output_type": "stream",
     "text": [
      "\r",
      "sample time step:  39%|███▉      | 39/100 [00:11<00:17,  3.45it/s]"
     ]
    },
    {
     "name": "stderr",
     "output_type": "stream",
     "text": [
      "\r",
      "sample time step:  40%|████      | 40/100 [00:11<00:16,  3.55it/s]"
     ]
    },
    {
     "name": "stderr",
     "output_type": "stream",
     "text": [
      "\r",
      "sample time step:  41%|████      | 41/100 [00:11<00:16,  3.63it/s]"
     ]
    },
    {
     "name": "stderr",
     "output_type": "stream",
     "text": [
      "\r",
      "sample time step:  42%|████▏     | 42/100 [00:12<00:15,  3.68it/s]"
     ]
    },
    {
     "name": "stderr",
     "output_type": "stream",
     "text": [
      "\r",
      "sample time step:  43%|████▎     | 43/100 [00:12<00:15,  3.72it/s]"
     ]
    },
    {
     "name": "stderr",
     "output_type": "stream",
     "text": [
      "\r",
      "sample time step:  44%|████▍     | 44/100 [00:12<00:14,  3.77it/s]"
     ]
    },
    {
     "name": "stderr",
     "output_type": "stream",
     "text": [
      "\r",
      "sample time step:  45%|████▌     | 45/100 [00:12<00:14,  3.80it/s]"
     ]
    },
    {
     "name": "stderr",
     "output_type": "stream",
     "text": [
      "\r",
      "sample time step:  46%|████▌     | 46/100 [00:13<00:14,  3.81it/s]"
     ]
    },
    {
     "name": "stderr",
     "output_type": "stream",
     "text": [
      "\r",
      "sample time step:  47%|████▋     | 47/100 [00:13<00:14,  3.69it/s]"
     ]
    },
    {
     "name": "stderr",
     "output_type": "stream",
     "text": [
      "\r",
      "sample time step:  48%|████▊     | 48/100 [00:13<00:13,  3.73it/s]"
     ]
    },
    {
     "name": "stderr",
     "output_type": "stream",
     "text": [
      "\r",
      "sample time step:  49%|████▉     | 49/100 [00:13<00:14,  3.61it/s]"
     ]
    },
    {
     "name": "stderr",
     "output_type": "stream",
     "text": [
      "\r",
      "sample time step:  50%|█████     | 50/100 [00:14<00:14,  3.53it/s]"
     ]
    },
    {
     "name": "stderr",
     "output_type": "stream",
     "text": [
      "\r",
      "sample time step:  51%|█████     | 51/100 [00:14<00:14,  3.49it/s]"
     ]
    },
    {
     "name": "stderr",
     "output_type": "stream",
     "text": [
      "\r",
      "sample time step:  52%|█████▏    | 52/100 [00:14<00:13,  3.57it/s]"
     ]
    },
    {
     "name": "stderr",
     "output_type": "stream",
     "text": [
      "\r",
      "sample time step:  53%|█████▎    | 53/100 [00:15<00:13,  3.59it/s]"
     ]
    },
    {
     "name": "stderr",
     "output_type": "stream",
     "text": [
      "\r",
      "sample time step:  54%|█████▍    | 54/100 [00:15<00:12,  3.66it/s]"
     ]
    },
    {
     "name": "stderr",
     "output_type": "stream",
     "text": [
      "\r",
      "sample time step:  55%|█████▌    | 55/100 [00:15<00:12,  3.63it/s]"
     ]
    },
    {
     "name": "stderr",
     "output_type": "stream",
     "text": [
      "\r",
      "sample time step:  56%|█████▌    | 56/100 [00:15<00:12,  3.53it/s]"
     ]
    },
    {
     "name": "stderr",
     "output_type": "stream",
     "text": [
      "\r",
      "sample time step:  57%|█████▋    | 57/100 [00:16<00:11,  3.60it/s]"
     ]
    },
    {
     "name": "stderr",
     "output_type": "stream",
     "text": [
      "\r",
      "sample time step:  58%|█████▊    | 58/100 [00:16<00:12,  3.41it/s]"
     ]
    },
    {
     "name": "stderr",
     "output_type": "stream",
     "text": [
      "\r",
      "sample time step:  59%|█████▉    | 59/100 [00:16<00:12,  3.40it/s]"
     ]
    },
    {
     "name": "stderr",
     "output_type": "stream",
     "text": [
      "\r",
      "sample time step:  60%|██████    | 60/100 [00:17<00:12,  3.31it/s]"
     ]
    },
    {
     "name": "stderr",
     "output_type": "stream",
     "text": [
      "\r",
      "sample time step:  61%|██████    | 61/100 [00:17<00:11,  3.33it/s]"
     ]
    },
    {
     "name": "stderr",
     "output_type": "stream",
     "text": [
      "\r",
      "sample time step:  62%|██████▏   | 62/100 [00:17<00:10,  3.50it/s]"
     ]
    },
    {
     "name": "stderr",
     "output_type": "stream",
     "text": [
      "\r",
      "sample time step:  63%|██████▎   | 63/100 [00:17<00:10,  3.45it/s]"
     ]
    },
    {
     "name": "stderr",
     "output_type": "stream",
     "text": [
      "\r",
      "sample time step:  64%|██████▍   | 64/100 [00:18<00:10,  3.43it/s]"
     ]
    },
    {
     "name": "stderr",
     "output_type": "stream",
     "text": [
      "\r",
      "sample time step:  65%|██████▌   | 65/100 [00:18<00:10,  3.46it/s]"
     ]
    },
    {
     "name": "stderr",
     "output_type": "stream",
     "text": [
      "\r",
      "sample time step:  66%|██████▌   | 66/100 [00:18<00:09,  3.56it/s]"
     ]
    },
    {
     "name": "stderr",
     "output_type": "stream",
     "text": [
      "\r",
      "sample time step:  67%|██████▋   | 67/100 [00:19<00:09,  3.63it/s]"
     ]
    },
    {
     "name": "stderr",
     "output_type": "stream",
     "text": [
      "\r",
      "sample time step:  68%|██████▊   | 68/100 [00:19<00:08,  3.72it/s]"
     ]
    },
    {
     "name": "stderr",
     "output_type": "stream",
     "text": [
      "\r",
      "sample time step:  69%|██████▉   | 69/100 [00:19<00:08,  3.78it/s]"
     ]
    },
    {
     "name": "stderr",
     "output_type": "stream",
     "text": [
      "\r",
      "sample time step:  70%|███████   | 70/100 [00:19<00:08,  3.72it/s]"
     ]
    },
    {
     "name": "stderr",
     "output_type": "stream",
     "text": [
      "\r",
      "sample time step:  71%|███████   | 71/100 [00:20<00:07,  3.75it/s]"
     ]
    },
    {
     "name": "stderr",
     "output_type": "stream",
     "text": [
      "\r",
      "sample time step:  72%|███████▏  | 72/100 [00:20<00:07,  3.60it/s]"
     ]
    },
    {
     "name": "stderr",
     "output_type": "stream",
     "text": [
      "\r",
      "sample time step:  73%|███████▎  | 73/100 [00:20<00:07,  3.50it/s]"
     ]
    },
    {
     "name": "stderr",
     "output_type": "stream",
     "text": [
      "\r",
      "sample time step:  74%|███████▍  | 74/100 [00:21<00:07,  3.42it/s]"
     ]
    },
    {
     "name": "stderr",
     "output_type": "stream",
     "text": [
      "\r",
      "sample time step:  75%|███████▌  | 75/100 [00:21<00:07,  3.43it/s]"
     ]
    },
    {
     "name": "stderr",
     "output_type": "stream",
     "text": [
      "\r",
      "sample time step:  76%|███████▌  | 76/100 [00:21<00:06,  3.56it/s]"
     ]
    },
    {
     "name": "stderr",
     "output_type": "stream",
     "text": [
      "\r",
      "sample time step:  77%|███████▋  | 77/100 [00:21<00:06,  3.65it/s]"
     ]
    },
    {
     "name": "stderr",
     "output_type": "stream",
     "text": [
      "\r",
      "sample time step:  78%|███████▊  | 78/100 [00:22<00:05,  3.70it/s]"
     ]
    },
    {
     "name": "stderr",
     "output_type": "stream",
     "text": [
      "\r",
      "sample time step:  79%|███████▉  | 79/100 [00:22<00:05,  3.62it/s]"
     ]
    },
    {
     "name": "stderr",
     "output_type": "stream",
     "text": [
      "\r",
      "sample time step:  80%|████████  | 80/100 [00:22<00:05,  3.58it/s]"
     ]
    },
    {
     "name": "stderr",
     "output_type": "stream",
     "text": [
      "\r",
      "sample time step:  81%|████████  | 81/100 [00:22<00:05,  3.62it/s]"
     ]
    },
    {
     "name": "stderr",
     "output_type": "stream",
     "text": [
      "\r",
      "sample time step:  82%|████████▏ | 82/100 [00:23<00:05,  3.52it/s]"
     ]
    },
    {
     "name": "stderr",
     "output_type": "stream",
     "text": [
      "\r",
      "sample time step:  83%|████████▎ | 83/100 [00:23<00:04,  3.48it/s]"
     ]
    },
    {
     "name": "stderr",
     "output_type": "stream",
     "text": [
      "\r",
      "sample time step:  84%|████████▍ | 84/100 [00:23<00:04,  3.39it/s]"
     ]
    },
    {
     "name": "stderr",
     "output_type": "stream",
     "text": [
      "\r",
      "sample time step:  85%|████████▌ | 85/100 [00:24<00:04,  3.35it/s]"
     ]
    },
    {
     "name": "stderr",
     "output_type": "stream",
     "text": [
      "\r",
      "sample time step:  86%|████████▌ | 86/100 [00:24<00:04,  3.25it/s]"
     ]
    },
    {
     "name": "stderr",
     "output_type": "stream",
     "text": [
      "\r",
      "sample time step:  87%|████████▋ | 87/100 [00:24<00:04,  3.21it/s]"
     ]
    },
    {
     "name": "stderr",
     "output_type": "stream",
     "text": [
      "\r",
      "sample time step:  88%|████████▊ | 88/100 [00:25<00:03,  3.26it/s]"
     ]
    },
    {
     "name": "stderr",
     "output_type": "stream",
     "text": [
      "\r",
      "sample time step:  89%|████████▉ | 89/100 [00:25<00:03,  3.25it/s]"
     ]
    },
    {
     "name": "stderr",
     "output_type": "stream",
     "text": [
      "\r",
      "sample time step:  90%|█████████ | 90/100 [00:25<00:03,  3.29it/s]"
     ]
    },
    {
     "name": "stderr",
     "output_type": "stream",
     "text": [
      "\r",
      "sample time step:  91%|█████████ | 91/100 [00:26<00:02,  3.34it/s]"
     ]
    },
    {
     "name": "stderr",
     "output_type": "stream",
     "text": [
      "\r",
      "sample time step:  92%|█████████▏| 92/100 [00:26<00:02,  3.30it/s]"
     ]
    },
    {
     "name": "stderr",
     "output_type": "stream",
     "text": [
      "\r",
      "sample time step:  93%|█████████▎| 93/100 [00:26<00:02,  3.36it/s]"
     ]
    },
    {
     "name": "stderr",
     "output_type": "stream",
     "text": [
      "\r",
      "sample time step:  94%|█████████▍| 94/100 [00:26<00:01,  3.32it/s]"
     ]
    },
    {
     "name": "stderr",
     "output_type": "stream",
     "text": [
      "\r",
      "sample time step:  95%|█████████▌| 95/100 [00:27<00:01,  3.31it/s]"
     ]
    },
    {
     "name": "stderr",
     "output_type": "stream",
     "text": [
      "\r",
      "sample time step:  96%|█████████▌| 96/100 [00:27<00:01,  3.38it/s]"
     ]
    },
    {
     "name": "stderr",
     "output_type": "stream",
     "text": [
      "\r",
      "sample time step:  97%|█████████▋| 97/100 [00:27<00:00,  3.50it/s]"
     ]
    },
    {
     "name": "stderr",
     "output_type": "stream",
     "text": [
      "\r",
      "sample time step:  98%|█████████▊| 98/100 [00:28<00:00,  3.55it/s]"
     ]
    },
    {
     "name": "stderr",
     "output_type": "stream",
     "text": [
      "\r",
      "sample time step:  99%|█████████▉| 99/100 [00:28<00:00,  3.62it/s]"
     ]
    },
    {
     "name": "stderr",
     "output_type": "stream",
     "text": [
      "\r",
      "sample time step: 100%|██████████| 100/100 [00:28<00:00,  3.69it/s]"
     ]
    },
    {
     "name": "stderr",
     "output_type": "stream",
     "text": [
      "\r",
      "sample time step: 100%|██████████| 100/100 [00:28<00:00,  3.50it/s]"
     ]
    },
    {
     "name": "stderr",
     "output_type": "stream",
     "text": [
      "\n"
     ]
    },
    {
     "name": "stdout",
     "output_type": "stream",
     "text": [
      "✅ Generated: zh_22.wav\n"
     ]
    },
    {
     "name": "stdout",
     "output_type": "stream",
     "text": [
      "Pass word-notes check.\n",
      "269 269 269\n",
      "Pass word-notes check.\n"
     ]
    },
    {
     "name": "stdout",
     "output_type": "stream",
     "text": [
      "===> gaussion start.\n"
     ]
    },
    {
     "name": "stderr",
     "output_type": "stream",
     "text": [
      "\r",
      "sample time step:   0%|          | 0/100 [00:00<?, ?it/s]"
     ]
    },
    {
     "name": "stderr",
     "output_type": "stream",
     "text": [
      "\r",
      "sample time step:   1%|          | 1/100 [00:00<00:38,  2.57it/s]"
     ]
    },
    {
     "name": "stderr",
     "output_type": "stream",
     "text": [
      "\r",
      "sample time step:   2%|▏         | 2/100 [00:00<00:34,  2.82it/s]"
     ]
    },
    {
     "name": "stderr",
     "output_type": "stream",
     "text": [
      "\r",
      "sample time step:   3%|▎         | 3/100 [00:01<00:33,  2.88it/s]"
     ]
    },
    {
     "name": "stderr",
     "output_type": "stream",
     "text": [
      "\r",
      "sample time step:   4%|▍         | 4/100 [00:01<00:34,  2.76it/s]"
     ]
    },
    {
     "name": "stderr",
     "output_type": "stream",
     "text": [
      "\r",
      "sample time step:   5%|▌         | 5/100 [00:01<00:35,  2.68it/s]"
     ]
    },
    {
     "name": "stderr",
     "output_type": "stream",
     "text": [
      "\r",
      "sample time step:   6%|▌         | 6/100 [00:02<00:36,  2.59it/s]"
     ]
    },
    {
     "name": "stderr",
     "output_type": "stream",
     "text": [
      "\r",
      "sample time step:   7%|▋         | 7/100 [00:02<00:36,  2.55it/s]"
     ]
    },
    {
     "name": "stderr",
     "output_type": "stream",
     "text": [
      "\r",
      "sample time step:   8%|▊         | 8/100 [00:03<00:36,  2.53it/s]"
     ]
    },
    {
     "name": "stderr",
     "output_type": "stream",
     "text": [
      "\r",
      "sample time step:   9%|▉         | 9/100 [00:03<00:36,  2.51it/s]"
     ]
    },
    {
     "name": "stderr",
     "output_type": "stream",
     "text": [
      "\r",
      "sample time step:  10%|█         | 10/100 [00:03<00:34,  2.59it/s]"
     ]
    },
    {
     "name": "stderr",
     "output_type": "stream",
     "text": [
      "\r",
      "sample time step:  11%|█         | 11/100 [00:04<00:33,  2.63it/s]"
     ]
    },
    {
     "name": "stderr",
     "output_type": "stream",
     "text": [
      "\r",
      "sample time step:  12%|█▏        | 12/100 [00:04<00:32,  2.72it/s]"
     ]
    },
    {
     "name": "stderr",
     "output_type": "stream",
     "text": [
      "\r",
      "sample time step:  13%|█▎        | 13/100 [00:04<00:31,  2.76it/s]"
     ]
    },
    {
     "name": "stderr",
     "output_type": "stream",
     "text": [
      "\r",
      "sample time step:  14%|█▍        | 14/100 [00:05<00:31,  2.71it/s]"
     ]
    },
    {
     "name": "stderr",
     "output_type": "stream",
     "text": [
      "\r",
      "sample time step:  15%|█▌        | 15/100 [00:05<00:32,  2.64it/s]"
     ]
    },
    {
     "name": "stderr",
     "output_type": "stream",
     "text": [
      "\r",
      "sample time step:  16%|█▌        | 16/100 [00:06<00:32,  2.57it/s]"
     ]
    },
    {
     "name": "stderr",
     "output_type": "stream",
     "text": [
      "\r",
      "sample time step:  17%|█▋        | 17/100 [00:06<00:31,  2.60it/s]"
     ]
    },
    {
     "name": "stderr",
     "output_type": "stream",
     "text": [
      "\r",
      "sample time step:  18%|█▊        | 18/100 [00:06<00:30,  2.67it/s]"
     ]
    },
    {
     "name": "stderr",
     "output_type": "stream",
     "text": [
      "\r",
      "sample time step:  19%|█▉        | 19/100 [00:07<00:30,  2.65it/s]"
     ]
    },
    {
     "name": "stderr",
     "output_type": "stream",
     "text": [
      "\r",
      "sample time step:  20%|██        | 20/100 [00:07<00:30,  2.63it/s]"
     ]
    },
    {
     "name": "stderr",
     "output_type": "stream",
     "text": [
      "\r",
      "sample time step:  21%|██        | 21/100 [00:07<00:28,  2.75it/s]"
     ]
    },
    {
     "name": "stderr",
     "output_type": "stream",
     "text": [
      "\r",
      "sample time step:  22%|██▏       | 22/100 [00:08<00:27,  2.83it/s]"
     ]
    },
    {
     "name": "stderr",
     "output_type": "stream",
     "text": [
      "\r",
      "sample time step:  23%|██▎       | 23/100 [00:08<00:27,  2.84it/s]"
     ]
    },
    {
     "name": "stderr",
     "output_type": "stream",
     "text": [
      "\r",
      "sample time step:  24%|██▍       | 24/100 [00:08<00:27,  2.77it/s]"
     ]
    },
    {
     "name": "stderr",
     "output_type": "stream",
     "text": [
      "\r",
      "sample time step:  25%|██▌       | 25/100 [00:09<00:26,  2.79it/s]"
     ]
    },
    {
     "name": "stderr",
     "output_type": "stream",
     "text": [
      "\r",
      "sample time step:  26%|██▌       | 26/100 [00:09<00:26,  2.75it/s]"
     ]
    },
    {
     "name": "stderr",
     "output_type": "stream",
     "text": [
      "\r",
      "sample time step:  27%|██▋       | 27/100 [00:10<00:27,  2.69it/s]"
     ]
    },
    {
     "name": "stderr",
     "output_type": "stream",
     "text": [
      "\r",
      "sample time step:  28%|██▊       | 28/100 [00:10<00:26,  2.75it/s]"
     ]
    },
    {
     "name": "stderr",
     "output_type": "stream",
     "text": [
      "\r",
      "sample time step:  29%|██▉       | 29/100 [00:10<00:25,  2.82it/s]"
     ]
    },
    {
     "name": "stderr",
     "output_type": "stream",
     "text": [
      "\r",
      "sample time step:  30%|███       | 30/100 [00:11<00:24,  2.83it/s]"
     ]
    },
    {
     "name": "stderr",
     "output_type": "stream",
     "text": [
      "\r",
      "sample time step:  31%|███       | 31/100 [00:11<00:24,  2.82it/s]"
     ]
    },
    {
     "name": "stderr",
     "output_type": "stream",
     "text": [
      "\r",
      "sample time step:  32%|███▏      | 32/100 [00:11<00:24,  2.73it/s]"
     ]
    },
    {
     "name": "stderr",
     "output_type": "stream",
     "text": [
      "\r",
      "sample time step:  33%|███▎      | 33/100 [00:12<00:25,  2.67it/s]"
     ]
    },
    {
     "name": "stderr",
     "output_type": "stream",
     "text": [
      "\r",
      "sample time step:  34%|███▍      | 34/100 [00:12<00:24,  2.67it/s]"
     ]
    },
    {
     "name": "stderr",
     "output_type": "stream",
     "text": [
      "\r",
      "sample time step:  35%|███▌      | 35/100 [00:13<00:24,  2.62it/s]"
     ]
    },
    {
     "name": "stderr",
     "output_type": "stream",
     "text": [
      "\r",
      "sample time step:  36%|███▌      | 36/100 [00:13<00:24,  2.57it/s]"
     ]
    },
    {
     "name": "stderr",
     "output_type": "stream",
     "text": [
      "\r",
      "sample time step:  37%|███▋      | 37/100 [00:13<00:23,  2.67it/s]"
     ]
    },
    {
     "name": "stderr",
     "output_type": "stream",
     "text": [
      "\r",
      "sample time step:  38%|███▊      | 38/100 [00:14<00:23,  2.62it/s]"
     ]
    },
    {
     "name": "stderr",
     "output_type": "stream",
     "text": [
      "\r",
      "sample time step:  39%|███▉      | 39/100 [00:14<00:23,  2.62it/s]"
     ]
    },
    {
     "name": "stderr",
     "output_type": "stream",
     "text": [
      "\r",
      "sample time step:  40%|████      | 40/100 [00:14<00:23,  2.56it/s]"
     ]
    },
    {
     "name": "stderr",
     "output_type": "stream",
     "text": [
      "\r",
      "sample time step:  41%|████      | 41/100 [00:15<00:23,  2.52it/s]"
     ]
    },
    {
     "name": "stderr",
     "output_type": "stream",
     "text": [
      "\r",
      "sample time step:  42%|████▏     | 42/100 [00:15<00:23,  2.44it/s]"
     ]
    },
    {
     "name": "stderr",
     "output_type": "stream",
     "text": [
      "\r",
      "sample time step:  43%|████▎     | 43/100 [00:16<00:22,  2.48it/s]"
     ]
    },
    {
     "name": "stderr",
     "output_type": "stream",
     "text": [
      "\r",
      "sample time step:  44%|████▍     | 44/100 [00:16<00:22,  2.52it/s]"
     ]
    },
    {
     "name": "stderr",
     "output_type": "stream",
     "text": [
      "\r",
      "sample time step:  45%|████▌     | 45/100 [00:16<00:21,  2.57it/s]"
     ]
    },
    {
     "name": "stderr",
     "output_type": "stream",
     "text": [
      "\r",
      "sample time step:  46%|████▌     | 46/100 [00:17<00:20,  2.65it/s]"
     ]
    },
    {
     "name": "stderr",
     "output_type": "stream",
     "text": [
      "\r",
      "sample time step:  47%|████▋     | 47/100 [00:17<00:19,  2.71it/s]"
     ]
    },
    {
     "name": "stderr",
     "output_type": "stream",
     "text": [
      "\r",
      "sample time step:  48%|████▊     | 48/100 [00:17<00:18,  2.81it/s]"
     ]
    },
    {
     "name": "stderr",
     "output_type": "stream",
     "text": [
      "\r",
      "sample time step:  49%|████▉     | 49/100 [00:18<00:18,  2.75it/s]"
     ]
    },
    {
     "name": "stderr",
     "output_type": "stream",
     "text": [
      "\r",
      "sample time step:  50%|█████     | 50/100 [00:18<00:18,  2.70it/s]"
     ]
    },
    {
     "name": "stderr",
     "output_type": "stream",
     "text": [
      "\r",
      "sample time step:  51%|█████     | 51/100 [00:19<00:17,  2.73it/s]"
     ]
    },
    {
     "name": "stderr",
     "output_type": "stream",
     "text": [
      "\r",
      "sample time step:  52%|█████▏    | 52/100 [00:19<00:17,  2.76it/s]"
     ]
    },
    {
     "name": "stderr",
     "output_type": "stream",
     "text": [
      "\r",
      "sample time step:  53%|█████▎    | 53/100 [00:19<00:16,  2.85it/s]"
     ]
    },
    {
     "name": "stderr",
     "output_type": "stream",
     "text": [
      "\r",
      "sample time step:  54%|█████▍    | 54/100 [00:20<00:15,  2.90it/s]"
     ]
    },
    {
     "name": "stderr",
     "output_type": "stream",
     "text": [
      "\r",
      "sample time step:  55%|█████▌    | 55/100 [00:20<00:16,  2.81it/s]"
     ]
    },
    {
     "name": "stderr",
     "output_type": "stream",
     "text": [
      "\r",
      "sample time step:  56%|█████▌    | 56/100 [00:20<00:15,  2.75it/s]"
     ]
    },
    {
     "name": "stderr",
     "output_type": "stream",
     "text": [
      "\r",
      "sample time step:  57%|█████▋    | 57/100 [00:21<00:15,  2.74it/s]"
     ]
    },
    {
     "name": "stderr",
     "output_type": "stream",
     "text": [
      "\r",
      "sample time step:  58%|█████▊    | 58/100 [00:21<00:14,  2.82it/s]"
     ]
    },
    {
     "name": "stderr",
     "output_type": "stream",
     "text": [
      "\r",
      "sample time step:  59%|█████▉    | 59/100 [00:21<00:14,  2.81it/s]"
     ]
    },
    {
     "name": "stderr",
     "output_type": "stream",
     "text": [
      "\r",
      "sample time step:  60%|██████    | 60/100 [00:22<00:14,  2.71it/s]"
     ]
    },
    {
     "name": "stderr",
     "output_type": "stream",
     "text": [
      "\r",
      "sample time step:  61%|██████    | 61/100 [00:22<00:14,  2.77it/s]"
     ]
    },
    {
     "name": "stderr",
     "output_type": "stream",
     "text": [
      "\r",
      "sample time step:  62%|██████▏   | 62/100 [00:23<00:14,  2.71it/s]"
     ]
    },
    {
     "name": "stderr",
     "output_type": "stream",
     "text": [
      "\r",
      "sample time step:  63%|██████▎   | 63/100 [00:23<00:13,  2.69it/s]"
     ]
    },
    {
     "name": "stderr",
     "output_type": "stream",
     "text": [
      "\r",
      "sample time step:  64%|██████▍   | 64/100 [00:23<00:12,  2.78it/s]"
     ]
    },
    {
     "name": "stderr",
     "output_type": "stream",
     "text": [
      "\r",
      "sample time step:  65%|██████▌   | 65/100 [00:24<00:12,  2.80it/s]"
     ]
    },
    {
     "name": "stderr",
     "output_type": "stream",
     "text": [
      "\r",
      "sample time step:  66%|██████▌   | 66/100 [00:24<00:12,  2.80it/s]"
     ]
    },
    {
     "name": "stderr",
     "output_type": "stream",
     "text": [
      "\r",
      "sample time step:  67%|██████▋   | 67/100 [00:24<00:12,  2.66it/s]"
     ]
    },
    {
     "name": "stderr",
     "output_type": "stream",
     "text": [
      "\r",
      "sample time step:  68%|██████▊   | 68/100 [00:25<00:12,  2.61it/s]"
     ]
    },
    {
     "name": "stderr",
     "output_type": "stream",
     "text": [
      "\r",
      "sample time step:  69%|██████▉   | 69/100 [00:25<00:11,  2.59it/s]"
     ]
    },
    {
     "name": "stderr",
     "output_type": "stream",
     "text": [
      "\r",
      "sample time step:  70%|███████   | 70/100 [00:26<00:11,  2.60it/s]"
     ]
    },
    {
     "name": "stderr",
     "output_type": "stream",
     "text": [
      "\r",
      "sample time step:  71%|███████   | 71/100 [00:26<00:10,  2.70it/s]"
     ]
    },
    {
     "name": "stderr",
     "output_type": "stream",
     "text": [
      "\r",
      "sample time step:  72%|███████▏  | 72/100 [00:26<00:09,  2.81it/s]"
     ]
    },
    {
     "name": "stderr",
     "output_type": "stream",
     "text": [
      "\r",
      "sample time step:  73%|███████▎  | 73/100 [00:27<00:09,  2.90it/s]"
     ]
    },
    {
     "name": "stderr",
     "output_type": "stream",
     "text": [
      "\r",
      "sample time step:  74%|███████▍  | 74/100 [00:27<00:09,  2.88it/s]"
     ]
    },
    {
     "name": "stderr",
     "output_type": "stream",
     "text": [
      "\r",
      "sample time step:  75%|███████▌  | 75/100 [00:27<00:08,  2.84it/s]"
     ]
    },
    {
     "name": "stderr",
     "output_type": "stream",
     "text": [
      "\r",
      "sample time step:  76%|███████▌  | 76/100 [00:28<00:08,  2.77it/s]"
     ]
    },
    {
     "name": "stderr",
     "output_type": "stream",
     "text": [
      "\r",
      "sample time step:  77%|███████▋  | 77/100 [00:28<00:08,  2.64it/s]"
     ]
    },
    {
     "name": "stderr",
     "output_type": "stream",
     "text": [
      "\r",
      "sample time step:  78%|███████▊  | 78/100 [00:28<00:08,  2.64it/s]"
     ]
    },
    {
     "name": "stderr",
     "output_type": "stream",
     "text": [
      "\r",
      "sample time step:  79%|███████▉  | 79/100 [00:29<00:08,  2.62it/s]"
     ]
    },
    {
     "name": "stderr",
     "output_type": "stream",
     "text": [
      "\r",
      "sample time step:  80%|████████  | 80/100 [00:29<00:07,  2.61it/s]"
     ]
    },
    {
     "name": "stderr",
     "output_type": "stream",
     "text": [
      "\r",
      "sample time step:  81%|████████  | 81/100 [00:30<00:07,  2.64it/s]"
     ]
    },
    {
     "name": "stderr",
     "output_type": "stream",
     "text": [
      "\r",
      "sample time step:  82%|████████▏ | 82/100 [00:30<00:06,  2.64it/s]"
     ]
    },
    {
     "name": "stderr",
     "output_type": "stream",
     "text": [
      "\r",
      "sample time step:  83%|████████▎ | 83/100 [00:30<00:06,  2.73it/s]"
     ]
    },
    {
     "name": "stderr",
     "output_type": "stream",
     "text": [
      "\r",
      "sample time step:  84%|████████▍ | 84/100 [00:31<00:05,  2.73it/s]"
     ]
    },
    {
     "name": "stderr",
     "output_type": "stream",
     "text": [
      "\r",
      "sample time step:  85%|████████▌ | 85/100 [00:31<00:05,  2.68it/s]"
     ]
    },
    {
     "name": "stderr",
     "output_type": "stream",
     "text": [
      "\r",
      "sample time step:  86%|████████▌ | 86/100 [00:31<00:05,  2.71it/s]"
     ]
    },
    {
     "name": "stderr",
     "output_type": "stream",
     "text": [
      "\r",
      "sample time step:  87%|████████▋ | 87/100 [00:32<00:04,  2.74it/s]"
     ]
    },
    {
     "name": "stderr",
     "output_type": "stream",
     "text": [
      "\r",
      "sample time step:  88%|████████▊ | 88/100 [00:32<00:04,  2.77it/s]"
     ]
    },
    {
     "name": "stderr",
     "output_type": "stream",
     "text": [
      "\r",
      "sample time step:  89%|████████▉ | 89/100 [00:32<00:03,  2.82it/s]"
     ]
    },
    {
     "name": "stderr",
     "output_type": "stream",
     "text": [
      "\r",
      "sample time step:  90%|█████████ | 90/100 [00:33<00:03,  2.86it/s]"
     ]
    },
    {
     "name": "stderr",
     "output_type": "stream",
     "text": [
      "\r",
      "sample time step:  91%|█████████ | 91/100 [00:33<00:03,  2.92it/s]"
     ]
    },
    {
     "name": "stderr",
     "output_type": "stream",
     "text": [
      "\r",
      "sample time step:  92%|█████████▏| 92/100 [00:33<00:02,  2.96it/s]"
     ]
    },
    {
     "name": "stderr",
     "output_type": "stream",
     "text": [
      "\r",
      "sample time step:  93%|█████████▎| 93/100 [00:34<00:02,  2.93it/s]"
     ]
    },
    {
     "name": "stderr",
     "output_type": "stream",
     "text": [
      "\r",
      "sample time step:  94%|█████████▍| 94/100 [00:34<00:02,  2.89it/s]"
     ]
    },
    {
     "name": "stderr",
     "output_type": "stream",
     "text": [
      "\r",
      "sample time step:  95%|█████████▌| 95/100 [00:34<00:01,  2.91it/s]"
     ]
    },
    {
     "name": "stderr",
     "output_type": "stream",
     "text": [
      "\r",
      "sample time step:  96%|█████████▌| 96/100 [00:35<00:01,  2.81it/s]"
     ]
    },
    {
     "name": "stderr",
     "output_type": "stream",
     "text": [
      "\r",
      "sample time step:  97%|█████████▋| 97/100 [00:35<00:01,  2.73it/s]"
     ]
    },
    {
     "name": "stderr",
     "output_type": "stream",
     "text": [
      "\r",
      "sample time step:  98%|█████████▊| 98/100 [00:36<00:00,  2.68it/s]"
     ]
    },
    {
     "name": "stderr",
     "output_type": "stream",
     "text": [
      "\r",
      "sample time step:  99%|█████████▉| 99/100 [00:36<00:00,  2.67it/s]"
     ]
    },
    {
     "name": "stderr",
     "output_type": "stream",
     "text": [
      "\r",
      "sample time step: 100%|██████████| 100/100 [00:36<00:00,  2.59it/s]"
     ]
    },
    {
     "name": "stderr",
     "output_type": "stream",
     "text": [
      "\r",
      "sample time step: 100%|██████████| 100/100 [00:36<00:00,  2.71it/s]"
     ]
    },
    {
     "name": "stderr",
     "output_type": "stream",
     "text": [
      "\n"
     ]
    },
    {
     "name": "stdout",
     "output_type": "stream",
     "text": [
      "✅ Generated: zh_2.wav\n"
     ]
    },
    {
     "name": "stdout",
     "output_type": "stream",
     "text": [
      "Pass word-notes check.\n",
      "291 291 291\n",
      "Pass word-notes check.\n"
     ]
    },
    {
     "name": "stdout",
     "output_type": "stream",
     "text": [
      "===> gaussion start.\n"
     ]
    },
    {
     "name": "stderr",
     "output_type": "stream",
     "text": [
      "\r",
      "sample time step:   0%|          | 0/100 [00:00<?, ?it/s]"
     ]
    },
    {
     "name": "stderr",
     "output_type": "stream",
     "text": [
      "\r",
      "sample time step:   1%|          | 1/100 [00:00<00:48,  2.06it/s]"
     ]
    },
    {
     "name": "stderr",
     "output_type": "stream",
     "text": [
      "\r",
      "sample time step:   2%|▏         | 2/100 [00:00<00:44,  2.22it/s]"
     ]
    },
    {
     "name": "stderr",
     "output_type": "stream",
     "text": [
      "\r",
      "sample time step:   3%|▎         | 3/100 [00:01<00:41,  2.33it/s]"
     ]
    },
    {
     "name": "stderr",
     "output_type": "stream",
     "text": [
      "\r",
      "sample time step:   4%|▍         | 4/100 [00:01<00:39,  2.43it/s]"
     ]
    },
    {
     "name": "stderr",
     "output_type": "stream",
     "text": [
      "\r",
      "sample time step:   5%|▌         | 5/100 [00:02<00:36,  2.57it/s]"
     ]
    },
    {
     "name": "stderr",
     "output_type": "stream",
     "text": [
      "\r",
      "sample time step:   6%|▌         | 6/100 [00:02<00:35,  2.65it/s]"
     ]
    },
    {
     "name": "stderr",
     "output_type": "stream",
     "text": [
      "\r",
      "sample time step:   7%|▋         | 7/100 [00:02<00:34,  2.69it/s]"
     ]
    },
    {
     "name": "stderr",
     "output_type": "stream",
     "text": [
      "\r",
      "sample time step:   8%|▊         | 8/100 [00:03<00:34,  2.68it/s]"
     ]
    },
    {
     "name": "stderr",
     "output_type": "stream",
     "text": [
      "\r",
      "sample time step:   9%|▉         | 9/100 [00:03<00:33,  2.71it/s]"
     ]
    },
    {
     "name": "stderr",
     "output_type": "stream",
     "text": [
      "\r",
      "sample time step:  10%|█         | 10/100 [00:03<00:32,  2.75it/s]"
     ]
    },
    {
     "name": "stderr",
     "output_type": "stream",
     "text": [
      "\r",
      "sample time step:  11%|█         | 11/100 [00:04<00:32,  2.74it/s]"
     ]
    },
    {
     "name": "stderr",
     "output_type": "stream",
     "text": [
      "\r",
      "sample time step:  12%|█▏        | 12/100 [00:04<00:31,  2.76it/s]"
     ]
    },
    {
     "name": "stderr",
     "output_type": "stream",
     "text": [
      "\r",
      "sample time step:  13%|█▎        | 13/100 [00:04<00:31,  2.75it/s]"
     ]
    },
    {
     "name": "stderr",
     "output_type": "stream",
     "text": [
      "\r",
      "sample time step:  14%|█▍        | 14/100 [00:05<00:32,  2.63it/s]"
     ]
    },
    {
     "name": "stderr",
     "output_type": "stream",
     "text": [
      "\r",
      "sample time step:  15%|█▌        | 15/100 [00:05<00:33,  2.56it/s]"
     ]
    },
    {
     "name": "stderr",
     "output_type": "stream",
     "text": [
      "\r",
      "sample time step:  16%|█▌        | 16/100 [00:06<00:34,  2.43it/s]"
     ]
    },
    {
     "name": "stderr",
     "output_type": "stream",
     "text": [
      "\r",
      "sample time step:  17%|█▋        | 17/100 [00:06<00:34,  2.41it/s]"
     ]
    },
    {
     "name": "stderr",
     "output_type": "stream",
     "text": [
      "\r",
      "sample time step:  18%|█▊        | 18/100 [00:07<00:34,  2.39it/s]"
     ]
    },
    {
     "name": "stderr",
     "output_type": "stream",
     "text": [
      "\r",
      "sample time step:  19%|█▉        | 19/100 [00:07<00:34,  2.37it/s]"
     ]
    },
    {
     "name": "stderr",
     "output_type": "stream",
     "text": [
      "\r",
      "sample time step:  20%|██        | 20/100 [00:07<00:32,  2.43it/s]"
     ]
    },
    {
     "name": "stderr",
     "output_type": "stream",
     "text": [
      "\r",
      "sample time step:  21%|██        | 21/100 [00:08<00:32,  2.46it/s]"
     ]
    },
    {
     "name": "stderr",
     "output_type": "stream",
     "text": [
      "\r",
      "sample time step:  22%|██▏       | 22/100 [00:08<00:31,  2.45it/s]"
     ]
    },
    {
     "name": "stderr",
     "output_type": "stream",
     "text": [
      "\r",
      "sample time step:  23%|██▎       | 23/100 [00:09<00:31,  2.48it/s]"
     ]
    },
    {
     "name": "stderr",
     "output_type": "stream",
     "text": [
      "\r",
      "sample time step:  24%|██▍       | 24/100 [00:09<00:29,  2.57it/s]"
     ]
    },
    {
     "name": "stderr",
     "output_type": "stream",
     "text": [
      "\r",
      "sample time step:  25%|██▌       | 25/100 [00:09<00:29,  2.51it/s]"
     ]
    },
    {
     "name": "stderr",
     "output_type": "stream",
     "text": [
      "\r",
      "sample time step:  26%|██▌       | 26/100 [00:10<00:30,  2.45it/s]"
     ]
    },
    {
     "name": "stderr",
     "output_type": "stream",
     "text": [
      "\r",
      "sample time step:  27%|██▋       | 27/100 [00:10<00:30,  2.42it/s]"
     ]
    },
    {
     "name": "stderr",
     "output_type": "stream",
     "text": [
      "\r",
      "sample time step:  28%|██▊       | 28/100 [00:11<00:30,  2.37it/s]"
     ]
    },
    {
     "name": "stderr",
     "output_type": "stream",
     "text": [
      "\r",
      "sample time step:  29%|██▉       | 29/100 [00:11<00:30,  2.36it/s]"
     ]
    },
    {
     "name": "stderr",
     "output_type": "stream",
     "text": [
      "\r",
      "sample time step:  30%|███       | 30/100 [00:12<00:30,  2.32it/s]"
     ]
    },
    {
     "name": "stderr",
     "output_type": "stream",
     "text": [
      "\r",
      "sample time step:  31%|███       | 31/100 [00:12<00:30,  2.27it/s]"
     ]
    },
    {
     "name": "stderr",
     "output_type": "stream",
     "text": [
      "\r",
      "sample time step:  32%|███▏      | 32/100 [00:12<00:30,  2.26it/s]"
     ]
    },
    {
     "name": "stderr",
     "output_type": "stream",
     "text": [
      "\r",
      "sample time step:  33%|███▎      | 33/100 [00:13<00:29,  2.28it/s]"
     ]
    },
    {
     "name": "stderr",
     "output_type": "stream",
     "text": [
      "\r",
      "sample time step:  34%|███▍      | 34/100 [00:13<00:29,  2.24it/s]"
     ]
    },
    {
     "name": "stderr",
     "output_type": "stream",
     "text": [
      "\r",
      "sample time step:  35%|███▌      | 35/100 [00:14<00:28,  2.31it/s]"
     ]
    },
    {
     "name": "stderr",
     "output_type": "stream",
     "text": [
      "\r",
      "sample time step:  36%|███▌      | 36/100 [00:14<00:27,  2.36it/s]"
     ]
    },
    {
     "name": "stderr",
     "output_type": "stream",
     "text": [
      "\r",
      "sample time step:  37%|███▋      | 37/100 [00:15<00:26,  2.38it/s]"
     ]
    },
    {
     "name": "stderr",
     "output_type": "stream",
     "text": [
      "\r",
      "sample time step:  38%|███▊      | 38/100 [00:15<00:25,  2.41it/s]"
     ]
    },
    {
     "name": "stderr",
     "output_type": "stream",
     "text": [
      "\r",
      "sample time step:  39%|███▉      | 39/100 [00:15<00:25,  2.42it/s]"
     ]
    },
    {
     "name": "stderr",
     "output_type": "stream",
     "text": [
      "\r",
      "sample time step:  40%|████      | 40/100 [00:16<00:24,  2.42it/s]"
     ]
    },
    {
     "name": "stderr",
     "output_type": "stream",
     "text": [
      "\r",
      "sample time step:  41%|████      | 41/100 [00:16<00:24,  2.41it/s]"
     ]
    },
    {
     "name": "stderr",
     "output_type": "stream",
     "text": [
      "\r",
      "sample time step:  42%|████▏     | 42/100 [00:17<00:22,  2.54it/s]"
     ]
    },
    {
     "name": "stderr",
     "output_type": "stream",
     "text": [
      "\r",
      "sample time step:  43%|████▎     | 43/100 [00:17<00:21,  2.61it/s]"
     ]
    },
    {
     "name": "stderr",
     "output_type": "stream",
     "text": [
      "\r",
      "sample time step:  44%|████▍     | 44/100 [00:17<00:21,  2.63it/s]"
     ]
    },
    {
     "name": "stderr",
     "output_type": "stream",
     "text": [
      "\r",
      "sample time step:  45%|████▌     | 45/100 [00:18<00:20,  2.64it/s]"
     ]
    },
    {
     "name": "stderr",
     "output_type": "stream",
     "text": [
      "\r",
      "sample time step:  46%|████▌     | 46/100 [00:18<00:20,  2.63it/s]"
     ]
    },
    {
     "name": "stderr",
     "output_type": "stream",
     "text": [
      "\r",
      "sample time step:  47%|████▋     | 47/100 [00:18<00:20,  2.58it/s]"
     ]
    },
    {
     "name": "stderr",
     "output_type": "stream",
     "text": [
      "\r",
      "sample time step:  48%|████▊     | 48/100 [00:19<00:20,  2.52it/s]"
     ]
    },
    {
     "name": "stderr",
     "output_type": "stream",
     "text": [
      "\r",
      "sample time step:  49%|████▉     | 49/100 [00:19<00:21,  2.41it/s]"
     ]
    },
    {
     "name": "stderr",
     "output_type": "stream",
     "text": [
      "\r",
      "sample time step:  50%|█████     | 50/100 [00:20<00:20,  2.42it/s]"
     ]
    },
    {
     "name": "stderr",
     "output_type": "stream",
     "text": [
      "\r",
      "sample time step:  51%|█████     | 51/100 [00:20<00:19,  2.50it/s]"
     ]
    },
    {
     "name": "stderr",
     "output_type": "stream",
     "text": [
      "\r",
      "sample time step:  52%|█████▏    | 52/100 [00:20<00:18,  2.58it/s]"
     ]
    },
    {
     "name": "stderr",
     "output_type": "stream",
     "text": [
      "\r",
      "sample time step:  53%|█████▎    | 53/100 [00:21<00:17,  2.62it/s]"
     ]
    },
    {
     "name": "stderr",
     "output_type": "stream",
     "text": [
      "\r",
      "sample time step:  54%|█████▍    | 54/100 [00:21<00:17,  2.59it/s]"
     ]
    },
    {
     "name": "stderr",
     "output_type": "stream",
     "text": [
      "\r",
      "sample time step:  55%|█████▌    | 55/100 [00:22<00:17,  2.50it/s]"
     ]
    },
    {
     "name": "stderr",
     "output_type": "stream",
     "text": [
      "\r",
      "sample time step:  56%|█████▌    | 56/100 [00:22<00:17,  2.45it/s]"
     ]
    },
    {
     "name": "stderr",
     "output_type": "stream",
     "text": [
      "\r",
      "sample time step:  57%|█████▋    | 57/100 [00:22<00:16,  2.54it/s]"
     ]
    },
    {
     "name": "stderr",
     "output_type": "stream",
     "text": [
      "\r",
      "sample time step:  58%|█████▊    | 58/100 [00:23<00:16,  2.50it/s]"
     ]
    },
    {
     "name": "stderr",
     "output_type": "stream",
     "text": [
      "\r",
      "sample time step:  59%|█████▉    | 59/100 [00:23<00:16,  2.46it/s]"
     ]
    },
    {
     "name": "stderr",
     "output_type": "stream",
     "text": [
      "\r",
      "sample time step:  60%|██████    | 60/100 [00:24<00:15,  2.52it/s]"
     ]
    },
    {
     "name": "stderr",
     "output_type": "stream",
     "text": [
      "\r",
      "sample time step:  61%|██████    | 61/100 [00:24<00:15,  2.53it/s]"
     ]
    },
    {
     "name": "stderr",
     "output_type": "stream",
     "text": [
      "\r",
      "sample time step:  62%|██████▏   | 62/100 [00:24<00:14,  2.55it/s]"
     ]
    },
    {
     "name": "stderr",
     "output_type": "stream",
     "text": [
      "\r",
      "sample time step:  63%|██████▎   | 63/100 [00:25<00:14,  2.52it/s]"
     ]
    },
    {
     "name": "stderr",
     "output_type": "stream",
     "text": [
      "\r",
      "sample time step:  64%|██████▍   | 64/100 [00:25<00:14,  2.47it/s]"
     ]
    },
    {
     "name": "stderr",
     "output_type": "stream",
     "text": [
      "\r",
      "sample time step:  65%|██████▌   | 65/100 [00:26<00:14,  2.41it/s]"
     ]
    },
    {
     "name": "stderr",
     "output_type": "stream",
     "text": [
      "\r",
      "sample time step:  66%|██████▌   | 66/100 [00:26<00:14,  2.40it/s]"
     ]
    },
    {
     "name": "stderr",
     "output_type": "stream",
     "text": [
      "\r",
      "sample time step:  67%|██████▋   | 67/100 [00:27<00:13,  2.44it/s]"
     ]
    },
    {
     "name": "stderr",
     "output_type": "stream",
     "text": [
      "\r",
      "sample time step:  68%|██████▊   | 68/100 [00:27<00:12,  2.54it/s]"
     ]
    },
    {
     "name": "stderr",
     "output_type": "stream",
     "text": [
      "\r",
      "sample time step:  69%|██████▉   | 69/100 [00:27<00:11,  2.60it/s]"
     ]
    },
    {
     "name": "stderr",
     "output_type": "stream",
     "text": [
      "\r",
      "sample time step:  70%|███████   | 70/100 [00:28<00:11,  2.59it/s]"
     ]
    },
    {
     "name": "stderr",
     "output_type": "stream",
     "text": [
      "\r",
      "sample time step:  71%|███████   | 71/100 [00:28<00:10,  2.64it/s]"
     ]
    },
    {
     "name": "stderr",
     "output_type": "stream",
     "text": [
      "\r",
      "sample time step:  72%|███████▏  | 72/100 [00:28<00:10,  2.63it/s]"
     ]
    },
    {
     "name": "stderr",
     "output_type": "stream",
     "text": [
      "\r",
      "sample time step:  73%|███████▎  | 73/100 [00:29<00:10,  2.49it/s]"
     ]
    },
    {
     "name": "stderr",
     "output_type": "stream",
     "text": [
      "\r",
      "sample time step:  74%|███████▍  | 74/100 [00:29<00:10,  2.40it/s]"
     ]
    },
    {
     "name": "stderr",
     "output_type": "stream",
     "text": [
      "\r",
      "sample time step:  75%|███████▌  | 75/100 [00:30<00:10,  2.41it/s]"
     ]
    },
    {
     "name": "stderr",
     "output_type": "stream",
     "text": [
      "\r",
      "sample time step:  76%|███████▌  | 76/100 [00:30<00:09,  2.40it/s]"
     ]
    },
    {
     "name": "stderr",
     "output_type": "stream",
     "text": [
      "\r",
      "sample time step:  77%|███████▋  | 77/100 [00:31<00:09,  2.40it/s]"
     ]
    },
    {
     "name": "stderr",
     "output_type": "stream",
     "text": [
      "\r",
      "sample time step:  78%|███████▊  | 78/100 [00:31<00:09,  2.43it/s]"
     ]
    },
    {
     "name": "stderr",
     "output_type": "stream",
     "text": [
      "\r",
      "sample time step:  79%|███████▉  | 79/100 [00:31<00:08,  2.39it/s]"
     ]
    },
    {
     "name": "stderr",
     "output_type": "stream",
     "text": [
      "\r",
      "sample time step:  80%|████████  | 80/100 [00:32<00:08,  2.37it/s]"
     ]
    },
    {
     "name": "stderr",
     "output_type": "stream",
     "text": [
      "\r",
      "sample time step:  81%|████████  | 81/100 [00:32<00:07,  2.40it/s]"
     ]
    },
    {
     "name": "stderr",
     "output_type": "stream",
     "text": [
      "\r",
      "sample time step:  82%|████████▏ | 82/100 [00:33<00:07,  2.41it/s]"
     ]
    },
    {
     "name": "stderr",
     "output_type": "stream",
     "text": [
      "\r",
      "sample time step:  83%|████████▎ | 83/100 [00:33<00:07,  2.42it/s]"
     ]
    },
    {
     "name": "stderr",
     "output_type": "stream",
     "text": [
      "\r",
      "sample time step:  84%|████████▍ | 84/100 [00:33<00:06,  2.44it/s]"
     ]
    },
    {
     "name": "stderr",
     "output_type": "stream",
     "text": [
      "\r",
      "sample time step:  85%|████████▌ | 85/100 [00:34<00:05,  2.52it/s]"
     ]
    },
    {
     "name": "stderr",
     "output_type": "stream",
     "text": [
      "\r",
      "sample time step:  86%|████████▌ | 86/100 [00:34<00:05,  2.60it/s]"
     ]
    },
    {
     "name": "stderr",
     "output_type": "stream",
     "text": [
      "\r",
      "sample time step:  87%|████████▋ | 87/100 [00:35<00:04,  2.63it/s]"
     ]
    },
    {
     "name": "stderr",
     "output_type": "stream",
     "text": [
      "\r",
      "sample time step:  88%|████████▊ | 88/100 [00:35<00:04,  2.55it/s]"
     ]
    },
    {
     "name": "stderr",
     "output_type": "stream",
     "text": [
      "\r",
      "sample time step:  89%|████████▉ | 89/100 [00:35<00:04,  2.56it/s]"
     ]
    },
    {
     "name": "stderr",
     "output_type": "stream",
     "text": [
      "\r",
      "sample time step:  90%|█████████ | 90/100 [00:36<00:03,  2.65it/s]"
     ]
    },
    {
     "name": "stderr",
     "output_type": "stream",
     "text": [
      "\r",
      "sample time step:  91%|█████████ | 91/100 [00:36<00:03,  2.61it/s]"
     ]
    },
    {
     "name": "stderr",
     "output_type": "stream",
     "text": [
      "\r",
      "sample time step:  92%|█████████▏| 92/100 [00:36<00:03,  2.52it/s]"
     ]
    },
    {
     "name": "stderr",
     "output_type": "stream",
     "text": [
      "\r",
      "sample time step:  93%|█████████▎| 93/100 [00:37<00:02,  2.50it/s]"
     ]
    },
    {
     "name": "stderr",
     "output_type": "stream",
     "text": [
      "\r",
      "sample time step:  94%|█████████▍| 94/100 [00:37<00:02,  2.48it/s]"
     ]
    },
    {
     "name": "stderr",
     "output_type": "stream",
     "text": [
      "\r",
      "sample time step:  95%|█████████▌| 95/100 [00:38<00:02,  2.48it/s]"
     ]
    },
    {
     "name": "stderr",
     "output_type": "stream",
     "text": [
      "\r",
      "sample time step:  96%|█████████▌| 96/100 [00:38<00:01,  2.45it/s]"
     ]
    },
    {
     "name": "stderr",
     "output_type": "stream",
     "text": [
      "\r",
      "sample time step:  97%|█████████▋| 97/100 [00:39<00:01,  2.38it/s]"
     ]
    },
    {
     "name": "stderr",
     "output_type": "stream",
     "text": [
      "\r",
      "sample time step:  98%|█████████▊| 98/100 [00:39<00:00,  2.52it/s]"
     ]
    },
    {
     "name": "stderr",
     "output_type": "stream",
     "text": [
      "\r",
      "sample time step:  99%|█████████▉| 99/100 [00:39<00:00,  2.51it/s]"
     ]
    },
    {
     "name": "stderr",
     "output_type": "stream",
     "text": [
      "\r",
      "sample time step: 100%|██████████| 100/100 [00:40<00:00,  2.47it/s]"
     ]
    },
    {
     "name": "stderr",
     "output_type": "stream",
     "text": [
      "\r",
      "sample time step: 100%|██████████| 100/100 [00:40<00:00,  2.48it/s]"
     ]
    },
    {
     "name": "stderr",
     "output_type": "stream",
     "text": [
      "\n"
     ]
    },
    {
     "name": "stdout",
     "output_type": "stream",
     "text": [
      "✅ Generated: zh_18.wav\n"
     ]
    },
    {
     "name": "stdout",
     "output_type": "stream",
     "text": [
      "Pass word-notes check.\n",
      "257 257 257\n",
      "Pass word-notes check.\n"
     ]
    },
    {
     "name": "stdout",
     "output_type": "stream",
     "text": [
      "===> gaussion start.\n"
     ]
    },
    {
     "name": "stderr",
     "output_type": "stream",
     "text": [
      "\r",
      "sample time step:   0%|          | 0/100 [00:00<?, ?it/s]"
     ]
    },
    {
     "name": "stderr",
     "output_type": "stream",
     "text": [
      "\r",
      "sample time step:   1%|          | 1/100 [00:00<00:38,  2.57it/s]"
     ]
    },
    {
     "name": "stderr",
     "output_type": "stream",
     "text": [
      "\r",
      "sample time step:   2%|▏         | 2/100 [00:00<00:34,  2.81it/s]"
     ]
    },
    {
     "name": "stderr",
     "output_type": "stream",
     "text": [
      "\r",
      "sample time step:   3%|▎         | 3/100 [00:01<00:33,  2.92it/s]"
     ]
    },
    {
     "name": "stderr",
     "output_type": "stream",
     "text": [
      "\r",
      "sample time step:   4%|▍         | 4/100 [00:01<00:34,  2.81it/s]"
     ]
    },
    {
     "name": "stderr",
     "output_type": "stream",
     "text": [
      "\r",
      "sample time step:   5%|▌         | 5/100 [00:01<00:34,  2.78it/s]"
     ]
    },
    {
     "name": "stderr",
     "output_type": "stream",
     "text": [
      "\r",
      "sample time step:   6%|▌         | 6/100 [00:02<00:35,  2.64it/s]"
     ]
    },
    {
     "name": "stderr",
     "output_type": "stream",
     "text": [
      "\r",
      "sample time step:   7%|▋         | 7/100 [00:02<00:37,  2.51it/s]"
     ]
    },
    {
     "name": "stderr",
     "output_type": "stream",
     "text": [
      "\r",
      "sample time step:   8%|▊         | 8/100 [00:03<00:36,  2.53it/s]"
     ]
    },
    {
     "name": "stderr",
     "output_type": "stream",
     "text": [
      "\r",
      "sample time step:   9%|▉         | 9/100 [00:03<00:35,  2.53it/s]"
     ]
    },
    {
     "name": "stderr",
     "output_type": "stream",
     "text": [
      "\r",
      "sample time step:  10%|█         | 10/100 [00:03<00:35,  2.53it/s]"
     ]
    },
    {
     "name": "stderr",
     "output_type": "stream",
     "text": [
      "\r",
      "sample time step:  11%|█         | 11/100 [00:04<00:35,  2.54it/s]"
     ]
    },
    {
     "name": "stderr",
     "output_type": "stream",
     "text": [
      "\r",
      "sample time step:  12%|█▏        | 12/100 [00:04<00:34,  2.54it/s]"
     ]
    },
    {
     "name": "stderr",
     "output_type": "stream",
     "text": [
      "\r",
      "sample time step:  13%|█▎        | 13/100 [00:05<00:34,  2.54it/s]"
     ]
    },
    {
     "name": "stderr",
     "output_type": "stream",
     "text": [
      "\r",
      "sample time step:  14%|█▍        | 14/100 [00:05<00:34,  2.51it/s]"
     ]
    },
    {
     "name": "stderr",
     "output_type": "stream",
     "text": [
      "\r",
      "sample time step:  15%|█▌        | 15/100 [00:05<00:33,  2.50it/s]"
     ]
    },
    {
     "name": "stderr",
     "output_type": "stream",
     "text": [
      "\r",
      "sample time step:  16%|█▌        | 16/100 [00:06<00:33,  2.49it/s]"
     ]
    },
    {
     "name": "stderr",
     "output_type": "stream",
     "text": [
      "\r",
      "sample time step:  17%|█▋        | 17/100 [00:06<00:33,  2.48it/s]"
     ]
    },
    {
     "name": "stderr",
     "output_type": "stream",
     "text": [
      "\r",
      "sample time step:  18%|█▊        | 18/100 [00:07<00:32,  2.50it/s]"
     ]
    },
    {
     "name": "stderr",
     "output_type": "stream",
     "text": [
      "\r",
      "sample time step:  19%|█▉        | 19/100 [00:07<00:33,  2.39it/s]"
     ]
    },
    {
     "name": "stderr",
     "output_type": "stream",
     "text": [
      "\r",
      "sample time step:  20%|██        | 20/100 [00:07<00:32,  2.43it/s]"
     ]
    },
    {
     "name": "stderr",
     "output_type": "stream",
     "text": [
      "\r",
      "sample time step:  21%|██        | 21/100 [00:08<00:32,  2.46it/s]"
     ]
    },
    {
     "name": "stderr",
     "output_type": "stream",
     "text": [
      "\r",
      "sample time step:  22%|██▏       | 22/100 [00:08<00:31,  2.51it/s]"
     ]
    },
    {
     "name": "stderr",
     "output_type": "stream",
     "text": [
      "\r",
      "sample time step:  23%|██▎       | 23/100 [00:08<00:29,  2.64it/s]"
     ]
    },
    {
     "name": "stderr",
     "output_type": "stream",
     "text": [
      "\r",
      "sample time step:  24%|██▍       | 24/100 [00:09<00:27,  2.76it/s]"
     ]
    },
    {
     "name": "stderr",
     "output_type": "stream",
     "text": [
      "\r",
      "sample time step:  25%|██▌       | 25/100 [00:09<00:26,  2.80it/s]"
     ]
    },
    {
     "name": "stderr",
     "output_type": "stream",
     "text": [
      "\r",
      "sample time step:  26%|██▌       | 26/100 [00:10<00:26,  2.81it/s]"
     ]
    },
    {
     "name": "stderr",
     "output_type": "stream",
     "text": [
      "\r",
      "sample time step:  27%|██▋       | 27/100 [00:10<00:26,  2.78it/s]"
     ]
    },
    {
     "name": "stderr",
     "output_type": "stream",
     "text": [
      "\r",
      "sample time step:  28%|██▊       | 28/100 [00:10<00:26,  2.73it/s]"
     ]
    },
    {
     "name": "stderr",
     "output_type": "stream",
     "text": [
      "\r",
      "sample time step:  29%|██▉       | 29/100 [00:11<00:25,  2.76it/s]"
     ]
    },
    {
     "name": "stderr",
     "output_type": "stream",
     "text": [
      "\r",
      "sample time step:  30%|███       | 30/100 [00:11<00:25,  2.77it/s]"
     ]
    },
    {
     "name": "stderr",
     "output_type": "stream",
     "text": [
      "\r",
      "sample time step:  31%|███       | 31/100 [00:11<00:25,  2.73it/s]"
     ]
    },
    {
     "name": "stderr",
     "output_type": "stream",
     "text": [
      "\r",
      "sample time step:  32%|███▏      | 32/100 [00:12<00:25,  2.68it/s]"
     ]
    },
    {
     "name": "stderr",
     "output_type": "stream",
     "text": [
      "\r",
      "sample time step:  33%|███▎      | 33/100 [00:12<00:25,  2.63it/s]"
     ]
    },
    {
     "name": "stderr",
     "output_type": "stream",
     "text": [
      "\r",
      "sample time step:  34%|███▍      | 34/100 [00:13<00:25,  2.56it/s]"
     ]
    },
    {
     "name": "stderr",
     "output_type": "stream",
     "text": [
      "\r",
      "sample time step:  35%|███▌      | 35/100 [00:13<00:24,  2.64it/s]"
     ]
    },
    {
     "name": "stderr",
     "output_type": "stream",
     "text": [
      "\r",
      "sample time step:  36%|███▌      | 36/100 [00:13<00:24,  2.64it/s]"
     ]
    },
    {
     "name": "stderr",
     "output_type": "stream",
     "text": [
      "\r",
      "sample time step:  37%|███▋      | 37/100 [00:14<00:23,  2.64it/s]"
     ]
    },
    {
     "name": "stderr",
     "output_type": "stream",
     "text": [
      "\r",
      "sample time step:  38%|███▊      | 38/100 [00:14<00:23,  2.68it/s]"
     ]
    },
    {
     "name": "stderr",
     "output_type": "stream",
     "text": [
      "\r",
      "sample time step:  39%|███▉      | 39/100 [00:14<00:22,  2.68it/s]"
     ]
    },
    {
     "name": "stderr",
     "output_type": "stream",
     "text": [
      "\r",
      "sample time step:  40%|████      | 40/100 [00:15<00:21,  2.80it/s]"
     ]
    },
    {
     "name": "stderr",
     "output_type": "stream",
     "text": [
      "\r",
      "sample time step:  41%|████      | 41/100 [00:15<00:20,  2.88it/s]"
     ]
    },
    {
     "name": "stderr",
     "output_type": "stream",
     "text": [
      "\r",
      "sample time step:  42%|████▏     | 42/100 [00:15<00:20,  2.89it/s]"
     ]
    },
    {
     "name": "stderr",
     "output_type": "stream",
     "text": [
      "\r",
      "sample time step:  43%|████▎     | 43/100 [00:16<00:19,  2.89it/s]"
     ]
    },
    {
     "name": "stderr",
     "output_type": "stream",
     "text": [
      "\r",
      "sample time step:  44%|████▍     | 44/100 [00:16<00:19,  2.94it/s]"
     ]
    },
    {
     "name": "stderr",
     "output_type": "stream",
     "text": [
      "\r",
      "sample time step:  45%|████▌     | 45/100 [00:16<00:19,  2.86it/s]"
     ]
    },
    {
     "name": "stderr",
     "output_type": "stream",
     "text": [
      "\r",
      "sample time step:  46%|████▌     | 46/100 [00:17<00:19,  2.77it/s]"
     ]
    },
    {
     "name": "stderr",
     "output_type": "stream",
     "text": [
      "\r",
      "sample time step:  47%|████▋     | 47/100 [00:17<00:19,  2.73it/s]"
     ]
    },
    {
     "name": "stderr",
     "output_type": "stream",
     "text": [
      "\r",
      "sample time step:  48%|████▊     | 48/100 [00:18<00:18,  2.79it/s]"
     ]
    },
    {
     "name": "stderr",
     "output_type": "stream",
     "text": [
      "\r",
      "sample time step:  49%|████▉     | 49/100 [00:18<00:17,  2.86it/s]"
     ]
    },
    {
     "name": "stderr",
     "output_type": "stream",
     "text": [
      "\r",
      "sample time step:  50%|█████     | 50/100 [00:18<00:18,  2.78it/s]"
     ]
    },
    {
     "name": "stderr",
     "output_type": "stream",
     "text": [
      "\r",
      "sample time step:  51%|█████     | 51/100 [00:19<00:17,  2.84it/s]"
     ]
    },
    {
     "name": "stderr",
     "output_type": "stream",
     "text": [
      "\r",
      "sample time step:  52%|█████▏    | 52/100 [00:19<00:17,  2.75it/s]"
     ]
    },
    {
     "name": "stderr",
     "output_type": "stream",
     "text": [
      "\r",
      "sample time step:  53%|█████▎    | 53/100 [00:19<00:17,  2.69it/s]"
     ]
    },
    {
     "name": "stderr",
     "output_type": "stream",
     "text": [
      "\r",
      "sample time step:  54%|█████▍    | 54/100 [00:20<00:17,  2.64it/s]"
     ]
    },
    {
     "name": "stderr",
     "output_type": "stream",
     "text": [
      "\r",
      "sample time step:  55%|█████▌    | 55/100 [00:20<00:16,  2.72it/s]"
     ]
    },
    {
     "name": "stderr",
     "output_type": "stream",
     "text": [
      "\r",
      "sample time step:  56%|█████▌    | 56/100 [00:20<00:16,  2.73it/s]"
     ]
    },
    {
     "name": "stderr",
     "output_type": "stream",
     "text": [
      "\r",
      "sample time step:  57%|█████▋    | 57/100 [00:21<00:15,  2.71it/s]"
     ]
    },
    {
     "name": "stderr",
     "output_type": "stream",
     "text": [
      "\r",
      "sample time step:  58%|█████▊    | 58/100 [00:21<00:15,  2.66it/s]"
     ]
    },
    {
     "name": "stderr",
     "output_type": "stream",
     "text": [
      "\r",
      "sample time step:  59%|█████▉    | 59/100 [00:22<00:14,  2.74it/s]"
     ]
    },
    {
     "name": "stderr",
     "output_type": "stream",
     "text": [
      "\r",
      "sample time step:  60%|██████    | 60/100 [00:22<00:14,  2.84it/s]"
     ]
    },
    {
     "name": "stderr",
     "output_type": "stream",
     "text": [
      "\r",
      "sample time step:  61%|██████    | 61/100 [00:22<00:13,  2.79it/s]"
     ]
    },
    {
     "name": "stderr",
     "output_type": "stream",
     "text": [
      "\r",
      "sample time step:  62%|██████▏   | 62/100 [00:23<00:13,  2.83it/s]"
     ]
    },
    {
     "name": "stderr",
     "output_type": "stream",
     "text": [
      "\r",
      "sample time step:  63%|██████▎   | 63/100 [00:23<00:13,  2.66it/s]"
     ]
    },
    {
     "name": "stderr",
     "output_type": "stream",
     "text": [
      "\r",
      "sample time step:  64%|██████▍   | 64/100 [00:23<00:13,  2.63it/s]"
     ]
    },
    {
     "name": "stderr",
     "output_type": "stream",
     "text": [
      "\r",
      "sample time step:  65%|██████▌   | 65/100 [00:24<00:12,  2.76it/s]"
     ]
    },
    {
     "name": "stderr",
     "output_type": "stream",
     "text": [
      "\r",
      "sample time step:  66%|██████▌   | 66/100 [00:24<00:11,  2.84it/s]"
     ]
    },
    {
     "name": "stderr",
     "output_type": "stream",
     "text": [
      "\r",
      "sample time step:  67%|██████▋   | 67/100 [00:24<00:11,  2.84it/s]"
     ]
    },
    {
     "name": "stderr",
     "output_type": "stream",
     "text": [
      "\r",
      "sample time step:  68%|██████▊   | 68/100 [00:25<00:11,  2.76it/s]"
     ]
    },
    {
     "name": "stderr",
     "output_type": "stream",
     "text": [
      "\r",
      "sample time step:  69%|██████▉   | 69/100 [00:25<00:11,  2.69it/s]"
     ]
    },
    {
     "name": "stderr",
     "output_type": "stream",
     "text": [
      "\r",
      "sample time step:  70%|███████   | 70/100 [00:26<00:11,  2.71it/s]"
     ]
    },
    {
     "name": "stderr",
     "output_type": "stream",
     "text": [
      "\r",
      "sample time step:  71%|███████   | 71/100 [00:26<00:10,  2.67it/s]"
     ]
    },
    {
     "name": "stderr",
     "output_type": "stream",
     "text": [
      "\r",
      "sample time step:  72%|███████▏  | 72/100 [00:26<00:10,  2.67it/s]"
     ]
    },
    {
     "name": "stderr",
     "output_type": "stream",
     "text": [
      "\r",
      "sample time step:  73%|███████▎  | 73/100 [00:27<00:10,  2.66it/s]"
     ]
    },
    {
     "name": "stderr",
     "output_type": "stream",
     "text": [
      "\r",
      "sample time step:  74%|███████▍  | 74/100 [00:27<00:09,  2.63it/s]"
     ]
    },
    {
     "name": "stderr",
     "output_type": "stream",
     "text": [
      "\r",
      "sample time step:  75%|███████▌  | 75/100 [00:27<00:09,  2.58it/s]"
     ]
    },
    {
     "name": "stderr",
     "output_type": "stream",
     "text": [
      "\r",
      "sample time step:  76%|███████▌  | 76/100 [00:28<00:09,  2.63it/s]"
     ]
    },
    {
     "name": "stderr",
     "output_type": "stream",
     "text": [
      "\r",
      "sample time step:  77%|███████▋  | 77/100 [00:28<00:08,  2.63it/s]"
     ]
    },
    {
     "name": "stderr",
     "output_type": "stream",
     "text": [
      "\r",
      "sample time step:  78%|███████▊  | 78/100 [00:29<00:08,  2.62it/s]"
     ]
    },
    {
     "name": "stderr",
     "output_type": "stream",
     "text": [
      "\r",
      "sample time step:  79%|███████▉  | 79/100 [00:29<00:07,  2.76it/s]"
     ]
    },
    {
     "name": "stderr",
     "output_type": "stream",
     "text": [
      "\r",
      "sample time step:  80%|████████  | 80/100 [00:29<00:07,  2.68it/s]"
     ]
    },
    {
     "name": "stderr",
     "output_type": "stream",
     "text": [
      "\r",
      "sample time step:  81%|████████  | 81/100 [00:30<00:07,  2.65it/s]"
     ]
    },
    {
     "name": "stderr",
     "output_type": "stream",
     "text": [
      "\r",
      "sample time step:  82%|████████▏ | 82/100 [00:30<00:06,  2.76it/s]"
     ]
    },
    {
     "name": "stderr",
     "output_type": "stream",
     "text": [
      "\r",
      "sample time step:  83%|████████▎ | 83/100 [00:30<00:06,  2.77it/s]"
     ]
    },
    {
     "name": "stderr",
     "output_type": "stream",
     "text": [
      "\r",
      "sample time step:  84%|████████▍ | 84/100 [00:31<00:05,  2.85it/s]"
     ]
    },
    {
     "name": "stderr",
     "output_type": "stream",
     "text": [
      "\r",
      "sample time step:  85%|████████▌ | 85/100 [00:31<00:05,  2.86it/s]"
     ]
    },
    {
     "name": "stderr",
     "output_type": "stream",
     "text": [
      "\r",
      "sample time step:  86%|████████▌ | 86/100 [00:31<00:04,  2.87it/s]"
     ]
    },
    {
     "name": "stderr",
     "output_type": "stream",
     "text": [
      "\r",
      "sample time step:  87%|████████▋ | 87/100 [00:32<00:04,  2.73it/s]"
     ]
    },
    {
     "name": "stderr",
     "output_type": "stream",
     "text": [
      "\r",
      "sample time step:  88%|████████▊ | 88/100 [00:32<00:04,  2.69it/s]"
     ]
    },
    {
     "name": "stderr",
     "output_type": "stream",
     "text": [
      "\r",
      "sample time step:  89%|████████▉ | 89/100 [00:33<00:04,  2.66it/s]"
     ]
    },
    {
     "name": "stderr",
     "output_type": "stream",
     "text": [
      "\r",
      "sample time step:  90%|█████████ | 90/100 [00:33<00:03,  2.65it/s]"
     ]
    },
    {
     "name": "stderr",
     "output_type": "stream",
     "text": [
      "\r",
      "sample time step:  91%|█████████ | 91/100 [00:33<00:03,  2.70it/s]"
     ]
    },
    {
     "name": "stderr",
     "output_type": "stream",
     "text": [
      "\r",
      "sample time step:  92%|█████████▏| 92/100 [00:34<00:02,  2.80it/s]"
     ]
    },
    {
     "name": "stderr",
     "output_type": "stream",
     "text": [
      "\r",
      "sample time step:  93%|█████████▎| 93/100 [00:34<00:02,  2.73it/s]"
     ]
    },
    {
     "name": "stderr",
     "output_type": "stream",
     "text": [
      "\r",
      "sample time step:  94%|█████████▍| 94/100 [00:34<00:02,  2.69it/s]"
     ]
    },
    {
     "name": "stderr",
     "output_type": "stream",
     "text": [
      "\r",
      "sample time step:  95%|█████████▌| 95/100 [00:35<00:01,  2.70it/s]"
     ]
    },
    {
     "name": "stderr",
     "output_type": "stream",
     "text": [
      "\r",
      "sample time step:  96%|█████████▌| 96/100 [00:35<00:01,  2.67it/s]"
     ]
    },
    {
     "name": "stderr",
     "output_type": "stream",
     "text": [
      "\r",
      "sample time step:  97%|█████████▋| 97/100 [00:36<00:01,  2.56it/s]"
     ]
    },
    {
     "name": "stderr",
     "output_type": "stream",
     "text": [
      "\r",
      "sample time step:  98%|█████████▊| 98/100 [00:36<00:00,  2.51it/s]"
     ]
    },
    {
     "name": "stderr",
     "output_type": "stream",
     "text": [
      "\r",
      "sample time step:  99%|█████████▉| 99/100 [00:36<00:00,  2.46it/s]"
     ]
    },
    {
     "name": "stderr",
     "output_type": "stream",
     "text": [
      "\r",
      "sample time step: 100%|██████████| 100/100 [00:37<00:00,  2.55it/s]"
     ]
    },
    {
     "name": "stderr",
     "output_type": "stream",
     "text": [
      "\r",
      "sample time step: 100%|██████████| 100/100 [00:37<00:00,  2.68it/s]"
     ]
    },
    {
     "name": "stderr",
     "output_type": "stream",
     "text": [
      "\n"
     ]
    },
    {
     "name": "stdout",
     "output_type": "stream",
     "text": [
      "✅ Generated: zh_6.wav\n"
     ]
    },
    {
     "name": "stdout",
     "output_type": "stream",
     "text": [
      "Pass word-notes check.\n",
      "336 336 336\n",
      "Pass word-notes check.\n"
     ]
    },
    {
     "name": "stdout",
     "output_type": "stream",
     "text": [
      "===> gaussion start.\n"
     ]
    },
    {
     "name": "stderr",
     "output_type": "stream",
     "text": [
      "\r",
      "sample time step:   0%|          | 0/100 [00:00<?, ?it/s]"
     ]
    },
    {
     "name": "stderr",
     "output_type": "stream",
     "text": [
      "\r",
      "sample time step:   1%|          | 1/100 [00:00<00:48,  2.02it/s]"
     ]
    },
    {
     "name": "stderr",
     "output_type": "stream",
     "text": [
      "\r",
      "sample time step:   2%|▏         | 2/100 [00:00<00:47,  2.06it/s]"
     ]
    },
    {
     "name": "stderr",
     "output_type": "stream",
     "text": [
      "\r",
      "sample time step:   3%|▎         | 3/100 [00:01<00:46,  2.07it/s]"
     ]
    },
    {
     "name": "stderr",
     "output_type": "stream",
     "text": [
      "\r",
      "sample time step:   4%|▍         | 4/100 [00:01<00:46,  2.07it/s]"
     ]
    },
    {
     "name": "stderr",
     "output_type": "stream",
     "text": [
      "\r",
      "sample time step:   5%|▌         | 5/100 [00:02<00:44,  2.15it/s]"
     ]
    },
    {
     "name": "stderr",
     "output_type": "stream",
     "text": [
      "\r",
      "sample time step:   6%|▌         | 6/100 [00:02<00:43,  2.17it/s]"
     ]
    },
    {
     "name": "stderr",
     "output_type": "stream",
     "text": [
      "\r",
      "sample time step:   7%|▋         | 7/100 [00:03<00:42,  2.20it/s]"
     ]
    },
    {
     "name": "stderr",
     "output_type": "stream",
     "text": [
      "\r",
      "sample time step:   8%|▊         | 8/100 [00:03<00:40,  2.29it/s]"
     ]
    },
    {
     "name": "stderr",
     "output_type": "stream",
     "text": [
      "\r",
      "sample time step:   9%|▉         | 9/100 [00:04<00:39,  2.33it/s]"
     ]
    },
    {
     "name": "stderr",
     "output_type": "stream",
     "text": [
      "\r",
      "sample time step:  10%|█         | 10/100 [00:04<00:39,  2.26it/s]"
     ]
    },
    {
     "name": "stderr",
     "output_type": "stream",
     "text": [
      "\r",
      "sample time step:  11%|█         | 11/100 [00:04<00:39,  2.26it/s]"
     ]
    },
    {
     "name": "stderr",
     "output_type": "stream",
     "text": [
      "\r",
      "sample time step:  12%|█▏        | 12/100 [00:05<00:39,  2.23it/s]"
     ]
    },
    {
     "name": "stderr",
     "output_type": "stream",
     "text": [
      "\r",
      "sample time step:  13%|█▎        | 13/100 [00:05<00:39,  2.20it/s]"
     ]
    },
    {
     "name": "stderr",
     "output_type": "stream",
     "text": [
      "\r",
      "sample time step:  14%|█▍        | 14/100 [00:06<00:39,  2.19it/s]"
     ]
    },
    {
     "name": "stderr",
     "output_type": "stream",
     "text": [
      "\r",
      "sample time step:  15%|█▌        | 15/100 [00:06<00:39,  2.18it/s]"
     ]
    },
    {
     "name": "stderr",
     "output_type": "stream",
     "text": [
      "\r",
      "sample time step:  16%|█▌        | 16/100 [00:07<00:38,  2.16it/s]"
     ]
    },
    {
     "name": "stderr",
     "output_type": "stream",
     "text": [
      "\r",
      "sample time step:  17%|█▋        | 17/100 [00:07<00:37,  2.18it/s]"
     ]
    },
    {
     "name": "stderr",
     "output_type": "stream",
     "text": [
      "\r",
      "sample time step:  18%|█▊        | 18/100 [00:08<00:36,  2.24it/s]"
     ]
    },
    {
     "name": "stderr",
     "output_type": "stream",
     "text": [
      "\r",
      "sample time step:  19%|█▉        | 19/100 [00:08<00:36,  2.24it/s]"
     ]
    },
    {
     "name": "stderr",
     "output_type": "stream",
     "text": [
      "\r",
      "sample time step:  20%|██        | 20/100 [00:09<00:36,  2.18it/s]"
     ]
    },
    {
     "name": "stderr",
     "output_type": "stream",
     "text": [
      "\r",
      "sample time step:  21%|██        | 21/100 [00:09<00:35,  2.22it/s]"
     ]
    },
    {
     "name": "stderr",
     "output_type": "stream",
     "text": [
      "\r",
      "sample time step:  22%|██▏       | 22/100 [00:09<00:34,  2.25it/s]"
     ]
    },
    {
     "name": "stderr",
     "output_type": "stream",
     "text": [
      "\r",
      "sample time step:  23%|██▎       | 23/100 [00:10<00:34,  2.23it/s]"
     ]
    },
    {
     "name": "stderr",
     "output_type": "stream",
     "text": [
      "\r",
      "sample time step:  24%|██▍       | 24/100 [00:10<00:33,  2.26it/s]"
     ]
    },
    {
     "name": "stderr",
     "output_type": "stream",
     "text": [
      "\r",
      "sample time step:  25%|██▌       | 25/100 [00:11<00:33,  2.26it/s]"
     ]
    },
    {
     "name": "stderr",
     "output_type": "stream",
     "text": [
      "\r",
      "sample time step:  26%|██▌       | 26/100 [00:11<00:32,  2.31it/s]"
     ]
    },
    {
     "name": "stderr",
     "output_type": "stream",
     "text": [
      "\r",
      "sample time step:  27%|██▋       | 27/100 [00:12<00:32,  2.28it/s]"
     ]
    },
    {
     "name": "stderr",
     "output_type": "stream",
     "text": [
      "\r",
      "sample time step:  28%|██▊       | 28/100 [00:12<00:32,  2.22it/s]"
     ]
    },
    {
     "name": "stderr",
     "output_type": "stream",
     "text": [
      "\r",
      "sample time step:  29%|██▉       | 29/100 [00:13<00:32,  2.19it/s]"
     ]
    },
    {
     "name": "stderr",
     "output_type": "stream",
     "text": [
      "\r",
      "sample time step:  30%|███       | 30/100 [00:13<00:32,  2.14it/s]"
     ]
    },
    {
     "name": "stderr",
     "output_type": "stream",
     "text": [
      "\r",
      "sample time step:  31%|███       | 31/100 [00:14<00:32,  2.15it/s]"
     ]
    },
    {
     "name": "stderr",
     "output_type": "stream",
     "text": [
      "\r",
      "sample time step:  32%|███▏      | 32/100 [00:14<00:30,  2.24it/s]"
     ]
    },
    {
     "name": "stderr",
     "output_type": "stream",
     "text": [
      "\r",
      "sample time step:  33%|███▎      | 33/100 [00:14<00:29,  2.29it/s]"
     ]
    },
    {
     "name": "stderr",
     "output_type": "stream",
     "text": [
      "\r",
      "sample time step:  34%|███▍      | 34/100 [00:15<00:28,  2.34it/s]"
     ]
    },
    {
     "name": "stderr",
     "output_type": "stream",
     "text": [
      "\r",
      "sample time step:  35%|███▌      | 35/100 [00:15<00:27,  2.36it/s]"
     ]
    },
    {
     "name": "stderr",
     "output_type": "stream",
     "text": [
      "\r",
      "sample time step:  36%|███▌      | 36/100 [00:16<00:27,  2.29it/s]"
     ]
    },
    {
     "name": "stderr",
     "output_type": "stream",
     "text": [
      "\r",
      "sample time step:  37%|███▋      | 37/100 [00:16<00:27,  2.26it/s]"
     ]
    },
    {
     "name": "stderr",
     "output_type": "stream",
     "text": [
      "\r",
      "sample time step:  38%|███▊      | 38/100 [00:17<00:28,  2.21it/s]"
     ]
    },
    {
     "name": "stderr",
     "output_type": "stream",
     "text": [
      "\r",
      "sample time step:  39%|███▉      | 39/100 [00:17<00:27,  2.18it/s]"
     ]
    },
    {
     "name": "stderr",
     "output_type": "stream",
     "text": [
      "\r",
      "sample time step:  40%|████      | 40/100 [00:18<00:27,  2.15it/s]"
     ]
    },
    {
     "name": "stderr",
     "output_type": "stream",
     "text": [
      "\r",
      "sample time step:  41%|████      | 41/100 [00:18<00:27,  2.17it/s]"
     ]
    },
    {
     "name": "stderr",
     "output_type": "stream",
     "text": [
      "\r",
      "sample time step:  42%|████▏     | 42/100 [00:18<00:26,  2.19it/s]"
     ]
    },
    {
     "name": "stderr",
     "output_type": "stream",
     "text": [
      "\r",
      "sample time step:  43%|████▎     | 43/100 [00:19<00:27,  2.10it/s]"
     ]
    },
    {
     "name": "stderr",
     "output_type": "stream",
     "text": [
      "\r",
      "sample time step:  44%|████▍     | 44/100 [00:19<00:27,  2.07it/s]"
     ]
    },
    {
     "name": "stderr",
     "output_type": "stream",
     "text": [
      "\r",
      "sample time step:  45%|████▌     | 45/100 [00:20<00:26,  2.06it/s]"
     ]
    },
    {
     "name": "stderr",
     "output_type": "stream",
     "text": [
      "\r",
      "sample time step:  46%|████▌     | 46/100 [00:20<00:25,  2.16it/s]"
     ]
    },
    {
     "name": "stderr",
     "output_type": "stream",
     "text": [
      "\r",
      "sample time step:  47%|████▋     | 47/100 [00:21<00:23,  2.22it/s]"
     ]
    },
    {
     "name": "stderr",
     "output_type": "stream",
     "text": [
      "\r",
      "sample time step:  48%|████▊     | 48/100 [00:21<00:22,  2.30it/s]"
     ]
    },
    {
     "name": "stderr",
     "output_type": "stream",
     "text": [
      "\r",
      "sample time step:  49%|████▉     | 49/100 [00:22<00:21,  2.33it/s]"
     ]
    },
    {
     "name": "stderr",
     "output_type": "stream",
     "text": [
      "\r",
      "sample time step:  50%|█████     | 50/100 [00:22<00:20,  2.39it/s]"
     ]
    },
    {
     "name": "stderr",
     "output_type": "stream",
     "text": [
      "\r",
      "sample time step:  51%|█████     | 51/100 [00:22<00:20,  2.41it/s]"
     ]
    },
    {
     "name": "stderr",
     "output_type": "stream",
     "text": [
      "\r",
      "sample time step:  52%|█████▏    | 52/100 [00:23<00:19,  2.41it/s]"
     ]
    },
    {
     "name": "stderr",
     "output_type": "stream",
     "text": [
      "\r",
      "sample time step:  53%|█████▎    | 53/100 [00:23<00:20,  2.32it/s]"
     ]
    },
    {
     "name": "stderr",
     "output_type": "stream",
     "text": [
      "\r",
      "sample time step:  54%|█████▍    | 54/100 [00:24<00:20,  2.22it/s]"
     ]
    },
    {
     "name": "stderr",
     "output_type": "stream",
     "text": [
      "\r",
      "sample time step:  55%|█████▌    | 55/100 [00:24<00:19,  2.27it/s]"
     ]
    },
    {
     "name": "stderr",
     "output_type": "stream",
     "text": [
      "\r",
      "sample time step:  56%|█████▌    | 56/100 [00:25<00:20,  2.16it/s]"
     ]
    },
    {
     "name": "stderr",
     "output_type": "stream",
     "text": [
      "\r",
      "sample time step:  57%|█████▋    | 57/100 [00:25<00:19,  2.16it/s]"
     ]
    },
    {
     "name": "stderr",
     "output_type": "stream",
     "text": [
      "\r",
      "sample time step:  58%|█████▊    | 58/100 [00:26<00:19,  2.15it/s]"
     ]
    },
    {
     "name": "stderr",
     "output_type": "stream",
     "text": [
      "\r",
      "sample time step:  59%|█████▉    | 59/100 [00:26<00:19,  2.14it/s]"
     ]
    },
    {
     "name": "stderr",
     "output_type": "stream",
     "text": [
      "\r",
      "sample time step:  60%|██████    | 60/100 [00:27<00:18,  2.14it/s]"
     ]
    },
    {
     "name": "stderr",
     "output_type": "stream",
     "text": [
      "\r",
      "sample time step:  61%|██████    | 61/100 [00:27<00:17,  2.24it/s]"
     ]
    },
    {
     "name": "stderr",
     "output_type": "stream",
     "text": [
      "\r",
      "sample time step:  62%|██████▏   | 62/100 [00:27<00:16,  2.33it/s]"
     ]
    },
    {
     "name": "stderr",
     "output_type": "stream",
     "text": [
      "\r",
      "sample time step:  63%|██████▎   | 63/100 [00:28<00:15,  2.38it/s]"
     ]
    },
    {
     "name": "stderr",
     "output_type": "stream",
     "text": [
      "\r",
      "sample time step:  64%|██████▍   | 64/100 [00:28<00:14,  2.42it/s]"
     ]
    },
    {
     "name": "stderr",
     "output_type": "stream",
     "text": [
      "\r",
      "sample time step:  65%|██████▌   | 65/100 [00:29<00:14,  2.42it/s]"
     ]
    },
    {
     "name": "stderr",
     "output_type": "stream",
     "text": [
      "\r",
      "sample time step:  66%|██████▌   | 66/100 [00:29<00:13,  2.45it/s]"
     ]
    },
    {
     "name": "stderr",
     "output_type": "stream",
     "text": [
      "\r",
      "sample time step:  67%|██████▋   | 67/100 [00:29<00:13,  2.45it/s]"
     ]
    },
    {
     "name": "stderr",
     "output_type": "stream",
     "text": [
      "\r",
      "sample time step:  68%|██████▊   | 68/100 [00:30<00:13,  2.45it/s]"
     ]
    },
    {
     "name": "stderr",
     "output_type": "stream",
     "text": [
      "\r",
      "sample time step:  69%|██████▉   | 69/100 [00:30<00:12,  2.47it/s]"
     ]
    },
    {
     "name": "stderr",
     "output_type": "stream",
     "text": [
      "\r",
      "sample time step:  70%|███████   | 70/100 [00:31<00:12,  2.36it/s]"
     ]
    },
    {
     "name": "stderr",
     "output_type": "stream",
     "text": [
      "\r",
      "sample time step:  71%|███████   | 71/100 [00:31<00:12,  2.30it/s]"
     ]
    },
    {
     "name": "stderr",
     "output_type": "stream",
     "text": [
      "\r",
      "sample time step:  72%|███████▏  | 72/100 [00:32<00:12,  2.23it/s]"
     ]
    },
    {
     "name": "stderr",
     "output_type": "stream",
     "text": [
      "\r",
      "sample time step:  73%|███████▎  | 73/100 [00:32<00:12,  2.19it/s]"
     ]
    },
    {
     "name": "stderr",
     "output_type": "stream",
     "text": [
      "\r",
      "sample time step:  74%|███████▍  | 74/100 [00:33<00:12,  2.12it/s]"
     ]
    },
    {
     "name": "stderr",
     "output_type": "stream",
     "text": [
      "\r",
      "sample time step:  75%|███████▌  | 75/100 [00:33<00:11,  2.14it/s]"
     ]
    },
    {
     "name": "stderr",
     "output_type": "stream",
     "text": [
      "\r",
      "sample time step:  76%|███████▌  | 76/100 [00:33<00:10,  2.23it/s]"
     ]
    },
    {
     "name": "stderr",
     "output_type": "stream",
     "text": [
      "\r",
      "sample time step:  77%|███████▋  | 77/100 [00:34<00:10,  2.30it/s]"
     ]
    },
    {
     "name": "stderr",
     "output_type": "stream",
     "text": [
      "\r",
      "sample time step:  78%|███████▊  | 78/100 [00:34<00:09,  2.31it/s]"
     ]
    },
    {
     "name": "stderr",
     "output_type": "stream",
     "text": [
      "\r",
      "sample time step:  79%|███████▉  | 79/100 [00:35<00:09,  2.29it/s]"
     ]
    },
    {
     "name": "stderr",
     "output_type": "stream",
     "text": [
      "\r",
      "sample time step:  80%|████████  | 80/100 [00:35<00:08,  2.36it/s]"
     ]
    },
    {
     "name": "stderr",
     "output_type": "stream",
     "text": [
      "\r",
      "sample time step:  81%|████████  | 81/100 [00:36<00:08,  2.36it/s]"
     ]
    },
    {
     "name": "stderr",
     "output_type": "stream",
     "text": [
      "\r",
      "sample time step:  82%|████████▏ | 82/100 [00:36<00:07,  2.39it/s]"
     ]
    },
    {
     "name": "stderr",
     "output_type": "stream",
     "text": [
      "\r",
      "sample time step:  83%|████████▎ | 83/100 [00:36<00:07,  2.38it/s]"
     ]
    },
    {
     "name": "stderr",
     "output_type": "stream",
     "text": [
      "\r",
      "sample time step:  84%|████████▍ | 84/100 [00:37<00:06,  2.41it/s]"
     ]
    },
    {
     "name": "stderr",
     "output_type": "stream",
     "text": [
      "\r",
      "sample time step:  85%|████████▌ | 85/100 [00:37<00:06,  2.42it/s]"
     ]
    },
    {
     "name": "stderr",
     "output_type": "stream",
     "text": [
      "\r",
      "sample time step:  86%|████████▌ | 86/100 [00:38<00:05,  2.43it/s]"
     ]
    },
    {
     "name": "stderr",
     "output_type": "stream",
     "text": [
      "\r",
      "sample time step:  87%|████████▋ | 87/100 [00:38<00:05,  2.32it/s]"
     ]
    },
    {
     "name": "stderr",
     "output_type": "stream",
     "text": [
      "\r",
      "sample time step:  88%|████████▊ | 88/100 [00:39<00:05,  2.23it/s]"
     ]
    },
    {
     "name": "stderr",
     "output_type": "stream",
     "text": [
      "\r",
      "sample time step:  89%|████████▉ | 89/100 [00:39<00:05,  2.11it/s]"
     ]
    },
    {
     "name": "stderr",
     "output_type": "stream",
     "text": [
      "\r",
      "sample time step:  90%|█████████ | 90/100 [00:40<00:04,  2.11it/s]"
     ]
    },
    {
     "name": "stderr",
     "output_type": "stream",
     "text": [
      "\r",
      "sample time step:  91%|█████████ | 91/100 [00:40<00:04,  2.12it/s]"
     ]
    },
    {
     "name": "stderr",
     "output_type": "stream",
     "text": [
      "\r",
      "sample time step:  92%|█████████▏| 92/100 [00:41<00:03,  2.13it/s]"
     ]
    },
    {
     "name": "stderr",
     "output_type": "stream",
     "text": [
      "\r",
      "sample time step:  93%|█████████▎| 93/100 [00:41<00:03,  2.24it/s]"
     ]
    },
    {
     "name": "stderr",
     "output_type": "stream",
     "text": [
      "\r",
      "sample time step:  94%|█████████▍| 94/100 [00:41<00:02,  2.31it/s]"
     ]
    },
    {
     "name": "stderr",
     "output_type": "stream",
     "text": [
      "\r",
      "sample time step:  95%|█████████▌| 95/100 [00:42<00:02,  2.35it/s]"
     ]
    },
    {
     "name": "stderr",
     "output_type": "stream",
     "text": [
      "\r",
      "sample time step:  96%|█████████▌| 96/100 [00:42<00:01,  2.40it/s]"
     ]
    },
    {
     "name": "stderr",
     "output_type": "stream",
     "text": [
      "\r",
      "sample time step:  97%|█████████▋| 97/100 [00:43<00:01,  2.43it/s]"
     ]
    },
    {
     "name": "stderr",
     "output_type": "stream",
     "text": [
      "\r",
      "sample time step:  98%|█████████▊| 98/100 [00:43<00:00,  2.46it/s]"
     ]
    },
    {
     "name": "stderr",
     "output_type": "stream",
     "text": [
      "\r",
      "sample time step:  99%|█████████▉| 99/100 [00:43<00:00,  2.46it/s]"
     ]
    },
    {
     "name": "stderr",
     "output_type": "stream",
     "text": [
      "\r",
      "sample time step: 100%|██████████| 100/100 [00:44<00:00,  2.47it/s]"
     ]
    },
    {
     "name": "stderr",
     "output_type": "stream",
     "text": [
      "\r",
      "sample time step: 100%|██████████| 100/100 [00:44<00:00,  2.26it/s]"
     ]
    },
    {
     "name": "stderr",
     "output_type": "stream",
     "text": [
      "\n"
     ]
    },
    {
     "name": "stdout",
     "output_type": "stream",
     "text": [
      "✅ Generated: zh_25.wav\n"
     ]
    },
    {
     "name": "stdout",
     "output_type": "stream",
     "text": [
      "Pass word-notes check.\n",
      "231 231 231\n",
      "Pass word-notes check.\n"
     ]
    },
    {
     "name": "stdout",
     "output_type": "stream",
     "text": [
      "===> gaussion start.\n"
     ]
    },
    {
     "name": "stderr",
     "output_type": "stream",
     "text": [
      "\r",
      "sample time step:   0%|          | 0/100 [00:00<?, ?it/s]"
     ]
    },
    {
     "name": "stderr",
     "output_type": "stream",
     "text": [
      "\r",
      "sample time step:   1%|          | 1/100 [00:00<00:35,  2.81it/s]"
     ]
    },
    {
     "name": "stderr",
     "output_type": "stream",
     "text": [
      "\r",
      "sample time step:   2%|▏         | 2/100 [00:00<00:37,  2.64it/s]"
     ]
    },
    {
     "name": "stderr",
     "output_type": "stream",
     "text": [
      "\r",
      "sample time step:   3%|▎         | 3/100 [00:01<00:35,  2.76it/s]"
     ]
    },
    {
     "name": "stderr",
     "output_type": "stream",
     "text": [
      "\r",
      "sample time step:   4%|▍         | 4/100 [00:01<00:32,  3.00it/s]"
     ]
    },
    {
     "name": "stderr",
     "output_type": "stream",
     "text": [
      "\r",
      "sample time step:   5%|▌         | 5/100 [00:01<00:32,  2.95it/s]"
     ]
    },
    {
     "name": "stderr",
     "output_type": "stream",
     "text": [
      "\r",
      "sample time step:   6%|▌         | 6/100 [00:02<00:31,  2.97it/s]"
     ]
    },
    {
     "name": "stderr",
     "output_type": "stream",
     "text": [
      "\r",
      "sample time step:   7%|▋         | 7/100 [00:02<00:31,  3.00it/s]"
     ]
    },
    {
     "name": "stderr",
     "output_type": "stream",
     "text": [
      "\r",
      "sample time step:   8%|▊         | 8/100 [00:02<00:29,  3.15it/s]"
     ]
    },
    {
     "name": "stderr",
     "output_type": "stream",
     "text": [
      "\r",
      "sample time step:   9%|▉         | 9/100 [00:02<00:28,  3.23it/s]"
     ]
    },
    {
     "name": "stderr",
     "output_type": "stream",
     "text": [
      "\r",
      "sample time step:  10%|█         | 10/100 [00:03<00:26,  3.34it/s]"
     ]
    },
    {
     "name": "stderr",
     "output_type": "stream",
     "text": [
      "\r",
      "sample time step:  11%|█         | 11/100 [00:03<00:26,  3.40it/s]"
     ]
    },
    {
     "name": "stderr",
     "output_type": "stream",
     "text": [
      "\r",
      "sample time step:  12%|█▏        | 12/100 [00:03<00:25,  3.43it/s]"
     ]
    },
    {
     "name": "stderr",
     "output_type": "stream",
     "text": [
      "\r",
      "sample time step:  13%|█▎        | 13/100 [00:04<00:26,  3.33it/s]"
     ]
    },
    {
     "name": "stderr",
     "output_type": "stream",
     "text": [
      "\r",
      "sample time step:  14%|█▍        | 14/100 [00:04<00:26,  3.28it/s]"
     ]
    },
    {
     "name": "stderr",
     "output_type": "stream",
     "text": [
      "\r",
      "sample time step:  15%|█▌        | 15/100 [00:04<00:26,  3.21it/s]"
     ]
    },
    {
     "name": "stderr",
     "output_type": "stream",
     "text": [
      "\r",
      "sample time step:  16%|█▌        | 16/100 [00:05<00:27,  3.05it/s]"
     ]
    },
    {
     "name": "stderr",
     "output_type": "stream",
     "text": [
      "\r",
      "sample time step:  17%|█▋        | 17/100 [00:05<00:27,  3.02it/s]"
     ]
    },
    {
     "name": "stderr",
     "output_type": "stream",
     "text": [
      "\r",
      "sample time step:  18%|█▊        | 18/100 [00:05<00:26,  3.06it/s]"
     ]
    },
    {
     "name": "stderr",
     "output_type": "stream",
     "text": [
      "\r",
      "sample time step:  19%|█▉        | 19/100 [00:06<00:26,  3.05it/s]"
     ]
    },
    {
     "name": "stderr",
     "output_type": "stream",
     "text": [
      "\r",
      "sample time step:  20%|██        | 20/100 [00:06<00:26,  3.00it/s]"
     ]
    },
    {
     "name": "stderr",
     "output_type": "stream",
     "text": [
      "\r",
      "sample time step:  21%|██        | 21/100 [00:06<00:25,  3.13it/s]"
     ]
    },
    {
     "name": "stderr",
     "output_type": "stream",
     "text": [
      "\r",
      "sample time step:  22%|██▏       | 22/100 [00:07<00:24,  3.15it/s]"
     ]
    },
    {
     "name": "stderr",
     "output_type": "stream",
     "text": [
      "\r",
      "sample time step:  23%|██▎       | 23/100 [00:07<00:23,  3.24it/s]"
     ]
    },
    {
     "name": "stderr",
     "output_type": "stream",
     "text": [
      "\r",
      "sample time step:  24%|██▍       | 24/100 [00:07<00:24,  3.14it/s]"
     ]
    },
    {
     "name": "stderr",
     "output_type": "stream",
     "text": [
      "\r",
      "sample time step:  25%|██▌       | 25/100 [00:08<00:24,  3.04it/s]"
     ]
    },
    {
     "name": "stderr",
     "output_type": "stream",
     "text": [
      "\r",
      "sample time step:  26%|██▌       | 26/100 [00:08<00:24,  3.04it/s]"
     ]
    },
    {
     "name": "stderr",
     "output_type": "stream",
     "text": [
      "\r",
      "sample time step:  27%|██▋       | 27/100 [00:08<00:23,  3.09it/s]"
     ]
    },
    {
     "name": "stderr",
     "output_type": "stream",
     "text": [
      "\r",
      "sample time step:  28%|██▊       | 28/100 [00:08<00:22,  3.15it/s]"
     ]
    },
    {
     "name": "stderr",
     "output_type": "stream",
     "text": [
      "\r",
      "sample time step:  29%|██▉       | 29/100 [00:09<00:23,  3.09it/s]"
     ]
    },
    {
     "name": "stderr",
     "output_type": "stream",
     "text": [
      "\r",
      "sample time step:  30%|███       | 30/100 [00:09<00:23,  3.03it/s]"
     ]
    },
    {
     "name": "stderr",
     "output_type": "stream",
     "text": [
      "\r",
      "sample time step:  31%|███       | 31/100 [00:10<00:22,  3.01it/s]"
     ]
    },
    {
     "name": "stderr",
     "output_type": "stream",
     "text": [
      "\r",
      "sample time step:  32%|███▏      | 32/100 [00:10<00:22,  3.07it/s]"
     ]
    },
    {
     "name": "stderr",
     "output_type": "stream",
     "text": [
      "\r",
      "sample time step:  33%|███▎      | 33/100 [00:10<00:21,  3.10it/s]"
     ]
    },
    {
     "name": "stderr",
     "output_type": "stream",
     "text": [
      "\r",
      "sample time step:  34%|███▍      | 34/100 [00:10<00:21,  3.02it/s]"
     ]
    },
    {
     "name": "stderr",
     "output_type": "stream",
     "text": [
      "\r",
      "sample time step:  35%|███▌      | 35/100 [00:11<00:21,  3.04it/s]"
     ]
    },
    {
     "name": "stderr",
     "output_type": "stream",
     "text": [
      "\r",
      "sample time step:  36%|███▌      | 36/100 [00:11<00:21,  3.01it/s]"
     ]
    },
    {
     "name": "stderr",
     "output_type": "stream",
     "text": [
      "\r",
      "sample time step:  37%|███▋      | 37/100 [00:11<00:20,  3.06it/s]"
     ]
    },
    {
     "name": "stderr",
     "output_type": "stream",
     "text": [
      "\r",
      "sample time step:  38%|███▊      | 38/100 [00:12<00:20,  3.03it/s]"
     ]
    },
    {
     "name": "stderr",
     "output_type": "stream",
     "text": [
      "\r",
      "sample time step:  39%|███▉      | 39/100 [00:12<00:20,  3.04it/s]"
     ]
    },
    {
     "name": "stderr",
     "output_type": "stream",
     "text": [
      "\r",
      "sample time step:  40%|████      | 40/100 [00:12<00:20,  2.98it/s]"
     ]
    },
    {
     "name": "stderr",
     "output_type": "stream",
     "text": [
      "\r",
      "sample time step:  41%|████      | 41/100 [00:13<00:19,  3.08it/s]"
     ]
    },
    {
     "name": "stderr",
     "output_type": "stream",
     "text": [
      "\r",
      "sample time step:  42%|████▏     | 42/100 [00:13<00:18,  3.21it/s]"
     ]
    },
    {
     "name": "stderr",
     "output_type": "stream",
     "text": [
      "\r",
      "sample time step:  43%|████▎     | 43/100 [00:13<00:17,  3.25it/s]"
     ]
    },
    {
     "name": "stderr",
     "output_type": "stream",
     "text": [
      "\r",
      "sample time step:  44%|████▍     | 44/100 [00:14<00:16,  3.31it/s]"
     ]
    },
    {
     "name": "stderr",
     "output_type": "stream",
     "text": [
      "\r",
      "sample time step:  45%|████▌     | 45/100 [00:14<00:16,  3.38it/s]"
     ]
    },
    {
     "name": "stderr",
     "output_type": "stream",
     "text": [
      "\r",
      "sample time step:  46%|████▌     | 46/100 [00:14<00:15,  3.41it/s]"
     ]
    },
    {
     "name": "stderr",
     "output_type": "stream",
     "text": [
      "\r",
      "sample time step:  47%|████▋     | 47/100 [00:15<00:15,  3.39it/s]"
     ]
    },
    {
     "name": "stderr",
     "output_type": "stream",
     "text": [
      "\r",
      "sample time step:  48%|████▊     | 48/100 [00:15<00:16,  3.21it/s]"
     ]
    },
    {
     "name": "stderr",
     "output_type": "stream",
     "text": [
      "\r",
      "sample time step:  49%|████▉     | 49/100 [00:15<00:16,  3.12it/s]"
     ]
    },
    {
     "name": "stderr",
     "output_type": "stream",
     "text": [
      "\r",
      "sample time step:  50%|█████     | 50/100 [00:16<00:16,  3.05it/s]"
     ]
    },
    {
     "name": "stderr",
     "output_type": "stream",
     "text": [
      "\r",
      "sample time step:  51%|█████     | 51/100 [00:16<00:15,  3.16it/s]"
     ]
    },
    {
     "name": "stderr",
     "output_type": "stream",
     "text": [
      "\r",
      "sample time step:  52%|█████▏    | 52/100 [00:16<00:15,  3.00it/s]"
     ]
    },
    {
     "name": "stderr",
     "output_type": "stream",
     "text": [
      "\r",
      "sample time step:  53%|█████▎    | 53/100 [00:17<00:15,  2.96it/s]"
     ]
    },
    {
     "name": "stderr",
     "output_type": "stream",
     "text": [
      "\r",
      "sample time step:  54%|█████▍    | 54/100 [00:17<00:15,  2.94it/s]"
     ]
    },
    {
     "name": "stderr",
     "output_type": "stream",
     "text": [
      "\r",
      "sample time step:  55%|█████▌    | 55/100 [00:17<00:15,  2.97it/s]"
     ]
    },
    {
     "name": "stderr",
     "output_type": "stream",
     "text": [
      "\r",
      "sample time step:  56%|█████▌    | 56/100 [00:18<00:14,  2.96it/s]"
     ]
    },
    {
     "name": "stderr",
     "output_type": "stream",
     "text": [
      "\r",
      "sample time step:  57%|█████▋    | 57/100 [00:18<00:14,  2.90it/s]"
     ]
    },
    {
     "name": "stderr",
     "output_type": "stream",
     "text": [
      "\r",
      "sample time step:  58%|█████▊    | 58/100 [00:18<00:13,  3.00it/s]"
     ]
    },
    {
     "name": "stderr",
     "output_type": "stream",
     "text": [
      "\r",
      "sample time step:  59%|█████▉    | 59/100 [00:19<00:13,  3.00it/s]"
     ]
    },
    {
     "name": "stderr",
     "output_type": "stream",
     "text": [
      "\r",
      "sample time step:  60%|██████    | 60/100 [00:19<00:13,  2.95it/s]"
     ]
    },
    {
     "name": "stderr",
     "output_type": "stream",
     "text": [
      "\r",
      "sample time step:  61%|██████    | 61/100 [00:19<00:12,  3.04it/s]"
     ]
    },
    {
     "name": "stderr",
     "output_type": "stream",
     "text": [
      "\r",
      "sample time step:  62%|██████▏   | 62/100 [00:20<00:12,  3.11it/s]"
     ]
    },
    {
     "name": "stderr",
     "output_type": "stream",
     "text": [
      "\r",
      "sample time step:  63%|██████▎   | 63/100 [00:20<00:11,  3.22it/s]"
     ]
    },
    {
     "name": "stderr",
     "output_type": "stream",
     "text": [
      "\r",
      "sample time step:  64%|██████▍   | 64/100 [00:20<00:10,  3.28it/s]"
     ]
    },
    {
     "name": "stderr",
     "output_type": "stream",
     "text": [
      "\r",
      "sample time step:  65%|██████▌   | 65/100 [00:20<00:11,  3.17it/s]"
     ]
    },
    {
     "name": "stderr",
     "output_type": "stream",
     "text": [
      "\r",
      "sample time step:  66%|██████▌   | 66/100 [00:21<00:10,  3.14it/s]"
     ]
    },
    {
     "name": "stderr",
     "output_type": "stream",
     "text": [
      "\r",
      "sample time step:  67%|██████▋   | 67/100 [00:21<00:10,  3.04it/s]"
     ]
    },
    {
     "name": "stderr",
     "output_type": "stream",
     "text": [
      "\r",
      "sample time step:  68%|██████▊   | 68/100 [00:21<00:10,  3.03it/s]"
     ]
    },
    {
     "name": "stderr",
     "output_type": "stream",
     "text": [
      "\r",
      "sample time step:  69%|██████▉   | 69/100 [00:22<00:10,  3.03it/s]"
     ]
    },
    {
     "name": "stderr",
     "output_type": "stream",
     "text": [
      "\r",
      "sample time step:  70%|███████   | 70/100 [00:22<00:10,  2.97it/s]"
     ]
    },
    {
     "name": "stderr",
     "output_type": "stream",
     "text": [
      "\r",
      "sample time step:  71%|███████   | 71/100 [00:23<00:09,  2.91it/s]"
     ]
    },
    {
     "name": "stderr",
     "output_type": "stream",
     "text": [
      "\r",
      "sample time step:  72%|███████▏  | 72/100 [00:23<00:09,  2.86it/s]"
     ]
    },
    {
     "name": "stderr",
     "output_type": "stream",
     "text": [
      "\r",
      "sample time step:  73%|███████▎  | 73/100 [00:23<00:09,  2.99it/s]"
     ]
    },
    {
     "name": "stderr",
     "output_type": "stream",
     "text": [
      "\r",
      "sample time step:  74%|███████▍  | 74/100 [00:24<00:08,  2.93it/s]"
     ]
    },
    {
     "name": "stderr",
     "output_type": "stream",
     "text": [
      "\r",
      "sample time step:  75%|███████▌  | 75/100 [00:24<00:08,  2.95it/s]"
     ]
    },
    {
     "name": "stderr",
     "output_type": "stream",
     "text": [
      "\r",
      "sample time step:  76%|███████▌  | 76/100 [00:24<00:08,  2.93it/s]"
     ]
    },
    {
     "name": "stderr",
     "output_type": "stream",
     "text": [
      "\r",
      "sample time step:  77%|███████▋  | 77/100 [00:25<00:07,  2.90it/s]"
     ]
    },
    {
     "name": "stderr",
     "output_type": "stream",
     "text": [
      "\r",
      "sample time step:  78%|███████▊  | 78/100 [00:25<00:07,  2.96it/s]"
     ]
    },
    {
     "name": "stderr",
     "output_type": "stream",
     "text": [
      "\r",
      "sample time step:  79%|███████▉  | 79/100 [00:25<00:06,  3.04it/s]"
     ]
    },
    {
     "name": "stderr",
     "output_type": "stream",
     "text": [
      "\r",
      "sample time step:  80%|████████  | 80/100 [00:26<00:06,  3.13it/s]"
     ]
    },
    {
     "name": "stderr",
     "output_type": "stream",
     "text": [
      "\r",
      "sample time step:  81%|████████  | 81/100 [00:26<00:05,  3.22it/s]"
     ]
    },
    {
     "name": "stderr",
     "output_type": "stream",
     "text": [
      "\r",
      "sample time step:  82%|████████▏ | 82/100 [00:26<00:05,  3.13it/s]"
     ]
    },
    {
     "name": "stderr",
     "output_type": "stream",
     "text": [
      "\r",
      "sample time step:  83%|████████▎ | 83/100 [00:26<00:05,  3.20it/s]"
     ]
    },
    {
     "name": "stderr",
     "output_type": "stream",
     "text": [
      "\r",
      "sample time step:  84%|████████▍ | 84/100 [00:27<00:04,  3.28it/s]"
     ]
    },
    {
     "name": "stderr",
     "output_type": "stream",
     "text": [
      "\r",
      "sample time step:  85%|████████▌ | 85/100 [00:27<00:04,  3.34it/s]"
     ]
    },
    {
     "name": "stderr",
     "output_type": "stream",
     "text": [
      "\r",
      "sample time step:  86%|████████▌ | 86/100 [00:27<00:04,  3.40it/s]"
     ]
    },
    {
     "name": "stderr",
     "output_type": "stream",
     "text": [
      "\r",
      "sample time step:  87%|████████▋ | 87/100 [00:28<00:03,  3.43it/s]"
     ]
    },
    {
     "name": "stderr",
     "output_type": "stream",
     "text": [
      "\r",
      "sample time step:  88%|████████▊ | 88/100 [00:28<00:03,  3.45it/s]"
     ]
    },
    {
     "name": "stderr",
     "output_type": "stream",
     "text": [
      "\r",
      "sample time step:  89%|████████▉ | 89/100 [00:28<00:03,  3.48it/s]"
     ]
    },
    {
     "name": "stderr",
     "output_type": "stream",
     "text": [
      "\r",
      "sample time step:  90%|█████████ | 90/100 [00:28<00:02,  3.48it/s]"
     ]
    },
    {
     "name": "stderr",
     "output_type": "stream",
     "text": [
      "\r",
      "sample time step:  91%|█████████ | 91/100 [00:29<00:02,  3.48it/s]"
     ]
    },
    {
     "name": "stderr",
     "output_type": "stream",
     "text": [
      "\r",
      "sample time step:  92%|█████████▏| 92/100 [00:29<00:02,  3.49it/s]"
     ]
    },
    {
     "name": "stderr",
     "output_type": "stream",
     "text": [
      "\r",
      "sample time step:  93%|█████████▎| 93/100 [00:29<00:02,  3.38it/s]"
     ]
    },
    {
     "name": "stderr",
     "output_type": "stream",
     "text": [
      "\r",
      "sample time step:  94%|█████████▍| 94/100 [00:30<00:01,  3.17it/s]"
     ]
    },
    {
     "name": "stderr",
     "output_type": "stream",
     "text": [
      "\r",
      "sample time step:  95%|█████████▌| 95/100 [00:30<00:01,  3.07it/s]"
     ]
    },
    {
     "name": "stderr",
     "output_type": "stream",
     "text": [
      "\r",
      "sample time step:  96%|█████████▌| 96/100 [00:30<00:01,  2.96it/s]"
     ]
    },
    {
     "name": "stderr",
     "output_type": "stream",
     "text": [
      "\r",
      "sample time step:  97%|█████████▋| 97/100 [00:31<00:01,  2.86it/s]"
     ]
    },
    {
     "name": "stderr",
     "output_type": "stream",
     "text": [
      "\r",
      "sample time step:  98%|█████████▊| 98/100 [00:31<00:00,  2.92it/s]"
     ]
    },
    {
     "name": "stderr",
     "output_type": "stream",
     "text": [
      "\r",
      "sample time step:  99%|█████████▉| 99/100 [00:31<00:00,  2.99it/s]"
     ]
    },
    {
     "name": "stderr",
     "output_type": "stream",
     "text": [
      "\r",
      "sample time step: 100%|██████████| 100/100 [00:32<00:00,  3.01it/s]"
     ]
    },
    {
     "name": "stderr",
     "output_type": "stream",
     "text": [
      "\r",
      "sample time step: 100%|██████████| 100/100 [00:32<00:00,  3.10it/s]"
     ]
    },
    {
     "name": "stderr",
     "output_type": "stream",
     "text": [
      "\n"
     ]
    },
    {
     "name": "stdout",
     "output_type": "stream",
     "text": [
      "✅ Generated: zh_17.wav\n"
     ]
    }
   ],
   "source": [
    "import os\n",
    "import re\n",
    "from utils.hparams import set_hparams\n",
    "from utils.audio import save_wav\n",
    "# from inference.svs.ds_e2e_infer import DiffSingerE2EInfer\n",
    "\n",
    "# Constants\n",
    "CONFIG_PATH = '/kaggle/working/DiffSinger/checkpoints/0228_opencpop_ds100_rel/config.yaml'\n",
    "EXP_NAME = '0228_opencpop_ds100_rel'\n",
    "LYRICS_DIR = '/kaggle/input/diff-singer-lyrics-notes/txt'\n",
    "OUTPUT_DIR = '/kaggle/working/generated_wavs'\n",
    "\n",
    "os.makedirs(OUTPUT_DIR, exist_ok=True)\n",
    "\n",
    "# Set hparams\n",
    "set_hparams(config=CONFIG_PATH, exp_name=EXP_NAME)\n",
    "infer_ins = DiffSingerE2EInfer(hparams)\n",
    "\n",
    "# Base notes and durations\n",
    "note_snippet = 'C#4/Db4 | F#4/Gb4 | G#4/Ab4 | A#4/Bb4 F#4/Gb4 | F#4/Gb4 C#4/Db4 | C#4/Db4 | rest | C#4/Db4 | A#4/Bb4 | G#4/Ab4 | A#4/Bb4 | G#4/Ab4 | F4 | C#4/Db4'\n",
    "duration_snippet = '0.407140 | 0.376190 | 0.242180 | 0.509550 0.183420 | 0.315400 0.235020 | 0.361660 | 0.223070 | 0.377270 | 0.340550 | 0.299620 | 0.344510 | 0.283770 | 0.323390 | 0.360340'\n",
    "\n",
    "# Process base lists\n",
    "notes = re.split(r'\\s*\\|\\s*', note_snippet.replace('\\n', '').strip())\n",
    "notes = [n for group in notes for n in group.strip().split() if n.strip()]\n",
    "durations = re.split(r'\\s*\\|\\s*', duration_snippet.replace('\\n', '').strip())\n",
    "durations = [d for group in durations for d in group.strip().split() if d.strip()]\n",
    "\n",
    "# Helper: check if Chinese character\n",
    "def is_chinese(char):\n",
    "    return '\\u4e00' <= char <= '\\u9fff'\n",
    "\n",
    "# Iterate through lyrics files\n",
    "for file in os.listdir(LYRICS_DIR):\n",
    "    if file.endswith('.txt'):\n",
    "        filepath = os.path.join(LYRICS_DIR, file)\n",
    "        with open(filepath, 'r', encoding='utf-8') as f:\n",
    "            lyrics_text = f.read().strip()\n",
    "\n",
    "        # Count Chinese characters\n",
    "        chinese_char_count = sum(1 for ch in lyrics_text if is_chinese(ch))\n",
    "\n",
    "        # Generate notes and durations for Chinese characters\n",
    "        final_notes = [notes[i % len(notes)] for i in range(chinese_char_count)]\n",
    "        final_durations = [durations[i % len(durations)] for i in range(chinese_char_count)]\n",
    "\n",
    "        # Construct input\n",
    "        inp = {\n",
    "            'text': lyrics_text,\n",
    "            'notes': ' | '.join(final_notes),\n",
    "            'notes_duration': ' | '.join(final_durations),\n",
    "            'input_type': 'word'\n",
    "        }\n",
    "\n",
    "        # Run inference\n",
    "        try:\n",
    "            wav = infer_ins.infer_once(inp)\n",
    "            save_wav(wav, os.path.join(OUTPUT_DIR, f\"{file.replace('.txt', '')}.wav\"), sr=hparams['audio_sample_rate'])\n",
    "            print(f\"✅ Generated: {file.replace('.txt', '')}.wav\")\n",
    "        except Exception as e:\n",
    "            print(f\"❌ Error with {file}: {e}\")\n"
   ]
  },
  {
   "cell_type": "code",
   "execution_count": 34,
   "id": "027809ec",
   "metadata": {
    "execution": {
     "iopub.execute_input": "2025-06-26T20:04:20.075679Z",
     "iopub.status.busy": "2025-06-26T20:04:20.075344Z",
     "iopub.status.idle": "2025-06-26T20:04:20.085403Z",
     "shell.execute_reply": "2025-06-26T20:04:20.080362Z"
    },
    "papermill": {
     "duration": 0.170804,
     "end_time": "2025-06-26T20:04:20.088208",
     "exception": false,
     "start_time": "2025-06-26T20:04:19.917404",
     "status": "completed"
    },
    "tags": []
   },
   "outputs": [
    {
     "name": "stdout",
     "output_type": "stream",
     "text": [
      "Hi\n"
     ]
    }
   ],
   "source": [
    "print('Hi')"
   ]
  },
  {
   "cell_type": "code",
   "execution_count": 35,
   "id": "ee502c9a",
   "metadata": {
    "execution": {
     "iopub.execute_input": "2025-06-26T20:04:20.410587Z",
     "iopub.status.busy": "2025-06-26T20:04:20.410224Z",
     "iopub.status.idle": "2025-06-26T20:04:22.792916Z",
     "shell.execute_reply": "2025-06-26T20:04:22.787412Z"
    },
    "papermill": {
     "duration": 2.552725,
     "end_time": "2025-06-26T20:04:22.795159",
     "exception": false,
     "start_time": "2025-06-26T20:04:20.242434",
     "status": "completed"
    },
    "tags": []
   },
   "outputs": [
    {
     "data": {
      "text/plain": [
       "'/kaggle/working/DiffSinger/dataset_zip.zip'"
      ]
     },
     "execution_count": 35,
     "metadata": {},
     "output_type": "execute_result"
    }
   ],
   "source": [
    "import shutil\n",
    "\n",
    "# Folder to zip\n",
    "folder_path = '/kaggle/working/generated_wavs'\n",
    "# Output zip file (without .zip extension)\n",
    "output_zip = 'dataset_zip'\n",
    "\n",
    "# Create a zip archive\n",
    "shutil.make_archive(output_zip, 'zip', folder_path)"
   ]
  }
 ],
 "metadata": {
  "kaggle": {
   "accelerator": "tpu1vmV38",
   "dataSources": [
    {
     "datasetId": 7713069,
     "sourceId": 12241251,
     "sourceType": "datasetVersion"
    },
    {
     "datasetId": 7713175,
     "sourceId": 12241433,
     "sourceType": "datasetVersion"
    },
    {
     "datasetId": 7713243,
     "sourceId": 12241559,
     "sourceType": "datasetVersion"
    },
    {
     "datasetId": 7723245,
     "sourceId": 12256729,
     "sourceType": "datasetVersion"
    },
    {
     "datasetId": 7749335,
     "sourceId": 12295127,
     "sourceType": "datasetVersion"
    }
   ],
   "dockerImageVersionId": 31041,
   "isGpuEnabled": false,
   "isInternetEnabled": true,
   "language": "python",
   "sourceType": "notebook"
  },
  "kernelspec": {
   "display_name": "Python 3",
   "language": "python",
   "name": "python3"
  },
  "language_info": {
   "codemirror_mode": {
    "name": "ipython",
    "version": 3
   },
   "file_extension": ".py",
   "mimetype": "text/x-python",
   "name": "python",
   "nbconvert_exporter": "python",
   "pygments_lexer": "ipython3",
   "version": "3.10.17"
  },
  "papermill": {
   "default_parameters": {},
   "duration": 1503.02258,
   "end_time": "2025-06-26T20:04:25.876515",
   "environment_variables": {},
   "exception": null,
   "input_path": "__notebook__.ipynb",
   "output_path": "__notebook__.ipynb",
   "parameters": {},
   "start_time": "2025-06-26T19:39:22.853935",
   "version": "2.6.0"
  }
 },
 "nbformat": 4,
 "nbformat_minor": 5
}
