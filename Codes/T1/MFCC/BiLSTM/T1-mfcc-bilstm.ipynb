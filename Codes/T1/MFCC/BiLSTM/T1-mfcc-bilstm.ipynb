{
 "cells": [
  {
   "cell_type": "code",
   "execution_count": 1,
   "id": "8f7b355d",
   "metadata": {
    "execution": {
     "iopub.execute_input": "2025-07-02T15:03:05.027085Z",
     "iopub.status.busy": "2025-07-02T15:03:05.026494Z",
     "iopub.status.idle": "2025-07-02T15:03:10.168527Z",
     "shell.execute_reply": "2025-07-02T15:03:10.167931Z"
    },
    "papermill": {
     "duration": 5.148936,
     "end_time": "2025-07-02T15:03:10.169973",
     "exception": false,
     "start_time": "2025-07-02T15:03:05.021037",
     "status": "completed"
    },
    "tags": []
   },
   "outputs": [],
   "source": [
    "import torch \n",
    "import torch.nn as nn\n",
    "import torch.nn.functional as F\n",
    "from torch.autograd import Variable\n",
    "from torch.utils.data import Dataset, DataLoader\n",
    "import os, pathlib, glob, random\n",
    "import numpy as np\n",
    "import matplotlib.pyplot as plt \n",
    "from sklearn.metrics import confusion_matrix\n",
    "import scipy\n",
    "from scipy import io"
   ]
  },
  {
   "cell_type": "code",
   "execution_count": 2,
   "id": "f41344ea",
   "metadata": {
    "execution": {
     "iopub.execute_input": "2025-07-02T15:03:10.178146Z",
     "iopub.status.busy": "2025-07-02T15:03:10.177392Z",
     "iopub.status.idle": "2025-07-02T15:03:10.238588Z",
     "shell.execute_reply": "2025-07-02T15:03:10.237833Z"
    },
    "papermill": {
     "duration": 0.066181,
     "end_time": "2025-07-02T15:03:10.239848",
     "exception": false,
     "start_time": "2025-07-02T15:03:10.173667",
     "status": "completed"
    },
    "tags": []
   },
   "outputs": [
    {
     "name": "stdout",
     "output_type": "stream",
     "text": [
      "cuda:0\n"
     ]
    }
   ],
   "source": [
    "device = torch.device('cuda:0' if torch.cuda.is_available() else 'cpu')\n",
    "print(device)"
   ]
  },
  {
   "cell_type": "code",
   "execution_count": 3,
   "id": "77902d32",
   "metadata": {
    "execution": {
     "iopub.execute_input": "2025-07-02T15:03:10.247485Z",
     "iopub.status.busy": "2025-07-02T15:03:10.247237Z",
     "iopub.status.idle": "2025-07-02T15:03:10.250592Z",
     "shell.execute_reply": "2025-07-02T15:03:10.249887Z"
    },
    "papermill": {
     "duration": 0.008189,
     "end_time": "2025-07-02T15:03:10.251728",
     "exception": false,
     "start_time": "2025-07-02T15:03:10.243539",
     "status": "completed"
    },
    "tags": []
   },
   "outputs": [],
   "source": [
    "batch_size = 32\n",
    "output_nodes = 2\n",
    "learning_rate = 0.003"
   ]
  },
  {
   "cell_type": "code",
   "execution_count": 4,
   "id": "3511b78e",
   "metadata": {
    "execution": {
     "iopub.execute_input": "2025-07-02T15:03:10.259028Z",
     "iopub.status.busy": "2025-07-02T15:03:10.258827Z",
     "iopub.status.idle": "2025-07-02T15:03:11.362703Z",
     "shell.execute_reply": "2025-07-02T15:03:11.361846Z"
    },
    "papermill": {
     "duration": 1.109005,
     "end_time": "2025-07-02T15:03:11.363942",
     "exception": false,
     "start_time": "2025-07-02T15:03:10.254937",
     "status": "completed"
    },
    "tags": []
   },
   "outputs": [
    {
     "name": "stdout",
     "output_type": "stream",
     "text": [
      "Training samples: 57097\n",
      "Validation samples: 12234\n",
      "Testing samples: 12237\n"
     ]
    }
   ],
   "source": [
    "import os\n",
    "import random\n",
    "import scipy.io\n",
    "import numpy as np\n",
    "from torch.utils.data import Dataset, DataLoader\n",
    "\n",
    "# Paths for both datasets\n",
    "train_data_paths = [\n",
    "    r\"/kaggle/input/singfox-t1-mfcc-icassp/MFCC_T1/mfcc/train\" #,  # Language 1\n",
    "    # r\"/kaggle/input/singfox-t2-gfcc-icassp/GFCC_T2/gfcc/train\"   # Language 2\n",
    "]\n",
    "validation_data_paths = [\n",
    "    r\"/kaggle/input/singfox-t1-mfcc-icassp/MFCC_T1/mfcc/val\" #,\n",
    "    # r\"/kaggle/input/singfox-t2-gfcc-icassp/GFCC_T2/gfcc/val\"\n",
    "]\n",
    "testing_data_paths = [\n",
    "    r\"/kaggle/input/singfox-t1-mfcc-icassp/MFCC_T1/mfcc/test\" #,\n",
    "    # r\"/kaggle/input/singfox-t2-gfcc-icassp/GFCC_T2/gfcc/test\"\n",
    "]\n",
    "\n",
    "class MixedPtDataset(Dataset):\n",
    "    def __init__(self, directories):\n",
    "        \"\"\"Load features from multiple directories.\"\"\"\n",
    "        self.files = []\n",
    "        self.class_to_idx = {}\n",
    "\n",
    "        for directory in directories:\n",
    "            classes = sorted(entry.name for entry in os.scandir(directory) if entry.is_dir())\n",
    "            \n",
    "            # Assign class indices if not already assigned\n",
    "            for c in classes:\n",
    "                if c not in self.class_to_idx:\n",
    "                    self.class_to_idx[c] = len(self.class_to_idx)\n",
    "\n",
    "            for c in classes:\n",
    "                c_dir = os.path.join(directory, c)\n",
    "                c_files = [(os.path.join(c_dir, f), self.class_to_idx[c]) for f in os.listdir(c_dir)]\n",
    "                self.files.extend(c_files)\n",
    "\n",
    "        random.shuffle(self.files)\n",
    "\n",
    "    def __len__(self):\n",
    "        return len(self.files)\n",
    "\n",
    "    def __getitem__(self, idx):\n",
    "        filepath, label = self.files[idx]\n",
    "        try:\n",
    "            mat_vals = scipy.io.loadmat(filepath)\n",
    "            data = mat_vals['final'].T\n",
    "            max_len = 200\n",
    "            if max_len > data.shape[0]:\n",
    "                pad_width = max_len - data.shape[0]\n",
    "                data = np.pad(data, pad_width=((0, pad_width), (0, 0)), mode='constant')\n",
    "            else:\n",
    "                data = data[:max_len, :]\n",
    "        except Exception as e:\n",
    "            print(f\"Error loading file {filepath}: {str(e)}\")\n",
    "            return None\n",
    "        return data, label\n",
    "\n",
    "# Combine both datasets\n",
    "train_dataset = MixedPtDataset(train_data_paths)\n",
    "val_dataset = MixedPtDataset(validation_data_paths)\n",
    "test_dataset = MixedPtDataset(testing_data_paths)\n",
    "\n",
    "class PtDataLoader(DataLoader):\n",
    "    def __init__(self, directories, batch_size, shuffle=True):\n",
    "        dataset = MixedPtDataset(directories)\n",
    "        super().__init__(dataset, batch_size=batch_size, shuffle=shuffle)\n",
    "\n",
    "# Load mixed datasets\n",
    "batch_size = 32\n",
    "train_dataloader = PtDataLoader(directories=train_data_paths, batch_size=batch_size)\n",
    "val_dataloader = PtDataLoader(directories=validation_data_paths, batch_size=batch_size)\n",
    "test_dataloader = PtDataLoader(directories=testing_data_paths, batch_size=batch_size)\n",
    "\n",
    "train_count = len(train_dataset)\n",
    "val_count = len(val_dataset)\n",
    "test_count = len(test_dataset)\n",
    "\n",
    "print(f\"Training samples: {train_count}\\nValidation samples: {val_count}\\nTesting samples: {test_count}\")\n"
   ]
  },
  {
   "cell_type": "code",
   "execution_count": 5,
   "id": "f1f216a9",
   "metadata": {
    "execution": {
     "iopub.execute_input": "2025-07-02T15:03:11.371590Z",
     "iopub.status.busy": "2025-07-02T15:03:11.371330Z",
     "iopub.status.idle": "2025-07-02T15:03:11.375101Z",
     "shell.execute_reply": "2025-07-02T15:03:11.374370Z"
    },
    "papermill": {
     "duration": 0.008755,
     "end_time": "2025-07-02T15:03:11.376129",
     "exception": false,
     "start_time": "2025-07-02T15:03:11.367374",
     "status": "completed"
    },
    "tags": []
   },
   "outputs": [
    {
     "name": "stdout",
     "output_type": "stream",
     "text": [
      "57097\n",
      "12237\n",
      "12234\n"
     ]
    }
   ],
   "source": [
    "print(train_count)\n",
    "print(test_count)\n",
    "print(val_count)"
   ]
  },
  {
   "cell_type": "code",
   "execution_count": 6,
   "id": "60d65d2e",
   "metadata": {
    "execution": {
     "iopub.execute_input": "2025-07-02T15:03:11.383648Z",
     "iopub.status.busy": "2025-07-02T15:03:11.383213Z",
     "iopub.status.idle": "2025-07-02T15:03:11.386663Z",
     "shell.execute_reply": "2025-07-02T15:03:11.385977Z"
    },
    "papermill": {
     "duration": 0.008344,
     "end_time": "2025-07-02T15:03:11.387710",
     "exception": false,
     "start_time": "2025-07-02T15:03:11.379366",
     "status": "completed"
    },
    "tags": []
   },
   "outputs": [],
   "source": [
    "import torch\n",
    "from torch import nn\n",
    "from torch.nn import Parameter\n",
    "import torch.nn.functional as F"
   ]
  },
  {
   "cell_type": "code",
   "execution_count": 7,
   "id": "9da1febc",
   "metadata": {
    "execution": {
     "iopub.execute_input": "2025-07-02T15:03:11.395042Z",
     "iopub.status.busy": "2025-07-02T15:03:11.394662Z",
     "iopub.status.idle": "2025-07-02T15:03:11.397841Z",
     "shell.execute_reply": "2025-07-02T15:03:11.397316Z"
    },
    "papermill": {
     "duration": 0.007901,
     "end_time": "2025-07-02T15:03:11.398843",
     "exception": false,
     "start_time": "2025-07-02T15:03:11.390942",
     "status": "completed"
    },
    "tags": []
   },
   "outputs": [],
   "source": [
    "# Define the parameters\n",
    "input_size = 20\n",
    "hidden_size = 256\n",
    "num_layers = 2\n",
    "num_classes = 2\n",
    "# drop_amount = 0.25  # You can choose an appropriate dropout rate"
   ]
  },
  {
   "cell_type": "code",
   "execution_count": 8,
   "id": "c2ddf89d",
   "metadata": {
    "execution": {
     "iopub.execute_input": "2025-07-02T15:03:11.406238Z",
     "iopub.status.busy": "2025-07-02T15:03:11.405862Z",
     "iopub.status.idle": "2025-07-02T15:03:11.409051Z",
     "shell.execute_reply": "2025-07-02T15:03:11.408523Z"
    },
    "papermill": {
     "duration": 0.007842,
     "end_time": "2025-07-02T15:03:11.410036",
     "exception": false,
     "start_time": "2025-07-02T15:03:11.402194",
     "status": "completed"
    },
    "tags": []
   },
   "outputs": [],
   "source": [
    "import torch\n",
    "import torch.nn as nn\n",
    "import torch.optim as optim"
   ]
  },
  {
   "cell_type": "code",
   "execution_count": 9,
   "id": "da44adbe",
   "metadata": {
    "execution": {
     "iopub.execute_input": "2025-07-02T15:03:11.417137Z",
     "iopub.status.busy": "2025-07-02T15:03:11.416965Z",
     "iopub.status.idle": "2025-07-02T15:03:35.910490Z",
     "shell.execute_reply": "2025-07-02T15:03:35.909916Z"
    },
    "papermill": {
     "duration": 24.49856,
     "end_time": "2025-07-02T15:03:35.911920",
     "exception": false,
     "start_time": "2025-07-02T15:03:11.413360",
     "status": "completed"
    },
    "tags": []
   },
   "outputs": [
    {
     "name": "stderr",
     "output_type": "stream",
     "text": [
      "2025-07-02 15:03:23.557340: E external/local_xla/xla/stream_executor/cuda/cuda_fft.cc:477] Unable to register cuFFT factory: Attempting to register factory for plugin cuFFT when one has already been registered\n",
      "WARNING: All log messages before absl::InitializeLog() is called are written to STDERR\n",
      "E0000 00:00:1751468603.755626      19 cuda_dnn.cc:8310] Unable to register cuDNN factory: Attempting to register factory for plugin cuDNN when one has already been registered\n",
      "E0000 00:00:1751468603.814451      19 cuda_blas.cc:1418] Unable to register cuBLAS factory: Attempting to register factory for plugin cuBLAS when one has already been registered\n"
     ]
    }
   ],
   "source": [
    "import torch \n",
    "import torch.nn as nn\n",
    "import torch.nn.functional as F\n",
    "from torch.autograd import Variable\n",
    "from torch.utils.data import Dataset, DataLoader\n",
    "import os, pathlib, glob, random\n",
    "import numpy as np\n",
    "import matplotlib.pyplot as plt \n",
    "import seaborn as sns\n",
    "from sklearn.metrics import confusion_matrix\n",
    "from transformers import WhisperProcessor, WhisperForConditionalGeneration\n",
    "from datasets import load_dataset\n",
    "from transformers.models.whisper.modeling_whisper import WhisperModel, WhisperEncoder\n",
    "from transformers.models.whisper.configuration_whisper import WhisperConfig\n",
    "from typing import Optional, Tuple, Union\n",
    "import torch\n",
    "import librosa \n",
    "import matplotlib.pyplot as plt\n",
    "import numpy as np\n",
    "import os, glob, pickle\n",
    "import scipy.io as sio\n",
    "from tqdm import tqdm\n",
    "import multiprocessing as mp \n",
    "import torch.optim as optim"
   ]
  },
  {
   "cell_type": "code",
   "execution_count": 10,
   "id": "950304cb",
   "metadata": {
    "execution": {
     "iopub.execute_input": "2025-07-02T15:03:35.920196Z",
     "iopub.status.busy": "2025-07-02T15:03:35.919729Z",
     "iopub.status.idle": "2025-07-02T15:03:35.923036Z",
     "shell.execute_reply": "2025-07-02T15:03:35.922432Z"
    },
    "papermill": {
     "duration": 0.008388,
     "end_time": "2025-07-02T15:03:35.924107",
     "exception": false,
     "start_time": "2025-07-02T15:03:35.915719",
     "status": "completed"
    },
    "tags": []
   },
   "outputs": [],
   "source": [
    "# BiLSTM"
   ]
  },
  {
   "cell_type": "code",
   "execution_count": 11,
   "id": "a0480eaa",
   "metadata": {
    "execution": {
     "iopub.execute_input": "2025-07-02T15:03:35.931444Z",
     "iopub.status.busy": "2025-07-02T15:03:35.931239Z",
     "iopub.status.idle": "2025-07-02T15:03:35.937073Z",
     "shell.execute_reply": "2025-07-02T15:03:35.936577Z"
    },
    "papermill": {
     "duration": 0.010724,
     "end_time": "2025-07-02T15:03:35.938020",
     "exception": false,
     "start_time": "2025-07-02T15:03:35.927296",
     "status": "completed"
    },
    "tags": []
   },
   "outputs": [],
   "source": [
    "drop_amount = 0.255\n",
    "\n",
    "class BiLSTMClassifier(nn.Module):\n",
    "    def __init__(self, input_size, hidden_size, num_layers, num_classes):\n",
    "        super(BiLSTMClassifier, self).__init__()\n",
    "        self.hidden_size = hidden_size\n",
    "        self.num_layers = num_layers\n",
    "        self.lstm = nn.LSTM(input_size, hidden_size, num_layers, batch_first=True, bidirectional=True)\n",
    "        self.dropout = nn.Dropout(p=drop_amount)\n",
    "        self.fc = nn.Linear(hidden_size*2, num_classes)\n",
    "\n",
    "    def forward(self, x):\n",
    "        h0 = torch.zeros(self.num_layers*2, x.size(0), self.hidden_size).to(device=x.device, dtype=torch.double)\n",
    "        c0 = torch.zeros(self.num_layers*2, x.size(0), self.hidden_size).to(device=x.device, dtype=torch.double)\n",
    "        out, _ = self.lstm(x, (h0, c0))\n",
    "        out = self.dropout(out)\n",
    "        # Extract the output of the last time step from both directions\n",
    "        last_hidden_state = torch.cat((out[:, -1, :self.hidden_size], out[:, 0, self.hidden_size:]), dim=1)\n",
    "        output = self.fc(last_hidden_state)\n",
    "        return output"
   ]
  },
  {
   "cell_type": "code",
   "execution_count": 12,
   "id": "3a0b42cf",
   "metadata": {
    "execution": {
     "iopub.execute_input": "2025-07-02T15:03:35.945550Z",
     "iopub.status.busy": "2025-07-02T15:03:35.945292Z",
     "iopub.status.idle": "2025-07-02T15:03:35.948325Z",
     "shell.execute_reply": "2025-07-02T15:03:35.947823Z"
    },
    "papermill": {
     "duration": 0.008017,
     "end_time": "2025-07-02T15:03:35.949331",
     "exception": false,
     "start_time": "2025-07-02T15:03:35.941314",
     "status": "completed"
    },
    "tags": []
   },
   "outputs": [],
   "source": [
    "batch_size = 32\n",
    "output_nodes = 2\n",
    "learning_rate = 0.003"
   ]
  },
  {
   "cell_type": "code",
   "execution_count": 13,
   "id": "8c9094f0",
   "metadata": {
    "execution": {
     "iopub.execute_input": "2025-07-02T15:03:35.956661Z",
     "iopub.status.busy": "2025-07-02T15:03:35.956433Z",
     "iopub.status.idle": "2025-07-02T15:03:36.217405Z",
     "shell.execute_reply": "2025-07-02T15:03:36.216532Z"
    },
    "papermill": {
     "duration": 0.265897,
     "end_time": "2025-07-02T15:03:36.218617",
     "exception": false,
     "start_time": "2025-07-02T15:03:35.952720",
     "status": "completed"
    },
    "tags": []
   },
   "outputs": [
    {
     "name": "stdout",
     "output_type": "stream",
     "text": [
      "BiLSTMClassifier(\n",
      "  (lstm): LSTM(20, 256, num_layers=2, batch_first=True, bidirectional=True)\n",
      "  (dropout): Dropout(p=0.255, inplace=False)\n",
      "  (fc): Linear(in_features=512, out_features=2, bias=True)\n",
      ")\n"
     ]
    }
   ],
   "source": [
    "model = BiLSTMClassifier(input_size, hidden_size, num_layers, num_classes)\n",
    "model.to(device, dtype=torch.double)\n",
    "loss_function = nn.CrossEntropyLoss()\n",
    "optimizer = optim.Adam(model.parameters(), lr=learning_rate)\n",
    "print(model)"
   ]
  },
  {
   "cell_type": "code",
   "execution_count": 14,
   "id": "632121af",
   "metadata": {
    "execution": {
     "iopub.execute_input": "2025-07-02T15:03:36.226728Z",
     "iopub.status.busy": "2025-07-02T15:03:36.226184Z",
     "iopub.status.idle": "2025-07-02T15:03:36.230009Z",
     "shell.execute_reply": "2025-07-02T15:03:36.229322Z"
    },
    "papermill": {
     "duration": 0.008825,
     "end_time": "2025-07-02T15:03:36.231013",
     "exception": false,
     "start_time": "2025-07-02T15:03:36.222188",
     "status": "completed"
    },
    "tags": []
   },
   "outputs": [
    {
     "name": "stdout",
     "output_type": "stream",
     "text": [
      "BiLSTMClassifier(\n",
      "  (lstm): LSTM(20, 256, num_layers=2, batch_first=True, bidirectional=True)\n",
      "  (dropout): Dropout(p=0.255, inplace=False)\n",
      "  (fc): Linear(in_features=512, out_features=2, bias=True)\n",
      ")\n"
     ]
    }
   ],
   "source": [
    "print(model)"
   ]
  },
  {
   "cell_type": "code",
   "execution_count": 15,
   "id": "962ea842",
   "metadata": {
    "execution": {
     "iopub.execute_input": "2025-07-02T15:03:36.239328Z",
     "iopub.status.busy": "2025-07-02T15:03:36.239103Z",
     "iopub.status.idle": "2025-07-02T16:23:25.369513Z",
     "shell.execute_reply": "2025-07-02T16:23:25.368667Z"
    },
    "papermill": {
     "duration": 4789.135901,
     "end_time": "2025-07-02T16:23:25.371005",
     "exception": false,
     "start_time": "2025-07-02T15:03:36.235104",
     "status": "completed"
    },
    "tags": []
   },
   "outputs": [
    {
     "name": "stdout",
     "output_type": "stream",
     "text": [
      "\n",
      "Epoch 1/20 - Training...\n"
     ]
    },
    {
     "name": "stderr",
     "output_type": "stream",
     "text": [
      "Training Batches: 100%|██████████| 1785/1785 [08:25<00:00,  3.53it/s]\n"
     ]
    },
    {
     "name": "stdout",
     "output_type": "stream",
     "text": [
      "Epoch 1/20 - Validation...\n"
     ]
    },
    {
     "name": "stderr",
     "output_type": "stream",
     "text": [
      "Validation Batches: 100%|██████████| 383/383 [01:09<00:00,  5.51it/s]\n"
     ]
    },
    {
     "name": "stdout",
     "output_type": "stream",
     "text": [
      "Epoch: 1/20   Train Loss: 0.5251   Train Accuracy: 0.7109   Validation Accuracy: 0.7568\n",
      "\n",
      "Epoch 2/20 - Training...\n"
     ]
    },
    {
     "name": "stderr",
     "output_type": "stream",
     "text": [
      "Training Batches: 100%|██████████| 1785/1785 [03:19<00:00,  8.96it/s]\n"
     ]
    },
    {
     "name": "stdout",
     "output_type": "stream",
     "text": [
      "Epoch 2/20 - Validation...\n"
     ]
    },
    {
     "name": "stderr",
     "output_type": "stream",
     "text": [
      "Validation Batches: 100%|██████████| 383/383 [00:21<00:00, 18.16it/s]\n"
     ]
    },
    {
     "name": "stdout",
     "output_type": "stream",
     "text": [
      "Epoch: 2/20   Train Loss: 0.4649   Train Accuracy: 0.7618   Validation Accuracy: 0.7786\n",
      "\n",
      "Epoch 3/20 - Training...\n"
     ]
    },
    {
     "name": "stderr",
     "output_type": "stream",
     "text": [
      "Training Batches: 100%|██████████| 1785/1785 [03:19<00:00,  8.93it/s]\n"
     ]
    },
    {
     "name": "stdout",
     "output_type": "stream",
     "text": [
      "Epoch 3/20 - Validation...\n"
     ]
    },
    {
     "name": "stderr",
     "output_type": "stream",
     "text": [
      "Validation Batches: 100%|██████████| 383/383 [00:21<00:00, 17.57it/s]\n"
     ]
    },
    {
     "name": "stdout",
     "output_type": "stream",
     "text": [
      "Epoch: 3/20   Train Loss: 0.4417   Train Accuracy: 0.7765   Validation Accuracy: 0.7834\n",
      "\n",
      "Epoch 4/20 - Training...\n"
     ]
    },
    {
     "name": "stderr",
     "output_type": "stream",
     "text": [
      "Training Batches: 100%|██████████| 1785/1785 [03:20<00:00,  8.89it/s]\n"
     ]
    },
    {
     "name": "stdout",
     "output_type": "stream",
     "text": [
      "Epoch 4/20 - Validation...\n"
     ]
    },
    {
     "name": "stderr",
     "output_type": "stream",
     "text": [
      "Validation Batches: 100%|██████████| 383/383 [00:22<00:00, 17.37it/s]\n"
     ]
    },
    {
     "name": "stdout",
     "output_type": "stream",
     "text": [
      "Epoch: 4/20   Train Loss: 0.4291   Train Accuracy: 0.7845   Validation Accuracy: 0.7961\n",
      "\n",
      "Epoch 5/20 - Training...\n"
     ]
    },
    {
     "name": "stderr",
     "output_type": "stream",
     "text": [
      "Training Batches: 100%|██████████| 1785/1785 [03:20<00:00,  8.89it/s]\n"
     ]
    },
    {
     "name": "stdout",
     "output_type": "stream",
     "text": [
      "Epoch 5/20 - Validation...\n"
     ]
    },
    {
     "name": "stderr",
     "output_type": "stream",
     "text": [
      "Validation Batches: 100%|██████████| 383/383 [00:22<00:00, 16.67it/s]\n"
     ]
    },
    {
     "name": "stdout",
     "output_type": "stream",
     "text": [
      "Epoch: 5/20   Train Loss: 0.4172   Train Accuracy: 0.7930   Validation Accuracy: 0.7973\n",
      "\n",
      "Epoch 6/20 - Training...\n"
     ]
    },
    {
     "name": "stderr",
     "output_type": "stream",
     "text": [
      "Training Batches: 100%|██████████| 1785/1785 [03:19<00:00,  8.97it/s]\n"
     ]
    },
    {
     "name": "stdout",
     "output_type": "stream",
     "text": [
      "Epoch 6/20 - Validation...\n"
     ]
    },
    {
     "name": "stderr",
     "output_type": "stream",
     "text": [
      "Validation Batches: 100%|██████████| 383/383 [00:20<00:00, 18.30it/s]\n"
     ]
    },
    {
     "name": "stdout",
     "output_type": "stream",
     "text": [
      "Epoch: 6/20   Train Loss: 0.4055   Train Accuracy: 0.7988   Validation Accuracy: 0.8000\n",
      "\n",
      "Epoch 7/20 - Training...\n"
     ]
    },
    {
     "name": "stderr",
     "output_type": "stream",
     "text": [
      "Training Batches: 100%|██████████| 1785/1785 [03:16<00:00,  9.07it/s]\n"
     ]
    },
    {
     "name": "stdout",
     "output_type": "stream",
     "text": [
      "Epoch 7/20 - Validation...\n"
     ]
    },
    {
     "name": "stderr",
     "output_type": "stream",
     "text": [
      "Validation Batches: 100%|██████████| 383/383 [00:21<00:00, 18.01it/s]\n"
     ]
    },
    {
     "name": "stdout",
     "output_type": "stream",
     "text": [
      "Epoch: 7/20   Train Loss: 0.3996   Train Accuracy: 0.8018   Validation Accuracy: 0.8054\n",
      "\n",
      "Epoch 8/20 - Training...\n"
     ]
    },
    {
     "name": "stderr",
     "output_type": "stream",
     "text": [
      "Training Batches: 100%|██████████| 1785/1785 [03:15<00:00,  9.11it/s]\n"
     ]
    },
    {
     "name": "stdout",
     "output_type": "stream",
     "text": [
      "Epoch 8/20 - Validation...\n"
     ]
    },
    {
     "name": "stderr",
     "output_type": "stream",
     "text": [
      "Validation Batches: 100%|██████████| 383/383 [00:20<00:00, 18.43it/s]\n"
     ]
    },
    {
     "name": "stdout",
     "output_type": "stream",
     "text": [
      "Epoch: 8/20   Train Loss: 0.3879   Train Accuracy: 0.8085   Validation Accuracy: 0.7985\n",
      "\n",
      "Epoch 9/20 - Training...\n"
     ]
    },
    {
     "name": "stderr",
     "output_type": "stream",
     "text": [
      "Training Batches: 100%|██████████| 1785/1785 [03:16<00:00,  9.07it/s]\n"
     ]
    },
    {
     "name": "stdout",
     "output_type": "stream",
     "text": [
      "Epoch 9/20 - Validation...\n"
     ]
    },
    {
     "name": "stderr",
     "output_type": "stream",
     "text": [
      "Validation Batches: 100%|██████████| 383/383 [00:22<00:00, 17.21it/s]\n"
     ]
    },
    {
     "name": "stdout",
     "output_type": "stream",
     "text": [
      "Epoch: 9/20   Train Loss: 0.3828   Train Accuracy: 0.8083   Validation Accuracy: 0.8068\n",
      "\n",
      "Epoch 10/20 - Training...\n"
     ]
    },
    {
     "name": "stderr",
     "output_type": "stream",
     "text": [
      "Training Batches: 100%|██████████| 1785/1785 [03:15<00:00,  9.12it/s]\n"
     ]
    },
    {
     "name": "stdout",
     "output_type": "stream",
     "text": [
      "Epoch 10/20 - Validation...\n"
     ]
    },
    {
     "name": "stderr",
     "output_type": "stream",
     "text": [
      "Validation Batches: 100%|██████████| 383/383 [00:21<00:00, 18.13it/s]\n"
     ]
    },
    {
     "name": "stdout",
     "output_type": "stream",
     "text": [
      "Epoch: 10/20   Train Loss: 0.3735   Train Accuracy: 0.8148   Validation Accuracy: 0.8036\n",
      "\n",
      "Epoch 11/20 - Training...\n"
     ]
    },
    {
     "name": "stderr",
     "output_type": "stream",
     "text": [
      "Training Batches: 100%|██████████| 1785/1785 [03:14<00:00,  9.16it/s]\n"
     ]
    },
    {
     "name": "stdout",
     "output_type": "stream",
     "text": [
      "Epoch 11/20 - Validation...\n"
     ]
    },
    {
     "name": "stderr",
     "output_type": "stream",
     "text": [
      "Validation Batches: 100%|██████████| 383/383 [00:20<00:00, 19.13it/s]\n"
     ]
    },
    {
     "name": "stdout",
     "output_type": "stream",
     "text": [
      "Epoch: 11/20   Train Loss: 0.3659   Train Accuracy: 0.8174   Validation Accuracy: 0.7994\n",
      "\n",
      "Epoch 12/20 - Training...\n"
     ]
    },
    {
     "name": "stderr",
     "output_type": "stream",
     "text": [
      "Training Batches: 100%|██████████| 1785/1785 [03:23<00:00,  8.79it/s]\n"
     ]
    },
    {
     "name": "stdout",
     "output_type": "stream",
     "text": [
      "Epoch 12/20 - Validation...\n"
     ]
    },
    {
     "name": "stderr",
     "output_type": "stream",
     "text": [
      "Validation Batches: 100%|██████████| 383/383 [00:24<00:00, 15.35it/s]\n"
     ]
    },
    {
     "name": "stdout",
     "output_type": "stream",
     "text": [
      "Epoch: 12/20   Train Loss: 0.3565   Train Accuracy: 0.8215   Validation Accuracy: 0.8086\n",
      "\n",
      "Epoch 13/20 - Training...\n"
     ]
    },
    {
     "name": "stderr",
     "output_type": "stream",
     "text": [
      "Training Batches: 100%|██████████| 1785/1785 [03:19<00:00,  8.97it/s]\n"
     ]
    },
    {
     "name": "stdout",
     "output_type": "stream",
     "text": [
      "Epoch 13/20 - Validation...\n"
     ]
    },
    {
     "name": "stderr",
     "output_type": "stream",
     "text": [
      "Validation Batches: 100%|██████████| 383/383 [00:22<00:00, 17.29it/s]\n"
     ]
    },
    {
     "name": "stdout",
     "output_type": "stream",
     "text": [
      "Epoch: 13/20   Train Loss: 0.3515   Train Accuracy: 0.8248   Validation Accuracy: 0.8145\n",
      "\n",
      "Epoch 14/20 - Training...\n"
     ]
    },
    {
     "name": "stderr",
     "output_type": "stream",
     "text": [
      "Training Batches: 100%|██████████| 1785/1785 [03:21<00:00,  8.86it/s]\n"
     ]
    },
    {
     "name": "stdout",
     "output_type": "stream",
     "text": [
      "Epoch 14/20 - Validation...\n"
     ]
    },
    {
     "name": "stderr",
     "output_type": "stream",
     "text": [
      "Validation Batches: 100%|██████████| 383/383 [00:22<00:00, 17.21it/s]\n"
     ]
    },
    {
     "name": "stdout",
     "output_type": "stream",
     "text": [
      "Epoch: 14/20   Train Loss: 0.3422   Train Accuracy: 0.8283   Validation Accuracy: 0.8155\n",
      "\n",
      "Epoch 15/20 - Training...\n"
     ]
    },
    {
     "name": "stderr",
     "output_type": "stream",
     "text": [
      "Training Batches: 100%|██████████| 1785/1785 [03:21<00:00,  8.84it/s]\n"
     ]
    },
    {
     "name": "stdout",
     "output_type": "stream",
     "text": [
      "Epoch 15/20 - Validation...\n"
     ]
    },
    {
     "name": "stderr",
     "output_type": "stream",
     "text": [
      "Validation Batches: 100%|██████████| 383/383 [00:21<00:00, 17.81it/s]\n"
     ]
    },
    {
     "name": "stdout",
     "output_type": "stream",
     "text": [
      "Epoch: 15/20   Train Loss: 0.3376   Train Accuracy: 0.8307   Validation Accuracy: 0.8146\n",
      "\n",
      "Epoch 16/20 - Training...\n"
     ]
    },
    {
     "name": "stderr",
     "output_type": "stream",
     "text": [
      "Training Batches: 100%|██████████| 1785/1785 [03:21<00:00,  8.84it/s]\n"
     ]
    },
    {
     "name": "stdout",
     "output_type": "stream",
     "text": [
      "Epoch 16/20 - Validation...\n"
     ]
    },
    {
     "name": "stderr",
     "output_type": "stream",
     "text": [
      "Validation Batches: 100%|██████████| 383/383 [00:22<00:00, 16.72it/s]\n"
     ]
    },
    {
     "name": "stdout",
     "output_type": "stream",
     "text": [
      "Epoch: 16/20   Train Loss: 0.3316   Train Accuracy: 0.8342   Validation Accuracy: 0.8152\n",
      "\n",
      "Epoch 17/20 - Training...\n"
     ]
    },
    {
     "name": "stderr",
     "output_type": "stream",
     "text": [
      "Training Batches: 100%|██████████| 1785/1785 [03:24<00:00,  8.74it/s]\n"
     ]
    },
    {
     "name": "stdout",
     "output_type": "stream",
     "text": [
      "Epoch 17/20 - Validation...\n"
     ]
    },
    {
     "name": "stderr",
     "output_type": "stream",
     "text": [
      "Validation Batches: 100%|██████████| 383/383 [00:23<00:00, 16.54it/s]\n"
     ]
    },
    {
     "name": "stdout",
     "output_type": "stream",
     "text": [
      "Epoch: 17/20   Train Loss: 0.3289   Train Accuracy: 0.8367   Validation Accuracy: 0.8167\n",
      "\n",
      "Epoch 18/20 - Training...\n"
     ]
    },
    {
     "name": "stderr",
     "output_type": "stream",
     "text": [
      "Training Batches: 100%|██████████| 1785/1785 [03:21<00:00,  8.85it/s]\n"
     ]
    },
    {
     "name": "stdout",
     "output_type": "stream",
     "text": [
      "Epoch 18/20 - Validation...\n"
     ]
    },
    {
     "name": "stderr",
     "output_type": "stream",
     "text": [
      "Validation Batches: 100%|██████████| 383/383 [00:22<00:00, 16.89it/s]\n"
     ]
    },
    {
     "name": "stdout",
     "output_type": "stream",
     "text": [
      "Epoch: 18/20   Train Loss: 0.3188   Train Accuracy: 0.8414   Validation Accuracy: 0.8187\n",
      "\n",
      "Epoch 19/20 - Training...\n"
     ]
    },
    {
     "name": "stderr",
     "output_type": "stream",
     "text": [
      "Training Batches: 100%|██████████| 1785/1785 [03:24<00:00,  8.73it/s]\n"
     ]
    },
    {
     "name": "stdout",
     "output_type": "stream",
     "text": [
      "Epoch 19/20 - Validation...\n"
     ]
    },
    {
     "name": "stderr",
     "output_type": "stream",
     "text": [
      "Validation Batches: 100%|██████████| 383/383 [00:21<00:00, 17.84it/s]\n"
     ]
    },
    {
     "name": "stdout",
     "output_type": "stream",
     "text": [
      "Epoch: 19/20   Train Loss: 0.3154   Train Accuracy: 0.8429   Validation Accuracy: 0.8108\n",
      "\n",
      "Epoch 20/20 - Training...\n"
     ]
    },
    {
     "name": "stderr",
     "output_type": "stream",
     "text": [
      "Training Batches: 100%|██████████| 1785/1785 [03:18<00:00,  8.99it/s]\n"
     ]
    },
    {
     "name": "stdout",
     "output_type": "stream",
     "text": [
      "Epoch 20/20 - Validation...\n"
     ]
    },
    {
     "name": "stderr",
     "output_type": "stream",
     "text": [
      "Validation Batches: 100%|██████████| 383/383 [00:21<00:00, 17.71it/s]"
     ]
    },
    {
     "name": "stdout",
     "output_type": "stream",
     "text": [
      "Epoch: 20/20   Train Loss: 0.3163   Train Accuracy: 0.8417   Validation Accuracy: 0.8178\n",
      "\n",
      "Maximum Validation Accuracy: 0.8187019780938368\n",
      "Finished Training and Validation\n"
     ]
    },
    {
     "name": "stderr",
     "output_type": "stream",
     "text": [
      "\n"
     ]
    }
   ],
   "source": [
    "from tqdm import tqdm\n",
    "import torch\n",
    "from torch.autograd import Variable\n",
    "\n",
    "# Model training and testing\n",
    "n_total_steps = len(train_dataloader)\n",
    "train_accuracy_list = []\n",
    "train_loss_list = []\n",
    "val_accuracy_list = []\n",
    "max_acc = 0\n",
    "num_epochs = 20\n",
    "pred_labels = []\n",
    "act_labels = []\n",
    "\n",
    "for epoch in range(num_epochs):\n",
    "    \n",
    "    # Training phase\n",
    "    model.train()\n",
    "    train_accuracy = 0.0\n",
    "    train_loss = 0.0\n",
    "    \n",
    "    print(f\"\\nEpoch {epoch + 1}/{num_epochs} - Training...\")\n",
    "    \n",
    "    # Use tqdm for progress bar in training loop\n",
    "    for batch_idx, (images, labels) in enumerate(tqdm(train_dataloader, desc=\"Training Batches\")):\n",
    "        if torch.cuda.is_available():\n",
    "            images = Variable(images.cuda())\n",
    "            labels = Variable(labels.cuda())\n",
    "        \n",
    "        optimizer.zero_grad()\n",
    "        outputs = model(images)\n",
    "        loss = loss_function(outputs, labels)\n",
    "        loss.backward()\n",
    "        optimizer.step()\n",
    "\n",
    "        train_loss += loss.cpu().data * images.size(0)\n",
    "        _, prediction = torch.max(outputs.data, 1)\n",
    "        train_accuracy += int(torch.sum(prediction == labels.data))\n",
    "    \n",
    "    train_accuracy = train_accuracy / train_count\n",
    "    train_loss = train_loss / train_count\n",
    "    \n",
    "    train_accuracy_list.append(train_accuracy)\n",
    "    train_loss_list.append(train_loss)\n",
    "\n",
    "    # Validation phase\n",
    "    model.eval()\n",
    "    val_accuracy = 0.0\n",
    "    pred = []\n",
    "    lab = []\n",
    "    \n",
    "    print(f\"Epoch {epoch + 1}/{num_epochs} - Validation...\")\n",
    "    \n",
    "    # Use tqdm for progress bar in validation loop\n",
    "    for i, (images, labels) in enumerate(tqdm(val_dataloader, desc=\"Validation Batches\")):\n",
    "        if torch.cuda.is_available():\n",
    "            images = Variable(images.cuda())\n",
    "            labels = Variable(labels.cuda())\n",
    "        \n",
    "        outputs = model(images)\n",
    "        _, prediction = torch.max(outputs.data, 1)\n",
    "        val_accuracy += int(torch.sum(prediction == labels.data))\n",
    "        \n",
    "        pred.extend(prediction.tolist())\n",
    "        lab.extend(labels.tolist())\n",
    "    \n",
    "    val_accuracy = val_accuracy / val_count\n",
    "    val_accuracy_list.append(val_accuracy)\n",
    "    \n",
    "    # Save best model\n",
    "    if max_acc < val_accuracy:\n",
    "        max_acc = val_accuracy\n",
    "        pred_labels = pred\n",
    "        actual_labels = lab\n",
    "        torch.save(model, \"best_accuracy_model_BiLSTM.pth\")\n",
    "    \n",
    "    print(f'Epoch: {epoch + 1}/{num_epochs}   '\n",
    "          f'Train Loss: {train_loss:.4f}   '\n",
    "          f'Train Accuracy: {train_accuracy:.4f}   '\n",
    "          f'Validation Accuracy: {val_accuracy:.4f}')\n",
    "\n",
    "print('\\nMaximum Validation Accuracy:', max_acc)\n",
    "print('Finished Training and Validation')\n"
   ]
  },
  {
   "cell_type": "code",
   "execution_count": 16,
   "id": "619f9643",
   "metadata": {
    "execution": {
     "iopub.execute_input": "2025-07-02T16:23:28.676512Z",
     "iopub.status.busy": "2025-07-02T16:23:28.676208Z",
     "iopub.status.idle": "2025-07-02T16:24:48.251437Z",
     "shell.execute_reply": "2025-07-02T16:24:48.250623Z"
    },
    "papermill": {
     "duration": 82.841381,
     "end_time": "2025-07-02T16:24:49.879311",
     "exception": false,
     "start_time": "2025-07-02T16:23:27.037930",
     "status": "completed"
    },
    "tags": []
   },
   "outputs": [
    {
     "name": "stdout",
     "output_type": "stream",
     "text": [
      "testing Accuracy: 0.8189915829043066\n"
     ]
    }
   ],
   "source": [
    "# Load the best model\n",
    "best_model = torch.load(\"best_accuracy_model_BiLSTM.pth\", weights_only=False)\n",
    "\n",
    "# Put the best_model in evaluation mode\n",
    "best_model.eval()\n",
    "\n",
    "# Initialize variables to store results\n",
    "testing_accuracy = 0.0\n",
    "pred_labels = []\n",
    "act_labels = []\n",
    "\n",
    "# Pass validation data through the best model\n",
    "for i, (images, labels) in enumerate(test_dataloader):\n",
    "    if torch.cuda.is_available():\n",
    "        images = Variable(images.cuda())\n",
    "        labels = Variable(labels.cuda())\n",
    "    \n",
    "    outputs = best_model(images)\n",
    "    _, prediction = torch.max(outputs.data, 1)\n",
    "    \n",
    "    testing_accuracy += int(torch.sum(prediction == labels.data))\n",
    "    \n",
    "    pred_labels.extend(prediction.tolist())\n",
    "    act_labels.extend(labels.tolist())\n",
    "\n",
    "# Calculate validation accuracy\n",
    "testing_accuracy = testing_accuracy / len(test_dataloader.dataset)\n",
    "\n",
    "# Print the validation accuracy\n",
    "print(\"testing Accuracy:\", testing_accuracy)"
   ]
  },
  {
   "cell_type": "code",
   "execution_count": 17,
   "id": "fd415877",
   "metadata": {
    "execution": {
     "iopub.execute_input": "2025-07-02T16:24:53.131220Z",
     "iopub.status.busy": "2025-07-02T16:24:53.130986Z",
     "iopub.status.idle": "2025-07-02T16:25:15.017262Z",
     "shell.execute_reply": "2025-07-02T16:25:15.016428Z"
    },
    "papermill": {
     "duration": 23.514987,
     "end_time": "2025-07-02T16:25:15.018676",
     "exception": false,
     "start_time": "2025-07-02T16:24:51.503689",
     "status": "completed"
    },
    "tags": []
   },
   "outputs": [
    {
     "name": "stdout",
     "output_type": "stream",
     "text": [
      "Testing Accuracy     : 0.8190\n",
      "Precision            : 0.7555\n",
      "Recall               : 0.8936\n",
      "F1 Score (Macro)     : 0.8190\n",
      "F1 Score (Micro)     : 0.8190\n",
      "Hamming Loss         : 0.1810\n",
      "AUC                  : 0.9006\n",
      "EER                  : 0.1954 at threshold 0.5958\n"
     ]
    },
    {
     "data": {
      "image/png": "[encoded data removed]",
      "text/plain": [
       "<Figure size 640x480 with 1 Axes>"
      ]
     },
     "metadata": {},
     "output_type": "display_data"
    }
   ],
   "source": [
    "from sklearn.metrics import (accuracy_score, precision_score, recall_score, f1_score,\n",
    "                             roc_curve, auc, hamming_loss, confusion_matrix, roc_auc_score)\n",
    "import matplotlib.pyplot as plt\n",
    "import numpy as np\n",
    "# Load best model\n",
    "best_model = torch.load(\"best_accuracy_model_BiLSTM.pth\", weights_only=False)\n",
    "best_model.eval()\n",
    "\n",
    "pred_labels = []\n",
    "act_labels = []\n",
    "pred_probs = []\n",
    "\n",
    "# Evaluate\n",
    "for images, labels in test_dataloader:\n",
    "    if torch.cuda.is_available():\n",
    "        images = images.cuda()\n",
    "        labels = labels.cuda()\n",
    "    \n",
    "    with torch.no_grad():\n",
    "        outputs = best_model(images)\n",
    "        probs = torch.softmax(outputs, dim=1)[:, 1]  # probability for class 1\n",
    "        preds = torch.argmax(outputs, dim=1)\n",
    "    \n",
    "    pred_labels.extend(preds.cpu().tolist())\n",
    "    act_labels.extend(labels.cpu().tolist())\n",
    "    pred_probs.extend(probs.cpu().tolist())\n",
    "\n",
    "# Convert to NumPy\n",
    "y_true = np.array(act_labels)\n",
    "y_pred = np.array(pred_labels)\n",
    "y_score = np.array(pred_probs)\n",
    "\n",
    "# Basic Metrics\n",
    "acc = accuracy_score(y_true, y_pred)\n",
    "prec = precision_score(y_true, y_pred)\n",
    "rec = recall_score(y_true, y_pred)\n",
    "f1_macro = f1_score(y_true, y_pred, average='macro')\n",
    "f1_micro = f1_score(y_true, y_pred, average='micro')\n",
    "hamming = hamming_loss(y_true, y_pred)\n",
    "conf_mat = confusion_matrix(y_true, y_pred)\n",
    "\n",
    "# ROC and AUC\n",
    "fpr, tpr, thresholds = roc_curve(y_true, y_score)\n",
    "roc_auc = auc(fpr, tpr)\n",
    "\n",
    "# EER calculation\n",
    "fnr = 1 - tpr\n",
    "eer_threshold = thresholds[np.nanargmin(np.absolute(fnr - fpr))]\n",
    "eer = fpr[np.nanargmin(np.absolute(fnr - fpr))]\n",
    "\n",
    "# Print all\n",
    "print(f\"Testing Accuracy     : {acc:.4f}\")\n",
    "print(f\"Precision            : {prec:.4f}\")\n",
    "print(f\"Recall               : {rec:.4f}\")\n",
    "print(f\"F1 Score (Macro)     : {f1_macro:.4f}\")\n",
    "print(f\"F1 Score (Micro)     : {f1_micro:.4f}\")\n",
    "print(f\"Hamming Loss         : {hamming:.4f}\")\n",
    "# print(f\"Confusion Matrix     :\\n{conf_mat}\")\n",
    "print(f\"AUC                  : {roc_auc:.4f}\")\n",
    "print(f\"EER                  : {eer:.4f} at threshold {eer_threshold:.4f}\")\n",
    "\n",
    "# Optional: Plot ROC\n",
    "plt.figure()\n",
    "plt.plot(fpr, tpr, label=f'ROC curve (AUC = {roc_auc:.4f})')\n",
    "plt.plot([0, 1], [0, 1], 'k--')\n",
    "plt.xlabel('False Positive Rate')\n",
    "plt.ylabel('True Positive Rate')\n",
    "plt.title('ROC Curve')\n",
    "plt.legend(loc='lower right')\n",
    "plt.grid(True)\n",
    "plt.show()"
   ]
  },
  {
   "cell_type": "code",
   "execution_count": 18,
   "id": "00b91e08",
   "metadata": {
    "execution": {
     "iopub.execute_input": "2025-07-02T16:25:18.398014Z",
     "iopub.status.busy": "2025-07-02T16:25:18.397744Z",
     "iopub.status.idle": "2025-07-02T16:25:18.530079Z",
     "shell.execute_reply": "2025-07-02T16:25:18.529462Z"
    },
    "papermill": {
     "duration": 1.805316,
     "end_time": "2025-07-02T16:25:18.531211",
     "exception": false,
     "start_time": "2025-07-02T16:25:16.725895",
     "status": "completed"
    },
    "tags": []
   },
   "outputs": [
    {
     "data": {
      "image/png": "[encoded data removed]",
      "text/plain": [
       "<Figure size 640x480 with 1 Axes>"
      ]
     },
     "metadata": {},
     "output_type": "display_data"
    }
   ],
   "source": [
    "from sklearn.metrics import det_curve, DetCurveDisplay\n",
    "\n",
    "# Compute DET curve data\n",
    "fpr_det, fnr_det, det_thresholds = det_curve(y_true, y_score)\n",
    "\n",
    "# Plot DET curve using Display\n",
    "import matplotlib.pyplot as plt\n",
    "\n",
    "disp = DetCurveDisplay(fpr=fpr_det, fnr=fnr_det, estimator_name=\"BiLSTM\")\n",
    "disp.plot()\n",
    "plt.title(\"Detection Error Tradeoff (DET) Curve\")\n",
    "plt.grid(True)\n",
    "plt.show()\n"
   ]
  },
  {
   "cell_type": "code",
   "execution_count": 19,
   "id": "8a38150b",
   "metadata": {
    "execution": {
     "iopub.execute_input": "2025-07-02T16:25:21.832918Z",
     "iopub.status.busy": "2025-07-02T16:25:21.832404Z",
     "iopub.status.idle": "2025-07-02T16:25:21.835990Z",
     "shell.execute_reply": "2025-07-02T16:25:21.835299Z"
    },
    "papermill": {
     "duration": 1.662975,
     "end_time": "2025-07-02T16:25:21.837184",
     "exception": false,
     "start_time": "2025-07-02T16:25:20.174209",
     "status": "completed"
    },
    "tags": []
   },
   "outputs": [],
   "source": [
    "# from sklearn.metrics import det_curve\n",
    "# import numpy as np\n",
    "\n",
    "# # Compute DET curve arrays\n",
    "# fpr_det, fnr_det, det_thresholds = det_curve(y_true, y_score)\n",
    "\n",
    "# # Display summary\n",
    "# print(\"Number of thresholds:\", len(det_thresholds))\n",
    "# for i in range(min(10, len(det_thresholds))):\n",
    "#     print(f\"Thresh ≥ {det_thresholds[i]:.4f}: FPR = {fpr_det[i]:.4f}, FNR = {fnr_det[i]:.4f}\")\n"
   ]
  },
  {
   "cell_type": "code",
   "execution_count": 20,
   "id": "b21942f6",
   "metadata": {
    "execution": {
     "iopub.execute_input": "2025-07-02T16:25:25.214913Z",
     "iopub.status.busy": "2025-07-02T16:25:25.214640Z",
     "iopub.status.idle": "2025-07-02T16:25:25.414213Z",
     "shell.execute_reply": "2025-07-02T16:25:25.413349Z"
    },
    "papermill": {
     "duration": 1.852227,
     "end_time": "2025-07-02T16:25:25.415640",
     "exception": false,
     "start_time": "2025-07-02T16:25:23.563413",
     "status": "completed"
    },
    "tags": []
   },
   "outputs": [
    {
     "data": {
      "image/png": "[encoded data removed]",
      "text/plain": [
       "<Figure size 640x480 with 2 Axes>"
      ]
     },
     "metadata": {},
     "output_type": "display_data"
    }
   ],
   "source": [
    "from sklearn.metrics import confusion_matrix, ConfusionMatrixDisplay\n",
    "import matplotlib.pyplot as plt\n",
    "\n",
    "# Set correct class names\n",
    "class_names = [\"Fake\", \"Real\"]  # 0 = Fake, 1 = Real\n",
    "\n",
    "# Create confusion matrix\n",
    "cm = confusion_matrix(act_labels, pred_labels)\n",
    "\n",
    "# Display it\n",
    "disp = ConfusionMatrixDisplay(confusion_matrix=cm, display_labels=class_names)\n",
    "disp.plot(values_format='d')\n",
    "\n",
    "plt.title(\"Confusion Matrix\")\n",
    "plt.xlabel(\"Predicted Label\")\n",
    "plt.ylabel(\"True Label\")\n",
    "plt.grid(False)\n",
    "plt.tight_layout()\n",
    "plt.show()\n"
   ]
  }
 ],
 "metadata": {
  "kaggle": {
   "accelerator": "gpu",
   "dataSources": [
    {
     "datasetId": 7779624,
     "sourceId": 12340636,
     "sourceType": "datasetVersion"
    },
    {
     "datasetId": 7779594,
     "sourceId": 12340597,
     "sourceType": "datasetVersion"
    }
   ],
   "isGpuEnabled": true,
   "isInternetEnabled": true,
   "language": "python",
   "sourceType": "notebook"
  },
  "kernelspec": {
   "display_name": "Python 3",
   "language": "python",
   "name": "python3"
  },
  "language_info": {
   "codemirror_mode": {
    "name": "ipython",
    "version": 3
   },
   "file_extension": ".py",
   "mimetype": "text/x-python",
   "name": "python",
   "nbconvert_exporter": "python",
   "pygments_lexer": "ipython3",
   "version": "3.11.11"
  },
  "papermill": {
   "default_parameters": {},
   "duration": 4949.59118,
   "end_time": "2025-07-02T16:25:30.337824",
   "environment_variables": {},
   "exception": null,
   "input_path": "__notebook__.ipynb",
   "output_path": "__notebook__.ipynb",
   "parameters": {},
   "start_time": "2025-07-02T15:03:00.746644",
   "version": "2.4.0"
  }
 },
 "nbformat": 4,
 "nbformat_minor": 5
}
