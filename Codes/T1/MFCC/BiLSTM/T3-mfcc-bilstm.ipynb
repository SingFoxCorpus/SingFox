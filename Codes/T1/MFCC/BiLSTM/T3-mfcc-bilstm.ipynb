{
 "cells": [
  {
   "cell_type": "code",
   "execution_count": 1,
   "id": "76637379",
   "metadata": {
    "execution": {
     "iopub.execute_input": "2025-07-03T14:14:24.517974Z",
     "iopub.status.busy": "2025-07-03T14:14:24.517746Z",
     "iopub.status.idle": "2025-07-03T14:14:29.945442Z",
     "shell.execute_reply": "2025-07-03T14:14:29.944823Z"
    },
    "papermill": {
     "duration": 5.43397,
     "end_time": "2025-07-03T14:14:29.946900",
     "exception": false,
     "start_time": "2025-07-03T14:14:24.512930",
     "status": "completed"
    },
    "tags": []
   },
   "outputs": [],
   "source": [
    "import torch \n",
    "import torch.nn as nn\n",
    "import torch.nn.functional as F\n",
    "from torch.autograd import Variable\n",
    "from torch.utils.data import Dataset, DataLoader\n",
    "import os, pathlib, glob, random\n",
    "import numpy as np\n",
    "import matplotlib.pyplot as plt \n",
    "from sklearn.metrics import confusion_matrix\n",
    "import scipy\n",
    "from scipy import io"
   ]
  },
  {
   "cell_type": "code",
   "execution_count": 2,
   "id": "c85e197b",
   "metadata": {
    "execution": {
     "iopub.execute_input": "2025-07-03T14:14:29.955728Z",
     "iopub.status.busy": "2025-07-03T14:14:29.955351Z",
     "iopub.status.idle": "2025-07-03T14:14:30.015956Z",
     "shell.execute_reply": "2025-07-03T14:14:30.015033Z"
    },
    "papermill": {
     "duration": 0.06634,
     "end_time": "2025-07-03T14:14:30.017231",
     "exception": false,
     "start_time": "2025-07-03T14:14:29.950891",
     "status": "completed"
    },
    "tags": []
   },
   "outputs": [
    {
     "name": "stdout",
     "output_type": "stream",
     "text": [
      "cuda:0\n"
     ]
    }
   ],
   "source": [
    "device = torch.device('cuda:0' if torch.cuda.is_available() else 'cpu')\n",
    "print(device)"
   ]
  },
  {
   "cell_type": "code",
   "execution_count": 3,
   "id": "afdff554",
   "metadata": {
    "execution": {
     "iopub.execute_input": "2025-07-03T14:14:30.025449Z",
     "iopub.status.busy": "2025-07-03T14:14:30.025018Z",
     "iopub.status.idle": "2025-07-03T14:14:30.028581Z",
     "shell.execute_reply": "2025-07-03T14:14:30.027858Z"
    },
    "papermill": {
     "duration": 0.008938,
     "end_time": "2025-07-03T14:14:30.029857",
     "exception": false,
     "start_time": "2025-07-03T14:14:30.020919",
     "status": "completed"
    },
    "tags": []
   },
   "outputs": [],
   "source": [
    "batch_size = 32\n",
    "output_nodes = 2\n",
    "learning_rate = 0.003"
   ]
  },
  {
   "cell_type": "code",
   "execution_count": 4,
   "id": "a560c772",
   "metadata": {
    "execution": {
     "iopub.execute_input": "2025-07-03T14:14:30.037942Z",
     "iopub.status.busy": "2025-07-03T14:14:30.037366Z",
     "iopub.status.idle": "2025-07-03T14:14:30.442549Z",
     "shell.execute_reply": "2025-07-03T14:14:30.441666Z"
    },
    "papermill": {
     "duration": 0.410427,
     "end_time": "2025-07-03T14:14:30.443844",
     "exception": false,
     "start_time": "2025-07-03T14:14:30.033417",
     "status": "completed"
    },
    "tags": []
   },
   "outputs": [
    {
     "name": "stdout",
     "output_type": "stream",
     "text": [
      "Training samples: 17584\n",
      "Validation samples: 3768\n",
      "Testing samples: 3768\n"
     ]
    }
   ],
   "source": [
    "import os\n",
    "import random\n",
    "import scipy.io\n",
    "import numpy as np\n",
    "from torch.utils.data import Dataset, DataLoader\n",
    "\n",
    "# Paths for both datasets\n",
    "train_data_paths = [\n",
    "    r\"/kaggle/input/mfcc-t3-singfox/MFCC_T3/mfcc/train\" #,  # Language 1\n",
    "    # r\"/kaggle/input/singfox-t2-gfcc-icassp/GFCC_T2/gfcc/train\"   # Language 2\n",
    "]\n",
    "validation_data_paths = [\n",
    "    r\"/kaggle/input/mfcc-t3-singfox/MFCC_T3/mfcc/val\" #,\n",
    "    # r\"/kaggle/input/singfox-t2-gfcc-icassp/GFCC_T2/gfcc/val\"\n",
    "]\n",
    "testing_data_paths = [\n",
    "    r\"/kaggle/input/mfcc-t3-singfox/MFCC_T3/mfcc/test\" #,\n",
    "    # r\"/kaggle/input/singfox-t2-gfcc-icassp/GFCC_T2/gfcc/test\"\n",
    "]\n",
    "\n",
    "class MixedPtDataset(Dataset):\n",
    "    def __init__(self, directories):\n",
    "        \"\"\"Load features from multiple directories.\"\"\"\n",
    "        self.files = []\n",
    "        self.class_to_idx = {}\n",
    "\n",
    "        for directory in directories:\n",
    "            classes = sorted(entry.name for entry in os.scandir(directory) if entry.is_dir())\n",
    "            \n",
    "            # Assign class indices if not already assigned\n",
    "            for c in classes:\n",
    "                if c not in self.class_to_idx:\n",
    "                    self.class_to_idx[c] = len(self.class_to_idx)\n",
    "\n",
    "            for c in classes:\n",
    "                c_dir = os.path.join(directory, c)\n",
    "                c_files = [(os.path.join(c_dir, f), self.class_to_idx[c]) for f in os.listdir(c_dir)]\n",
    "                self.files.extend(c_files)\n",
    "\n",
    "        random.shuffle(self.files)\n",
    "\n",
    "    def __len__(self):\n",
    "        return len(self.files)\n",
    "\n",
    "    def __getitem__(self, idx):\n",
    "        filepath, label = self.files[idx]\n",
    "        try:\n",
    "            mat_vals = scipy.io.loadmat(filepath)\n",
    "            data = mat_vals['final'].T\n",
    "            max_len = 200\n",
    "            if max_len > data.shape[0]:\n",
    "                pad_width = max_len - data.shape[0]\n",
    "                data = np.pad(data, pad_width=((0, pad_width), (0, 0)), mode='constant')\n",
    "            else:\n",
    "                data = data[:max_len, :]\n",
    "        except Exception as e:\n",
    "            print(f\"Error loading file {filepath}: {str(e)}\")\n",
    "            return None\n",
    "        return data, label\n",
    "\n",
    "# Combine both datasets\n",
    "train_dataset = MixedPtDataset(train_data_paths)\n",
    "val_dataset = MixedPtDataset(validation_data_paths)\n",
    "test_dataset = MixedPtDataset(testing_data_paths)\n",
    "\n",
    "class PtDataLoader(DataLoader):\n",
    "    def __init__(self, directories, batch_size, shuffle=True):\n",
    "        dataset = MixedPtDataset(directories)\n",
    "        super().__init__(dataset, batch_size=batch_size, shuffle=shuffle)\n",
    "\n",
    "# Load mixed datasets\n",
    "batch_size = 32\n",
    "train_dataloader = PtDataLoader(directories=train_data_paths, batch_size=batch_size)\n",
    "val_dataloader = PtDataLoader(directories=validation_data_paths, batch_size=batch_size)\n",
    "test_dataloader = PtDataLoader(directories=testing_data_paths, batch_size=batch_size)\n",
    "\n",
    "train_count = len(train_dataset)\n",
    "val_count = len(val_dataset)\n",
    "test_count = len(test_dataset)\n",
    "\n",
    "print(f\"Training samples: {train_count}\\nValidation samples: {val_count}\\nTesting samples: {test_count}\")"
   ]
  },
  {
   "cell_type": "code",
   "execution_count": 5,
   "id": "1325a6db",
   "metadata": {
    "execution": {
     "iopub.execute_input": "2025-07-03T14:14:30.452300Z",
     "iopub.status.busy": "2025-07-03T14:14:30.451679Z",
     "iopub.status.idle": "2025-07-03T14:14:30.455950Z",
     "shell.execute_reply": "2025-07-03T14:14:30.455209Z"
    },
    "papermill": {
     "duration": 0.009586,
     "end_time": "2025-07-03T14:14:30.456993",
     "exception": false,
     "start_time": "2025-07-03T14:14:30.447407",
     "status": "completed"
    },
    "tags": []
   },
   "outputs": [
    {
     "name": "stdout",
     "output_type": "stream",
     "text": [
      "17584\n",
      "3768\n",
      "3768\n"
     ]
    }
   ],
   "source": [
    "print(train_count)\n",
    "print(test_count)\n",
    "print(val_count)"
   ]
  },
  {
   "cell_type": "code",
   "execution_count": 6,
   "id": "3f3ba47c",
   "metadata": {
    "execution": {
     "iopub.execute_input": "2025-07-03T14:14:30.464924Z",
     "iopub.status.busy": "2025-07-03T14:14:30.464677Z",
     "iopub.status.idle": "2025-07-03T14:14:30.468239Z",
     "shell.execute_reply": "2025-07-03T14:14:30.467681Z"
    },
    "papermill": {
     "duration": 0.008542,
     "end_time": "2025-07-03T14:14:30.469346",
     "exception": false,
     "start_time": "2025-07-03T14:14:30.460804",
     "status": "completed"
    },
    "tags": []
   },
   "outputs": [],
   "source": [
    "import torch\n",
    "from torch import nn\n",
    "from torch.nn import Parameter\n",
    "import torch.nn.functional as F"
   ]
  },
  {
   "cell_type": "code",
   "execution_count": 7,
   "id": "50116cfa",
   "metadata": {
    "execution": {
     "iopub.execute_input": "2025-07-03T14:14:30.477070Z",
     "iopub.status.busy": "2025-07-03T14:14:30.476837Z",
     "iopub.status.idle": "2025-07-03T14:14:30.480082Z",
     "shell.execute_reply": "2025-07-03T14:14:30.479535Z"
    },
    "papermill": {
     "duration": 0.008263,
     "end_time": "2025-07-03T14:14:30.481120",
     "exception": false,
     "start_time": "2025-07-03T14:14:30.472857",
     "status": "completed"
    },
    "tags": []
   },
   "outputs": [],
   "source": [
    "# Define the parameters\n",
    "input_size = 20\n",
    "hidden_size = 256\n",
    "num_layers = 2\n",
    "num_classes = 2\n",
    "# drop_amount = 0.25  # You can choose an appropriate dropout rate"
   ]
  },
  {
   "cell_type": "code",
   "execution_count": 8,
   "id": "84097d4b",
   "metadata": {
    "execution": {
     "iopub.execute_input": "2025-07-03T14:14:30.488692Z",
     "iopub.status.busy": "2025-07-03T14:14:30.488413Z",
     "iopub.status.idle": "2025-07-03T14:14:30.491957Z",
     "shell.execute_reply": "2025-07-03T14:14:30.491388Z"
    },
    "papermill": {
     "duration": 0.008474,
     "end_time": "2025-07-03T14:14:30.493033",
     "exception": false,
     "start_time": "2025-07-03T14:14:30.484559",
     "status": "completed"
    },
    "tags": []
   },
   "outputs": [],
   "source": [
    "import torch\n",
    "import torch.nn as nn\n",
    "import torch.optim as optim"
   ]
  },
  {
   "cell_type": "code",
   "execution_count": 9,
   "id": "c1c1f662",
   "metadata": {
    "execution": {
     "iopub.execute_input": "2025-07-03T14:14:30.500912Z",
     "iopub.status.busy": "2025-07-03T14:14:30.500384Z",
     "iopub.status.idle": "2025-07-03T14:14:55.258083Z",
     "shell.execute_reply": "2025-07-03T14:14:55.257269Z"
    },
    "papermill": {
     "duration": 24.763109,
     "end_time": "2025-07-03T14:14:55.259622",
     "exception": false,
     "start_time": "2025-07-03T14:14:30.496513",
     "status": "completed"
    },
    "tags": []
   },
   "outputs": [
    {
     "name": "stderr",
     "output_type": "stream",
     "text": [
      "2025-07-03 14:14:42.898248: E external/local_xla/xla/stream_executor/cuda/cuda_fft.cc:477] Unable to register cuFFT factory: Attempting to register factory for plugin cuFFT when one has already been registered\n",
      "WARNING: All log messages before absl::InitializeLog() is called are written to STDERR\n",
      "E0000 00:00:1751552083.073877      19 cuda_dnn.cc:8310] Unable to register cuDNN factory: Attempting to register factory for plugin cuDNN when one has already been registered\n",
      "E0000 00:00:1751552083.126179      19 cuda_blas.cc:1418] Unable to register cuBLAS factory: Attempting to register factory for plugin cuBLAS when one has already been registered\n"
     ]
    }
   ],
   "source": [
    "import torch \n",
    "import torch.nn as nn\n",
    "import torch.nn.functional as F\n",
    "from torch.autograd import Variable\n",
    "from torch.utils.data import Dataset, DataLoader\n",
    "import os, pathlib, glob, random\n",
    "import numpy as np\n",
    "import matplotlib.pyplot as plt \n",
    "import seaborn as sns\n",
    "from sklearn.metrics import confusion_matrix\n",
    "from transformers import WhisperProcessor, WhisperForConditionalGeneration\n",
    "from datasets import load_dataset\n",
    "from transformers.models.whisper.modeling_whisper import WhisperModel, WhisperEncoder\n",
    "from transformers.models.whisper.configuration_whisper import WhisperConfig\n",
    "from typing import Optional, Tuple, Union\n",
    "import torch\n",
    "import librosa \n",
    "import matplotlib.pyplot as plt\n",
    "import numpy as np\n",
    "import os, glob, pickle\n",
    "import scipy.io as sio\n",
    "from tqdm import tqdm\n",
    "import multiprocessing as mp \n",
    "import torch.optim as optim"
   ]
  },
  {
   "cell_type": "code",
   "execution_count": 10,
   "id": "8ec84efd",
   "metadata": {
    "execution": {
     "iopub.execute_input": "2025-07-03T14:14:55.268219Z",
     "iopub.status.busy": "2025-07-03T14:14:55.267400Z",
     "iopub.status.idle": "2025-07-03T14:14:55.271106Z",
     "shell.execute_reply": "2025-07-03T14:14:55.270354Z"
    },
    "papermill": {
     "duration": 0.008878,
     "end_time": "2025-07-03T14:14:55.272208",
     "exception": false,
     "start_time": "2025-07-03T14:14:55.263330",
     "status": "completed"
    },
    "tags": []
   },
   "outputs": [],
   "source": [
    "# BiLSTM"
   ]
  },
  {
   "cell_type": "code",
   "execution_count": 11,
   "id": "27147e18",
   "metadata": {
    "execution": {
     "iopub.execute_input": "2025-07-03T14:14:55.279887Z",
     "iopub.status.busy": "2025-07-03T14:14:55.279654Z",
     "iopub.status.idle": "2025-07-03T14:14:55.285387Z",
     "shell.execute_reply": "2025-07-03T14:14:55.284879Z"
    },
    "papermill": {
     "duration": 0.010793,
     "end_time": "2025-07-03T14:14:55.286476",
     "exception": false,
     "start_time": "2025-07-03T14:14:55.275683",
     "status": "completed"
    },
    "tags": []
   },
   "outputs": [],
   "source": [
    "drop_amount = 0.255\n",
    "\n",
    "class BiLSTMClassifier(nn.Module):\n",
    "    def __init__(self, input_size, hidden_size, num_layers, num_classes):\n",
    "        super(BiLSTMClassifier, self).__init__()\n",
    "        self.hidden_size = hidden_size\n",
    "        self.num_layers = num_layers\n",
    "        self.lstm = nn.LSTM(input_size, hidden_size, num_layers, batch_first=True, bidirectional=True)\n",
    "        self.dropout = nn.Dropout(p=drop_amount)\n",
    "        self.fc = nn.Linear(hidden_size*2, num_classes)\n",
    "\n",
    "    def forward(self, x):\n",
    "        h0 = torch.zeros(self.num_layers*2, x.size(0), self.hidden_size).to(device=x.device, dtype=torch.double)\n",
    "        c0 = torch.zeros(self.num_layers*2, x.size(0), self.hidden_size).to(device=x.device, dtype=torch.double)\n",
    "        out, _ = self.lstm(x, (h0, c0))\n",
    "        out = self.dropout(out)\n",
    "        # Extract the output of the last time step from both directions\n",
    "        last_hidden_state = torch.cat((out[:, -1, :self.hidden_size], out[:, 0, self.hidden_size:]), dim=1)\n",
    "        output = self.fc(last_hidden_state)\n",
    "        return output"
   ]
  },
  {
   "cell_type": "code",
   "execution_count": 12,
   "id": "6e671189",
   "metadata": {
    "execution": {
     "iopub.execute_input": "2025-07-03T14:14:55.294175Z",
     "iopub.status.busy": "2025-07-03T14:14:55.293939Z",
     "iopub.status.idle": "2025-07-03T14:14:55.297012Z",
     "shell.execute_reply": "2025-07-03T14:14:55.296500Z"
    },
    "papermill": {
     "duration": 0.008119,
     "end_time": "2025-07-03T14:14:55.298031",
     "exception": false,
     "start_time": "2025-07-03T14:14:55.289912",
     "status": "completed"
    },
    "tags": []
   },
   "outputs": [],
   "source": [
    "batch_size = 32\n",
    "output_nodes = 2\n",
    "learning_rate = 0.003"
   ]
  },
  {
   "cell_type": "code",
   "execution_count": 13,
   "id": "8a7e3a7e",
   "metadata": {
    "execution": {
     "iopub.execute_input": "2025-07-03T14:14:55.305520Z",
     "iopub.status.busy": "2025-07-03T14:14:55.305256Z",
     "iopub.status.idle": "2025-07-03T14:14:55.552959Z",
     "shell.execute_reply": "2025-07-03T14:14:55.552117Z"
    },
    "papermill": {
     "duration": 0.252728,
     "end_time": "2025-07-03T14:14:55.554097",
     "exception": false,
     "start_time": "2025-07-03T14:14:55.301369",
     "status": "completed"
    },
    "tags": []
   },
   "outputs": [
    {
     "name": "stdout",
     "output_type": "stream",
     "text": [
      "BiLSTMClassifier(\n",
      "  (lstm): LSTM(20, 256, num_layers=2, batch_first=True, bidirectional=True)\n",
      "  (dropout): Dropout(p=0.255, inplace=False)\n",
      "  (fc): Linear(in_features=512, out_features=2, bias=True)\n",
      ")\n"
     ]
    }
   ],
   "source": [
    "model = BiLSTMClassifier(input_size, hidden_size, num_layers, num_classes)\n",
    "model.to(device, dtype=torch.double)\n",
    "loss_function = nn.CrossEntropyLoss()\n",
    "optimizer = optim.Adam(model.parameters(), lr=learning_rate)\n",
    "print(model)"
   ]
  },
  {
   "cell_type": "code",
   "execution_count": 14,
   "id": "ca9ccc46",
   "metadata": {
    "execution": {
     "iopub.execute_input": "2025-07-03T14:14:55.562021Z",
     "iopub.status.busy": "2025-07-03T14:14:55.561781Z",
     "iopub.status.idle": "2025-07-03T14:14:55.565781Z",
     "shell.execute_reply": "2025-07-03T14:14:55.565038Z"
    },
    "papermill": {
     "duration": 0.009078,
     "end_time": "2025-07-03T14:14:55.566776",
     "exception": false,
     "start_time": "2025-07-03T14:14:55.557698",
     "status": "completed"
    },
    "tags": []
   },
   "outputs": [
    {
     "name": "stdout",
     "output_type": "stream",
     "text": [
      "BiLSTMClassifier(\n",
      "  (lstm): LSTM(20, 256, num_layers=2, batch_first=True, bidirectional=True)\n",
      "  (dropout): Dropout(p=0.255, inplace=False)\n",
      "  (fc): Linear(in_features=512, out_features=2, bias=True)\n",
      ")\n"
     ]
    }
   ],
   "source": [
    "print(model)"
   ]
  },
  {
   "cell_type": "code",
   "execution_count": 15,
   "id": "a31cfae7",
   "metadata": {
    "execution": {
     "iopub.execute_input": "2025-07-03T14:14:55.575344Z",
     "iopub.status.busy": "2025-07-03T14:14:55.575131Z",
     "iopub.status.idle": "2025-07-03T14:43:24.130625Z",
     "shell.execute_reply": "2025-07-03T14:43:24.129780Z"
    },
    "papermill": {
     "duration": 1708.561552,
     "end_time": "2025-07-03T14:43:24.131796",
     "exception": false,
     "start_time": "2025-07-03T14:14:55.570244",
     "status": "completed"
    },
    "tags": []
   },
   "outputs": [
    {
     "name": "stdout",
     "output_type": "stream",
     "text": [
      "\n",
      "Epoch 1/20 - Training...\n"
     ]
    },
    {
     "name": "stderr",
     "output_type": "stream",
     "text": [
      "Training Batches: 100%|██████████| 550/550 [02:24<00:00,  3.81it/s]\n"
     ]
    },
    {
     "name": "stdout",
     "output_type": "stream",
     "text": [
      "Epoch 1/20 - Validation...\n"
     ]
    },
    {
     "name": "stderr",
     "output_type": "stream",
     "text": [
      "Validation Batches: 100%|██████████| 118/118 [00:24<00:00,  4.90it/s]\n"
     ]
    },
    {
     "name": "stdout",
     "output_type": "stream",
     "text": [
      "Epoch: 1/20   Train Loss: 0.4897   Train Accuracy: 0.7472   Validation Accuracy: 0.7797\n",
      "\n",
      "Epoch 2/20 - Training...\n"
     ]
    },
    {
     "name": "stderr",
     "output_type": "stream",
     "text": [
      "Training Batches: 100%|██████████| 550/550 [01:11<00:00,  7.74it/s]\n"
     ]
    },
    {
     "name": "stdout",
     "output_type": "stream",
     "text": [
      "Epoch 2/20 - Validation...\n"
     ]
    },
    {
     "name": "stderr",
     "output_type": "stream",
     "text": [
      "Validation Batches: 100%|██████████| 118/118 [00:08<00:00, 13.41it/s]\n"
     ]
    },
    {
     "name": "stdout",
     "output_type": "stream",
     "text": [
      "Epoch: 2/20   Train Loss: 0.4613   Train Accuracy: 0.7676   Validation Accuracy: 0.7903\n",
      "\n",
      "Epoch 3/20 - Training...\n"
     ]
    },
    {
     "name": "stderr",
     "output_type": "stream",
     "text": [
      "Training Batches: 100%|██████████| 550/550 [01:10<00:00,  7.79it/s]\n"
     ]
    },
    {
     "name": "stdout",
     "output_type": "stream",
     "text": [
      "Epoch 3/20 - Validation...\n"
     ]
    },
    {
     "name": "stderr",
     "output_type": "stream",
     "text": [
      "Validation Batches: 100%|██████████| 118/118 [00:08<00:00, 13.64it/s]\n"
     ]
    },
    {
     "name": "stdout",
     "output_type": "stream",
     "text": [
      "Epoch: 3/20   Train Loss: 0.4198   Train Accuracy: 0.7989   Validation Accuracy: 0.8047\n",
      "\n",
      "Epoch 4/20 - Training...\n"
     ]
    },
    {
     "name": "stderr",
     "output_type": "stream",
     "text": [
      "Training Batches: 100%|██████████| 550/550 [01:11<00:00,  7.75it/s]\n"
     ]
    },
    {
     "name": "stdout",
     "output_type": "stream",
     "text": [
      "Epoch 4/20 - Validation...\n"
     ]
    },
    {
     "name": "stderr",
     "output_type": "stream",
     "text": [
      "Validation Batches: 100%|██████████| 118/118 [00:08<00:00, 13.60it/s]\n"
     ]
    },
    {
     "name": "stdout",
     "output_type": "stream",
     "text": [
      "Epoch: 4/20   Train Loss: 0.3951   Train Accuracy: 0.8138   Validation Accuracy: 0.8246\n",
      "\n",
      "Epoch 5/20 - Training...\n"
     ]
    },
    {
     "name": "stderr",
     "output_type": "stream",
     "text": [
      "Training Batches: 100%|██████████| 550/550 [01:10<00:00,  7.83it/s]\n"
     ]
    },
    {
     "name": "stdout",
     "output_type": "stream",
     "text": [
      "Epoch 5/20 - Validation...\n"
     ]
    },
    {
     "name": "stderr",
     "output_type": "stream",
     "text": [
      "Validation Batches: 100%|██████████| 118/118 [00:09<00:00, 13.10it/s]\n"
     ]
    },
    {
     "name": "stdout",
     "output_type": "stream",
     "text": [
      "Epoch: 5/20   Train Loss: 0.3828   Train Accuracy: 0.8212   Validation Accuracy: 0.8336\n",
      "\n",
      "Epoch 6/20 - Training...\n"
     ]
    },
    {
     "name": "stderr",
     "output_type": "stream",
     "text": [
      "Training Batches: 100%|██████████| 550/550 [01:10<00:00,  7.77it/s]\n"
     ]
    },
    {
     "name": "stdout",
     "output_type": "stream",
     "text": [
      "Epoch 6/20 - Validation...\n"
     ]
    },
    {
     "name": "stderr",
     "output_type": "stream",
     "text": [
      "Validation Batches: 100%|██████████| 118/118 [00:09<00:00, 12.88it/s]\n"
     ]
    },
    {
     "name": "stdout",
     "output_type": "stream",
     "text": [
      "Epoch: 6/20   Train Loss: 0.3598   Train Accuracy: 0.8300   Validation Accuracy: 0.8373\n",
      "\n",
      "Epoch 7/20 - Training...\n"
     ]
    },
    {
     "name": "stderr",
     "output_type": "stream",
     "text": [
      "Training Batches: 100%|██████████| 550/550 [01:11<00:00,  7.68it/s]\n"
     ]
    },
    {
     "name": "stdout",
     "output_type": "stream",
     "text": [
      "Epoch 7/20 - Validation...\n"
     ]
    },
    {
     "name": "stderr",
     "output_type": "stream",
     "text": [
      "Validation Batches: 100%|██████████| 118/118 [00:08<00:00, 13.58it/s]\n"
     ]
    },
    {
     "name": "stdout",
     "output_type": "stream",
     "text": [
      "Epoch: 7/20   Train Loss: 0.3403   Train Accuracy: 0.8404   Validation Accuracy: 0.8501\n",
      "\n",
      "Epoch 8/20 - Training...\n"
     ]
    },
    {
     "name": "stderr",
     "output_type": "stream",
     "text": [
      "Training Batches: 100%|██████████| 550/550 [01:14<00:00,  7.34it/s]\n"
     ]
    },
    {
     "name": "stdout",
     "output_type": "stream",
     "text": [
      "Epoch 8/20 - Validation...\n"
     ]
    },
    {
     "name": "stderr",
     "output_type": "stream",
     "text": [
      "Validation Batches: 100%|██████████| 118/118 [00:09<00:00, 12.00it/s]\n"
     ]
    },
    {
     "name": "stdout",
     "output_type": "stream",
     "text": [
      "Epoch: 8/20   Train Loss: 0.3312   Train Accuracy: 0.8441   Validation Accuracy: 0.8288\n",
      "\n",
      "Epoch 9/20 - Training...\n"
     ]
    },
    {
     "name": "stderr",
     "output_type": "stream",
     "text": [
      "Training Batches: 100%|██████████| 550/550 [01:14<00:00,  7.35it/s]\n"
     ]
    },
    {
     "name": "stdout",
     "output_type": "stream",
     "text": [
      "Epoch 9/20 - Validation...\n"
     ]
    },
    {
     "name": "stderr",
     "output_type": "stream",
     "text": [
      "Validation Batches: 100%|██████████| 118/118 [00:08<00:00, 13.24it/s]\n"
     ]
    },
    {
     "name": "stdout",
     "output_type": "stream",
     "text": [
      "Epoch: 9/20   Train Loss: 0.3216   Train Accuracy: 0.8484   Validation Accuracy: 0.8511\n",
      "\n",
      "Epoch 10/20 - Training...\n"
     ]
    },
    {
     "name": "stderr",
     "output_type": "stream",
     "text": [
      "Training Batches: 100%|██████████| 550/550 [01:11<00:00,  7.71it/s]\n"
     ]
    },
    {
     "name": "stdout",
     "output_type": "stream",
     "text": [
      "Epoch 10/20 - Validation...\n"
     ]
    },
    {
     "name": "stderr",
     "output_type": "stream",
     "text": [
      "Validation Batches: 100%|██████████| 118/118 [00:09<00:00, 12.50it/s]\n"
     ]
    },
    {
     "name": "stdout",
     "output_type": "stream",
     "text": [
      "Epoch: 10/20   Train Loss: 0.3070   Train Accuracy: 0.8564   Validation Accuracy: 0.8439\n",
      "\n",
      "Epoch 11/20 - Training...\n"
     ]
    },
    {
     "name": "stderr",
     "output_type": "stream",
     "text": [
      "Training Batches: 100%|██████████| 550/550 [01:12<00:00,  7.55it/s]\n"
     ]
    },
    {
     "name": "stdout",
     "output_type": "stream",
     "text": [
      "Epoch 11/20 - Validation...\n"
     ]
    },
    {
     "name": "stderr",
     "output_type": "stream",
     "text": [
      "Validation Batches: 100%|██████████| 118/118 [00:09<00:00, 12.73it/s]\n"
     ]
    },
    {
     "name": "stdout",
     "output_type": "stream",
     "text": [
      "Epoch: 11/20   Train Loss: 0.2988   Train Accuracy: 0.8631   Validation Accuracy: 0.8631\n",
      "\n",
      "Epoch 12/20 - Training...\n"
     ]
    },
    {
     "name": "stderr",
     "output_type": "stream",
     "text": [
      "Training Batches: 100%|██████████| 550/550 [01:11<00:00,  7.68it/s]\n"
     ]
    },
    {
     "name": "stdout",
     "output_type": "stream",
     "text": [
      "Epoch 12/20 - Validation...\n"
     ]
    },
    {
     "name": "stderr",
     "output_type": "stream",
     "text": [
      "Validation Batches: 100%|██████████| 118/118 [00:08<00:00, 13.47it/s]\n"
     ]
    },
    {
     "name": "stdout",
     "output_type": "stream",
     "text": [
      "Epoch: 12/20   Train Loss: 0.2871   Train Accuracy: 0.8673   Validation Accuracy: 0.8567\n",
      "\n",
      "Epoch 13/20 - Training...\n"
     ]
    },
    {
     "name": "stderr",
     "output_type": "stream",
     "text": [
      "Training Batches: 100%|██████████| 550/550 [01:12<00:00,  7.60it/s]\n"
     ]
    },
    {
     "name": "stdout",
     "output_type": "stream",
     "text": [
      "Epoch 13/20 - Validation...\n"
     ]
    },
    {
     "name": "stderr",
     "output_type": "stream",
     "text": [
      "Validation Batches: 100%|██████████| 118/118 [00:09<00:00, 12.42it/s]\n"
     ]
    },
    {
     "name": "stdout",
     "output_type": "stream",
     "text": [
      "Epoch: 13/20   Train Loss: 0.2789   Train Accuracy: 0.8715   Validation Accuracy: 0.8641\n",
      "\n",
      "Epoch 14/20 - Training...\n"
     ]
    },
    {
     "name": "stderr",
     "output_type": "stream",
     "text": [
      "Training Batches: 100%|██████████| 550/550 [01:12<00:00,  7.61it/s]\n"
     ]
    },
    {
     "name": "stdout",
     "output_type": "stream",
     "text": [
      "Epoch 14/20 - Validation...\n"
     ]
    },
    {
     "name": "stderr",
     "output_type": "stream",
     "text": [
      "Validation Batches: 100%|██████████| 118/118 [00:09<00:00, 13.10it/s]\n"
     ]
    },
    {
     "name": "stdout",
     "output_type": "stream",
     "text": [
      "Epoch: 14/20   Train Loss: 0.2791   Train Accuracy: 0.8720   Validation Accuracy: 0.8678\n",
      "\n",
      "Epoch 15/20 - Training...\n"
     ]
    },
    {
     "name": "stderr",
     "output_type": "stream",
     "text": [
      "Training Batches: 100%|██████████| 550/550 [01:11<00:00,  7.66it/s]\n"
     ]
    },
    {
     "name": "stdout",
     "output_type": "stream",
     "text": [
      "Epoch 15/20 - Validation...\n"
     ]
    },
    {
     "name": "stderr",
     "output_type": "stream",
     "text": [
      "Validation Batches: 100%|██████████| 118/118 [00:08<00:00, 13.36it/s]\n"
     ]
    },
    {
     "name": "stdout",
     "output_type": "stream",
     "text": [
      "Epoch: 15/20   Train Loss: 0.2716   Train Accuracy: 0.8743   Validation Accuracy: 0.8458\n",
      "\n",
      "Epoch 16/20 - Training...\n"
     ]
    },
    {
     "name": "stderr",
     "output_type": "stream",
     "text": [
      "Training Batches: 100%|██████████| 550/550 [01:11<00:00,  7.70it/s]\n"
     ]
    },
    {
     "name": "stdout",
     "output_type": "stream",
     "text": [
      "Epoch 16/20 - Validation...\n"
     ]
    },
    {
     "name": "stderr",
     "output_type": "stream",
     "text": [
      "Validation Batches: 100%|██████████| 118/118 [00:08<00:00, 13.23it/s]\n"
     ]
    },
    {
     "name": "stdout",
     "output_type": "stream",
     "text": [
      "Epoch: 16/20   Train Loss: 0.2698   Train Accuracy: 0.8745   Validation Accuracy: 0.8686\n",
      "\n",
      "Epoch 17/20 - Training...\n"
     ]
    },
    {
     "name": "stderr",
     "output_type": "stream",
     "text": [
      "Training Batches: 100%|██████████| 550/550 [01:11<00:00,  7.72it/s]\n"
     ]
    },
    {
     "name": "stdout",
     "output_type": "stream",
     "text": [
      "Epoch 17/20 - Validation...\n"
     ]
    },
    {
     "name": "stderr",
     "output_type": "stream",
     "text": [
      "Validation Batches: 100%|██████████| 118/118 [00:09<00:00, 13.01it/s]\n"
     ]
    },
    {
     "name": "stdout",
     "output_type": "stream",
     "text": [
      "Epoch: 17/20   Train Loss: 0.2569   Train Accuracy: 0.8809   Validation Accuracy: 0.8734\n",
      "\n",
      "Epoch 18/20 - Training...\n"
     ]
    },
    {
     "name": "stderr",
     "output_type": "stream",
     "text": [
      "Training Batches: 100%|██████████| 550/550 [01:12<00:00,  7.55it/s]\n"
     ]
    },
    {
     "name": "stdout",
     "output_type": "stream",
     "text": [
      "Epoch 18/20 - Validation...\n"
     ]
    },
    {
     "name": "stderr",
     "output_type": "stream",
     "text": [
      "Validation Batches: 100%|██████████| 118/118 [00:08<00:00, 13.56it/s]\n"
     ]
    },
    {
     "name": "stdout",
     "output_type": "stream",
     "text": [
      "Epoch: 18/20   Train Loss: 0.2702   Train Accuracy: 0.8764   Validation Accuracy: 0.8410\n",
      "\n",
      "Epoch 19/20 - Training...\n"
     ]
    },
    {
     "name": "stderr",
     "output_type": "stream",
     "text": [
      "Training Batches: 100%|██████████| 550/550 [01:13<00:00,  7.45it/s]\n"
     ]
    },
    {
     "name": "stdout",
     "output_type": "stream",
     "text": [
      "Epoch 19/20 - Validation...\n"
     ]
    },
    {
     "name": "stderr",
     "output_type": "stream",
     "text": [
      "Validation Batches: 100%|██████████| 118/118 [00:09<00:00, 12.09it/s]\n"
     ]
    },
    {
     "name": "stdout",
     "output_type": "stream",
     "text": [
      "Epoch: 19/20   Train Loss: 0.2532   Train Accuracy: 0.8826   Validation Accuracy: 0.8697\n",
      "\n",
      "Epoch 20/20 - Training...\n"
     ]
    },
    {
     "name": "stderr",
     "output_type": "stream",
     "text": [
      "Training Batches: 100%|██████████| 550/550 [01:11<00:00,  7.72it/s]\n"
     ]
    },
    {
     "name": "stdout",
     "output_type": "stream",
     "text": [
      "Epoch 20/20 - Validation...\n"
     ]
    },
    {
     "name": "stderr",
     "output_type": "stream",
     "text": [
      "Validation Batches: 100%|██████████| 118/118 [00:08<00:00, 13.19it/s]"
     ]
    },
    {
     "name": "stdout",
     "output_type": "stream",
     "text": [
      "Epoch: 20/20   Train Loss: 0.2437   Train Accuracy: 0.8881   Validation Accuracy: 0.8731\n",
      "\n",
      "Maximum Validation Accuracy: 0.8734076433121019\n",
      "Finished Training and Validation\n"
     ]
    },
    {
     "name": "stderr",
     "output_type": "stream",
     "text": [
      "\n"
     ]
    }
   ],
   "source": [
    "from tqdm import tqdm\n",
    "import torch\n",
    "from torch.autograd import Variable\n",
    "\n",
    "# Model training and testing\n",
    "n_total_steps = len(train_dataloader)\n",
    "train_accuracy_list = []\n",
    "train_loss_list = []\n",
    "val_accuracy_list = []\n",
    "max_acc = 0\n",
    "num_epochs = 20\n",
    "pred_labels = []\n",
    "act_labels = []\n",
    "\n",
    "for epoch in range(num_epochs):\n",
    "    \n",
    "    # Training phase\n",
    "    model.train()\n",
    "    train_accuracy = 0.0\n",
    "    train_loss = 0.0\n",
    "    \n",
    "    print(f\"\\nEpoch {epoch + 1}/{num_epochs} - Training...\")\n",
    "    \n",
    "    # Use tqdm for progress bar in training loop\n",
    "    for batch_idx, (images, labels) in enumerate(tqdm(train_dataloader, desc=\"Training Batches\")):\n",
    "        if torch.cuda.is_available():\n",
    "            images = Variable(images.cuda())\n",
    "            labels = Variable(labels.cuda())\n",
    "        \n",
    "        optimizer.zero_grad()\n",
    "        outputs = model(images)\n",
    "        loss = loss_function(outputs, labels)\n",
    "        loss.backward()\n",
    "        optimizer.step()\n",
    "\n",
    "        train_loss += loss.cpu().data * images.size(0)\n",
    "        _, prediction = torch.max(outputs.data, 1)\n",
    "        train_accuracy += int(torch.sum(prediction == labels.data))\n",
    "    \n",
    "    train_accuracy = train_accuracy / train_count\n",
    "    train_loss = train_loss / train_count\n",
    "    \n",
    "    train_accuracy_list.append(train_accuracy)\n",
    "    train_loss_list.append(train_loss)\n",
    "\n",
    "    # Validation phase\n",
    "    model.eval()\n",
    "    val_accuracy = 0.0\n",
    "    pred = []\n",
    "    lab = []\n",
    "    \n",
    "    print(f\"Epoch {epoch + 1}/{num_epochs} - Validation...\")\n",
    "    \n",
    "    # Use tqdm for progress bar in validation loop\n",
    "    for i, (images, labels) in enumerate(tqdm(val_dataloader, desc=\"Validation Batches\")):\n",
    "        if torch.cuda.is_available():\n",
    "            images = Variable(images.cuda())\n",
    "            labels = Variable(labels.cuda())\n",
    "        \n",
    "        outputs = model(images)\n",
    "        _, prediction = torch.max(outputs.data, 1)\n",
    "        val_accuracy += int(torch.sum(prediction == labels.data))\n",
    "        \n",
    "        pred.extend(prediction.tolist())\n",
    "        lab.extend(labels.tolist())\n",
    "    \n",
    "    val_accuracy = val_accuracy / val_count\n",
    "    val_accuracy_list.append(val_accuracy)\n",
    "    \n",
    "    # Save best model\n",
    "    if max_acc < val_accuracy:\n",
    "        max_acc = val_accuracy\n",
    "        pred_labels = pred\n",
    "        actual_labels = lab\n",
    "        torch.save(model, \"best_accuracy_model_BiLSTM.pth\")\n",
    "    \n",
    "    print(f'Epoch: {epoch + 1}/{num_epochs}   '\n",
    "          f'Train Loss: {train_loss:.4f}   '\n",
    "          f'Train Accuracy: {train_accuracy:.4f}   '\n",
    "          f'Validation Accuracy: {val_accuracy:.4f}')\n",
    "\n",
    "print('\\nMaximum Validation Accuracy:', max_acc)\n",
    "print('Finished Training and Validation')\n"
   ]
  },
  {
   "cell_type": "code",
   "execution_count": 16,
   "id": "88e47ebf",
   "metadata": {
    "execution": {
     "iopub.execute_input": "2025-07-03T14:43:25.095981Z",
     "iopub.status.busy": "2025-07-03T14:43:25.095351Z",
     "iopub.status.idle": "2025-07-03T14:43:54.222626Z",
     "shell.execute_reply": "2025-07-03T14:43:54.221780Z"
    },
    "papermill": {
     "duration": 29.611174,
     "end_time": "2025-07-03T14:43:54.223880",
     "exception": false,
     "start_time": "2025-07-03T14:43:24.612706",
     "status": "completed"
    },
    "tags": []
   },
   "outputs": [
    {
     "name": "stdout",
     "output_type": "stream",
     "text": [
      "testing Accuracy: 0.8755307855626328\n"
     ]
    }
   ],
   "source": [
    "# Load the best model\n",
    "best_model = torch.load(\"best_accuracy_model_BiLSTM.pth\", weights_only=False)\n",
    "\n",
    "# Put the best_model in evaluation mode\n",
    "best_model.eval()\n",
    "\n",
    "# Initialize variables to store results\n",
    "testing_accuracy = 0.0\n",
    "pred_labels = []\n",
    "act_labels = []\n",
    "\n",
    "# Pass validation data through the best model\n",
    "for i, (images, labels) in enumerate(test_dataloader):\n",
    "    if torch.cuda.is_available():\n",
    "        images = Variable(images.cuda())\n",
    "        labels = Variable(labels.cuda())\n",
    "    \n",
    "    outputs = best_model(images)\n",
    "    _, prediction = torch.max(outputs.data, 1)\n",
    "    \n",
    "    testing_accuracy += int(torch.sum(prediction == labels.data))\n",
    "    \n",
    "    pred_labels.extend(prediction.tolist())\n",
    "    act_labels.extend(labels.tolist())\n",
    "\n",
    "# Calculate validation accuracy\n",
    "testing_accuracy = testing_accuracy / len(test_dataloader.dataset)\n",
    "\n",
    "# Print the validation accuracy\n",
    "print(\"testing Accuracy:\", testing_accuracy)"
   ]
  },
  {
   "cell_type": "code",
   "execution_count": 17,
   "id": "189ed853",
   "metadata": {
    "execution": {
     "iopub.execute_input": "2025-07-03T14:43:55.228584Z",
     "iopub.status.busy": "2025-07-03T14:43:55.227863Z",
     "iopub.status.idle": "2025-07-03T14:44:04.258549Z",
     "shell.execute_reply": "2025-07-03T14:44:04.257794Z"
    },
    "papermill": {
     "duration": 9.50932,
     "end_time": "2025-07-03T14:44:04.259535",
     "exception": false,
     "start_time": "2025-07-03T14:43:54.750215",
     "status": "completed"
    },
    "tags": []
   },
   "outputs": [
    {
     "name": "stdout",
     "output_type": "stream",
     "text": [
      "Testing Accuracy     : 0.8755\n",
      "Precision            : 0.8419\n",
      "Recall               : 0.9232\n",
      "F1 Score (Macro)     : 0.8753\n",
      "F1 Score (Micro)     : 0.8755\n",
      "Hamming Loss         : 0.1245\n",
      "AUC                  : 0.9449\n",
      "EER                  : 0.1294 at threshold 0.6140\n"
     ]
    },
    {
     "data": {
      "image/png": "[encoded data removed]",
      "text/plain": [
       "<Figure size 640x480 with 1 Axes>"
      ]
     },
     "metadata": {},
     "output_type": "display_data"
    }
   ],
   "source": [
    "from sklearn.metrics import (accuracy_score, precision_score, recall_score, f1_score,\n",
    "                             roc_curve, auc, hamming_loss, confusion_matrix, roc_auc_score)\n",
    "import matplotlib.pyplot as plt\n",
    "import numpy as np\n",
    "# Load best model\n",
    "best_model = torch.load(\"best_accuracy_model_BiLSTM.pth\", weights_only=False)\n",
    "best_model.eval()\n",
    "\n",
    "pred_labels = []\n",
    "act_labels = []\n",
    "pred_probs = []\n",
    "\n",
    "# Evaluate\n",
    "for images, labels in test_dataloader:\n",
    "    if torch.cuda.is_available():\n",
    "        images = images.cuda()\n",
    "        labels = labels.cuda()\n",
    "    \n",
    "    with torch.no_grad():\n",
    "        outputs = best_model(images)\n",
    "        probs = torch.softmax(outputs, dim=1)[:, 1]  # probability for class 1\n",
    "        preds = torch.argmax(outputs, dim=1)\n",
    "    \n",
    "    pred_labels.extend(preds.cpu().tolist())\n",
    "    act_labels.extend(labels.cpu().tolist())\n",
    "    pred_probs.extend(probs.cpu().tolist())\n",
    "\n",
    "# Convert to NumPy\n",
    "y_true = np.array(act_labels)\n",
    "y_pred = np.array(pred_labels)\n",
    "y_score = np.array(pred_probs)\n",
    "\n",
    "# Basic Metrics\n",
    "acc = accuracy_score(y_true, y_pred)\n",
    "prec = precision_score(y_true, y_pred)\n",
    "rec = recall_score(y_true, y_pred)\n",
    "f1_macro = f1_score(y_true, y_pred, average='macro')\n",
    "f1_micro = f1_score(y_true, y_pred, average='micro')\n",
    "hamming = hamming_loss(y_true, y_pred)\n",
    "conf_mat = confusion_matrix(y_true, y_pred)\n",
    "\n",
    "# ROC and AUC\n",
    "fpr, tpr, thresholds = roc_curve(y_true, y_score)\n",
    "roc_auc = auc(fpr, tpr)\n",
    "\n",
    "# EER calculation\n",
    "fnr = 1 - tpr\n",
    "eer_threshold = thresholds[np.nanargmin(np.absolute(fnr - fpr))]\n",
    "eer = fpr[np.nanargmin(np.absolute(fnr - fpr))]\n",
    "\n",
    "# Print all\n",
    "print(f\"Testing Accuracy     : {acc:.4f}\")\n",
    "print(f\"Precision            : {prec:.4f}\")\n",
    "print(f\"Recall               : {rec:.4f}\")\n",
    "print(f\"F1 Score (Macro)     : {f1_macro:.4f}\")\n",
    "print(f\"F1 Score (Micro)     : {f1_micro:.4f}\")\n",
    "print(f\"Hamming Loss         : {hamming:.4f}\")\n",
    "# print(f\"Confusion Matrix     :\\n{conf_mat}\")\n",
    "print(f\"AUC                  : {roc_auc:.4f}\")\n",
    "print(f\"EER                  : {eer:.4f} at threshold {eer_threshold:.4f}\")\n",
    "\n",
    "# Optional: Plot ROC\n",
    "plt.figure()\n",
    "plt.plot(fpr, tpr, label=f'ROC curve (AUC = {roc_auc:.4f})')\n",
    "plt.plot([0, 1], [0, 1], 'k--')\n",
    "plt.xlabel('False Positive Rate')\n",
    "plt.ylabel('True Positive Rate')\n",
    "plt.title('ROC Curve')\n",
    "plt.legend(loc='lower right')\n",
    "plt.grid(True)\n",
    "plt.show()"
   ]
  },
  {
   "cell_type": "code",
   "execution_count": 18,
   "id": "249c5e32",
   "metadata": {
    "execution": {
     "iopub.execute_input": "2025-07-03T14:44:05.261802Z",
     "iopub.status.busy": "2025-07-03T14:44:05.261204Z",
     "iopub.status.idle": "2025-07-03T14:44:05.391529Z",
     "shell.execute_reply": "2025-07-03T14:44:05.390843Z"
    },
    "papermill": {
     "duration": 0.605249,
     "end_time": "2025-07-03T14:44:05.392639",
     "exception": false,
     "start_time": "2025-07-03T14:44:04.787390",
     "status": "completed"
    },
    "tags": []
   },
   "outputs": [
    {
     "data": {
      "image/png": "[encoded data removed]",
      "text/plain": [
       "<Figure size 640x480 with 1 Axes>"
      ]
     },
     "metadata": {},
     "output_type": "display_data"
    }
   ],
   "source": [
    "from sklearn.metrics import det_curve, DetCurveDisplay\n",
    "\n",
    "# Compute DET curve data\n",
    "fpr_det, fnr_det, det_thresholds = det_curve(y_true, y_score)\n",
    "\n",
    "# Plot DET curve using Display\n",
    "import matplotlib.pyplot as plt\n",
    "\n",
    "disp = DetCurveDisplay(fpr=fpr_det, fnr=fnr_det, estimator_name=\"BiLSTM\")\n",
    "disp.plot()\n",
    "plt.title(\"Detection Error Tradeoff (DET) Curve\")\n",
    "plt.grid(True)\n",
    "plt.show()\n"
   ]
  },
  {
   "cell_type": "code",
   "execution_count": 19,
   "id": "61dbe51d",
   "metadata": {
    "execution": {
     "iopub.execute_input": "2025-07-03T14:44:06.394796Z",
     "iopub.status.busy": "2025-07-03T14:44:06.394492Z",
     "iopub.status.idle": "2025-07-03T14:44:06.398031Z",
     "shell.execute_reply": "2025-07-03T14:44:06.397328Z"
    },
    "papermill": {
     "duration": 0.476668,
     "end_time": "2025-07-03T14:44:06.399160",
     "exception": false,
     "start_time": "2025-07-03T14:44:05.922492",
     "status": "completed"
    },
    "tags": []
   },
   "outputs": [],
   "source": [
    "# from sklearn.metrics import det_curve\n",
    "# import numpy as np\n",
    "\n",
    "# # Compute DET curve arrays\n",
    "# fpr_det, fnr_det, det_thresholds = det_curve(y_true, y_score)\n",
    "\n",
    "# # Display summary\n",
    "# print(\"Number of thresholds:\", len(det_thresholds))\n",
    "# for i in range(min(10, len(det_thresholds))):\n",
    "#     print(f\"Thresh ≥ {det_thresholds[i]:.4f}: FPR = {fpr_det[i]:.4f}, FNR = {fnr_det[i]:.4f}\")\n"
   ]
  },
  {
   "cell_type": "code",
   "execution_count": 20,
   "id": "1e9bd649",
   "metadata": {
    "execution": {
     "iopub.execute_input": "2025-07-03T14:44:07.394280Z",
     "iopub.status.busy": "2025-07-03T14:44:07.393999Z",
     "iopub.status.idle": "2025-07-03T14:44:07.570413Z",
     "shell.execute_reply": "2025-07-03T14:44:07.569703Z"
    },
    "papermill": {
     "duration": 0.701165,
     "end_time": "2025-07-03T14:44:07.571659",
     "exception": false,
     "start_time": "2025-07-03T14:44:06.870494",
     "status": "completed"
    },
    "tags": []
   },
   "outputs": [
    {
     "data": {
      "image/png": "[encoded data removed]",
      "text/plain": [
       "<Figure size 640x480 with 2 Axes>"
      ]
     },
     "metadata": {},
     "output_type": "display_data"
    }
   ],
   "source": [
    "from sklearn.metrics import confusion_matrix, ConfusionMatrixDisplay\n",
    "import matplotlib.pyplot as plt\n",
    "\n",
    "# Set correct class names\n",
    "class_names = [\"Fake\", \"Real\"]  # 0 = Fake, 1 = Real\n",
    "\n",
    "# Create confusion matrix\n",
    "cm = confusion_matrix(act_labels, pred_labels)\n",
    "\n",
    "# Display it\n",
    "disp = ConfusionMatrixDisplay(confusion_matrix=cm, display_labels=class_names)\n",
    "disp.plot(values_format='d')\n",
    "\n",
    "plt.title(\"Confusion Matrix\")\n",
    "plt.xlabel(\"Predicted Label\")\n",
    "plt.ylabel(\"True Label\")\n",
    "plt.grid(False)\n",
    "plt.tight_layout()\n",
    "plt.show()\n"
   ]
  }
 ],
 "metadata": {
  "kaggle": {
   "accelerator": "gpu",
   "dataSources": [
    {
     "datasetId": 7793397,
     "sourceId": 12361086,
     "sourceType": "datasetVersion"
    },
    {
     "datasetId": 7793381,
     "sourceId": 12361067,
     "sourceType": "datasetVersion"
    }
   ],
   "dockerImageVersionId": 31041,
   "isGpuEnabled": true,
   "isInternetEnabled": true,
   "language": "python",
   "sourceType": "notebook"
  },
  "kernelspec": {
   "display_name": "Python 3",
   "language": "python",
   "name": "python3"
  },
  "language_info": {
   "codemirror_mode": {
    "name": "ipython",
    "version": 3
   },
   "file_extension": ".py",
   "mimetype": "text/x-python",
   "name": "python",
   "nbconvert_exporter": "python",
   "pygments_lexer": "ipython3",
   "version": "3.11.11"
  },
  "papermill": {
   "default_parameters": {},
   "duration": 1791.229269,
   "end_time": "2025-07-03T14:44:11.695048",
   "environment_variables": {},
   "exception": null,
   "input_path": "__notebook__.ipynb",
   "output_path": "__notebook__.ipynb",
   "parameters": {},
   "start_time": "2025-07-03T14:14:20.465779",
   "version": "2.4.0"
  }
 },
 "nbformat": 4,
 "nbformat_minor": 5
}
