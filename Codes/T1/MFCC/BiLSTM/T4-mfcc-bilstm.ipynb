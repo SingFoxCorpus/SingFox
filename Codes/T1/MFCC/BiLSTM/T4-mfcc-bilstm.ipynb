{
 "cells": [
  {
   "cell_type": "code",
   "execution_count": 1,
   "id": "5269e676",
   "metadata": {
    "execution": {
     "iopub.execute_input": "2025-09-16T15:38:20.057668Z",
     "iopub.status.busy": "2025-09-16T15:38:20.057402Z",
     "iopub.status.idle": "2025-09-16T15:38:26.258616Z",
     "shell.execute_reply": "2025-09-16T15:38:26.257782Z"
    },
    "papermill": {
     "duration": 6.207843,
     "end_time": "2025-09-16T15:38:26.260110",
     "exception": false,
     "start_time": "2025-09-16T15:38:20.052267",
     "status": "completed"
    },
    "tags": []
   },
   "outputs": [],
   "source": [
    "import torch \n",
    "import torch.nn as nn\n",
    "import torch.nn.functional as F\n",
    "from torch.autograd import Variable\n",
    "from torch.utils.data import Dataset, DataLoader\n",
    "import os, pathlib, glob, random\n",
    "import numpy as np\n",
    "import matplotlib.pyplot as plt \n",
    "from sklearn.metrics import confusion_matrix\n",
    "import scipy\n",
    "from scipy import io"
   ]
  },
  {
   "cell_type": "code",
   "execution_count": 2,
   "id": "7b6e5d03",
   "metadata": {
    "execution": {
     "iopub.execute_input": "2025-09-16T15:38:26.268556Z",
     "iopub.status.busy": "2025-09-16T15:38:26.267806Z",
     "iopub.status.idle": "2025-09-16T15:38:26.332541Z",
     "shell.execute_reply": "2025-09-16T15:38:26.331748Z"
    },
    "papermill": {
     "duration": 0.069929,
     "end_time": "2025-09-16T15:38:26.333771",
     "exception": false,
     "start_time": "2025-09-16T15:38:26.263842",
     "status": "completed"
    },
    "tags": []
   },
   "outputs": [
    {
     "name": "stdout",
     "output_type": "stream",
     "text": [
      "cuda:0\n"
     ]
    }
   ],
   "source": [
    "device = torch.device('cuda:0' if torch.cuda.is_available() else 'cpu')\n",
    "print(device)"
   ]
  },
  {
   "cell_type": "code",
   "execution_count": 3,
   "id": "b853a760",
   "metadata": {
    "execution": {
     "iopub.execute_input": "2025-09-16T15:38:26.341750Z",
     "iopub.status.busy": "2025-09-16T15:38:26.341258Z",
     "iopub.status.idle": "2025-09-16T15:38:26.344895Z",
     "shell.execute_reply": "2025-09-16T15:38:26.344103Z"
    },
    "papermill": {
     "duration": 0.008702,
     "end_time": "2025-09-16T15:38:26.346063",
     "exception": false,
     "start_time": "2025-09-16T15:38:26.337361",
     "status": "completed"
    },
    "tags": []
   },
   "outputs": [],
   "source": [
    "batch_size = 32\n",
    "output_nodes = 2\n",
    "learning_rate = 0.003"
   ]
  },
  {
   "cell_type": "code",
   "execution_count": 4,
   "id": "782cf91e",
   "metadata": {
    "execution": {
     "iopub.execute_input": "2025-09-16T15:38:26.353925Z",
     "iopub.status.busy": "2025-09-16T15:38:26.353502Z",
     "iopub.status.idle": "2025-09-16T15:38:26.982277Z",
     "shell.execute_reply": "2025-09-16T15:38:26.981441Z"
    },
    "papermill": {
     "duration": 0.634001,
     "end_time": "2025-09-16T15:38:26.983467",
     "exception": false,
     "start_time": "2025-09-16T15:38:26.349466",
     "status": "completed"
    },
    "tags": []
   },
   "outputs": [
    {
     "name": "stdout",
     "output_type": "stream",
     "text": [
      "Training samples: 30669\n",
      "Validation samples: 3801\n",
      "Testing samples: 3825\n"
     ]
    }
   ],
   "source": [
    "import os\n",
    "import random\n",
    "import scipy.io\n",
    "import numpy as np\n",
    "from torch.utils.data import Dataset, DataLoader\n",
    "\n",
    "# Paths for both datasets\n",
    "train_data_paths = [\n",
    "    # r\"/kaggle/input/singfox-t2-mfcc-icassp/MFCC_T2/mfcc/train\", #,  # Language 1\n",
    "    r\"/kaggle/input/mfcc-t4-singfox/MFCC/train\"   # Language 2\n",
    "]\n",
    "validation_data_paths = [\n",
    "    # r\"/kaggle/input/singfox-t2-mfcc-icassp/MFCC_T2/mfcc/val\", #,\n",
    "    r\"/kaggle/input/mfcc-t4-singfox/MFCC/val\"\n",
    "]\n",
    "testing_data_paths = [\n",
    "    # r\"/kaggle/input/singfox-t2-mfcc-icassp/MFCC_T2/mfcc/test\", #,\n",
    "    r\"/kaggle/input/mfcc-t4-singfox/MFCC/test\"\n",
    "]\n",
    "\n",
    "class MixedPtDataset(Dataset):\n",
    "    def __init__(self, directories):\n",
    "        \"\"\"Load features from multiple directories.\"\"\"\n",
    "        self.files = []\n",
    "        self.class_to_idx = {}\n",
    "\n",
    "        for directory in directories:\n",
    "            classes = sorted(entry.name for entry in os.scandir(directory) if entry.is_dir())\n",
    "            \n",
    "            # Assign class indices if not already assigned\n",
    "            for c in classes:\n",
    "                if c not in self.class_to_idx:\n",
    "                    self.class_to_idx[c] = len(self.class_to_idx)\n",
    "\n",
    "            for c in classes:\n",
    "                c_dir = os.path.join(directory, c)\n",
    "                c_files = [(os.path.join(c_dir, f), self.class_to_idx[c]) for f in os.listdir(c_dir)]\n",
    "                self.files.extend(c_files)\n",
    "\n",
    "        random.shuffle(self.files)\n",
    "\n",
    "    def __len__(self):\n",
    "        return len(self.files)\n",
    "\n",
    "    def __getitem__(self, idx):\n",
    "        filepath, label = self.files[idx]\n",
    "        try:\n",
    "            mat_vals = scipy.io.loadmat(filepath)\n",
    "            data = mat_vals['final'].T\n",
    "            max_len = 200\n",
    "            if max_len > data.shape[0]:\n",
    "                pad_width = max_len - data.shape[0]\n",
    "                data = np.pad(data, pad_width=((0, pad_width), (0, 0)), mode='constant')\n",
    "            else:\n",
    "                data = data[:max_len, :]\n",
    "        except Exception as e:\n",
    "            print(f\"Error loading file {filepath}: {str(e)}\")\n",
    "            return None\n",
    "        return data, label\n",
    "\n",
    "# Combine both datasets\n",
    "train_dataset = MixedPtDataset(train_data_paths)\n",
    "val_dataset = MixedPtDataset(validation_data_paths)\n",
    "test_dataset = MixedPtDataset(testing_data_paths)\n",
    "\n",
    "class PtDataLoader(DataLoader):\n",
    "    def __init__(self, directories, batch_size, shuffle=True):\n",
    "        dataset = MixedPtDataset(directories)\n",
    "        super().__init__(dataset, batch_size=batch_size, shuffle=shuffle)\n",
    "\n",
    "# Load mixed datasets\n",
    "batch_size = 32\n",
    "train_dataloader = PtDataLoader(directories=train_data_paths, batch_size=batch_size)\n",
    "val_dataloader = PtDataLoader(directories=validation_data_paths, batch_size=batch_size)\n",
    "test_dataloader = PtDataLoader(directories=testing_data_paths, batch_size=batch_size)\n",
    "\n",
    "train_count = len(train_dataset)\n",
    "val_count = len(val_dataset)\n",
    "test_count = len(test_dataset)\n",
    "\n",
    "print(f\"Training samples: {train_count}\\nValidation samples: {val_count}\\nTesting samples: {test_count}\")\n"
   ]
  },
  {
   "cell_type": "code",
   "execution_count": 5,
   "id": "78f1d161",
   "metadata": {
    "execution": {
     "iopub.execute_input": "2025-09-16T15:38:26.990909Z",
     "iopub.status.busy": "2025-09-16T15:38:26.990689Z",
     "iopub.status.idle": "2025-09-16T15:38:26.994533Z",
     "shell.execute_reply": "2025-09-16T15:38:26.993844Z"
    },
    "papermill": {
     "duration": 0.008751,
     "end_time": "2025-09-16T15:38:26.995640",
     "exception": false,
     "start_time": "2025-09-16T15:38:26.986889",
     "status": "completed"
    },
    "tags": []
   },
   "outputs": [
    {
     "name": "stdout",
     "output_type": "stream",
     "text": [
      "30669\n",
      "3825\n",
      "3801\n"
     ]
    }
   ],
   "source": [
    "print(train_count)\n",
    "print(test_count)\n",
    "print(val_count)"
   ]
  },
  {
   "cell_type": "code",
   "execution_count": 6,
   "id": "96b2dc92",
   "metadata": {
    "execution": {
     "iopub.execute_input": "2025-09-16T15:38:27.003070Z",
     "iopub.status.busy": "2025-09-16T15:38:27.002830Z",
     "iopub.status.idle": "2025-09-16T15:38:27.006215Z",
     "shell.execute_reply": "2025-09-16T15:38:27.005668Z"
    },
    "papermill": {
     "duration": 0.008183,
     "end_time": "2025-09-16T15:38:27.007206",
     "exception": false,
     "start_time": "2025-09-16T15:38:26.999023",
     "status": "completed"
    },
    "tags": []
   },
   "outputs": [],
   "source": [
    "import torch\n",
    "from torch import nn\n",
    "from torch.nn import Parameter\n",
    "import torch.nn.functional as F"
   ]
  },
  {
   "cell_type": "code",
   "execution_count": 7,
   "id": "2cd732f3",
   "metadata": {
    "execution": {
     "iopub.execute_input": "2025-09-16T15:38:27.014450Z",
     "iopub.status.busy": "2025-09-16T15:38:27.014245Z",
     "iopub.status.idle": "2025-09-16T15:38:27.017702Z",
     "shell.execute_reply": "2025-09-16T15:38:27.017027Z"
    },
    "papermill": {
     "duration": 0.008329,
     "end_time": "2025-09-16T15:38:27.018826",
     "exception": false,
     "start_time": "2025-09-16T15:38:27.010497",
     "status": "completed"
    },
    "tags": []
   },
   "outputs": [],
   "source": [
    "# Define the parameters\n",
    "input_size = 21\n",
    "hidden_size = 256\n",
    "num_layers = 2\n",
    "num_classes = 2\n",
    "# drop_amount = 0.25  # You can choose an appropriate dropout rate"
   ]
  },
  {
   "cell_type": "code",
   "execution_count": 8,
   "id": "c5b6a33c",
   "metadata": {
    "execution": {
     "iopub.execute_input": "2025-09-16T15:38:27.025823Z",
     "iopub.status.busy": "2025-09-16T15:38:27.025641Z",
     "iopub.status.idle": "2025-09-16T15:38:27.028815Z",
     "shell.execute_reply": "2025-09-16T15:38:27.028304Z"
    },
    "papermill": {
     "duration": 0.007704,
     "end_time": "2025-09-16T15:38:27.029775",
     "exception": false,
     "start_time": "2025-09-16T15:38:27.022071",
     "status": "completed"
    },
    "tags": []
   },
   "outputs": [],
   "source": [
    "import torch\n",
    "import torch.nn as nn\n",
    "import torch.optim as optim"
   ]
  },
  {
   "cell_type": "code",
   "execution_count": 9,
   "id": "3a141eda",
   "metadata": {
    "execution": {
     "iopub.execute_input": "2025-09-16T15:38:27.036824Z",
     "iopub.status.busy": "2025-09-16T15:38:27.036647Z",
     "iopub.status.idle": "2025-09-16T15:38:50.867599Z",
     "shell.execute_reply": "2025-09-16T15:38:50.866750Z"
    },
    "papermill": {
     "duration": 23.836049,
     "end_time": "2025-09-16T15:38:50.869080",
     "exception": false,
     "start_time": "2025-09-16T15:38:27.033031",
     "status": "completed"
    },
    "tags": []
   },
   "outputs": [
    {
     "name": "stderr",
     "output_type": "stream",
     "text": [
      "2025-09-16 15:38:38.952194: E external/local_xla/xla/stream_executor/cuda/cuda_fft.cc:477] Unable to register cuFFT factory: Attempting to register factory for plugin cuFFT when one has already been registered\n",
      "WARNING: All log messages before absl::InitializeLog() is called are written to STDERR\n",
      "E0000 00:00:1758037119.142814      19 cuda_dnn.cc:8310] Unable to register cuDNN factory: Attempting to register factory for plugin cuDNN when one has already been registered\n",
      "E0000 00:00:1758037119.196706      19 cuda_blas.cc:1418] Unable to register cuBLAS factory: Attempting to register factory for plugin cuBLAS when one has already been registered\n"
     ]
    }
   ],
   "source": [
    "import torch \n",
    "import torch.nn as nn\n",
    "import torch.nn.functional as F\n",
    "from torch.autograd import Variable\n",
    "from torch.utils.data import Dataset, DataLoader\n",
    "import os, pathlib, glob, random\n",
    "import numpy as np\n",
    "import matplotlib.pyplot as plt \n",
    "import seaborn as sns\n",
    "from sklearn.metrics import confusion_matrix\n",
    "from transformers import WhisperProcessor, WhisperForConditionalGeneration\n",
    "from datasets import load_dataset\n",
    "from transformers.models.whisper.modeling_whisper import WhisperModel, WhisperEncoder\n",
    "from transformers.models.whisper.configuration_whisper import WhisperConfig\n",
    "from typing import Optional, Tuple, Union\n",
    "import torch\n",
    "import librosa \n",
    "import matplotlib.pyplot as plt\n",
    "import numpy as np\n",
    "import os, glob, pickle\n",
    "import scipy.io as sio\n",
    "from tqdm import tqdm\n",
    "import multiprocessing as mp \n",
    "import torch.optim as optim"
   ]
  },
  {
   "cell_type": "code",
   "execution_count": 10,
   "id": "3d499327",
   "metadata": {
    "execution": {
     "iopub.execute_input": "2025-09-16T15:38:50.877646Z",
     "iopub.status.busy": "2025-09-16T15:38:50.876997Z",
     "iopub.status.idle": "2025-09-16T15:38:50.881088Z",
     "shell.execute_reply": "2025-09-16T15:38:50.880348Z"
    },
    "papermill": {
     "duration": 0.009368,
     "end_time": "2025-09-16T15:38:50.882202",
     "exception": false,
     "start_time": "2025-09-16T15:38:50.872834",
     "status": "completed"
    },
    "tags": []
   },
   "outputs": [],
   "source": [
    "# BiLSTM"
   ]
  },
  {
   "cell_type": "code",
   "execution_count": 11,
   "id": "8bfeb177",
   "metadata": {
    "execution": {
     "iopub.execute_input": "2025-09-16T15:38:50.889916Z",
     "iopub.status.busy": "2025-09-16T15:38:50.889697Z",
     "iopub.status.idle": "2025-09-16T15:38:50.895814Z",
     "shell.execute_reply": "2025-09-16T15:38:50.895092Z"
    },
    "papermill": {
     "duration": 0.011181,
     "end_time": "2025-09-16T15:38:50.896931",
     "exception": false,
     "start_time": "2025-09-16T15:38:50.885750",
     "status": "completed"
    },
    "tags": []
   },
   "outputs": [],
   "source": [
    "drop_amount = 0.255\n",
    "\n",
    "class BiLSTMClassifier(nn.Module):\n",
    "    def __init__(self, input_size, hidden_size, num_layers, num_classes):\n",
    "        super(BiLSTMClassifier, self).__init__()\n",
    "        self.hidden_size = hidden_size\n",
    "        self.num_layers = num_layers\n",
    "        self.lstm = nn.LSTM(input_size, hidden_size, num_layers, batch_first=True, bidirectional=True)\n",
    "        self.dropout = nn.Dropout(p=drop_amount)\n",
    "        self.fc = nn.Linear(hidden_size*2, num_classes)\n",
    "\n",
    "    def forward(self, x):\n",
    "        h0 = torch.zeros(self.num_layers*2, x.size(0), self.hidden_size).to(device=x.device, dtype=torch.double)\n",
    "        c0 = torch.zeros(self.num_layers*2, x.size(0), self.hidden_size).to(device=x.device, dtype=torch.double)\n",
    "        out, _ = self.lstm(x, (h0, c0))\n",
    "        out = self.dropout(out)\n",
    "        # Extract the output of the last time step from both directions\n",
    "        last_hidden_state = torch.cat((out[:, -1, :self.hidden_size], out[:, 0, self.hidden_size:]), dim=1)\n",
    "        output = self.fc(last_hidden_state)\n",
    "        return output"
   ]
  },
  {
   "cell_type": "code",
   "execution_count": 12,
   "id": "68a408a0",
   "metadata": {
    "execution": {
     "iopub.execute_input": "2025-09-16T15:38:50.904387Z",
     "iopub.status.busy": "2025-09-16T15:38:50.904127Z",
     "iopub.status.idle": "2025-09-16T15:38:50.907607Z",
     "shell.execute_reply": "2025-09-16T15:38:50.907065Z"
    },
    "papermill": {
     "duration": 0.008412,
     "end_time": "2025-09-16T15:38:50.908656",
     "exception": false,
     "start_time": "2025-09-16T15:38:50.900244",
     "status": "completed"
    },
    "tags": []
   },
   "outputs": [],
   "source": [
    "batch_size = 32\n",
    "output_nodes = 2\n",
    "learning_rate = 0.003"
   ]
  },
  {
   "cell_type": "code",
   "execution_count": 13,
   "id": "eacce55e",
   "metadata": {
    "execution": {
     "iopub.execute_input": "2025-09-16T15:38:50.915989Z",
     "iopub.status.busy": "2025-09-16T15:38:50.915785Z",
     "iopub.status.idle": "2025-09-16T15:38:51.174713Z",
     "shell.execute_reply": "2025-09-16T15:38:51.173888Z"
    },
    "papermill": {
     "duration": 0.263947,
     "end_time": "2025-09-16T15:38:51.175920",
     "exception": false,
     "start_time": "2025-09-16T15:38:50.911973",
     "status": "completed"
    },
    "tags": []
   },
   "outputs": [
    {
     "name": "stdout",
     "output_type": "stream",
     "text": [
      "BiLSTMClassifier(\n",
      "  (lstm): LSTM(21, 256, num_layers=2, batch_first=True, bidirectional=True)\n",
      "  (dropout): Dropout(p=0.255, inplace=False)\n",
      "  (fc): Linear(in_features=512, out_features=2, bias=True)\n",
      ")\n"
     ]
    }
   ],
   "source": [
    "model = BiLSTMClassifier(input_size, hidden_size, num_layers, num_classes)\n",
    "model.to(device, dtype=torch.double)\n",
    "loss_function = nn.CrossEntropyLoss()\n",
    "optimizer = optim.Adam(model.parameters(), lr=learning_rate)\n",
    "print(model)"
   ]
  },
  {
   "cell_type": "code",
   "execution_count": 14,
   "id": "9993b612",
   "metadata": {
    "execution": {
     "iopub.execute_input": "2025-09-16T15:38:51.183710Z",
     "iopub.status.busy": "2025-09-16T15:38:51.183470Z",
     "iopub.status.idle": "2025-09-16T15:38:51.187447Z",
     "shell.execute_reply": "2025-09-16T15:38:51.186703Z"
    },
    "papermill": {
     "duration": 0.009144,
     "end_time": "2025-09-16T15:38:51.188623",
     "exception": false,
     "start_time": "2025-09-16T15:38:51.179479",
     "status": "completed"
    },
    "tags": []
   },
   "outputs": [
    {
     "name": "stdout",
     "output_type": "stream",
     "text": [
      "BiLSTMClassifier(\n",
      "  (lstm): LSTM(21, 256, num_layers=2, batch_first=True, bidirectional=True)\n",
      "  (dropout): Dropout(p=0.255, inplace=False)\n",
      "  (fc): Linear(in_features=512, out_features=2, bias=True)\n",
      ")\n"
     ]
    }
   ],
   "source": [
    "print(model)"
   ]
  },
  {
   "cell_type": "code",
   "execution_count": 15,
   "id": "9a1c6030",
   "metadata": {
    "execution": {
     "iopub.execute_input": "2025-09-16T15:38:51.196909Z",
     "iopub.status.busy": "2025-09-16T15:38:51.196704Z",
     "iopub.status.idle": "2025-09-16T16:24:56.683784Z",
     "shell.execute_reply": "2025-09-16T16:24:56.682938Z"
    },
    "papermill": {
     "duration": 2765.492398,
     "end_time": "2025-09-16T16:24:56.685042",
     "exception": false,
     "start_time": "2025-09-16T15:38:51.192644",
     "status": "completed"
    },
    "tags": []
   },
   "outputs": [
    {
     "name": "stdout",
     "output_type": "stream",
     "text": [
      "\n",
      "Epoch 1/20 - Training...\n"
     ]
    },
    {
     "name": "stderr",
     "output_type": "stream",
     "text": [
      "Training Batches: 100%|██████████| 959/959 [03:45<00:00,  4.26it/s]\n"
     ]
    },
    {
     "name": "stdout",
     "output_type": "stream",
     "text": [
      "Epoch 1/20 - Validation...\n"
     ]
    },
    {
     "name": "stderr",
     "output_type": "stream",
     "text": [
      "Validation Batches: 100%|██████████| 119/119 [00:21<00:00,  5.63it/s]\n"
     ]
    },
    {
     "name": "stdout",
     "output_type": "stream",
     "text": [
      "Epoch: 1/20   Train Loss: 0.6493   Train Accuracy: 0.5757   Validation Accuracy: 0.6017\n",
      "\n",
      "Epoch 2/20 - Training...\n"
     ]
    },
    {
     "name": "stderr",
     "output_type": "stream",
     "text": [
      "Training Batches: 100%|██████████| 959/959 [02:01<00:00,  7.89it/s]\n"
     ]
    },
    {
     "name": "stdout",
     "output_type": "stream",
     "text": [
      "Epoch 2/20 - Validation...\n"
     ]
    },
    {
     "name": "stderr",
     "output_type": "stream",
     "text": [
      "Validation Batches: 100%|██████████| 119/119 [00:08<00:00, 13.59it/s]\n"
     ]
    },
    {
     "name": "stdout",
     "output_type": "stream",
     "text": [
      "Epoch: 2/20   Train Loss: 0.6434   Train Accuracy: 0.5783   Validation Accuracy: 0.6022\n",
      "\n",
      "Epoch 3/20 - Training...\n"
     ]
    },
    {
     "name": "stderr",
     "output_type": "stream",
     "text": [
      "Training Batches: 100%|██████████| 959/959 [02:01<00:00,  7.90it/s]\n"
     ]
    },
    {
     "name": "stdout",
     "output_type": "stream",
     "text": [
      "Epoch 3/20 - Validation...\n"
     ]
    },
    {
     "name": "stderr",
     "output_type": "stream",
     "text": [
      "Validation Batches: 100%|██████████| 119/119 [00:08<00:00, 13.77it/s]\n"
     ]
    },
    {
     "name": "stdout",
     "output_type": "stream",
     "text": [
      "Epoch: 3/20   Train Loss: 0.6359   Train Accuracy: 0.5853   Validation Accuracy: 0.5985\n",
      "\n",
      "Epoch 4/20 - Training...\n"
     ]
    },
    {
     "name": "stderr",
     "output_type": "stream",
     "text": [
      "Training Batches: 100%|██████████| 959/959 [02:01<00:00,  7.91it/s]\n"
     ]
    },
    {
     "name": "stdout",
     "output_type": "stream",
     "text": [
      "Epoch 4/20 - Validation...\n"
     ]
    },
    {
     "name": "stderr",
     "output_type": "stream",
     "text": [
      "Validation Batches: 100%|██████████| 119/119 [00:08<00:00, 13.64it/s]\n"
     ]
    },
    {
     "name": "stdout",
     "output_type": "stream",
     "text": [
      "Epoch: 4/20   Train Loss: 0.6340   Train Accuracy: 0.5856   Validation Accuracy: 0.5988\n",
      "\n",
      "Epoch 5/20 - Training...\n"
     ]
    },
    {
     "name": "stderr",
     "output_type": "stream",
     "text": [
      "Training Batches: 100%|██████████| 959/959 [02:00<00:00,  7.96it/s]\n"
     ]
    },
    {
     "name": "stdout",
     "output_type": "stream",
     "text": [
      "Epoch 5/20 - Validation...\n"
     ]
    },
    {
     "name": "stderr",
     "output_type": "stream",
     "text": [
      "Validation Batches: 100%|██████████| 119/119 [00:08<00:00, 13.85it/s]\n"
     ]
    },
    {
     "name": "stdout",
     "output_type": "stream",
     "text": [
      "Epoch: 5/20   Train Loss: 0.6320   Train Accuracy: 0.5881   Validation Accuracy: 0.5998\n",
      "\n",
      "Epoch 6/20 - Training...\n"
     ]
    },
    {
     "name": "stderr",
     "output_type": "stream",
     "text": [
      "Training Batches: 100%|██████████| 959/959 [02:00<00:00,  7.94it/s]\n"
     ]
    },
    {
     "name": "stdout",
     "output_type": "stream",
     "text": [
      "Epoch 6/20 - Validation...\n"
     ]
    },
    {
     "name": "stderr",
     "output_type": "stream",
     "text": [
      "Validation Batches: 100%|██████████| 119/119 [00:08<00:00, 14.07it/s]\n"
     ]
    },
    {
     "name": "stdout",
     "output_type": "stream",
     "text": [
      "Epoch: 6/20   Train Loss: 0.6325   Train Accuracy: 0.5860   Validation Accuracy: 0.6048\n",
      "\n",
      "Epoch 7/20 - Training...\n"
     ]
    },
    {
     "name": "stderr",
     "output_type": "stream",
     "text": [
      "Training Batches: 100%|██████████| 959/959 [02:10<00:00,  7.37it/s]\n"
     ]
    },
    {
     "name": "stdout",
     "output_type": "stream",
     "text": [
      "Epoch 7/20 - Validation...\n"
     ]
    },
    {
     "name": "stderr",
     "output_type": "stream",
     "text": [
      "Validation Batches: 100%|██████████| 119/119 [00:08<00:00, 14.00it/s]\n"
     ]
    },
    {
     "name": "stdout",
     "output_type": "stream",
     "text": [
      "Epoch: 7/20   Train Loss: 0.6329   Train Accuracy: 0.5842   Validation Accuracy: 0.5993\n",
      "\n",
      "Epoch 8/20 - Training...\n"
     ]
    },
    {
     "name": "stderr",
     "output_type": "stream",
     "text": [
      "Training Batches: 100%|██████████| 959/959 [02:01<00:00,  7.93it/s]\n"
     ]
    },
    {
     "name": "stdout",
     "output_type": "stream",
     "text": [
      "Epoch 8/20 - Validation...\n"
     ]
    },
    {
     "name": "stderr",
     "output_type": "stream",
     "text": [
      "Validation Batches: 100%|██████████| 119/119 [00:08<00:00, 14.19it/s]\n"
     ]
    },
    {
     "name": "stdout",
     "output_type": "stream",
     "text": [
      "Epoch: 8/20   Train Loss: 0.6294   Train Accuracy: 0.5929   Validation Accuracy: 0.6006\n",
      "\n",
      "Epoch 9/20 - Training...\n"
     ]
    },
    {
     "name": "stderr",
     "output_type": "stream",
     "text": [
      "Training Batches: 100%|██████████| 959/959 [02:00<00:00,  7.99it/s]\n"
     ]
    },
    {
     "name": "stdout",
     "output_type": "stream",
     "text": [
      "Epoch 9/20 - Validation...\n"
     ]
    },
    {
     "name": "stderr",
     "output_type": "stream",
     "text": [
      "Validation Batches: 100%|██████████| 119/119 [00:08<00:00, 14.15it/s]\n"
     ]
    },
    {
     "name": "stdout",
     "output_type": "stream",
     "text": [
      "Epoch: 9/20   Train Loss: 0.6294   Train Accuracy: 0.5885   Validation Accuracy: 0.5996\n",
      "\n",
      "Epoch 10/20 - Training...\n"
     ]
    },
    {
     "name": "stderr",
     "output_type": "stream",
     "text": [
      "Training Batches: 100%|██████████| 959/959 [01:59<00:00,  8.00it/s]\n"
     ]
    },
    {
     "name": "stdout",
     "output_type": "stream",
     "text": [
      "Epoch 10/20 - Validation...\n"
     ]
    },
    {
     "name": "stderr",
     "output_type": "stream",
     "text": [
      "Validation Batches: 100%|██████████| 119/119 [00:08<00:00, 13.74it/s]\n"
     ]
    },
    {
     "name": "stdout",
     "output_type": "stream",
     "text": [
      "Epoch: 10/20   Train Loss: 0.6290   Train Accuracy: 0.5871   Validation Accuracy: 0.5967\n",
      "\n",
      "Epoch 11/20 - Training...\n"
     ]
    },
    {
     "name": "stderr",
     "output_type": "stream",
     "text": [
      "Training Batches: 100%|██████████| 959/959 [02:00<00:00,  7.99it/s]\n"
     ]
    },
    {
     "name": "stdout",
     "output_type": "stream",
     "text": [
      "Epoch 11/20 - Validation...\n"
     ]
    },
    {
     "name": "stderr",
     "output_type": "stream",
     "text": [
      "Validation Batches: 100%|██████████| 119/119 [00:08<00:00, 14.16it/s]\n"
     ]
    },
    {
     "name": "stdout",
     "output_type": "stream",
     "text": [
      "Epoch: 11/20   Train Loss: 0.6281   Train Accuracy: 0.5894   Validation Accuracy: 0.5980\n",
      "\n",
      "Epoch 12/20 - Training...\n"
     ]
    },
    {
     "name": "stderr",
     "output_type": "stream",
     "text": [
      "Training Batches: 100%|██████████| 959/959 [02:00<00:00,  7.93it/s]\n"
     ]
    },
    {
     "name": "stdout",
     "output_type": "stream",
     "text": [
      "Epoch 12/20 - Validation...\n"
     ]
    },
    {
     "name": "stderr",
     "output_type": "stream",
     "text": [
      "Validation Batches: 100%|██████████| 119/119 [00:08<00:00, 14.23it/s]\n"
     ]
    },
    {
     "name": "stdout",
     "output_type": "stream",
     "text": [
      "Epoch: 12/20   Train Loss: 0.6275   Train Accuracy: 0.5907   Validation Accuracy: 0.6012\n",
      "\n",
      "Epoch 13/20 - Training...\n"
     ]
    },
    {
     "name": "stderr",
     "output_type": "stream",
     "text": [
      "Training Batches: 100%|██████████| 959/959 [02:00<00:00,  7.97it/s]\n"
     ]
    },
    {
     "name": "stdout",
     "output_type": "stream",
     "text": [
      "Epoch 13/20 - Validation...\n"
     ]
    },
    {
     "name": "stderr",
     "output_type": "stream",
     "text": [
      "Validation Batches: 100%|██████████| 119/119 [00:08<00:00, 14.08it/s]\n"
     ]
    },
    {
     "name": "stdout",
     "output_type": "stream",
     "text": [
      "Epoch: 13/20   Train Loss: 0.6269   Train Accuracy: 0.5909   Validation Accuracy: 0.5714\n",
      "\n",
      "Epoch 14/20 - Training...\n"
     ]
    },
    {
     "name": "stderr",
     "output_type": "stream",
     "text": [
      "Training Batches: 100%|██████████| 959/959 [02:33<00:00,  6.25it/s]\n"
     ]
    },
    {
     "name": "stdout",
     "output_type": "stream",
     "text": [
      "Epoch 14/20 - Validation...\n"
     ]
    },
    {
     "name": "stderr",
     "output_type": "stream",
     "text": [
      "Validation Batches: 100%|██████████| 119/119 [00:09<00:00, 12.72it/s]\n"
     ]
    },
    {
     "name": "stdout",
     "output_type": "stream",
     "text": [
      "Epoch: 14/20   Train Loss: 0.6263   Train Accuracy: 0.5910   Validation Accuracy: 0.6001\n",
      "\n",
      "Epoch 15/20 - Training...\n"
     ]
    },
    {
     "name": "stderr",
     "output_type": "stream",
     "text": [
      "Training Batches: 100%|██████████| 959/959 [02:01<00:00,  7.86it/s]\n"
     ]
    },
    {
     "name": "stdout",
     "output_type": "stream",
     "text": [
      "Epoch 15/20 - Validation...\n"
     ]
    },
    {
     "name": "stderr",
     "output_type": "stream",
     "text": [
      "Validation Batches: 100%|██████████| 119/119 [00:08<00:00, 14.10it/s]\n"
     ]
    },
    {
     "name": "stdout",
     "output_type": "stream",
     "text": [
      "Epoch: 15/20   Train Loss: 0.6247   Train Accuracy: 0.5909   Validation Accuracy: 0.6001\n",
      "\n",
      "Epoch 16/20 - Training...\n"
     ]
    },
    {
     "name": "stderr",
     "output_type": "stream",
     "text": [
      "Training Batches: 100%|██████████| 959/959 [02:16<00:00,  7.03it/s]\n"
     ]
    },
    {
     "name": "stdout",
     "output_type": "stream",
     "text": [
      "Epoch 16/20 - Validation...\n"
     ]
    },
    {
     "name": "stderr",
     "output_type": "stream",
     "text": [
      "Validation Batches: 100%|██████████| 119/119 [00:08<00:00, 13.24it/s]\n"
     ]
    },
    {
     "name": "stdout",
     "output_type": "stream",
     "text": [
      "Epoch: 16/20   Train Loss: 0.6264   Train Accuracy: 0.5938   Validation Accuracy: 0.6014\n",
      "\n",
      "Epoch 17/20 - Training...\n"
     ]
    },
    {
     "name": "stderr",
     "output_type": "stream",
     "text": [
      "Training Batches: 100%|██████████| 959/959 [02:03<00:00,  7.76it/s]\n"
     ]
    },
    {
     "name": "stdout",
     "output_type": "stream",
     "text": [
      "Epoch 17/20 - Validation...\n"
     ]
    },
    {
     "name": "stderr",
     "output_type": "stream",
     "text": [
      "Validation Batches: 100%|██████████| 119/119 [00:08<00:00, 14.13it/s]\n"
     ]
    },
    {
     "name": "stdout",
     "output_type": "stream",
     "text": [
      "Epoch: 17/20   Train Loss: 0.6258   Train Accuracy: 0.5946   Validation Accuracy: 0.6025\n",
      "\n",
      "Epoch 18/20 - Training...\n"
     ]
    },
    {
     "name": "stderr",
     "output_type": "stream",
     "text": [
      "Training Batches: 100%|██████████| 959/959 [01:59<00:00,  8.06it/s]\n"
     ]
    },
    {
     "name": "stdout",
     "output_type": "stream",
     "text": [
      "Epoch 18/20 - Validation...\n"
     ]
    },
    {
     "name": "stderr",
     "output_type": "stream",
     "text": [
      "Validation Batches: 100%|██████████| 119/119 [00:08<00:00, 13.87it/s]\n"
     ]
    },
    {
     "name": "stdout",
     "output_type": "stream",
     "text": [
      "Epoch: 18/20   Train Loss: 0.6251   Train Accuracy: 0.5926   Validation Accuracy: 0.5933\n",
      "\n",
      "Epoch 19/20 - Training...\n"
     ]
    },
    {
     "name": "stderr",
     "output_type": "stream",
     "text": [
      "Training Batches: 100%|██████████| 959/959 [02:00<00:00,  7.96it/s]\n"
     ]
    },
    {
     "name": "stdout",
     "output_type": "stream",
     "text": [
      "Epoch 19/20 - Validation...\n"
     ]
    },
    {
     "name": "stderr",
     "output_type": "stream",
     "text": [
      "Validation Batches: 100%|██████████| 119/119 [00:08<00:00, 13.92it/s]\n"
     ]
    },
    {
     "name": "stdout",
     "output_type": "stream",
     "text": [
      "Epoch: 19/20   Train Loss: 0.6241   Train Accuracy: 0.5958   Validation Accuracy: 0.6051\n",
      "\n",
      "Epoch 20/20 - Training...\n"
     ]
    },
    {
     "name": "stderr",
     "output_type": "stream",
     "text": [
      "Training Batches: 100%|██████████| 959/959 [02:02<00:00,  7.81it/s]\n"
     ]
    },
    {
     "name": "stdout",
     "output_type": "stream",
     "text": [
      "Epoch 20/20 - Validation...\n"
     ]
    },
    {
     "name": "stderr",
     "output_type": "stream",
     "text": [
      "Validation Batches: 100%|██████████| 119/119 [00:08<00:00, 13.53it/s]"
     ]
    },
    {
     "name": "stdout",
     "output_type": "stream",
     "text": [
      "Epoch: 20/20   Train Loss: 0.6249   Train Accuracy: 0.5927   Validation Accuracy: 0.5985\n",
      "\n",
      "Maximum Validation Accuracy: 0.6051039200210471\n",
      "Finished Training and Validation\n"
     ]
    },
    {
     "name": "stderr",
     "output_type": "stream",
     "text": [
      "\n"
     ]
    }
   ],
   "source": [
    "from tqdm import tqdm\n",
    "import torch\n",
    "from torch.autograd import Variable\n",
    "\n",
    "# Model training and testing\n",
    "n_total_steps = len(train_dataloader)\n",
    "train_accuracy_list = []\n",
    "train_loss_list = []\n",
    "val_accuracy_list = []\n",
    "max_acc = 0\n",
    "num_epochs = 20\n",
    "pred_labels = []\n",
    "act_labels = []\n",
    "\n",
    "for epoch in range(num_epochs):\n",
    "    \n",
    "    # Training phase\n",
    "    model.train()\n",
    "    train_accuracy = 0.0\n",
    "    train_loss = 0.0\n",
    "    \n",
    "    print(f\"\\nEpoch {epoch + 1}/{num_epochs} - Training...\")\n",
    "    \n",
    "    # Use tqdm for progress bar in training loop\n",
    "    for batch_idx, (images, labels) in enumerate(tqdm(train_dataloader, desc=\"Training Batches\")):\n",
    "        if torch.cuda.is_available():\n",
    "            images = Variable(images.cuda())\n",
    "            labels = Variable(labels.cuda())\n",
    "        \n",
    "        optimizer.zero_grad()\n",
    "        outputs = model(images)\n",
    "        loss = loss_function(outputs, labels)\n",
    "        loss.backward()\n",
    "        optimizer.step()\n",
    "\n",
    "        train_loss += loss.cpu().data * images.size(0)\n",
    "        _, prediction = torch.max(outputs.data, 1)\n",
    "        train_accuracy += int(torch.sum(prediction == labels.data))\n",
    "    \n",
    "    train_accuracy = train_accuracy / train_count\n",
    "    train_loss = train_loss / train_count\n",
    "    \n",
    "    train_accuracy_list.append(train_accuracy)\n",
    "    train_loss_list.append(train_loss)\n",
    "\n",
    "    # Validation phase\n",
    "    model.eval()\n",
    "    val_accuracy = 0.0\n",
    "    pred = []\n",
    "    lab = []\n",
    "    \n",
    "    print(f\"Epoch {epoch + 1}/{num_epochs} - Validation...\")\n",
    "    \n",
    "    # Use tqdm for progress bar in validation loop\n",
    "    for i, (images, labels) in enumerate(tqdm(val_dataloader, desc=\"Validation Batches\")):\n",
    "        if torch.cuda.is_available():\n",
    "            images = Variable(images.cuda())\n",
    "            labels = Variable(labels.cuda())\n",
    "        \n",
    "        outputs = model(images)\n",
    "        _, prediction = torch.max(outputs.data, 1)\n",
    "        val_accuracy += int(torch.sum(prediction == labels.data))\n",
    "        \n",
    "        pred.extend(prediction.tolist())\n",
    "        lab.extend(labels.tolist())\n",
    "    \n",
    "    val_accuracy = val_accuracy / val_count\n",
    "    val_accuracy_list.append(val_accuracy)\n",
    "    \n",
    "    # Save best model\n",
    "    if max_acc < val_accuracy:\n",
    "        max_acc = val_accuracy\n",
    "        pred_labels = pred\n",
    "        actual_labels = lab\n",
    "        torch.save(model, \"best_accuracy_model_BiLSTM.pth\")\n",
    "    \n",
    "    print(f'Epoch: {epoch + 1}/{num_epochs}   '\n",
    "          f'Train Loss: {train_loss:.4f}   '\n",
    "          f'Train Accuracy: {train_accuracy:.4f}   '\n",
    "          f'Validation Accuracy: {val_accuracy:.4f}')\n",
    "\n",
    "print('\\nMaximum Validation Accuracy:', max_acc)\n",
    "print('Finished Training and Validation')\n"
   ]
  },
  {
   "cell_type": "code",
   "execution_count": 16,
   "id": "80b14bf0",
   "metadata": {
    "execution": {
     "iopub.execute_input": "2025-09-16T16:24:58.462033Z",
     "iopub.status.busy": "2025-09-16T16:24:58.461255Z",
     "iopub.status.idle": "2025-09-16T16:25:22.744797Z",
     "shell.execute_reply": "2025-09-16T16:25:22.743959Z"
    },
    "papermill": {
     "duration": 25.174667,
     "end_time": "2025-09-16T16:25:22.746004",
     "exception": false,
     "start_time": "2025-09-16T16:24:57.571337",
     "status": "completed"
    },
    "tags": []
   },
   "outputs": [
    {
     "name": "stdout",
     "output_type": "stream",
     "text": [
      "testing Accuracy: 0.6018300653594771\n"
     ]
    }
   ],
   "source": [
    "# Load the best model\n",
    "best_model = torch.load(\"best_accuracy_model_BiLSTM.pth\", weights_only=False)\n",
    "\n",
    "# Put the best_model in evaluation mode\n",
    "best_model.eval()\n",
    "\n",
    "# Initialize variables to store results\n",
    "testing_accuracy = 0.0\n",
    "pred_labels = []\n",
    "act_labels = []\n",
    "\n",
    "# Pass validation data through the best model\n",
    "for i, (images, labels) in enumerate(test_dataloader):\n",
    "    if torch.cuda.is_available():\n",
    "        images = Variable(images.cuda())\n",
    "        labels = Variable(labels.cuda())\n",
    "    \n",
    "    outputs = best_model(images)\n",
    "    _, prediction = torch.max(outputs.data, 1)\n",
    "    \n",
    "    testing_accuracy += int(torch.sum(prediction == labels.data))\n",
    "    \n",
    "    pred_labels.extend(prediction.tolist())\n",
    "    act_labels.extend(labels.tolist())\n",
    "\n",
    "# Calculate validation accuracy\n",
    "testing_accuracy = testing_accuracy / len(test_dataloader.dataset)\n",
    "\n",
    "# Print the validation accuracy\n",
    "print(\"testing Accuracy:\", testing_accuracy)"
   ]
  },
  {
   "cell_type": "code",
   "execution_count": 17,
   "id": "f15e2e99",
   "metadata": {
    "execution": {
     "iopub.execute_input": "2025-09-16T16:25:24.466599Z",
     "iopub.status.busy": "2025-09-16T16:25:24.466310Z",
     "iopub.status.idle": "2025-09-16T16:25:33.762842Z",
     "shell.execute_reply": "2025-09-16T16:25:33.762102Z"
    },
    "papermill": {
     "duration": 10.183571,
     "end_time": "2025-09-16T16:25:33.764064",
     "exception": false,
     "start_time": "2025-09-16T16:25:23.580493",
     "status": "completed"
    },
    "tags": []
   },
   "outputs": [
    {
     "name": "stdout",
     "output_type": "stream",
     "text": [
      "Testing Accuracy     : 0.6018\n",
      "Precision            : 0.5662\n",
      "Recall               : 0.9772\n",
      "F1 Score (Macro)     : 0.5229\n",
      "F1 Score (Micro)     : 0.6018\n",
      "Hamming Loss         : 0.3982\n",
      "AUC                  : 0.6485\n",
      "EER                  : 0.4009 at threshold 0.5373\n"
     ]
    },
    {
     "data": {
      "image/png": "[encoded data removed]",
      "text/plain": [
       "<Figure size 640x480 with 1 Axes>"
      ]
     },
     "metadata": {},
     "output_type": "display_data"
    }
   ],
   "source": [
    "from sklearn.metrics import (accuracy_score, precision_score, recall_score, f1_score,\n",
    "                             roc_curve, auc, hamming_loss, confusion_matrix, roc_auc_score)\n",
    "import matplotlib.pyplot as plt\n",
    "import numpy as np\n",
    "# Load best model\n",
    "best_model = torch.load(\"best_accuracy_model_BiLSTM.pth\", weights_only=False)\n",
    "best_model.eval()\n",
    "\n",
    "pred_labels = []\n",
    "act_labels = []\n",
    "pred_probs = []\n",
    "\n",
    "# Evaluate\n",
    "for images, labels in test_dataloader:\n",
    "    if torch.cuda.is_available():\n",
    "        images = images.cuda()\n",
    "        labels = labels.cuda()\n",
    "    \n",
    "    with torch.no_grad():\n",
    "        outputs = best_model(images)\n",
    "        probs = torch.softmax(outputs, dim=1)[:, 1]  # probability for class 1\n",
    "        preds = torch.argmax(outputs, dim=1)\n",
    "    \n",
    "    pred_labels.extend(preds.cpu().tolist())\n",
    "    act_labels.extend(labels.cpu().tolist())\n",
    "    pred_probs.extend(probs.cpu().tolist())\n",
    "\n",
    "# Convert to NumPy\n",
    "y_true = np.array(act_labels)\n",
    "y_pred = np.array(pred_labels)\n",
    "y_score = np.array(pred_probs)\n",
    "\n",
    "# Basic Metrics\n",
    "acc = accuracy_score(y_true, y_pred)\n",
    "prec = precision_score(y_true, y_pred)\n",
    "rec = recall_score(y_true, y_pred)\n",
    "f1_macro = f1_score(y_true, y_pred, average='macro')\n",
    "f1_micro = f1_score(y_true, y_pred, average='micro')\n",
    "hamming = hamming_loss(y_true, y_pred)\n",
    "conf_mat = confusion_matrix(y_true, y_pred)\n",
    "\n",
    "# ROC and AUC\n",
    "fpr, tpr, thresholds = roc_curve(y_true, y_score)\n",
    "roc_auc = auc(fpr, tpr)\n",
    "\n",
    "# EER calculation\n",
    "fnr = 1 - tpr\n",
    "eer_threshold = thresholds[np.nanargmin(np.absolute(fnr - fpr))]\n",
    "eer = fpr[np.nanargmin(np.absolute(fnr - fpr))]\n",
    "\n",
    "# Print all\n",
    "print(f\"Testing Accuracy     : {acc:.4f}\")\n",
    "print(f\"Precision            : {prec:.4f}\")\n",
    "print(f\"Recall               : {rec:.4f}\")\n",
    "print(f\"F1 Score (Macro)     : {f1_macro:.4f}\")\n",
    "print(f\"F1 Score (Micro)     : {f1_micro:.4f}\")\n",
    "print(f\"Hamming Loss         : {hamming:.4f}\")\n",
    "# print(f\"Confusion Matrix     :\\n{conf_mat}\")\n",
    "print(f\"AUC                  : {roc_auc:.4f}\")\n",
    "print(f\"EER                  : {eer:.4f} at threshold {eer_threshold:.4f}\")\n",
    "\n",
    "# Optional: Plot ROC\n",
    "plt.figure()\n",
    "plt.plot(fpr, tpr, label=f'ROC curve (AUC = {roc_auc:.4f})')\n",
    "plt.plot([0, 1], [0, 1], 'k--')\n",
    "plt.xlabel('False Positive Rate')\n",
    "plt.ylabel('True Positive Rate')\n",
    "plt.title('ROC Curve')\n",
    "plt.legend(loc='lower right')\n",
    "plt.grid(True)\n",
    "plt.show()"
   ]
  },
  {
   "cell_type": "code",
   "execution_count": 18,
   "id": "1256bda6",
   "metadata": {
    "execution": {
     "iopub.execute_input": "2025-09-16T16:25:35.424606Z",
     "iopub.status.busy": "2025-09-16T16:25:35.423969Z",
     "iopub.status.idle": "2025-09-16T16:25:35.556297Z",
     "shell.execute_reply": "2025-09-16T16:25:35.555630Z"
    },
    "papermill": {
     "duration": 0.931262,
     "end_time": "2025-09-16T16:25:35.557648",
     "exception": false,
     "start_time": "2025-09-16T16:25:34.626386",
     "status": "completed"
    },
    "tags": []
   },
   "outputs": [
    {
     "data": {
      "image/png": "[encoded data removed]",
      "text/plain": [
       "<Figure size 640x480 with 1 Axes>"
      ]
     },
     "metadata": {},
     "output_type": "display_data"
    }
   ],
   "source": [
    "from sklearn.metrics import det_curve, DetCurveDisplay\n",
    "\n",
    "# Compute DET curve data\n",
    "fpr_det, fnr_det, det_thresholds = det_curve(y_true, y_score)\n",
    "\n",
    "# Plot DET curve using Display\n",
    "import matplotlib.pyplot as plt\n",
    "\n",
    "disp = DetCurveDisplay(fpr=fpr_det, fnr=fnr_det, estimator_name=\"BiLSTM\")\n",
    "disp.plot()\n",
    "plt.title(\"Detection Error Tradeoff (DET) Curve\")\n",
    "plt.grid(True)\n",
    "plt.show()\n"
   ]
  },
  {
   "cell_type": "code",
   "execution_count": 19,
   "id": "f5a4b8cb",
   "metadata": {
    "execution": {
     "iopub.execute_input": "2025-09-16T16:25:37.277417Z",
     "iopub.status.busy": "2025-09-16T16:25:37.277091Z",
     "iopub.status.idle": "2025-09-16T16:25:37.280639Z",
     "shell.execute_reply": "2025-09-16T16:25:37.280090Z"
    },
    "papermill": {
     "duration": 0.863169,
     "end_time": "2025-09-16T16:25:37.281682",
     "exception": false,
     "start_time": "2025-09-16T16:25:36.418513",
     "status": "completed"
    },
    "tags": []
   },
   "outputs": [],
   "source": [
    "# from sklearn.metrics import det_curve\n",
    "# import numpy as np\n",
    "\n",
    "# # Compute DET curve arrays\n",
    "# fpr_det, fnr_det, det_thresholds = det_curve(y_true, y_score)\n",
    "\n",
    "# # Display summary\n",
    "# print(\"Number of thresholds:\", len(det_thresholds))\n",
    "# for i in range(min(10, len(det_thresholds))):\n",
    "#     print(f\"Thresh ≥ {det_thresholds[i]:.4f}: FPR = {fpr_det[i]:.4f}, FNR = {fnr_det[i]:.4f}\")\n"
   ]
  },
  {
   "cell_type": "code",
   "execution_count": 20,
   "id": "0d66aeb7",
   "metadata": {
    "execution": {
     "iopub.execute_input": "2025-09-16T16:25:38.944398Z",
     "iopub.status.busy": "2025-09-16T16:25:38.943614Z",
     "iopub.status.idle": "2025-09-16T16:25:39.117460Z",
     "shell.execute_reply": "2025-09-16T16:25:39.116772Z"
    },
    "papermill": {
     "duration": 1.028968,
     "end_time": "2025-09-16T16:25:39.118683",
     "exception": false,
     "start_time": "2025-09-16T16:25:38.089715",
     "status": "completed"
    },
    "tags": []
   },
   "outputs": [
    {
     "data": {
      "image/png": "[encoded data removed]",
      "text/plain": [
       "<Figure size 640x480 with 2 Axes>"
      ]
     },
     "metadata": {},
     "output_type": "display_data"
    }
   ],
   "source": [
    "from sklearn.metrics import confusion_matrix, ConfusionMatrixDisplay\n",
    "import matplotlib.pyplot as plt\n",
    "\n",
    "# Set correct class names\n",
    "class_names = [\"Fake\", \"Real\"]  # 0 = Fake, 1 = Real\n",
    "\n",
    "# Create confusion matrix\n",
    "cm = confusion_matrix(act_labels, pred_labels)\n",
    "\n",
    "# Display it\n",
    "disp = ConfusionMatrixDisplay(confusion_matrix=cm, display_labels=class_names)\n",
    "disp.plot(values_format='d')\n",
    "\n",
    "plt.title(\"Confusion Matrix\")\n",
    "plt.xlabel(\"Predicted Label\")\n",
    "plt.ylabel(\"True Label\")\n",
    "plt.grid(False)\n",
    "plt.tight_layout()\n",
    "plt.show()\n"
   ]
  },
  {
   "cell_type": "code",
   "execution_count": null,
   "id": "22e81ed7",
   "metadata": {
    "papermill": {
     "duration": 0.859773,
     "end_time": "2025-09-16T16:25:40.852066",
     "exception": false,
     "start_time": "2025-09-16T16:25:39.992293",
     "status": "completed"
    },
    "tags": []
   },
   "outputs": [],
   "source": []
  }
 ],
 "metadata": {
  "kaggle": {
   "accelerator": "gpu",
   "dataSources": [
    {
     "datasetId": 8283361,
     "sourceId": 13078738,
     "sourceType": "datasetVersion"
    }
   ],
   "dockerImageVersionId": 31041,
   "isGpuEnabled": true,
   "isInternetEnabled": true,
   "language": "python",
   "sourceType": "notebook"
  },
  "kernelspec": {
   "display_name": "Python 3",
   "language": "python",
   "name": "python3"
  },
  "language_info": {
   "codemirror_mode": {
    "name": "ipython",
    "version": 3
   },
   "file_extension": ".py",
   "mimetype": "text/x-python",
   "name": "python",
   "nbconvert_exporter": "python",
   "pygments_lexer": "ipython3",
   "version": "3.11.11"
  },
  "papermill": {
   "default_parameters": {},
   "duration": 2849.131299,
   "end_time": "2025-09-16T16:25:44.553559",
   "environment_variables": {},
   "exception": null,
   "input_path": "__notebook__.ipynb",
   "output_path": "__notebook__.ipynb",
   "parameters": {},
   "start_time": "2025-09-16T15:38:15.422260",
   "version": "2.4.0"
  }
 },
 "nbformat": 4,
 "nbformat_minor": 5
}
