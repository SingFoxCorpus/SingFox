{
 "cells": [
  {
   "cell_type": "code",
   "execution_count": 1,
   "id": "25c5a5d5",
   "metadata": {
    "execution": {
     "iopub.execute_input": "2025-07-02T16:55:21.732383Z",
     "iopub.status.busy": "2025-07-02T16:55:21.732179Z",
     "iopub.status.idle": "2025-07-02T16:55:27.970173Z",
     "shell.execute_reply": "2025-07-02T16:55:27.969562Z"
    },
    "papermill": {
     "duration": 6.243984,
     "end_time": "2025-07-02T16:55:27.971564",
     "exception": false,
     "start_time": "2025-07-02T16:55:21.727580",
     "status": "completed"
    },
    "tags": []
   },
   "outputs": [],
   "source": [
    "import torch \n",
    "import torch.nn as nn\n",
    "import torch.nn.functional as F\n",
    "from torch.autograd import Variable\n",
    "from torch.utils.data import Dataset, DataLoader\n",
    "import os, pathlib, glob, random\n",
    "import numpy as np\n",
    "import matplotlib.pyplot as plt \n",
    "from sklearn.metrics import confusion_matrix\n",
    "import scipy\n",
    "from scipy import io"
   ]
  },
  {
   "cell_type": "code",
   "execution_count": 2,
   "id": "ef7f253b",
   "metadata": {
    "execution": {
     "iopub.execute_input": "2025-07-02T16:55:27.979702Z",
     "iopub.status.busy": "2025-07-02T16:55:27.978959Z",
     "iopub.status.idle": "2025-07-02T16:55:28.037338Z",
     "shell.execute_reply": "2025-07-02T16:55:28.036725Z"
    },
    "papermill": {
     "duration": 0.06311,
     "end_time": "2025-07-02T16:55:28.038335",
     "exception": false,
     "start_time": "2025-07-02T16:55:27.975225",
     "status": "completed"
    },
    "tags": []
   },
   "outputs": [
    {
     "name": "stdout",
     "output_type": "stream",
     "text": [
      "cuda:0\n"
     ]
    }
   ],
   "source": [
    "device = torch.device('cuda:0' if torch.cuda.is_available() else 'cpu')\n",
    "print(device)"
   ]
  },
  {
   "cell_type": "code",
   "execution_count": 3,
   "id": "c414ccaa",
   "metadata": {
    "execution": {
     "iopub.execute_input": "2025-07-02T16:55:28.045440Z",
     "iopub.status.busy": "2025-07-02T16:55:28.045238Z",
     "iopub.status.idle": "2025-07-02T16:55:28.048505Z",
     "shell.execute_reply": "2025-07-02T16:55:28.047984Z"
    },
    "papermill": {
     "duration": 0.007948,
     "end_time": "2025-07-02T16:55:28.049561",
     "exception": false,
     "start_time": "2025-07-02T16:55:28.041613",
     "status": "completed"
    },
    "tags": []
   },
   "outputs": [],
   "source": [
    "batch_size = 32\n",
    "output_nodes = 2\n",
    "learning_rate = 0.003"
   ]
  },
  {
   "cell_type": "code",
   "execution_count": 4,
   "id": "1498ae8f",
   "metadata": {
    "execution": {
     "iopub.execute_input": "2025-07-02T16:55:28.056739Z",
     "iopub.status.busy": "2025-07-02T16:55:28.056548Z",
     "iopub.status.idle": "2025-07-02T16:55:28.526396Z",
     "shell.execute_reply": "2025-07-02T16:55:28.525555Z"
    },
    "papermill": {
     "duration": 0.474901,
     "end_time": "2025-07-02T16:55:28.527614",
     "exception": false,
     "start_time": "2025-07-02T16:55:28.052713",
     "status": "completed"
    },
    "tags": []
   },
   "outputs": [
    {
     "name": "stdout",
     "output_type": "stream",
     "text": [
      "Training samples: 25310\n",
      "Validation samples: 5423\n",
      "Testing samples: 5425\n"
     ]
    }
   ],
   "source": [
    "import os\n",
    "import random\n",
    "import scipy.io\n",
    "import numpy as np\n",
    "from torch.utils.data import Dataset, DataLoader\n",
    "\n",
    "# Paths for both datasets\n",
    "train_data_paths = [\n",
    "    r\"/kaggle/input/singfox-t2-mfcc-icassp/MFCC_T2/mfcc/train\" #,  # Language 1\n",
    "    # r\"/kaggle/input/singfox-t2-gfcc-icassp/GFCC_T2/gfcc/train\"   # Language 2\n",
    "]\n",
    "validation_data_paths = [\n",
    "    r\"/kaggle/input/singfox-t2-mfcc-icassp/MFCC_T2/mfcc/val\" #,\n",
    "    # r\"/kaggle/input/singfox-t2-gfcc-icassp/GFCC_T2/gfcc/val\"\n",
    "]\n",
    "testing_data_paths = [\n",
    "    r\"/kaggle/input/singfox-t2-mfcc-icassp/MFCC_T2/mfcc/test\" #,\n",
    "    # r\"/kaggle/input/singfox-t2-gfcc-icassp/GFCC_T2/gfcc/test\"\n",
    "]\n",
    "\n",
    "class MixedPtDataset(Dataset):\n",
    "    def __init__(self, directories):\n",
    "        \"\"\"Load features from multiple directories.\"\"\"\n",
    "        self.files = []\n",
    "        self.class_to_idx = {}\n",
    "\n",
    "        for directory in directories:\n",
    "            classes = sorted(entry.name for entry in os.scandir(directory) if entry.is_dir())\n",
    "            \n",
    "            # Assign class indices if not already assigned\n",
    "            for c in classes:\n",
    "                if c not in self.class_to_idx:\n",
    "                    self.class_to_idx[c] = len(self.class_to_idx)\n",
    "\n",
    "            for c in classes:\n",
    "                c_dir = os.path.join(directory, c)\n",
    "                c_files = [(os.path.join(c_dir, f), self.class_to_idx[c]) for f in os.listdir(c_dir)]\n",
    "                self.files.extend(c_files)\n",
    "\n",
    "        random.shuffle(self.files)\n",
    "\n",
    "    def __len__(self):\n",
    "        return len(self.files)\n",
    "\n",
    "    def __getitem__(self, idx):\n",
    "        filepath, label = self.files[idx]\n",
    "        try:\n",
    "            mat_vals = scipy.io.loadmat(filepath)\n",
    "            data = mat_vals['final'].T\n",
    "            max_len = 200\n",
    "            if max_len > data.shape[0]:\n",
    "                pad_width = max_len - data.shape[0]\n",
    "                data = np.pad(data, pad_width=((0, pad_width), (0, 0)), mode='constant')\n",
    "            else:\n",
    "                data = data[:max_len, :]\n",
    "        except Exception as e:\n",
    "            print(f\"Error loading file {filepath}: {str(e)}\")\n",
    "            return None\n",
    "        return data, label\n",
    "\n",
    "# Combine both datasets\n",
    "train_dataset = MixedPtDataset(train_data_paths)\n",
    "val_dataset = MixedPtDataset(validation_data_paths)\n",
    "test_dataset = MixedPtDataset(testing_data_paths)\n",
    "\n",
    "class PtDataLoader(DataLoader):\n",
    "    def __init__(self, directories, batch_size, shuffle=True):\n",
    "        dataset = MixedPtDataset(directories)\n",
    "        super().__init__(dataset, batch_size=batch_size, shuffle=shuffle)\n",
    "\n",
    "# Load mixed datasets\n",
    "batch_size = 32\n",
    "train_dataloader = PtDataLoader(directories=train_data_paths, batch_size=batch_size)\n",
    "val_dataloader = PtDataLoader(directories=validation_data_paths, batch_size=batch_size)\n",
    "test_dataloader = PtDataLoader(directories=testing_data_paths, batch_size=batch_size)\n",
    "\n",
    "train_count = len(train_dataset)\n",
    "val_count = len(val_dataset)\n",
    "test_count = len(test_dataset)\n",
    "\n",
    "print(f\"Training samples: {train_count}\\nValidation samples: {val_count}\\nTesting samples: {test_count}\")\n"
   ]
  },
  {
   "cell_type": "code",
   "execution_count": 5,
   "id": "91c08081",
   "metadata": {
    "execution": {
     "iopub.execute_input": "2025-07-02T16:55:28.534854Z",
     "iopub.status.busy": "2025-07-02T16:55:28.534658Z",
     "iopub.status.idle": "2025-07-02T16:55:28.538616Z",
     "shell.execute_reply": "2025-07-02T16:55:28.538019Z"
    },
    "papermill": {
     "duration": 0.008734,
     "end_time": "2025-07-02T16:55:28.539647",
     "exception": false,
     "start_time": "2025-07-02T16:55:28.530913",
     "status": "completed"
    },
    "tags": []
   },
   "outputs": [
    {
     "name": "stdout",
     "output_type": "stream",
     "text": [
      "25310\n",
      "5425\n",
      "5423\n"
     ]
    }
   ],
   "source": [
    "print(train_count)\n",
    "print(test_count)\n",
    "print(val_count)"
   ]
  },
  {
   "cell_type": "code",
   "execution_count": 6,
   "id": "4b3ae103",
   "metadata": {
    "execution": {
     "iopub.execute_input": "2025-07-02T16:55:28.547086Z",
     "iopub.status.busy": "2025-07-02T16:55:28.546554Z",
     "iopub.status.idle": "2025-07-02T16:55:28.549999Z",
     "shell.execute_reply": "2025-07-02T16:55:28.549337Z"
    },
    "papermill": {
     "duration": 0.008184,
     "end_time": "2025-07-02T16:55:28.551075",
     "exception": false,
     "start_time": "2025-07-02T16:55:28.542891",
     "status": "completed"
    },
    "tags": []
   },
   "outputs": [],
   "source": [
    "import torch\n",
    "from torch import nn\n",
    "from torch.nn import Parameter\n",
    "import torch.nn.functional as F"
   ]
  },
  {
   "cell_type": "code",
   "execution_count": 7,
   "id": "0f84b235",
   "metadata": {
    "execution": {
     "iopub.execute_input": "2025-07-02T16:55:28.557995Z",
     "iopub.status.busy": "2025-07-02T16:55:28.557794Z",
     "iopub.status.idle": "2025-07-02T16:55:28.560920Z",
     "shell.execute_reply": "2025-07-02T16:55:28.560424Z"
    },
    "papermill": {
     "duration": 0.007691,
     "end_time": "2025-07-02T16:55:28.561901",
     "exception": false,
     "start_time": "2025-07-02T16:55:28.554210",
     "status": "completed"
    },
    "tags": []
   },
   "outputs": [],
   "source": [
    "# Define the parameters\n",
    "input_size = 20\n",
    "hidden_size = 256\n",
    "num_layers = 2\n",
    "num_classes = 2\n",
    "# drop_amount = 0.25  # You can choose an appropriate dropout rate"
   ]
  },
  {
   "cell_type": "code",
   "execution_count": 8,
   "id": "f51770fa",
   "metadata": {
    "execution": {
     "iopub.execute_input": "2025-07-02T16:55:28.569037Z",
     "iopub.status.busy": "2025-07-02T16:55:28.568860Z",
     "iopub.status.idle": "2025-07-02T16:55:28.571797Z",
     "shell.execute_reply": "2025-07-02T16:55:28.571311Z"
    },
    "papermill": {
     "duration": 0.007754,
     "end_time": "2025-07-02T16:55:28.572788",
     "exception": false,
     "start_time": "2025-07-02T16:55:28.565034",
     "status": "completed"
    },
    "tags": []
   },
   "outputs": [],
   "source": [
    "import torch\n",
    "import torch.nn as nn\n",
    "import torch.optim as optim"
   ]
  },
  {
   "cell_type": "code",
   "execution_count": 9,
   "id": "27c16932",
   "metadata": {
    "execution": {
     "iopub.execute_input": "2025-07-02T16:55:28.579911Z",
     "iopub.status.busy": "2025-07-02T16:55:28.579535Z",
     "iopub.status.idle": "2025-07-02T16:55:53.372757Z",
     "shell.execute_reply": "2025-07-02T16:55:53.372114Z"
    },
    "papermill": {
     "duration": 24.798147,
     "end_time": "2025-07-02T16:55:53.374147",
     "exception": false,
     "start_time": "2025-07-02T16:55:28.576000",
     "status": "completed"
    },
    "tags": []
   },
   "outputs": [
    {
     "name": "stderr",
     "output_type": "stream",
     "text": [
      "2025-07-02 16:55:41.102540: E external/local_xla/xla/stream_executor/cuda/cuda_fft.cc:477] Unable to register cuFFT factory: Attempting to register factory for plugin cuFFT when one has already been registered\n",
      "WARNING: All log messages before absl::InitializeLog() is called are written to STDERR\n",
      "E0000 00:00:1751475341.317384      19 cuda_dnn.cc:8310] Unable to register cuDNN factory: Attempting to register factory for plugin cuDNN when one has already been registered\n",
      "E0000 00:00:1751475341.378971      19 cuda_blas.cc:1418] Unable to register cuBLAS factory: Attempting to register factory for plugin cuBLAS when one has already been registered\n"
     ]
    }
   ],
   "source": [
    "import torch \n",
    "import torch.nn as nn\n",
    "import torch.nn.functional as F\n",
    "from torch.autograd import Variable\n",
    "from torch.utils.data import Dataset, DataLoader\n",
    "import os, pathlib, glob, random\n",
    "import numpy as np\n",
    "import matplotlib.pyplot as plt \n",
    "import seaborn as sns\n",
    "from sklearn.metrics import confusion_matrix\n",
    "from transformers import WhisperProcessor, WhisperForConditionalGeneration\n",
    "from datasets import load_dataset\n",
    "from transformers.models.whisper.modeling_whisper import WhisperModel, WhisperEncoder\n",
    "from transformers.models.whisper.configuration_whisper import WhisperConfig\n",
    "from typing import Optional, Tuple, Union\n",
    "import torch\n",
    "import librosa \n",
    "import matplotlib.pyplot as plt\n",
    "import numpy as np\n",
    "import os, glob, pickle\n",
    "import scipy.io as sio\n",
    "from tqdm import tqdm\n",
    "import multiprocessing as mp \n",
    "import torch.optim as optim"
   ]
  },
  {
   "cell_type": "code",
   "execution_count": 10,
   "id": "a27ed771",
   "metadata": {
    "execution": {
     "iopub.execute_input": "2025-07-02T16:55:53.382460Z",
     "iopub.status.busy": "2025-07-02T16:55:53.382001Z",
     "iopub.status.idle": "2025-07-02T16:55:53.385263Z",
     "shell.execute_reply": "2025-07-02T16:55:53.384699Z"
    },
    "papermill": {
     "duration": 0.008437,
     "end_time": "2025-07-02T16:55:53.386279",
     "exception": false,
     "start_time": "2025-07-02T16:55:53.377842",
     "status": "completed"
    },
    "tags": []
   },
   "outputs": [],
   "source": [
    "# BiLSTM"
   ]
  },
  {
   "cell_type": "code",
   "execution_count": 11,
   "id": "15d7b819",
   "metadata": {
    "execution": {
     "iopub.execute_input": "2025-07-02T16:55:53.393494Z",
     "iopub.status.busy": "2025-07-02T16:55:53.393287Z",
     "iopub.status.idle": "2025-07-02T16:55:53.399009Z",
     "shell.execute_reply": "2025-07-02T16:55:53.398303Z"
    },
    "papermill": {
     "duration": 0.010618,
     "end_time": "2025-07-02T16:55:53.400107",
     "exception": false,
     "start_time": "2025-07-02T16:55:53.389489",
     "status": "completed"
    },
    "tags": []
   },
   "outputs": [],
   "source": [
    "drop_amount = 0.255\n",
    "\n",
    "class BiLSTMClassifier(nn.Module):\n",
    "    def __init__(self, input_size, hidden_size, num_layers, num_classes):\n",
    "        super(BiLSTMClassifier, self).__init__()\n",
    "        self.hidden_size = hidden_size\n",
    "        self.num_layers = num_layers\n",
    "        self.lstm = nn.LSTM(input_size, hidden_size, num_layers, batch_first=True, bidirectional=True)\n",
    "        self.dropout = nn.Dropout(p=drop_amount)\n",
    "        self.fc = nn.Linear(hidden_size*2, num_classes)\n",
    "\n",
    "    def forward(self, x):\n",
    "        h0 = torch.zeros(self.num_layers*2, x.size(0), self.hidden_size).to(device=x.device, dtype=torch.double)\n",
    "        c0 = torch.zeros(self.num_layers*2, x.size(0), self.hidden_size).to(device=x.device, dtype=torch.double)\n",
    "        out, _ = self.lstm(x, (h0, c0))\n",
    "        out = self.dropout(out)\n",
    "        # Extract the output of the last time step from both directions\n",
    "        last_hidden_state = torch.cat((out[:, -1, :self.hidden_size], out[:, 0, self.hidden_size:]), dim=1)\n",
    "        output = self.fc(last_hidden_state)\n",
    "        return output"
   ]
  },
  {
   "cell_type": "code",
   "execution_count": 12,
   "id": "bb9144c5",
   "metadata": {
    "execution": {
     "iopub.execute_input": "2025-07-02T16:55:53.407094Z",
     "iopub.status.busy": "2025-07-02T16:55:53.406920Z",
     "iopub.status.idle": "2025-07-02T16:55:53.409798Z",
     "shell.execute_reply": "2025-07-02T16:55:53.409304Z"
    },
    "papermill": {
     "duration": 0.007451,
     "end_time": "2025-07-02T16:55:53.410737",
     "exception": false,
     "start_time": "2025-07-02T16:55:53.403286",
     "status": "completed"
    },
    "tags": []
   },
   "outputs": [],
   "source": [
    "batch_size = 32\n",
    "output_nodes = 2\n",
    "learning_rate = 0.003"
   ]
  },
  {
   "cell_type": "code",
   "execution_count": 13,
   "id": "f1729d8a",
   "metadata": {
    "execution": {
     "iopub.execute_input": "2025-07-02T16:55:53.418068Z",
     "iopub.status.busy": "2025-07-02T16:55:53.417863Z",
     "iopub.status.idle": "2025-07-02T16:55:53.684279Z",
     "shell.execute_reply": "2025-07-02T16:55:53.683383Z"
    },
    "papermill": {
     "duration": 0.271384,
     "end_time": "2025-07-02T16:55:53.685599",
     "exception": false,
     "start_time": "2025-07-02T16:55:53.414215",
     "status": "completed"
    },
    "tags": []
   },
   "outputs": [
    {
     "name": "stdout",
     "output_type": "stream",
     "text": [
      "BiLSTMClassifier(\n",
      "  (lstm): LSTM(20, 256, num_layers=2, batch_first=True, bidirectional=True)\n",
      "  (dropout): Dropout(p=0.255, inplace=False)\n",
      "  (fc): Linear(in_features=512, out_features=2, bias=True)\n",
      ")\n"
     ]
    }
   ],
   "source": [
    "model = BiLSTMClassifier(input_size, hidden_size, num_layers, num_classes)\n",
    "model.to(device, dtype=torch.double)\n",
    "loss_function = nn.CrossEntropyLoss()\n",
    "optimizer = optim.Adam(model.parameters(), lr=learning_rate)\n",
    "print(model)"
   ]
  },
  {
   "cell_type": "code",
   "execution_count": 14,
   "id": "ef470ef8",
   "metadata": {
    "execution": {
     "iopub.execute_input": "2025-07-02T16:55:53.693381Z",
     "iopub.status.busy": "2025-07-02T16:55:53.693179Z",
     "iopub.status.idle": "2025-07-02T16:55:53.697005Z",
     "shell.execute_reply": "2025-07-02T16:55:53.696193Z"
    },
    "papermill": {
     "duration": 0.009016,
     "end_time": "2025-07-02T16:55:53.698231",
     "exception": false,
     "start_time": "2025-07-02T16:55:53.689215",
     "status": "completed"
    },
    "tags": []
   },
   "outputs": [
    {
     "name": "stdout",
     "output_type": "stream",
     "text": [
      "BiLSTMClassifier(\n",
      "  (lstm): LSTM(20, 256, num_layers=2, batch_first=True, bidirectional=True)\n",
      "  (dropout): Dropout(p=0.255, inplace=False)\n",
      "  (fc): Linear(in_features=512, out_features=2, bias=True)\n",
      ")\n"
     ]
    }
   ],
   "source": [
    "print(model)"
   ]
  },
  {
   "cell_type": "code",
   "execution_count": 15,
   "id": "cae147ab",
   "metadata": {
    "execution": {
     "iopub.execute_input": "2025-07-02T16:55:53.706329Z",
     "iopub.status.busy": "2025-07-02T16:55:53.706105Z",
     "iopub.status.idle": "2025-07-02T17:29:44.558414Z",
     "shell.execute_reply": "2025-07-02T17:29:44.557521Z"
    },
    "papermill": {
     "duration": 2030.857509,
     "end_time": "2025-07-02T17:29:44.559711",
     "exception": false,
     "start_time": "2025-07-02T16:55:53.702202",
     "status": "completed"
    },
    "tags": []
   },
   "outputs": [
    {
     "name": "stdout",
     "output_type": "stream",
     "text": [
      "\n",
      "Epoch 1/20 - Training...\n"
     ]
    },
    {
     "name": "stderr",
     "output_type": "stream",
     "text": [
      "Training Batches: 100%|██████████| 791/791 [02:48<00:00,  4.70it/s]\n"
     ]
    },
    {
     "name": "stdout",
     "output_type": "stream",
     "text": [
      "Epoch 1/20 - Validation...\n"
     ]
    },
    {
     "name": "stderr",
     "output_type": "stream",
     "text": [
      "Validation Batches: 100%|██████████| 170/170 [00:26<00:00,  6.49it/s]\n"
     ]
    },
    {
     "name": "stdout",
     "output_type": "stream",
     "text": [
      "Epoch: 1/20   Train Loss: 0.4922   Train Accuracy: 0.7490   Validation Accuracy: 0.7684\n",
      "\n",
      "Epoch 2/20 - Training...\n"
     ]
    },
    {
     "name": "stderr",
     "output_type": "stream",
     "text": [
      "Training Batches: 100%|██████████| 791/791 [01:27<00:00,  8.99it/s]\n"
     ]
    },
    {
     "name": "stdout",
     "output_type": "stream",
     "text": [
      "Epoch 2/20 - Validation...\n"
     ]
    },
    {
     "name": "stderr",
     "output_type": "stream",
     "text": [
      "Validation Batches: 100%|██████████| 170/170 [00:09<00:00, 17.47it/s]\n"
     ]
    },
    {
     "name": "stdout",
     "output_type": "stream",
     "text": [
      "Epoch: 2/20   Train Loss: 0.4622   Train Accuracy: 0.7702   Validation Accuracy: 0.7828\n",
      "\n",
      "Epoch 3/20 - Training...\n"
     ]
    },
    {
     "name": "stderr",
     "output_type": "stream",
     "text": [
      "Training Batches: 100%|██████████| 791/791 [01:26<00:00,  9.10it/s]\n"
     ]
    },
    {
     "name": "stdout",
     "output_type": "stream",
     "text": [
      "Epoch 3/20 - Validation...\n"
     ]
    },
    {
     "name": "stderr",
     "output_type": "stream",
     "text": [
      "Validation Batches: 100%|██████████| 170/170 [00:09<00:00, 18.25it/s]\n"
     ]
    },
    {
     "name": "stdout",
     "output_type": "stream",
     "text": [
      "Epoch: 3/20   Train Loss: 0.4527   Train Accuracy: 0.7770   Validation Accuracy: 0.7887\n",
      "\n",
      "Epoch 4/20 - Training...\n"
     ]
    },
    {
     "name": "stderr",
     "output_type": "stream",
     "text": [
      "Training Batches: 100%|██████████| 791/791 [01:28<00:00,  8.94it/s]\n"
     ]
    },
    {
     "name": "stdout",
     "output_type": "stream",
     "text": [
      "Epoch 4/20 - Validation...\n"
     ]
    },
    {
     "name": "stderr",
     "output_type": "stream",
     "text": [
      "Validation Batches: 100%|██████████| 170/170 [00:09<00:00, 17.89it/s]\n"
     ]
    },
    {
     "name": "stdout",
     "output_type": "stream",
     "text": [
      "Epoch: 4/20   Train Loss: 0.4373   Train Accuracy: 0.7885   Validation Accuracy: 0.7938\n",
      "\n",
      "Epoch 5/20 - Training...\n"
     ]
    },
    {
     "name": "stderr",
     "output_type": "stream",
     "text": [
      "Training Batches: 100%|██████████| 791/791 [01:26<00:00,  9.12it/s]\n"
     ]
    },
    {
     "name": "stdout",
     "output_type": "stream",
     "text": [
      "Epoch 5/20 - Validation...\n"
     ]
    },
    {
     "name": "stderr",
     "output_type": "stream",
     "text": [
      "Validation Batches: 100%|██████████| 170/170 [00:09<00:00, 17.63it/s]\n"
     ]
    },
    {
     "name": "stdout",
     "output_type": "stream",
     "text": [
      "Epoch: 5/20   Train Loss: 0.4194   Train Accuracy: 0.7954   Validation Accuracy: 0.7837\n",
      "\n",
      "Epoch 6/20 - Training...\n"
     ]
    },
    {
     "name": "stderr",
     "output_type": "stream",
     "text": [
      "Training Batches: 100%|██████████| 791/791 [01:26<00:00,  9.13it/s]\n"
     ]
    },
    {
     "name": "stdout",
     "output_type": "stream",
     "text": [
      "Epoch 6/20 - Validation...\n"
     ]
    },
    {
     "name": "stderr",
     "output_type": "stream",
     "text": [
      "Validation Batches: 100%|██████████| 170/170 [00:09<00:00, 18.53it/s]\n"
     ]
    },
    {
     "name": "stdout",
     "output_type": "stream",
     "text": [
      "Epoch: 6/20   Train Loss: 0.4061   Train Accuracy: 0.7972   Validation Accuracy: 0.7962\n",
      "\n",
      "Epoch 7/20 - Training...\n"
     ]
    },
    {
     "name": "stderr",
     "output_type": "stream",
     "text": [
      "Training Batches: 100%|██████████| 791/791 [01:26<00:00,  9.18it/s]\n"
     ]
    },
    {
     "name": "stdout",
     "output_type": "stream",
     "text": [
      "Epoch 7/20 - Validation...\n"
     ]
    },
    {
     "name": "stderr",
     "output_type": "stream",
     "text": [
      "Validation Batches: 100%|██████████| 170/170 [00:09<00:00, 18.01it/s]\n"
     ]
    },
    {
     "name": "stdout",
     "output_type": "stream",
     "text": [
      "Epoch: 7/20   Train Loss: 0.3927   Train Accuracy: 0.7998   Validation Accuracy: 0.8012\n",
      "\n",
      "Epoch 8/20 - Training...\n"
     ]
    },
    {
     "name": "stderr",
     "output_type": "stream",
     "text": [
      "Training Batches: 100%|██████████| 791/791 [01:26<00:00,  9.10it/s]\n"
     ]
    },
    {
     "name": "stdout",
     "output_type": "stream",
     "text": [
      "Epoch 8/20 - Validation...\n"
     ]
    },
    {
     "name": "stderr",
     "output_type": "stream",
     "text": [
      "Validation Batches: 100%|██████████| 170/170 [00:10<00:00, 16.21it/s]\n"
     ]
    },
    {
     "name": "stdout",
     "output_type": "stream",
     "text": [
      "Epoch: 8/20   Train Loss: 0.3765   Train Accuracy: 0.8067   Validation Accuracy: 0.8014\n",
      "\n",
      "Epoch 9/20 - Training...\n"
     ]
    },
    {
     "name": "stderr",
     "output_type": "stream",
     "text": [
      "Training Batches: 100%|██████████| 791/791 [01:28<00:00,  8.96it/s]\n"
     ]
    },
    {
     "name": "stdout",
     "output_type": "stream",
     "text": [
      "Epoch 9/20 - Validation...\n"
     ]
    },
    {
     "name": "stderr",
     "output_type": "stream",
     "text": [
      "Validation Batches: 100%|██████████| 170/170 [00:09<00:00, 18.63it/s]\n"
     ]
    },
    {
     "name": "stdout",
     "output_type": "stream",
     "text": [
      "Epoch: 9/20   Train Loss: 0.3677   Train Accuracy: 0.8090   Validation Accuracy: 0.8018\n",
      "\n",
      "Epoch 10/20 - Training...\n"
     ]
    },
    {
     "name": "stderr",
     "output_type": "stream",
     "text": [
      "Training Batches: 100%|██████████| 791/791 [01:25<00:00,  9.20it/s]\n"
     ]
    },
    {
     "name": "stdout",
     "output_type": "stream",
     "text": [
      "Epoch 10/20 - Validation...\n"
     ]
    },
    {
     "name": "stderr",
     "output_type": "stream",
     "text": [
      "Validation Batches: 100%|██████████| 170/170 [00:09<00:00, 18.32it/s]\n"
     ]
    },
    {
     "name": "stdout",
     "output_type": "stream",
     "text": [
      "Epoch: 10/20   Train Loss: 0.3564   Train Accuracy: 0.8162   Validation Accuracy: 0.8162\n",
      "\n",
      "Epoch 11/20 - Training...\n"
     ]
    },
    {
     "name": "stderr",
     "output_type": "stream",
     "text": [
      "Training Batches: 100%|██████████| 791/791 [01:28<00:00,  8.99it/s]\n"
     ]
    },
    {
     "name": "stdout",
     "output_type": "stream",
     "text": [
      "Epoch 11/20 - Validation...\n"
     ]
    },
    {
     "name": "stderr",
     "output_type": "stream",
     "text": [
      "Validation Batches: 100%|██████████| 170/170 [00:09<00:00, 17.72it/s]\n"
     ]
    },
    {
     "name": "stdout",
     "output_type": "stream",
     "text": [
      "Epoch: 11/20   Train Loss: 0.3505   Train Accuracy: 0.8231   Validation Accuracy: 0.8110\n",
      "\n",
      "Epoch 12/20 - Training...\n"
     ]
    },
    {
     "name": "stderr",
     "output_type": "stream",
     "text": [
      "Training Batches: 100%|██████████| 791/791 [01:27<00:00,  9.05it/s]\n"
     ]
    },
    {
     "name": "stdout",
     "output_type": "stream",
     "text": [
      "Epoch 12/20 - Validation...\n"
     ]
    },
    {
     "name": "stderr",
     "output_type": "stream",
     "text": [
      "Validation Batches: 100%|██████████| 170/170 [00:09<00:00, 18.35it/s]\n"
     ]
    },
    {
     "name": "stdout",
     "output_type": "stream",
     "text": [
      "Epoch: 12/20   Train Loss: 0.3412   Train Accuracy: 0.8287   Validation Accuracy: 0.8088\n",
      "\n",
      "Epoch 13/20 - Training...\n"
     ]
    },
    {
     "name": "stderr",
     "output_type": "stream",
     "text": [
      "Training Batches: 100%|██████████| 791/791 [01:26<00:00,  9.13it/s]\n"
     ]
    },
    {
     "name": "stdout",
     "output_type": "stream",
     "text": [
      "Epoch 13/20 - Validation...\n"
     ]
    },
    {
     "name": "stderr",
     "output_type": "stream",
     "text": [
      "Validation Batches: 100%|██████████| 170/170 [00:09<00:00, 18.10it/s]\n"
     ]
    },
    {
     "name": "stdout",
     "output_type": "stream",
     "text": [
      "Epoch: 13/20   Train Loss: 0.3276   Train Accuracy: 0.8353   Validation Accuracy: 0.8208\n",
      "\n",
      "Epoch 14/20 - Training...\n"
     ]
    },
    {
     "name": "stderr",
     "output_type": "stream",
     "text": [
      "Training Batches: 100%|██████████| 791/791 [01:27<00:00,  9.05it/s]\n"
     ]
    },
    {
     "name": "stdout",
     "output_type": "stream",
     "text": [
      "Epoch 14/20 - Validation...\n"
     ]
    },
    {
     "name": "stderr",
     "output_type": "stream",
     "text": [
      "Validation Batches: 100%|██████████| 170/170 [00:09<00:00, 18.27it/s]\n"
     ]
    },
    {
     "name": "stdout",
     "output_type": "stream",
     "text": [
      "Epoch: 14/20   Train Loss: 0.3236   Train Accuracy: 0.8355   Validation Accuracy: 0.8219\n",
      "\n",
      "Epoch 15/20 - Training...\n"
     ]
    },
    {
     "name": "stderr",
     "output_type": "stream",
     "text": [
      "Training Batches: 100%|██████████| 791/791 [01:27<00:00,  9.05it/s]\n"
     ]
    },
    {
     "name": "stdout",
     "output_type": "stream",
     "text": [
      "Epoch 15/20 - Validation...\n"
     ]
    },
    {
     "name": "stderr",
     "output_type": "stream",
     "text": [
      "Validation Batches: 100%|██████████| 170/170 [00:09<00:00, 18.19it/s]\n"
     ]
    },
    {
     "name": "stdout",
     "output_type": "stream",
     "text": [
      "Epoch: 15/20   Train Loss: 0.3107   Train Accuracy: 0.8411   Validation Accuracy: 0.8219\n",
      "\n",
      "Epoch 16/20 - Training...\n"
     ]
    },
    {
     "name": "stderr",
     "output_type": "stream",
     "text": [
      "Training Batches: 100%|██████████| 791/791 [01:26<00:00,  9.16it/s]\n"
     ]
    },
    {
     "name": "stdout",
     "output_type": "stream",
     "text": [
      "Epoch 16/20 - Validation...\n"
     ]
    },
    {
     "name": "stderr",
     "output_type": "stream",
     "text": [
      "Validation Batches: 100%|██████████| 170/170 [00:09<00:00, 18.52it/s]\n"
     ]
    },
    {
     "name": "stdout",
     "output_type": "stream",
     "text": [
      "Epoch: 16/20   Train Loss: 0.3004   Train Accuracy: 0.8437   Validation Accuracy: 0.8173\n",
      "\n",
      "Epoch 17/20 - Training...\n"
     ]
    },
    {
     "name": "stderr",
     "output_type": "stream",
     "text": [
      "Training Batches: 100%|██████████| 791/791 [01:28<00:00,  8.92it/s]\n"
     ]
    },
    {
     "name": "stdout",
     "output_type": "stream",
     "text": [
      "Epoch 17/20 - Validation...\n"
     ]
    },
    {
     "name": "stderr",
     "output_type": "stream",
     "text": [
      "Validation Batches: 100%|██████████| 170/170 [00:09<00:00, 18.31it/s]\n"
     ]
    },
    {
     "name": "stdout",
     "output_type": "stream",
     "text": [
      "Epoch: 17/20   Train Loss: 0.2938   Train Accuracy: 0.8471   Validation Accuracy: 0.8217\n",
      "\n",
      "Epoch 18/20 - Training...\n"
     ]
    },
    {
     "name": "stderr",
     "output_type": "stream",
     "text": [
      "Training Batches: 100%|██████████| 791/791 [01:26<00:00,  9.09it/s]\n"
     ]
    },
    {
     "name": "stdout",
     "output_type": "stream",
     "text": [
      "Epoch 18/20 - Validation...\n"
     ]
    },
    {
     "name": "stderr",
     "output_type": "stream",
     "text": [
      "Validation Batches: 100%|██████████| 170/170 [00:09<00:00, 18.15it/s]\n"
     ]
    },
    {
     "name": "stdout",
     "output_type": "stream",
     "text": [
      "Epoch: 18/20   Train Loss: 0.2841   Train Accuracy: 0.8503   Validation Accuracy: 0.8198\n",
      "\n",
      "Epoch 19/20 - Training...\n"
     ]
    },
    {
     "name": "stderr",
     "output_type": "stream",
     "text": [
      "Training Batches: 100%|██████████| 791/791 [01:26<00:00,  9.11it/s]\n"
     ]
    },
    {
     "name": "stdout",
     "output_type": "stream",
     "text": [
      "Epoch 19/20 - Validation...\n"
     ]
    },
    {
     "name": "stderr",
     "output_type": "stream",
     "text": [
      "Validation Batches: 100%|██████████| 170/170 [00:09<00:00, 18.85it/s]\n"
     ]
    },
    {
     "name": "stdout",
     "output_type": "stream",
     "text": [
      "Epoch: 19/20   Train Loss: 0.2822   Train Accuracy: 0.8557   Validation Accuracy: 0.8222\n",
      "\n",
      "Epoch 20/20 - Training...\n"
     ]
    },
    {
     "name": "stderr",
     "output_type": "stream",
     "text": [
      "Training Batches: 100%|██████████| 791/791 [01:26<00:00,  9.09it/s]\n"
     ]
    },
    {
     "name": "stdout",
     "output_type": "stream",
     "text": [
      "Epoch 20/20 - Validation...\n"
     ]
    },
    {
     "name": "stderr",
     "output_type": "stream",
     "text": [
      "Validation Batches: 100%|██████████| 170/170 [00:09<00:00, 17.96it/s]"
     ]
    },
    {
     "name": "stdout",
     "output_type": "stream",
     "text": [
      "Epoch: 20/20   Train Loss: 0.2718   Train Accuracy: 0.8575   Validation Accuracy: 0.8097\n",
      "\n",
      "Maximum Validation Accuracy: 0.822238613313664\n",
      "Finished Training and Validation\n"
     ]
    },
    {
     "name": "stderr",
     "output_type": "stream",
     "text": [
      "\n"
     ]
    }
   ],
   "source": [
    "from tqdm import tqdm\n",
    "import torch\n",
    "from torch.autograd import Variable\n",
    "\n",
    "# Model training and testing\n",
    "n_total_steps = len(train_dataloader)\n",
    "train_accuracy_list = []\n",
    "train_loss_list = []\n",
    "val_accuracy_list = []\n",
    "max_acc = 0\n",
    "num_epochs = 20\n",
    "pred_labels = []\n",
    "act_labels = []\n",
    "\n",
    "for epoch in range(num_epochs):\n",
    "    \n",
    "    # Training phase\n",
    "    model.train()\n",
    "    train_accuracy = 0.0\n",
    "    train_loss = 0.0\n",
    "    \n",
    "    print(f\"\\nEpoch {epoch + 1}/{num_epochs} - Training...\")\n",
    "    \n",
    "    # Use tqdm for progress bar in training loop\n",
    "    for batch_idx, (images, labels) in enumerate(tqdm(train_dataloader, desc=\"Training Batches\")):\n",
    "        if torch.cuda.is_available():\n",
    "            images = Variable(images.cuda())\n",
    "            labels = Variable(labels.cuda())\n",
    "        \n",
    "        optimizer.zero_grad()\n",
    "        outputs = model(images)\n",
    "        loss = loss_function(outputs, labels)\n",
    "        loss.backward()\n",
    "        optimizer.step()\n",
    "\n",
    "        train_loss += loss.cpu().data * images.size(0)\n",
    "        _, prediction = torch.max(outputs.data, 1)\n",
    "        train_accuracy += int(torch.sum(prediction == labels.data))\n",
    "    \n",
    "    train_accuracy = train_accuracy / train_count\n",
    "    train_loss = train_loss / train_count\n",
    "    \n",
    "    train_accuracy_list.append(train_accuracy)\n",
    "    train_loss_list.append(train_loss)\n",
    "\n",
    "    # Validation phase\n",
    "    model.eval()\n",
    "    val_accuracy = 0.0\n",
    "    pred = []\n",
    "    lab = []\n",
    "    \n",
    "    print(f\"Epoch {epoch + 1}/{num_epochs} - Validation...\")\n",
    "    \n",
    "    # Use tqdm for progress bar in validation loop\n",
    "    for i, (images, labels) in enumerate(tqdm(val_dataloader, desc=\"Validation Batches\")):\n",
    "        if torch.cuda.is_available():\n",
    "            images = Variable(images.cuda())\n",
    "            labels = Variable(labels.cuda())\n",
    "        \n",
    "        outputs = model(images)\n",
    "        _, prediction = torch.max(outputs.data, 1)\n",
    "        val_accuracy += int(torch.sum(prediction == labels.data))\n",
    "        \n",
    "        pred.extend(prediction.tolist())\n",
    "        lab.extend(labels.tolist())\n",
    "    \n",
    "    val_accuracy = val_accuracy / val_count\n",
    "    val_accuracy_list.append(val_accuracy)\n",
    "    \n",
    "    # Save best model\n",
    "    if max_acc < val_accuracy:\n",
    "        max_acc = val_accuracy\n",
    "        pred_labels = pred\n",
    "        actual_labels = lab\n",
    "        torch.save(model, \"best_accuracy_model_BiLSTM.pth\")\n",
    "    \n",
    "    print(f'Epoch: {epoch + 1}/{num_epochs}   '\n",
    "          f'Train Loss: {train_loss:.4f}   '\n",
    "          f'Train Accuracy: {train_accuracy:.4f}   '\n",
    "          f'Validation Accuracy: {val_accuracy:.4f}')\n",
    "\n",
    "print('\\nMaximum Validation Accuracy:', max_acc)\n",
    "print('Finished Training and Validation')\n"
   ]
  },
  {
   "cell_type": "code",
   "execution_count": 16,
   "id": "ad7e05b9",
   "metadata": {
    "execution": {
     "iopub.execute_input": "2025-07-02T17:29:46.065975Z",
     "iopub.status.busy": "2025-07-02T17:29:46.065686Z",
     "iopub.status.idle": "2025-07-02T17:30:16.141766Z",
     "shell.execute_reply": "2025-07-02T17:30:16.141062Z"
    },
    "papermill": {
     "duration": 31.511932,
     "end_time": "2025-07-02T17:30:16.822742",
     "exception": false,
     "start_time": "2025-07-02T17:29:45.310810",
     "status": "completed"
    },
    "tags": []
   },
   "outputs": [
    {
     "name": "stdout",
     "output_type": "stream",
     "text": [
      "testing Accuracy: 0.8110599078341014\n"
     ]
    }
   ],
   "source": [
    "# Load the best model\n",
    "best_model = torch.load(\"best_accuracy_model_BiLSTM.pth\", weights_only=False)\n",
    "\n",
    "# Put the best_model in evaluation mode\n",
    "best_model.eval()\n",
    "\n",
    "# Initialize variables to store results\n",
    "testing_accuracy = 0.0\n",
    "pred_labels = []\n",
    "act_labels = []\n",
    "\n",
    "# Pass validation data through the best model\n",
    "for i, (images, labels) in enumerate(test_dataloader):\n",
    "    if torch.cuda.is_available():\n",
    "        images = Variable(images.cuda())\n",
    "        labels = Variable(labels.cuda())\n",
    "    \n",
    "    outputs = best_model(images)\n",
    "    _, prediction = torch.max(outputs.data, 1)\n",
    "    \n",
    "    testing_accuracy += int(torch.sum(prediction == labels.data))\n",
    "    \n",
    "    pred_labels.extend(prediction.tolist())\n",
    "    act_labels.extend(labels.tolist())\n",
    "\n",
    "# Calculate validation accuracy\n",
    "testing_accuracy = testing_accuracy / len(test_dataloader.dataset)\n",
    "\n",
    "# Print the validation accuracy\n",
    "print(\"testing Accuracy:\", testing_accuracy)"
   ]
  },
  {
   "cell_type": "code",
   "execution_count": 17,
   "id": "d86c36a5",
   "metadata": {
    "execution": {
     "iopub.execute_input": "2025-07-02T17:30:18.289338Z",
     "iopub.status.busy": "2025-07-02T17:30:18.288520Z",
     "iopub.status.idle": "2025-07-02T17:30:27.986463Z",
     "shell.execute_reply": "2025-07-02T17:30:27.985859Z"
    },
    "papermill": {
     "duration": 10.433307,
     "end_time": "2025-07-02T17:30:27.987614",
     "exception": false,
     "start_time": "2025-07-02T17:30:17.554307",
     "status": "completed"
    },
    "tags": []
   },
   "outputs": [
    {
     "name": "stdout",
     "output_type": "stream",
     "text": [
      "Testing Accuracy     : 0.8111\n",
      "Precision            : 0.7955\n",
      "Recall               : 0.8154\n",
      "F1 Score (Macro)     : 0.8109\n",
      "F1 Score (Micro)     : 0.8111\n",
      "Hamming Loss         : 0.1889\n",
      "AUC                  : 0.9125\n",
      "EER                  : 0.1887 at threshold 0.5052\n"
     ]
    },
    {
     "data": {
      "image/png": "[encoded data removed]",
      "text/plain": [
       "<Figure size 640x480 with 1 Axes>"
      ]
     },
     "metadata": {},
     "output_type": "display_data"
    }
   ],
   "source": [
    "from sklearn.metrics import (accuracy_score, precision_score, recall_score, f1_score,\n",
    "                             roc_curve, auc, hamming_loss, confusion_matrix, roc_auc_score)\n",
    "import matplotlib.pyplot as plt\n",
    "import numpy as np\n",
    "# Load best model\n",
    "best_model = torch.load(\"best_accuracy_model_BiLSTM.pth\", weights_only=False)\n",
    "best_model.eval()\n",
    "\n",
    "pred_labels = []\n",
    "act_labels = []\n",
    "pred_probs = []\n",
    "\n",
    "# Evaluate\n",
    "for images, labels in test_dataloader:\n",
    "    if torch.cuda.is_available():\n",
    "        images = images.cuda()\n",
    "        labels = labels.cuda()\n",
    "    \n",
    "    with torch.no_grad():\n",
    "        outputs = best_model(images)\n",
    "        probs = torch.softmax(outputs, dim=1)[:, 1]  # probability for class 1\n",
    "        preds = torch.argmax(outputs, dim=1)\n",
    "    \n",
    "    pred_labels.extend(preds.cpu().tolist())\n",
    "    act_labels.extend(labels.cpu().tolist())\n",
    "    pred_probs.extend(probs.cpu().tolist())\n",
    "\n",
    "# Convert to NumPy\n",
    "y_true = np.array(act_labels)\n",
    "y_pred = np.array(pred_labels)\n",
    "y_score = np.array(pred_probs)\n",
    "\n",
    "# Basic Metrics\n",
    "acc = accuracy_score(y_true, y_pred)\n",
    "prec = precision_score(y_true, y_pred)\n",
    "rec = recall_score(y_true, y_pred)\n",
    "f1_macro = f1_score(y_true, y_pred, average='macro')\n",
    "f1_micro = f1_score(y_true, y_pred, average='micro')\n",
    "hamming = hamming_loss(y_true, y_pred)\n",
    "conf_mat = confusion_matrix(y_true, y_pred)\n",
    "\n",
    "# ROC and AUC\n",
    "fpr, tpr, thresholds = roc_curve(y_true, y_score)\n",
    "roc_auc = auc(fpr, tpr)\n",
    "\n",
    "# EER calculation\n",
    "fnr = 1 - tpr\n",
    "eer_threshold = thresholds[np.nanargmin(np.absolute(fnr - fpr))]\n",
    "eer = fpr[np.nanargmin(np.absolute(fnr - fpr))]\n",
    "\n",
    "# Print all\n",
    "print(f\"Testing Accuracy     : {acc:.4f}\")\n",
    "print(f\"Precision            : {prec:.4f}\")\n",
    "print(f\"Recall               : {rec:.4f}\")\n",
    "print(f\"F1 Score (Macro)     : {f1_macro:.4f}\")\n",
    "print(f\"F1 Score (Micro)     : {f1_micro:.4f}\")\n",
    "print(f\"Hamming Loss         : {hamming:.4f}\")\n",
    "# print(f\"Confusion Matrix     :\\n{conf_mat}\")\n",
    "print(f\"AUC                  : {roc_auc:.4f}\")\n",
    "print(f\"EER                  : {eer:.4f} at threshold {eer_threshold:.4f}\")\n",
    "\n",
    "# Optional: Plot ROC\n",
    "plt.figure()\n",
    "plt.plot(fpr, tpr, label=f'ROC curve (AUC = {roc_auc:.4f})')\n",
    "plt.plot([0, 1], [0, 1], 'k--')\n",
    "plt.xlabel('False Positive Rate')\n",
    "plt.ylabel('True Positive Rate')\n",
    "plt.title('ROC Curve')\n",
    "plt.legend(loc='lower right')\n",
    "plt.grid(True)\n",
    "plt.show()"
   ]
  },
  {
   "cell_type": "code",
   "execution_count": 18,
   "id": "ac345773",
   "metadata": {
    "execution": {
     "iopub.execute_input": "2025-07-02T17:30:29.400829Z",
     "iopub.status.busy": "2025-07-02T17:30:29.400553Z",
     "iopub.status.idle": "2025-07-02T17:30:29.528829Z",
     "shell.execute_reply": "2025-07-02T17:30:29.528068Z"
    },
    "papermill": {
     "duration": 0.86187,
     "end_time": "2025-07-02T17:30:29.530002",
     "exception": false,
     "start_time": "2025-07-02T17:30:28.668132",
     "status": "completed"
    },
    "tags": []
   },
   "outputs": [
    {
     "data": {
      "image/png": "[encoded data removed]",
      "text/plain": [
       "<Figure size 640x480 with 1 Axes>"
      ]
     },
     "metadata": {},
     "output_type": "display_data"
    }
   ],
   "source": [
    "from sklearn.metrics import det_curve, DetCurveDisplay\n",
    "\n",
    "# Compute DET curve data\n",
    "fpr_det, fnr_det, det_thresholds = det_curve(y_true, y_score)\n",
    "\n",
    "# Plot DET curve using Display\n",
    "import matplotlib.pyplot as plt\n",
    "\n",
    "disp = DetCurveDisplay(fpr=fpr_det, fnr=fnr_det, estimator_name=\"BiLSTM\")\n",
    "disp.plot()\n",
    "plt.title(\"Detection Error Tradeoff (DET) Curve\")\n",
    "plt.grid(True)\n",
    "plt.show()\n"
   ]
  },
  {
   "cell_type": "code",
   "execution_count": 19,
   "id": "255c89dd",
   "metadata": {
    "execution": {
     "iopub.execute_input": "2025-07-02T17:30:31.009565Z",
     "iopub.status.busy": "2025-07-02T17:30:31.009287Z",
     "iopub.status.idle": "2025-07-02T17:30:31.012842Z",
     "shell.execute_reply": "2025-07-02T17:30:31.012169Z"
    },
    "papermill": {
     "duration": 0.744877,
     "end_time": "2025-07-02T17:30:31.013930",
     "exception": false,
     "start_time": "2025-07-02T17:30:30.269053",
     "status": "completed"
    },
    "tags": []
   },
   "outputs": [],
   "source": [
    "# from sklearn.metrics import det_curve\n",
    "# import numpy as np\n",
    "\n",
    "# # Compute DET curve arrays\n",
    "# fpr_det, fnr_det, det_thresholds = det_curve(y_true, y_score)\n",
    "\n",
    "# # Display summary\n",
    "# print(\"Number of thresholds:\", len(det_thresholds))\n",
    "# for i in range(min(10, len(det_thresholds))):\n",
    "#     print(f\"Thresh ≥ {det_thresholds[i]:.4f}: FPR = {fpr_det[i]:.4f}, FNR = {fnr_det[i]:.4f}\")\n"
   ]
  },
  {
   "cell_type": "code",
   "execution_count": 20,
   "id": "403fb817",
   "metadata": {
    "execution": {
     "iopub.execute_input": "2025-07-02T17:30:32.422337Z",
     "iopub.status.busy": "2025-07-02T17:30:32.421484Z",
     "iopub.status.idle": "2025-07-02T17:30:32.636445Z",
     "shell.execute_reply": "2025-07-02T17:30:32.635774Z"
    },
    "papermill": {
     "duration": 0.949972,
     "end_time": "2025-07-02T17:30:32.637732",
     "exception": false,
     "start_time": "2025-07-02T17:30:31.687760",
     "status": "completed"
    },
    "tags": []
   },
   "outputs": [
    {
     "data": {
      "image/png": "[encoded data removed]",
      "text/plain": [
       "<Figure size 640x480 with 2 Axes>"
      ]
     },
     "metadata": {},
     "output_type": "display_data"
    }
   ],
   "source": [
    "from sklearn.metrics import confusion_matrix, ConfusionMatrixDisplay\n",
    "import matplotlib.pyplot as plt\n",
    "\n",
    "# Set correct class names\n",
    "class_names = [\"Fake\", \"Real\"]  # 0 = Fake, 1 = Real\n",
    "\n",
    "# Create confusion matrix\n",
    "cm = confusion_matrix(act_labels, pred_labels)\n",
    "\n",
    "# Display it\n",
    "disp = ConfusionMatrixDisplay(confusion_matrix=cm, display_labels=class_names)\n",
    "disp.plot(values_format='d')\n",
    "\n",
    "plt.title(\"Confusion Matrix\")\n",
    "plt.xlabel(\"Predicted Label\")\n",
    "plt.ylabel(\"True Label\")\n",
    "plt.grid(False)\n",
    "plt.tight_layout()\n",
    "plt.show()\n"
   ]
  }
 ],
 "metadata": {
  "kaggle": {
   "accelerator": "gpu",
   "dataSources": [
    {
     "datasetId": 7779624,
     "sourceId": 12340636,
     "sourceType": "datasetVersion"
    },
    {
     "datasetId": 7779594,
     "sourceId": 12340597,
     "sourceType": "datasetVersion"
    }
   ],
   "isGpuEnabled": true,
   "isInternetEnabled": true,
   "language": "python",
   "sourceType": "notebook"
  },
  "kernelspec": {
   "display_name": "Python 3",
   "language": "python",
   "name": "python3"
  },
  "language_info": {
   "codemirror_mode": {
    "name": "ipython",
    "version": 3
   },
   "file_extension": ".py",
   "mimetype": "text/x-python",
   "name": "python",
   "nbconvert_exporter": "python",
   "pygments_lexer": "ipython3",
   "version": "3.11.11"
  },
  "papermill": {
   "default_parameters": {},
   "duration": 2119.395601,
   "end_time": "2025-07-02T17:30:36.899818",
   "environment_variables": {},
   "exception": null,
   "input_path": "__notebook__.ipynb",
   "output_path": "__notebook__.ipynb",
   "parameters": {},
   "start_time": "2025-07-02T16:55:17.504217",
   "version": "2.4.0"
  }
 },
 "nbformat": 4,
 "nbformat_minor": 5
}
