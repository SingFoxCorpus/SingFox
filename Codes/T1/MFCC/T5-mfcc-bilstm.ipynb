{
 "cells": [
  {
   "cell_type": "code",
   "execution_count": 1,
   "id": "b178865d",
   "metadata": {
    "execution": {
     "iopub.execute_input": "2025-07-02T18:29:38.153544Z",
     "iopub.status.busy": "2025-07-02T18:29:38.153288Z",
     "iopub.status.idle": "2025-07-02T18:29:44.507430Z",
     "shell.execute_reply": "2025-07-02T18:29:44.506624Z"
    },
    "papermill": {
     "duration": 6.36062,
     "end_time": "2025-07-02T18:29:44.508916",
     "exception": false,
     "start_time": "2025-07-02T18:29:38.148296",
     "status": "completed"
    },
    "tags": []
   },
   "outputs": [],
   "source": [
    "import torch \n",
    "import torch.nn as nn\n",
    "import torch.nn.functional as F\n",
    "from torch.autograd import Variable\n",
    "from torch.utils.data import Dataset, DataLoader\n",
    "import os, pathlib, glob, random\n",
    "import numpy as np\n",
    "import matplotlib.pyplot as plt \n",
    "from sklearn.metrics import confusion_matrix\n",
    "import scipy\n",
    "from scipy import io"
   ]
  },
  {
   "cell_type": "code",
   "execution_count": 2,
   "id": "1ba7e9cb",
   "metadata": {
    "execution": {
     "iopub.execute_input": "2025-07-02T18:29:44.516519Z",
     "iopub.status.busy": "2025-07-02T18:29:44.516199Z",
     "iopub.status.idle": "2025-07-02T18:29:44.577669Z",
     "shell.execute_reply": "2025-07-02T18:29:44.576847Z"
    },
    "papermill": {
     "duration": 0.066355,
     "end_time": "2025-07-02T18:29:44.578834",
     "exception": false,
     "start_time": "2025-07-02T18:29:44.512479",
     "status": "completed"
    },
    "tags": []
   },
   "outputs": [
    {
     "name": "stdout",
     "output_type": "stream",
     "text": [
      "cuda:0\n"
     ]
    }
   ],
   "source": [
    "device = torch.device('cuda:0' if torch.cuda.is_available() else 'cpu')\n",
    "print(device)"
   ]
  },
  {
   "cell_type": "code",
   "execution_count": 3,
   "id": "39e0ee11",
   "metadata": {
    "execution": {
     "iopub.execute_input": "2025-07-02T18:29:44.586471Z",
     "iopub.status.busy": "2025-07-02T18:29:44.586238Z",
     "iopub.status.idle": "2025-07-02T18:29:44.589606Z",
     "shell.execute_reply": "2025-07-02T18:29:44.589045Z"
    },
    "papermill": {
     "duration": 0.008253,
     "end_time": "2025-07-02T18:29:44.590625",
     "exception": false,
     "start_time": "2025-07-02T18:29:44.582372",
     "status": "completed"
    },
    "tags": []
   },
   "outputs": [],
   "source": [
    "batch_size = 32\n",
    "output_nodes = 2\n",
    "learning_rate = 0.003"
   ]
  },
  {
   "cell_type": "code",
   "execution_count": 4,
   "id": "5b780b83",
   "metadata": {
    "execution": {
     "iopub.execute_input": "2025-07-02T18:29:44.598046Z",
     "iopub.status.busy": "2025-07-02T18:29:44.597829Z",
     "iopub.status.idle": "2025-07-02T18:29:47.804616Z",
     "shell.execute_reply": "2025-07-02T18:29:47.803747Z"
    },
    "papermill": {
     "duration": 3.212069,
     "end_time": "2025-07-02T18:29:47.805876",
     "exception": false,
     "start_time": "2025-07-02T18:29:44.593807",
     "status": "completed"
    },
    "tags": []
   },
   "outputs": [
    {
     "name": "stdout",
     "output_type": "stream",
     "text": [
      "Training samples: 82407\n",
      "Validation samples: 17657\n",
      "Testing samples: 17662\n"
     ]
    }
   ],
   "source": [
    "import os\n",
    "import random\n",
    "import scipy.io\n",
    "import numpy as np\n",
    "from torch.utils.data import Dataset, DataLoader\n",
    "\n",
    "# Paths for both datasets\n",
    "train_data_paths = [\n",
    "    r\"/kaggle/input/singfox-t2-mfcc-icassp/MFCC_T2/mfcc/train\", #,  # Language 1\n",
    "    r\"/kaggle/input/singfox-t1-mfcc-icassp/MFCC_T1/mfcc/train\"   # Language 2\n",
    "]\n",
    "validation_data_paths = [\n",
    "    r\"/kaggle/input/singfox-t2-mfcc-icassp/MFCC_T2/mfcc/val\", #,\n",
    "    r\"/kaggle/input/singfox-t1-mfcc-icassp/MFCC_T1/mfcc/val\"\n",
    "]\n",
    "testing_data_paths = [\n",
    "    r\"/kaggle/input/singfox-t2-mfcc-icassp/MFCC_T2/mfcc/test\", #,\n",
    "    r\"/kaggle/input/singfox-t1-mfcc-icassp/MFCC_T1/mfcc/test\"\n",
    "]\n",
    "\n",
    "class MixedPtDataset(Dataset):\n",
    "    def __init__(self, directories):\n",
    "        \"\"\"Load features from multiple directories.\"\"\"\n",
    "        self.files = []\n",
    "        self.class_to_idx = {}\n",
    "\n",
    "        for directory in directories:\n",
    "            classes = sorted(entry.name for entry in os.scandir(directory) if entry.is_dir())\n",
    "            \n",
    "            # Assign class indices if not already assigned\n",
    "            for c in classes:\n",
    "                if c not in self.class_to_idx:\n",
    "                    self.class_to_idx[c] = len(self.class_to_idx)\n",
    "\n",
    "            for c in classes:\n",
    "                c_dir = os.path.join(directory, c)\n",
    "                c_files = [(os.path.join(c_dir, f), self.class_to_idx[c]) for f in os.listdir(c_dir)]\n",
    "                self.files.extend(c_files)\n",
    "\n",
    "        random.shuffle(self.files)\n",
    "\n",
    "    def __len__(self):\n",
    "        return len(self.files)\n",
    "\n",
    "    def __getitem__(self, idx):\n",
    "        filepath, label = self.files[idx]\n",
    "        try:\n",
    "            mat_vals = scipy.io.loadmat(filepath)\n",
    "            data = mat_vals['final'].T\n",
    "            max_len = 200\n",
    "            if max_len > data.shape[0]:\n",
    "                pad_width = max_len - data.shape[0]\n",
    "                data = np.pad(data, pad_width=((0, pad_width), (0, 0)), mode='constant')\n",
    "            else:\n",
    "                data = data[:max_len, :]\n",
    "        except Exception as e:\n",
    "            print(f\"Error loading file {filepath}: {str(e)}\")\n",
    "            return None\n",
    "        return data, label\n",
    "\n",
    "# Combine both datasets\n",
    "train_dataset = MixedPtDataset(train_data_paths)\n",
    "val_dataset = MixedPtDataset(validation_data_paths)\n",
    "test_dataset = MixedPtDataset(testing_data_paths)\n",
    "\n",
    "class PtDataLoader(DataLoader):\n",
    "    def __init__(self, directories, batch_size, shuffle=True):\n",
    "        dataset = MixedPtDataset(directories)\n",
    "        super().__init__(dataset, batch_size=batch_size, shuffle=shuffle)\n",
    "\n",
    "# Load mixed datasets\n",
    "batch_size = 32\n",
    "train_dataloader = PtDataLoader(directories=train_data_paths, batch_size=batch_size)\n",
    "val_dataloader = PtDataLoader(directories=validation_data_paths, batch_size=batch_size)\n",
    "test_dataloader = PtDataLoader(directories=testing_data_paths, batch_size=batch_size)\n",
    "\n",
    "train_count = len(train_dataset)\n",
    "val_count = len(val_dataset)\n",
    "test_count = len(test_dataset)\n",
    "\n",
    "print(f\"Training samples: {train_count}\\nValidation samples: {val_count}\\nTesting samples: {test_count}\")\n"
   ]
  },
  {
   "cell_type": "code",
   "execution_count": 5,
   "id": "118f50fc",
   "metadata": {
    "execution": {
     "iopub.execute_input": "2025-07-02T18:29:47.813816Z",
     "iopub.status.busy": "2025-07-02T18:29:47.813337Z",
     "iopub.status.idle": "2025-07-02T18:29:47.817270Z",
     "shell.execute_reply": "2025-07-02T18:29:47.816643Z"
    },
    "papermill": {
     "duration": 0.008936,
     "end_time": "2025-07-02T18:29:47.818408",
     "exception": false,
     "start_time": "2025-07-02T18:29:47.809472",
     "status": "completed"
    },
    "tags": []
   },
   "outputs": [
    {
     "name": "stdout",
     "output_type": "stream",
     "text": [
      "82407\n",
      "17662\n",
      "17657\n"
     ]
    }
   ],
   "source": [
    "print(train_count)\n",
    "print(test_count)\n",
    "print(val_count)"
   ]
  },
  {
   "cell_type": "code",
   "execution_count": 6,
   "id": "72b8313f",
   "metadata": {
    "execution": {
     "iopub.execute_input": "2025-07-02T18:29:47.825866Z",
     "iopub.status.busy": "2025-07-02T18:29:47.825367Z",
     "iopub.status.idle": "2025-07-02T18:29:47.828835Z",
     "shell.execute_reply": "2025-07-02T18:29:47.828202Z"
    },
    "papermill": {
     "duration": 0.008178,
     "end_time": "2025-07-02T18:29:47.829975",
     "exception": false,
     "start_time": "2025-07-02T18:29:47.821797",
     "status": "completed"
    },
    "tags": []
   },
   "outputs": [],
   "source": [
    "import torch\n",
    "from torch import nn\n",
    "from torch.nn import Parameter\n",
    "import torch.nn.functional as F"
   ]
  },
  {
   "cell_type": "code",
   "execution_count": 7,
   "id": "c1f90b11",
   "metadata": {
    "execution": {
     "iopub.execute_input": "2025-07-02T18:29:47.837078Z",
     "iopub.status.busy": "2025-07-02T18:29:47.836876Z",
     "iopub.status.idle": "2025-07-02T18:29:47.840064Z",
     "shell.execute_reply": "2025-07-02T18:29:47.839452Z"
    },
    "papermill": {
     "duration": 0.008015,
     "end_time": "2025-07-02T18:29:47.841130",
     "exception": false,
     "start_time": "2025-07-02T18:29:47.833115",
     "status": "completed"
    },
    "tags": []
   },
   "outputs": [],
   "source": [
    "# Define the parameters\n",
    "input_size = 20\n",
    "hidden_size = 256\n",
    "num_layers = 2\n",
    "num_classes = 2\n",
    "# drop_amount = 0.25  # You can choose an appropriate dropout rate"
   ]
  },
  {
   "cell_type": "code",
   "execution_count": 8,
   "id": "73fabd2c",
   "metadata": {
    "execution": {
     "iopub.execute_input": "2025-07-02T18:29:47.847950Z",
     "iopub.status.busy": "2025-07-02T18:29:47.847769Z",
     "iopub.status.idle": "2025-07-02T18:29:47.850898Z",
     "shell.execute_reply": "2025-07-02T18:29:47.850374Z"
    },
    "papermill": {
     "duration": 0.007753,
     "end_time": "2025-07-02T18:29:47.851970",
     "exception": false,
     "start_time": "2025-07-02T18:29:47.844217",
     "status": "completed"
    },
    "tags": []
   },
   "outputs": [],
   "source": [
    "import torch\n",
    "import torch.nn as nn\n",
    "import torch.optim as optim"
   ]
  },
  {
   "cell_type": "code",
   "execution_count": 9,
   "id": "24797364",
   "metadata": {
    "execution": {
     "iopub.execute_input": "2025-07-02T18:29:47.859433Z",
     "iopub.status.busy": "2025-07-02T18:29:47.858884Z",
     "iopub.status.idle": "2025-07-02T18:30:13.314050Z",
     "shell.execute_reply": "2025-07-02T18:30:13.313448Z"
    },
    "papermill": {
     "duration": 25.460239,
     "end_time": "2025-07-02T18:30:13.315412",
     "exception": false,
     "start_time": "2025-07-02T18:29:47.855173",
     "status": "completed"
    },
    "tags": []
   },
   "outputs": [
    {
     "name": "stderr",
     "output_type": "stream",
     "text": [
      "2025-07-02 18:30:00.774976: E external/local_xla/xla/stream_executor/cuda/cuda_fft.cc:477] Unable to register cuFFT factory: Attempting to register factory for plugin cuFFT when one has already been registered\n",
      "WARNING: All log messages before absl::InitializeLog() is called are written to STDERR\n",
      "E0000 00:00:1751481000.998608      19 cuda_dnn.cc:8310] Unable to register cuDNN factory: Attempting to register factory for plugin cuDNN when one has already been registered\n",
      "E0000 00:00:1751481001.059726      19 cuda_blas.cc:1418] Unable to register cuBLAS factory: Attempting to register factory for plugin cuBLAS when one has already been registered\n"
     ]
    }
   ],
   "source": [
    "import torch \n",
    "import torch.nn as nn\n",
    "import torch.nn.functional as F\n",
    "from torch.autograd import Variable\n",
    "from torch.utils.data import Dataset, DataLoader\n",
    "import os, pathlib, glob, random\n",
    "import numpy as np\n",
    "import matplotlib.pyplot as plt \n",
    "import seaborn as sns\n",
    "from sklearn.metrics import confusion_matrix\n",
    "from transformers import WhisperProcessor, WhisperForConditionalGeneration\n",
    "from datasets import load_dataset\n",
    "from transformers.models.whisper.modeling_whisper import WhisperModel, WhisperEncoder\n",
    "from transformers.models.whisper.configuration_whisper import WhisperConfig\n",
    "from typing import Optional, Tuple, Union\n",
    "import torch\n",
    "import librosa \n",
    "import matplotlib.pyplot as plt\n",
    "import numpy as np\n",
    "import os, glob, pickle\n",
    "import scipy.io as sio\n",
    "from tqdm import tqdm\n",
    "import multiprocessing as mp \n",
    "import torch.optim as optim"
   ]
  },
  {
   "cell_type": "code",
   "execution_count": 10,
   "id": "9f2b6399",
   "metadata": {
    "execution": {
     "iopub.execute_input": "2025-07-02T18:30:13.323570Z",
     "iopub.status.busy": "2025-07-02T18:30:13.323098Z",
     "iopub.status.idle": "2025-07-02T18:30:13.326411Z",
     "shell.execute_reply": "2025-07-02T18:30:13.325889Z"
    },
    "papermill": {
     "duration": 0.008399,
     "end_time": "2025-07-02T18:30:13.327441",
     "exception": false,
     "start_time": "2025-07-02T18:30:13.319042",
     "status": "completed"
    },
    "tags": []
   },
   "outputs": [],
   "source": [
    "# BiLSTM"
   ]
  },
  {
   "cell_type": "code",
   "execution_count": 11,
   "id": "3f2fdf4f",
   "metadata": {
    "execution": {
     "iopub.execute_input": "2025-07-02T18:30:13.334493Z",
     "iopub.status.busy": "2025-07-02T18:30:13.334291Z",
     "iopub.status.idle": "2025-07-02T18:30:13.339793Z",
     "shell.execute_reply": "2025-07-02T18:30:13.339278Z"
    },
    "papermill": {
     "duration": 0.010095,
     "end_time": "2025-07-02T18:30:13.340692",
     "exception": false,
     "start_time": "2025-07-02T18:30:13.330597",
     "status": "completed"
    },
    "tags": []
   },
   "outputs": [],
   "source": [
    "drop_amount = 0.255\n",
    "\n",
    "class BiLSTMClassifier(nn.Module):\n",
    "    def __init__(self, input_size, hidden_size, num_layers, num_classes):\n",
    "        super(BiLSTMClassifier, self).__init__()\n",
    "        self.hidden_size = hidden_size\n",
    "        self.num_layers = num_layers\n",
    "        self.lstm = nn.LSTM(input_size, hidden_size, num_layers, batch_first=True, bidirectional=True)\n",
    "        self.dropout = nn.Dropout(p=drop_amount)\n",
    "        self.fc = nn.Linear(hidden_size*2, num_classes)\n",
    "\n",
    "    def forward(self, x):\n",
    "        h0 = torch.zeros(self.num_layers*2, x.size(0), self.hidden_size).to(device=x.device, dtype=torch.double)\n",
    "        c0 = torch.zeros(self.num_layers*2, x.size(0), self.hidden_size).to(device=x.device, dtype=torch.double)\n",
    "        out, _ = self.lstm(x, (h0, c0))\n",
    "        out = self.dropout(out)\n",
    "        # Extract the output of the last time step from both directions\n",
    "        last_hidden_state = torch.cat((out[:, -1, :self.hidden_size], out[:, 0, self.hidden_size:]), dim=1)\n",
    "        output = self.fc(last_hidden_state)\n",
    "        return output"
   ]
  },
  {
   "cell_type": "code",
   "execution_count": 12,
   "id": "10a8470c",
   "metadata": {
    "execution": {
     "iopub.execute_input": "2025-07-02T18:30:13.347883Z",
     "iopub.status.busy": "2025-07-02T18:30:13.347655Z",
     "iopub.status.idle": "2025-07-02T18:30:13.350879Z",
     "shell.execute_reply": "2025-07-02T18:30:13.350198Z"
    },
    "papermill": {
     "duration": 0.008056,
     "end_time": "2025-07-02T18:30:13.351959",
     "exception": false,
     "start_time": "2025-07-02T18:30:13.343903",
     "status": "completed"
    },
    "tags": []
   },
   "outputs": [],
   "source": [
    "batch_size = 32\n",
    "output_nodes = 2\n",
    "learning_rate = 0.003"
   ]
  },
  {
   "cell_type": "code",
   "execution_count": 13,
   "id": "e9179889",
   "metadata": {
    "execution": {
     "iopub.execute_input": "2025-07-02T18:30:13.359107Z",
     "iopub.status.busy": "2025-07-02T18:30:13.358683Z",
     "iopub.status.idle": "2025-07-02T18:30:13.630204Z",
     "shell.execute_reply": "2025-07-02T18:30:13.629331Z"
    },
    "papermill": {
     "duration": 0.27631,
     "end_time": "2025-07-02T18:30:13.631387",
     "exception": false,
     "start_time": "2025-07-02T18:30:13.355077",
     "status": "completed"
    },
    "tags": []
   },
   "outputs": [
    {
     "name": "stdout",
     "output_type": "stream",
     "text": [
      "BiLSTMClassifier(\n",
      "  (lstm): LSTM(20, 256, num_layers=2, batch_first=True, bidirectional=True)\n",
      "  (dropout): Dropout(p=0.255, inplace=False)\n",
      "  (fc): Linear(in_features=512, out_features=2, bias=True)\n",
      ")\n"
     ]
    }
   ],
   "source": [
    "model = BiLSTMClassifier(input_size, hidden_size, num_layers, num_classes)\n",
    "model.to(device, dtype=torch.double)\n",
    "loss_function = nn.CrossEntropyLoss()\n",
    "optimizer = optim.Adam(model.parameters(), lr=learning_rate)\n",
    "print(model)"
   ]
  },
  {
   "cell_type": "code",
   "execution_count": 14,
   "id": "107e1ad5",
   "metadata": {
    "execution": {
     "iopub.execute_input": "2025-07-02T18:30:13.639448Z",
     "iopub.status.busy": "2025-07-02T18:30:13.638848Z",
     "iopub.status.idle": "2025-07-02T18:30:13.642858Z",
     "shell.execute_reply": "2025-07-02T18:30:13.642166Z"
    },
    "papermill": {
     "duration": 0.009026,
     "end_time": "2025-07-02T18:30:13.643992",
     "exception": false,
     "start_time": "2025-07-02T18:30:13.634966",
     "status": "completed"
    },
    "tags": []
   },
   "outputs": [
    {
     "name": "stdout",
     "output_type": "stream",
     "text": [
      "BiLSTMClassifier(\n",
      "  (lstm): LSTM(20, 256, num_layers=2, batch_first=True, bidirectional=True)\n",
      "  (dropout): Dropout(p=0.255, inplace=False)\n",
      "  (fc): Linear(in_features=512, out_features=2, bias=True)\n",
      ")\n"
     ]
    }
   ],
   "source": [
    "print(model)"
   ]
  },
  {
   "cell_type": "code",
   "execution_count": 15,
   "id": "d0f01ce4",
   "metadata": {
    "execution": {
     "iopub.execute_input": "2025-07-02T18:30:13.652239Z",
     "iopub.status.busy": "2025-07-02T18:30:13.652042Z",
     "iopub.status.idle": "2025-07-02T20:33:28.222002Z",
     "shell.execute_reply": "2025-07-02T20:33:28.220959Z"
    },
    "papermill": {
     "duration": 7394.575953,
     "end_time": "2025-07-02T20:33:28.223406",
     "exception": false,
     "start_time": "2025-07-02T18:30:13.647453",
     "status": "completed"
    },
    "tags": []
   },
   "outputs": [
    {
     "name": "stdout",
     "output_type": "stream",
     "text": [
      "\n",
      "Epoch 1/20 - Training...\n"
     ]
    },
    {
     "name": "stderr",
     "output_type": "stream",
     "text": [
      "Training Batches: 100%|██████████| 2576/2576 [16:50<00:00,  2.55it/s]\n"
     ]
    },
    {
     "name": "stdout",
     "output_type": "stream",
     "text": [
      "Epoch 1/20 - Validation...\n"
     ]
    },
    {
     "name": "stderr",
     "output_type": "stream",
     "text": [
      "Validation Batches: 100%|██████████| 552/552 [02:22<00:00,  3.89it/s]\n"
     ]
    },
    {
     "name": "stdout",
     "output_type": "stream",
     "text": [
      "Epoch: 1/20   Train Loss: 0.4827   Train Accuracy: 0.7488   Validation Accuracy: 0.7704\n",
      "\n",
      "Epoch 2/20 - Training...\n"
     ]
    },
    {
     "name": "stderr",
     "output_type": "stream",
     "text": [
      "Training Batches: 100%|██████████| 2576/2576 [04:49<00:00,  8.90it/s]\n"
     ]
    },
    {
     "name": "stdout",
     "output_type": "stream",
     "text": [
      "Epoch 2/20 - Validation...\n"
     ]
    },
    {
     "name": "stderr",
     "output_type": "stream",
     "text": [
      "Validation Batches: 100%|██████████| 552/552 [00:30<00:00, 17.95it/s]\n"
     ]
    },
    {
     "name": "stdout",
     "output_type": "stream",
     "text": [
      "Epoch: 2/20   Train Loss: 0.4469   Train Accuracy: 0.7737   Validation Accuracy: 0.7724\n",
      "\n",
      "Epoch 3/20 - Training...\n"
     ]
    },
    {
     "name": "stderr",
     "output_type": "stream",
     "text": [
      "Training Batches: 100%|██████████| 2576/2576 [04:59<00:00,  8.59it/s]\n"
     ]
    },
    {
     "name": "stdout",
     "output_type": "stream",
     "text": [
      "Epoch 3/20 - Validation...\n"
     ]
    },
    {
     "name": "stderr",
     "output_type": "stream",
     "text": [
      "Validation Batches: 100%|██████████| 552/552 [00:34<00:00, 15.85it/s]\n"
     ]
    },
    {
     "name": "stdout",
     "output_type": "stream",
     "text": [
      "Epoch: 3/20   Train Loss: 0.4338   Train Accuracy: 0.7803   Validation Accuracy: 0.7866\n",
      "\n",
      "Epoch 4/20 - Training...\n"
     ]
    },
    {
     "name": "stderr",
     "output_type": "stream",
     "text": [
      "Training Batches: 100%|██████████| 2576/2576 [05:10<00:00,  8.29it/s]\n"
     ]
    },
    {
     "name": "stdout",
     "output_type": "stream",
     "text": [
      "Epoch 4/20 - Validation...\n"
     ]
    },
    {
     "name": "stderr",
     "output_type": "stream",
     "text": [
      "Validation Batches: 100%|██████████| 552/552 [00:32<00:00, 17.18it/s]\n"
     ]
    },
    {
     "name": "stdout",
     "output_type": "stream",
     "text": [
      "Epoch: 4/20   Train Loss: 0.4218   Train Accuracy: 0.7871   Validation Accuracy: 0.7905\n",
      "\n",
      "Epoch 5/20 - Training...\n"
     ]
    },
    {
     "name": "stderr",
     "output_type": "stream",
     "text": [
      "Training Batches: 100%|██████████| 2576/2576 [04:50<00:00,  8.88it/s]\n"
     ]
    },
    {
     "name": "stdout",
     "output_type": "stream",
     "text": [
      "Epoch 5/20 - Validation...\n"
     ]
    },
    {
     "name": "stderr",
     "output_type": "stream",
     "text": [
      "Validation Batches: 100%|██████████| 552/552 [00:34<00:00, 15.96it/s]\n"
     ]
    },
    {
     "name": "stdout",
     "output_type": "stream",
     "text": [
      "Epoch: 5/20   Train Loss: 0.4108   Train Accuracy: 0.7922   Validation Accuracy: 0.7952\n",
      "\n",
      "Epoch 6/20 - Training...\n"
     ]
    },
    {
     "name": "stderr",
     "output_type": "stream",
     "text": [
      "Training Batches: 100%|██████████| 2576/2576 [04:54<00:00,  8.74it/s]\n"
     ]
    },
    {
     "name": "stdout",
     "output_type": "stream",
     "text": [
      "Epoch 6/20 - Validation...\n"
     ]
    },
    {
     "name": "stderr",
     "output_type": "stream",
     "text": [
      "Validation Batches: 100%|██████████| 552/552 [00:32<00:00, 16.75it/s]\n"
     ]
    },
    {
     "name": "stdout",
     "output_type": "stream",
     "text": [
      "Epoch: 6/20   Train Loss: 0.4016   Train Accuracy: 0.7976   Validation Accuracy: 0.7959\n",
      "\n",
      "Epoch 7/20 - Training...\n"
     ]
    },
    {
     "name": "stderr",
     "output_type": "stream",
     "text": [
      "Training Batches: 100%|██████████| 2576/2576 [04:47<00:00,  8.95it/s]\n"
     ]
    },
    {
     "name": "stdout",
     "output_type": "stream",
     "text": [
      "Epoch 7/20 - Validation...\n"
     ]
    },
    {
     "name": "stderr",
     "output_type": "stream",
     "text": [
      "Validation Batches: 100%|██████████| 552/552 [00:32<00:00, 16.91it/s]\n"
     ]
    },
    {
     "name": "stdout",
     "output_type": "stream",
     "text": [
      "Epoch: 7/20   Train Loss: 0.3952   Train Accuracy: 0.7999   Validation Accuracy: 0.8002\n",
      "\n",
      "Epoch 8/20 - Training...\n"
     ]
    },
    {
     "name": "stderr",
     "output_type": "stream",
     "text": [
      "Training Batches: 100%|██████████| 2576/2576 [04:51<00:00,  8.84it/s]\n"
     ]
    },
    {
     "name": "stdout",
     "output_type": "stream",
     "text": [
      "Epoch 8/20 - Validation...\n"
     ]
    },
    {
     "name": "stderr",
     "output_type": "stream",
     "text": [
      "Validation Batches: 100%|██████████| 552/552 [00:38<00:00, 14.52it/s]\n"
     ]
    },
    {
     "name": "stdout",
     "output_type": "stream",
     "text": [
      "Epoch: 8/20   Train Loss: 0.3966   Train Accuracy: 0.8007   Validation Accuracy: 0.7983\n",
      "\n",
      "Epoch 9/20 - Training...\n"
     ]
    },
    {
     "name": "stderr",
     "output_type": "stream",
     "text": [
      "Training Batches: 100%|██████████| 2576/2576 [05:01<00:00,  8.54it/s]\n"
     ]
    },
    {
     "name": "stdout",
     "output_type": "stream",
     "text": [
      "Epoch 9/20 - Validation...\n"
     ]
    },
    {
     "name": "stderr",
     "output_type": "stream",
     "text": [
      "Validation Batches: 100%|██████████| 552/552 [00:32<00:00, 16.85it/s]\n"
     ]
    },
    {
     "name": "stdout",
     "output_type": "stream",
     "text": [
      "Epoch: 9/20   Train Loss: 0.3879   Train Accuracy: 0.8050   Validation Accuracy: 0.8036\n",
      "\n",
      "Epoch 10/20 - Training...\n"
     ]
    },
    {
     "name": "stderr",
     "output_type": "stream",
     "text": [
      "Training Batches: 100%|██████████| 2576/2576 [04:54<00:00,  8.73it/s]\n"
     ]
    },
    {
     "name": "stdout",
     "output_type": "stream",
     "text": [
      "Epoch 10/20 - Validation...\n"
     ]
    },
    {
     "name": "stderr",
     "output_type": "stream",
     "text": [
      "Validation Batches: 100%|██████████| 552/552 [00:31<00:00, 17.70it/s]\n"
     ]
    },
    {
     "name": "stdout",
     "output_type": "stream",
     "text": [
      "Epoch: 10/20   Train Loss: 0.3796   Train Accuracy: 0.8091   Validation Accuracy: 0.8056\n",
      "\n",
      "Epoch 11/20 - Training...\n"
     ]
    },
    {
     "name": "stderr",
     "output_type": "stream",
     "text": [
      "Training Batches: 100%|██████████| 2576/2576 [04:50<00:00,  8.88it/s]\n"
     ]
    },
    {
     "name": "stdout",
     "output_type": "stream",
     "text": [
      "Epoch 11/20 - Validation...\n"
     ]
    },
    {
     "name": "stderr",
     "output_type": "stream",
     "text": [
      "Validation Batches: 100%|██████████| 552/552 [00:31<00:00, 17.69it/s]\n"
     ]
    },
    {
     "name": "stdout",
     "output_type": "stream",
     "text": [
      "Epoch: 11/20   Train Loss: 0.3730   Train Accuracy: 0.8131   Validation Accuracy: 0.8073\n",
      "\n",
      "Epoch 12/20 - Training...\n"
     ]
    },
    {
     "name": "stderr",
     "output_type": "stream",
     "text": [
      "Training Batches: 100%|██████████| 2576/2576 [04:50<00:00,  8.86it/s]\n"
     ]
    },
    {
     "name": "stdout",
     "output_type": "stream",
     "text": [
      "Epoch 12/20 - Validation...\n"
     ]
    },
    {
     "name": "stderr",
     "output_type": "stream",
     "text": [
      "Validation Batches: 100%|██████████| 552/552 [00:31<00:00, 17.40it/s]\n"
     ]
    },
    {
     "name": "stdout",
     "output_type": "stream",
     "text": [
      "Epoch: 12/20   Train Loss: 0.3700   Train Accuracy: 0.8166   Validation Accuracy: 0.8047\n",
      "\n",
      "Epoch 13/20 - Training...\n"
     ]
    },
    {
     "name": "stderr",
     "output_type": "stream",
     "text": [
      "Training Batches: 100%|██████████| 2576/2576 [04:53<00:00,  8.78it/s]\n"
     ]
    },
    {
     "name": "stdout",
     "output_type": "stream",
     "text": [
      "Epoch 13/20 - Validation...\n"
     ]
    },
    {
     "name": "stderr",
     "output_type": "stream",
     "text": [
      "Validation Batches: 100%|██████████| 552/552 [00:31<00:00, 17.59it/s]\n"
     ]
    },
    {
     "name": "stdout",
     "output_type": "stream",
     "text": [
      "Epoch: 13/20   Train Loss: 0.3604   Train Accuracy: 0.8192   Validation Accuracy: 0.8073\n",
      "\n",
      "Epoch 14/20 - Training...\n"
     ]
    },
    {
     "name": "stderr",
     "output_type": "stream",
     "text": [
      "Training Batches: 100%|██████████| 2576/2576 [04:52<00:00,  8.80it/s]\n"
     ]
    },
    {
     "name": "stdout",
     "output_type": "stream",
     "text": [
      "Epoch 14/20 - Validation...\n"
     ]
    },
    {
     "name": "stderr",
     "output_type": "stream",
     "text": [
      "Validation Batches: 100%|██████████| 552/552 [00:31<00:00, 17.52it/s]\n"
     ]
    },
    {
     "name": "stdout",
     "output_type": "stream",
     "text": [
      "Epoch: 14/20   Train Loss: 0.3554   Train Accuracy: 0.8217   Validation Accuracy: 0.8106\n",
      "\n",
      "Epoch 15/20 - Training...\n"
     ]
    },
    {
     "name": "stderr",
     "output_type": "stream",
     "text": [
      "Training Batches: 100%|██████████| 2576/2576 [05:16<00:00,  8.15it/s]\n"
     ]
    },
    {
     "name": "stdout",
     "output_type": "stream",
     "text": [
      "Epoch 15/20 - Validation...\n"
     ]
    },
    {
     "name": "stderr",
     "output_type": "stream",
     "text": [
      "Validation Batches: 100%|██████████| 552/552 [00:33<00:00, 16.57it/s]\n"
     ]
    },
    {
     "name": "stdout",
     "output_type": "stream",
     "text": [
      "Epoch: 15/20   Train Loss: 0.3519   Train Accuracy: 0.8229   Validation Accuracy: 0.8077\n",
      "\n",
      "Epoch 16/20 - Training...\n"
     ]
    },
    {
     "name": "stderr",
     "output_type": "stream",
     "text": [
      "Training Batches: 100%|██████████| 2576/2576 [04:50<00:00,  8.88it/s]\n"
     ]
    },
    {
     "name": "stdout",
     "output_type": "stream",
     "text": [
      "Epoch 16/20 - Validation...\n"
     ]
    },
    {
     "name": "stderr",
     "output_type": "stream",
     "text": [
      "Validation Batches: 100%|██████████| 552/552 [00:31<00:00, 17.48it/s]\n"
     ]
    },
    {
     "name": "stdout",
     "output_type": "stream",
     "text": [
      "Epoch: 16/20   Train Loss: 0.3483   Train Accuracy: 0.8250   Validation Accuracy: 0.8095\n",
      "\n",
      "Epoch 17/20 - Training...\n"
     ]
    },
    {
     "name": "stderr",
     "output_type": "stream",
     "text": [
      "Training Batches: 100%|██████████| 2576/2576 [05:00<00:00,  8.57it/s]\n"
     ]
    },
    {
     "name": "stdout",
     "output_type": "stream",
     "text": [
      "Epoch 17/20 - Validation...\n"
     ]
    },
    {
     "name": "stderr",
     "output_type": "stream",
     "text": [
      "Validation Batches: 100%|██████████| 552/552 [00:34<00:00, 15.80it/s]\n"
     ]
    },
    {
     "name": "stdout",
     "output_type": "stream",
     "text": [
      "Epoch: 17/20   Train Loss: 0.3420   Train Accuracy: 0.8277   Validation Accuracy: 0.8099\n",
      "\n",
      "Epoch 18/20 - Training...\n"
     ]
    },
    {
     "name": "stderr",
     "output_type": "stream",
     "text": [
      "Training Batches: 100%|██████████| 2576/2576 [04:57<00:00,  8.67it/s]\n"
     ]
    },
    {
     "name": "stdout",
     "output_type": "stream",
     "text": [
      "Epoch 18/20 - Validation...\n"
     ]
    },
    {
     "name": "stderr",
     "output_type": "stream",
     "text": [
      "Validation Batches: 100%|██████████| 552/552 [00:32<00:00, 16.92it/s]\n"
     ]
    },
    {
     "name": "stdout",
     "output_type": "stream",
     "text": [
      "Epoch: 18/20   Train Loss: 0.3496   Train Accuracy: 0.8245   Validation Accuracy: 0.8066\n",
      "\n",
      "Epoch 19/20 - Training...\n"
     ]
    },
    {
     "name": "stderr",
     "output_type": "stream",
     "text": [
      "Training Batches: 100%|██████████| 2576/2576 [04:56<00:00,  8.68it/s]\n"
     ]
    },
    {
     "name": "stdout",
     "output_type": "stream",
     "text": [
      "Epoch 19/20 - Validation...\n"
     ]
    },
    {
     "name": "stderr",
     "output_type": "stream",
     "text": [
      "Validation Batches: 100%|██████████| 552/552 [00:34<00:00, 16.01it/s]\n"
     ]
    },
    {
     "name": "stdout",
     "output_type": "stream",
     "text": [
      "Epoch: 19/20   Train Loss: 0.3426   Train Accuracy: 0.8275   Validation Accuracy: 0.8057\n",
      "\n",
      "Epoch 20/20 - Training...\n"
     ]
    },
    {
     "name": "stderr",
     "output_type": "stream",
     "text": [
      "Training Batches: 100%|██████████| 2576/2576 [04:48<00:00,  8.93it/s]\n"
     ]
    },
    {
     "name": "stdout",
     "output_type": "stream",
     "text": [
      "Epoch 20/20 - Validation...\n"
     ]
    },
    {
     "name": "stderr",
     "output_type": "stream",
     "text": [
      "Validation Batches: 100%|██████████| 552/552 [00:31<00:00, 17.75it/s]"
     ]
    },
    {
     "name": "stdout",
     "output_type": "stream",
     "text": [
      "Epoch: 20/20   Train Loss: 0.3298   Train Accuracy: 0.8341   Validation Accuracy: 0.8108\n",
      "\n",
      "Maximum Validation Accuracy: 0.8108398935266466\n",
      "Finished Training and Validation\n"
     ]
    },
    {
     "name": "stderr",
     "output_type": "stream",
     "text": [
      "\n"
     ]
    }
   ],
   "source": [
    "from tqdm import tqdm\n",
    "import torch\n",
    "from torch.autograd import Variable\n",
    "\n",
    "# Model training and testing\n",
    "n_total_steps = len(train_dataloader)\n",
    "train_accuracy_list = []\n",
    "train_loss_list = []\n",
    "val_accuracy_list = []\n",
    "max_acc = 0\n",
    "num_epochs = 20\n",
    "pred_labels = []\n",
    "act_labels = []\n",
    "\n",
    "for epoch in range(num_epochs):\n",
    "    \n",
    "    # Training phase\n",
    "    model.train()\n",
    "    train_accuracy = 0.0\n",
    "    train_loss = 0.0\n",
    "    \n",
    "    print(f\"\\nEpoch {epoch + 1}/{num_epochs} - Training...\")\n",
    "    \n",
    "    # Use tqdm for progress bar in training loop\n",
    "    for batch_idx, (images, labels) in enumerate(tqdm(train_dataloader, desc=\"Training Batches\")):\n",
    "        if torch.cuda.is_available():\n",
    "            images = Variable(images.cuda())\n",
    "            labels = Variable(labels.cuda())\n",
    "        \n",
    "        optimizer.zero_grad()\n",
    "        outputs = model(images)\n",
    "        loss = loss_function(outputs, labels)\n",
    "        loss.backward()\n",
    "        optimizer.step()\n",
    "\n",
    "        train_loss += loss.cpu().data * images.size(0)\n",
    "        _, prediction = torch.max(outputs.data, 1)\n",
    "        train_accuracy += int(torch.sum(prediction == labels.data))\n",
    "    \n",
    "    train_accuracy = train_accuracy / train_count\n",
    "    train_loss = train_loss / train_count\n",
    "    \n",
    "    train_accuracy_list.append(train_accuracy)\n",
    "    train_loss_list.append(train_loss)\n",
    "\n",
    "    # Validation phase\n",
    "    model.eval()\n",
    "    val_accuracy = 0.0\n",
    "    pred = []\n",
    "    lab = []\n",
    "    \n",
    "    print(f\"Epoch {epoch + 1}/{num_epochs} - Validation...\")\n",
    "    \n",
    "    # Use tqdm for progress bar in validation loop\n",
    "    for i, (images, labels) in enumerate(tqdm(val_dataloader, desc=\"Validation Batches\")):\n",
    "        if torch.cuda.is_available():\n",
    "            images = Variable(images.cuda())\n",
    "            labels = Variable(labels.cuda())\n",
    "        \n",
    "        outputs = model(images)\n",
    "        _, prediction = torch.max(outputs.data, 1)\n",
    "        val_accuracy += int(torch.sum(prediction == labels.data))\n",
    "        \n",
    "        pred.extend(prediction.tolist())\n",
    "        lab.extend(labels.tolist())\n",
    "    \n",
    "    val_accuracy = val_accuracy / val_count\n",
    "    val_accuracy_list.append(val_accuracy)\n",
    "    \n",
    "    # Save best model\n",
    "    if max_acc < val_accuracy:\n",
    "        max_acc = val_accuracy\n",
    "        pred_labels = pred\n",
    "        actual_labels = lab\n",
    "        torch.save(model, \"best_accuracy_model_BiLSTM.pth\")\n",
    "    \n",
    "    print(f'Epoch: {epoch + 1}/{num_epochs}   '\n",
    "          f'Train Loss: {train_loss:.4f}   '\n",
    "          f'Train Accuracy: {train_accuracy:.4f}   '\n",
    "          f'Validation Accuracy: {val_accuracy:.4f}')\n",
    "\n",
    "print('\\nMaximum Validation Accuracy:', max_acc)\n",
    "print('Finished Training and Validation')\n"
   ]
  },
  {
   "cell_type": "code",
   "execution_count": 16,
   "id": "feef1488",
   "metadata": {
    "execution": {
     "iopub.execute_input": "2025-07-02T20:33:33.049390Z",
     "iopub.status.busy": "2025-07-02T20:33:33.049111Z",
     "iopub.status.idle": "2025-07-02T20:35:46.908116Z",
     "shell.execute_reply": "2025-07-02T20:35:46.907356Z"
    },
    "papermill": {
     "duration": 138.6568,
     "end_time": "2025-07-02T20:35:49.349463",
     "exception": false,
     "start_time": "2025-07-02T20:33:30.692663",
     "status": "completed"
    },
    "tags": []
   },
   "outputs": [
    {
     "name": "stdout",
     "output_type": "stream",
     "text": [
      "testing Accuracy: 0.8134979051070094\n"
     ]
    }
   ],
   "source": [
    "# Load the best model\n",
    "best_model = torch.load(\"best_accuracy_model_BiLSTM.pth\", weights_only=False)\n",
    "\n",
    "# Put the best_model in evaluation mode\n",
    "best_model.eval()\n",
    "\n",
    "# Initialize variables to store results\n",
    "testing_accuracy = 0.0\n",
    "pred_labels = []\n",
    "act_labels = []\n",
    "\n",
    "# Pass validation data through the best model\n",
    "for i, (images, labels) in enumerate(test_dataloader):\n",
    "    if torch.cuda.is_available():\n",
    "        images = Variable(images.cuda())\n",
    "        labels = Variable(labels.cuda())\n",
    "    \n",
    "    outputs = best_model(images)\n",
    "    _, prediction = torch.max(outputs.data, 1)\n",
    "    \n",
    "    testing_accuracy += int(torch.sum(prediction == labels.data))\n",
    "    \n",
    "    pred_labels.extend(prediction.tolist())\n",
    "    act_labels.extend(labels.tolist())\n",
    "\n",
    "# Calculate validation accuracy\n",
    "testing_accuracy = testing_accuracy / len(test_dataloader.dataset)\n",
    "\n",
    "# Print the validation accuracy\n",
    "print(\"testing Accuracy:\", testing_accuracy)"
   ]
  },
  {
   "cell_type": "code",
   "execution_count": 17,
   "id": "fd5edaa0",
   "metadata": {
    "execution": {
     "iopub.execute_input": "2025-07-02T20:35:54.124368Z",
     "iopub.status.busy": "2025-07-02T20:35:54.123808Z",
     "iopub.status.idle": "2025-07-02T20:36:25.537376Z",
     "shell.execute_reply": "2025-07-02T20:36:25.536592Z"
    },
    "papermill": {
     "duration": 36.050489,
     "end_time": "2025-07-02T20:36:27.761856",
     "exception": false,
     "start_time": "2025-07-02T20:35:51.711367",
     "status": "completed"
    },
    "tags": []
   },
   "outputs": [
    {
     "name": "stdout",
     "output_type": "stream",
     "text": [
      "Testing Accuracy     : 0.8135\n",
      "Precision            : 0.7618\n",
      "Recall               : 0.8705\n",
      "F1 Score (Macro)     : 0.8135\n",
      "F1 Score (Micro)     : 0.8135\n",
      "Hamming Loss         : 0.1865\n",
      "AUC                  : 0.8984\n",
      "EER                  : 0.1966 at threshold 0.5630\n"
     ]
    },
    {
     "data": {
      "image/png": "[encoded data removed]",
      "text/plain": [
       "<Figure size 640x480 with 1 Axes>"
      ]
     },
     "metadata": {},
     "output_type": "display_data"
    }
   ],
   "source": [
    "from sklearn.metrics import (accuracy_score, precision_score, recall_score, f1_score,\n",
    "                             roc_curve, auc, hamming_loss, confusion_matrix, roc_auc_score)\n",
    "import matplotlib.pyplot as plt\n",
    "import numpy as np\n",
    "# Load best model\n",
    "best_model = torch.load(\"best_accuracy_model_BiLSTM.pth\", weights_only=False)\n",
    "best_model.eval()\n",
    "\n",
    "pred_labels = []\n",
    "act_labels = []\n",
    "pred_probs = []\n",
    "\n",
    "# Evaluate\n",
    "for images, labels in test_dataloader:\n",
    "    if torch.cuda.is_available():\n",
    "        images = images.cuda()\n",
    "        labels = labels.cuda()\n",
    "    \n",
    "    with torch.no_grad():\n",
    "        outputs = best_model(images)\n",
    "        probs = torch.softmax(outputs, dim=1)[:, 1]  # probability for class 1\n",
    "        preds = torch.argmax(outputs, dim=1)\n",
    "    \n",
    "    pred_labels.extend(preds.cpu().tolist())\n",
    "    act_labels.extend(labels.cpu().tolist())\n",
    "    pred_probs.extend(probs.cpu().tolist())\n",
    "\n",
    "# Convert to NumPy\n",
    "y_true = np.array(act_labels)\n",
    "y_pred = np.array(pred_labels)\n",
    "y_score = np.array(pred_probs)\n",
    "\n",
    "# Basic Metrics\n",
    "acc = accuracy_score(y_true, y_pred)\n",
    "prec = precision_score(y_true, y_pred)\n",
    "rec = recall_score(y_true, y_pred)\n",
    "f1_macro = f1_score(y_true, y_pred, average='macro')\n",
    "f1_micro = f1_score(y_true, y_pred, average='micro')\n",
    "hamming = hamming_loss(y_true, y_pred)\n",
    "conf_mat = confusion_matrix(y_true, y_pred)\n",
    "\n",
    "# ROC and AUC\n",
    "fpr, tpr, thresholds = roc_curve(y_true, y_score)\n",
    "roc_auc = auc(fpr, tpr)\n",
    "\n",
    "# EER calculation\n",
    "fnr = 1 - tpr\n",
    "eer_threshold = thresholds[np.nanargmin(np.absolute(fnr - fpr))]\n",
    "eer = fpr[np.nanargmin(np.absolute(fnr - fpr))]\n",
    "\n",
    "# Print all\n",
    "print(f\"Testing Accuracy     : {acc:.4f}\")\n",
    "print(f\"Precision            : {prec:.4f}\")\n",
    "print(f\"Recall               : {rec:.4f}\")\n",
    "print(f\"F1 Score (Macro)     : {f1_macro:.4f}\")\n",
    "print(f\"F1 Score (Micro)     : {f1_micro:.4f}\")\n",
    "print(f\"Hamming Loss         : {hamming:.4f}\")\n",
    "# print(f\"Confusion Matrix     :\\n{conf_mat}\")\n",
    "print(f\"AUC                  : {roc_auc:.4f}\")\n",
    "print(f\"EER                  : {eer:.4f} at threshold {eer_threshold:.4f}\")\n",
    "\n",
    "# Optional: Plot ROC\n",
    "plt.figure()\n",
    "plt.plot(fpr, tpr, label=f'ROC curve (AUC = {roc_auc:.4f})')\n",
    "plt.plot([0, 1], [0, 1], 'k--')\n",
    "plt.xlabel('False Positive Rate')\n",
    "plt.ylabel('True Positive Rate')\n",
    "plt.title('ROC Curve')\n",
    "plt.legend(loc='lower right')\n",
    "plt.grid(True)\n",
    "plt.show()"
   ]
  },
  {
   "cell_type": "code",
   "execution_count": 18,
   "id": "4585f527",
   "metadata": {
    "execution": {
     "iopub.execute_input": "2025-07-02T20:36:32.629977Z",
     "iopub.status.busy": "2025-07-02T20:36:32.629194Z",
     "iopub.status.idle": "2025-07-02T20:36:32.766315Z",
     "shell.execute_reply": "2025-07-02T20:36:32.765472Z"
    },
    "papermill": {
     "duration": 2.55219,
     "end_time": "2025-07-02T20:36:32.767428",
     "exception": false,
     "start_time": "2025-07-02T20:36:30.215238",
     "status": "completed"
    },
    "tags": []
   },
   "outputs": [
    {
     "data": {
      "image/png": "[encoded data removed]",
      "text/plain": [
       "<Figure size 640x480 with 1 Axes>"
      ]
     },
     "metadata": {},
     "output_type": "display_data"
    }
   ],
   "source": [
    "from sklearn.metrics import det_curve, DetCurveDisplay\n",
    "\n",
    "# Compute DET curve data\n",
    "fpr_det, fnr_det, det_thresholds = det_curve(y_true, y_score)\n",
    "\n",
    "# Plot DET curve using Display\n",
    "import matplotlib.pyplot as plt\n",
    "\n",
    "disp = DetCurveDisplay(fpr=fpr_det, fnr=fnr_det, estimator_name=\"BiLSTM\")\n",
    "disp.plot()\n",
    "plt.title(\"Detection Error Tradeoff (DET) Curve\")\n",
    "plt.grid(True)\n",
    "plt.show()\n"
   ]
  },
  {
   "cell_type": "code",
   "execution_count": 19,
   "id": "124987f0",
   "metadata": {
    "execution": {
     "iopub.execute_input": "2025-07-02T20:36:37.575639Z",
     "iopub.status.busy": "2025-07-02T20:36:37.575181Z",
     "iopub.status.idle": "2025-07-02T20:36:37.578679Z",
     "shell.execute_reply": "2025-07-02T20:36:37.577949Z"
    },
    "papermill": {
     "duration": 2.341899,
     "end_time": "2025-07-02T20:36:37.579993",
     "exception": false,
     "start_time": "2025-07-02T20:36:35.238094",
     "status": "completed"
    },
    "tags": []
   },
   "outputs": [],
   "source": [
    "# from sklearn.metrics import det_curve\n",
    "# import numpy as np\n",
    "\n",
    "# # Compute DET curve arrays\n",
    "# fpr_det, fnr_det, det_thresholds = det_curve(y_true, y_score)\n",
    "\n",
    "# # Display summary\n",
    "# print(\"Number of thresholds:\", len(det_thresholds))\n",
    "# for i in range(min(10, len(det_thresholds))):\n",
    "#     print(f\"Thresh ≥ {det_thresholds[i]:.4f}: FPR = {fpr_det[i]:.4f}, FNR = {fnr_det[i]:.4f}\")\n"
   ]
  },
  {
   "cell_type": "code",
   "execution_count": 20,
   "id": "541a5f9d",
   "metadata": {
    "execution": {
     "iopub.execute_input": "2025-07-02T20:36:42.374971Z",
     "iopub.status.busy": "2025-07-02T20:36:42.374655Z",
     "iopub.status.idle": "2025-07-02T20:36:42.574731Z",
     "shell.execute_reply": "2025-07-02T20:36:42.574006Z"
    },
    "papermill": {
     "duration": 2.549998,
     "end_time": "2025-07-02T20:36:42.575919",
     "exception": false,
     "start_time": "2025-07-02T20:36:40.025921",
     "status": "completed"
    },
    "tags": []
   },
   "outputs": [
    {
     "data": {
      "image/png": "[encoded data removed]",
      "text/plain": [
       "<Figure size 640x480 with 2 Axes>"
      ]
     },
     "metadata": {},
     "output_type": "display_data"
    }
   ],
   "source": [
    "from sklearn.metrics import confusion_matrix, ConfusionMatrixDisplay\n",
    "import matplotlib.pyplot as plt\n",
    "\n",
    "# Set correct class names\n",
    "class_names = [\"Fake\", \"Real\"]  # 0 = Fake, 1 = Real\n",
    "\n",
    "# Create confusion matrix\n",
    "cm = confusion_matrix(act_labels, pred_labels)\n",
    "\n",
    "# Display it\n",
    "disp = ConfusionMatrixDisplay(confusion_matrix=cm, display_labels=class_names)\n",
    "disp.plot(values_format='d')\n",
    "\n",
    "plt.title(\"Confusion Matrix\")\n",
    "plt.xlabel(\"Predicted Label\")\n",
    "plt.ylabel(\"True Label\")\n",
    "plt.grid(False)\n",
    "plt.tight_layout()\n",
    "plt.show()\n"
   ]
  }
 ],
 "metadata": {
  "kaggle": {
   "accelerator": "gpu",
   "dataSources": [
    {
     "datasetId": 7779624,
     "sourceId": 12340636,
     "sourceType": "datasetVersion"
    },
    {
     "datasetId": 7779594,
     "sourceId": 12340597,
     "sourceType": "datasetVersion"
    }
   ],
   "isGpuEnabled": true,
   "isInternetEnabled": true,
   "language": "python",
   "sourceType": "notebook"
  },
  "kernelspec": {
   "display_name": "Python 3",
   "language": "python",
   "name": "python3"
  },
  "language_info": {
   "codemirror_mode": {
    "name": "ipython",
    "version": 3
   },
   "file_extension": ".py",
   "mimetype": "text/x-python",
   "name": "python",
   "nbconvert_exporter": "python",
   "pygments_lexer": "ipython3",
   "version": "3.11.11"
  },
  "papermill": {
   "default_parameters": {},
   "duration": 7634.110091,
   "end_time": "2025-07-02T20:36:47.789812",
   "environment_variables": {},
   "exception": null,
   "input_path": "__notebook__.ipynb",
   "output_path": "__notebook__.ipynb",
   "parameters": {},
   "start_time": "2025-07-02T18:29:33.679721",
   "version": "2.4.0"
  }
 },
 "nbformat": 4,
 "nbformat_minor": 5
}
